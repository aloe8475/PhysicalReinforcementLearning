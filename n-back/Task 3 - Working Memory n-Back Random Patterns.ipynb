{
 "cells": [
  {
   "cell_type": "code",
   "execution_count": 1,
   "metadata": {},
   "outputs": [
    {
     "name": "stderr",
     "output_type": "stream",
     "text": [
      "2022-07-14 14:02:45,739:INFO:Note: NumExpr detected 20 cores but \"NUMEXPR_MAX_THREADS\" not set, so enforcing safe limit of 8.\n"
     ]
    }
   ],
   "source": [
    "import sys\n",
    "import os\n",
    "\n",
    "sys.path.append('/import/silo2/aloe8475/Documents/edamame') #point to edamame locally\n",
    "sys.path.append('/import/silo2/aloe8475/Documents/CODE/Analysis/Training/Associative Learning/EquilProp') #point to edamame locally\n",
    "\n",
    "#Choose which nw:\n",
    "nwChoice=700 #350 or 700\n",
    "\n",
    "if nwChoice == 350:\n",
    "    fileName='/import/silo2/aloe8475/Documents/Data/Associative Learning/Sparse Networks/asn_nw_00350_nj_01350_seed_1581_avl_10.00_disp_01.00_lx_50.00_ly_50.00'\n",
    "elif nwChoice == 700:\n",
    "    fileName='/import/silo2/aloe8475/Documents/Data/Associative Learning/Sparse Networks/asn_nw_00698_nj_02582_seed_002_avl_10.00_disp_01.00_lx_75.00_ly_75.00'\n",
    "\n",
    "#point to network data path ^ \n",
    "\n",
    "saveFig='/import/silo2/aloe8475/Documents/Data/Figures/Equil Prop/' \n",
    "dataLoc='/import/silo2/aloe8475/Documents/Data/Associative Learning/EquilProp/'\n",
    "\n",
    "#import edamame (neuromorphic nanowire python package by Ruomin Zhu)\n",
    "from edamame import * \n",
    "import numpy as np\n",
    "import matplotlib.pyplot as plt\n",
    "import copy\n",
    "from scipy.io import loadmat, savemat\n",
    "import networkx as nx\n",
    "from tqdm.notebook import tqdm_notebook as tqdm\n",
    "from IPython.core.debugger import set_trace\n",
    "\n",
    "import pickle \n",
    "import _pickle as cPickle\n",
    "import gzip\n",
    "\n",
    "from learning_functions import genGridNW,point_on_line,dist\n",
    "from learning_functions import calc_cost,setupStimulus,setupSourcesOnly,runTesting,getNWState,calcOutputs"
   ]
  },
  {
   "cell_type": "code",
   "execution_count": 2,
   "metadata": {},
   "outputs": [],
   "source": [
    "\n",
    "\" Load Networks \"\n",
    "def buildNetworks(fileName,ManualSources=True,numDrains=2,numSources=9):\n",
    "    #load data\n",
    "    nw=loadmat(fileName)\n",
    "    nwSize = nw['number_of_wires'][0][0]\n",
    "    nwJunctions=nw['number_of_junctions'][0][0]\n",
    "    print('Network '+str(nwSize)+ ' Loaded')\n",
    "#     this_seed=8639\n",
    "    Network=nw\n",
    "    connectivity=connectivity__(wires_dict=Network) \n",
    "\n",
    "    #fixing file structure from Matlab:\n",
    "    connectivity.avg_length=connectivity.avg_length[0][0]\n",
    "    connectivity.number_of_junctions=connectivity.number_of_junctions[0][0]\n",
    "    connectivity.centroid_dispersion=connectivity.centroid_dispersion[0][0]\n",
    "    connectivity.dispersion=connectivity.dispersion[0][0]\n",
    "    # connectivity.generating_number_of_wires=connectivity.generating_number_of_wires[0][0]\n",
    "    connectivity.gennorm_shape=connectivity.gennorm_shape[0][0]\n",
    "    connectivity.length_x=connectivity.length_x[0][0]\n",
    "    connectivity.length_y=connectivity.length_y[0][0]\n",
    "    connectivity.number_of_wires=connectivity.number_of_wires[0][0]\n",
    "    connectivity.numOfWires=connectivity.numOfWires[0][0]\n",
    "    connectivity.numOfJunctions=connectivity.numOfJunctions[0][0]\n",
    "    connectivity.theta=connectivity.theta[0][0]\n",
    "    connectivity.this_seed=connectivity.this_seed[0][0]\n",
    "    \n",
    "    #find x and y values of each end of each wire \n",
    "    xa=connectivity.xa[0]\n",
    "    xb=connectivity.xb[0]\n",
    "    ya=connectivity.ya[0]\n",
    "    yb=connectivity.yb[0]\n",
    "\n",
    "    #Pick Electrode placement/distance apart:\n",
    "    \n",
    "    #DRAINS\n",
    "#     numDrains=7\n",
    "    ex=np.zeros(numDrains)*5#*15\n",
    "    if nwSize > 500:\n",
    "        eyVal=76\n",
    "    else:\n",
    "        eyVal= 51\n",
    "    ey=np.linspace(-1,eyVal,numDrains)#(-1,101,numDrains)\n",
    "\n",
    "    elecDrain=genGridNW(xa,xb,ya,yb,ex,ey) #generate drain locations in ex, ey coordinates\n",
    "\n",
    "\n",
    "    #IN A LINE:\n",
    "    if nwSize > 500:\n",
    "        exVal=75\n",
    "        eyVal = 74\n",
    "    else:\n",
    "        exVal=50\n",
    "        eyVal=49\n",
    "    ex=np.ones(numSources)*exVal#50\n",
    "    ey=np.linspace(-2,eyVal,numSources)#(-2,99,numSources)\n",
    "    \n",
    "    #IN A 3X3 GRID:\n",
    "    # middleNWx=int(connectivity.length_x/2)+1\n",
    "    # middleNWy=int(connectivity.length_y/2)-1\n",
    "    # distBwElecs=10\n",
    "    # ex=[middleNWx-distBwElecs,middleNWx-distBwElecs,middleNWx-distBwElecs,middleNWx,middleNWx,middleNWx,middleNWx+distBwElecs,middleNWx+distBwElecs,middleNWx+distBwElecs]\n",
    "    # ey=[middleNWy-distBwElecs,middleNWy,middleNWy+distBwElecs]*3\n",
    "\n",
    "    elecSource=genGridNW(xa,xb,ya,yb,ex,ey) #generate source locations in ex, ey coordinates\n",
    "\n",
    "    #Manual Source Placement:\n",
    "    if ManualSources:\n",
    "        if numSources==9:\n",
    "            if nwSize > 500:\n",
    "                elecSource=[678, 260, 491, 173, 628, 424, 301, 236, 483] #700nws\n",
    "            else:\n",
    "                elecSource=[23,320,194,74, 145, 317, 129, 34, 141] #350 nws\n",
    "\n",
    "        elif numSources == 4:\n",
    "            elecSource=[320,42,161,141]\n",
    "\n",
    "#     elecDrain=elecDrain[[0,-1]]\n",
    "    \n",
    "    return connectivity,elecSource,elecDrain,nwSize,nwJunctions"
   ]
  },
  {
   "cell_type": "code",
   "execution_count": 3,
   "metadata": {},
   "outputs": [],
   "source": [
    "#Generate 9 random 3x3 patterns:\n",
    "def generatePatterns(numSamples=40,nback=9):\n",
    "    pattern=[]\n",
    "    K = 3\n",
    "    N = 9\n",
    "\n",
    "    arr=np.array([1]*K + [0] * (N-K))\n",
    "    for p in range(nback):\n",
    "        np.random.shuffle(arr)\n",
    "        pattern.append(arr.copy())\n",
    "    target=pattern[0]\n",
    "    orig_inputs=np.array(pattern).astype('double')\n",
    "    targets=list(range(1,nback+1))\n",
    "    \n",
    "    return orig_inputs,targets\n",
    "\n",
    "#This function runs each training epoch and saves the network state at the last timestep of that epoch   \n",
    "def getNWState_backprop(training_stimulus,train,state,drains,sources,tmpTiming,tmpTargets,limVal,allVals,run_time=2,dt=0.01,disable_tqdm=False):\n",
    "    if train:\n",
    "        #remove non-target drain from simulation\n",
    "        target = tmpTargets[0]\n",
    "        drains=drains[target-1]\n",
    "        print('\\nDrain '+str(target)+ ' Only')\n",
    "\n",
    "    else:\n",
    "        print('\\nAll Drains')\n",
    "    eles = np.append(drains, sources) #all drains\n",
    "    #     if len(eles) == num_drain_training + num_source_training:\n",
    "    training_sim,cost = runSim_backprop(connectivity, \n",
    "                                   stimulus = training_stimulus,\n",
    "                                   junctionMode = 'tunneling',\n",
    "                                   dt = dt, T = run_time, \n",
    "                                   contactMode = 'preSet',\n",
    "                                   electrodes = eles,\n",
    "                                   findFirst = False,\n",
    "                                   start_state = state,\n",
    "                                   disable_tqdm=disable_tqdm,\n",
    "                                   collapse=False,tmpTiming=tmpTiming,tmpTargets=tmpTargets,\n",
    "                                   limVal=limVal,allVals=allVals)  \n",
    "    JS1 = getJunctionState(training_sim, -1) #save state\n",
    "    #     else: \n",
    "    #         print('Bless you Joel :)')\n",
    "    return training_sim,JS1   \n",
    "\n",
    "#Combine drain voltage change with runSim:\n",
    "def runSim_backprop(Connectivity, \n",
    "                    junctionMode='binary', collapse=False,\n",
    "                    criticalFlux=0.1, maxFlux=1.5e-1,\n",
    "                    contactMode='farthest', electrodes=None,\n",
    "                    dt=1e-3, T=10, \n",
    "                    stimulus = None,\n",
    "                    biasType = 'DC',\n",
    "                    onTime=0, offTime=50000000,\n",
    "                    onAmp=1, offAmp=0.005,\n",
    "                    f = 1, customSignal = None,\n",
    "                    start_state = None,\n",
    "                    lite_mode = False, save_steps = 1,\n",
    "                    findFirst = True,\n",
    "                    disable_tqdm = False,\n",
    "                    freeze_wire = None, freeze_junction = None, \n",
    "                    freeze_TimeStamp = None,tmpTiming=[],tmpTargets=[],\n",
    "                    limVal=0.5,allVals=[]):\n",
    "\n",
    "    \"\"\"\n",
    "    For the case of multi electrodes, stimulus should be in parameters.\n",
    "    See help(stimulus__) for how to generate stimulus__ objects.\n",
    "    \"\"\"\n",
    "\n",
    "    SimulationOptions = simulationOptions__(dt = dt, T = T,\n",
    "                                            connectivity = Connectivity, \n",
    "                                            contactMode = contactMode,\n",
    "                                            electrodes = electrodes)\n",
    "\n",
    "    if ((contactMode == 'preSet') and (len(electrodes) > 2)) or stimulus is not None:\n",
    "        from sys import exit\n",
    "        if stimulus == None:\n",
    "            logging.warning(f'Multiple electrodes detected. Please input stimulus in parameters!')\n",
    "            exit()\n",
    "        if len(stimulus) < len(SimulationOptions.electrodes):\n",
    "            diff = len(SimulationOptions.electrodes) - len(stimulus)\n",
    "            for _ in range(diff):\n",
    "                stimulus.append(stimulus__('Drain', T = T, dt = dt))\n",
    "\n",
    "        if len(stimulus) > len(SimulationOptions.electrodes):\n",
    "            logging.warning(f'More stimulus than electrodes. Current setup has {len(SimulationOptions.electrodes)} electrodes!')\n",
    "            exit()\n",
    "            \n",
    "        if len(stimulus[0].signal) < len(SimulationOptions.TimeVector):\n",
    "            logging.warning(f'Stimulus length not correct, current time vector has length {len(SimulationOptions.TimeVector)}!')\n",
    "            exit()\n",
    "        SimulationOptions.stimulus = stimulus\n",
    "            \n",
    "    elif contactMode == 'boundary':\n",
    "        SimulationOptions.stimulus[:int(len(SimulationOptions.electrodes)/2)] = [stimulus__(biasType = biasType, \n",
    "                                                                                        T = T, dt = dt,\n",
    "                                                                                        onTime = onTime, offTime = offTime,\n",
    "                                                                                        onAmp = onAmp, offAmp = offAmp,\n",
    "                                                                                        f = f, customSignal= customSignal)\n",
    "                                                                                        for i in range(int(len(SimulationOptions.electrodes)/2))]\n",
    "    else:\n",
    "        SimulationOptions.stimulus[0] = stimulus__(biasType = biasType, \n",
    "                                                T = T, dt = dt,\n",
    "                                                onTime = onTime, offTime = offTime,\n",
    "                                                onAmp = onAmp, offAmp = offAmp,\n",
    "                                                    f = f, customSignal= customSignal)\n",
    "    if start_state == None: \n",
    "        JunctionState = junctionState__(Connectivity.numOfJunctions, \n",
    "                                    mode = junctionMode, collapse = collapse, \n",
    "                                    criticalFlux=criticalFlux, maxFlux = maxFlux)\n",
    "    else:\n",
    "        from copy import deepcopy\n",
    "        JunctionState = deepcopy(start_state)\n",
    "    \n",
    "    kwdict = dict()\n",
    "    if (freeze_wire != None) or (freeze_junction != None):\n",
    "        kwdict = dict(freeze_wire = freeze_wire,\n",
    "                    freeze_junction = freeze_junction, \n",
    "                    freeze_TimeStamp = freeze_TimeStamp)\n",
    "        \n",
    "    this_realization,cost = simulateNetwork_backprop(SimulationOptions, Connectivity, JunctionState,tmpTiming,tmpTargets,limVal,allVals,lite_mode, disable_tqdm, save_steps, **kwdict)\n",
    "    \n",
    "    # if we stop simulation at theta, use this code. otherwise we reset voltages to 0 instead\n",
    "    \n",
    "#     finalIter=np.max(np.nonzero(this_realization.electrodeCurrent))\n",
    "#     if finalIter < 199:\n",
    "#         this_realization.electrodeCurrent=this_realization.electrodeCurrent[:finalIter+1,:]\n",
    "#         this_realization.junctionVoltage=this_realization.junctionVoltage[:finalIter+1,:]\n",
    "#         this_realization.junctionConductance=this_realization.junctionConductance[:finalIter+1,:]\n",
    "#         this_realization.wireVoltage=this_realization.wireVoltage[:finalIter+1,:]\n",
    "#         this_realization.filamentState=this_realization.filamentState[:finalIter+1,:]\n",
    "#         this_realization.junctionSwitch=this_realization.junctionSwitch[:finalIter+1,:]\n",
    "        #final Iter = time , use that to find / save network state\n",
    "        \n",
    "        \n",
    "#         this_realization.TimeVector=this_realization.TimeVector[:finalIter+1,:]\n",
    "\n",
    "    #     remove zeros from simulations that ended early:\n",
    "#     this_realization.junctionCurrent\n",
    "    \n",
    "    if findFirst:\n",
    "        from edamame.analysis.GraphTheory import findCurrent\n",
    "        try:\n",
    "            activation = findCurrent(this_realization, 1)\n",
    "            logging.info(f'First current path {activation[0][0]} formed at time = {activation[1][0]} s.')\n",
    "        except:\n",
    "            logging.info('Unfortunately, no current path is formed in simulation time.')\n",
    "\n",
    "    return this_realization,cost\n",
    "\n",
    "def simulateNetwork_backprop(simulationOptions, connectivity, junctionState,tmpTiming,tmpTargets, limVoltage,allVals,lite_mode = False, disable_tqdm = False, save_steps = 1, **kwargs):\n",
    "    niterations = simulationOptions.NumOfIterations\n",
    "    electrodes = simulationOptions.electrodes\n",
    "    numOfElectrodes = len(electrodes)\n",
    "    E = connectivity.numOfJunctions\n",
    "    V = connectivity.numOfWires\n",
    "    edgeList = connectivity.edge_list\n",
    "    cost      = []\n",
    "\n",
    "#     onAmp     = simulationOptions.stimulus[3].onAmp\n",
    "    \n",
    "#     maxV      = onAmp *limVoltage\n",
    "    \n",
    "    Network = network__()\n",
    "    sampling = np.arange(0, niterations, save_steps)\n",
    "    if lite_mode:\n",
    "        Network.connectivity = connectivity__(adjMat = connectivity.adj_matrix)\n",
    "        Network.filamentState = np.zeros((int(niterations/save_steps), E))\n",
    "        Network.wireVoltage = np.zeros((int(niterations/save_steps), V))\n",
    "        Network.electrodeCurrent = np.zeros((int(niterations/save_steps), numOfElectrodes))\n",
    "        Network.TimeVector = np.zeros(int(niterations/save_steps))\n",
    "    else:        \n",
    "        Network.connectivity = connectivity\n",
    "        Network.TimeVector = simulationOptions.TimeVector\n",
    "        Network.filamentState = np.zeros((niterations, E))\n",
    "        Network.junctionVoltage = np.zeros((niterations, E))\n",
    "        # Network.junctionResistance = np.zeros((niterations, E))\n",
    "        Network.junctionConductance = np.zeros((niterations, E))\n",
    "        Network.junctionSwitch = np.zeros((niterations, E), dtype = bool)\n",
    "        Network.wireVoltage = np.zeros((niterations, V))\n",
    "        Network.electrodeCurrent = np.zeros((niterations, numOfElectrodes))\n",
    "\n",
    "    Network.sources = []\n",
    "    Network.drains = []\n",
    "    for i in range(numOfElectrodes):\n",
    "        if np.mean(simulationOptions.stimulus[i].signal) != 0:\n",
    "            Network.sources.append(electrodes[i])\n",
    "        else:\n",
    "            Network.drains.append(electrodes[i])\n",
    "\n",
    "    if len(Network.drains) == 0:\n",
    "        Network.drains.append(electrodes[1])\n",
    "        \n",
    "    if 'freeze_wire' in kwargs:\n",
    "        freeze_wire = kwargs['freeze_wire']\n",
    "        freeze_TimeStamp = kwargs['freeze_TimeStamp']\n",
    "    else:\n",
    "        freeze_TimeStamp = niterations + 1\n",
    "    \n",
    "    \n",
    "    stopTrain=False\n",
    "    for this_time in tqdm(range(niterations), desc='Running Simulation ', disable = disable_tqdm): #each time step\n",
    "        if not stopTrain: #if training and reached theta or testing\n",
    "            this_stimulus = np.array([i.signal[this_time] for i in simulationOptions.stimulus])\n",
    "#         else:\n",
    "#             break\n",
    "        if tmpTiming[this_time]=='Train':\n",
    "            trainTime=True\n",
    "            \n",
    "        elif tmpTiming[this_time]=='Test':\n",
    "\n",
    "            trainTime=False\n",
    "\n",
    "        if trainTime and this_time > 0 and not stopTrain: #if we are training, change drain voltages, otherwise just use this_stimulus\n",
    "            \n",
    "            this_stimulus[:num_drain_training]=new_stimulus\n",
    "\n",
    "        #run sim   \n",
    "        sol = simCore(connectivity, junctionState, this_stimulus, electrodes, simulationOptions.dt)\n",
    "\n",
    "        if this_time >= freeze_TimeStamp:\n",
    "            others = np.setdiff1d(range(V), freeze_wire)\n",
    "            wireVoltage[others] = sol[others]\n",
    "        else:\n",
    "            wireVoltage = sol[0:V]\n",
    "\n",
    "        if lite_mode:\n",
    "            if this_time%save_steps == 0:\n",
    "                Network.wireVoltage[this_time//save_steps,:] = wireVoltage\n",
    "                Network.electrodeCurrent[this_time//save_steps,:] = sol[V:]\n",
    "                Network.filamentState[this_time//save_steps,:] = junctionState.filamentState\n",
    "                Network.TimeVector[this_time//save_steps] = simulationOptions.TimeVector[this_time]\n",
    "        else:\n",
    "            Network.wireVoltage[this_time,:] = wireVoltage\n",
    "            Network.electrodeCurrent[this_time,:] = sol[V:]\n",
    "            Network.filamentState[this_time,:] = junctionState.filamentState\n",
    "            Network.junctionVoltage[this_time,:] = junctionState.voltage\n",
    "            Network.junctionConductance[this_time,:] = junctionState.conductance\n",
    "            Network.junctionSwitch[this_time,:] = junctionState.OnOrOff\n",
    "\n",
    "        ## BackProp Implementation\n",
    "        if trainTime:\n",
    "            n = num_drain_training #num of drains\n",
    "            y = Network.electrodeCurrent[this_time,:num_drain_training]\n",
    "        else:\n",
    "            n = num_drain_testing\n",
    "            y = Network.electrodeCurrent[this_time,:num_drain_testing]\n",
    "            \n",
    "        beta      = 0.05 #learning rate\n",
    "        grad      = np.zeros((n)) #set gradients to zero for each epoch  \n",
    "        \n",
    "        drainCurrents=y #copy of current\n",
    "\n",
    "        if tmpTargets[this_time] != -2: #skip rest values\n",
    "            tarIdx=tmpTargets[this_time]\n",
    "            y = y/(maxCurrent) # normalize current\n",
    "\n",
    "            d = 1 #allTargets[tarIdx] #define target normalized current\n",
    "            if trainTime: \n",
    "                dsig = this_stimulus[:num_drain_training] #define new drain voltage\n",
    "            else:\n",
    "                dsig = this_stimulus[:num_drain_testing]\n",
    "                \n",
    "            #calc cost\n",
    "            cost.append(calc_cost(y,d))\n",
    "\n",
    "            if trainTime and not stopTrain: #if we are training, update beta\n",
    "                if drainCurrents[0]>=allVals[tarIdx-1]: #if greater or less than the target current\n",
    "                    this_stimulus=np.zeros(len(this_stimulus)) #make everything 0V (inputs + drains)\n",
    "                    stopTrain=True\n",
    "                else:\n",
    "                    stopTrain=False \n",
    "\n",
    "                \n",
    "                if not stopTrain:        \n",
    "                    grad=beta*(y-d) #y = current, d = target #e.g. [y1 vs (d1 = 1), y2 vs (d2 = 0), y3vs (d3 = 0)]\n",
    "\n",
    "                    #dsig = old voltage drains, dsig2 = new voltage drains, onAmp = input voltage\n",
    "\n",
    "                    dsig2=np.array(dsig.T+grad)\n",
    "\n",
    "                    dsig2=np.clip(dsig2,-onAmp*0.9,onAmp*0.9) #set max and min voltages to less than inputs\n",
    "\n",
    "                    new_stimulus=dsig2\n",
    "\n",
    "            elif not trainTime:\n",
    "                new_stimulus=this_stimulus[:num_drain_testing]\n",
    "\n",
    "    print('Target: 1')\n",
    "#     print('Voltage: '+ str(new_stimulus))\n",
    "    \n",
    "    Network.numOfWires = V\n",
    "    Network.numOfJunctions = E\n",
    "    Network.electrodes = simulationOptions.electrodes\n",
    "    if len(electrodes) <= 2:\n",
    "        Network.conductance = Network.electrodeCurrent[:,1]/simulationOptions.stimulus[0].signal[sampling]\n",
    "    if not lite_mode:\n",
    "        Network.stimulus = [simulationOptions.stimulus[i] for i in range(numOfElectrodes)]\n",
    "        Network.junctionResistance = 1/Network.junctionConductance\n",
    "    \n",
    "#     print(Network.electrodeCurrent[:,1])\n",
    "    return Network,cost\n",
    "\n",
    "\n",
    "\n",
    "def runNBACK(onAmp,onAmpTest,dt,Tlen,timesteps,numDT,restDur,nbacks=[],maxCurrent=[1e-5,1e-5],limVal=0.5,accThresh=0.5,increaseVal=0.5,decreaseVal=0.25,accThreshold=False,orderTraining=[],seed=42):\n",
    "    \"\"\"\n",
    "    n-back task:\n",
    "    input sample 1 with backprop, then sample 2 with backprop, then sample 1 again with reset drain voltages \n",
    "    n back here = 1, showing memory\n",
    "    \n",
    "    train sample x, test sample x + nback (e.g. nback = 2, sample = [s1 train,s2,s3,s1 test] )\n",
    "\n",
    "    increase n-back: \n",
    "    sample 1 with backprop, sample 2, sample 3... test sample 1 - n=2\n",
    "    \n",
    "    Things to test:\n",
    "    - if we increase input frequency (dt), do we see greater long term memory? (higher n-backs)\n",
    "    - if we decrease frequency, do we see greater short term memory? (lower n-backs)\n",
    "\n",
    "    \"\"\"  \n",
    "    np.random.seed(seed)\n",
    "    \n",
    "    t           = [[None]*700 for i in range(len(nbacks))]\n",
    "    simVoltages = []\n",
    "    saveStim    = []\n",
    "    count=0\n",
    "    for nback in nbacks: #how many samples to \"remember\" in the past before testing\n",
    "       \n",
    "        numTestingSamples= numSamples #how many samples across all nback values\n",
    "                \n",
    "        #completely random order\n",
    "        \n",
    "        orderTrainingLabelsNBACK=[1]*numSamples #these are the testing labels - every i+nback training sample is what we're testing\n",
    "        orderTesting=[]\n",
    "        for label in orderTrainingLabelsNBACK: #for each training label in the random order:\n",
    "            orderTesting.append(-1)\n",
    "\n",
    "        i = nback\n",
    "        order=list(orderTraining).copy()\n",
    "        numInserts=0\n",
    "        while numInserts < numSamples:\n",
    "            order.insert(i, -1)\n",
    "            i += nback+1\n",
    "            numInserts+=1\n",
    "        \n",
    "    \n",
    "        #remove excess training (i.e. with no testing sample)\n",
    "        sampleTimes=numDT*(nback+1)\n",
    "        newTrainingOrder=orderTraining[:sampleTimes-numTestingSamples]\n",
    "\n",
    "        order=order[:sampleTimes]        \n",
    "        #RUN SIM\n",
    "        numClasses          = 9\n",
    "        signalType          ='DC'\n",
    "        num_source_training = numSources\n",
    "        tmpSources          = [[] for i in range(len(order))]\n",
    "        tmpTargets          = [None]*len(order)\n",
    "        sim                 = [None]*len(order)\n",
    "        thresholdValues     = [None]*len(order)\n",
    "        cost                = [None]*len(order)\n",
    "        simVoltages         = [None]*len(order)\n",
    "        accuracy    = []\n",
    "        timing=[]\n",
    "        allLabels=[]\n",
    "        allVals=[limVal]*9\n",
    "        \n",
    "        i=0\n",
    "        numTests = 0\n",
    "        nwState = None\n",
    "        for val in tqdm(order): #this method loops through samples in the randomised training order\n",
    "            \n",
    "            #FOR EACH SAMPLE:\n",
    "            \n",
    "            #are we training or testing?\n",
    "            if val in orderTesting:\n",
    "                test=True\n",
    "                train=False\n",
    "                newval=0\n",
    "            elif val in orderTraining:\n",
    "                test=False\n",
    "                train=True\n",
    "                newval=val\n",
    "                print('Training \\n')\n",
    "                \n",
    "            #define samples\n",
    "            if train: #if we're training\n",
    "                this_sample = inputs[newval].copy()#trainingInputs[val].copy() #xs\n",
    "                this_label  = targets[newval] #ys\n",
    "                this_sample[this_sample>0.005]=this_sample[this_sample>0.005]*onAmp #tune voltage based on onAmp\n",
    "                timing.append('Train')\n",
    "\n",
    "            elif test: #if we're testing\n",
    "                this_sample = inputs[newval].copy() #xs\n",
    "                this_label  = targets[newval] #ys\n",
    "                this_sample[this_sample>0.005]=this_sample[this_sample>0.005]*onAmpTest #CHANGE THIS TO RAMP:\n",
    "                timing.append('Test')\n",
    "\n",
    "            targetTmp = signal_expand(this_label,numDT) #number of timesteps per target\n",
    "            timing[i] = signal_expand(timing[i],numDT)\n",
    "        #     #array of nans:\n",
    "            tmpArray=np.empty(restDur)\n",
    "            tmpArray[:]=-2\n",
    "            targetTmp = np.append(targetTmp,tmpArray) #add rest #need to remove targets from rest\n",
    "            tmpTargets[i]=targetTmp \n",
    "            rampV=np.linspace(0,onAmpTest,numDT)\n",
    "            for j in range(len(this_sample)): #for each source electrode\n",
    "                tmp = signal_expand(this_sample[j],numDT)\n",
    "                tmp = np.append(tmp,np.zeros(restDur)) #add rest\n",
    "                tmpSources[i].append(tmp)\n",
    "            allLabels.append(this_label)\n",
    "            stimulus=[]\n",
    "            if train:\n",
    "                stimulus.append(stimulus__(biasType='Drain',T=dt*len(tmpSources[i][0]),dt=dt))\n",
    "\n",
    "            elif test:\n",
    "                for m in range(num_drain_testing): #create stimulus for each drain electrode\n",
    "                    stimulus.append(stimulus__(biasType='Drain',T=dt*len(tmpSources[i][m]),dt=dt))\n",
    "\n",
    "            for m in range(len(tmpSources[i])): #create stimulus for each source electrode\n",
    "                stimulus.append(stimulus__(biasType='Custom',T=dt*len(tmpSources[i][m]),dt=dt,customSignal=tmpSources[i][m]))\n",
    "            \n",
    "            signalLen=Tlen#len(stimulus[0].signal) \n",
    "            sim[i],nwState = getNWState_backprop(stimulus,train,nwState,drain_pool,sources,timing[i],tmpTargets[i].astype('int'),limVal,allVals,run_time=int(signalLen*dt),dt=dt,disable_tqdm=False)\n",
    "\n",
    "            simVoltages[i]=(sim[i].wireVoltage)\n",
    "\n",
    "            print('Currents: ' + str(sim[i].electrodeCurrent[-1][0]))\n",
    "            \n",
    "            if test: #if we are testing\n",
    "                print('Testing \\n')\n",
    "                #ADRIAN ACCURACY METHOD\n",
    "                t[count][i]=(calcOutputs(sim[i],sources,drain_pool))\n",
    "                meanCurrAll=np.mean(t[count][i][0:],axis=1)\n",
    "\n",
    "                if np.argmax(meanCurrAll)==0:\n",
    "                    accuracy.append(1)\n",
    "                else:\n",
    "                    accuracy.append(0)\n",
    "                        \n",
    "                if i >0 and reinforcement: #only use this if we are reinforcing\n",
    "                    if accuracy[numTests]==0: #if the training didn't work\n",
    "                        allVals[0]=allVals[0]+increaseVal #update 'max current limit based on reinforcement'\n",
    "                        allVals[1]=allVals[1]-decreaseVal\n",
    "                        allVals[2]=allVals[2]-decreaseVal\n",
    "                        allVals[3]=allVals[3]-decreaseVal\n",
    "                        allVals[4]=allVals[4]-decreaseVal\n",
    "                        allVals[5]=allVals[5]-decreaseVal\n",
    "                        allVals[6]=allVals[6]-decreaseVal\n",
    "#                         allVals[7]=allVals[7]-decreaseVal\n",
    "#                         allVals[8]=allVals[8]-decreaseVal\n",
    "                        \n",
    "#                 #ALON ACCURACY METHOD\n",
    "#                 #calucalte accuracy\n",
    "#                 accThreshold=False\n",
    "#                 if accThreshold:\n",
    "#                     #add threshold of difference to ensure accuracy:\n",
    "#                     argmaxvals=np.argmax([t[count][i][0],t[count][i][1]],axis=0)\n",
    "#                     for s in range(len(argmaxvals)):\n",
    "#                         if abs(t[count][i][0][s]-t[count][i][1][s])>1e-6 and argmaxvals[s]==1:\n",
    "#                             argmaxvals[s]=1\n",
    "#                         elif abs(t[count][i][0][s]-t[count][i][1][s])<1e-6 and argmaxvals[s] == 1:\n",
    "#                             argmaxvals[s]=0\n",
    "# #                     accuracy.append(np.sum(argmaxvals==tmpTargets[testTimes])/len(tmpTargets[testTimes]))\n",
    "#                     accuracy.append(np.sum(argmaxvals==tmpTargets[i-nback])/len(tmpTargets[i-nback]))\n",
    "#                 else:\n",
    "#                     accuracy.append(np.sum(np.argmax([t[count][i][0],t[count][i][1]],axis=0)==tmpTargets[i-nback])/len(tmpTargets[i-nback]))\n",
    "#                 if i >0:\n",
    "#                     if accuracy[numTests]<= accThresh: #if the training didn't work\n",
    "#                         if this_label==0: #drain 1\n",
    "#                             limVals0=limVals0+increaseVal #update 'max current limit based on reinforcement'\n",
    "#                             limVals1=limVals1-decreaseVal\n",
    "#                         elif this_label==1: #drain 2\n",
    "#                             limVals0=limVals0-decreaseVal\n",
    "#                             limVals1=limVals1+increaseVal                           \n",
    "#                 mval1=np.max(np.nonzero(t[count][i][0]))\n",
    "#                 mval2=np.max(np.nonzero(t[count][i][1]))\n",
    "#                 print('Final Target Drain Current: ' + str([t[count][i][0][mval1],t[count][i][1][mval2]]))\n",
    "\n",
    "                print('Currents: ' +str(sim[i].electrodeCurrent[-1][:9]))\n",
    "                print('Target: ' + str(tmpTargets[i][0]))\n",
    "                print('Accuracy: '+ str(accuracy[numTests]))\n",
    "                print(\"New Target Threshold:\" + str(allVals[0])) #just a checking/debugging print\n",
    "                numTests+=1\n",
    "            else:\n",
    "                t[count][i]=(calcOutputs(sim[i],sources,[drain_pool[int(tmpTargets[i][0])-1]]))\n",
    "#             set_trace()\n",
    "            thresholdValues[i]=allVals.copy()\n",
    "            i+=1 \n",
    "        \n",
    "        count+=1\n",
    "    return t,thresholdValues,sim,stimulus,accuracy,tmpTargets,newTrainingOrder,orderTesting,order,testTimes,trainTimes,numTestingSamples"
   ]
  },
  {
   "cell_type": "code",
   "execution_count": 4,
   "metadata": {},
   "outputs": [],
   "source": [
    "# a=np.insert(orderTraining[-1],range(0,len(orderTraining[-1])+1,num_drain_testing),-1)[1:]\n",
    "# nbackVals=np.argwhere(a==-1)-np.argwhere(a==0) #check there are 10 of each\n",
    "# plt.hist(nbackVals,bins=num_drain_testing)"
   ]
  },
  {
   "cell_type": "code",
   "execution_count": 5,
   "metadata": {},
   "outputs": [],
   "source": [
    "def createTrainingOrder(nback):\n",
    "    seeds=[]\n",
    "    orderTraining=[]\n",
    "    shuffle=True\n",
    "    for n in range(numRuns):   \n",
    "        tmp=[]\n",
    "        for i in range(10): #for each sample\n",
    "            tmp.append(np.random.choice(nback,nback,replace=False))\n",
    "        newTmp=[]\n",
    "        tmp2=tmp.copy()\n",
    "\n",
    "        for i in range(len(tmp)): #for each sample\n",
    "            for j in range(nback): #for each position\n",
    "                if shuffle:\n",
    "                    np.random.shuffle(tmp[i])\n",
    "                a=tmp[i][j] #find the nth position\n",
    "                b=np.where(tmp[i]==0) #find the position where the value is 0\n",
    "                tmp2[i][j]=0 #make the nth position 0\n",
    "                tmp2[i][b]=a #replace the position which had 0 with the value from the nth position\n",
    "                newTmp.append(np.array(tmp2[i]))\n",
    "                np.random.shuffle(newTmp)\n",
    "        orderTraining.append(np.hstack(np.array(newTmp)))\n",
    "    orderTraining=orderTraining[0]\n",
    "    return orderTraining"
   ]
  },
  {
   "cell_type": "code",
   "execution_count": 15,
   "metadata": {
    "scrolled": true
   },
   "outputs": [
    {
     "name": "stdout",
     "output_type": "stream",
     "text": [
      "Network 698 Loaded\n",
      "Parameters:\n",
      "\n",
      "Train V: 0.3\n",
      "Test V: 0.1\n",
      "Pattern: 3x3\n"
     ]
    },
    {
     "data": {
      "application/vnd.jupyter.widget-view+json": {
       "model_id": "2ff3dfde309043d8bea97c8df05be6c7",
       "version_major": 2,
       "version_minor": 0
      },
      "text/plain": [
       "  0%|          | 0/1 [00:00<?, ?it/s]"
      ]
     },
     "metadata": {},
     "output_type": "display_data"
    },
    {
     "name": "stdout",
     "output_type": "stream",
     "text": [
      "5e-06\n"
     ]
    },
    {
     "data": {
      "application/vnd.jupyter.widget-view+json": {
       "model_id": "c07aad6b1a9c4fb18ead20c2454c8174",
       "version_major": 2,
       "version_minor": 0
      },
      "text/plain": [
       "  0%|          | 0/1 [00:00<?, ?it/s]"
      ]
     },
     "metadata": {},
     "output_type": "display_data"
    },
    {
     "data": {
      "application/vnd.jupyter.widget-view+json": {
       "model_id": "4d4d3234805e4c13bb295ff4625fc856",
       "version_major": 2,
       "version_minor": 0
      },
      "text/plain": [
       "  0%|          | 0/560 [00:00<?, ?it/s]"
      ]
     },
     "metadata": {},
     "output_type": "display_data"
    },
    {
     "name": "stdout",
     "output_type": "stream",
     "text": [
      "Training \n",
      "\n",
      "\n",
      "Drain 5 Only\n"
     ]
    },
    {
     "data": {
      "application/vnd.jupyter.widget-view+json": {
       "model_id": "4d1b2a2651da43dd843dcc37c134293b",
       "version_major": 2,
       "version_minor": 0
      },
      "text/plain": [
       "Running Simulation :   0%|          | 0/200 [00:00<?, ?it/s]"
      ]
     },
     "metadata": {},
     "output_type": "display_data"
    },
    {
     "name": "stdout",
     "output_type": "stream",
     "text": [
      "Target: 1\n",
      "Currents: 1.0283752182931385e-07\n",
      "Training \n",
      "\n",
      "\n",
      "Drain 6 Only\n"
     ]
    },
    {
     "data": {
      "application/vnd.jupyter.widget-view+json": {
       "model_id": "3b15522017924b9b867388e6e4457776",
       "version_major": 2,
       "version_minor": 0
      },
      "text/plain": [
       "Running Simulation :   0%|          | 0/200 [00:00<?, ?it/s]"
      ]
     },
     "metadata": {},
     "output_type": "display_data"
    },
    {
     "name": "stdout",
     "output_type": "stream",
     "text": [
      "Target: 1\n",
      "Currents: 7.851619373361906e-08\n",
      "Training \n",
      "\n",
      "\n",
      "Drain 4 Only\n"
     ]
    },
    {
     "data": {
      "application/vnd.jupyter.widget-view+json": {
       "model_id": "94300b0b436b412ab6eb35272d8bc47a",
       "version_major": 2,
       "version_minor": 0
      },
      "text/plain": [
       "Running Simulation :   0%|          | 0/200 [00:00<?, ?it/s]"
      ]
     },
     "metadata": {},
     "output_type": "display_data"
    },
    {
     "name": "stdout",
     "output_type": "stream",
     "text": [
      "Target: 1\n",
      "Currents: 1.4777216310641142e-07\n",
      "Training \n",
      "\n",
      "\n",
      "Drain 1 Only\n"
     ]
    },
    {
     "data": {
      "application/vnd.jupyter.widget-view+json": {
       "model_id": "ec38ec3c5f2d45fe9291755ea0a0e34a",
       "version_major": 2,
       "version_minor": 0
      },
      "text/plain": [
       "Running Simulation :   0%|          | 0/200 [00:00<?, ?it/s]"
      ]
     },
     "metadata": {},
     "output_type": "display_data"
    },
    {
     "name": "stdout",
     "output_type": "stream",
     "text": [
      "Target: 1\n",
      "Currents: 1.4201908447432877e-07\n",
      "Training \n",
      "\n",
      "\n",
      "Drain 7 Only\n"
     ]
    },
    {
     "data": {
      "application/vnd.jupyter.widget-view+json": {
       "model_id": "80a539fc730f420ea677e8a4c9ddf124",
       "version_major": 2,
       "version_minor": 0
      },
      "text/plain": [
       "Running Simulation :   0%|          | 0/200 [00:00<?, ?it/s]"
      ]
     },
     "metadata": {},
     "output_type": "display_data"
    },
    {
     "name": "stdout",
     "output_type": "stream",
     "text": [
      "Target: 1\n",
      "Currents: 4.48724524094053e-06\n",
      "Training \n",
      "\n",
      "\n",
      "Drain 2 Only\n"
     ]
    },
    {
     "data": {
      "application/vnd.jupyter.widget-view+json": {
       "model_id": "784eaa6350754c70b52cf5fe26ce154c",
       "version_major": 2,
       "version_minor": 0
      },
      "text/plain": [
       "Running Simulation :   0%|          | 0/200 [00:00<?, ?it/s]"
      ]
     },
     "metadata": {},
     "output_type": "display_data"
    },
    {
     "name": "stdout",
     "output_type": "stream",
     "text": [
      "Target: 1\n",
      "Currents: 2.3021720141714777e-06\n",
      "Training \n",
      "\n",
      "\n",
      "Drain 3 Only\n"
     ]
    },
    {
     "data": {
      "application/vnd.jupyter.widget-view+json": {
       "model_id": "956be8ce81c9496180239f0d1932457a",
       "version_major": 2,
       "version_minor": 0
      },
      "text/plain": [
       "Running Simulation :   0%|          | 0/200 [00:00<?, ?it/s]"
      ]
     },
     "metadata": {},
     "output_type": "display_data"
    },
    {
     "name": "stdout",
     "output_type": "stream",
     "text": [
      "Target: 1\n",
      "Currents: 0.0\n",
      "\n",
      "All Drains\n"
     ]
    },
    {
     "data": {
      "application/vnd.jupyter.widget-view+json": {
       "model_id": "a1fd85b886c84ec2a28728886e293c2e",
       "version_major": 2,
       "version_minor": 0
      },
      "text/plain": [
       "Running Simulation :   0%|          | 0/200 [00:00<?, ?it/s]"
      ]
     },
     "metadata": {},
     "output_type": "display_data"
    },
    {
     "name": "stdout",
     "output_type": "stream",
     "text": [
      "Target: 1\n",
      "Currents: 5.054561656980434e-09\n",
      "Testing \n",
      "\n",
      "Currents: [ 5.05456166e-09  1.29516601e-07  2.03838010e-07  2.39716695e-09\n",
      "  1.89203740e-09  5.83553867e-10  3.80976342e-08 -5.89675375e-07\n",
      " -3.83050315e-06]\n",
      "Target: 1.0\n",
      "Accuracy: 0\n",
      "New Target Threshold:5e-06\n",
      "Training \n",
      "\n",
      "\n",
      "Drain 2 Only\n"
     ]
    },
    {
     "data": {
      "application/vnd.jupyter.widget-view+json": {
       "model_id": "c01ac1f155074cb8afb425f4f31003e6",
       "version_major": 2,
       "version_minor": 0
      },
      "text/plain": [
       "Running Simulation :   0%|          | 0/200 [00:00<?, ?it/s]"
      ]
     },
     "metadata": {},
     "output_type": "display_data"
    },
    {
     "name": "stdout",
     "output_type": "stream",
     "text": [
      "Target: 1\n",
      "Currents: 0.0\n",
      "Training \n",
      "\n",
      "\n",
      "Drain 4 Only\n"
     ]
    },
    {
     "data": {
      "application/vnd.jupyter.widget-view+json": {
       "model_id": "b118884b85344ed3873f08e570fabed8",
       "version_major": 2,
       "version_minor": 0
      },
      "text/plain": [
       "Running Simulation :   0%|          | 0/200 [00:00<?, ?it/s]"
      ]
     },
     "metadata": {},
     "output_type": "display_data"
    },
    {
     "name": "stdout",
     "output_type": "stream",
     "text": [
      "Target: 1\n",
      "Currents: 0.0\n",
      "Training \n",
      "\n",
      "\n",
      "Drain 1 Only\n"
     ]
    },
    {
     "data": {
      "application/vnd.jupyter.widget-view+json": {
       "model_id": "ecc629a0961248d6aa0d6b019ee40012",
       "version_major": 2,
       "version_minor": 0
      },
      "text/plain": [
       "Running Simulation :   0%|          | 0/200 [00:00<?, ?it/s]"
      ]
     },
     "metadata": {},
     "output_type": "display_data"
    },
    {
     "name": "stdout",
     "output_type": "stream",
     "text": [
      "Target: 1\n",
      "Currents: 0.0\n",
      "Training \n",
      "\n",
      "\n",
      "Drain 7 Only\n"
     ]
    },
    {
     "data": {
      "application/vnd.jupyter.widget-view+json": {
       "model_id": "b471d19848294a4ebb08e76a6786ae3c",
       "version_major": 2,
       "version_minor": 0
      },
      "text/plain": [
       "Running Simulation :   0%|          | 0/200 [00:00<?, ?it/s]"
      ]
     },
     "metadata": {},
     "output_type": "display_data"
    },
    {
     "name": "stdout",
     "output_type": "stream",
     "text": [
      "Target: 1\n",
      "Currents: 0.0\n",
      "Training \n",
      "\n",
      "\n",
      "Drain 6 Only\n"
     ]
    },
    {
     "data": {
      "application/vnd.jupyter.widget-view+json": {
       "model_id": "95513dec9bb247a38ce1d7c363ed6418",
       "version_major": 2,
       "version_minor": 0
      },
      "text/plain": [
       "Running Simulation :   0%|          | 0/200 [00:00<?, ?it/s]"
      ]
     },
     "metadata": {},
     "output_type": "display_data"
    },
    {
     "name": "stdout",
     "output_type": "stream",
     "text": [
      "Target: 1\n",
      "Currents: 0.0\n",
      "Training \n",
      "\n",
      "\n",
      "Drain 3 Only\n"
     ]
    },
    {
     "data": {
      "application/vnd.jupyter.widget-view+json": {
       "model_id": "d9b6bdef09fc4362bba4d71210eb48bc",
       "version_major": 2,
       "version_minor": 0
      },
      "text/plain": [
       "Running Simulation :   0%|          | 0/200 [00:00<?, ?it/s]"
      ]
     },
     "metadata": {},
     "output_type": "display_data"
    },
    {
     "name": "stdout",
     "output_type": "stream",
     "text": [
      "Target: 1\n",
      "Currents: 0.0\n",
      "Training \n",
      "\n",
      "\n",
      "Drain 5 Only\n"
     ]
    },
    {
     "data": {
      "application/vnd.jupyter.widget-view+json": {
       "model_id": "3c0a98cb76b940759778831e7a55cbde",
       "version_major": 2,
       "version_minor": 0
      },
      "text/plain": [
       "Running Simulation :   0%|          | 0/200 [00:00<?, ?it/s]"
      ]
     },
     "metadata": {},
     "output_type": "display_data"
    },
    {
     "name": "stdout",
     "output_type": "stream",
     "text": [
      "Target: 1\n",
      "Currents: 0.0\n",
      "\n",
      "All Drains\n"
     ]
    },
    {
     "data": {
      "application/vnd.jupyter.widget-view+json": {
       "model_id": "9623fda75c8e42179ca772ee55367071",
       "version_major": 2,
       "version_minor": 0
      },
      "text/plain": [
       "Running Simulation :   0%|          | 0/200 [00:00<?, ?it/s]"
      ]
     },
     "metadata": {},
     "output_type": "display_data"
    },
    {
     "name": "stdout",
     "output_type": "stream",
     "text": [
      "Target: 1\n",
      "Currents: 3.2004986977120715e-07\n",
      "Testing \n",
      "\n",
      "Currents: [ 3.20049870e-07  1.11159758e-07  4.40629452e-07  7.97089137e-08\n",
      "  3.02122437e-07  8.95468433e-08  3.39410348e-07 -9.32792200e-07\n",
      " -4.75129549e-06]\n",
      "Target: 1.0\n",
      "Accuracy: 0\n",
      "New Target Threshold:5e-06\n",
      "Training \n",
      "\n",
      "\n",
      "Drain 1 Only\n"
     ]
    },
    {
     "data": {
      "application/vnd.jupyter.widget-view+json": {
       "model_id": "f9bd63a7bef5403e9482b53b0519aca9",
       "version_major": 2,
       "version_minor": 0
      },
      "text/plain": [
       "Running Simulation :   0%|          | 0/200 [00:00<?, ?it/s]"
      ]
     },
     "metadata": {},
     "output_type": "display_data"
    },
    {
     "name": "stdout",
     "output_type": "stream",
     "text": [
      "Target: 1\n",
      "Currents: 0.0\n",
      "Training \n",
      "\n",
      "\n",
      "Drain 3 Only\n"
     ]
    },
    {
     "data": {
      "application/vnd.jupyter.widget-view+json": {
       "model_id": "55acdd849f8f4f5bb9a5dce92a4b8fae",
       "version_major": 2,
       "version_minor": 0
      },
      "text/plain": [
       "Running Simulation :   0%|          | 0/200 [00:00<?, ?it/s]"
      ]
     },
     "metadata": {},
     "output_type": "display_data"
    },
    {
     "name": "stdout",
     "output_type": "stream",
     "text": [
      "Target: 1\n",
      "Currents: 0.0\n",
      "Training \n",
      "\n",
      "\n",
      "Drain 5 Only\n"
     ]
    },
    {
     "data": {
      "application/vnd.jupyter.widget-view+json": {
       "model_id": "f48081af646e4e278b1cc67b4a3693c4",
       "version_major": 2,
       "version_minor": 0
      },
      "text/plain": [
       "Running Simulation :   0%|          | 0/200 [00:00<?, ?it/s]"
      ]
     },
     "metadata": {},
     "output_type": "display_data"
    },
    {
     "name": "stdout",
     "output_type": "stream",
     "text": [
      "Target: 1\n",
      "Currents: 0.0\n",
      "Training \n",
      "\n",
      "\n",
      "Drain 2 Only\n"
     ]
    },
    {
     "data": {
      "application/vnd.jupyter.widget-view+json": {
       "model_id": "b666bb36b2e440ca9a7a6e2bb1cc44a6",
       "version_major": 2,
       "version_minor": 0
      },
      "text/plain": [
       "Running Simulation :   0%|          | 0/200 [00:00<?, ?it/s]"
      ]
     },
     "metadata": {},
     "output_type": "display_data"
    },
    {
     "name": "stdout",
     "output_type": "stream",
     "text": [
      "Target: 1\n",
      "Currents: 0.0\n",
      "Training \n",
      "\n",
      "\n",
      "Drain 4 Only\n"
     ]
    },
    {
     "data": {
      "application/vnd.jupyter.widget-view+json": {
       "model_id": "ed1a7c0ba2bf4e7a9435efc58435edcb",
       "version_major": 2,
       "version_minor": 0
      },
      "text/plain": [
       "Running Simulation :   0%|          | 0/200 [00:00<?, ?it/s]"
      ]
     },
     "metadata": {},
     "output_type": "display_data"
    },
    {
     "name": "stdout",
     "output_type": "stream",
     "text": [
      "Target: 1\n",
      "Currents: 0.0\n",
      "Training \n",
      "\n",
      "\n",
      "Drain 6 Only\n"
     ]
    },
    {
     "data": {
      "application/vnd.jupyter.widget-view+json": {
       "model_id": "f1845fe4d5df4684b5819e42bc50b4d2",
       "version_major": 2,
       "version_minor": 0
      },
      "text/plain": [
       "Running Simulation :   0%|          | 0/200 [00:00<?, ?it/s]"
      ]
     },
     "metadata": {},
     "output_type": "display_data"
    },
    {
     "name": "stdout",
     "output_type": "stream",
     "text": [
      "Target: 1\n",
      "Currents: 0.0\n",
      "Training \n",
      "\n",
      "\n",
      "Drain 7 Only\n"
     ]
    },
    {
     "data": {
      "application/vnd.jupyter.widget-view+json": {
       "model_id": "55256689deea4722a3bdf48b8712b544",
       "version_major": 2,
       "version_minor": 0
      },
      "text/plain": [
       "Running Simulation :   0%|          | 0/200 [00:00<?, ?it/s]"
      ]
     },
     "metadata": {},
     "output_type": "display_data"
    },
    {
     "name": "stdout",
     "output_type": "stream",
     "text": [
      "Target: 1\n",
      "Currents: 0.0\n",
      "\n",
      "All Drains\n"
     ]
    },
    {
     "data": {
      "application/vnd.jupyter.widget-view+json": {
       "model_id": "fffb419e640b41658f61d869bb19d17d",
       "version_major": 2,
       "version_minor": 0
      },
      "text/plain": [
       "Running Simulation :   0%|          | 0/200 [00:00<?, ?it/s]"
      ]
     },
     "metadata": {},
     "output_type": "display_data"
    },
    {
     "name": "stdout",
     "output_type": "stream",
     "text": [
      "Target: 1\n",
      "Currents: 1.521031985164829e-07\n",
      "Testing \n",
      "\n",
      "Currents: [ 1.52103199e-07  4.55884959e-07  2.69492931e-08  4.65503648e-08\n",
      "  1.08412344e-07  1.85355260e-07  1.87462772e-07 -2.22728005e-06\n",
      " -3.33008515e-06]\n",
      "Target: 1.0\n",
      "Accuracy: 0\n",
      "New Target Threshold:5e-06\n",
      "Training \n",
      "\n",
      "\n",
      "Drain 4 Only\n"
     ]
    },
    {
     "data": {
      "application/vnd.jupyter.widget-view+json": {
       "model_id": "5d22e356af9e4ff6be3936e893e54c3f",
       "version_major": 2,
       "version_minor": 0
      },
      "text/plain": [
       "Running Simulation :   0%|          | 0/200 [00:00<?, ?it/s]"
      ]
     },
     "metadata": {},
     "output_type": "display_data"
    },
    {
     "name": "stdout",
     "output_type": "stream",
     "text": [
      "Target: 1\n",
      "Currents: 0.0\n",
      "Training \n",
      "\n",
      "\n",
      "Drain 6 Only\n"
     ]
    },
    {
     "data": {
      "application/vnd.jupyter.widget-view+json": {
       "model_id": "9b1c9b55d3cd4605ac689c1f90ac3e1c",
       "version_major": 2,
       "version_minor": 0
      },
      "text/plain": [
       "Running Simulation :   0%|          | 0/200 [00:00<?, ?it/s]"
      ]
     },
     "metadata": {},
     "output_type": "display_data"
    },
    {
     "name": "stdout",
     "output_type": "stream",
     "text": [
      "Target: 1\n",
      "Currents: 0.0\n",
      "Training \n",
      "\n",
      "\n",
      "Drain 2 Only\n"
     ]
    },
    {
     "data": {
      "application/vnd.jupyter.widget-view+json": {
       "model_id": "f20e3df7a7d945a29c3952b39093bfd8",
       "version_major": 2,
       "version_minor": 0
      },
      "text/plain": [
       "Running Simulation :   0%|          | 0/200 [00:00<?, ?it/s]"
      ]
     },
     "metadata": {},
     "output_type": "display_data"
    },
    {
     "name": "stdout",
     "output_type": "stream",
     "text": [
      "Target: 1\n",
      "Currents: 0.0\n",
      "Training \n",
      "\n",
      "\n",
      "Drain 3 Only\n"
     ]
    },
    {
     "data": {
      "application/vnd.jupyter.widget-view+json": {
       "model_id": "cc27de467e854d79b48a7ae5d2b62c77",
       "version_major": 2,
       "version_minor": 0
      },
      "text/plain": [
       "Running Simulation :   0%|          | 0/200 [00:00<?, ?it/s]"
      ]
     },
     "metadata": {},
     "output_type": "display_data"
    },
    {
     "name": "stdout",
     "output_type": "stream",
     "text": [
      "Target: 1\n",
      "Currents: 0.0\n",
      "Training \n",
      "\n",
      "\n",
      "Drain 7 Only\n"
     ]
    },
    {
     "data": {
      "application/vnd.jupyter.widget-view+json": {
       "model_id": "3a7c9f6951b84631a627064289fbbdf0",
       "version_major": 2,
       "version_minor": 0
      },
      "text/plain": [
       "Running Simulation :   0%|          | 0/200 [00:00<?, ?it/s]"
      ]
     },
     "metadata": {},
     "output_type": "display_data"
    },
    {
     "name": "stdout",
     "output_type": "stream",
     "text": [
      "Target: 1\n",
      "Currents: 0.0\n",
      "Training \n",
      "\n",
      "\n",
      "Drain 5 Only\n"
     ]
    },
    {
     "data": {
      "application/vnd.jupyter.widget-view+json": {
       "model_id": "495bbfe1864f452ca0c44efbfea85ed9",
       "version_major": 2,
       "version_minor": 0
      },
      "text/plain": [
       "Running Simulation :   0%|          | 0/200 [00:00<?, ?it/s]"
      ]
     },
     "metadata": {},
     "output_type": "display_data"
    },
    {
     "name": "stdout",
     "output_type": "stream",
     "text": [
      "Target: 1\n",
      "Currents: 0.0\n",
      "Training \n",
      "\n",
      "\n",
      "Drain 1 Only\n"
     ]
    },
    {
     "data": {
      "application/vnd.jupyter.widget-view+json": {
       "model_id": "f6a857314c064b06935dbab2993a5aa7",
       "version_major": 2,
       "version_minor": 0
      },
      "text/plain": [
       "Running Simulation :   0%|          | 0/200 [00:00<?, ?it/s]"
      ]
     },
     "metadata": {},
     "output_type": "display_data"
    },
    {
     "name": "stdout",
     "output_type": "stream",
     "text": [
      "Target: 1\n",
      "Currents: 0.0\n",
      "\n",
      "All Drains\n"
     ]
    },
    {
     "data": {
      "application/vnd.jupyter.widget-view+json": {
       "model_id": "8e613247b6c04b10b690964e7b7bd361",
       "version_major": 2,
       "version_minor": 0
      },
      "text/plain": [
       "Running Simulation :   0%|          | 0/200 [00:00<?, ?it/s]"
      ]
     },
     "metadata": {},
     "output_type": "display_data"
    },
    {
     "name": "stdout",
     "output_type": "stream",
     "text": [
      "Target: 1\n",
      "Currents: 5.714953243951899e-07\n",
      "Testing \n",
      "\n",
      "Currents: [ 5.71495324e-07  2.28628295e-07  7.59462714e-08  1.28654426e-08\n",
      "  1.67547249e-07  2.16714962e-07  2.23579125e-07 -1.40307526e-06\n",
      " -4.59499917e-06]\n",
      "Target: 1.0\n",
      "Accuracy: 1\n",
      "New Target Threshold:5e-06\n",
      "Training \n",
      "\n",
      "\n",
      "Drain 7 Only\n"
     ]
    },
    {
     "data": {
      "application/vnd.jupyter.widget-view+json": {
       "model_id": "8d19cee85d1b4685ab2ad21f30bd36b1",
       "version_major": 2,
       "version_minor": 0
      },
      "text/plain": [
       "Running Simulation :   0%|          | 0/200 [00:00<?, ?it/s]"
      ]
     },
     "metadata": {},
     "output_type": "display_data"
    },
    {
     "name": "stdout",
     "output_type": "stream",
     "text": [
      "Target: 1\n",
      "Currents: 0.0\n",
      "Training \n",
      "\n",
      "\n",
      "Drain 3 Only\n"
     ]
    },
    {
     "data": {
      "application/vnd.jupyter.widget-view+json": {
       "model_id": "1a69a087af6d448d96187f5e8c5fb4e9",
       "version_major": 2,
       "version_minor": 0
      },
      "text/plain": [
       "Running Simulation :   0%|          | 0/200 [00:00<?, ?it/s]"
      ]
     },
     "metadata": {},
     "output_type": "display_data"
    },
    {
     "name": "stdout",
     "output_type": "stream",
     "text": [
      "Target: 1\n",
      "Currents: 0.0\n",
      "Training \n",
      "\n",
      "\n",
      "Drain 6 Only\n"
     ]
    },
    {
     "data": {
      "application/vnd.jupyter.widget-view+json": {
       "model_id": "7e0c0fb2abd84ba2b4d2f07ba2a5c1cc",
       "version_major": 2,
       "version_minor": 0
      },
      "text/plain": [
       "Running Simulation :   0%|          | 0/200 [00:00<?, ?it/s]"
      ]
     },
     "metadata": {},
     "output_type": "display_data"
    },
    {
     "name": "stdout",
     "output_type": "stream",
     "text": [
      "Target: 1\n",
      "Currents: 0.0\n",
      "Training \n",
      "\n",
      "\n",
      "Drain 2 Only\n"
     ]
    },
    {
     "data": {
      "application/vnd.jupyter.widget-view+json": {
       "model_id": "d34c25809f9c4934a45b42dea4e43c1f",
       "version_major": 2,
       "version_minor": 0
      },
      "text/plain": [
       "Running Simulation :   0%|          | 0/200 [00:00<?, ?it/s]"
      ]
     },
     "metadata": {},
     "output_type": "display_data"
    },
    {
     "name": "stdout",
     "output_type": "stream",
     "text": [
      "Target: 1\n",
      "Currents: 0.0\n",
      "Training \n",
      "\n",
      "\n",
      "Drain 5 Only\n"
     ]
    },
    {
     "data": {
      "application/vnd.jupyter.widget-view+json": {
       "model_id": "2772ce01b487450090226f3cb052ad6f",
       "version_major": 2,
       "version_minor": 0
      },
      "text/plain": [
       "Running Simulation :   0%|          | 0/200 [00:00<?, ?it/s]"
      ]
     },
     "metadata": {},
     "output_type": "display_data"
    },
    {
     "name": "stdout",
     "output_type": "stream",
     "text": [
      "Target: 1\n",
      "Currents: 0.0\n",
      "Training \n",
      "\n",
      "\n",
      "Drain 1 Only\n"
     ]
    },
    {
     "data": {
      "application/vnd.jupyter.widget-view+json": {
       "model_id": "ad20cbd05b5e49488dbbb3d72c352292",
       "version_major": 2,
       "version_minor": 0
      },
      "text/plain": [
       "Running Simulation :   0%|          | 0/200 [00:00<?, ?it/s]"
      ]
     },
     "metadata": {},
     "output_type": "display_data"
    },
    {
     "name": "stdout",
     "output_type": "stream",
     "text": [
      "Target: 1\n",
      "Currents: 0.0\n",
      "Training \n",
      "\n",
      "\n",
      "Drain 4 Only\n"
     ]
    },
    {
     "data": {
      "application/vnd.jupyter.widget-view+json": {
       "model_id": "8394fe9cbb82457aae5ef3a724dbb8cd",
       "version_major": 2,
       "version_minor": 0
      },
      "text/plain": [
       "Running Simulation :   0%|          | 0/200 [00:00<?, ?it/s]"
      ]
     },
     "metadata": {},
     "output_type": "display_data"
    },
    {
     "name": "stdout",
     "output_type": "stream",
     "text": [
      "Target: 1\n",
      "Currents: 0.0\n",
      "\n",
      "All Drains\n"
     ]
    },
    {
     "data": {
      "application/vnd.jupyter.widget-view+json": {
       "model_id": "5c44e8b82cf84ecbaea67abc88ade756",
       "version_major": 2,
       "version_minor": 0
      },
      "text/plain": [
       "Running Simulation :   0%|          | 0/200 [00:00<?, ?it/s]"
      ]
     },
     "metadata": {},
     "output_type": "display_data"
    },
    {
     "name": "stdout",
     "output_type": "stream",
     "text": [
      "Target: 1\n",
      "Currents: 4.56621602486299e-07\n",
      "Testing \n",
      "\n",
      "Currents: [ 4.56621602e-07  3.64509142e-07  2.01482196e-08  1.54707766e-07\n",
      "  1.05516522e-07  1.84608628e-07  1.86808108e-07 -1.81263818e-06\n",
      " -4.14900459e-06]\n",
      "Target: 1.0\n",
      "Accuracy: 1\n",
      "New Target Threshold:5e-06\n",
      "Training \n",
      "\n",
      "\n",
      "Drain 1 Only\n"
     ]
    },
    {
     "data": {
      "application/vnd.jupyter.widget-view+json": {
       "model_id": "458bfb98f2d64f6b9ca64877a90412d8",
       "version_major": 2,
       "version_minor": 0
      },
      "text/plain": [
       "Running Simulation :   0%|          | 0/200 [00:00<?, ?it/s]"
      ]
     },
     "metadata": {},
     "output_type": "display_data"
    },
    {
     "name": "stdout",
     "output_type": "stream",
     "text": [
      "Target: 1\n",
      "Currents: 0.0\n",
      "Training \n",
      "\n",
      "\n",
      "Drain 2 Only\n"
     ]
    },
    {
     "data": {
      "application/vnd.jupyter.widget-view+json": {
       "model_id": "bf4ad1e4b70a457da8bde427772eba83",
       "version_major": 2,
       "version_minor": 0
      },
      "text/plain": [
       "Running Simulation :   0%|          | 0/200 [00:00<?, ?it/s]"
      ]
     },
     "metadata": {},
     "output_type": "display_data"
    },
    {
     "name": "stdout",
     "output_type": "stream",
     "text": [
      "Target: 1\n",
      "Currents: 0.0\n",
      "Training \n",
      "\n",
      "\n",
      "Drain 4 Only\n"
     ]
    },
    {
     "data": {
      "application/vnd.jupyter.widget-view+json": {
       "model_id": "dcd89fb8fa58443cbc5b586613925683",
       "version_major": 2,
       "version_minor": 0
      },
      "text/plain": [
       "Running Simulation :   0%|          | 0/200 [00:00<?, ?it/s]"
      ]
     },
     "metadata": {},
     "output_type": "display_data"
    },
    {
     "name": "stdout",
     "output_type": "stream",
     "text": [
      "Target: 1\n",
      "Currents: 0.0\n",
      "Training \n",
      "\n",
      "\n",
      "Drain 3 Only\n"
     ]
    },
    {
     "data": {
      "application/vnd.jupyter.widget-view+json": {
       "model_id": "55bfac38a2e742d8bec23bdc4827d4a4",
       "version_major": 2,
       "version_minor": 0
      },
      "text/plain": [
       "Running Simulation :   0%|          | 0/200 [00:00<?, ?it/s]"
      ]
     },
     "metadata": {},
     "output_type": "display_data"
    },
    {
     "name": "stdout",
     "output_type": "stream",
     "text": [
      "Target: 1\n",
      "Currents: 0.0\n",
      "Training \n",
      "\n",
      "\n",
      "Drain 7 Only\n"
     ]
    },
    {
     "data": {
      "application/vnd.jupyter.widget-view+json": {
       "model_id": "ae693871abd44056b11be92d2dc8d777",
       "version_major": 2,
       "version_minor": 0
      },
      "text/plain": [
       "Running Simulation :   0%|          | 0/200 [00:00<?, ?it/s]"
      ]
     },
     "metadata": {},
     "output_type": "display_data"
    },
    {
     "name": "stdout",
     "output_type": "stream",
     "text": [
      "Target: 1\n",
      "Currents: 0.0\n",
      "Training \n",
      "\n",
      "\n",
      "Drain 6 Only\n"
     ]
    },
    {
     "data": {
      "application/vnd.jupyter.widget-view+json": {
       "model_id": "cde95d7b68634fbb8e574004c93690fe",
       "version_major": 2,
       "version_minor": 0
      },
      "text/plain": [
       "Running Simulation :   0%|          | 0/200 [00:00<?, ?it/s]"
      ]
     },
     "metadata": {},
     "output_type": "display_data"
    },
    {
     "name": "stdout",
     "output_type": "stream",
     "text": [
      "Target: 1\n",
      "Currents: 0.0\n",
      "Training \n",
      "\n",
      "\n",
      "Drain 5 Only\n"
     ]
    },
    {
     "data": {
      "application/vnd.jupyter.widget-view+json": {
       "model_id": "204033f790d24c5cb86f3dc224f768b1",
       "version_major": 2,
       "version_minor": 0
      },
      "text/plain": [
       "Running Simulation :   0%|          | 0/200 [00:00<?, ?it/s]"
      ]
     },
     "metadata": {},
     "output_type": "display_data"
    },
    {
     "name": "stdout",
     "output_type": "stream",
     "text": [
      "Target: 1\n",
      "Currents: 0.0\n",
      "\n",
      "All Drains\n"
     ]
    },
    {
     "data": {
      "application/vnd.jupyter.widget-view+json": {
       "model_id": "327b9efe71c5404da194754014c5b15a",
       "version_major": 2,
       "version_minor": 0
      },
      "text/plain": [
       "Running Simulation :   0%|          | 0/200 [00:00<?, ?it/s]"
      ]
     },
     "metadata": {},
     "output_type": "display_data"
    },
    {
     "name": "stdout",
     "output_type": "stream",
     "text": [
      "Target: 1\n",
      "Currents: 2.406645579029022e-07\n",
      "Testing \n",
      "\n",
      "Currents: [ 2.40664558e-07  2.86801521e-08  9.65512157e-08  2.78619754e-08\n",
      "  2.69068001e-07  1.31346989e-07  2.83923131e-07 -3.65007338e-07\n",
      " -5.07488908e-06]\n",
      "Target: 1.0\n",
      "Accuracy: 1\n",
      "New Target Threshold:5e-06\n",
      "Training \n",
      "\n",
      "\n",
      "Drain 3 Only\n"
     ]
    },
    {
     "data": {
      "application/vnd.jupyter.widget-view+json": {
       "model_id": "b93bd7c22b6f4001bc665d5f94e26166",
       "version_major": 2,
       "version_minor": 0
      },
      "text/plain": [
       "Running Simulation :   0%|          | 0/200 [00:00<?, ?it/s]"
      ]
     },
     "metadata": {},
     "output_type": "display_data"
    },
    {
     "name": "stdout",
     "output_type": "stream",
     "text": [
      "Target: 1\n",
      "Currents: 0.0\n",
      "Training \n",
      "\n",
      "\n",
      "Drain 7 Only\n"
     ]
    },
    {
     "data": {
      "application/vnd.jupyter.widget-view+json": {
       "model_id": "bb342bb701c841929dc1c4f94eeddf5a",
       "version_major": 2,
       "version_minor": 0
      },
      "text/plain": [
       "Running Simulation :   0%|          | 0/200 [00:00<?, ?it/s]"
      ]
     },
     "metadata": {},
     "output_type": "display_data"
    },
    {
     "name": "stdout",
     "output_type": "stream",
     "text": [
      "Target: 1\n",
      "Currents: 0.0\n",
      "Training \n",
      "\n",
      "\n",
      "Drain 1 Only\n"
     ]
    },
    {
     "data": {
      "application/vnd.jupyter.widget-view+json": {
       "model_id": "c66dee75f736400d8fa8e4577c418f78",
       "version_major": 2,
       "version_minor": 0
      },
      "text/plain": [
       "Running Simulation :   0%|          | 0/200 [00:00<?, ?it/s]"
      ]
     },
     "metadata": {},
     "output_type": "display_data"
    },
    {
     "name": "stdout",
     "output_type": "stream",
     "text": [
      "Target: 1\n",
      "Currents: 0.0\n",
      "Training \n",
      "\n",
      "\n",
      "Drain 6 Only\n"
     ]
    },
    {
     "data": {
      "application/vnd.jupyter.widget-view+json": {
       "model_id": "854ab2830e4e4c0597bcf29e8df55c2e",
       "version_major": 2,
       "version_minor": 0
      },
      "text/plain": [
       "Running Simulation :   0%|          | 0/200 [00:00<?, ?it/s]"
      ]
     },
     "metadata": {},
     "output_type": "display_data"
    },
    {
     "name": "stdout",
     "output_type": "stream",
     "text": [
      "Target: 1\n",
      "Currents: 0.0\n",
      "Training \n",
      "\n",
      "\n",
      "Drain 2 Only\n"
     ]
    },
    {
     "data": {
      "application/vnd.jupyter.widget-view+json": {
       "model_id": "4dc47bd9d1c344a8b685402a1787f66f",
       "version_major": 2,
       "version_minor": 0
      },
      "text/plain": [
       "Running Simulation :   0%|          | 0/200 [00:00<?, ?it/s]"
      ]
     },
     "metadata": {},
     "output_type": "display_data"
    },
    {
     "name": "stdout",
     "output_type": "stream",
     "text": [
      "Target: 1\n",
      "Currents: 0.0\n",
      "Training \n",
      "\n",
      "\n",
      "Drain 5 Only\n"
     ]
    },
    {
     "data": {
      "application/vnd.jupyter.widget-view+json": {
       "model_id": "d5eb0d1fe99e4fe08c7c0558cecac066",
       "version_major": 2,
       "version_minor": 0
      },
      "text/plain": [
       "Running Simulation :   0%|          | 0/200 [00:00<?, ?it/s]"
      ]
     },
     "metadata": {},
     "output_type": "display_data"
    },
    {
     "name": "stdout",
     "output_type": "stream",
     "text": [
      "Target: 1\n",
      "Currents: 0.0\n",
      "Training \n",
      "\n",
      "\n",
      "Drain 4 Only\n"
     ]
    },
    {
     "data": {
      "application/vnd.jupyter.widget-view+json": {
       "model_id": "69ab9e7379df457481104cd5b56eee4c",
       "version_major": 2,
       "version_minor": 0
      },
      "text/plain": [
       "Running Simulation :   0%|          | 0/200 [00:00<?, ?it/s]"
      ]
     },
     "metadata": {},
     "output_type": "display_data"
    },
    {
     "name": "stdout",
     "output_type": "stream",
     "text": [
      "Target: 1\n",
      "Currents: 0.0\n",
      "\n",
      "All Drains\n"
     ]
    },
    {
     "data": {
      "application/vnd.jupyter.widget-view+json": {
       "model_id": "743b4d41afcf4417a17ddbcb8faa7cd6",
       "version_major": 2,
       "version_minor": 0
      },
      "text/plain": [
       "Running Simulation :   0%|          | 0/200 [00:00<?, ?it/s]"
      ]
     },
     "metadata": {},
     "output_type": "display_data"
    },
    {
     "name": "stdout",
     "output_type": "stream",
     "text": [
      "Target: 1\n",
      "Currents: 2.441152605748021e-07\n",
      "Testing \n",
      "\n",
      "Currents: [ 2.44115261e-07  3.98275176e-07  1.45636217e-08  2.19078741e-07\n",
      "  3.46757154e-07  2.13674618e-07  2.22081456e-07 -1.77931421e-06\n",
      " -4.40677328e-06]\n",
      "Target: 1.0\n",
      "Accuracy: 0\n",
      "New Target Threshold:5e-06\n",
      "Training \n",
      "\n",
      "\n",
      "Drain 6 Only\n"
     ]
    },
    {
     "data": {
      "application/vnd.jupyter.widget-view+json": {
       "model_id": "ea41f51ac45647c98ad75efcbf55a516",
       "version_major": 2,
       "version_minor": 0
      },
      "text/plain": [
       "Running Simulation :   0%|          | 0/200 [00:00<?, ?it/s]"
      ]
     },
     "metadata": {},
     "output_type": "display_data"
    },
    {
     "name": "stdout",
     "output_type": "stream",
     "text": [
      "Target: 1\n",
      "Currents: 0.0\n",
      "Training \n",
      "\n",
      "\n",
      "Drain 2 Only\n"
     ]
    },
    {
     "data": {
      "application/vnd.jupyter.widget-view+json": {
       "model_id": "cb4a69177fc24267a37a3c0289f26ca3",
       "version_major": 2,
       "version_minor": 0
      },
      "text/plain": [
       "Running Simulation :   0%|          | 0/200 [00:00<?, ?it/s]"
      ]
     },
     "metadata": {},
     "output_type": "display_data"
    },
    {
     "name": "stdout",
     "output_type": "stream",
     "text": [
      "Target: 1\n",
      "Currents: 0.0\n",
      "Training \n",
      "\n",
      "\n",
      "Drain 3 Only\n"
     ]
    },
    {
     "data": {
      "application/vnd.jupyter.widget-view+json": {
       "model_id": "fba3e9dfea0d438b90a980b06465e38b",
       "version_major": 2,
       "version_minor": 0
      },
      "text/plain": [
       "Running Simulation :   0%|          | 0/200 [00:00<?, ?it/s]"
      ]
     },
     "metadata": {},
     "output_type": "display_data"
    },
    {
     "name": "stdout",
     "output_type": "stream",
     "text": [
      "Target: 1\n",
      "Currents: 0.0\n",
      "Training \n",
      "\n",
      "\n",
      "Drain 5 Only\n"
     ]
    },
    {
     "data": {
      "application/vnd.jupyter.widget-view+json": {
       "model_id": "ee5f0bec25e94e248ecaf3c05708f3f6",
       "version_major": 2,
       "version_minor": 0
      },
      "text/plain": [
       "Running Simulation :   0%|          | 0/200 [00:00<?, ?it/s]"
      ]
     },
     "metadata": {},
     "output_type": "display_data"
    },
    {
     "name": "stdout",
     "output_type": "stream",
     "text": [
      "Target: 1\n",
      "Currents: 0.0\n",
      "Training \n",
      "\n",
      "\n",
      "Drain 7 Only\n"
     ]
    },
    {
     "data": {
      "application/vnd.jupyter.widget-view+json": {
       "model_id": "a609e20616844f85b83c1ab3bac68ebd",
       "version_major": 2,
       "version_minor": 0
      },
      "text/plain": [
       "Running Simulation :   0%|          | 0/200 [00:00<?, ?it/s]"
      ]
     },
     "metadata": {},
     "output_type": "display_data"
    },
    {
     "name": "stdout",
     "output_type": "stream",
     "text": [
      "Target: 1\n",
      "Currents: 0.0\n",
      "Training \n",
      "\n",
      "\n",
      "Drain 1 Only\n"
     ]
    },
    {
     "data": {
      "application/vnd.jupyter.widget-view+json": {
       "model_id": "7c9f70348f974f41a4f901816c7c6488",
       "version_major": 2,
       "version_minor": 0
      },
      "text/plain": [
       "Running Simulation :   0%|          | 0/200 [00:00<?, ?it/s]"
      ]
     },
     "metadata": {},
     "output_type": "display_data"
    },
    {
     "name": "stdout",
     "output_type": "stream",
     "text": [
      "Target: 1\n",
      "Currents: 0.0\n",
      "Training \n",
      "\n",
      "\n",
      "Drain 4 Only\n"
     ]
    },
    {
     "data": {
      "application/vnd.jupyter.widget-view+json": {
       "model_id": "3f69ea83c396440e98520e31f5cd9e75",
       "version_major": 2,
       "version_minor": 0
      },
      "text/plain": [
       "Running Simulation :   0%|          | 0/200 [00:00<?, ?it/s]"
      ]
     },
     "metadata": {},
     "output_type": "display_data"
    },
    {
     "name": "stdout",
     "output_type": "stream",
     "text": [
      "Target: 1\n",
      "Currents: 0.0\n",
      "\n",
      "All Drains\n"
     ]
    },
    {
     "data": {
      "application/vnd.jupyter.widget-view+json": {
       "model_id": "52f54adcef9d4c68a9c22e39c4587fbe",
       "version_major": 2,
       "version_minor": 0
      },
      "text/plain": [
       "Running Simulation :   0%|          | 0/200 [00:00<?, ?it/s]"
      ]
     },
     "metadata": {},
     "output_type": "display_data"
    },
    {
     "name": "stdout",
     "output_type": "stream",
     "text": [
      "Target: 1\n",
      "Currents: 4.906545763218365e-07\n",
      "Testing \n",
      "\n",
      "Currents: [ 4.90654576e-07  1.07186599e-07  3.84009743e-08  2.43769507e-07\n",
      "  1.01125848e-07  1.84284436e-07  1.85033401e-07 -1.36212209e-06\n",
      " -4.74609682e-06]\n",
      "Target: 1.0\n",
      "Accuracy: 1\n",
      "New Target Threshold:5e-06\n",
      "Training \n",
      "\n",
      "\n",
      "Drain 7 Only\n"
     ]
    },
    {
     "data": {
      "application/vnd.jupyter.widget-view+json": {
       "model_id": "0c8786d213a84b9e862f09266ea1926f",
       "version_major": 2,
       "version_minor": 0
      },
      "text/plain": [
       "Running Simulation :   0%|          | 0/200 [00:00<?, ?it/s]"
      ]
     },
     "metadata": {},
     "output_type": "display_data"
    },
    {
     "name": "stdout",
     "output_type": "stream",
     "text": [
      "Target: 1\n",
      "Currents: 0.0\n",
      "Training \n",
      "\n",
      "\n",
      "Drain 4 Only\n"
     ]
    },
    {
     "data": {
      "application/vnd.jupyter.widget-view+json": {
       "model_id": "cbb69ecbb03c4f1f983e2e2416bdbb66",
       "version_major": 2,
       "version_minor": 0
      },
      "text/plain": [
       "Running Simulation :   0%|          | 0/200 [00:00<?, ?it/s]"
      ]
     },
     "metadata": {},
     "output_type": "display_data"
    },
    {
     "name": "stdout",
     "output_type": "stream",
     "text": [
      "Target: 1\n",
      "Currents: 0.0\n",
      "Training \n",
      "\n",
      "\n",
      "Drain 6 Only\n"
     ]
    },
    {
     "data": {
      "application/vnd.jupyter.widget-view+json": {
       "model_id": "3bb39e3d7f0041dd88742f0485d01b6e",
       "version_major": 2,
       "version_minor": 0
      },
      "text/plain": [
       "Running Simulation :   0%|          | 0/200 [00:00<?, ?it/s]"
      ]
     },
     "metadata": {},
     "output_type": "display_data"
    },
    {
     "name": "stdout",
     "output_type": "stream",
     "text": [
      "Target: 1\n",
      "Currents: 0.0\n",
      "Training \n",
      "\n",
      "\n",
      "Drain 2 Only\n"
     ]
    },
    {
     "data": {
      "application/vnd.jupyter.widget-view+json": {
       "model_id": "9b5d71c8d99e4887ae4b99a93d75132d",
       "version_major": 2,
       "version_minor": 0
      },
      "text/plain": [
       "Running Simulation :   0%|          | 0/200 [00:00<?, ?it/s]"
      ]
     },
     "metadata": {},
     "output_type": "display_data"
    },
    {
     "name": "stdout",
     "output_type": "stream",
     "text": [
      "Target: 1\n",
      "Currents: 0.0\n",
      "Training \n",
      "\n",
      "\n",
      "Drain 1 Only\n"
     ]
    },
    {
     "data": {
      "application/vnd.jupyter.widget-view+json": {
       "model_id": "2721d45ecad94267befe66431dd5e75a",
       "version_major": 2,
       "version_minor": 0
      },
      "text/plain": [
       "Running Simulation :   0%|          | 0/200 [00:00<?, ?it/s]"
      ]
     },
     "metadata": {},
     "output_type": "display_data"
    },
    {
     "name": "stdout",
     "output_type": "stream",
     "text": [
      "Target: 1\n",
      "Currents: 0.0\n",
      "Training \n",
      "\n",
      "\n",
      "Drain 3 Only\n"
     ]
    },
    {
     "data": {
      "application/vnd.jupyter.widget-view+json": {
       "model_id": "54d3dd4b41c04ac5834dd9cf7eacd90c",
       "version_major": 2,
       "version_minor": 0
      },
      "text/plain": [
       "Running Simulation :   0%|          | 0/200 [00:00<?, ?it/s]"
      ]
     },
     "metadata": {},
     "output_type": "display_data"
    },
    {
     "name": "stdout",
     "output_type": "stream",
     "text": [
      "Target: 1\n",
      "Currents: 0.0\n",
      "Training \n",
      "\n",
      "\n",
      "Drain 5 Only\n"
     ]
    },
    {
     "data": {
      "application/vnd.jupyter.widget-view+json": {
       "model_id": "c0410c8deb6d4e8ca389d56a9508f763",
       "version_major": 2,
       "version_minor": 0
      },
      "text/plain": [
       "Running Simulation :   0%|          | 0/200 [00:00<?, ?it/s]"
      ]
     },
     "metadata": {},
     "output_type": "display_data"
    },
    {
     "name": "stdout",
     "output_type": "stream",
     "text": [
      "Target: 1\n",
      "Currents: 0.0\n",
      "\n",
      "All Drains\n"
     ]
    },
    {
     "data": {
      "application/vnd.jupyter.widget-view+json": {
       "model_id": "40eaff7f9c52421dab02ea78a525aeb9",
       "version_major": 2,
       "version_minor": 0
      },
      "text/plain": [
       "Running Simulation :   0%|          | 0/200 [00:00<?, ?it/s]"
      ]
     },
     "metadata": {},
     "output_type": "display_data"
    },
    {
     "name": "stdout",
     "output_type": "stream",
     "text": [
      "Target: 1\n",
      "Currents: 4.2177169765374163e-07\n",
      "Testing \n",
      "\n",
      "Currents: [ 4.21771698e-07  1.50791920e-07  2.32078085e-07  3.26165436e-08\n",
      "  3.82088577e-07  2.08598974e-07  2.09741666e-07 -1.92662877e-06\n",
      " -4.40673426e-06]\n",
      "Target: 1.0\n",
      "Accuracy: 1\n",
      "New Target Threshold:5e-06\n",
      "Training \n",
      "\n",
      "\n",
      "Drain 3 Only\n"
     ]
    },
    {
     "data": {
      "application/vnd.jupyter.widget-view+json": {
       "model_id": "cd9a8b8cb129402dab9b6919c716ead2",
       "version_major": 2,
       "version_minor": 0
      },
      "text/plain": [
       "Running Simulation :   0%|          | 0/200 [00:00<?, ?it/s]"
      ]
     },
     "metadata": {},
     "output_type": "display_data"
    },
    {
     "name": "stdout",
     "output_type": "stream",
     "text": [
      "Target: 1\n",
      "Currents: 0.0\n",
      "Training \n",
      "\n",
      "\n",
      "Drain 4 Only\n"
     ]
    },
    {
     "data": {
      "application/vnd.jupyter.widget-view+json": {
       "model_id": "274e6958c25b4302b9073c618d636dfa",
       "version_major": 2,
       "version_minor": 0
      },
      "text/plain": [
       "Running Simulation :   0%|          | 0/200 [00:00<?, ?it/s]"
      ]
     },
     "metadata": {},
     "output_type": "display_data"
    },
    {
     "name": "stdout",
     "output_type": "stream",
     "text": [
      "Target: 1\n",
      "Currents: 0.0\n",
      "Training \n",
      "\n",
      "\n",
      "Drain 6 Only\n"
     ]
    },
    {
     "data": {
      "application/vnd.jupyter.widget-view+json": {
       "model_id": "47d8497005614e2f97aada008c95c849",
       "version_major": 2,
       "version_minor": 0
      },
      "text/plain": [
       "Running Simulation :   0%|          | 0/200 [00:00<?, ?it/s]"
      ]
     },
     "metadata": {},
     "output_type": "display_data"
    },
    {
     "name": "stdout",
     "output_type": "stream",
     "text": [
      "Target: 1\n",
      "Currents: 0.0\n",
      "Training \n",
      "\n",
      "\n",
      "Drain 7 Only\n"
     ]
    },
    {
     "data": {
      "application/vnd.jupyter.widget-view+json": {
       "model_id": "f07fb3e0a7514106824ea490788fd335",
       "version_major": 2,
       "version_minor": 0
      },
      "text/plain": [
       "Running Simulation :   0%|          | 0/200 [00:00<?, ?it/s]"
      ]
     },
     "metadata": {},
     "output_type": "display_data"
    },
    {
     "name": "stdout",
     "output_type": "stream",
     "text": [
      "Target: 1\n",
      "Currents: 0.0\n",
      "Training \n",
      "\n",
      "\n",
      "Drain 5 Only\n"
     ]
    },
    {
     "data": {
      "application/vnd.jupyter.widget-view+json": {
       "model_id": "83d9926159524b0b9fe80923b565eb1b",
       "version_major": 2,
       "version_minor": 0
      },
      "text/plain": [
       "Running Simulation :   0%|          | 0/200 [00:00<?, ?it/s]"
      ]
     },
     "metadata": {},
     "output_type": "display_data"
    },
    {
     "name": "stdout",
     "output_type": "stream",
     "text": [
      "Target: 1\n",
      "Currents: 0.0\n",
      "Training \n",
      "\n",
      "\n",
      "Drain 1 Only\n"
     ]
    },
    {
     "data": {
      "application/vnd.jupyter.widget-view+json": {
       "model_id": "81b7aebdcfcb4e2cb9a9341c33ee666c",
       "version_major": 2,
       "version_minor": 0
      },
      "text/plain": [
       "Running Simulation :   0%|          | 0/200 [00:00<?, ?it/s]"
      ]
     },
     "metadata": {},
     "output_type": "display_data"
    },
    {
     "name": "stdout",
     "output_type": "stream",
     "text": [
      "Target: 1\n",
      "Currents: 0.0\n",
      "Training \n",
      "\n",
      "\n",
      "Drain 2 Only\n"
     ]
    },
    {
     "data": {
      "application/vnd.jupyter.widget-view+json": {
       "model_id": "bbcf6c19f5ea487ea212b1a96c0e04c3",
       "version_major": 2,
       "version_minor": 0
      },
      "text/plain": [
       "Running Simulation :   0%|          | 0/200 [00:00<?, ?it/s]"
      ]
     },
     "metadata": {},
     "output_type": "display_data"
    },
    {
     "name": "stdout",
     "output_type": "stream",
     "text": [
      "Target: 1\n",
      "Currents: 0.0\n",
      "\n",
      "All Drains\n"
     ]
    },
    {
     "data": {
      "application/vnd.jupyter.widget-view+json": {
       "model_id": "b26c52cb824c4789abd7adfb74fee50d",
       "version_major": 2,
       "version_minor": 0
      },
      "text/plain": [
       "Running Simulation :   0%|          | 0/200 [00:00<?, ?it/s]"
      ]
     },
     "metadata": {},
     "output_type": "display_data"
    },
    {
     "name": "stdout",
     "output_type": "stream",
     "text": [
      "Target: 1\n",
      "Currents: 4.916668786301284e-07\n",
      "Testing \n",
      "\n",
      "Currents: [ 4.91666879e-07  6.54190446e-07  1.91291430e-08  1.53745147e-08\n",
      "  2.55922298e-07  1.39539489e-07  1.39533819e-07 -2.11747706e-06\n",
      " -4.40099619e-06]\n",
      "Target: 1.0\n",
      "Accuracy: 0\n",
      "New Target Threshold:5e-06\n",
      "Training \n",
      "\n",
      "\n",
      "Drain 6 Only\n"
     ]
    },
    {
     "data": {
      "application/vnd.jupyter.widget-view+json": {
       "model_id": "820e33c91a2c4838a6c417ded96e2650",
       "version_major": 2,
       "version_minor": 0
      },
      "text/plain": [
       "Running Simulation :   0%|          | 0/200 [00:00<?, ?it/s]"
      ]
     },
     "metadata": {},
     "output_type": "display_data"
    },
    {
     "name": "stdout",
     "output_type": "stream",
     "text": [
      "Target: 1\n",
      "Currents: 0.0\n",
      "Training \n",
      "\n",
      "\n",
      "Drain 4 Only\n"
     ]
    },
    {
     "data": {
      "application/vnd.jupyter.widget-view+json": {
       "model_id": "98b6c1b2e8294531983f117cd86fe76b",
       "version_major": 2,
       "version_minor": 0
      },
      "text/plain": [
       "Running Simulation :   0%|          | 0/200 [00:00<?, ?it/s]"
      ]
     },
     "metadata": {},
     "output_type": "display_data"
    },
    {
     "name": "stdout",
     "output_type": "stream",
     "text": [
      "Target: 1\n",
      "Currents: 0.0\n",
      "Training \n",
      "\n",
      "\n",
      "Drain 3 Only\n"
     ]
    },
    {
     "data": {
      "application/vnd.jupyter.widget-view+json": {
       "model_id": "f88e9ac1e3a5499ba22625dd7326a845",
       "version_major": 2,
       "version_minor": 0
      },
      "text/plain": [
       "Running Simulation :   0%|          | 0/200 [00:00<?, ?it/s]"
      ]
     },
     "metadata": {},
     "output_type": "display_data"
    },
    {
     "name": "stdout",
     "output_type": "stream",
     "text": [
      "Target: 1\n",
      "Currents: 0.0\n",
      "Training \n",
      "\n",
      "\n",
      "Drain 7 Only\n"
     ]
    },
    {
     "data": {
      "application/vnd.jupyter.widget-view+json": {
       "model_id": "d1170468a184492ba23a7c82f7e46dcb",
       "version_major": 2,
       "version_minor": 0
      },
      "text/plain": [
       "Running Simulation :   0%|          | 0/200 [00:00<?, ?it/s]"
      ]
     },
     "metadata": {},
     "output_type": "display_data"
    },
    {
     "name": "stdout",
     "output_type": "stream",
     "text": [
      "Target: 1\n",
      "Currents: 0.0\n",
      "Training \n",
      "\n",
      "\n",
      "Drain 2 Only\n"
     ]
    },
    {
     "data": {
      "application/vnd.jupyter.widget-view+json": {
       "model_id": "c2605cf99f23431caa3ce0115762e25a",
       "version_major": 2,
       "version_minor": 0
      },
      "text/plain": [
       "Running Simulation :   0%|          | 0/200 [00:00<?, ?it/s]"
      ]
     },
     "metadata": {},
     "output_type": "display_data"
    },
    {
     "name": "stdout",
     "output_type": "stream",
     "text": [
      "Target: 1\n",
      "Currents: 0.0\n",
      "Training \n",
      "\n",
      "\n",
      "Drain 1 Only\n"
     ]
    },
    {
     "data": {
      "application/vnd.jupyter.widget-view+json": {
       "model_id": "869964bea96040e6a621d5e738516c80",
       "version_major": 2,
       "version_minor": 0
      },
      "text/plain": [
       "Running Simulation :   0%|          | 0/200 [00:00<?, ?it/s]"
      ]
     },
     "metadata": {},
     "output_type": "display_data"
    },
    {
     "name": "stdout",
     "output_type": "stream",
     "text": [
      "Target: 1\n",
      "Currents: 0.0\n",
      "Training \n",
      "\n",
      "\n",
      "Drain 5 Only\n"
     ]
    },
    {
     "data": {
      "application/vnd.jupyter.widget-view+json": {
       "model_id": "39101bee21a44ab6b36e0e26b1b5baf8",
       "version_major": 2,
       "version_minor": 0
      },
      "text/plain": [
       "Running Simulation :   0%|          | 0/200 [00:00<?, ?it/s]"
      ]
     },
     "metadata": {},
     "output_type": "display_data"
    },
    {
     "name": "stdout",
     "output_type": "stream",
     "text": [
      "Target: 1\n",
      "Currents: 0.0\n",
      "\n",
      "All Drains\n"
     ]
    },
    {
     "data": {
      "application/vnd.jupyter.widget-view+json": {
       "model_id": "39f9120a73b4478fa83fb41d05870b1e",
       "version_major": 2,
       "version_minor": 0
      },
      "text/plain": [
       "Running Simulation :   0%|          | 0/200 [00:00<?, ?it/s]"
      ]
     },
     "metadata": {},
     "output_type": "display_data"
    },
    {
     "name": "stdout",
     "output_type": "stream",
     "text": [
      "Target: 1\n",
      "Currents: 5.773301205331717e-07\n",
      "Testing \n",
      "\n",
      "Currents: [ 5.77330121e-07  2.95467643e-07  6.06139581e-08  2.74556097e-08\n",
      "  3.75588622e-07  1.57709248e-07  1.60513168e-07 -2.03098249e-06\n",
      " -4.33087055e-06]\n",
      "Target: 1.0\n",
      "Accuracy: 1\n",
      "New Target Threshold:5e-06\n",
      "Training \n",
      "\n",
      "\n",
      "Drain 5 Only\n"
     ]
    },
    {
     "data": {
      "application/vnd.jupyter.widget-view+json": {
       "model_id": "47455e14c12143b1ac2b1526fd9ad9e2",
       "version_major": 2,
       "version_minor": 0
      },
      "text/plain": [
       "Running Simulation :   0%|          | 0/200 [00:00<?, ?it/s]"
      ]
     },
     "metadata": {},
     "output_type": "display_data"
    },
    {
     "name": "stdout",
     "output_type": "stream",
     "text": [
      "Target: 1\n",
      "Currents: 0.0\n",
      "Training \n",
      "\n",
      "\n",
      "Drain 2 Only\n"
     ]
    },
    {
     "data": {
      "application/vnd.jupyter.widget-view+json": {
       "model_id": "f1db7a24bd814a329411d75e957cdf5b",
       "version_major": 2,
       "version_minor": 0
      },
      "text/plain": [
       "Running Simulation :   0%|          | 0/200 [00:00<?, ?it/s]"
      ]
     },
     "metadata": {},
     "output_type": "display_data"
    },
    {
     "name": "stdout",
     "output_type": "stream",
     "text": [
      "Target: 1\n",
      "Currents: 0.0\n",
      "Training \n",
      "\n",
      "\n",
      "Drain 4 Only\n"
     ]
    },
    {
     "data": {
      "application/vnd.jupyter.widget-view+json": {
       "model_id": "f09627a2b9404232b7a5e9401674369a",
       "version_major": 2,
       "version_minor": 0
      },
      "text/plain": [
       "Running Simulation :   0%|          | 0/200 [00:00<?, ?it/s]"
      ]
     },
     "metadata": {},
     "output_type": "display_data"
    },
    {
     "name": "stdout",
     "output_type": "stream",
     "text": [
      "Target: 1\n",
      "Currents: 0.0\n",
      "Training \n",
      "\n",
      "\n",
      "Drain 3 Only\n"
     ]
    },
    {
     "data": {
      "application/vnd.jupyter.widget-view+json": {
       "model_id": "e68d4d42e9c34c34865e9fdede601589",
       "version_major": 2,
       "version_minor": 0
      },
      "text/plain": [
       "Running Simulation :   0%|          | 0/200 [00:00<?, ?it/s]"
      ]
     },
     "metadata": {},
     "output_type": "display_data"
    },
    {
     "name": "stdout",
     "output_type": "stream",
     "text": [
      "Target: 1\n",
      "Currents: 0.0\n",
      "Training \n",
      "\n",
      "\n",
      "Drain 1 Only\n"
     ]
    },
    {
     "data": {
      "application/vnd.jupyter.widget-view+json": {
       "model_id": "d94a666e89f14ec489c1a4732a77ef4b",
       "version_major": 2,
       "version_minor": 0
      },
      "text/plain": [
       "Running Simulation :   0%|          | 0/200 [00:00<?, ?it/s]"
      ]
     },
     "metadata": {},
     "output_type": "display_data"
    },
    {
     "name": "stdout",
     "output_type": "stream",
     "text": [
      "Target: 1\n",
      "Currents: 0.0\n",
      "Training \n",
      "\n",
      "\n",
      "Drain 7 Only\n"
     ]
    },
    {
     "data": {
      "application/vnd.jupyter.widget-view+json": {
       "model_id": "37d05a40b9374018b420374bd2890d77",
       "version_major": 2,
       "version_minor": 0
      },
      "text/plain": [
       "Running Simulation :   0%|          | 0/200 [00:00<?, ?it/s]"
      ]
     },
     "metadata": {},
     "output_type": "display_data"
    },
    {
     "name": "stdout",
     "output_type": "stream",
     "text": [
      "Target: 1\n",
      "Currents: 0.0\n",
      "Training \n",
      "\n",
      "\n",
      "Drain 6 Only\n"
     ]
    },
    {
     "data": {
      "application/vnd.jupyter.widget-view+json": {
       "model_id": "b49e222933c14a9abcb2227a8db0bde0",
       "version_major": 2,
       "version_minor": 0
      },
      "text/plain": [
       "Running Simulation :   0%|          | 0/200 [00:00<?, ?it/s]"
      ]
     },
     "metadata": {},
     "output_type": "display_data"
    },
    {
     "name": "stdout",
     "output_type": "stream",
     "text": [
      "Target: 1\n",
      "Currents: 0.0\n",
      "\n",
      "All Drains\n"
     ]
    },
    {
     "data": {
      "application/vnd.jupyter.widget-view+json": {
       "model_id": "96701b07379046c98af54328af466374",
       "version_major": 2,
       "version_minor": 0
      },
      "text/plain": [
       "Running Simulation :   0%|          | 0/200 [00:00<?, ?it/s]"
      ]
     },
     "metadata": {},
     "output_type": "display_data"
    },
    {
     "name": "stdout",
     "output_type": "stream",
     "text": [
      "Target: 1\n",
      "Currents: 4.6744067634232643e-07\n",
      "Testing \n",
      "\n",
      "Currents: [ 4.67440676e-07  4.95060004e-08  1.02326870e-07  1.83299471e-08\n",
      "  7.54385849e-08  1.93574888e-07  2.12412483e-07 -9.04184921e-07\n",
      " -4.92742575e-06]\n",
      "Target: 1.0\n",
      "Accuracy: 1\n",
      "New Target Threshold:5e-06\n",
      "Training \n",
      "\n",
      "\n",
      "Drain 2 Only\n"
     ]
    },
    {
     "data": {
      "application/vnd.jupyter.widget-view+json": {
       "model_id": "701651a116d94295afc631eeecd0d441",
       "version_major": 2,
       "version_minor": 0
      },
      "text/plain": [
       "Running Simulation :   0%|          | 0/200 [00:00<?, ?it/s]"
      ]
     },
     "metadata": {},
     "output_type": "display_data"
    },
    {
     "name": "stdout",
     "output_type": "stream",
     "text": [
      "Target: 1\n",
      "Currents: 0.0\n",
      "Training \n",
      "\n",
      "\n",
      "Drain 1 Only\n"
     ]
    },
    {
     "data": {
      "application/vnd.jupyter.widget-view+json": {
       "model_id": "e32e80c344954eb79114e7964cfcfd85",
       "version_major": 2,
       "version_minor": 0
      },
      "text/plain": [
       "Running Simulation :   0%|          | 0/200 [00:00<?, ?it/s]"
      ]
     },
     "metadata": {},
     "output_type": "display_data"
    },
    {
     "name": "stdout",
     "output_type": "stream",
     "text": [
      "Target: 1\n",
      "Currents: 0.0\n",
      "Training \n",
      "\n",
      "\n",
      "Drain 4 Only\n"
     ]
    },
    {
     "data": {
      "application/vnd.jupyter.widget-view+json": {
       "model_id": "bd8bf01145424d038777ea5c08788e53",
       "version_major": 2,
       "version_minor": 0
      },
      "text/plain": [
       "Running Simulation :   0%|          | 0/200 [00:00<?, ?it/s]"
      ]
     },
     "metadata": {},
     "output_type": "display_data"
    },
    {
     "name": "stdout",
     "output_type": "stream",
     "text": [
      "Target: 1\n",
      "Currents: 0.0\n",
      "Training \n",
      "\n",
      "\n",
      "Drain 7 Only\n"
     ]
    },
    {
     "data": {
      "application/vnd.jupyter.widget-view+json": {
       "model_id": "73cb9f190ec54b52b5f56464156062d1",
       "version_major": 2,
       "version_minor": 0
      },
      "text/plain": [
       "Running Simulation :   0%|          | 0/200 [00:00<?, ?it/s]"
      ]
     },
     "metadata": {},
     "output_type": "display_data"
    },
    {
     "name": "stdout",
     "output_type": "stream",
     "text": [
      "Target: 1\n",
      "Currents: 0.0\n",
      "Training \n",
      "\n",
      "\n",
      "Drain 5 Only\n"
     ]
    },
    {
     "data": {
      "application/vnd.jupyter.widget-view+json": {
       "model_id": "b1569bd990b74579b8b2a662e9437794",
       "version_major": 2,
       "version_minor": 0
      },
      "text/plain": [
       "Running Simulation :   0%|          | 0/200 [00:00<?, ?it/s]"
      ]
     },
     "metadata": {},
     "output_type": "display_data"
    },
    {
     "name": "stdout",
     "output_type": "stream",
     "text": [
      "Target: 1\n",
      "Currents: 0.0\n",
      "Training \n",
      "\n",
      "\n",
      "Drain 6 Only\n"
     ]
    },
    {
     "data": {
      "application/vnd.jupyter.widget-view+json": {
       "model_id": "6db782a100c44968996d95b1879f8a09",
       "version_major": 2,
       "version_minor": 0
      },
      "text/plain": [
       "Running Simulation :   0%|          | 0/200 [00:00<?, ?it/s]"
      ]
     },
     "metadata": {},
     "output_type": "display_data"
    },
    {
     "name": "stdout",
     "output_type": "stream",
     "text": [
      "Target: 1\n",
      "Currents: 0.0\n",
      "Training \n",
      "\n",
      "\n",
      "Drain 3 Only\n"
     ]
    },
    {
     "data": {
      "application/vnd.jupyter.widget-view+json": {
       "model_id": "a7319d595bc549838b243404924837bd",
       "version_major": 2,
       "version_minor": 0
      },
      "text/plain": [
       "Running Simulation :   0%|          | 0/200 [00:00<?, ?it/s]"
      ]
     },
     "metadata": {},
     "output_type": "display_data"
    },
    {
     "name": "stdout",
     "output_type": "stream",
     "text": [
      "Target: 1\n",
      "Currents: 0.0\n",
      "\n",
      "All Drains\n"
     ]
    },
    {
     "data": {
      "application/vnd.jupyter.widget-view+json": {
       "model_id": "01d22a758f814d34bf858ccfab1f6a79",
       "version_major": 2,
       "version_minor": 0
      },
      "text/plain": [
       "Running Simulation :   0%|          | 0/200 [00:00<?, ?it/s]"
      ]
     },
     "metadata": {},
     "output_type": "display_data"
    },
    {
     "name": "stdout",
     "output_type": "stream",
     "text": [
      "Target: 1\n",
      "Currents: 1.988744770579976e-07\n",
      "Testing \n",
      "\n",
      "Currents: [ 1.98874477e-07  1.30138473e-08  3.83845150e-07  2.95475926e-08\n",
      "  1.21906542e-07  1.85896477e-07  1.94113577e-07 -1.47558219e-06\n",
      " -4.53047950e-06]\n",
      "Target: 1.0\n",
      "Accuracy: 0\n",
      "New Target Threshold:5e-06\n",
      "Training \n",
      "\n",
      "\n",
      "Drain 3 Only\n"
     ]
    },
    {
     "data": {
      "application/vnd.jupyter.widget-view+json": {
       "model_id": "5db9883850dd473aa1cc50e1591aba5c",
       "version_major": 2,
       "version_minor": 0
      },
      "text/plain": [
       "Running Simulation :   0%|          | 0/200 [00:00<?, ?it/s]"
      ]
     },
     "metadata": {},
     "output_type": "display_data"
    },
    {
     "name": "stdout",
     "output_type": "stream",
     "text": [
      "Target: 1\n",
      "Currents: 0.0\n",
      "Training \n",
      "\n",
      "\n",
      "Drain 7 Only\n"
     ]
    },
    {
     "data": {
      "application/vnd.jupyter.widget-view+json": {
       "model_id": "09f4edb756204805a4978261b8dd211c",
       "version_major": 2,
       "version_minor": 0
      },
      "text/plain": [
       "Running Simulation :   0%|          | 0/200 [00:00<?, ?it/s]"
      ]
     },
     "metadata": {},
     "output_type": "display_data"
    },
    {
     "name": "stdout",
     "output_type": "stream",
     "text": [
      "Target: 1\n",
      "Currents: 0.0\n",
      "Training \n",
      "\n",
      "\n",
      "Drain 6 Only\n"
     ]
    },
    {
     "data": {
      "application/vnd.jupyter.widget-view+json": {
       "model_id": "3a647ee6124746589789a8f14135ec94",
       "version_major": 2,
       "version_minor": 0
      },
      "text/plain": [
       "Running Simulation :   0%|          | 0/200 [00:00<?, ?it/s]"
      ]
     },
     "metadata": {},
     "output_type": "display_data"
    },
    {
     "name": "stdout",
     "output_type": "stream",
     "text": [
      "Target: 1\n",
      "Currents: 0.0\n",
      "Training \n",
      "\n",
      "\n",
      "Drain 2 Only\n"
     ]
    },
    {
     "data": {
      "application/vnd.jupyter.widget-view+json": {
       "model_id": "57f5fa3a6def43e899edf437b175601f",
       "version_major": 2,
       "version_minor": 0
      },
      "text/plain": [
       "Running Simulation :   0%|          | 0/200 [00:00<?, ?it/s]"
      ]
     },
     "metadata": {},
     "output_type": "display_data"
    },
    {
     "name": "stdout",
     "output_type": "stream",
     "text": [
      "Target: 1\n",
      "Currents: 0.0\n",
      "Training \n",
      "\n",
      "\n",
      "Drain 1 Only\n"
     ]
    },
    {
     "data": {
      "application/vnd.jupyter.widget-view+json": {
       "model_id": "daaf4850d40c4975a103e059806a2253",
       "version_major": 2,
       "version_minor": 0
      },
      "text/plain": [
       "Running Simulation :   0%|          | 0/200 [00:00<?, ?it/s]"
      ]
     },
     "metadata": {},
     "output_type": "display_data"
    },
    {
     "name": "stdout",
     "output_type": "stream",
     "text": [
      "Target: 1\n",
      "Currents: 0.0\n",
      "Training \n",
      "\n",
      "\n",
      "Drain 5 Only\n"
     ]
    },
    {
     "data": {
      "application/vnd.jupyter.widget-view+json": {
       "model_id": "b4b4bc3d672841cf85276c2aa8c0156a",
       "version_major": 2,
       "version_minor": 0
      },
      "text/plain": [
       "Running Simulation :   0%|          | 0/200 [00:00<?, ?it/s]"
      ]
     },
     "metadata": {},
     "output_type": "display_data"
    },
    {
     "name": "stdout",
     "output_type": "stream",
     "text": [
      "Target: 1\n",
      "Currents: 0.0\n",
      "Training \n",
      "\n",
      "\n",
      "Drain 4 Only\n"
     ]
    },
    {
     "data": {
      "application/vnd.jupyter.widget-view+json": {
       "model_id": "03a8ee5e2c544d54936197c58fecdd84",
       "version_major": 2,
       "version_minor": 0
      },
      "text/plain": [
       "Running Simulation :   0%|          | 0/200 [00:00<?, ?it/s]"
      ]
     },
     "metadata": {},
     "output_type": "display_data"
    },
    {
     "name": "stdout",
     "output_type": "stream",
     "text": [
      "Target: 1\n",
      "Currents: 0.0\n",
      "\n",
      "All Drains\n"
     ]
    },
    {
     "data": {
      "application/vnd.jupyter.widget-view+json": {
       "model_id": "c4c4e7a196554f40b8b956618d728b18",
       "version_major": 2,
       "version_minor": 0
      },
      "text/plain": [
       "Running Simulation :   0%|          | 0/200 [00:00<?, ?it/s]"
      ]
     },
     "metadata": {},
     "output_type": "display_data"
    },
    {
     "name": "stdout",
     "output_type": "stream",
     "text": [
      "Target: 1\n",
      "Currents: 4.3406425434299385e-07\n",
      "Testing \n",
      "\n",
      "Currents: [ 4.34064254e-07  1.07406792e-07  1.37612347e-08  2.40599901e-07\n",
      "  1.53696818e-07  1.08589258e-07  1.10496115e-07 -2.29466864e-06\n",
      " -4.18373276e-06]\n",
      "Target: 1.0\n",
      "Accuracy: 1\n",
      "New Target Threshold:5e-06\n",
      "Training \n",
      "\n",
      "\n",
      "Drain 6 Only\n"
     ]
    },
    {
     "data": {
      "application/vnd.jupyter.widget-view+json": {
       "model_id": "f43526a233054211b4bd76ffba93ea31",
       "version_major": 2,
       "version_minor": 0
      },
      "text/plain": [
       "Running Simulation :   0%|          | 0/200 [00:00<?, ?it/s]"
      ]
     },
     "metadata": {},
     "output_type": "display_data"
    },
    {
     "name": "stdout",
     "output_type": "stream",
     "text": [
      "Target: 1\n",
      "Currents: 0.0\n",
      "Training \n",
      "\n",
      "\n",
      "Drain 2 Only\n"
     ]
    },
    {
     "data": {
      "application/vnd.jupyter.widget-view+json": {
       "model_id": "7582cbb8bb3748d8a80b3278d626fafd",
       "version_major": 2,
       "version_minor": 0
      },
      "text/plain": [
       "Running Simulation :   0%|          | 0/200 [00:00<?, ?it/s]"
      ]
     },
     "metadata": {},
     "output_type": "display_data"
    },
    {
     "name": "stdout",
     "output_type": "stream",
     "text": [
      "Target: 1\n",
      "Currents: 0.0\n",
      "Training \n",
      "\n",
      "\n",
      "Drain 7 Only\n"
     ]
    },
    {
     "data": {
      "application/vnd.jupyter.widget-view+json": {
       "model_id": "b5b80a1339e74213b8e1f83f6a447a8e",
       "version_major": 2,
       "version_minor": 0
      },
      "text/plain": [
       "Running Simulation :   0%|          | 0/200 [00:00<?, ?it/s]"
      ]
     },
     "metadata": {},
     "output_type": "display_data"
    },
    {
     "name": "stdout",
     "output_type": "stream",
     "text": [
      "Target: 1\n",
      "Currents: 0.0\n",
      "Training \n",
      "\n",
      "\n",
      "Drain 3 Only\n"
     ]
    },
    {
     "data": {
      "application/vnd.jupyter.widget-view+json": {
       "model_id": "3017cc80da1d437696179c9167da9612",
       "version_major": 2,
       "version_minor": 0
      },
      "text/plain": [
       "Running Simulation :   0%|          | 0/200 [00:00<?, ?it/s]"
      ]
     },
     "metadata": {},
     "output_type": "display_data"
    },
    {
     "name": "stdout",
     "output_type": "stream",
     "text": [
      "Target: 1\n",
      "Currents: 0.0\n",
      "Training \n",
      "\n",
      "\n",
      "Drain 4 Only\n"
     ]
    },
    {
     "data": {
      "application/vnd.jupyter.widget-view+json": {
       "model_id": "c07766edcee743b8bded4006a8f9dafe",
       "version_major": 2,
       "version_minor": 0
      },
      "text/plain": [
       "Running Simulation :   0%|          | 0/200 [00:00<?, ?it/s]"
      ]
     },
     "metadata": {},
     "output_type": "display_data"
    },
    {
     "name": "stdout",
     "output_type": "stream",
     "text": [
      "Target: 1\n",
      "Currents: 0.0\n",
      "Training \n",
      "\n",
      "\n",
      "Drain 1 Only\n"
     ]
    },
    {
     "data": {
      "application/vnd.jupyter.widget-view+json": {
       "model_id": "4e486d9271454b01a96d0e5fb3454264",
       "version_major": 2,
       "version_minor": 0
      },
      "text/plain": [
       "Running Simulation :   0%|          | 0/200 [00:00<?, ?it/s]"
      ]
     },
     "metadata": {},
     "output_type": "display_data"
    },
    {
     "name": "stdout",
     "output_type": "stream",
     "text": [
      "Target: 1\n",
      "Currents: 0.0\n",
      "Training \n",
      "\n",
      "\n",
      "Drain 5 Only\n"
     ]
    },
    {
     "data": {
      "application/vnd.jupyter.widget-view+json": {
       "model_id": "1874ad8635d9465bbe32ef49c7418d09",
       "version_major": 2,
       "version_minor": 0
      },
      "text/plain": [
       "Running Simulation :   0%|          | 0/200 [00:00<?, ?it/s]"
      ]
     },
     "metadata": {},
     "output_type": "display_data"
    },
    {
     "name": "stdout",
     "output_type": "stream",
     "text": [
      "Target: 1\n",
      "Currents: 0.0\n",
      "\n",
      "All Drains\n"
     ]
    },
    {
     "data": {
      "application/vnd.jupyter.widget-view+json": {
       "model_id": "7ca40e8157bc4585a56c9ea9ef99b9b1",
       "version_major": 2,
       "version_minor": 0
      },
      "text/plain": [
       "Running Simulation :   0%|          | 0/200 [00:00<?, ?it/s]"
      ]
     },
     "metadata": {},
     "output_type": "display_data"
    },
    {
     "name": "stdout",
     "output_type": "stream",
     "text": [
      "Target: 1\n",
      "Currents: 5.563854799963901e-07\n",
      "Testing \n",
      "\n",
      "Currents: [ 5.56385480e-07  2.93713319e-08  1.15817937e-07  9.43607480e-08\n",
      "  2.76642813e-07  1.87277946e-07  1.89058230e-07 -1.87264115e-06\n",
      " -4.53408594e-06]\n",
      "Target: 1.0\n",
      "Accuracy: 1\n",
      "New Target Threshold:5e-06\n",
      "Training \n",
      "\n",
      "\n",
      "Drain 2 Only\n"
     ]
    },
    {
     "data": {
      "application/vnd.jupyter.widget-view+json": {
       "model_id": "c5cd85abd1ed477dbef814309d891980",
       "version_major": 2,
       "version_minor": 0
      },
      "text/plain": [
       "Running Simulation :   0%|          | 0/200 [00:00<?, ?it/s]"
      ]
     },
     "metadata": {},
     "output_type": "display_data"
    },
    {
     "name": "stdout",
     "output_type": "stream",
     "text": [
      "Target: 1\n",
      "Currents: 0.0\n",
      "Training \n",
      "\n",
      "\n",
      "Drain 3 Only\n"
     ]
    },
    {
     "data": {
      "application/vnd.jupyter.widget-view+json": {
       "model_id": "65a73bc5b8264e6fb7c7091d54e5dcaa",
       "version_major": 2,
       "version_minor": 0
      },
      "text/plain": [
       "Running Simulation :   0%|          | 0/200 [00:00<?, ?it/s]"
      ]
     },
     "metadata": {},
     "output_type": "display_data"
    },
    {
     "name": "stdout",
     "output_type": "stream",
     "text": [
      "Target: 1\n",
      "Currents: 0.0\n",
      "Training \n",
      "\n",
      "\n",
      "Drain 7 Only\n"
     ]
    },
    {
     "data": {
      "application/vnd.jupyter.widget-view+json": {
       "model_id": "c066114084ce4cd19acc1ac8550c077a",
       "version_major": 2,
       "version_minor": 0
      },
      "text/plain": [
       "Running Simulation :   0%|          | 0/200 [00:00<?, ?it/s]"
      ]
     },
     "metadata": {},
     "output_type": "display_data"
    },
    {
     "name": "stdout",
     "output_type": "stream",
     "text": [
      "Target: 1\n",
      "Currents: 0.0\n",
      "Training \n",
      "\n",
      "\n",
      "Drain 4 Only\n"
     ]
    },
    {
     "data": {
      "application/vnd.jupyter.widget-view+json": {
       "model_id": "f11a297ca1354d7abfb0c5fc3aa463a3",
       "version_major": 2,
       "version_minor": 0
      },
      "text/plain": [
       "Running Simulation :   0%|          | 0/200 [00:00<?, ?it/s]"
      ]
     },
     "metadata": {},
     "output_type": "display_data"
    },
    {
     "name": "stdout",
     "output_type": "stream",
     "text": [
      "Target: 1\n",
      "Currents: 0.0\n",
      "Training \n",
      "\n",
      "\n",
      "Drain 1 Only\n"
     ]
    },
    {
     "data": {
      "application/vnd.jupyter.widget-view+json": {
       "model_id": "ad67ee15208b4ea78f3d29c457b9171b",
       "version_major": 2,
       "version_minor": 0
      },
      "text/plain": [
       "Running Simulation :   0%|          | 0/200 [00:00<?, ?it/s]"
      ]
     },
     "metadata": {},
     "output_type": "display_data"
    },
    {
     "name": "stdout",
     "output_type": "stream",
     "text": [
      "Target: 1\n",
      "Currents: 0.0\n",
      "Training \n",
      "\n",
      "\n",
      "Drain 5 Only\n"
     ]
    },
    {
     "data": {
      "application/vnd.jupyter.widget-view+json": {
       "model_id": "d16ad054499d4847a1e422fca4d173e0",
       "version_major": 2,
       "version_minor": 0
      },
      "text/plain": [
       "Running Simulation :   0%|          | 0/200 [00:00<?, ?it/s]"
      ]
     },
     "metadata": {},
     "output_type": "display_data"
    },
    {
     "name": "stdout",
     "output_type": "stream",
     "text": [
      "Target: 1\n",
      "Currents: 0.0\n",
      "Training \n",
      "\n",
      "\n",
      "Drain 6 Only\n"
     ]
    },
    {
     "data": {
      "application/vnd.jupyter.widget-view+json": {
       "model_id": "54bf95f1a5c543fca5dd660b66a0ed58",
       "version_major": 2,
       "version_minor": 0
      },
      "text/plain": [
       "Running Simulation :   0%|          | 0/200 [00:00<?, ?it/s]"
      ]
     },
     "metadata": {},
     "output_type": "display_data"
    },
    {
     "name": "stdout",
     "output_type": "stream",
     "text": [
      "Target: 1\n",
      "Currents: 0.0\n",
      "\n",
      "All Drains\n"
     ]
    },
    {
     "data": {
      "application/vnd.jupyter.widget-view+json": {
       "model_id": "1b98758d001246018a66375d6c719da9",
       "version_major": 2,
       "version_minor": 0
      },
      "text/plain": [
       "Running Simulation :   0%|          | 0/200 [00:00<?, ?it/s]"
      ]
     },
     "metadata": {},
     "output_type": "display_data"
    },
    {
     "name": "stdout",
     "output_type": "stream",
     "text": [
      "Target: 1\n",
      "Currents: 5.1609850260711e-07\n",
      "Testing \n",
      "\n",
      "Currents: [ 5.16098503e-07  1.45448652e-08  3.15115917e-08  6.90094042e-08\n",
      "  2.17040591e-07  1.68374623e-07  1.72107180e-07 -1.65132943e-06\n",
      " -4.48817973e-06]\n",
      "Target: 1.0\n",
      "Accuracy: 1\n",
      "New Target Threshold:5e-06\n",
      "Training \n",
      "\n",
      "\n",
      "Drain 7 Only\n"
     ]
    },
    {
     "data": {
      "application/vnd.jupyter.widget-view+json": {
       "model_id": "5747d8178ff04756a71c5328cfb23215",
       "version_major": 2,
       "version_minor": 0
      },
      "text/plain": [
       "Running Simulation :   0%|          | 0/200 [00:00<?, ?it/s]"
      ]
     },
     "metadata": {},
     "output_type": "display_data"
    },
    {
     "name": "stdout",
     "output_type": "stream",
     "text": [
      "Target: 1\n",
      "Currents: 0.0\n",
      "Training \n",
      "\n",
      "\n",
      "Drain 2 Only\n"
     ]
    },
    {
     "data": {
      "application/vnd.jupyter.widget-view+json": {
       "model_id": "58db423f72824869b84cb2b5372c7e51",
       "version_major": 2,
       "version_minor": 0
      },
      "text/plain": [
       "Running Simulation :   0%|          | 0/200 [00:00<?, ?it/s]"
      ]
     },
     "metadata": {},
     "output_type": "display_data"
    },
    {
     "name": "stdout",
     "output_type": "stream",
     "text": [
      "Target: 1\n",
      "Currents: 0.0\n",
      "Training \n",
      "\n",
      "\n",
      "Drain 3 Only\n"
     ]
    },
    {
     "data": {
      "application/vnd.jupyter.widget-view+json": {
       "model_id": "a065de7e134048c1a12e1c2e99e92518",
       "version_major": 2,
       "version_minor": 0
      },
      "text/plain": [
       "Running Simulation :   0%|          | 0/200 [00:00<?, ?it/s]"
      ]
     },
     "metadata": {},
     "output_type": "display_data"
    },
    {
     "name": "stdout",
     "output_type": "stream",
     "text": [
      "Target: 1\n",
      "Currents: 0.0\n",
      "Training \n",
      "\n",
      "\n",
      "Drain 5 Only\n"
     ]
    },
    {
     "data": {
      "application/vnd.jupyter.widget-view+json": {
       "model_id": "a30bd34bc6c043039ae92ee83a61fab9",
       "version_major": 2,
       "version_minor": 0
      },
      "text/plain": [
       "Running Simulation :   0%|          | 0/200 [00:00<?, ?it/s]"
      ]
     },
     "metadata": {},
     "output_type": "display_data"
    },
    {
     "name": "stdout",
     "output_type": "stream",
     "text": [
      "Target: 1\n",
      "Currents: 0.0\n",
      "Training \n",
      "\n",
      "\n",
      "Drain 6 Only\n"
     ]
    },
    {
     "data": {
      "application/vnd.jupyter.widget-view+json": {
       "model_id": "ed43d8b7b14347eeb677fbb1d13d0d74",
       "version_major": 2,
       "version_minor": 0
      },
      "text/plain": [
       "Running Simulation :   0%|          | 0/200 [00:00<?, ?it/s]"
      ]
     },
     "metadata": {},
     "output_type": "display_data"
    },
    {
     "name": "stdout",
     "output_type": "stream",
     "text": [
      "Target: 1\n",
      "Currents: 0.0\n",
      "Training \n",
      "\n",
      "\n",
      "Drain 1 Only\n"
     ]
    },
    {
     "data": {
      "application/vnd.jupyter.widget-view+json": {
       "model_id": "f18074ccdb8845b4b26ac3550ee3a2f1",
       "version_major": 2,
       "version_minor": 0
      },
      "text/plain": [
       "Running Simulation :   0%|          | 0/200 [00:00<?, ?it/s]"
      ]
     },
     "metadata": {},
     "output_type": "display_data"
    },
    {
     "name": "stdout",
     "output_type": "stream",
     "text": [
      "Target: 1\n",
      "Currents: 0.0\n",
      "Training \n",
      "\n",
      "\n",
      "Drain 4 Only\n"
     ]
    },
    {
     "data": {
      "application/vnd.jupyter.widget-view+json": {
       "model_id": "e78641d571d14e9a86e5434d136544bb",
       "version_major": 2,
       "version_minor": 0
      },
      "text/plain": [
       "Running Simulation :   0%|          | 0/200 [00:00<?, ?it/s]"
      ]
     },
     "metadata": {},
     "output_type": "display_data"
    },
    {
     "name": "stdout",
     "output_type": "stream",
     "text": [
      "Target: 1\n",
      "Currents: 0.0\n",
      "\n",
      "All Drains\n"
     ]
    },
    {
     "data": {
      "application/vnd.jupyter.widget-view+json": {
       "model_id": "3b68c8f3099e4092a03f9a9c0871b5a0",
       "version_major": 2,
       "version_minor": 0
      },
      "text/plain": [
       "Running Simulation :   0%|          | 0/200 [00:00<?, ?it/s]"
      ]
     },
     "metadata": {},
     "output_type": "display_data"
    },
    {
     "name": "stdout",
     "output_type": "stream",
     "text": [
      "Target: 1\n",
      "Currents: 4.0832814500168554e-07\n",
      "Testing \n",
      "\n",
      "Currents: [ 4.08328145e-07  2.26327724e-08  3.00738129e-08  3.05340532e-07\n",
      "  5.72752694e-08  1.41463586e-07  1.42326097e-07 -1.87664638e-06\n",
      " -4.44020377e-06]\n",
      "Target: 1.0\n",
      "Accuracy: 1\n",
      "New Target Threshold:5e-06\n",
      "Training \n",
      "\n",
      "\n",
      "Drain 5 Only\n"
     ]
    },
    {
     "data": {
      "application/vnd.jupyter.widget-view+json": {
       "model_id": "29c589d38d5f46008d599e34c5e9bc95",
       "version_major": 2,
       "version_minor": 0
      },
      "text/plain": [
       "Running Simulation :   0%|          | 0/200 [00:00<?, ?it/s]"
      ]
     },
     "metadata": {},
     "output_type": "display_data"
    },
    {
     "name": "stdout",
     "output_type": "stream",
     "text": [
      "Target: 1\n",
      "Currents: 0.0\n",
      "Training \n",
      "\n",
      "\n",
      "Drain 7 Only\n"
     ]
    },
    {
     "data": {
      "application/vnd.jupyter.widget-view+json": {
       "model_id": "a1c376e6817942128ef2a9b0e673950f",
       "version_major": 2,
       "version_minor": 0
      },
      "text/plain": [
       "Running Simulation :   0%|          | 0/200 [00:00<?, ?it/s]"
      ]
     },
     "metadata": {},
     "output_type": "display_data"
    },
    {
     "name": "stdout",
     "output_type": "stream",
     "text": [
      "Target: 1\n",
      "Currents: 0.0\n",
      "Training \n",
      "\n",
      "\n",
      "Drain 4 Only\n"
     ]
    },
    {
     "data": {
      "application/vnd.jupyter.widget-view+json": {
       "model_id": "6360b34eda0b42c8a28c484922dd4741",
       "version_major": 2,
       "version_minor": 0
      },
      "text/plain": [
       "Running Simulation :   0%|          | 0/200 [00:00<?, ?it/s]"
      ]
     },
     "metadata": {},
     "output_type": "display_data"
    },
    {
     "name": "stdout",
     "output_type": "stream",
     "text": [
      "Target: 1\n",
      "Currents: 0.0\n",
      "Training \n",
      "\n",
      "\n",
      "Drain 6 Only\n"
     ]
    },
    {
     "data": {
      "application/vnd.jupyter.widget-view+json": {
       "model_id": "27f9e548be6b41c58d951fdcf2fb9e1e",
       "version_major": 2,
       "version_minor": 0
      },
      "text/plain": [
       "Running Simulation :   0%|          | 0/200 [00:00<?, ?it/s]"
      ]
     },
     "metadata": {},
     "output_type": "display_data"
    },
    {
     "name": "stdout",
     "output_type": "stream",
     "text": [
      "Target: 1\n",
      "Currents: 0.0\n",
      "Training \n",
      "\n",
      "\n",
      "Drain 1 Only\n"
     ]
    },
    {
     "data": {
      "application/vnd.jupyter.widget-view+json": {
       "model_id": "d2f69f920d3f49c9831cc577aeef5674",
       "version_major": 2,
       "version_minor": 0
      },
      "text/plain": [
       "Running Simulation :   0%|          | 0/200 [00:00<?, ?it/s]"
      ]
     },
     "metadata": {},
     "output_type": "display_data"
    },
    {
     "name": "stdout",
     "output_type": "stream",
     "text": [
      "Target: 1\n",
      "Currents: 0.0\n",
      "Training \n",
      "\n",
      "\n",
      "Drain 2 Only\n"
     ]
    },
    {
     "data": {
      "application/vnd.jupyter.widget-view+json": {
       "model_id": "95594442b6c142588f9a1583a0127050",
       "version_major": 2,
       "version_minor": 0
      },
      "text/plain": [
       "Running Simulation :   0%|          | 0/200 [00:00<?, ?it/s]"
      ]
     },
     "metadata": {},
     "output_type": "display_data"
    },
    {
     "name": "stdout",
     "output_type": "stream",
     "text": [
      "Target: 1\n",
      "Currents: 0.0\n",
      "Training \n",
      "\n",
      "\n",
      "Drain 3 Only\n"
     ]
    },
    {
     "data": {
      "application/vnd.jupyter.widget-view+json": {
       "model_id": "bbfa32347ab14aac882ddfcedc26b924",
       "version_major": 2,
       "version_minor": 0
      },
      "text/plain": [
       "Running Simulation :   0%|          | 0/200 [00:00<?, ?it/s]"
      ]
     },
     "metadata": {},
     "output_type": "display_data"
    },
    {
     "name": "stdout",
     "output_type": "stream",
     "text": [
      "Target: 1\n",
      "Currents: 0.0\n",
      "\n",
      "All Drains\n"
     ]
    },
    {
     "data": {
      "application/vnd.jupyter.widget-view+json": {
       "model_id": "e6bad5ad6602455ab4de986fbb11664e",
       "version_major": 2,
       "version_minor": 0
      },
      "text/plain": [
       "Running Simulation :   0%|          | 0/200 [00:00<?, ?it/s]"
      ]
     },
     "metadata": {},
     "output_type": "display_data"
    },
    {
     "name": "stdout",
     "output_type": "stream",
     "text": [
      "Target: 1\n",
      "Currents: 3.569201765910168e-07\n",
      "Testing \n",
      "\n",
      "Currents: [ 3.56920177e-07  1.91501220e-07  1.99917265e-07  3.36673152e-08\n",
      "  1.27214647e-08  9.74744811e-08  9.78480246e-08 -1.56827350e-06\n",
      " -4.68069838e-06]\n",
      "Target: 1.0\n",
      "Accuracy: 1\n",
      "New Target Threshold:5e-06\n",
      "Training \n",
      "\n",
      "\n",
      "Drain 7 Only\n"
     ]
    },
    {
     "data": {
      "application/vnd.jupyter.widget-view+json": {
       "model_id": "590ceb3d98954f198db3a58ff16bafd7",
       "version_major": 2,
       "version_minor": 0
      },
      "text/plain": [
       "Running Simulation :   0%|          | 0/200 [00:00<?, ?it/s]"
      ]
     },
     "metadata": {},
     "output_type": "display_data"
    },
    {
     "name": "stdout",
     "output_type": "stream",
     "text": [
      "Target: 1\n",
      "Currents: 0.0\n",
      "Training \n",
      "\n",
      "\n",
      "Drain 6 Only\n"
     ]
    },
    {
     "data": {
      "application/vnd.jupyter.widget-view+json": {
       "model_id": "16c4759c6c4f4514b6b01a0f758e0728",
       "version_major": 2,
       "version_minor": 0
      },
      "text/plain": [
       "Running Simulation :   0%|          | 0/200 [00:00<?, ?it/s]"
      ]
     },
     "metadata": {},
     "output_type": "display_data"
    },
    {
     "name": "stdout",
     "output_type": "stream",
     "text": [
      "Target: 1\n",
      "Currents: 0.0\n",
      "Training \n",
      "\n",
      "\n",
      "Drain 1 Only\n"
     ]
    },
    {
     "data": {
      "application/vnd.jupyter.widget-view+json": {
       "model_id": "9cf90dc9d09e4de69d42e98459cae9f9",
       "version_major": 2,
       "version_minor": 0
      },
      "text/plain": [
       "Running Simulation :   0%|          | 0/200 [00:00<?, ?it/s]"
      ]
     },
     "metadata": {},
     "output_type": "display_data"
    },
    {
     "name": "stdout",
     "output_type": "stream",
     "text": [
      "Target: 1\n",
      "Currents: 0.0\n",
      "Training \n",
      "\n",
      "\n",
      "Drain 4 Only\n"
     ]
    },
    {
     "data": {
      "application/vnd.jupyter.widget-view+json": {
       "model_id": "c3c6f35c00ab49228389570277ebaca3",
       "version_major": 2,
       "version_minor": 0
      },
      "text/plain": [
       "Running Simulation :   0%|          | 0/200 [00:00<?, ?it/s]"
      ]
     },
     "metadata": {},
     "output_type": "display_data"
    },
    {
     "name": "stdout",
     "output_type": "stream",
     "text": [
      "Target: 1\n",
      "Currents: 0.0\n",
      "Training \n",
      "\n",
      "\n",
      "Drain 5 Only\n"
     ]
    },
    {
     "data": {
      "application/vnd.jupyter.widget-view+json": {
       "model_id": "5c52059718c041a6a32be193d91ca201",
       "version_major": 2,
       "version_minor": 0
      },
      "text/plain": [
       "Running Simulation :   0%|          | 0/200 [00:00<?, ?it/s]"
      ]
     },
     "metadata": {},
     "output_type": "display_data"
    },
    {
     "name": "stdout",
     "output_type": "stream",
     "text": [
      "Target: 1\n",
      "Currents: 0.0\n",
      "Training \n",
      "\n",
      "\n",
      "Drain 2 Only\n"
     ]
    },
    {
     "data": {
      "application/vnd.jupyter.widget-view+json": {
       "model_id": "b97ae80dc0284fd4990eff18c288c2cd",
       "version_major": 2,
       "version_minor": 0
      },
      "text/plain": [
       "Running Simulation :   0%|          | 0/200 [00:00<?, ?it/s]"
      ]
     },
     "metadata": {},
     "output_type": "display_data"
    },
    {
     "name": "stdout",
     "output_type": "stream",
     "text": [
      "Target: 1\n",
      "Currents: 0.0\n",
      "Training \n",
      "\n",
      "\n",
      "Drain 3 Only\n"
     ]
    },
    {
     "data": {
      "application/vnd.jupyter.widget-view+json": {
       "model_id": "90d8f858c83442288d001a55df8f3cee",
       "version_major": 2,
       "version_minor": 0
      },
      "text/plain": [
       "Running Simulation :   0%|          | 0/200 [00:00<?, ?it/s]"
      ]
     },
     "metadata": {},
     "output_type": "display_data"
    },
    {
     "name": "stdout",
     "output_type": "stream",
     "text": [
      "Target: 1\n",
      "Currents: 0.0\n",
      "\n",
      "All Drains\n"
     ]
    },
    {
     "data": {
      "application/vnd.jupyter.widget-view+json": {
       "model_id": "fda9b695675a45538ba80bb89abf8f31",
       "version_major": 2,
       "version_minor": 0
      },
      "text/plain": [
       "Running Simulation :   0%|          | 0/200 [00:00<?, ?it/s]"
      ]
     },
     "metadata": {},
     "output_type": "display_data"
    },
    {
     "name": "stdout",
     "output_type": "stream",
     "text": [
      "Target: 1\n",
      "Currents: 2.7699523418617967e-07\n",
      "Testing \n",
      "\n",
      "Currents: [ 2.76995234e-07  2.05573488e-07  2.13598848e-07  5.53979270e-08\n",
      "  1.19903388e-07  1.33916012e-07  1.35129911e-07 -1.81076072e-06\n",
      " -4.39612798e-06]\n",
      "Target: 1.0\n",
      "Accuracy: 1\n",
      "New Target Threshold:5e-06\n",
      "Training \n",
      "\n",
      "\n",
      "Drain 3 Only\n"
     ]
    },
    {
     "data": {
      "application/vnd.jupyter.widget-view+json": {
       "model_id": "8bee020a92bd44deb902364ed0252225",
       "version_major": 2,
       "version_minor": 0
      },
      "text/plain": [
       "Running Simulation :   0%|          | 0/200 [00:00<?, ?it/s]"
      ]
     },
     "metadata": {},
     "output_type": "display_data"
    },
    {
     "name": "stdout",
     "output_type": "stream",
     "text": [
      "Target: 1\n",
      "Currents: 0.0\n",
      "Training \n",
      "\n",
      "\n",
      "Drain 2 Only\n"
     ]
    },
    {
     "data": {
      "application/vnd.jupyter.widget-view+json": {
       "model_id": "09fdd37c489746d9ba0a0b46e5c88d03",
       "version_major": 2,
       "version_minor": 0
      },
      "text/plain": [
       "Running Simulation :   0%|          | 0/200 [00:00<?, ?it/s]"
      ]
     },
     "metadata": {},
     "output_type": "display_data"
    },
    {
     "name": "stdout",
     "output_type": "stream",
     "text": [
      "Target: 1\n",
      "Currents: 0.0\n",
      "Training \n",
      "\n",
      "\n",
      "Drain 4 Only\n"
     ]
    },
    {
     "data": {
      "application/vnd.jupyter.widget-view+json": {
       "model_id": "88de58667dc64c1aafb37b679730b048",
       "version_major": 2,
       "version_minor": 0
      },
      "text/plain": [
       "Running Simulation :   0%|          | 0/200 [00:00<?, ?it/s]"
      ]
     },
     "metadata": {},
     "output_type": "display_data"
    },
    {
     "name": "stdout",
     "output_type": "stream",
     "text": [
      "Target: 1\n",
      "Currents: 0.0\n",
      "Training \n",
      "\n",
      "\n",
      "Drain 1 Only\n"
     ]
    },
    {
     "data": {
      "application/vnd.jupyter.widget-view+json": {
       "model_id": "5823e0fa7e924efab0c47e1fa04fcab4",
       "version_major": 2,
       "version_minor": 0
      },
      "text/plain": [
       "Running Simulation :   0%|          | 0/200 [00:00<?, ?it/s]"
      ]
     },
     "metadata": {},
     "output_type": "display_data"
    },
    {
     "name": "stdout",
     "output_type": "stream",
     "text": [
      "Target: 1\n",
      "Currents: 0.0\n",
      "Training \n",
      "\n",
      "\n",
      "Drain 6 Only\n"
     ]
    },
    {
     "data": {
      "application/vnd.jupyter.widget-view+json": {
       "model_id": "ec3e5e9fd2424917ba969a403f3e6f66",
       "version_major": 2,
       "version_minor": 0
      },
      "text/plain": [
       "Running Simulation :   0%|          | 0/200 [00:00<?, ?it/s]"
      ]
     },
     "metadata": {},
     "output_type": "display_data"
    },
    {
     "name": "stdout",
     "output_type": "stream",
     "text": [
      "Target: 1\n",
      "Currents: 0.0\n",
      "Training \n",
      "\n",
      "\n",
      "Drain 5 Only\n"
     ]
    },
    {
     "data": {
      "application/vnd.jupyter.widget-view+json": {
       "model_id": "b945587685de4c6d9acb052fc82f248a",
       "version_major": 2,
       "version_minor": 0
      },
      "text/plain": [
       "Running Simulation :   0%|          | 0/200 [00:00<?, ?it/s]"
      ]
     },
     "metadata": {},
     "output_type": "display_data"
    },
    {
     "name": "stdout",
     "output_type": "stream",
     "text": [
      "Target: 1\n",
      "Currents: 0.0\n",
      "Training \n",
      "\n",
      "\n",
      "Drain 7 Only\n"
     ]
    },
    {
     "data": {
      "application/vnd.jupyter.widget-view+json": {
       "model_id": "af0fcd789c934735af78eb05f0689415",
       "version_major": 2,
       "version_minor": 0
      },
      "text/plain": [
       "Running Simulation :   0%|          | 0/200 [00:00<?, ?it/s]"
      ]
     },
     "metadata": {},
     "output_type": "display_data"
    },
    {
     "name": "stdout",
     "output_type": "stream",
     "text": [
      "Target: 1\n",
      "Currents: 0.0\n",
      "\n",
      "All Drains\n"
     ]
    },
    {
     "data": {
      "application/vnd.jupyter.widget-view+json": {
       "model_id": "06d29e2701ab4a7c8a8dcf6c6c22c978",
       "version_major": 2,
       "version_minor": 0
      },
      "text/plain": [
       "Running Simulation :   0%|          | 0/200 [00:00<?, ?it/s]"
      ]
     },
     "metadata": {},
     "output_type": "display_data"
    },
    {
     "name": "stdout",
     "output_type": "stream",
     "text": [
      "Target: 1\n",
      "Currents: 3.7748920203815237e-07\n",
      "Testing \n",
      "\n",
      "Currents: [ 3.77489202e-07  2.49714728e-08  1.78537157e-08  3.98085626e-08\n",
      "  2.52832723e-07  2.40823353e-07  2.33716908e-07 -4.47007113e-07\n",
      " -5.34630780e-06]\n",
      "Target: 1.0\n",
      "Accuracy: 1\n",
      "New Target Threshold:5e-06\n",
      "Training \n",
      "\n",
      "\n",
      "Drain 1 Only\n"
     ]
    },
    {
     "data": {
      "application/vnd.jupyter.widget-view+json": {
       "model_id": "fab9a89fa4414efd91819451c9d70b33",
       "version_major": 2,
       "version_minor": 0
      },
      "text/plain": [
       "Running Simulation :   0%|          | 0/200 [00:00<?, ?it/s]"
      ]
     },
     "metadata": {},
     "output_type": "display_data"
    },
    {
     "name": "stdout",
     "output_type": "stream",
     "text": [
      "Target: 1\n",
      "Currents: 0.0\n",
      "Training \n",
      "\n",
      "\n",
      "Drain 2 Only\n"
     ]
    },
    {
     "data": {
      "application/vnd.jupyter.widget-view+json": {
       "model_id": "a6e2e49cb866415592d7962f20ac6adb",
       "version_major": 2,
       "version_minor": 0
      },
      "text/plain": [
       "Running Simulation :   0%|          | 0/200 [00:00<?, ?it/s]"
      ]
     },
     "metadata": {},
     "output_type": "display_data"
    },
    {
     "name": "stdout",
     "output_type": "stream",
     "text": [
      "Target: 1\n",
      "Currents: 0.0\n",
      "Training \n",
      "\n",
      "\n",
      "Drain 5 Only\n"
     ]
    },
    {
     "data": {
      "application/vnd.jupyter.widget-view+json": {
       "model_id": "4e99dc2953b849e998e476d1fbda0c90",
       "version_major": 2,
       "version_minor": 0
      },
      "text/plain": [
       "Running Simulation :   0%|          | 0/200 [00:00<?, ?it/s]"
      ]
     },
     "metadata": {},
     "output_type": "display_data"
    },
    {
     "name": "stdout",
     "output_type": "stream",
     "text": [
      "Target: 1\n",
      "Currents: 0.0\n",
      "Training \n",
      "\n",
      "\n",
      "Drain 7 Only\n"
     ]
    },
    {
     "data": {
      "application/vnd.jupyter.widget-view+json": {
       "model_id": "8fa9950f549e49b4af09902536b62ef4",
       "version_major": 2,
       "version_minor": 0
      },
      "text/plain": [
       "Running Simulation :   0%|          | 0/200 [00:00<?, ?it/s]"
      ]
     },
     "metadata": {},
     "output_type": "display_data"
    },
    {
     "name": "stdout",
     "output_type": "stream",
     "text": [
      "Target: 1\n",
      "Currents: 0.0\n",
      "Training \n",
      "\n",
      "\n",
      "Drain 4 Only\n"
     ]
    },
    {
     "data": {
      "application/vnd.jupyter.widget-view+json": {
       "model_id": "6e4b883862b14e8480c70112c503cd2c",
       "version_major": 2,
       "version_minor": 0
      },
      "text/plain": [
       "Running Simulation :   0%|          | 0/200 [00:00<?, ?it/s]"
      ]
     },
     "metadata": {},
     "output_type": "display_data"
    },
    {
     "name": "stdout",
     "output_type": "stream",
     "text": [
      "Target: 1\n",
      "Currents: 0.0\n",
      "Training \n",
      "\n",
      "\n",
      "Drain 3 Only\n"
     ]
    },
    {
     "data": {
      "application/vnd.jupyter.widget-view+json": {
       "model_id": "92fb559e65d3463d834afa02714f2f0a",
       "version_major": 2,
       "version_minor": 0
      },
      "text/plain": [
       "Running Simulation :   0%|          | 0/200 [00:00<?, ?it/s]"
      ]
     },
     "metadata": {},
     "output_type": "display_data"
    },
    {
     "name": "stdout",
     "output_type": "stream",
     "text": [
      "Target: 1\n",
      "Currents: 0.0\n",
      "Training \n",
      "\n",
      "\n",
      "Drain 6 Only\n"
     ]
    },
    {
     "data": {
      "application/vnd.jupyter.widget-view+json": {
       "model_id": "02702c888c864bd7b2627585d4cbc677",
       "version_major": 2,
       "version_minor": 0
      },
      "text/plain": [
       "Running Simulation :   0%|          | 0/200 [00:00<?, ?it/s]"
      ]
     },
     "metadata": {},
     "output_type": "display_data"
    },
    {
     "name": "stdout",
     "output_type": "stream",
     "text": [
      "Target: 1\n",
      "Currents: 0.0\n",
      "\n",
      "All Drains\n"
     ]
    },
    {
     "data": {
      "application/vnd.jupyter.widget-view+json": {
       "model_id": "ab05dc59094940d98a5730966df1dc5f",
       "version_major": 2,
       "version_minor": 0
      },
      "text/plain": [
       "Running Simulation :   0%|          | 0/200 [00:00<?, ?it/s]"
      ]
     },
     "metadata": {},
     "output_type": "display_data"
    },
    {
     "name": "stdout",
     "output_type": "stream",
     "text": [
      "Target: 1\n",
      "Currents: 1.1963380239329266e-07\n",
      "Testing \n",
      "\n",
      "Currents: [ 1.19633802e-07  5.18350090e-08  2.52085283e-07  2.12934985e-07\n",
      "  6.39915675e-08  2.27757715e-07  2.23710420e-07 -1.16249028e-06\n",
      " -4.73510277e-06]\n",
      "Target: 1.0\n",
      "Accuracy: 0\n",
      "New Target Threshold:5e-06\n",
      "Training \n",
      "\n",
      "\n",
      "Drain 7 Only\n"
     ]
    },
    {
     "data": {
      "application/vnd.jupyter.widget-view+json": {
       "model_id": "ed396250dbb14e2496b4530e7faefba2",
       "version_major": 2,
       "version_minor": 0
      },
      "text/plain": [
       "Running Simulation :   0%|          | 0/200 [00:00<?, ?it/s]"
      ]
     },
     "metadata": {},
     "output_type": "display_data"
    },
    {
     "name": "stdout",
     "output_type": "stream",
     "text": [
      "Target: 1\n",
      "Currents: 0.0\n",
      "Training \n",
      "\n",
      "\n",
      "Drain 5 Only\n"
     ]
    },
    {
     "data": {
      "application/vnd.jupyter.widget-view+json": {
       "model_id": "5aa6c9485f054b8d970caf0d4a87c4f4",
       "version_major": 2,
       "version_minor": 0
      },
      "text/plain": [
       "Running Simulation :   0%|          | 0/200 [00:00<?, ?it/s]"
      ]
     },
     "metadata": {},
     "output_type": "display_data"
    },
    {
     "name": "stdout",
     "output_type": "stream",
     "text": [
      "Target: 1\n",
      "Currents: 0.0\n",
      "Training \n",
      "\n",
      "\n",
      "Drain 6 Only\n"
     ]
    },
    {
     "data": {
      "application/vnd.jupyter.widget-view+json": {
       "model_id": "11b48e8c0a8247d69e4fccb248607e30",
       "version_major": 2,
       "version_minor": 0
      },
      "text/plain": [
       "Running Simulation :   0%|          | 0/200 [00:00<?, ?it/s]"
      ]
     },
     "metadata": {},
     "output_type": "display_data"
    },
    {
     "name": "stdout",
     "output_type": "stream",
     "text": [
      "Target: 1\n",
      "Currents: 0.0\n",
      "Training \n",
      "\n",
      "\n",
      "Drain 1 Only\n"
     ]
    },
    {
     "data": {
      "application/vnd.jupyter.widget-view+json": {
       "model_id": "c602c06bf8cb433e816886a425bc04ec",
       "version_major": 2,
       "version_minor": 0
      },
      "text/plain": [
       "Running Simulation :   0%|          | 0/200 [00:00<?, ?it/s]"
      ]
     },
     "metadata": {},
     "output_type": "display_data"
    },
    {
     "name": "stdout",
     "output_type": "stream",
     "text": [
      "Target: 1\n",
      "Currents: 0.0\n",
      "Training \n",
      "\n",
      "\n",
      "Drain 2 Only\n"
     ]
    },
    {
     "data": {
      "application/vnd.jupyter.widget-view+json": {
       "model_id": "bc25e3246bae411784cc54a3312fce3b",
       "version_major": 2,
       "version_minor": 0
      },
      "text/plain": [
       "Running Simulation :   0%|          | 0/200 [00:00<?, ?it/s]"
      ]
     },
     "metadata": {},
     "output_type": "display_data"
    },
    {
     "name": "stdout",
     "output_type": "stream",
     "text": [
      "Target: 1\n",
      "Currents: 0.0\n",
      "Training \n",
      "\n",
      "\n",
      "Drain 3 Only\n"
     ]
    },
    {
     "data": {
      "application/vnd.jupyter.widget-view+json": {
       "model_id": "57a7a130604e4bbbbe422b64d6796642",
       "version_major": 2,
       "version_minor": 0
      },
      "text/plain": [
       "Running Simulation :   0%|          | 0/200 [00:00<?, ?it/s]"
      ]
     },
     "metadata": {},
     "output_type": "display_data"
    },
    {
     "name": "stdout",
     "output_type": "stream",
     "text": [
      "Target: 1\n",
      "Currents: 0.0\n",
      "Training \n",
      "\n",
      "\n",
      "Drain 4 Only\n"
     ]
    },
    {
     "data": {
      "application/vnd.jupyter.widget-view+json": {
       "model_id": "d5a8dd432498489ab2bca12128e69e8a",
       "version_major": 2,
       "version_minor": 0
      },
      "text/plain": [
       "Running Simulation :   0%|          | 0/200 [00:00<?, ?it/s]"
      ]
     },
     "metadata": {},
     "output_type": "display_data"
    },
    {
     "name": "stdout",
     "output_type": "stream",
     "text": [
      "Target: 1\n",
      "Currents: 0.0\n",
      "\n",
      "All Drains\n"
     ]
    },
    {
     "data": {
      "application/vnd.jupyter.widget-view+json": {
       "model_id": "8129d42fe5164987aa3e2d6b1cbfe5e7",
       "version_major": 2,
       "version_minor": 0
      },
      "text/plain": [
       "Running Simulation :   0%|          | 0/200 [00:00<?, ?it/s]"
      ]
     },
     "metadata": {},
     "output_type": "display_data"
    },
    {
     "name": "stdout",
     "output_type": "stream",
     "text": [
      "Target: 1\n",
      "Currents: 3.105123229899692e-07\n",
      "Testing \n",
      "\n",
      "Currents: [ 3.10512323e-07  3.25291519e-07  3.52581374e-07  4.23894184e-07\n",
      "  2.63807569e-08  1.63155817e-07  1.64008289e-07 -1.53299485e-06\n",
      " -4.71063147e-06]\n",
      "Target: 1.0\n",
      "Accuracy: 0\n",
      "New Target Threshold:5e-06\n",
      "Training \n",
      "\n",
      "\n",
      "Drain 5 Only\n"
     ]
    },
    {
     "data": {
      "application/vnd.jupyter.widget-view+json": {
       "model_id": "6504e13fc5b044db93f0f7b94e7184dd",
       "version_major": 2,
       "version_minor": 0
      },
      "text/plain": [
       "Running Simulation :   0%|          | 0/200 [00:00<?, ?it/s]"
      ]
     },
     "metadata": {},
     "output_type": "display_data"
    },
    {
     "name": "stdout",
     "output_type": "stream",
     "text": [
      "Target: 1\n",
      "Currents: 0.0\n",
      "Training \n",
      "\n",
      "\n",
      "Drain 4 Only\n"
     ]
    },
    {
     "data": {
      "application/vnd.jupyter.widget-view+json": {
       "model_id": "b512db6276ce4a5488339ddc95dd480d",
       "version_major": 2,
       "version_minor": 0
      },
      "text/plain": [
       "Running Simulation :   0%|          | 0/200 [00:00<?, ?it/s]"
      ]
     },
     "metadata": {},
     "output_type": "display_data"
    },
    {
     "name": "stdout",
     "output_type": "stream",
     "text": [
      "Target: 1\n",
      "Currents: 0.0\n",
      "Training \n",
      "\n",
      "\n",
      "Drain 2 Only\n"
     ]
    },
    {
     "data": {
      "application/vnd.jupyter.widget-view+json": {
       "model_id": "3ee320517a9147b8ac6b8e42969c3bb5",
       "version_major": 2,
       "version_minor": 0
      },
      "text/plain": [
       "Running Simulation :   0%|          | 0/200 [00:00<?, ?it/s]"
      ]
     },
     "metadata": {},
     "output_type": "display_data"
    },
    {
     "name": "stdout",
     "output_type": "stream",
     "text": [
      "Target: 1\n",
      "Currents: 0.0\n",
      "Training \n",
      "\n",
      "\n",
      "Drain 1 Only\n"
     ]
    },
    {
     "data": {
      "application/vnd.jupyter.widget-view+json": {
       "model_id": "f9ba959f1f3e4d17af529729b24febf1",
       "version_major": 2,
       "version_minor": 0
      },
      "text/plain": [
       "Running Simulation :   0%|          | 0/200 [00:00<?, ?it/s]"
      ]
     },
     "metadata": {},
     "output_type": "display_data"
    },
    {
     "name": "stdout",
     "output_type": "stream",
     "text": [
      "Target: 1\n",
      "Currents: 0.0\n",
      "Training \n",
      "\n",
      "\n",
      "Drain 7 Only\n"
     ]
    },
    {
     "data": {
      "application/vnd.jupyter.widget-view+json": {
       "model_id": "89b93bbc27d24a24827e2b7857f792e0",
       "version_major": 2,
       "version_minor": 0
      },
      "text/plain": [
       "Running Simulation :   0%|          | 0/200 [00:00<?, ?it/s]"
      ]
     },
     "metadata": {},
     "output_type": "display_data"
    },
    {
     "name": "stdout",
     "output_type": "stream",
     "text": [
      "Target: 1\n",
      "Currents: 0.0\n",
      "Training \n",
      "\n",
      "\n",
      "Drain 3 Only\n"
     ]
    },
    {
     "data": {
      "application/vnd.jupyter.widget-view+json": {
       "model_id": "d7ecacd5e66f4ae09d5eb4e4c6bf2d7c",
       "version_major": 2,
       "version_minor": 0
      },
      "text/plain": [
       "Running Simulation :   0%|          | 0/200 [00:00<?, ?it/s]"
      ]
     },
     "metadata": {},
     "output_type": "display_data"
    },
    {
     "name": "stdout",
     "output_type": "stream",
     "text": [
      "Target: 1\n",
      "Currents: 0.0\n",
      "Training \n",
      "\n",
      "\n",
      "Drain 6 Only\n"
     ]
    },
    {
     "data": {
      "application/vnd.jupyter.widget-view+json": {
       "model_id": "c2bf109012f542eeb0432af6db572e27",
       "version_major": 2,
       "version_minor": 0
      },
      "text/plain": [
       "Running Simulation :   0%|          | 0/200 [00:00<?, ?it/s]"
      ]
     },
     "metadata": {},
     "output_type": "display_data"
    },
    {
     "name": "stdout",
     "output_type": "stream",
     "text": [
      "Target: 1\n",
      "Currents: 0.0\n",
      "\n",
      "All Drains\n"
     ]
    },
    {
     "data": {
      "application/vnd.jupyter.widget-view+json": {
       "model_id": "5bf95dea8dc541aaa541c11a57c2ec4b",
       "version_major": 2,
       "version_minor": 0
      },
      "text/plain": [
       "Running Simulation :   0%|          | 0/200 [00:00<?, ?it/s]"
      ]
     },
     "metadata": {},
     "output_type": "display_data"
    },
    {
     "name": "stdout",
     "output_type": "stream",
     "text": [
      "Target: 1\n",
      "Currents: 2.586585512328288e-07\n",
      "Testing \n",
      "\n",
      "Currents: [ 2.58658551e-07  3.50379621e-08  3.64732873e-07  8.08296761e-08\n",
      "  5.58738414e-08  2.53834655e-07  2.59889736e-07 -1.19299578e-06\n",
      " -4.79700203e-06]\n",
      "Target: 1.0\n",
      "Accuracy: 0\n",
      "New Target Threshold:5e-06\n",
      "Training \n",
      "\n",
      "\n",
      "Drain 3 Only\n"
     ]
    },
    {
     "data": {
      "application/vnd.jupyter.widget-view+json": {
       "model_id": "98f04e36d9a04f4b8dd0510294027297",
       "version_major": 2,
       "version_minor": 0
      },
      "text/plain": [
       "Running Simulation :   0%|          | 0/200 [00:00<?, ?it/s]"
      ]
     },
     "metadata": {},
     "output_type": "display_data"
    },
    {
     "name": "stdout",
     "output_type": "stream",
     "text": [
      "Target: 1\n",
      "Currents: 0.0\n",
      "Training \n",
      "\n",
      "\n",
      "Drain 2 Only\n"
     ]
    },
    {
     "data": {
      "application/vnd.jupyter.widget-view+json": {
       "model_id": "cf26500770f84ab1bf1499db252a1a46",
       "version_major": 2,
       "version_minor": 0
      },
      "text/plain": [
       "Running Simulation :   0%|          | 0/200 [00:00<?, ?it/s]"
      ]
     },
     "metadata": {},
     "output_type": "display_data"
    },
    {
     "name": "stdout",
     "output_type": "stream",
     "text": [
      "Target: 1\n",
      "Currents: 0.0\n",
      "Training \n",
      "\n",
      "\n",
      "Drain 6 Only\n"
     ]
    },
    {
     "data": {
      "application/vnd.jupyter.widget-view+json": {
       "model_id": "e3f46824497f4f0287eb336b189adb13",
       "version_major": 2,
       "version_minor": 0
      },
      "text/plain": [
       "Running Simulation :   0%|          | 0/200 [00:00<?, ?it/s]"
      ]
     },
     "metadata": {},
     "output_type": "display_data"
    },
    {
     "name": "stdout",
     "output_type": "stream",
     "text": [
      "Target: 1\n",
      "Currents: 0.0\n",
      "Training \n",
      "\n",
      "\n",
      "Drain 4 Only\n"
     ]
    },
    {
     "data": {
      "application/vnd.jupyter.widget-view+json": {
       "model_id": "f04c3d728e894a7e9db26f76e3b78a8b",
       "version_major": 2,
       "version_minor": 0
      },
      "text/plain": [
       "Running Simulation :   0%|          | 0/200 [00:00<?, ?it/s]"
      ]
     },
     "metadata": {},
     "output_type": "display_data"
    },
    {
     "name": "stdout",
     "output_type": "stream",
     "text": [
      "Target: 1\n",
      "Currents: 0.0\n",
      "Training \n",
      "\n",
      "\n",
      "Drain 1 Only\n"
     ]
    },
    {
     "data": {
      "application/vnd.jupyter.widget-view+json": {
       "model_id": "38a276bd99124f73ac49249e80744c90",
       "version_major": 2,
       "version_minor": 0
      },
      "text/plain": [
       "Running Simulation :   0%|          | 0/200 [00:00<?, ?it/s]"
      ]
     },
     "metadata": {},
     "output_type": "display_data"
    },
    {
     "name": "stdout",
     "output_type": "stream",
     "text": [
      "Target: 1\n",
      "Currents: 0.0\n",
      "Training \n",
      "\n",
      "\n",
      "Drain 5 Only\n"
     ]
    },
    {
     "data": {
      "application/vnd.jupyter.widget-view+json": {
       "model_id": "f6fbe2af18654ff9926c99fb7a39bc48",
       "version_major": 2,
       "version_minor": 0
      },
      "text/plain": [
       "Running Simulation :   0%|          | 0/200 [00:00<?, ?it/s]"
      ]
     },
     "metadata": {},
     "output_type": "display_data"
    },
    {
     "name": "stdout",
     "output_type": "stream",
     "text": [
      "Target: 1\n",
      "Currents: 0.0\n",
      "Training \n",
      "\n",
      "\n",
      "Drain 7 Only\n"
     ]
    },
    {
     "data": {
      "application/vnd.jupyter.widget-view+json": {
       "model_id": "ce95e17ff56c4b1c9b3528e5301dc828",
       "version_major": 2,
       "version_minor": 0
      },
      "text/plain": [
       "Running Simulation :   0%|          | 0/200 [00:00<?, ?it/s]"
      ]
     },
     "metadata": {},
     "output_type": "display_data"
    },
    {
     "name": "stdout",
     "output_type": "stream",
     "text": [
      "Target: 1\n",
      "Currents: 0.0\n",
      "\n",
      "All Drains\n"
     ]
    },
    {
     "data": {
      "application/vnd.jupyter.widget-view+json": {
       "model_id": "2b249b0502434611b687093990dd5493",
       "version_major": 2,
       "version_minor": 0
      },
      "text/plain": [
       "Running Simulation :   0%|          | 0/200 [00:00<?, ?it/s]"
      ]
     },
     "metadata": {},
     "output_type": "display_data"
    },
    {
     "name": "stdout",
     "output_type": "stream",
     "text": [
      "Target: 1\n",
      "Currents: 5.491783924790835e-07\n",
      "Testing \n",
      "\n",
      "Currents: [ 5.49178392e-07  3.88248660e-08  2.79054732e-08  3.49599287e-07\n",
      "  3.36340886e-07  2.34982418e-07  2.32767717e-07 -1.35468505e-06\n",
      " -4.67104149e-06]\n",
      "Target: 1.0\n",
      "Accuracy: 1\n",
      "New Target Threshold:5e-06\n",
      "Training \n",
      "\n",
      "\n",
      "Drain 4 Only\n"
     ]
    },
    {
     "data": {
      "application/vnd.jupyter.widget-view+json": {
       "model_id": "ea0a49c57f0740329a9f63be2076c145",
       "version_major": 2,
       "version_minor": 0
      },
      "text/plain": [
       "Running Simulation :   0%|          | 0/200 [00:00<?, ?it/s]"
      ]
     },
     "metadata": {},
     "output_type": "display_data"
    },
    {
     "name": "stdout",
     "output_type": "stream",
     "text": [
      "Target: 1\n",
      "Currents: 0.0\n",
      "Training \n",
      "\n",
      "\n",
      "Drain 7 Only\n"
     ]
    },
    {
     "data": {
      "application/vnd.jupyter.widget-view+json": {
       "model_id": "f17ee47aaa8a4c91a9017d5316beb596",
       "version_major": 2,
       "version_minor": 0
      },
      "text/plain": [
       "Running Simulation :   0%|          | 0/200 [00:00<?, ?it/s]"
      ]
     },
     "metadata": {},
     "output_type": "display_data"
    },
    {
     "name": "stdout",
     "output_type": "stream",
     "text": [
      "Target: 1\n",
      "Currents: 0.0\n",
      "Training \n",
      "\n",
      "\n",
      "Drain 6 Only\n"
     ]
    },
    {
     "data": {
      "application/vnd.jupyter.widget-view+json": {
       "model_id": "23e7a01030664f33908230acba7ac703",
       "version_major": 2,
       "version_minor": 0
      },
      "text/plain": [
       "Running Simulation :   0%|          | 0/200 [00:00<?, ?it/s]"
      ]
     },
     "metadata": {},
     "output_type": "display_data"
    },
    {
     "name": "stdout",
     "output_type": "stream",
     "text": [
      "Target: 1\n",
      "Currents: 0.0\n",
      "Training \n",
      "\n",
      "\n",
      "Drain 5 Only\n"
     ]
    },
    {
     "data": {
      "application/vnd.jupyter.widget-view+json": {
       "model_id": "31822fe3504848e38d3232daefca61e2",
       "version_major": 2,
       "version_minor": 0
      },
      "text/plain": [
       "Running Simulation :   0%|          | 0/200 [00:00<?, ?it/s]"
      ]
     },
     "metadata": {},
     "output_type": "display_data"
    },
    {
     "name": "stdout",
     "output_type": "stream",
     "text": [
      "Target: 1\n",
      "Currents: 0.0\n",
      "Training \n",
      "\n",
      "\n",
      "Drain 1 Only\n"
     ]
    },
    {
     "data": {
      "application/vnd.jupyter.widget-view+json": {
       "model_id": "4f9c79c5f8a44a43af4c2fd3a2e557c1",
       "version_major": 2,
       "version_minor": 0
      },
      "text/plain": [
       "Running Simulation :   0%|          | 0/200 [00:00<?, ?it/s]"
      ]
     },
     "metadata": {},
     "output_type": "display_data"
    },
    {
     "name": "stdout",
     "output_type": "stream",
     "text": [
      "Target: 1\n",
      "Currents: 0.0\n",
      "Training \n",
      "\n",
      "\n",
      "Drain 3 Only\n"
     ]
    },
    {
     "data": {
      "application/vnd.jupyter.widget-view+json": {
       "model_id": "f6904b70cd114a63be2419a853235893",
       "version_major": 2,
       "version_minor": 0
      },
      "text/plain": [
       "Running Simulation :   0%|          | 0/200 [00:00<?, ?it/s]"
      ]
     },
     "metadata": {},
     "output_type": "display_data"
    },
    {
     "name": "stdout",
     "output_type": "stream",
     "text": [
      "Target: 1\n",
      "Currents: 0.0\n",
      "Training \n",
      "\n",
      "\n",
      "Drain 2 Only\n"
     ]
    },
    {
     "data": {
      "application/vnd.jupyter.widget-view+json": {
       "model_id": "43f6b1e1f0fb4f32a4db6015d5f81661",
       "version_major": 2,
       "version_minor": 0
      },
      "text/plain": [
       "Running Simulation :   0%|          | 0/200 [00:00<?, ?it/s]"
      ]
     },
     "metadata": {},
     "output_type": "display_data"
    },
    {
     "name": "stdout",
     "output_type": "stream",
     "text": [
      "Target: 1\n",
      "Currents: 0.0\n",
      "\n",
      "All Drains\n"
     ]
    },
    {
     "data": {
      "application/vnd.jupyter.widget-view+json": {
       "model_id": "3ea0fae7e196457bb37f261c5e2f1c45",
       "version_major": 2,
       "version_minor": 0
      },
      "text/plain": [
       "Running Simulation :   0%|          | 0/200 [00:00<?, ?it/s]"
      ]
     },
     "metadata": {},
     "output_type": "display_data"
    },
    {
     "name": "stdout",
     "output_type": "stream",
     "text": [
      "Target: 1\n",
      "Currents: 3.5462876285985544e-07\n",
      "Testing \n",
      "\n",
      "Currents: [ 3.54628763e-07  3.16119568e-07  3.03654862e-07  2.42974575e-08\n",
      "  1.24473015e-07  1.83882806e-07  1.85953148e-07 -1.44265317e-06\n",
      " -4.69894706e-06]\n",
      "Target: 1.0\n",
      "Accuracy: 1\n",
      "New Target Threshold:5e-06\n",
      "Training \n",
      "\n",
      "\n",
      "Drain 6 Only\n"
     ]
    },
    {
     "data": {
      "application/vnd.jupyter.widget-view+json": {
       "model_id": "dfe19b1f09e345ab97018007364ebd69",
       "version_major": 2,
       "version_minor": 0
      },
      "text/plain": [
       "Running Simulation :   0%|          | 0/200 [00:00<?, ?it/s]"
      ]
     },
     "metadata": {},
     "output_type": "display_data"
    },
    {
     "name": "stdout",
     "output_type": "stream",
     "text": [
      "Target: 1\n",
      "Currents: 0.0\n",
      "Training \n",
      "\n",
      "\n",
      "Drain 1 Only\n"
     ]
    },
    {
     "data": {
      "application/vnd.jupyter.widget-view+json": {
       "model_id": "4f510d5805d6470dac6b47eabe11b6c6",
       "version_major": 2,
       "version_minor": 0
      },
      "text/plain": [
       "Running Simulation :   0%|          | 0/200 [00:00<?, ?it/s]"
      ]
     },
     "metadata": {},
     "output_type": "display_data"
    },
    {
     "name": "stdout",
     "output_type": "stream",
     "text": [
      "Target: 1\n",
      "Currents: 0.0\n",
      "Training \n",
      "\n",
      "\n",
      "Drain 4 Only\n"
     ]
    },
    {
     "data": {
      "application/vnd.jupyter.widget-view+json": {
       "model_id": "63c62ace17a6403ebce9831c7a9e4f53",
       "version_major": 2,
       "version_minor": 0
      },
      "text/plain": [
       "Running Simulation :   0%|          | 0/200 [00:00<?, ?it/s]"
      ]
     },
     "metadata": {},
     "output_type": "display_data"
    },
    {
     "name": "stdout",
     "output_type": "stream",
     "text": [
      "Target: 1\n",
      "Currents: 0.0\n",
      "Training \n",
      "\n",
      "\n",
      "Drain 3 Only\n"
     ]
    },
    {
     "data": {
      "application/vnd.jupyter.widget-view+json": {
       "model_id": "a2c70097c9024172b915eb88fe00de13",
       "version_major": 2,
       "version_minor": 0
      },
      "text/plain": [
       "Running Simulation :   0%|          | 0/200 [00:00<?, ?it/s]"
      ]
     },
     "metadata": {},
     "output_type": "display_data"
    },
    {
     "name": "stdout",
     "output_type": "stream",
     "text": [
      "Target: 1\n",
      "Currents: 0.0\n",
      "Training \n",
      "\n",
      "\n",
      "Drain 7 Only\n"
     ]
    },
    {
     "data": {
      "application/vnd.jupyter.widget-view+json": {
       "model_id": "dec05c91c33f48d6b9facc512d9cff63",
       "version_major": 2,
       "version_minor": 0
      },
      "text/plain": [
       "Running Simulation :   0%|          | 0/200 [00:00<?, ?it/s]"
      ]
     },
     "metadata": {},
     "output_type": "display_data"
    },
    {
     "name": "stdout",
     "output_type": "stream",
     "text": [
      "Target: 1\n",
      "Currents: 0.0\n",
      "Training \n",
      "\n",
      "\n",
      "Drain 2 Only\n"
     ]
    },
    {
     "data": {
      "application/vnd.jupyter.widget-view+json": {
       "model_id": "2f148bcb8ed1466d93d58f36cd35a9ed",
       "version_major": 2,
       "version_minor": 0
      },
      "text/plain": [
       "Running Simulation :   0%|          | 0/200 [00:00<?, ?it/s]"
      ]
     },
     "metadata": {},
     "output_type": "display_data"
    },
    {
     "name": "stdout",
     "output_type": "stream",
     "text": [
      "Target: 1\n",
      "Currents: 0.0\n",
      "Training \n",
      "\n",
      "\n",
      "Drain 5 Only\n"
     ]
    },
    {
     "data": {
      "application/vnd.jupyter.widget-view+json": {
       "model_id": "785420270dc14405a6b2cff33fd64f58",
       "version_major": 2,
       "version_minor": 0
      },
      "text/plain": [
       "Running Simulation :   0%|          | 0/200 [00:00<?, ?it/s]"
      ]
     },
     "metadata": {},
     "output_type": "display_data"
    },
    {
     "name": "stdout",
     "output_type": "stream",
     "text": [
      "Target: 1\n",
      "Currents: 0.0\n",
      "\n",
      "All Drains\n"
     ]
    },
    {
     "data": {
      "application/vnd.jupyter.widget-view+json": {
       "model_id": "eeafc5e7928c4353b1f43cc4824e30e2",
       "version_major": 2,
       "version_minor": 0
      },
      "text/plain": [
       "Running Simulation :   0%|          | 0/200 [00:00<?, ?it/s]"
      ]
     },
     "metadata": {},
     "output_type": "display_data"
    },
    {
     "name": "stdout",
     "output_type": "stream",
     "text": [
      "Target: 1\n",
      "Currents: 1.7384505851636354e-07\n",
      "Testing \n",
      "\n",
      "Currents: [ 1.73845059e-07  4.12388313e-07  1.03073555e-07  2.91411925e-07\n",
      "  3.21892023e-07  2.07460908e-07  2.27625479e-07 -7.77357194e-07\n",
      " -5.10356175e-06]\n",
      "Target: 1.0\n",
      "Accuracy: 0\n",
      "New Target Threshold:5e-06\n",
      "Training \n",
      "\n",
      "\n",
      "Drain 5 Only\n"
     ]
    },
    {
     "data": {
      "application/vnd.jupyter.widget-view+json": {
       "model_id": "1939ee419da3474dad5a1111fa7750ec",
       "version_major": 2,
       "version_minor": 0
      },
      "text/plain": [
       "Running Simulation :   0%|          | 0/200 [00:00<?, ?it/s]"
      ]
     },
     "metadata": {},
     "output_type": "display_data"
    },
    {
     "name": "stdout",
     "output_type": "stream",
     "text": [
      "Target: 1\n",
      "Currents: 0.0\n",
      "Training \n",
      "\n",
      "\n",
      "Drain 2 Only\n"
     ]
    },
    {
     "data": {
      "application/vnd.jupyter.widget-view+json": {
       "model_id": "a1314b8bde034bb3827bdb5a38bb1264",
       "version_major": 2,
       "version_minor": 0
      },
      "text/plain": [
       "Running Simulation :   0%|          | 0/200 [00:00<?, ?it/s]"
      ]
     },
     "metadata": {},
     "output_type": "display_data"
    },
    {
     "name": "stdout",
     "output_type": "stream",
     "text": [
      "Target: 1\n",
      "Currents: 0.0\n",
      "Training \n",
      "\n",
      "\n",
      "Drain 6 Only\n"
     ]
    },
    {
     "data": {
      "application/vnd.jupyter.widget-view+json": {
       "model_id": "012273d240684ca08e8ede6acb62379c",
       "version_major": 2,
       "version_minor": 0
      },
      "text/plain": [
       "Running Simulation :   0%|          | 0/200 [00:00<?, ?it/s]"
      ]
     },
     "metadata": {},
     "output_type": "display_data"
    },
    {
     "name": "stdout",
     "output_type": "stream",
     "text": [
      "Target: 1\n",
      "Currents: 0.0\n",
      "Training \n",
      "\n",
      "\n",
      "Drain 7 Only\n"
     ]
    },
    {
     "data": {
      "application/vnd.jupyter.widget-view+json": {
       "model_id": "7e1b80ace5a94fe3ae5448d29b3b1ede",
       "version_major": 2,
       "version_minor": 0
      },
      "text/plain": [
       "Running Simulation :   0%|          | 0/200 [00:00<?, ?it/s]"
      ]
     },
     "metadata": {},
     "output_type": "display_data"
    },
    {
     "name": "stdout",
     "output_type": "stream",
     "text": [
      "Target: 1\n",
      "Currents: 0.0\n",
      "Training \n",
      "\n",
      "\n",
      "Drain 4 Only\n"
     ]
    },
    {
     "data": {
      "application/vnd.jupyter.widget-view+json": {
       "model_id": "9b5c3ff4a2e44c6fbebfdeb075c79398",
       "version_major": 2,
       "version_minor": 0
      },
      "text/plain": [
       "Running Simulation :   0%|          | 0/200 [00:00<?, ?it/s]"
      ]
     },
     "metadata": {},
     "output_type": "display_data"
    },
    {
     "name": "stdout",
     "output_type": "stream",
     "text": [
      "Target: 1\n",
      "Currents: 0.0\n",
      "Training \n",
      "\n",
      "\n",
      "Drain 3 Only\n"
     ]
    },
    {
     "data": {
      "application/vnd.jupyter.widget-view+json": {
       "model_id": "d0d0943af2474d0fa03faccd548ae94a",
       "version_major": 2,
       "version_minor": 0
      },
      "text/plain": [
       "Running Simulation :   0%|          | 0/200 [00:00<?, ?it/s]"
      ]
     },
     "metadata": {},
     "output_type": "display_data"
    },
    {
     "name": "stdout",
     "output_type": "stream",
     "text": [
      "Target: 1\n",
      "Currents: 0.0\n",
      "Training \n",
      "\n",
      "\n",
      "Drain 1 Only\n"
     ]
    },
    {
     "data": {
      "application/vnd.jupyter.widget-view+json": {
       "model_id": "23f82ac81eed4065b4dc5ce6189eaa8f",
       "version_major": 2,
       "version_minor": 0
      },
      "text/plain": [
       "Running Simulation :   0%|          | 0/200 [00:00<?, ?it/s]"
      ]
     },
     "metadata": {},
     "output_type": "display_data"
    },
    {
     "name": "stdout",
     "output_type": "stream",
     "text": [
      "Target: 1\n",
      "Currents: 0.0\n",
      "\n",
      "All Drains\n"
     ]
    },
    {
     "data": {
      "application/vnd.jupyter.widget-view+json": {
       "model_id": "a82e49acd1b4422e9c5bbf1eab13ab1a",
       "version_major": 2,
       "version_minor": 0
      },
      "text/plain": [
       "Running Simulation :   0%|          | 0/200 [00:00<?, ?it/s]"
      ]
     },
     "metadata": {},
     "output_type": "display_data"
    },
    {
     "name": "stdout",
     "output_type": "stream",
     "text": [
      "Target: 1\n",
      "Currents: 6.352908736958534e-07\n",
      "Testing \n",
      "\n",
      "Currents: [ 6.35290874e-07  1.39862069e-08  1.90803228e-07  3.17014313e-07\n",
      "  4.32795004e-08  2.24754069e-07  2.29364259e-07 -9.00337403e-07\n",
      " -5.12545618e-06]\n",
      "Target: 1.0\n",
      "Accuracy: 1\n",
      "New Target Threshold:5e-06\n",
      "Training \n",
      "\n",
      "\n",
      "Drain 7 Only\n"
     ]
    },
    {
     "data": {
      "application/vnd.jupyter.widget-view+json": {
       "model_id": "c3a4506c84754161bc64578686d1b0ec",
       "version_major": 2,
       "version_minor": 0
      },
      "text/plain": [
       "Running Simulation :   0%|          | 0/200 [00:00<?, ?it/s]"
      ]
     },
     "metadata": {},
     "output_type": "display_data"
    },
    {
     "name": "stdout",
     "output_type": "stream",
     "text": [
      "Target: 1\n",
      "Currents: 0.0\n",
      "Training \n",
      "\n",
      "\n",
      "Drain 6 Only\n"
     ]
    },
    {
     "data": {
      "application/vnd.jupyter.widget-view+json": {
       "model_id": "408a88b5796a43fca4fa29ea78e99c08",
       "version_major": 2,
       "version_minor": 0
      },
      "text/plain": [
       "Running Simulation :   0%|          | 0/200 [00:00<?, ?it/s]"
      ]
     },
     "metadata": {},
     "output_type": "display_data"
    },
    {
     "name": "stdout",
     "output_type": "stream",
     "text": [
      "Target: 1\n",
      "Currents: 0.0\n",
      "Training \n",
      "\n",
      "\n",
      "Drain 4 Only\n"
     ]
    },
    {
     "data": {
      "application/vnd.jupyter.widget-view+json": {
       "model_id": "9ab0873dc76849138d08621120b7e335",
       "version_major": 2,
       "version_minor": 0
      },
      "text/plain": [
       "Running Simulation :   0%|          | 0/200 [00:00<?, ?it/s]"
      ]
     },
     "metadata": {},
     "output_type": "display_data"
    },
    {
     "name": "stdout",
     "output_type": "stream",
     "text": [
      "Target: 1\n",
      "Currents: 0.0\n",
      "Training \n",
      "\n",
      "\n",
      "Drain 2 Only\n"
     ]
    },
    {
     "data": {
      "application/vnd.jupyter.widget-view+json": {
       "model_id": "5cef2cd8871b45558d754d13df17be9d",
       "version_major": 2,
       "version_minor": 0
      },
      "text/plain": [
       "Running Simulation :   0%|          | 0/200 [00:00<?, ?it/s]"
      ]
     },
     "metadata": {},
     "output_type": "display_data"
    },
    {
     "name": "stdout",
     "output_type": "stream",
     "text": [
      "Target: 1\n",
      "Currents: 0.0\n",
      "Training \n",
      "\n",
      "\n",
      "Drain 3 Only\n"
     ]
    },
    {
     "data": {
      "application/vnd.jupyter.widget-view+json": {
       "model_id": "778a9e131955445bbd77860fcb66f97f",
       "version_major": 2,
       "version_minor": 0
      },
      "text/plain": [
       "Running Simulation :   0%|          | 0/200 [00:00<?, ?it/s]"
      ]
     },
     "metadata": {},
     "output_type": "display_data"
    },
    {
     "name": "stdout",
     "output_type": "stream",
     "text": [
      "Target: 1\n",
      "Currents: 0.0\n",
      "Training \n",
      "\n",
      "\n",
      "Drain 1 Only\n"
     ]
    },
    {
     "data": {
      "application/vnd.jupyter.widget-view+json": {
       "model_id": "d716474967ea4c46a4ca8e6e830300ca",
       "version_major": 2,
       "version_minor": 0
      },
      "text/plain": [
       "Running Simulation :   0%|          | 0/200 [00:00<?, ?it/s]"
      ]
     },
     "metadata": {},
     "output_type": "display_data"
    },
    {
     "name": "stdout",
     "output_type": "stream",
     "text": [
      "Target: 1\n",
      "Currents: 0.0\n",
      "Training \n",
      "\n",
      "\n",
      "Drain 5 Only\n"
     ]
    },
    {
     "data": {
      "application/vnd.jupyter.widget-view+json": {
       "model_id": "e9d738949d1d4ba3a23377c69ff6bd92",
       "version_major": 2,
       "version_minor": 0
      },
      "text/plain": [
       "Running Simulation :   0%|          | 0/200 [00:00<?, ?it/s]"
      ]
     },
     "metadata": {},
     "output_type": "display_data"
    },
    {
     "name": "stdout",
     "output_type": "stream",
     "text": [
      "Target: 1\n",
      "Currents: 0.0\n",
      "\n",
      "All Drains\n"
     ]
    },
    {
     "data": {
      "application/vnd.jupyter.widget-view+json": {
       "model_id": "2f845436741846a0b8031e4c2ff639f6",
       "version_major": 2,
       "version_minor": 0
      },
      "text/plain": [
       "Running Simulation :   0%|          | 0/200 [00:00<?, ?it/s]"
      ]
     },
     "metadata": {},
     "output_type": "display_data"
    },
    {
     "name": "stdout",
     "output_type": "stream",
     "text": [
      "Target: 1\n",
      "Currents: 5.009300711471456e-07\n",
      "Testing \n",
      "\n",
      "Currents: [ 5.00930071e-07  1.32267800e-07  1.15231708e-07  6.70063828e-08\n",
      "  3.70292078e-07  2.04679508e-07  2.06157197e-07 -1.86455483e-06\n",
      " -4.15966373e-06]\n",
      "Target: 1.0\n",
      "Accuracy: 1\n",
      "New Target Threshold:5e-06\n",
      "Training \n",
      "\n",
      "\n",
      "Drain 1 Only\n"
     ]
    },
    {
     "data": {
      "application/vnd.jupyter.widget-view+json": {
       "model_id": "b88af8811b3d45edbca7058f99fb90c4",
       "version_major": 2,
       "version_minor": 0
      },
      "text/plain": [
       "Running Simulation :   0%|          | 0/200 [00:00<?, ?it/s]"
      ]
     },
     "metadata": {},
     "output_type": "display_data"
    },
    {
     "name": "stdout",
     "output_type": "stream",
     "text": [
      "Target: 1\n",
      "Currents: 0.0\n",
      "Training \n",
      "\n",
      "\n",
      "Drain 4 Only\n"
     ]
    },
    {
     "data": {
      "application/vnd.jupyter.widget-view+json": {
       "model_id": "a577c6a4f0114c1f9dd54a9256e1189c",
       "version_major": 2,
       "version_minor": 0
      },
      "text/plain": [
       "Running Simulation :   0%|          | 0/200 [00:00<?, ?it/s]"
      ]
     },
     "metadata": {},
     "output_type": "display_data"
    },
    {
     "name": "stdout",
     "output_type": "stream",
     "text": [
      "Target: 1\n",
      "Currents: 0.0\n",
      "Training \n",
      "\n",
      "\n",
      "Drain 6 Only\n"
     ]
    },
    {
     "data": {
      "application/vnd.jupyter.widget-view+json": {
       "model_id": "a3e5d14011304a39a3cf8344c222bfd0",
       "version_major": 2,
       "version_minor": 0
      },
      "text/plain": [
       "Running Simulation :   0%|          | 0/200 [00:00<?, ?it/s]"
      ]
     },
     "metadata": {},
     "output_type": "display_data"
    },
    {
     "name": "stdout",
     "output_type": "stream",
     "text": [
      "Target: 1\n",
      "Currents: 0.0\n",
      "Training \n",
      "\n",
      "\n",
      "Drain 2 Only\n"
     ]
    },
    {
     "data": {
      "application/vnd.jupyter.widget-view+json": {
       "model_id": "b2205e79ef504d01b707d7cec416d41e",
       "version_major": 2,
       "version_minor": 0
      },
      "text/plain": [
       "Running Simulation :   0%|          | 0/200 [00:00<?, ?it/s]"
      ]
     },
     "metadata": {},
     "output_type": "display_data"
    },
    {
     "name": "stdout",
     "output_type": "stream",
     "text": [
      "Target: 1\n",
      "Currents: 0.0\n",
      "Training \n",
      "\n",
      "\n",
      "Drain 7 Only\n"
     ]
    },
    {
     "data": {
      "application/vnd.jupyter.widget-view+json": {
       "model_id": "ee15a111959a4f5897b1e7382004843d",
       "version_major": 2,
       "version_minor": 0
      },
      "text/plain": [
       "Running Simulation :   0%|          | 0/200 [00:00<?, ?it/s]"
      ]
     },
     "metadata": {},
     "output_type": "display_data"
    },
    {
     "name": "stdout",
     "output_type": "stream",
     "text": [
      "Target: 1\n",
      "Currents: 0.0\n",
      "Training \n",
      "\n",
      "\n",
      "Drain 3 Only\n"
     ]
    },
    {
     "data": {
      "application/vnd.jupyter.widget-view+json": {
       "model_id": "e4b44146132c4029b0894e14b6460cc1",
       "version_major": 2,
       "version_minor": 0
      },
      "text/plain": [
       "Running Simulation :   0%|          | 0/200 [00:00<?, ?it/s]"
      ]
     },
     "metadata": {},
     "output_type": "display_data"
    },
    {
     "name": "stdout",
     "output_type": "stream",
     "text": [
      "Target: 1\n",
      "Currents: 0.0\n",
      "Training \n",
      "\n",
      "\n",
      "Drain 5 Only\n"
     ]
    },
    {
     "data": {
      "application/vnd.jupyter.widget-view+json": {
       "model_id": "7c39aebf938f407691760324323dd411",
       "version_major": 2,
       "version_minor": 0
      },
      "text/plain": [
       "Running Simulation :   0%|          | 0/200 [00:00<?, ?it/s]"
      ]
     },
     "metadata": {},
     "output_type": "display_data"
    },
    {
     "name": "stdout",
     "output_type": "stream",
     "text": [
      "Target: 1\n",
      "Currents: 0.0\n",
      "\n",
      "All Drains\n"
     ]
    },
    {
     "data": {
      "application/vnd.jupyter.widget-view+json": {
       "model_id": "a9106bd9c4c2429ea3aa2ae85377e1db",
       "version_major": 2,
       "version_minor": 0
      },
      "text/plain": [
       "Running Simulation :   0%|          | 0/200 [00:00<?, ?it/s]"
      ]
     },
     "metadata": {},
     "output_type": "display_data"
    },
    {
     "name": "stdout",
     "output_type": "stream",
     "text": [
      "Target: 1\n",
      "Currents: 4.3898793148677203e-08\n",
      "Testing \n",
      "\n",
      "Currents: [ 4.38987931e-08  1.21395620e-07  3.30990549e-07  7.44611232e-08\n",
      "  3.65952853e-07  2.04717734e-07  2.06611821e-07 -1.20216337e-06\n",
      " -4.49674144e-06]\n",
      "Target: 1.0\n",
      "Accuracy: 0\n",
      "New Target Threshold:5e-06\n",
      "Training \n",
      "\n",
      "\n",
      "Drain 6 Only\n"
     ]
    },
    {
     "data": {
      "application/vnd.jupyter.widget-view+json": {
       "model_id": "eaa58a1500494c1cafec9b3469a39f7c",
       "version_major": 2,
       "version_minor": 0
      },
      "text/plain": [
       "Running Simulation :   0%|          | 0/200 [00:00<?, ?it/s]"
      ]
     },
     "metadata": {},
     "output_type": "display_data"
    },
    {
     "name": "stdout",
     "output_type": "stream",
     "text": [
      "Target: 1\n",
      "Currents: 0.0\n",
      "Training \n",
      "\n",
      "\n",
      "Drain 1 Only\n"
     ]
    },
    {
     "data": {
      "application/vnd.jupyter.widget-view+json": {
       "model_id": "7030a4e41f904e71bda1ef2a0d99d172",
       "version_major": 2,
       "version_minor": 0
      },
      "text/plain": [
       "Running Simulation :   0%|          | 0/200 [00:00<?, ?it/s]"
      ]
     },
     "metadata": {},
     "output_type": "display_data"
    },
    {
     "name": "stdout",
     "output_type": "stream",
     "text": [
      "Target: 1\n",
      "Currents: 0.0\n",
      "Training \n",
      "\n",
      "\n",
      "Drain 3 Only\n"
     ]
    },
    {
     "data": {
      "application/vnd.jupyter.widget-view+json": {
       "model_id": "c4a4e4719e464f78a5b3cad433006b6c",
       "version_major": 2,
       "version_minor": 0
      },
      "text/plain": [
       "Running Simulation :   0%|          | 0/200 [00:00<?, ?it/s]"
      ]
     },
     "metadata": {},
     "output_type": "display_data"
    },
    {
     "name": "stdout",
     "output_type": "stream",
     "text": [
      "Target: 1\n",
      "Currents: 0.0\n",
      "Training \n",
      "\n",
      "\n",
      "Drain 4 Only\n"
     ]
    },
    {
     "data": {
      "application/vnd.jupyter.widget-view+json": {
       "model_id": "81efffaf84994c66bd50deefd581a2db",
       "version_major": 2,
       "version_minor": 0
      },
      "text/plain": [
       "Running Simulation :   0%|          | 0/200 [00:00<?, ?it/s]"
      ]
     },
     "metadata": {},
     "output_type": "display_data"
    },
    {
     "name": "stdout",
     "output_type": "stream",
     "text": [
      "Target: 1\n",
      "Currents: 0.0\n",
      "Training \n",
      "\n",
      "\n",
      "Drain 5 Only\n"
     ]
    },
    {
     "data": {
      "application/vnd.jupyter.widget-view+json": {
       "model_id": "ef3497c06f324575a189f7be1c7ce955",
       "version_major": 2,
       "version_minor": 0
      },
      "text/plain": [
       "Running Simulation :   0%|          | 0/200 [00:00<?, ?it/s]"
      ]
     },
     "metadata": {},
     "output_type": "display_data"
    },
    {
     "name": "stdout",
     "output_type": "stream",
     "text": [
      "Target: 1\n",
      "Currents: 0.0\n",
      "Training \n",
      "\n",
      "\n",
      "Drain 2 Only\n"
     ]
    },
    {
     "data": {
      "application/vnd.jupyter.widget-view+json": {
       "model_id": "e5be01bc5631455e8ca8437090940102",
       "version_major": 2,
       "version_minor": 0
      },
      "text/plain": [
       "Running Simulation :   0%|          | 0/200 [00:00<?, ?it/s]"
      ]
     },
     "metadata": {},
     "output_type": "display_data"
    },
    {
     "name": "stdout",
     "output_type": "stream",
     "text": [
      "Target: 1\n",
      "Currents: 0.0\n",
      "Training \n",
      "\n",
      "\n",
      "Drain 7 Only\n"
     ]
    },
    {
     "data": {
      "application/vnd.jupyter.widget-view+json": {
       "model_id": "93ab51acc55a44f885ae63781eace281",
       "version_major": 2,
       "version_minor": 0
      },
      "text/plain": [
       "Running Simulation :   0%|          | 0/200 [00:00<?, ?it/s]"
      ]
     },
     "metadata": {},
     "output_type": "display_data"
    },
    {
     "name": "stdout",
     "output_type": "stream",
     "text": [
      "Target: 1\n",
      "Currents: 0.0\n",
      "\n",
      "All Drains\n"
     ]
    },
    {
     "data": {
      "application/vnd.jupyter.widget-view+json": {
       "model_id": "7399e0ff7ffb472191d9271ae453fe70",
       "version_major": 2,
       "version_minor": 0
      },
      "text/plain": [
       "Running Simulation :   0%|          | 0/200 [00:00<?, ?it/s]"
      ]
     },
     "metadata": {},
     "output_type": "display_data"
    },
    {
     "name": "stdout",
     "output_type": "stream",
     "text": [
      "Target: 1\n",
      "Currents: 7.103927859169792e-08\n",
      "Testing \n",
      "\n",
      "Currents: [ 7.10392786e-08  2.92924759e-07  7.48249442e-08  1.46516136e-07\n",
      "  2.14700420e-07  1.89802704e-07  1.97454382e-07 -1.73893855e-06\n",
      " -4.06984648e-06]\n",
      "Target: 1.0\n",
      "Accuracy: 0\n",
      "New Target Threshold:5e-06\n",
      "Training \n",
      "\n",
      "\n",
      "Drain 4 Only\n"
     ]
    },
    {
     "data": {
      "application/vnd.jupyter.widget-view+json": {
       "model_id": "a631cdb9f3a041f8ab84b65d8fb0e3c7",
       "version_major": 2,
       "version_minor": 0
      },
      "text/plain": [
       "Running Simulation :   0%|          | 0/200 [00:00<?, ?it/s]"
      ]
     },
     "metadata": {},
     "output_type": "display_data"
    },
    {
     "name": "stdout",
     "output_type": "stream",
     "text": [
      "Target: 1\n",
      "Currents: 0.0\n",
      "Training \n",
      "\n",
      "\n",
      "Drain 6 Only\n"
     ]
    },
    {
     "data": {
      "application/vnd.jupyter.widget-view+json": {
       "model_id": "19c068fafb9f41c5823c8a13b15af0fd",
       "version_major": 2,
       "version_minor": 0
      },
      "text/plain": [
       "Running Simulation :   0%|          | 0/200 [00:00<?, ?it/s]"
      ]
     },
     "metadata": {},
     "output_type": "display_data"
    },
    {
     "name": "stdout",
     "output_type": "stream",
     "text": [
      "Target: 1\n",
      "Currents: 0.0\n",
      "Training \n",
      "\n",
      "\n",
      "Drain 2 Only\n"
     ]
    },
    {
     "data": {
      "application/vnd.jupyter.widget-view+json": {
       "model_id": "aeab3071d63740b4b209ef36f38ffa59",
       "version_major": 2,
       "version_minor": 0
      },
      "text/plain": [
       "Running Simulation :   0%|          | 0/200 [00:00<?, ?it/s]"
      ]
     },
     "metadata": {},
     "output_type": "display_data"
    },
    {
     "name": "stdout",
     "output_type": "stream",
     "text": [
      "Target: 1\n",
      "Currents: 0.0\n",
      "Training \n",
      "\n",
      "\n",
      "Drain 5 Only\n"
     ]
    },
    {
     "data": {
      "application/vnd.jupyter.widget-view+json": {
       "model_id": "2eb6a128b1b54ce49473f7e57bc02a4d",
       "version_major": 2,
       "version_minor": 0
      },
      "text/plain": [
       "Running Simulation :   0%|          | 0/200 [00:00<?, ?it/s]"
      ]
     },
     "metadata": {},
     "output_type": "display_data"
    },
    {
     "name": "stdout",
     "output_type": "stream",
     "text": [
      "Target: 1\n",
      "Currents: 0.0\n",
      "Training \n",
      "\n",
      "\n",
      "Drain 1 Only\n"
     ]
    },
    {
     "data": {
      "application/vnd.jupyter.widget-view+json": {
       "model_id": "4e01a16f8b844011a35358d7d1468369",
       "version_major": 2,
       "version_minor": 0
      },
      "text/plain": [
       "Running Simulation :   0%|          | 0/200 [00:00<?, ?it/s]"
      ]
     },
     "metadata": {},
     "output_type": "display_data"
    },
    {
     "name": "stdout",
     "output_type": "stream",
     "text": [
      "Target: 1\n",
      "Currents: 0.0\n",
      "Training \n",
      "\n",
      "\n",
      "Drain 3 Only\n"
     ]
    },
    {
     "data": {
      "application/vnd.jupyter.widget-view+json": {
       "model_id": "6763a25512ec49deb5498a5555c77a5b",
       "version_major": 2,
       "version_minor": 0
      },
      "text/plain": [
       "Running Simulation :   0%|          | 0/200 [00:00<?, ?it/s]"
      ]
     },
     "metadata": {},
     "output_type": "display_data"
    },
    {
     "name": "stdout",
     "output_type": "stream",
     "text": [
      "Target: 1\n",
      "Currents: 0.0\n",
      "Training \n",
      "\n",
      "\n",
      "Drain 7 Only\n"
     ]
    },
    {
     "data": {
      "application/vnd.jupyter.widget-view+json": {
       "model_id": "f48dfe70b04d4997a685449ae335fae1",
       "version_major": 2,
       "version_minor": 0
      },
      "text/plain": [
       "Running Simulation :   0%|          | 0/200 [00:00<?, ?it/s]"
      ]
     },
     "metadata": {},
     "output_type": "display_data"
    },
    {
     "name": "stdout",
     "output_type": "stream",
     "text": [
      "Target: 1\n",
      "Currents: 0.0\n",
      "\n",
      "All Drains\n"
     ]
    },
    {
     "data": {
      "application/vnd.jupyter.widget-view+json": {
       "model_id": "a55503fd7e2948f7915245df5b8d72d3",
       "version_major": 2,
       "version_minor": 0
      },
      "text/plain": [
       "Running Simulation :   0%|          | 0/200 [00:00<?, ?it/s]"
      ]
     },
     "metadata": {},
     "output_type": "display_data"
    },
    {
     "name": "stdout",
     "output_type": "stream",
     "text": [
      "Target: 1\n",
      "Currents: 3.128591654341082e-07\n",
      "Testing \n",
      "\n",
      "Currents: [ 3.12859165e-07  7.90528519e-08  2.43592122e-07  1.70653975e-08\n",
      "  1.40382140e-07  2.23350925e-07  2.32642688e-07 -1.55563094e-06\n",
      " -4.35332535e-06]\n",
      "Target: 1.0\n",
      "Accuracy: 1\n",
      "New Target Threshold:5e-06\n",
      "Training \n",
      "\n",
      "\n",
      "Drain 3 Only\n"
     ]
    },
    {
     "data": {
      "application/vnd.jupyter.widget-view+json": {
       "model_id": "684783098f1544909e29588bab25d6d5",
       "version_major": 2,
       "version_minor": 0
      },
      "text/plain": [
       "Running Simulation :   0%|          | 0/200 [00:00<?, ?it/s]"
      ]
     },
     "metadata": {},
     "output_type": "display_data"
    },
    {
     "name": "stdout",
     "output_type": "stream",
     "text": [
      "Target: 1\n",
      "Currents: 0.0\n",
      "Training \n",
      "\n",
      "\n",
      "Drain 7 Only\n"
     ]
    },
    {
     "data": {
      "application/vnd.jupyter.widget-view+json": {
       "model_id": "9757f38bc42542ad8bc261cd1de0e3b5",
       "version_major": 2,
       "version_minor": 0
      },
      "text/plain": [
       "Running Simulation :   0%|          | 0/200 [00:00<?, ?it/s]"
      ]
     },
     "metadata": {},
     "output_type": "display_data"
    },
    {
     "name": "stdout",
     "output_type": "stream",
     "text": [
      "Target: 1\n",
      "Currents: 0.0\n",
      "Training \n",
      "\n",
      "\n",
      "Drain 5 Only\n"
     ]
    },
    {
     "data": {
      "application/vnd.jupyter.widget-view+json": {
       "model_id": "0d0c46d40559410bba136d1510138e20",
       "version_major": 2,
       "version_minor": 0
      },
      "text/plain": [
       "Running Simulation :   0%|          | 0/200 [00:00<?, ?it/s]"
      ]
     },
     "metadata": {},
     "output_type": "display_data"
    },
    {
     "name": "stdout",
     "output_type": "stream",
     "text": [
      "Target: 1\n",
      "Currents: 0.0\n",
      "Training \n",
      "\n",
      "\n",
      "Drain 4 Only\n"
     ]
    },
    {
     "data": {
      "application/vnd.jupyter.widget-view+json": {
       "model_id": "dd993dd9c2df4f4fa170736c2071f8c1",
       "version_major": 2,
       "version_minor": 0
      },
      "text/plain": [
       "Running Simulation :   0%|          | 0/200 [00:00<?, ?it/s]"
      ]
     },
     "metadata": {},
     "output_type": "display_data"
    },
    {
     "name": "stdout",
     "output_type": "stream",
     "text": [
      "Target: 1\n",
      "Currents: 0.0\n",
      "Training \n",
      "\n",
      "\n",
      "Drain 6 Only\n"
     ]
    },
    {
     "data": {
      "application/vnd.jupyter.widget-view+json": {
       "model_id": "374aec8274e548459c80826a03317b59",
       "version_major": 2,
       "version_minor": 0
      },
      "text/plain": [
       "Running Simulation :   0%|          | 0/200 [00:00<?, ?it/s]"
      ]
     },
     "metadata": {},
     "output_type": "display_data"
    },
    {
     "name": "stdout",
     "output_type": "stream",
     "text": [
      "Target: 1\n",
      "Currents: 0.0\n",
      "Training \n",
      "\n",
      "\n",
      "Drain 2 Only\n"
     ]
    },
    {
     "data": {
      "application/vnd.jupyter.widget-view+json": {
       "model_id": "674d5e7df2af49d0be1858e301d51a6f",
       "version_major": 2,
       "version_minor": 0
      },
      "text/plain": [
       "Running Simulation :   0%|          | 0/200 [00:00<?, ?it/s]"
      ]
     },
     "metadata": {},
     "output_type": "display_data"
    },
    {
     "name": "stdout",
     "output_type": "stream",
     "text": [
      "Target: 1\n",
      "Currents: 0.0\n",
      "Training \n",
      "\n",
      "\n",
      "Drain 1 Only\n"
     ]
    },
    {
     "data": {
      "application/vnd.jupyter.widget-view+json": {
       "model_id": "9db914694033424d9e0586c4fe5d437d",
       "version_major": 2,
       "version_minor": 0
      },
      "text/plain": [
       "Running Simulation :   0%|          | 0/200 [00:00<?, ?it/s]"
      ]
     },
     "metadata": {},
     "output_type": "display_data"
    },
    {
     "name": "stdout",
     "output_type": "stream",
     "text": [
      "Target: 1\n",
      "Currents: 0.0\n",
      "\n",
      "All Drains\n"
     ]
    },
    {
     "data": {
      "application/vnd.jupyter.widget-view+json": {
       "model_id": "0dd3453c2102499493aee39a9ee104b5",
       "version_major": 2,
       "version_minor": 0
      },
      "text/plain": [
       "Running Simulation :   0%|          | 0/200 [00:00<?, ?it/s]"
      ]
     },
     "metadata": {},
     "output_type": "display_data"
    },
    {
     "name": "stdout",
     "output_type": "stream",
     "text": [
      "Target: 1\n",
      "Currents: 4.223239136679506e-07\n",
      "Testing \n",
      "\n",
      "Currents: [ 4.22323914e-07  3.91143078e-07  2.41892820e-08  1.02168587e-07\n",
      "  4.24783782e-08  1.29447980e-07  1.31048500e-07 -1.94587593e-06\n",
      " -4.15918479e-06]\n",
      "Target: 1.0\n",
      "Accuracy: 1\n",
      "New Target Threshold:5e-06\n",
      "Training \n",
      "\n",
      "\n",
      "Drain 3 Only\n"
     ]
    },
    {
     "data": {
      "application/vnd.jupyter.widget-view+json": {
       "model_id": "89285cf76a644c1386d5dfc570e67634",
       "version_major": 2,
       "version_minor": 0
      },
      "text/plain": [
       "Running Simulation :   0%|          | 0/200 [00:00<?, ?it/s]"
      ]
     },
     "metadata": {},
     "output_type": "display_data"
    },
    {
     "name": "stdout",
     "output_type": "stream",
     "text": [
      "Target: 1\n",
      "Currents: 0.0\n",
      "Training \n",
      "\n",
      "\n",
      "Drain 5 Only\n"
     ]
    },
    {
     "data": {
      "application/vnd.jupyter.widget-view+json": {
       "model_id": "eca58f96fa5242d6b8fafba6c90c93bc",
       "version_major": 2,
       "version_minor": 0
      },
      "text/plain": [
       "Running Simulation :   0%|          | 0/200 [00:00<?, ?it/s]"
      ]
     },
     "metadata": {},
     "output_type": "display_data"
    },
    {
     "name": "stdout",
     "output_type": "stream",
     "text": [
      "Target: 1\n",
      "Currents: 0.0\n",
      "Training \n",
      "\n",
      "\n",
      "Drain 4 Only\n"
     ]
    },
    {
     "data": {
      "application/vnd.jupyter.widget-view+json": {
       "model_id": "d838fd1bddb540fda2f58d679f617139",
       "version_major": 2,
       "version_minor": 0
      },
      "text/plain": [
       "Running Simulation :   0%|          | 0/200 [00:00<?, ?it/s]"
      ]
     },
     "metadata": {},
     "output_type": "display_data"
    },
    {
     "name": "stdout",
     "output_type": "stream",
     "text": [
      "Target: 1\n",
      "Currents: 0.0\n",
      "Training \n",
      "\n",
      "\n",
      "Drain 1 Only\n"
     ]
    },
    {
     "data": {
      "application/vnd.jupyter.widget-view+json": {
       "model_id": "b4cb235a6dc64662b18f5e9d279673bf",
       "version_major": 2,
       "version_minor": 0
      },
      "text/plain": [
       "Running Simulation :   0%|          | 0/200 [00:00<?, ?it/s]"
      ]
     },
     "metadata": {},
     "output_type": "display_data"
    },
    {
     "name": "stdout",
     "output_type": "stream",
     "text": [
      "Target: 1\n",
      "Currents: 0.0\n",
      "Training \n",
      "\n",
      "\n",
      "Drain 7 Only\n"
     ]
    },
    {
     "data": {
      "application/vnd.jupyter.widget-view+json": {
       "model_id": "bb8cea28973047daa29b6aa9cce31743",
       "version_major": 2,
       "version_minor": 0
      },
      "text/plain": [
       "Running Simulation :   0%|          | 0/200 [00:00<?, ?it/s]"
      ]
     },
     "metadata": {},
     "output_type": "display_data"
    },
    {
     "name": "stdout",
     "output_type": "stream",
     "text": [
      "Target: 1\n",
      "Currents: 0.0\n",
      "Training \n",
      "\n",
      "\n",
      "Drain 2 Only\n"
     ]
    },
    {
     "data": {
      "application/vnd.jupyter.widget-view+json": {
       "model_id": "1439e4267640411cbed4f0e698e41425",
       "version_major": 2,
       "version_minor": 0
      },
      "text/plain": [
       "Running Simulation :   0%|          | 0/200 [00:00<?, ?it/s]"
      ]
     },
     "metadata": {},
     "output_type": "display_data"
    },
    {
     "name": "stdout",
     "output_type": "stream",
     "text": [
      "Target: 1\n",
      "Currents: 0.0\n",
      "Training \n",
      "\n",
      "\n",
      "Drain 6 Only\n"
     ]
    },
    {
     "data": {
      "application/vnd.jupyter.widget-view+json": {
       "model_id": "278a6f009355477fa29242dd66d40d47",
       "version_major": 2,
       "version_minor": 0
      },
      "text/plain": [
       "Running Simulation :   0%|          | 0/200 [00:00<?, ?it/s]"
      ]
     },
     "metadata": {},
     "output_type": "display_data"
    },
    {
     "name": "stdout",
     "output_type": "stream",
     "text": [
      "Target: 1\n",
      "Currents: 0.0\n",
      "\n",
      "All Drains\n"
     ]
    },
    {
     "data": {
      "application/vnd.jupyter.widget-view+json": {
       "model_id": "3147f49f582a498fafa7bf48ce99af98",
       "version_major": 2,
       "version_minor": 0
      },
      "text/plain": [
       "Running Simulation :   0%|          | 0/200 [00:00<?, ?it/s]"
      ]
     },
     "metadata": {},
     "output_type": "display_data"
    },
    {
     "name": "stdout",
     "output_type": "stream",
     "text": [
      "Target: 1\n",
      "Currents: 1.563113498878201e-07\n",
      "Testing \n",
      "\n",
      "Currents: [ 1.56311350e-07  4.01038105e-07  2.52420396e-08  2.66193366e-08\n",
      "  6.50018413e-08  1.68056632e-07  1.71196218e-07 -1.83035332e-06\n",
      " -4.14722830e-06]\n",
      "Target: 1.0\n",
      "Accuracy: 0\n",
      "New Target Threshold:5e-06\n",
      "Training \n",
      "\n",
      "\n",
      "Drain 1 Only\n"
     ]
    },
    {
     "data": {
      "application/vnd.jupyter.widget-view+json": {
       "model_id": "a677be448e9c4e4284ef88f5c3720549",
       "version_major": 2,
       "version_minor": 0
      },
      "text/plain": [
       "Running Simulation :   0%|          | 0/200 [00:00<?, ?it/s]"
      ]
     },
     "metadata": {},
     "output_type": "display_data"
    },
    {
     "name": "stdout",
     "output_type": "stream",
     "text": [
      "Target: 1\n",
      "Currents: 0.0\n",
      "Training \n",
      "\n",
      "\n",
      "Drain 3 Only\n"
     ]
    },
    {
     "data": {
      "application/vnd.jupyter.widget-view+json": {
       "model_id": "5fe4148cb2b14f41994e9b5efc5b3f96",
       "version_major": 2,
       "version_minor": 0
      },
      "text/plain": [
       "Running Simulation :   0%|          | 0/200 [00:00<?, ?it/s]"
      ]
     },
     "metadata": {},
     "output_type": "display_data"
    },
    {
     "name": "stdout",
     "output_type": "stream",
     "text": [
      "Target: 1\n",
      "Currents: 0.0\n",
      "Training \n",
      "\n",
      "\n",
      "Drain 5 Only\n"
     ]
    },
    {
     "data": {
      "application/vnd.jupyter.widget-view+json": {
       "model_id": "b751a465c5ba4f139bf4753b378edc27",
       "version_major": 2,
       "version_minor": 0
      },
      "text/plain": [
       "Running Simulation :   0%|          | 0/200 [00:00<?, ?it/s]"
      ]
     },
     "metadata": {},
     "output_type": "display_data"
    },
    {
     "name": "stdout",
     "output_type": "stream",
     "text": [
      "Target: 1\n",
      "Currents: 0.0\n",
      "Training \n",
      "\n",
      "\n",
      "Drain 4 Only\n"
     ]
    },
    {
     "data": {
      "application/vnd.jupyter.widget-view+json": {
       "model_id": "d0d69cb058914d139f1e46beaf5daead",
       "version_major": 2,
       "version_minor": 0
      },
      "text/plain": [
       "Running Simulation :   0%|          | 0/200 [00:00<?, ?it/s]"
      ]
     },
     "metadata": {},
     "output_type": "display_data"
    },
    {
     "name": "stdout",
     "output_type": "stream",
     "text": [
      "Target: 1\n",
      "Currents: 0.0\n",
      "Training \n",
      "\n",
      "\n",
      "Drain 7 Only\n"
     ]
    },
    {
     "data": {
      "application/vnd.jupyter.widget-view+json": {
       "model_id": "77c450c5a1a74b6ca69f0b4b8676c516",
       "version_major": 2,
       "version_minor": 0
      },
      "text/plain": [
       "Running Simulation :   0%|          | 0/200 [00:00<?, ?it/s]"
      ]
     },
     "metadata": {},
     "output_type": "display_data"
    },
    {
     "name": "stdout",
     "output_type": "stream",
     "text": [
      "Target: 1\n",
      "Currents: 0.0\n",
      "Training \n",
      "\n",
      "\n",
      "Drain 2 Only\n"
     ]
    },
    {
     "data": {
      "application/vnd.jupyter.widget-view+json": {
       "model_id": "882f8c8fe01f4d31aa4ce0a4a02c6987",
       "version_major": 2,
       "version_minor": 0
      },
      "text/plain": [
       "Running Simulation :   0%|          | 0/200 [00:00<?, ?it/s]"
      ]
     },
     "metadata": {},
     "output_type": "display_data"
    },
    {
     "name": "stdout",
     "output_type": "stream",
     "text": [
      "Target: 1\n",
      "Currents: 0.0\n",
      "Training \n",
      "\n",
      "\n",
      "Drain 6 Only\n"
     ]
    },
    {
     "data": {
      "application/vnd.jupyter.widget-view+json": {
       "model_id": "539205112d70442699592581cdd269ab",
       "version_major": 2,
       "version_minor": 0
      },
      "text/plain": [
       "Running Simulation :   0%|          | 0/200 [00:00<?, ?it/s]"
      ]
     },
     "metadata": {},
     "output_type": "display_data"
    },
    {
     "name": "stdout",
     "output_type": "stream",
     "text": [
      "Target: 1\n",
      "Currents: 0.0\n",
      "\n",
      "All Drains\n"
     ]
    },
    {
     "data": {
      "application/vnd.jupyter.widget-view+json": {
       "model_id": "cf710ad264da4fa8b35439b1550339f6",
       "version_major": 2,
       "version_minor": 0
      },
      "text/plain": [
       "Running Simulation :   0%|          | 0/200 [00:00<?, ?it/s]"
      ]
     },
     "metadata": {},
     "output_type": "display_data"
    },
    {
     "name": "stdout",
     "output_type": "stream",
     "text": [
      "Target: 1\n",
      "Currents: 2.7734595151213185e-08\n",
      "Testing \n",
      "\n",
      "Currents: [ 2.77345952e-08  3.72530811e-07  4.88113642e-08  4.06691623e-08\n",
      "  8.32008774e-08  1.44773580e-07  1.47199814e-07 -1.75221716e-06\n",
      " -4.10797319e-06]\n",
      "Target: 1.0\n",
      "Accuracy: 0\n",
      "New Target Threshold:5e-06\n",
      "Training \n",
      "\n",
      "\n",
      "Drain 4 Only\n"
     ]
    },
    {
     "data": {
      "application/vnd.jupyter.widget-view+json": {
       "model_id": "a9c23b80f067437592cf72a0ce14af7d",
       "version_major": 2,
       "version_minor": 0
      },
      "text/plain": [
       "Running Simulation :   0%|          | 0/200 [00:00<?, ?it/s]"
      ]
     },
     "metadata": {},
     "output_type": "display_data"
    },
    {
     "name": "stdout",
     "output_type": "stream",
     "text": [
      "Target: 1\n",
      "Currents: 0.0\n",
      "Training \n",
      "\n",
      "\n",
      "Drain 6 Only\n"
     ]
    },
    {
     "data": {
      "application/vnd.jupyter.widget-view+json": {
       "model_id": "fe4e45fd450d48dba08a30d87e699cae",
       "version_major": 2,
       "version_minor": 0
      },
      "text/plain": [
       "Running Simulation :   0%|          | 0/200 [00:00<?, ?it/s]"
      ]
     },
     "metadata": {},
     "output_type": "display_data"
    },
    {
     "name": "stdout",
     "output_type": "stream",
     "text": [
      "Target: 1\n",
      "Currents: 0.0\n",
      "Training \n",
      "\n",
      "\n",
      "Drain 2 Only\n"
     ]
    },
    {
     "data": {
      "application/vnd.jupyter.widget-view+json": {
       "model_id": "a9d97190f90342fab4e0280094bd199b",
       "version_major": 2,
       "version_minor": 0
      },
      "text/plain": [
       "Running Simulation :   0%|          | 0/200 [00:00<?, ?it/s]"
      ]
     },
     "metadata": {},
     "output_type": "display_data"
    },
    {
     "name": "stdout",
     "output_type": "stream",
     "text": [
      "Target: 1\n",
      "Currents: 0.0\n",
      "Training \n",
      "\n",
      "\n",
      "Drain 1 Only\n"
     ]
    },
    {
     "data": {
      "application/vnd.jupyter.widget-view+json": {
       "model_id": "6feb666a2e66444aa5a5d99c0e026627",
       "version_major": 2,
       "version_minor": 0
      },
      "text/plain": [
       "Running Simulation :   0%|          | 0/200 [00:00<?, ?it/s]"
      ]
     },
     "metadata": {},
     "output_type": "display_data"
    },
    {
     "name": "stdout",
     "output_type": "stream",
     "text": [
      "Target: 1\n",
      "Currents: 0.0\n",
      "Training \n",
      "\n",
      "\n",
      "Drain 5 Only\n"
     ]
    },
    {
     "data": {
      "application/vnd.jupyter.widget-view+json": {
       "model_id": "cb26d1d3fa8e4e0fb3e07a79599614f8",
       "version_major": 2,
       "version_minor": 0
      },
      "text/plain": [
       "Running Simulation :   0%|          | 0/200 [00:00<?, ?it/s]"
      ]
     },
     "metadata": {},
     "output_type": "display_data"
    },
    {
     "name": "stdout",
     "output_type": "stream",
     "text": [
      "Target: 1\n",
      "Currents: 0.0\n",
      "Training \n",
      "\n",
      "\n",
      "Drain 3 Only\n"
     ]
    },
    {
     "data": {
      "application/vnd.jupyter.widget-view+json": {
       "model_id": "53a12dc41fa340fb8be7305656b75398",
       "version_major": 2,
       "version_minor": 0
      },
      "text/plain": [
       "Running Simulation :   0%|          | 0/200 [00:00<?, ?it/s]"
      ]
     },
     "metadata": {},
     "output_type": "display_data"
    },
    {
     "name": "stdout",
     "output_type": "stream",
     "text": [
      "Target: 1\n",
      "Currents: 0.0\n",
      "Training \n",
      "\n",
      "\n",
      "Drain 7 Only\n"
     ]
    },
    {
     "data": {
      "application/vnd.jupyter.widget-view+json": {
       "model_id": "12406636aa344bb69a490d439fdbd15d",
       "version_major": 2,
       "version_minor": 0
      },
      "text/plain": [
       "Running Simulation :   0%|          | 0/200 [00:00<?, ?it/s]"
      ]
     },
     "metadata": {},
     "output_type": "display_data"
    },
    {
     "name": "stdout",
     "output_type": "stream",
     "text": [
      "Target: 1\n",
      "Currents: 0.0\n",
      "\n",
      "All Drains\n"
     ]
    },
    {
     "data": {
      "application/vnd.jupyter.widget-view+json": {
       "model_id": "274cf0af4667402fb133c1d583554cb4",
       "version_major": 2,
       "version_minor": 0
      },
      "text/plain": [
       "Running Simulation :   0%|          | 0/200 [00:00<?, ?it/s]"
      ]
     },
     "metadata": {},
     "output_type": "display_data"
    },
    {
     "name": "stdout",
     "output_type": "stream",
     "text": [
      "Target: 1\n",
      "Currents: 8.906671110553543e-08\n",
      "Testing \n",
      "\n",
      "Currents: [ 8.90667111e-08  1.13634790e-07  3.09352047e-07  1.33876146e-08\n",
      "  1.88659948e-07  2.25530537e-07  2.27497562e-07 -1.80559257e-06\n",
      " -4.03967774e-06]\n",
      "Target: 1.0\n",
      "Accuracy: 0\n",
      "New Target Threshold:5e-06\n",
      "Training \n",
      "\n",
      "\n",
      "Drain 1 Only\n"
     ]
    },
    {
     "data": {
      "application/vnd.jupyter.widget-view+json": {
       "model_id": "69e8b32337a94bb1a8e0e8ea5ccc24b7",
       "version_major": 2,
       "version_minor": 0
      },
      "text/plain": [
       "Running Simulation :   0%|          | 0/200 [00:00<?, ?it/s]"
      ]
     },
     "metadata": {},
     "output_type": "display_data"
    },
    {
     "name": "stdout",
     "output_type": "stream",
     "text": [
      "Target: 1\n",
      "Currents: 0.0\n",
      "Training \n",
      "\n",
      "\n",
      "Drain 4 Only\n"
     ]
    },
    {
     "data": {
      "application/vnd.jupyter.widget-view+json": {
       "model_id": "a2e24b5f8d0e4e6894ecbd55cee2c003",
       "version_major": 2,
       "version_minor": 0
      },
      "text/plain": [
       "Running Simulation :   0%|          | 0/200 [00:00<?, ?it/s]"
      ]
     },
     "metadata": {},
     "output_type": "display_data"
    },
    {
     "name": "stdout",
     "output_type": "stream",
     "text": [
      "Target: 1\n",
      "Currents: 0.0\n",
      "Training \n",
      "\n",
      "\n",
      "Drain 3 Only\n"
     ]
    },
    {
     "data": {
      "application/vnd.jupyter.widget-view+json": {
       "model_id": "1efaa93657d3488abdf75335e1add755",
       "version_major": 2,
       "version_minor": 0
      },
      "text/plain": [
       "Running Simulation :   0%|          | 0/200 [00:00<?, ?it/s]"
      ]
     },
     "metadata": {},
     "output_type": "display_data"
    },
    {
     "name": "stdout",
     "output_type": "stream",
     "text": [
      "Target: 1\n",
      "Currents: 0.0\n",
      "Training \n",
      "\n",
      "\n",
      "Drain 2 Only\n"
     ]
    },
    {
     "data": {
      "application/vnd.jupyter.widget-view+json": {
       "model_id": "80913d77bcc7474c834c302ca225306f",
       "version_major": 2,
       "version_minor": 0
      },
      "text/plain": [
       "Running Simulation :   0%|          | 0/200 [00:00<?, ?it/s]"
      ]
     },
     "metadata": {},
     "output_type": "display_data"
    },
    {
     "name": "stdout",
     "output_type": "stream",
     "text": [
      "Target: 1\n",
      "Currents: 0.0\n",
      "Training \n",
      "\n",
      "\n",
      "Drain 5 Only\n"
     ]
    },
    {
     "data": {
      "application/vnd.jupyter.widget-view+json": {
       "model_id": "c449cb0a9dff415b83c1e8d86243f3a7",
       "version_major": 2,
       "version_minor": 0
      },
      "text/plain": [
       "Running Simulation :   0%|          | 0/200 [00:00<?, ?it/s]"
      ]
     },
     "metadata": {},
     "output_type": "display_data"
    },
    {
     "name": "stdout",
     "output_type": "stream",
     "text": [
      "Target: 1\n",
      "Currents: 0.0\n",
      "Training \n",
      "\n",
      "\n",
      "Drain 6 Only\n"
     ]
    },
    {
     "data": {
      "application/vnd.jupyter.widget-view+json": {
       "model_id": "04098c5950314be5b3f3db47a7068b2b",
       "version_major": 2,
       "version_minor": 0
      },
      "text/plain": [
       "Running Simulation :   0%|          | 0/200 [00:00<?, ?it/s]"
      ]
     },
     "metadata": {},
     "output_type": "display_data"
    },
    {
     "name": "stdout",
     "output_type": "stream",
     "text": [
      "Target: 1\n",
      "Currents: 0.0\n",
      "Training \n",
      "\n",
      "\n",
      "Drain 7 Only\n"
     ]
    },
    {
     "data": {
      "application/vnd.jupyter.widget-view+json": {
       "model_id": "a901d047a05549ad977ee4ff3a422ccf",
       "version_major": 2,
       "version_minor": 0
      },
      "text/plain": [
       "Running Simulation :   0%|          | 0/200 [00:00<?, ?it/s]"
      ]
     },
     "metadata": {},
     "output_type": "display_data"
    },
    {
     "name": "stdout",
     "output_type": "stream",
     "text": [
      "Target: 1\n",
      "Currents: 0.0\n",
      "\n",
      "All Drains\n"
     ]
    },
    {
     "data": {
      "application/vnd.jupyter.widget-view+json": {
       "model_id": "6e53b9d5d6b44c439a8c4a4f44a68368",
       "version_major": 2,
       "version_minor": 0
      },
      "text/plain": [
       "Running Simulation :   0%|          | 0/200 [00:00<?, ?it/s]"
      ]
     },
     "metadata": {},
     "output_type": "display_data"
    },
    {
     "name": "stdout",
     "output_type": "stream",
     "text": [
      "Target: 1\n",
      "Currents: 2.1434028989720188e-08\n",
      "Testing \n",
      "\n",
      "Currents: [ 2.14340290e-08  8.86999995e-08  5.05766427e-08  2.32623892e-08\n",
      "  1.82366675e-07  1.96671335e-07  1.98100171e-07 -2.21169212e-06\n",
      " -3.35303704e-06]\n",
      "Target: 1.0\n",
      "Accuracy: 0\n",
      "New Target Threshold:5e-06\n",
      "Training \n",
      "\n",
      "\n",
      "Drain 6 Only\n"
     ]
    },
    {
     "data": {
      "application/vnd.jupyter.widget-view+json": {
       "model_id": "e3261e7e5fec49caa17dcb653b78bb12",
       "version_major": 2,
       "version_minor": 0
      },
      "text/plain": [
       "Running Simulation :   0%|          | 0/200 [00:00<?, ?it/s]"
      ]
     },
     "metadata": {},
     "output_type": "display_data"
    },
    {
     "name": "stdout",
     "output_type": "stream",
     "text": [
      "Target: 1\n",
      "Currents: 0.0\n",
      "Training \n",
      "\n",
      "\n",
      "Drain 1 Only\n"
     ]
    },
    {
     "data": {
      "application/vnd.jupyter.widget-view+json": {
       "model_id": "12faedc6015e4830babc067d78f35a82",
       "version_major": 2,
       "version_minor": 0
      },
      "text/plain": [
       "Running Simulation :   0%|          | 0/200 [00:00<?, ?it/s]"
      ]
     },
     "metadata": {},
     "output_type": "display_data"
    },
    {
     "name": "stdout",
     "output_type": "stream",
     "text": [
      "Target: 1\n",
      "Currents: 0.0\n",
      "Training \n",
      "\n",
      "\n",
      "Drain 4 Only\n"
     ]
    },
    {
     "data": {
      "application/vnd.jupyter.widget-view+json": {
       "model_id": "39f9ba41a32d4ad3a3f588a9ce0a1b54",
       "version_major": 2,
       "version_minor": 0
      },
      "text/plain": [
       "Running Simulation :   0%|          | 0/200 [00:00<?, ?it/s]"
      ]
     },
     "metadata": {},
     "output_type": "display_data"
    },
    {
     "name": "stdout",
     "output_type": "stream",
     "text": [
      "Target: 1\n",
      "Currents: 0.0\n",
      "Training \n",
      "\n",
      "\n",
      "Drain 2 Only\n"
     ]
    },
    {
     "data": {
      "application/vnd.jupyter.widget-view+json": {
       "model_id": "e8e1e3a01043453eb4174d599bbb4a6b",
       "version_major": 2,
       "version_minor": 0
      },
      "text/plain": [
       "Running Simulation :   0%|          | 0/200 [00:00<?, ?it/s]"
      ]
     },
     "metadata": {},
     "output_type": "display_data"
    },
    {
     "name": "stdout",
     "output_type": "stream",
     "text": [
      "Target: 1\n",
      "Currents: 0.0\n",
      "Training \n",
      "\n",
      "\n",
      "Drain 3 Only\n"
     ]
    },
    {
     "data": {
      "application/vnd.jupyter.widget-view+json": {
       "model_id": "619230ae28d1442082b10a37714f8ccd",
       "version_major": 2,
       "version_minor": 0
      },
      "text/plain": [
       "Running Simulation :   0%|          | 0/200 [00:00<?, ?it/s]"
      ]
     },
     "metadata": {},
     "output_type": "display_data"
    },
    {
     "name": "stdout",
     "output_type": "stream",
     "text": [
      "Target: 1\n",
      "Currents: 0.0\n",
      "Training \n",
      "\n",
      "\n",
      "Drain 7 Only\n"
     ]
    },
    {
     "data": {
      "application/vnd.jupyter.widget-view+json": {
       "model_id": "1d61e9545737454f8660c10ad3e86a61",
       "version_major": 2,
       "version_minor": 0
      },
      "text/plain": [
       "Running Simulation :   0%|          | 0/200 [00:00<?, ?it/s]"
      ]
     },
     "metadata": {},
     "output_type": "display_data"
    },
    {
     "name": "stdout",
     "output_type": "stream",
     "text": [
      "Target: 1\n",
      "Currents: 0.0\n",
      "Training \n",
      "\n",
      "\n",
      "Drain 5 Only\n"
     ]
    },
    {
     "data": {
      "application/vnd.jupyter.widget-view+json": {
       "model_id": "af437493d5b64914911b0822b8daaaca",
       "version_major": 2,
       "version_minor": 0
      },
      "text/plain": [
       "Running Simulation :   0%|          | 0/200 [00:00<?, ?it/s]"
      ]
     },
     "metadata": {},
     "output_type": "display_data"
    },
    {
     "name": "stdout",
     "output_type": "stream",
     "text": [
      "Target: 1\n",
      "Currents: 0.0\n",
      "\n",
      "All Drains\n"
     ]
    },
    {
     "data": {
      "application/vnd.jupyter.widget-view+json": {
       "model_id": "4a155b1122424f6e91e71e479acb2547",
       "version_major": 2,
       "version_minor": 0
      },
      "text/plain": [
       "Running Simulation :   0%|          | 0/200 [00:00<?, ?it/s]"
      ]
     },
     "metadata": {},
     "output_type": "display_data"
    },
    {
     "name": "stdout",
     "output_type": "stream",
     "text": [
      "Target: 1\n",
      "Currents: 8.828289705307754e-08\n",
      "Testing \n",
      "\n",
      "Currents: [ 8.82828971e-08  1.46113204e-07  1.69708403e-07  4.70828094e-08\n",
      "  3.08419877e-07  2.11350696e-07  2.44331733e-07 -1.65960898e-06\n",
      " -4.14182994e-06]\n",
      "Target: 1.0\n",
      "Accuracy: 0\n",
      "New Target Threshold:5e-06\n",
      "Training \n",
      "\n",
      "\n",
      "Drain 5 Only\n"
     ]
    },
    {
     "data": {
      "application/vnd.jupyter.widget-view+json": {
       "model_id": "ec0ea223fc05498cb2d3b46f8d07b84c",
       "version_major": 2,
       "version_minor": 0
      },
      "text/plain": [
       "Running Simulation :   0%|          | 0/200 [00:00<?, ?it/s]"
      ]
     },
     "metadata": {},
     "output_type": "display_data"
    },
    {
     "name": "stdout",
     "output_type": "stream",
     "text": [
      "Target: 1\n",
      "Currents: 0.0\n",
      "Training \n",
      "\n",
      "\n",
      "Drain 3 Only\n"
     ]
    },
    {
     "data": {
      "application/vnd.jupyter.widget-view+json": {
       "model_id": "2714a335120b45f08699d969f68e34c9",
       "version_major": 2,
       "version_minor": 0
      },
      "text/plain": [
       "Running Simulation :   0%|          | 0/200 [00:00<?, ?it/s]"
      ]
     },
     "metadata": {},
     "output_type": "display_data"
    },
    {
     "name": "stdout",
     "output_type": "stream",
     "text": [
      "Target: 1\n",
      "Currents: 0.0\n",
      "Training \n",
      "\n",
      "\n",
      "Drain 6 Only\n"
     ]
    },
    {
     "data": {
      "application/vnd.jupyter.widget-view+json": {
       "model_id": "c6c2df43f7f341788680218fb0d0e58d",
       "version_major": 2,
       "version_minor": 0
      },
      "text/plain": [
       "Running Simulation :   0%|          | 0/200 [00:00<?, ?it/s]"
      ]
     },
     "metadata": {},
     "output_type": "display_data"
    },
    {
     "name": "stdout",
     "output_type": "stream",
     "text": [
      "Target: 1\n",
      "Currents: 0.0\n",
      "Training \n",
      "\n",
      "\n",
      "Drain 1 Only\n"
     ]
    },
    {
     "data": {
      "application/vnd.jupyter.widget-view+json": {
       "model_id": "cd1a87c53c8f48c58600f12056782f04",
       "version_major": 2,
       "version_minor": 0
      },
      "text/plain": [
       "Running Simulation :   0%|          | 0/200 [00:00<?, ?it/s]"
      ]
     },
     "metadata": {},
     "output_type": "display_data"
    },
    {
     "name": "stdout",
     "output_type": "stream",
     "text": [
      "Target: 1\n",
      "Currents: 0.0\n",
      "Training \n",
      "\n",
      "\n",
      "Drain 2 Only\n"
     ]
    },
    {
     "data": {
      "application/vnd.jupyter.widget-view+json": {
       "model_id": "aa4afbb791374c3889eb2d64430d7ed1",
       "version_major": 2,
       "version_minor": 0
      },
      "text/plain": [
       "Running Simulation :   0%|          | 0/200 [00:00<?, ?it/s]"
      ]
     },
     "metadata": {},
     "output_type": "display_data"
    },
    {
     "name": "stdout",
     "output_type": "stream",
     "text": [
      "Target: 1\n",
      "Currents: 0.0\n",
      "Training \n",
      "\n",
      "\n",
      "Drain 4 Only\n"
     ]
    },
    {
     "data": {
      "application/vnd.jupyter.widget-view+json": {
       "model_id": "09b005a412044078adab2db12fecdb57",
       "version_major": 2,
       "version_minor": 0
      },
      "text/plain": [
       "Running Simulation :   0%|          | 0/200 [00:00<?, ?it/s]"
      ]
     },
     "metadata": {},
     "output_type": "display_data"
    },
    {
     "name": "stdout",
     "output_type": "stream",
     "text": [
      "Target: 1\n",
      "Currents: 0.0\n",
      "Training \n",
      "\n",
      "\n",
      "Drain 7 Only\n"
     ]
    },
    {
     "data": {
      "application/vnd.jupyter.widget-view+json": {
       "model_id": "684cfb878acc4589afbab5e51a84facb",
       "version_major": 2,
       "version_minor": 0
      },
      "text/plain": [
       "Running Simulation :   0%|          | 0/200 [00:00<?, ?it/s]"
      ]
     },
     "metadata": {},
     "output_type": "display_data"
    },
    {
     "name": "stdout",
     "output_type": "stream",
     "text": [
      "Target: 1\n",
      "Currents: 0.0\n",
      "\n",
      "All Drains\n"
     ]
    },
    {
     "data": {
      "application/vnd.jupyter.widget-view+json": {
       "model_id": "223fbc33c0ec4832b8a969c34b66c58c",
       "version_major": 2,
       "version_minor": 0
      },
      "text/plain": [
       "Running Simulation :   0%|          | 0/200 [00:00<?, ?it/s]"
      ]
     },
     "metadata": {},
     "output_type": "display_data"
    },
    {
     "name": "stdout",
     "output_type": "stream",
     "text": [
      "Target: 1\n",
      "Currents: 2.4597371869197596e-07\n",
      "Testing \n",
      "\n",
      "Currents: [ 2.45973719e-07  2.39874059e-07  3.54052908e-08  1.81910325e-07\n",
      "  3.01452537e-08  1.55423969e-07  1.78867363e-07 -1.18050116e-06\n",
      " -4.67390482e-06]\n",
      "Target: 1.0\n",
      "Accuracy: 1\n",
      "New Target Threshold:5e-06\n",
      "Training \n",
      "\n",
      "\n",
      "Drain 1 Only\n"
     ]
    },
    {
     "data": {
      "application/vnd.jupyter.widget-view+json": {
       "model_id": "7f9a4b9d8e124a5c9755848786e06e75",
       "version_major": 2,
       "version_minor": 0
      },
      "text/plain": [
       "Running Simulation :   0%|          | 0/200 [00:00<?, ?it/s]"
      ]
     },
     "metadata": {},
     "output_type": "display_data"
    },
    {
     "name": "stdout",
     "output_type": "stream",
     "text": [
      "Target: 1\n",
      "Currents: 0.0\n",
      "Training \n",
      "\n",
      "\n",
      "Drain 7 Only\n"
     ]
    },
    {
     "data": {
      "application/vnd.jupyter.widget-view+json": {
       "model_id": "c3bb8a1804ff44169f89f52e382f1767",
       "version_major": 2,
       "version_minor": 0
      },
      "text/plain": [
       "Running Simulation :   0%|          | 0/200 [00:00<?, ?it/s]"
      ]
     },
     "metadata": {},
     "output_type": "display_data"
    },
    {
     "name": "stdout",
     "output_type": "stream",
     "text": [
      "Target: 1\n",
      "Currents: 0.0\n",
      "Training \n",
      "\n",
      "\n",
      "Drain 2 Only\n"
     ]
    },
    {
     "data": {
      "application/vnd.jupyter.widget-view+json": {
       "model_id": "2ca601000c704b8483289a8d0097d59a",
       "version_major": 2,
       "version_minor": 0
      },
      "text/plain": [
       "Running Simulation :   0%|          | 0/200 [00:00<?, ?it/s]"
      ]
     },
     "metadata": {},
     "output_type": "display_data"
    },
    {
     "name": "stdout",
     "output_type": "stream",
     "text": [
      "Target: 1\n",
      "Currents: 0.0\n",
      "Training \n",
      "\n",
      "\n",
      "Drain 4 Only\n"
     ]
    },
    {
     "data": {
      "application/vnd.jupyter.widget-view+json": {
       "model_id": "0e90c4fe849c44a68035f5e9a9ee2a27",
       "version_major": 2,
       "version_minor": 0
      },
      "text/plain": [
       "Running Simulation :   0%|          | 0/200 [00:00<?, ?it/s]"
      ]
     },
     "metadata": {},
     "output_type": "display_data"
    },
    {
     "name": "stdout",
     "output_type": "stream",
     "text": [
      "Target: 1\n",
      "Currents: 0.0\n",
      "Training \n",
      "\n",
      "\n",
      "Drain 6 Only\n"
     ]
    },
    {
     "data": {
      "application/vnd.jupyter.widget-view+json": {
       "model_id": "127b921dfe704d3990f20478facb8d57",
       "version_major": 2,
       "version_minor": 0
      },
      "text/plain": [
       "Running Simulation :   0%|          | 0/200 [00:00<?, ?it/s]"
      ]
     },
     "metadata": {},
     "output_type": "display_data"
    },
    {
     "name": "stdout",
     "output_type": "stream",
     "text": [
      "Target: 1\n",
      "Currents: 0.0\n",
      "Training \n",
      "\n",
      "\n",
      "Drain 3 Only\n"
     ]
    },
    {
     "data": {
      "application/vnd.jupyter.widget-view+json": {
       "model_id": "6de7fbf82827436c8f8ccb1bfc5309c2",
       "version_major": 2,
       "version_minor": 0
      },
      "text/plain": [
       "Running Simulation :   0%|          | 0/200 [00:00<?, ?it/s]"
      ]
     },
     "metadata": {},
     "output_type": "display_data"
    },
    {
     "name": "stdout",
     "output_type": "stream",
     "text": [
      "Target: 1\n",
      "Currents: 0.0\n",
      "Training \n",
      "\n",
      "\n",
      "Drain 5 Only\n"
     ]
    },
    {
     "data": {
      "application/vnd.jupyter.widget-view+json": {
       "model_id": "2fff46cd01ba4a47b401eb7269dfaddf",
       "version_major": 2,
       "version_minor": 0
      },
      "text/plain": [
       "Running Simulation :   0%|          | 0/200 [00:00<?, ?it/s]"
      ]
     },
     "metadata": {},
     "output_type": "display_data"
    },
    {
     "name": "stdout",
     "output_type": "stream",
     "text": [
      "Target: 1\n",
      "Currents: 0.0\n",
      "\n",
      "All Drains\n"
     ]
    },
    {
     "data": {
      "application/vnd.jupyter.widget-view+json": {
       "model_id": "ebdf90db52c84671b0e07baf0c314f92",
       "version_major": 2,
       "version_minor": 0
      },
      "text/plain": [
       "Running Simulation :   0%|          | 0/200 [00:00<?, ?it/s]"
      ]
     },
     "metadata": {},
     "output_type": "display_data"
    },
    {
     "name": "stdout",
     "output_type": "stream",
     "text": [
      "Target: 1\n",
      "Currents: 2.3495776623283148e-08\n",
      "Testing \n",
      "\n",
      "Currents: [ 2.34957766e-08  2.11023903e-07  2.23096815e-07  1.78160035e-07\n",
      "  1.96829673e-07  1.44795989e-07  1.45237827e-07 -1.57360714e-06\n",
      " -4.30692960e-06]\n",
      "Target: 1.0\n",
      "Accuracy: 0\n",
      "New Target Threshold:5e-06\n",
      "Training \n",
      "\n",
      "\n",
      "Drain 4 Only\n"
     ]
    },
    {
     "data": {
      "application/vnd.jupyter.widget-view+json": {
       "model_id": "df7ab6503f8c4f97b0f5fb3cbbd4148a",
       "version_major": 2,
       "version_minor": 0
      },
      "text/plain": [
       "Running Simulation :   0%|          | 0/200 [00:00<?, ?it/s]"
      ]
     },
     "metadata": {},
     "output_type": "display_data"
    },
    {
     "name": "stdout",
     "output_type": "stream",
     "text": [
      "Target: 1\n",
      "Currents: 0.0\n",
      "Training \n",
      "\n",
      "\n",
      "Drain 3 Only\n"
     ]
    },
    {
     "data": {
      "application/vnd.jupyter.widget-view+json": {
       "model_id": "3a845ce82bfb4a46a69277925109d95a",
       "version_major": 2,
       "version_minor": 0
      },
      "text/plain": [
       "Running Simulation :   0%|          | 0/200 [00:00<?, ?it/s]"
      ]
     },
     "metadata": {},
     "output_type": "display_data"
    },
    {
     "name": "stdout",
     "output_type": "stream",
     "text": [
      "Target: 1\n",
      "Currents: 0.0\n",
      "Training \n",
      "\n",
      "\n",
      "Drain 1 Only\n"
     ]
    },
    {
     "data": {
      "application/vnd.jupyter.widget-view+json": {
       "model_id": "09de1bfb71d543e78df44c94363ff189",
       "version_major": 2,
       "version_minor": 0
      },
      "text/plain": [
       "Running Simulation :   0%|          | 0/200 [00:00<?, ?it/s]"
      ]
     },
     "metadata": {},
     "output_type": "display_data"
    },
    {
     "name": "stdout",
     "output_type": "stream",
     "text": [
      "Target: 1\n",
      "Currents: 0.0\n",
      "Training \n",
      "\n",
      "\n",
      "Drain 2 Only\n"
     ]
    },
    {
     "data": {
      "application/vnd.jupyter.widget-view+json": {
       "model_id": "55f972c022d347d480cd87db0925012e",
       "version_major": 2,
       "version_minor": 0
      },
      "text/plain": [
       "Running Simulation :   0%|          | 0/200 [00:00<?, ?it/s]"
      ]
     },
     "metadata": {},
     "output_type": "display_data"
    },
    {
     "name": "stdout",
     "output_type": "stream",
     "text": [
      "Target: 1\n",
      "Currents: 0.0\n",
      "Training \n",
      "\n",
      "\n",
      "Drain 7 Only\n"
     ]
    },
    {
     "data": {
      "application/vnd.jupyter.widget-view+json": {
       "model_id": "7fd9106d82de412782028ff67f57950c",
       "version_major": 2,
       "version_minor": 0
      },
      "text/plain": [
       "Running Simulation :   0%|          | 0/200 [00:00<?, ?it/s]"
      ]
     },
     "metadata": {},
     "output_type": "display_data"
    },
    {
     "name": "stdout",
     "output_type": "stream",
     "text": [
      "Target: 1\n",
      "Currents: 0.0\n",
      "Training \n",
      "\n",
      "\n",
      "Drain 6 Only\n"
     ]
    },
    {
     "data": {
      "application/vnd.jupyter.widget-view+json": {
       "model_id": "05d7078d42a140b1b9c100b4c847a7c4",
       "version_major": 2,
       "version_minor": 0
      },
      "text/plain": [
       "Running Simulation :   0%|          | 0/200 [00:00<?, ?it/s]"
      ]
     },
     "metadata": {},
     "output_type": "display_data"
    },
    {
     "name": "stdout",
     "output_type": "stream",
     "text": [
      "Target: 1\n",
      "Currents: 0.0\n",
      "Training \n",
      "\n",
      "\n",
      "Drain 5 Only\n"
     ]
    },
    {
     "data": {
      "application/vnd.jupyter.widget-view+json": {
       "model_id": "1f9c1ca1a87f4788a41673366fcd44a1",
       "version_major": 2,
       "version_minor": 0
      },
      "text/plain": [
       "Running Simulation :   0%|          | 0/200 [00:00<?, ?it/s]"
      ]
     },
     "metadata": {},
     "output_type": "display_data"
    },
    {
     "name": "stdout",
     "output_type": "stream",
     "text": [
      "Target: 1\n",
      "Currents: 0.0\n",
      "\n",
      "All Drains\n"
     ]
    },
    {
     "data": {
      "application/vnd.jupyter.widget-view+json": {
       "model_id": "677e8b86149c4cf9964bacd74f5af9b9",
       "version_major": 2,
       "version_minor": 0
      },
      "text/plain": [
       "Running Simulation :   0%|          | 0/200 [00:00<?, ?it/s]"
      ]
     },
     "metadata": {},
     "output_type": "display_data"
    },
    {
     "name": "stdout",
     "output_type": "stream",
     "text": [
      "Target: 1\n",
      "Currents: 1.0730938171124474e-07\n",
      "Testing \n",
      "\n",
      "Currents: [ 1.07309382e-07  1.61334779e-07  3.30068058e-08  1.77018446e-08\n",
      "  3.14617666e-07  1.32010849e-07  1.48980962e-07 -1.49164343e-06\n",
      " -4.27504297e-06]\n",
      "Target: 1.0\n",
      "Accuracy: 0\n",
      "New Target Threshold:5e-06\n",
      "Training \n",
      "\n",
      "\n",
      "Drain 3 Only\n"
     ]
    },
    {
     "data": {
      "application/vnd.jupyter.widget-view+json": {
       "model_id": "ffffa0f358034341b8574f35401e835a",
       "version_major": 2,
       "version_minor": 0
      },
      "text/plain": [
       "Running Simulation :   0%|          | 0/200 [00:00<?, ?it/s]"
      ]
     },
     "metadata": {},
     "output_type": "display_data"
    },
    {
     "name": "stdout",
     "output_type": "stream",
     "text": [
      "Target: 1\n",
      "Currents: 0.0\n",
      "Training \n",
      "\n",
      "\n",
      "Drain 6 Only\n"
     ]
    },
    {
     "data": {
      "application/vnd.jupyter.widget-view+json": {
       "model_id": "f144c785044244cba8e7a453c1befac4",
       "version_major": 2,
       "version_minor": 0
      },
      "text/plain": [
       "Running Simulation :   0%|          | 0/200 [00:00<?, ?it/s]"
      ]
     },
     "metadata": {},
     "output_type": "display_data"
    },
    {
     "name": "stdout",
     "output_type": "stream",
     "text": [
      "Target: 1\n",
      "Currents: 0.0\n",
      "Training \n",
      "\n",
      "\n",
      "Drain 1 Only\n"
     ]
    },
    {
     "data": {
      "application/vnd.jupyter.widget-view+json": {
       "model_id": "845ef56c859a461a9276fe0beda696af",
       "version_major": 2,
       "version_minor": 0
      },
      "text/plain": [
       "Running Simulation :   0%|          | 0/200 [00:00<?, ?it/s]"
      ]
     },
     "metadata": {},
     "output_type": "display_data"
    },
    {
     "name": "stdout",
     "output_type": "stream",
     "text": [
      "Target: 1\n",
      "Currents: 0.0\n",
      "Training \n",
      "\n",
      "\n",
      "Drain 5 Only\n"
     ]
    },
    {
     "data": {
      "application/vnd.jupyter.widget-view+json": {
       "model_id": "3d20c9fa97914fb783dcd54ea1cac786",
       "version_major": 2,
       "version_minor": 0
      },
      "text/plain": [
       "Running Simulation :   0%|          | 0/200 [00:00<?, ?it/s]"
      ]
     },
     "metadata": {},
     "output_type": "display_data"
    },
    {
     "name": "stdout",
     "output_type": "stream",
     "text": [
      "Target: 1\n",
      "Currents: 0.0\n",
      "Training \n",
      "\n",
      "\n",
      "Drain 2 Only\n"
     ]
    },
    {
     "data": {
      "application/vnd.jupyter.widget-view+json": {
       "model_id": "85dd66535ddd4a56a37e47c02f66fa58",
       "version_major": 2,
       "version_minor": 0
      },
      "text/plain": [
       "Running Simulation :   0%|          | 0/200 [00:00<?, ?it/s]"
      ]
     },
     "metadata": {},
     "output_type": "display_data"
    },
    {
     "name": "stdout",
     "output_type": "stream",
     "text": [
      "Target: 1\n",
      "Currents: 0.0\n",
      "Training \n",
      "\n",
      "\n",
      "Drain 4 Only\n"
     ]
    },
    {
     "data": {
      "application/vnd.jupyter.widget-view+json": {
       "model_id": "cd1c6ae98ff74e0c819f25d5d6f6b1c2",
       "version_major": 2,
       "version_minor": 0
      },
      "text/plain": [
       "Running Simulation :   0%|          | 0/200 [00:00<?, ?it/s]"
      ]
     },
     "metadata": {},
     "output_type": "display_data"
    },
    {
     "name": "stdout",
     "output_type": "stream",
     "text": [
      "Target: 1\n",
      "Currents: 0.0\n",
      "Training \n",
      "\n",
      "\n",
      "Drain 7 Only\n"
     ]
    },
    {
     "data": {
      "application/vnd.jupyter.widget-view+json": {
       "model_id": "f4e4918cc83749a1875d783915accb74",
       "version_major": 2,
       "version_minor": 0
      },
      "text/plain": [
       "Running Simulation :   0%|          | 0/200 [00:00<?, ?it/s]"
      ]
     },
     "metadata": {},
     "output_type": "display_data"
    },
    {
     "name": "stdout",
     "output_type": "stream",
     "text": [
      "Target: 1\n",
      "Currents: 0.0\n",
      "\n",
      "All Drains\n"
     ]
    },
    {
     "data": {
      "application/vnd.jupyter.widget-view+json": {
       "model_id": "01ba639ea9774d1c8fffe49626b8829a",
       "version_major": 2,
       "version_minor": 0
      },
      "text/plain": [
       "Running Simulation :   0%|          | 0/200 [00:00<?, ?it/s]"
      ]
     },
     "metadata": {},
     "output_type": "display_data"
    },
    {
     "name": "stdout",
     "output_type": "stream",
     "text": [
      "Target: 1\n",
      "Currents: 1.009348356632332e-07\n",
      "Testing \n",
      "\n",
      "Currents: [ 1.00934836e-07  2.27252677e-07  2.03296189e-08  1.28035428e-07\n",
      "  8.36880443e-08  1.67122170e-07  1.96467210e-07 -1.31848099e-06\n",
      " -4.46261568e-06]\n",
      "Target: 1.0\n",
      "Accuracy: 0\n",
      "New Target Threshold:5e-06\n",
      "Training \n",
      "\n",
      "\n",
      "Drain 3 Only\n"
     ]
    },
    {
     "data": {
      "application/vnd.jupyter.widget-view+json": {
       "model_id": "8914de73a1b04b31a90a230b1fd624ec",
       "version_major": 2,
       "version_minor": 0
      },
      "text/plain": [
       "Running Simulation :   0%|          | 0/200 [00:00<?, ?it/s]"
      ]
     },
     "metadata": {},
     "output_type": "display_data"
    },
    {
     "name": "stdout",
     "output_type": "stream",
     "text": [
      "Target: 1\n",
      "Currents: 0.0\n",
      "Training \n",
      "\n",
      "\n",
      "Drain 6 Only\n"
     ]
    },
    {
     "data": {
      "application/vnd.jupyter.widget-view+json": {
       "model_id": "765fa1a0b35c4e06ac25c55694120643",
       "version_major": 2,
       "version_minor": 0
      },
      "text/plain": [
       "Running Simulation :   0%|          | 0/200 [00:00<?, ?it/s]"
      ]
     },
     "metadata": {},
     "output_type": "display_data"
    },
    {
     "name": "stdout",
     "output_type": "stream",
     "text": [
      "Target: 1\n",
      "Currents: 0.0\n",
      "Training \n",
      "\n",
      "\n",
      "Drain 7 Only\n"
     ]
    },
    {
     "data": {
      "application/vnd.jupyter.widget-view+json": {
       "model_id": "93f56bd4d3e84f518798780427cdbfd6",
       "version_major": 2,
       "version_minor": 0
      },
      "text/plain": [
       "Running Simulation :   0%|          | 0/200 [00:00<?, ?it/s]"
      ]
     },
     "metadata": {},
     "output_type": "display_data"
    },
    {
     "name": "stdout",
     "output_type": "stream",
     "text": [
      "Target: 1\n",
      "Currents: 0.0\n",
      "Training \n",
      "\n",
      "\n",
      "Drain 2 Only\n"
     ]
    },
    {
     "data": {
      "application/vnd.jupyter.widget-view+json": {
       "model_id": "26ce5dae0544444d8e70ec56f2711d9d",
       "version_major": 2,
       "version_minor": 0
      },
      "text/plain": [
       "Running Simulation :   0%|          | 0/200 [00:00<?, ?it/s]"
      ]
     },
     "metadata": {},
     "output_type": "display_data"
    },
    {
     "name": "stdout",
     "output_type": "stream",
     "text": [
      "Target: 1\n",
      "Currents: 0.0\n",
      "Training \n",
      "\n",
      "\n",
      "Drain 5 Only\n"
     ]
    },
    {
     "data": {
      "application/vnd.jupyter.widget-view+json": {
       "model_id": "16392d69ed4e40239824ed407dcacfbb",
       "version_major": 2,
       "version_minor": 0
      },
      "text/plain": [
       "Running Simulation :   0%|          | 0/200 [00:00<?, ?it/s]"
      ]
     },
     "metadata": {},
     "output_type": "display_data"
    },
    {
     "name": "stdout",
     "output_type": "stream",
     "text": [
      "Target: 1\n",
      "Currents: 0.0\n",
      "Training \n",
      "\n",
      "\n",
      "Drain 4 Only\n"
     ]
    },
    {
     "data": {
      "application/vnd.jupyter.widget-view+json": {
       "model_id": "e5512a8ca11a48f09a53ba23026c2d4b",
       "version_major": 2,
       "version_minor": 0
      },
      "text/plain": [
       "Running Simulation :   0%|          | 0/200 [00:00<?, ?it/s]"
      ]
     },
     "metadata": {},
     "output_type": "display_data"
    },
    {
     "name": "stdout",
     "output_type": "stream",
     "text": [
      "Target: 1\n",
      "Currents: 0.0\n",
      "Training \n",
      "\n",
      "\n",
      "Drain 1 Only\n"
     ]
    },
    {
     "data": {
      "application/vnd.jupyter.widget-view+json": {
       "model_id": "cd3e2b3f61ce413d8b29671657d47c62",
       "version_major": 2,
       "version_minor": 0
      },
      "text/plain": [
       "Running Simulation :   0%|          | 0/200 [00:00<?, ?it/s]"
      ]
     },
     "metadata": {},
     "output_type": "display_data"
    },
    {
     "name": "stdout",
     "output_type": "stream",
     "text": [
      "Target: 1\n",
      "Currents: 0.0\n",
      "\n",
      "All Drains\n"
     ]
    },
    {
     "data": {
      "application/vnd.jupyter.widget-view+json": {
       "model_id": "0a5f79cb6a014300ba584d67a98ed253",
       "version_major": 2,
       "version_minor": 0
      },
      "text/plain": [
       "Running Simulation :   0%|          | 0/200 [00:00<?, ?it/s]"
      ]
     },
     "metadata": {},
     "output_type": "display_data"
    },
    {
     "name": "stdout",
     "output_type": "stream",
     "text": [
      "Target: 1\n",
      "Currents: 4.6527478571815787e-07\n",
      "Testing \n",
      "\n",
      "Currents: [ 4.65274786e-07  1.86774818e-07  1.87389102e-08  8.71380428e-08\n",
      "  9.46440916e-08  1.10331803e-07  1.11290116e-07 -1.80325610e-06\n",
      " -4.25655224e-06]\n",
      "Target: 1.0\n",
      "Accuracy: 1\n",
      "New Target Threshold:5e-06\n",
      "Training \n",
      "\n",
      "\n",
      "Drain 4 Only\n"
     ]
    },
    {
     "data": {
      "application/vnd.jupyter.widget-view+json": {
       "model_id": "9a0b6a389dac40749b373048b56b9d51",
       "version_major": 2,
       "version_minor": 0
      },
      "text/plain": [
       "Running Simulation :   0%|          | 0/200 [00:00<?, ?it/s]"
      ]
     },
     "metadata": {},
     "output_type": "display_data"
    },
    {
     "name": "stdout",
     "output_type": "stream",
     "text": [
      "Target: 1\n",
      "Currents: 0.0\n",
      "Training \n",
      "\n",
      "\n",
      "Drain 1 Only\n"
     ]
    },
    {
     "data": {
      "application/vnd.jupyter.widget-view+json": {
       "model_id": "10da8bcb3ec14a3fa4ba81ae55b9b1dd",
       "version_major": 2,
       "version_minor": 0
      },
      "text/plain": [
       "Running Simulation :   0%|          | 0/200 [00:00<?, ?it/s]"
      ]
     },
     "metadata": {},
     "output_type": "display_data"
    },
    {
     "name": "stdout",
     "output_type": "stream",
     "text": [
      "Target: 1\n",
      "Currents: 0.0\n",
      "Training \n",
      "\n",
      "\n",
      "Drain 3 Only\n"
     ]
    },
    {
     "data": {
      "application/vnd.jupyter.widget-view+json": {
       "model_id": "e1cbd30dea024ddfb8eab1942b3f5efa",
       "version_major": 2,
       "version_minor": 0
      },
      "text/plain": [
       "Running Simulation :   0%|          | 0/200 [00:00<?, ?it/s]"
      ]
     },
     "metadata": {},
     "output_type": "display_data"
    },
    {
     "name": "stdout",
     "output_type": "stream",
     "text": [
      "Target: 1\n",
      "Currents: 0.0\n",
      "Training \n",
      "\n",
      "\n",
      "Drain 5 Only\n"
     ]
    },
    {
     "data": {
      "application/vnd.jupyter.widget-view+json": {
       "model_id": "f7e7d68858244b3ba3cdbc646a46ff48",
       "version_major": 2,
       "version_minor": 0
      },
      "text/plain": [
       "Running Simulation :   0%|          | 0/200 [00:00<?, ?it/s]"
      ]
     },
     "metadata": {},
     "output_type": "display_data"
    },
    {
     "name": "stdout",
     "output_type": "stream",
     "text": [
      "Target: 1\n",
      "Currents: 0.0\n",
      "Training \n",
      "\n",
      "\n",
      "Drain 6 Only\n"
     ]
    },
    {
     "data": {
      "application/vnd.jupyter.widget-view+json": {
       "model_id": "0130e860cd8a4e978438fa12f2b9e3be",
       "version_major": 2,
       "version_minor": 0
      },
      "text/plain": [
       "Running Simulation :   0%|          | 0/200 [00:00<?, ?it/s]"
      ]
     },
     "metadata": {},
     "output_type": "display_data"
    },
    {
     "name": "stdout",
     "output_type": "stream",
     "text": [
      "Target: 1\n",
      "Currents: 0.0\n",
      "Training \n",
      "\n",
      "\n",
      "Drain 7 Only\n"
     ]
    },
    {
     "data": {
      "application/vnd.jupyter.widget-view+json": {
       "model_id": "0f80038ba48b46578682f20914fbd45e",
       "version_major": 2,
       "version_minor": 0
      },
      "text/plain": [
       "Running Simulation :   0%|          | 0/200 [00:00<?, ?it/s]"
      ]
     },
     "metadata": {},
     "output_type": "display_data"
    },
    {
     "name": "stdout",
     "output_type": "stream",
     "text": [
      "Target: 1\n",
      "Currents: 0.0\n",
      "Training \n",
      "\n",
      "\n",
      "Drain 2 Only\n"
     ]
    },
    {
     "data": {
      "application/vnd.jupyter.widget-view+json": {
       "model_id": "8ea31b32328e452d99e9d0c1d565b0ab",
       "version_major": 2,
       "version_minor": 0
      },
      "text/plain": [
       "Running Simulation :   0%|          | 0/200 [00:00<?, ?it/s]"
      ]
     },
     "metadata": {},
     "output_type": "display_data"
    },
    {
     "name": "stdout",
     "output_type": "stream",
     "text": [
      "Target: 1\n",
      "Currents: 0.0\n",
      "\n",
      "All Drains\n"
     ]
    },
    {
     "data": {
      "application/vnd.jupyter.widget-view+json": {
       "model_id": "ba82130001a141f9a0aace24135a169e",
       "version_major": 2,
       "version_minor": 0
      },
      "text/plain": [
       "Running Simulation :   0%|          | 0/200 [00:00<?, ?it/s]"
      ]
     },
     "metadata": {},
     "output_type": "display_data"
    },
    {
     "name": "stdout",
     "output_type": "stream",
     "text": [
      "Target: 1\n",
      "Currents: 3.18906993535039e-08\n",
      "Testing \n",
      "\n",
      "Currents: [ 3.18906994e-08  6.79780321e-07  6.42854882e-08  1.29027416e-08\n",
      "  9.69757749e-08  1.33693191e-07  1.35199686e-07 -2.03604280e-06\n",
      " -4.09619030e-06]\n",
      "Target: 1.0\n",
      "Accuracy: 0\n",
      "New Target Threshold:5e-06\n",
      "Training \n",
      "\n",
      "\n",
      "Drain 3 Only\n"
     ]
    },
    {
     "data": {
      "application/vnd.jupyter.widget-view+json": {
       "model_id": "0c8e986204f04119ab4cdf29c41e9218",
       "version_major": 2,
       "version_minor": 0
      },
      "text/plain": [
       "Running Simulation :   0%|          | 0/200 [00:00<?, ?it/s]"
      ]
     },
     "metadata": {},
     "output_type": "display_data"
    },
    {
     "name": "stdout",
     "output_type": "stream",
     "text": [
      "Target: 1\n",
      "Currents: 0.0\n",
      "Training \n",
      "\n",
      "\n",
      "Drain 7 Only\n"
     ]
    },
    {
     "data": {
      "application/vnd.jupyter.widget-view+json": {
       "model_id": "a48d6bac7f134a0985445a120416f9c9",
       "version_major": 2,
       "version_minor": 0
      },
      "text/plain": [
       "Running Simulation :   0%|          | 0/200 [00:00<?, ?it/s]"
      ]
     },
     "metadata": {},
     "output_type": "display_data"
    },
    {
     "name": "stdout",
     "output_type": "stream",
     "text": [
      "Target: 1\n",
      "Currents: 0.0\n",
      "Training \n",
      "\n",
      "\n",
      "Drain 1 Only\n"
     ]
    },
    {
     "data": {
      "application/vnd.jupyter.widget-view+json": {
       "model_id": "9cadc06d228d48d3bb5e888c14d29e4a",
       "version_major": 2,
       "version_minor": 0
      },
      "text/plain": [
       "Running Simulation :   0%|          | 0/200 [00:00<?, ?it/s]"
      ]
     },
     "metadata": {},
     "output_type": "display_data"
    },
    {
     "name": "stdout",
     "output_type": "stream",
     "text": [
      "Target: 1\n",
      "Currents: 0.0\n",
      "Training \n",
      "\n",
      "\n",
      "Drain 2 Only\n"
     ]
    },
    {
     "data": {
      "application/vnd.jupyter.widget-view+json": {
       "model_id": "7daff8c7d85f42c585ae94e89a493c5d",
       "version_major": 2,
       "version_minor": 0
      },
      "text/plain": [
       "Running Simulation :   0%|          | 0/200 [00:00<?, ?it/s]"
      ]
     },
     "metadata": {},
     "output_type": "display_data"
    },
    {
     "name": "stdout",
     "output_type": "stream",
     "text": [
      "Target: 1\n",
      "Currents: 0.0\n",
      "Training \n",
      "\n",
      "\n",
      "Drain 5 Only\n"
     ]
    },
    {
     "data": {
      "application/vnd.jupyter.widget-view+json": {
       "model_id": "c2b4438c99fb4cc894e700cf7bf4ba38",
       "version_major": 2,
       "version_minor": 0
      },
      "text/plain": [
       "Running Simulation :   0%|          | 0/200 [00:00<?, ?it/s]"
      ]
     },
     "metadata": {},
     "output_type": "display_data"
    },
    {
     "name": "stdout",
     "output_type": "stream",
     "text": [
      "Target: 1\n",
      "Currents: 0.0\n",
      "Training \n",
      "\n",
      "\n",
      "Drain 6 Only\n"
     ]
    },
    {
     "data": {
      "application/vnd.jupyter.widget-view+json": {
       "model_id": "5b3e1a7073d147329e9420cc9af333b3",
       "version_major": 2,
       "version_minor": 0
      },
      "text/plain": [
       "Running Simulation :   0%|          | 0/200 [00:00<?, ?it/s]"
      ]
     },
     "metadata": {},
     "output_type": "display_data"
    },
    {
     "name": "stdout",
     "output_type": "stream",
     "text": [
      "Target: 1\n",
      "Currents: 0.0\n",
      "Training \n",
      "\n",
      "\n",
      "Drain 4 Only\n"
     ]
    },
    {
     "data": {
      "application/vnd.jupyter.widget-view+json": {
       "model_id": "77846d23ad3b4a318e5df7dfd03bda61",
       "version_major": 2,
       "version_minor": 0
      },
      "text/plain": [
       "Running Simulation :   0%|          | 0/200 [00:00<?, ?it/s]"
      ]
     },
     "metadata": {},
     "output_type": "display_data"
    },
    {
     "name": "stdout",
     "output_type": "stream",
     "text": [
      "Target: 1\n",
      "Currents: 0.0\n",
      "\n",
      "All Drains\n"
     ]
    },
    {
     "data": {
      "application/vnd.jupyter.widget-view+json": {
       "model_id": "57fb621bb23b4f89b2bf1680d518156d",
       "version_major": 2,
       "version_minor": 0
      },
      "text/plain": [
       "Running Simulation :   0%|          | 0/200 [00:00<?, ?it/s]"
      ]
     },
     "metadata": {},
     "output_type": "display_data"
    },
    {
     "name": "stdout",
     "output_type": "stream",
     "text": [
      "Target: 1\n",
      "Currents: 4.581185037046576e-08\n",
      "Testing \n",
      "\n",
      "Currents: [ 4.58118504e-08  2.20102490e-07  1.85683784e-08  2.17412061e-07\n",
      "  8.53087171e-08  1.33772263e-07  1.34750519e-07 -1.85356824e-06\n",
      " -3.97134271e-06]\n",
      "Target: 1.0\n",
      "Accuracy: 0\n",
      "New Target Threshold:5e-06\n",
      "Training \n",
      "\n",
      "\n",
      "Drain 6 Only\n"
     ]
    },
    {
     "data": {
      "application/vnd.jupyter.widget-view+json": {
       "model_id": "ddd5e6f174674580a9f9ac84728efc5c",
       "version_major": 2,
       "version_minor": 0
      },
      "text/plain": [
       "Running Simulation :   0%|          | 0/200 [00:00<?, ?it/s]"
      ]
     },
     "metadata": {},
     "output_type": "display_data"
    },
    {
     "name": "stdout",
     "output_type": "stream",
     "text": [
      "Target: 1\n",
      "Currents: 0.0\n",
      "Training \n",
      "\n",
      "\n",
      "Drain 7 Only\n"
     ]
    },
    {
     "data": {
      "application/vnd.jupyter.widget-view+json": {
       "model_id": "c77e8988f3584763afdd5f0455937c22",
       "version_major": 2,
       "version_minor": 0
      },
      "text/plain": [
       "Running Simulation :   0%|          | 0/200 [00:00<?, ?it/s]"
      ]
     },
     "metadata": {},
     "output_type": "display_data"
    },
    {
     "name": "stdout",
     "output_type": "stream",
     "text": [
      "Target: 1\n",
      "Currents: 0.0\n",
      "Training \n",
      "\n",
      "\n",
      "Drain 1 Only\n"
     ]
    },
    {
     "data": {
      "application/vnd.jupyter.widget-view+json": {
       "model_id": "7fa65f6183f54387a4b083ee0355bcd1",
       "version_major": 2,
       "version_minor": 0
      },
      "text/plain": [
       "Running Simulation :   0%|          | 0/200 [00:00<?, ?it/s]"
      ]
     },
     "metadata": {},
     "output_type": "display_data"
    },
    {
     "name": "stdout",
     "output_type": "stream",
     "text": [
      "Target: 1\n",
      "Currents: 0.0\n",
      "Training \n",
      "\n",
      "\n",
      "Drain 3 Only\n"
     ]
    },
    {
     "data": {
      "application/vnd.jupyter.widget-view+json": {
       "model_id": "bfaf4d6e894b4111b71e2764e3efff24",
       "version_major": 2,
       "version_minor": 0
      },
      "text/plain": [
       "Running Simulation :   0%|          | 0/200 [00:00<?, ?it/s]"
      ]
     },
     "metadata": {},
     "output_type": "display_data"
    },
    {
     "name": "stdout",
     "output_type": "stream",
     "text": [
      "Target: 1\n",
      "Currents: 0.0\n",
      "Training \n",
      "\n",
      "\n",
      "Drain 4 Only\n"
     ]
    },
    {
     "data": {
      "application/vnd.jupyter.widget-view+json": {
       "model_id": "b1865a545d944b06860443cace39e314",
       "version_major": 2,
       "version_minor": 0
      },
      "text/plain": [
       "Running Simulation :   0%|          | 0/200 [00:00<?, ?it/s]"
      ]
     },
     "metadata": {},
     "output_type": "display_data"
    },
    {
     "name": "stdout",
     "output_type": "stream",
     "text": [
      "Target: 1\n",
      "Currents: 0.0\n",
      "Training \n",
      "\n",
      "\n",
      "Drain 2 Only\n"
     ]
    },
    {
     "data": {
      "application/vnd.jupyter.widget-view+json": {
       "model_id": "f9ad467c3bc14a91ae644e7a7f7ef13b",
       "version_major": 2,
       "version_minor": 0
      },
      "text/plain": [
       "Running Simulation :   0%|          | 0/200 [00:00<?, ?it/s]"
      ]
     },
     "metadata": {},
     "output_type": "display_data"
    },
    {
     "name": "stdout",
     "output_type": "stream",
     "text": [
      "Target: 1\n",
      "Currents: 0.0\n",
      "Training \n",
      "\n",
      "\n",
      "Drain 5 Only\n"
     ]
    },
    {
     "data": {
      "application/vnd.jupyter.widget-view+json": {
       "model_id": "cac73c181f4f4279b41f9da2ae4d4a3c",
       "version_major": 2,
       "version_minor": 0
      },
      "text/plain": [
       "Running Simulation :   0%|          | 0/200 [00:00<?, ?it/s]"
      ]
     },
     "metadata": {},
     "output_type": "display_data"
    },
    {
     "name": "stdout",
     "output_type": "stream",
     "text": [
      "Target: 1\n",
      "Currents: 0.0\n",
      "\n",
      "All Drains\n"
     ]
    },
    {
     "data": {
      "application/vnd.jupyter.widget-view+json": {
       "model_id": "e9e9710352904026ac004d4a7de24ed3",
       "version_major": 2,
       "version_minor": 0
      },
      "text/plain": [
       "Running Simulation :   0%|          | 0/200 [00:00<?, ?it/s]"
      ]
     },
     "metadata": {},
     "output_type": "display_data"
    },
    {
     "name": "stdout",
     "output_type": "stream",
     "text": [
      "Target: 1\n",
      "Currents: 1.0525887368033134e-07\n",
      "Testing \n",
      "\n",
      "Currents: [ 1.05258874e-07  4.13497910e-07  7.06486552e-08  8.96256847e-08\n",
      "  3.08832810e-07  1.92543726e-07  1.93138004e-07 -2.00026315e-06\n",
      " -4.01033472e-06]\n",
      "Target: 1.0\n",
      "Accuracy: 0\n",
      "New Target Threshold:5e-06\n",
      "Training \n",
      "\n",
      "\n",
      "Drain 6 Only\n"
     ]
    },
    {
     "data": {
      "application/vnd.jupyter.widget-view+json": {
       "model_id": "99ee0369fc97461fba86606aefaff8a0",
       "version_major": 2,
       "version_minor": 0
      },
      "text/plain": [
       "Running Simulation :   0%|          | 0/200 [00:00<?, ?it/s]"
      ]
     },
     "metadata": {},
     "output_type": "display_data"
    },
    {
     "name": "stdout",
     "output_type": "stream",
     "text": [
      "Target: 1\n",
      "Currents: 0.0\n",
      "Training \n",
      "\n",
      "\n",
      "Drain 5 Only\n"
     ]
    },
    {
     "data": {
      "application/vnd.jupyter.widget-view+json": {
       "model_id": "d456273999f2419496a54c4d1bf0e47b",
       "version_major": 2,
       "version_minor": 0
      },
      "text/plain": [
       "Running Simulation :   0%|          | 0/200 [00:00<?, ?it/s]"
      ]
     },
     "metadata": {},
     "output_type": "display_data"
    },
    {
     "name": "stdout",
     "output_type": "stream",
     "text": [
      "Target: 1\n",
      "Currents: 0.0\n",
      "Training \n",
      "\n",
      "\n",
      "Drain 3 Only\n"
     ]
    },
    {
     "data": {
      "application/vnd.jupyter.widget-view+json": {
       "model_id": "ac54c12cb1d84ce983698a4e9d6f1ec1",
       "version_major": 2,
       "version_minor": 0
      },
      "text/plain": [
       "Running Simulation :   0%|          | 0/200 [00:00<?, ?it/s]"
      ]
     },
     "metadata": {},
     "output_type": "display_data"
    },
    {
     "name": "stdout",
     "output_type": "stream",
     "text": [
      "Target: 1\n",
      "Currents: 0.0\n",
      "Training \n",
      "\n",
      "\n",
      "Drain 4 Only\n"
     ]
    },
    {
     "data": {
      "application/vnd.jupyter.widget-view+json": {
       "model_id": "429696bfdd3c44009f2c5e166425bccb",
       "version_major": 2,
       "version_minor": 0
      },
      "text/plain": [
       "Running Simulation :   0%|          | 0/200 [00:00<?, ?it/s]"
      ]
     },
     "metadata": {},
     "output_type": "display_data"
    },
    {
     "name": "stdout",
     "output_type": "stream",
     "text": [
      "Target: 1\n",
      "Currents: 0.0\n",
      "Training \n",
      "\n",
      "\n",
      "Drain 7 Only\n"
     ]
    },
    {
     "data": {
      "application/vnd.jupyter.widget-view+json": {
       "model_id": "8a96ad7ce6914c43bcf793dbc2f0ccd2",
       "version_major": 2,
       "version_minor": 0
      },
      "text/plain": [
       "Running Simulation :   0%|          | 0/200 [00:00<?, ?it/s]"
      ]
     },
     "metadata": {},
     "output_type": "display_data"
    },
    {
     "name": "stdout",
     "output_type": "stream",
     "text": [
      "Target: 1\n",
      "Currents: 0.0\n",
      "Training \n",
      "\n",
      "\n",
      "Drain 1 Only\n"
     ]
    },
    {
     "data": {
      "application/vnd.jupyter.widget-view+json": {
       "model_id": "3bbc46f43254417db499bbbaaecc6c4f",
       "version_major": 2,
       "version_minor": 0
      },
      "text/plain": [
       "Running Simulation :   0%|          | 0/200 [00:00<?, ?it/s]"
      ]
     },
     "metadata": {},
     "output_type": "display_data"
    },
    {
     "name": "stdout",
     "output_type": "stream",
     "text": [
      "Target: 1\n",
      "Currents: 0.0\n",
      "Training \n",
      "\n",
      "\n",
      "Drain 2 Only\n"
     ]
    },
    {
     "data": {
      "application/vnd.jupyter.widget-view+json": {
       "model_id": "35bff64ce3ea4012b72329dbe2ca7f09",
       "version_major": 2,
       "version_minor": 0
      },
      "text/plain": [
       "Running Simulation :   0%|          | 0/200 [00:00<?, ?it/s]"
      ]
     },
     "metadata": {},
     "output_type": "display_data"
    },
    {
     "name": "stdout",
     "output_type": "stream",
     "text": [
      "Target: 1\n",
      "Currents: 0.0\n",
      "\n",
      "All Drains\n"
     ]
    },
    {
     "data": {
      "application/vnd.jupyter.widget-view+json": {
       "model_id": "b8c61ec365f6417c908e39987b837aef",
       "version_major": 2,
       "version_minor": 0
      },
      "text/plain": [
       "Running Simulation :   0%|          | 0/200 [00:00<?, ?it/s]"
      ]
     },
     "metadata": {},
     "output_type": "display_data"
    },
    {
     "name": "stdout",
     "output_type": "stream",
     "text": [
      "Target: 1\n",
      "Currents: 3.2940747578919805e-07\n",
      "Testing \n",
      "\n",
      "Currents: [ 3.29407476e-07  5.85112817e-07  5.38872018e-08  4.39296728e-08\n",
      "  3.27271027e-08  2.04904295e-07  2.09653390e-07 -1.60306971e-06\n",
      " -4.57311376e-06]\n",
      "Target: 1.0\n",
      "Accuracy: 0\n",
      "New Target Threshold:5e-06\n",
      "Training \n",
      "\n",
      "\n",
      "Drain 1 Only\n"
     ]
    },
    {
     "data": {
      "application/vnd.jupyter.widget-view+json": {
       "model_id": "7bb7376f79774a1bbafbf73ad9d6d8f2",
       "version_major": 2,
       "version_minor": 0
      },
      "text/plain": [
       "Running Simulation :   0%|          | 0/200 [00:00<?, ?it/s]"
      ]
     },
     "metadata": {},
     "output_type": "display_data"
    },
    {
     "name": "stdout",
     "output_type": "stream",
     "text": [
      "Target: 1\n",
      "Currents: 0.0\n",
      "Training \n",
      "\n",
      "\n",
      "Drain 6 Only\n"
     ]
    },
    {
     "data": {
      "application/vnd.jupyter.widget-view+json": {
       "model_id": "2966bba310b6421aac02d55d7c425b4c",
       "version_major": 2,
       "version_minor": 0
      },
      "text/plain": [
       "Running Simulation :   0%|          | 0/200 [00:00<?, ?it/s]"
      ]
     },
     "metadata": {},
     "output_type": "display_data"
    },
    {
     "name": "stdout",
     "output_type": "stream",
     "text": [
      "Target: 1\n",
      "Currents: 0.0\n",
      "Training \n",
      "\n",
      "\n",
      "Drain 3 Only\n"
     ]
    },
    {
     "data": {
      "application/vnd.jupyter.widget-view+json": {
       "model_id": "02f7679a1ff144bda93a06c346c15ded",
       "version_major": 2,
       "version_minor": 0
      },
      "text/plain": [
       "Running Simulation :   0%|          | 0/200 [00:00<?, ?it/s]"
      ]
     },
     "metadata": {},
     "output_type": "display_data"
    },
    {
     "name": "stdout",
     "output_type": "stream",
     "text": [
      "Target: 1\n",
      "Currents: 0.0\n",
      "Training \n",
      "\n",
      "\n",
      "Drain 5 Only\n"
     ]
    },
    {
     "data": {
      "application/vnd.jupyter.widget-view+json": {
       "model_id": "2b5e2f0b288a4ef6b204c18af226a482",
       "version_major": 2,
       "version_minor": 0
      },
      "text/plain": [
       "Running Simulation :   0%|          | 0/200 [00:00<?, ?it/s]"
      ]
     },
     "metadata": {},
     "output_type": "display_data"
    },
    {
     "name": "stdout",
     "output_type": "stream",
     "text": [
      "Target: 1\n",
      "Currents: 0.0\n",
      "Training \n",
      "\n",
      "\n",
      "Drain 7 Only\n"
     ]
    },
    {
     "data": {
      "application/vnd.jupyter.widget-view+json": {
       "model_id": "5a6b236218434016b1e9da2ea39241e8",
       "version_major": 2,
       "version_minor": 0
      },
      "text/plain": [
       "Running Simulation :   0%|          | 0/200 [00:00<?, ?it/s]"
      ]
     },
     "metadata": {},
     "output_type": "display_data"
    },
    {
     "name": "stdout",
     "output_type": "stream",
     "text": [
      "Target: 1\n",
      "Currents: 0.0\n",
      "Training \n",
      "\n",
      "\n",
      "Drain 4 Only\n"
     ]
    },
    {
     "data": {
      "application/vnd.jupyter.widget-view+json": {
       "model_id": "1a37d174e73d42c68b10de2e9a5af2a7",
       "version_major": 2,
       "version_minor": 0
      },
      "text/plain": [
       "Running Simulation :   0%|          | 0/200 [00:00<?, ?it/s]"
      ]
     },
     "metadata": {},
     "output_type": "display_data"
    },
    {
     "name": "stdout",
     "output_type": "stream",
     "text": [
      "Target: 1\n",
      "Currents: 0.0\n",
      "Training \n",
      "\n",
      "\n",
      "Drain 2 Only\n"
     ]
    },
    {
     "data": {
      "application/vnd.jupyter.widget-view+json": {
       "model_id": "d269c3f59ccd499c9982b5b599ade10f",
       "version_major": 2,
       "version_minor": 0
      },
      "text/plain": [
       "Running Simulation :   0%|          | 0/200 [00:00<?, ?it/s]"
      ]
     },
     "metadata": {},
     "output_type": "display_data"
    },
    {
     "name": "stdout",
     "output_type": "stream",
     "text": [
      "Target: 1\n",
      "Currents: 0.0\n",
      "\n",
      "All Drains\n"
     ]
    },
    {
     "data": {
      "application/vnd.jupyter.widget-view+json": {
       "model_id": "0561edc7331745adb9ab8841601c0884",
       "version_major": 2,
       "version_minor": 0
      },
      "text/plain": [
       "Running Simulation :   0%|          | 0/200 [00:00<?, ?it/s]"
      ]
     },
     "metadata": {},
     "output_type": "display_data"
    },
    {
     "name": "stdout",
     "output_type": "stream",
     "text": [
      "Target: 1\n",
      "Currents: 1.9155367988504274e-08\n",
      "Testing \n",
      "\n",
      "Currents: [ 1.91553680e-08  5.67593214e-07  5.33543283e-08  1.75785019e-07\n",
      "  4.70155268e-08  1.49850648e-07  1.50362685e-07 -1.58913288e-06\n",
      " -4.30881776e-06]\n",
      "Target: 1.0\n",
      "Accuracy: 0\n",
      "New Target Threshold:5e-06\n",
      "Training \n",
      "\n",
      "\n",
      "Drain 6 Only\n"
     ]
    },
    {
     "data": {
      "application/vnd.jupyter.widget-view+json": {
       "model_id": "d4d46e27a73f4f3a8dc29c89c1af330a",
       "version_major": 2,
       "version_minor": 0
      },
      "text/plain": [
       "Running Simulation :   0%|          | 0/200 [00:00<?, ?it/s]"
      ]
     },
     "metadata": {},
     "output_type": "display_data"
    },
    {
     "name": "stdout",
     "output_type": "stream",
     "text": [
      "Target: 1\n",
      "Currents: 0.0\n",
      "Training \n",
      "\n",
      "\n",
      "Drain 2 Only\n"
     ]
    },
    {
     "data": {
      "application/vnd.jupyter.widget-view+json": {
       "model_id": "0da9d9968c1641eab52f4b78fee7bfda",
       "version_major": 2,
       "version_minor": 0
      },
      "text/plain": [
       "Running Simulation :   0%|          | 0/200 [00:00<?, ?it/s]"
      ]
     },
     "metadata": {},
     "output_type": "display_data"
    },
    {
     "name": "stdout",
     "output_type": "stream",
     "text": [
      "Target: 1\n",
      "Currents: 0.0\n",
      "Training \n",
      "\n",
      "\n",
      "Drain 3 Only\n"
     ]
    },
    {
     "data": {
      "application/vnd.jupyter.widget-view+json": {
       "model_id": "a137caace57446e59cd863da09b314d9",
       "version_major": 2,
       "version_minor": 0
      },
      "text/plain": [
       "Running Simulation :   0%|          | 0/200 [00:00<?, ?it/s]"
      ]
     },
     "metadata": {},
     "output_type": "display_data"
    },
    {
     "name": "stdout",
     "output_type": "stream",
     "text": [
      "Target: 1\n",
      "Currents: 0.0\n",
      "Training \n",
      "\n",
      "\n",
      "Drain 4 Only\n"
     ]
    },
    {
     "data": {
      "application/vnd.jupyter.widget-view+json": {
       "model_id": "3876c31476c9427abd4c4c870b5cda84",
       "version_major": 2,
       "version_minor": 0
      },
      "text/plain": [
       "Running Simulation :   0%|          | 0/200 [00:00<?, ?it/s]"
      ]
     },
     "metadata": {},
     "output_type": "display_data"
    },
    {
     "name": "stdout",
     "output_type": "stream",
     "text": [
      "Target: 1\n",
      "Currents: 0.0\n",
      "Training \n",
      "\n",
      "\n",
      "Drain 5 Only\n"
     ]
    },
    {
     "data": {
      "application/vnd.jupyter.widget-view+json": {
       "model_id": "1927a510080642f0a469730bc9e16a86",
       "version_major": 2,
       "version_minor": 0
      },
      "text/plain": [
       "Running Simulation :   0%|          | 0/200 [00:00<?, ?it/s]"
      ]
     },
     "metadata": {},
     "output_type": "display_data"
    },
    {
     "name": "stdout",
     "output_type": "stream",
     "text": [
      "Target: 1\n",
      "Currents: 0.0\n",
      "Training \n",
      "\n",
      "\n",
      "Drain 7 Only\n"
     ]
    },
    {
     "data": {
      "application/vnd.jupyter.widget-view+json": {
       "model_id": "b408e3ffa31d4613bb9a014dc0a012b6",
       "version_major": 2,
       "version_minor": 0
      },
      "text/plain": [
       "Running Simulation :   0%|          | 0/200 [00:00<?, ?it/s]"
      ]
     },
     "metadata": {},
     "output_type": "display_data"
    },
    {
     "name": "stdout",
     "output_type": "stream",
     "text": [
      "Target: 1\n",
      "Currents: 0.0\n",
      "Training \n",
      "\n",
      "\n",
      "Drain 1 Only\n"
     ]
    },
    {
     "data": {
      "application/vnd.jupyter.widget-view+json": {
       "model_id": "66fd6c56f20d4aa79e46c6c31e0622d4",
       "version_major": 2,
       "version_minor": 0
      },
      "text/plain": [
       "Running Simulation :   0%|          | 0/200 [00:00<?, ?it/s]"
      ]
     },
     "metadata": {},
     "output_type": "display_data"
    },
    {
     "name": "stdout",
     "output_type": "stream",
     "text": [
      "Target: 1\n",
      "Currents: 0.0\n",
      "\n",
      "All Drains\n"
     ]
    },
    {
     "data": {
      "application/vnd.jupyter.widget-view+json": {
       "model_id": "b72168b68f07460ea24719d696147e23",
       "version_major": 2,
       "version_minor": 0
      },
      "text/plain": [
       "Running Simulation :   0%|          | 0/200 [00:00<?, ?it/s]"
      ]
     },
     "metadata": {},
     "output_type": "display_data"
    },
    {
     "name": "stdout",
     "output_type": "stream",
     "text": [
      "Target: 1\n",
      "Currents: 5.309880460541792e-07\n",
      "Testing \n",
      "\n",
      "Currents: [ 5.30988046e-07  1.27608484e-07  3.83637252e-08  5.40404510e-08\n",
      "  1.59002131e-07  2.11226377e-07  2.12101849e-07 -1.62577418e-06\n",
      " -4.43575979e-06]\n",
      "Target: 1.0\n",
      "Accuracy: 1\n",
      "New Target Threshold:5e-06\n",
      "Training \n",
      "\n",
      "\n",
      "Drain 6 Only\n"
     ]
    },
    {
     "data": {
      "application/vnd.jupyter.widget-view+json": {
       "model_id": "3a4fd8ddd48d481c846f638302aa03d6",
       "version_major": 2,
       "version_minor": 0
      },
      "text/plain": [
       "Running Simulation :   0%|          | 0/200 [00:00<?, ?it/s]"
      ]
     },
     "metadata": {},
     "output_type": "display_data"
    },
    {
     "name": "stdout",
     "output_type": "stream",
     "text": [
      "Target: 1\n",
      "Currents: 0.0\n",
      "Training \n",
      "\n",
      "\n",
      "Drain 7 Only\n"
     ]
    },
    {
     "data": {
      "application/vnd.jupyter.widget-view+json": {
       "model_id": "1e34d91bebad41ce8400245d246955e1",
       "version_major": 2,
       "version_minor": 0
      },
      "text/plain": [
       "Running Simulation :   0%|          | 0/200 [00:00<?, ?it/s]"
      ]
     },
     "metadata": {},
     "output_type": "display_data"
    },
    {
     "name": "stdout",
     "output_type": "stream",
     "text": [
      "Target: 1\n",
      "Currents: 0.0\n",
      "Training \n",
      "\n",
      "\n",
      "Drain 2 Only\n"
     ]
    },
    {
     "data": {
      "application/vnd.jupyter.widget-view+json": {
       "model_id": "cb1e3c6a35db4fa18ca34b17895314ce",
       "version_major": 2,
       "version_minor": 0
      },
      "text/plain": [
       "Running Simulation :   0%|          | 0/200 [00:00<?, ?it/s]"
      ]
     },
     "metadata": {},
     "output_type": "display_data"
    },
    {
     "name": "stdout",
     "output_type": "stream",
     "text": [
      "Target: 1\n",
      "Currents: 0.0\n",
      "Training \n",
      "\n",
      "\n",
      "Drain 1 Only\n"
     ]
    },
    {
     "data": {
      "application/vnd.jupyter.widget-view+json": {
       "model_id": "7eea22b21e8e4f62b972dcb63c065bab",
       "version_major": 2,
       "version_minor": 0
      },
      "text/plain": [
       "Running Simulation :   0%|          | 0/200 [00:00<?, ?it/s]"
      ]
     },
     "metadata": {},
     "output_type": "display_data"
    },
    {
     "name": "stdout",
     "output_type": "stream",
     "text": [
      "Target: 1\n",
      "Currents: 0.0\n",
      "Training \n",
      "\n",
      "\n",
      "Drain 5 Only\n"
     ]
    },
    {
     "data": {
      "application/vnd.jupyter.widget-view+json": {
       "model_id": "fdab18d3330247688fb44b1de0f5dfda",
       "version_major": 2,
       "version_minor": 0
      },
      "text/plain": [
       "Running Simulation :   0%|          | 0/200 [00:00<?, ?it/s]"
      ]
     },
     "metadata": {},
     "output_type": "display_data"
    },
    {
     "name": "stdout",
     "output_type": "stream",
     "text": [
      "Target: 1\n",
      "Currents: 0.0\n",
      "Training \n",
      "\n",
      "\n",
      "Drain 4 Only\n"
     ]
    },
    {
     "data": {
      "application/vnd.jupyter.widget-view+json": {
       "model_id": "c29f79cd4617423ebf03f3d2c530d73d",
       "version_major": 2,
       "version_minor": 0
      },
      "text/plain": [
       "Running Simulation :   0%|          | 0/200 [00:00<?, ?it/s]"
      ]
     },
     "metadata": {},
     "output_type": "display_data"
    },
    {
     "name": "stdout",
     "output_type": "stream",
     "text": [
      "Target: 1\n",
      "Currents: 0.0\n",
      "Training \n",
      "\n",
      "\n",
      "Drain 3 Only\n"
     ]
    },
    {
     "data": {
      "application/vnd.jupyter.widget-view+json": {
       "model_id": "a900fbc2e6dc4d7198410aa8a0d13b3e",
       "version_major": 2,
       "version_minor": 0
      },
      "text/plain": [
       "Running Simulation :   0%|          | 0/200 [00:00<?, ?it/s]"
      ]
     },
     "metadata": {},
     "output_type": "display_data"
    },
    {
     "name": "stdout",
     "output_type": "stream",
     "text": [
      "Target: 1\n",
      "Currents: 0.0\n",
      "\n",
      "All Drains\n"
     ]
    },
    {
     "data": {
      "application/vnd.jupyter.widget-view+json": {
       "model_id": "d5eacc13024e491c8dc2e5f743dd8867",
       "version_major": 2,
       "version_minor": 0
      },
      "text/plain": [
       "Running Simulation :   0%|          | 0/200 [00:00<?, ?it/s]"
      ]
     },
     "metadata": {},
     "output_type": "display_data"
    },
    {
     "name": "stdout",
     "output_type": "stream",
     "text": [
      "Target: 1\n",
      "Currents: 5.505898425994094e-08\n",
      "Testing \n",
      "\n",
      "Currents: [ 5.50589843e-08  3.86548290e-07  3.58652571e-07  1.20761939e-07\n",
      "  8.51391791e-08  1.51593645e-07  1.52058877e-07 -1.96584715e-06\n",
      " -4.06117150e-06]\n",
      "Target: 1.0\n",
      "Accuracy: 0\n",
      "New Target Threshold:5e-06\n",
      "Training \n",
      "\n",
      "\n",
      "Drain 3 Only\n"
     ]
    },
    {
     "data": {
      "application/vnd.jupyter.widget-view+json": {
       "model_id": "7aacf8e135a644d3baa9570531d1fa18",
       "version_major": 2,
       "version_minor": 0
      },
      "text/plain": [
       "Running Simulation :   0%|          | 0/200 [00:00<?, ?it/s]"
      ]
     },
     "metadata": {},
     "output_type": "display_data"
    },
    {
     "name": "stdout",
     "output_type": "stream",
     "text": [
      "Target: 1\n",
      "Currents: 0.0\n",
      "Training \n",
      "\n",
      "\n",
      "Drain 7 Only\n"
     ]
    },
    {
     "data": {
      "application/vnd.jupyter.widget-view+json": {
       "model_id": "0689d813414c40a0bc7a034287b38817",
       "version_major": 2,
       "version_minor": 0
      },
      "text/plain": [
       "Running Simulation :   0%|          | 0/200 [00:00<?, ?it/s]"
      ]
     },
     "metadata": {},
     "output_type": "display_data"
    },
    {
     "name": "stdout",
     "output_type": "stream",
     "text": [
      "Target: 1\n",
      "Currents: 0.0\n",
      "Training \n",
      "\n",
      "\n",
      "Drain 2 Only\n"
     ]
    },
    {
     "data": {
      "application/vnd.jupyter.widget-view+json": {
       "model_id": "140b5c22eebb476db8138def5663c94a",
       "version_major": 2,
       "version_minor": 0
      },
      "text/plain": [
       "Running Simulation :   0%|          | 0/200 [00:00<?, ?it/s]"
      ]
     },
     "metadata": {},
     "output_type": "display_data"
    },
    {
     "name": "stdout",
     "output_type": "stream",
     "text": [
      "Target: 1\n",
      "Currents: 0.0\n",
      "Training \n",
      "\n",
      "\n",
      "Drain 4 Only\n"
     ]
    },
    {
     "data": {
      "application/vnd.jupyter.widget-view+json": {
       "model_id": "32edd679abb446b3a42fba62a527a87b",
       "version_major": 2,
       "version_minor": 0
      },
      "text/plain": [
       "Running Simulation :   0%|          | 0/200 [00:00<?, ?it/s]"
      ]
     },
     "metadata": {},
     "output_type": "display_data"
    },
    {
     "name": "stdout",
     "output_type": "stream",
     "text": [
      "Target: 1\n",
      "Currents: 0.0\n",
      "Training \n",
      "\n",
      "\n",
      "Drain 5 Only\n"
     ]
    },
    {
     "data": {
      "application/vnd.jupyter.widget-view+json": {
       "model_id": "73d9db62d7d3486784a021565b3c78bb",
       "version_major": 2,
       "version_minor": 0
      },
      "text/plain": [
       "Running Simulation :   0%|          | 0/200 [00:00<?, ?it/s]"
      ]
     },
     "metadata": {},
     "output_type": "display_data"
    },
    {
     "name": "stdout",
     "output_type": "stream",
     "text": [
      "Target: 1\n",
      "Currents: 0.0\n",
      "Training \n",
      "\n",
      "\n",
      "Drain 1 Only\n"
     ]
    },
    {
     "data": {
      "application/vnd.jupyter.widget-view+json": {
       "model_id": "574945d5299c4eddaa927770c0e63242",
       "version_major": 2,
       "version_minor": 0
      },
      "text/plain": [
       "Running Simulation :   0%|          | 0/200 [00:00<?, ?it/s]"
      ]
     },
     "metadata": {},
     "output_type": "display_data"
    },
    {
     "name": "stdout",
     "output_type": "stream",
     "text": [
      "Target: 1\n",
      "Currents: 0.0\n",
      "Training \n",
      "\n",
      "\n",
      "Drain 6 Only\n"
     ]
    },
    {
     "data": {
      "application/vnd.jupyter.widget-view+json": {
       "model_id": "75f5b52053cb45bcba2f75ecc53ee75c",
       "version_major": 2,
       "version_minor": 0
      },
      "text/plain": [
       "Running Simulation :   0%|          | 0/200 [00:00<?, ?it/s]"
      ]
     },
     "metadata": {},
     "output_type": "display_data"
    },
    {
     "name": "stdout",
     "output_type": "stream",
     "text": [
      "Target: 1\n",
      "Currents: 0.0\n",
      "\n",
      "All Drains\n"
     ]
    },
    {
     "data": {
      "application/vnd.jupyter.widget-view+json": {
       "model_id": "d8242b33b1c94e7f88516f0fca32a77f",
       "version_major": 2,
       "version_minor": 0
      },
      "text/plain": [
       "Running Simulation :   0%|          | 0/200 [00:00<?, ?it/s]"
      ]
     },
     "metadata": {},
     "output_type": "display_data"
    },
    {
     "name": "stdout",
     "output_type": "stream",
     "text": [
      "Target: 1\n",
      "Currents: 2.7493250056149714e-07\n",
      "Testing \n",
      "\n",
      "Currents: [ 2.74932501e-07  3.20524284e-07  1.97342549e-08  4.99658198e-08\n",
      "  9.61518445e-08  1.44630228e-07  1.45757335e-07 -1.92144741e-06\n",
      " -4.11319135e-06]\n",
      "Target: 1.0\n",
      "Accuracy: 0\n",
      "New Target Threshold:5e-06\n",
      "Training \n",
      "\n",
      "\n",
      "Drain 6 Only\n"
     ]
    },
    {
     "data": {
      "application/vnd.jupyter.widget-view+json": {
       "model_id": "7cff1f08b48f4aa6bb88b058581232b7",
       "version_major": 2,
       "version_minor": 0
      },
      "text/plain": [
       "Running Simulation :   0%|          | 0/200 [00:00<?, ?it/s]"
      ]
     },
     "metadata": {},
     "output_type": "display_data"
    },
    {
     "name": "stdout",
     "output_type": "stream",
     "text": [
      "Target: 1\n",
      "Currents: 0.0\n",
      "Training \n",
      "\n",
      "\n",
      "Drain 2 Only\n"
     ]
    },
    {
     "data": {
      "application/vnd.jupyter.widget-view+json": {
       "model_id": "c251611cf1774d3c908cdf6716267164",
       "version_major": 2,
       "version_minor": 0
      },
      "text/plain": [
       "Running Simulation :   0%|          | 0/200 [00:00<?, ?it/s]"
      ]
     },
     "metadata": {},
     "output_type": "display_data"
    },
    {
     "name": "stdout",
     "output_type": "stream",
     "text": [
      "Target: 1\n",
      "Currents: 0.0\n",
      "Training \n",
      "\n",
      "\n",
      "Drain 7 Only\n"
     ]
    },
    {
     "data": {
      "application/vnd.jupyter.widget-view+json": {
       "model_id": "fca561b19c2649d0a88d54f3117c139c",
       "version_major": 2,
       "version_minor": 0
      },
      "text/plain": [
       "Running Simulation :   0%|          | 0/200 [00:00<?, ?it/s]"
      ]
     },
     "metadata": {},
     "output_type": "display_data"
    },
    {
     "name": "stdout",
     "output_type": "stream",
     "text": [
      "Target: 1\n",
      "Currents: 0.0\n",
      "Training \n",
      "\n",
      "\n",
      "Drain 4 Only\n"
     ]
    },
    {
     "data": {
      "application/vnd.jupyter.widget-view+json": {
       "model_id": "6994b96e59ad4b039276a8c7efee563f",
       "version_major": 2,
       "version_minor": 0
      },
      "text/plain": [
       "Running Simulation :   0%|          | 0/200 [00:00<?, ?it/s]"
      ]
     },
     "metadata": {},
     "output_type": "display_data"
    },
    {
     "name": "stdout",
     "output_type": "stream",
     "text": [
      "Target: 1\n",
      "Currents: 0.0\n",
      "Training \n",
      "\n",
      "\n",
      "Drain 5 Only\n"
     ]
    },
    {
     "data": {
      "application/vnd.jupyter.widget-view+json": {
       "model_id": "807477f583414f17959b750243a51085",
       "version_major": 2,
       "version_minor": 0
      },
      "text/plain": [
       "Running Simulation :   0%|          | 0/200 [00:00<?, ?it/s]"
      ]
     },
     "metadata": {},
     "output_type": "display_data"
    },
    {
     "name": "stdout",
     "output_type": "stream",
     "text": [
      "Target: 1\n",
      "Currents: 0.0\n",
      "Training \n",
      "\n",
      "\n",
      "Drain 3 Only\n"
     ]
    },
    {
     "data": {
      "application/vnd.jupyter.widget-view+json": {
       "model_id": "528a40423eb44993bdc429b0f439e9a3",
       "version_major": 2,
       "version_minor": 0
      },
      "text/plain": [
       "Running Simulation :   0%|          | 0/200 [00:00<?, ?it/s]"
      ]
     },
     "metadata": {},
     "output_type": "display_data"
    },
    {
     "name": "stdout",
     "output_type": "stream",
     "text": [
      "Target: 1\n",
      "Currents: 0.0\n",
      "Training \n",
      "\n",
      "\n",
      "Drain 1 Only\n"
     ]
    },
    {
     "data": {
      "application/vnd.jupyter.widget-view+json": {
       "model_id": "10eb0fc8f5214f3c8be73e8b8d7d3fce",
       "version_major": 2,
       "version_minor": 0
      },
      "text/plain": [
       "Running Simulation :   0%|          | 0/200 [00:00<?, ?it/s]"
      ]
     },
     "metadata": {},
     "output_type": "display_data"
    },
    {
     "name": "stdout",
     "output_type": "stream",
     "text": [
      "Target: 1\n",
      "Currents: 0.0\n",
      "\n",
      "All Drains\n"
     ]
    },
    {
     "data": {
      "application/vnd.jupyter.widget-view+json": {
       "model_id": "4b13d187b0fa48eaac82f8c67e7c85e8",
       "version_major": 2,
       "version_minor": 0
      },
      "text/plain": [
       "Running Simulation :   0%|          | 0/200 [00:00<?, ?it/s]"
      ]
     },
     "metadata": {},
     "output_type": "display_data"
    },
    {
     "name": "stdout",
     "output_type": "stream",
     "text": [
      "Target: 1\n",
      "Currents: 3.22750866467339e-07\n",
      "Testing \n",
      "\n",
      "Currents: [ 3.22750866e-07  2.28656089e-07  3.54415237e-07  2.60555857e-08\n",
      "  9.82377716e-08  1.74010138e-07  1.75310120e-07 -1.94179418e-06\n",
      " -4.22441754e-06]\n",
      "Target: 1.0\n",
      "Accuracy: 0\n",
      "New Target Threshold:5e-06\n",
      "Training \n",
      "\n",
      "\n",
      "Drain 2 Only\n"
     ]
    },
    {
     "data": {
      "application/vnd.jupyter.widget-view+json": {
       "model_id": "567d486c75034cf9b735bb6c5d62d849",
       "version_major": 2,
       "version_minor": 0
      },
      "text/plain": [
       "Running Simulation :   0%|          | 0/200 [00:00<?, ?it/s]"
      ]
     },
     "metadata": {},
     "output_type": "display_data"
    },
    {
     "name": "stdout",
     "output_type": "stream",
     "text": [
      "Target: 1\n",
      "Currents: 0.0\n",
      "Training \n",
      "\n",
      "\n",
      "Drain 6 Only\n"
     ]
    },
    {
     "data": {
      "application/vnd.jupyter.widget-view+json": {
       "model_id": "1eb48cba362d40709ace9da73c54dbaf",
       "version_major": 2,
       "version_minor": 0
      },
      "text/plain": [
       "Running Simulation :   0%|          | 0/200 [00:00<?, ?it/s]"
      ]
     },
     "metadata": {},
     "output_type": "display_data"
    },
    {
     "name": "stdout",
     "output_type": "stream",
     "text": [
      "Target: 1\n",
      "Currents: 0.0\n",
      "Training \n",
      "\n",
      "\n",
      "Drain 1 Only\n"
     ]
    },
    {
     "data": {
      "application/vnd.jupyter.widget-view+json": {
       "model_id": "6bd2bafdaeab41f598d7053db7c601f8",
       "version_major": 2,
       "version_minor": 0
      },
      "text/plain": [
       "Running Simulation :   0%|          | 0/200 [00:00<?, ?it/s]"
      ]
     },
     "metadata": {},
     "output_type": "display_data"
    },
    {
     "name": "stdout",
     "output_type": "stream",
     "text": [
      "Target: 1\n",
      "Currents: 0.0\n",
      "Training \n",
      "\n",
      "\n",
      "Drain 7 Only\n"
     ]
    },
    {
     "data": {
      "application/vnd.jupyter.widget-view+json": {
       "model_id": "0da91cab00ff43ac825b272234ff7fa1",
       "version_major": 2,
       "version_minor": 0
      },
      "text/plain": [
       "Running Simulation :   0%|          | 0/200 [00:00<?, ?it/s]"
      ]
     },
     "metadata": {},
     "output_type": "display_data"
    },
    {
     "name": "stdout",
     "output_type": "stream",
     "text": [
      "Target: 1\n",
      "Currents: 0.0\n",
      "Training \n",
      "\n",
      "\n",
      "Drain 3 Only\n"
     ]
    },
    {
     "data": {
      "application/vnd.jupyter.widget-view+json": {
       "model_id": "22caae74902248b4b1cdf0dbaff3f60a",
       "version_major": 2,
       "version_minor": 0
      },
      "text/plain": [
       "Running Simulation :   0%|          | 0/200 [00:00<?, ?it/s]"
      ]
     },
     "metadata": {},
     "output_type": "display_data"
    },
    {
     "name": "stdout",
     "output_type": "stream",
     "text": [
      "Target: 1\n",
      "Currents: 0.0\n",
      "Training \n",
      "\n",
      "\n",
      "Drain 4 Only\n"
     ]
    },
    {
     "data": {
      "application/vnd.jupyter.widget-view+json": {
       "model_id": "c09de4ae722841159a1021c3183dc779",
       "version_major": 2,
       "version_minor": 0
      },
      "text/plain": [
       "Running Simulation :   0%|          | 0/200 [00:00<?, ?it/s]"
      ]
     },
     "metadata": {},
     "output_type": "display_data"
    },
    {
     "name": "stdout",
     "output_type": "stream",
     "text": [
      "Target: 1\n",
      "Currents: 0.0\n",
      "Training \n",
      "\n",
      "\n",
      "Drain 5 Only\n"
     ]
    },
    {
     "data": {
      "application/vnd.jupyter.widget-view+json": {
       "model_id": "83b4f120f19442058b3b7c569bd8b744",
       "version_major": 2,
       "version_minor": 0
      },
      "text/plain": [
       "Running Simulation :   0%|          | 0/200 [00:00<?, ?it/s]"
      ]
     },
     "metadata": {},
     "output_type": "display_data"
    },
    {
     "name": "stdout",
     "output_type": "stream",
     "text": [
      "Target: 1\n",
      "Currents: 0.0\n",
      "\n",
      "All Drains\n"
     ]
    },
    {
     "data": {
      "application/vnd.jupyter.widget-view+json": {
       "model_id": "7e1fa34ed63441798c54e257bdae115d",
       "version_major": 2,
       "version_minor": 0
      },
      "text/plain": [
       "Running Simulation :   0%|          | 0/200 [00:00<?, ?it/s]"
      ]
     },
     "metadata": {},
     "output_type": "display_data"
    },
    {
     "name": "stdout",
     "output_type": "stream",
     "text": [
      "Target: 1\n",
      "Currents: 1.0252131616705545e-07\n",
      "Testing \n",
      "\n",
      "Currents: [ 1.02521316e-07  1.17529596e-07  2.51982294e-07  1.67574329e-07\n",
      "  2.65349721e-07  1.99709604e-07  2.00574076e-07 -1.54136312e-06\n",
      " -4.36753937e-06]\n",
      "Target: 1.0\n",
      "Accuracy: 0\n",
      "New Target Threshold:5e-06\n",
      "Training \n",
      "\n",
      "\n",
      "Drain 4 Only\n"
     ]
    },
    {
     "data": {
      "application/vnd.jupyter.widget-view+json": {
       "model_id": "34cd7f297e4a4c87be3800f602330baf",
       "version_major": 2,
       "version_minor": 0
      },
      "text/plain": [
       "Running Simulation :   0%|          | 0/200 [00:00<?, ?it/s]"
      ]
     },
     "metadata": {},
     "output_type": "display_data"
    },
    {
     "name": "stdout",
     "output_type": "stream",
     "text": [
      "Target: 1\n",
      "Currents: 0.0\n",
      "Training \n",
      "\n",
      "\n",
      "Drain 7 Only\n"
     ]
    },
    {
     "data": {
      "application/vnd.jupyter.widget-view+json": {
       "model_id": "76b3c8732edb42a8b2a018d468a96c34",
       "version_major": 2,
       "version_minor": 0
      },
      "text/plain": [
       "Running Simulation :   0%|          | 0/200 [00:00<?, ?it/s]"
      ]
     },
     "metadata": {},
     "output_type": "display_data"
    },
    {
     "name": "stdout",
     "output_type": "stream",
     "text": [
      "Target: 1\n",
      "Currents: 0.0\n",
      "Training \n",
      "\n",
      "\n",
      "Drain 2 Only\n"
     ]
    },
    {
     "data": {
      "application/vnd.jupyter.widget-view+json": {
       "model_id": "0fc8c45d119648a587ba33ff34833b71",
       "version_major": 2,
       "version_minor": 0
      },
      "text/plain": [
       "Running Simulation :   0%|          | 0/200 [00:00<?, ?it/s]"
      ]
     },
     "metadata": {},
     "output_type": "display_data"
    },
    {
     "name": "stdout",
     "output_type": "stream",
     "text": [
      "Target: 1\n",
      "Currents: 0.0\n",
      "Training \n",
      "\n",
      "\n",
      "Drain 6 Only\n"
     ]
    },
    {
     "data": {
      "application/vnd.jupyter.widget-view+json": {
       "model_id": "251b49b33169483eae472379c0c418e9",
       "version_major": 2,
       "version_minor": 0
      },
      "text/plain": [
       "Running Simulation :   0%|          | 0/200 [00:00<?, ?it/s]"
      ]
     },
     "metadata": {},
     "output_type": "display_data"
    },
    {
     "name": "stdout",
     "output_type": "stream",
     "text": [
      "Target: 1\n",
      "Currents: 0.0\n",
      "Training \n",
      "\n",
      "\n",
      "Drain 1 Only\n"
     ]
    },
    {
     "data": {
      "application/vnd.jupyter.widget-view+json": {
       "model_id": "bd27207c1f53479ca2dd6265dcb74d80",
       "version_major": 2,
       "version_minor": 0
      },
      "text/plain": [
       "Running Simulation :   0%|          | 0/200 [00:00<?, ?it/s]"
      ]
     },
     "metadata": {},
     "output_type": "display_data"
    },
    {
     "name": "stdout",
     "output_type": "stream",
     "text": [
      "Target: 1\n",
      "Currents: 0.0\n",
      "Training \n",
      "\n",
      "\n",
      "Drain 3 Only\n"
     ]
    },
    {
     "data": {
      "application/vnd.jupyter.widget-view+json": {
       "model_id": "5fbe0356bec64c5593d21afe4a966913",
       "version_major": 2,
       "version_minor": 0
      },
      "text/plain": [
       "Running Simulation :   0%|          | 0/200 [00:00<?, ?it/s]"
      ]
     },
     "metadata": {},
     "output_type": "display_data"
    },
    {
     "name": "stdout",
     "output_type": "stream",
     "text": [
      "Target: 1\n",
      "Currents: 0.0\n",
      "Training \n",
      "\n",
      "\n",
      "Drain 5 Only\n"
     ]
    },
    {
     "data": {
      "application/vnd.jupyter.widget-view+json": {
       "model_id": "839e87957da94843b2accd1634ac57bc",
       "version_major": 2,
       "version_minor": 0
      },
      "text/plain": [
       "Running Simulation :   0%|          | 0/200 [00:00<?, ?it/s]"
      ]
     },
     "metadata": {},
     "output_type": "display_data"
    },
    {
     "name": "stdout",
     "output_type": "stream",
     "text": [
      "Target: 1\n",
      "Currents: 0.0\n",
      "\n",
      "All Drains\n"
     ]
    },
    {
     "data": {
      "application/vnd.jupyter.widget-view+json": {
       "model_id": "2758d52495d74792a18085f9a4aa4ccc",
       "version_major": 2,
       "version_minor": 0
      },
      "text/plain": [
       "Running Simulation :   0%|          | 0/200 [00:00<?, ?it/s]"
      ]
     },
     "metadata": {},
     "output_type": "display_data"
    },
    {
     "name": "stdout",
     "output_type": "stream",
     "text": [
      "Target: 1\n",
      "Currents: 1.8953985440046507e-07\n",
      "Testing \n",
      "\n",
      "Currents: [ 1.89539854e-07  3.71223372e-07  2.38020388e-07  1.05389631e-08\n",
      "  2.63532546e-07  1.73934860e-07  1.74851600e-07 -2.02283542e-06\n",
      " -4.09435022e-06]\n",
      "Target: 1.0\n",
      "Accuracy: 0\n",
      "New Target Threshold:5e-06\n",
      "Training \n",
      "\n",
      "\n",
      "Drain 5 Only\n"
     ]
    },
    {
     "data": {
      "application/vnd.jupyter.widget-view+json": {
       "model_id": "b3cc64cdb3a441c8b05e04d198bc2647",
       "version_major": 2,
       "version_minor": 0
      },
      "text/plain": [
       "Running Simulation :   0%|          | 0/200 [00:00<?, ?it/s]"
      ]
     },
     "metadata": {},
     "output_type": "display_data"
    },
    {
     "name": "stdout",
     "output_type": "stream",
     "text": [
      "Target: 1\n",
      "Currents: 0.0\n",
      "Training \n",
      "\n",
      "\n",
      "Drain 3 Only\n"
     ]
    },
    {
     "data": {
      "application/vnd.jupyter.widget-view+json": {
       "model_id": "27955766c8c84d9ebd654e9667d73d61",
       "version_major": 2,
       "version_minor": 0
      },
      "text/plain": [
       "Running Simulation :   0%|          | 0/200 [00:00<?, ?it/s]"
      ]
     },
     "metadata": {},
     "output_type": "display_data"
    },
    {
     "name": "stdout",
     "output_type": "stream",
     "text": [
      "Target: 1\n",
      "Currents: 0.0\n",
      "Training \n",
      "\n",
      "\n",
      "Drain 2 Only\n"
     ]
    },
    {
     "data": {
      "application/vnd.jupyter.widget-view+json": {
       "model_id": "5f978a834b1d4b20a5a42a66c9feb206",
       "version_major": 2,
       "version_minor": 0
      },
      "text/plain": [
       "Running Simulation :   0%|          | 0/200 [00:00<?, ?it/s]"
      ]
     },
     "metadata": {},
     "output_type": "display_data"
    },
    {
     "name": "stdout",
     "output_type": "stream",
     "text": [
      "Target: 1\n",
      "Currents: 0.0\n",
      "Training \n",
      "\n",
      "\n",
      "Drain 7 Only\n"
     ]
    },
    {
     "data": {
      "application/vnd.jupyter.widget-view+json": {
       "model_id": "16061da9f6e042ef8c124f89fedb5dfa",
       "version_major": 2,
       "version_minor": 0
      },
      "text/plain": [
       "Running Simulation :   0%|          | 0/200 [00:00<?, ?it/s]"
      ]
     },
     "metadata": {},
     "output_type": "display_data"
    },
    {
     "name": "stdout",
     "output_type": "stream",
     "text": [
      "Target: 1\n",
      "Currents: 0.0\n",
      "Training \n",
      "\n",
      "\n",
      "Drain 6 Only\n"
     ]
    },
    {
     "data": {
      "application/vnd.jupyter.widget-view+json": {
       "model_id": "1c6dcff943874f298e88087989322c70",
       "version_major": 2,
       "version_minor": 0
      },
      "text/plain": [
       "Running Simulation :   0%|          | 0/200 [00:00<?, ?it/s]"
      ]
     },
     "metadata": {},
     "output_type": "display_data"
    },
    {
     "name": "stdout",
     "output_type": "stream",
     "text": [
      "Target: 1\n",
      "Currents: 0.0\n",
      "Training \n",
      "\n",
      "\n",
      "Drain 4 Only\n"
     ]
    },
    {
     "data": {
      "application/vnd.jupyter.widget-view+json": {
       "model_id": "1986110ea9624a9a8e171260b97a457c",
       "version_major": 2,
       "version_minor": 0
      },
      "text/plain": [
       "Running Simulation :   0%|          | 0/200 [00:00<?, ?it/s]"
      ]
     },
     "metadata": {},
     "output_type": "display_data"
    },
    {
     "name": "stdout",
     "output_type": "stream",
     "text": [
      "Target: 1\n",
      "Currents: 0.0\n",
      "Training \n",
      "\n",
      "\n",
      "Drain 1 Only\n"
     ]
    },
    {
     "data": {
      "application/vnd.jupyter.widget-view+json": {
       "model_id": "a45e09f3dfd54755a7eb5c86ba334a7e",
       "version_major": 2,
       "version_minor": 0
      },
      "text/plain": [
       "Running Simulation :   0%|          | 0/200 [00:00<?, ?it/s]"
      ]
     },
     "metadata": {},
     "output_type": "display_data"
    },
    {
     "name": "stdout",
     "output_type": "stream",
     "text": [
      "Target: 1\n",
      "Currents: 0.0\n",
      "\n",
      "All Drains\n"
     ]
    },
    {
     "data": {
      "application/vnd.jupyter.widget-view+json": {
       "model_id": "b905759e534c42e5bde58d1f3eaffd44",
       "version_major": 2,
       "version_minor": 0
      },
      "text/plain": [
       "Running Simulation :   0%|          | 0/200 [00:00<?, ?it/s]"
      ]
     },
     "metadata": {},
     "output_type": "display_data"
    },
    {
     "name": "stdout",
     "output_type": "stream",
     "text": [
      "Target: 1\n",
      "Currents: 3.694607786656933e-07\n",
      "Testing \n",
      "\n",
      "Currents: [ 3.69460779e-07  3.56921682e-07  2.17812280e-08  1.14694855e-07\n",
      "  3.36831669e-08  1.65637768e-07  1.70172060e-07 -1.71186646e-06\n",
      " -4.44840770e-06]\n",
      "Target: 1.0\n",
      "Accuracy: 1\n",
      "New Target Threshold:5e-06\n",
      "Training \n",
      "\n",
      "\n",
      "Drain 6 Only\n"
     ]
    },
    {
     "data": {
      "application/vnd.jupyter.widget-view+json": {
       "model_id": "fcdeb8d02f6e43e48b4de023cf1dc475",
       "version_major": 2,
       "version_minor": 0
      },
      "text/plain": [
       "Running Simulation :   0%|          | 0/200 [00:00<?, ?it/s]"
      ]
     },
     "metadata": {},
     "output_type": "display_data"
    },
    {
     "name": "stdout",
     "output_type": "stream",
     "text": [
      "Target: 1\n",
      "Currents: 0.0\n",
      "Training \n",
      "\n",
      "\n",
      "Drain 1 Only\n"
     ]
    },
    {
     "data": {
      "application/vnd.jupyter.widget-view+json": {
       "model_id": "0e67c2d34e9e47bb820cb64b4cb6a11f",
       "version_major": 2,
       "version_minor": 0
      },
      "text/plain": [
       "Running Simulation :   0%|          | 0/200 [00:00<?, ?it/s]"
      ]
     },
     "metadata": {},
     "output_type": "display_data"
    },
    {
     "name": "stdout",
     "output_type": "stream",
     "text": [
      "Target: 1\n",
      "Currents: 0.0\n",
      "Training \n",
      "\n",
      "\n",
      "Drain 4 Only\n"
     ]
    },
    {
     "data": {
      "application/vnd.jupyter.widget-view+json": {
       "model_id": "d445d95c89b9434eb22dd186f9687f43",
       "version_major": 2,
       "version_minor": 0
      },
      "text/plain": [
       "Running Simulation :   0%|          | 0/200 [00:00<?, ?it/s]"
      ]
     },
     "metadata": {},
     "output_type": "display_data"
    },
    {
     "name": "stdout",
     "output_type": "stream",
     "text": [
      "Target: 1\n",
      "Currents: 0.0\n",
      "Training \n",
      "\n",
      "\n",
      "Drain 5 Only\n"
     ]
    },
    {
     "data": {
      "application/vnd.jupyter.widget-view+json": {
       "model_id": "84a5fd3b4c6a4039b1a44d092e34146e",
       "version_major": 2,
       "version_minor": 0
      },
      "text/plain": [
       "Running Simulation :   0%|          | 0/200 [00:00<?, ?it/s]"
      ]
     },
     "metadata": {},
     "output_type": "display_data"
    },
    {
     "name": "stdout",
     "output_type": "stream",
     "text": [
      "Target: 1\n",
      "Currents: 0.0\n",
      "Training \n",
      "\n",
      "\n",
      "Drain 3 Only\n"
     ]
    },
    {
     "data": {
      "application/vnd.jupyter.widget-view+json": {
       "model_id": "4a4e5d803dcd44c48e24f596ab259a37",
       "version_major": 2,
       "version_minor": 0
      },
      "text/plain": [
       "Running Simulation :   0%|          | 0/200 [00:00<?, ?it/s]"
      ]
     },
     "metadata": {},
     "output_type": "display_data"
    },
    {
     "name": "stdout",
     "output_type": "stream",
     "text": [
      "Target: 1\n",
      "Currents: 0.0\n",
      "Training \n",
      "\n",
      "\n",
      "Drain 7 Only\n"
     ]
    },
    {
     "data": {
      "application/vnd.jupyter.widget-view+json": {
       "model_id": "3a313e1bc0da4bae9374efe77f5083a5",
       "version_major": 2,
       "version_minor": 0
      },
      "text/plain": [
       "Running Simulation :   0%|          | 0/200 [00:00<?, ?it/s]"
      ]
     },
     "metadata": {},
     "output_type": "display_data"
    },
    {
     "name": "stdout",
     "output_type": "stream",
     "text": [
      "Target: 1\n",
      "Currents: 0.0\n",
      "Training \n",
      "\n",
      "\n",
      "Drain 2 Only\n"
     ]
    },
    {
     "data": {
      "application/vnd.jupyter.widget-view+json": {
       "model_id": "162f18aa6c5c4a4e8ecdf9124b554840",
       "version_major": 2,
       "version_minor": 0
      },
      "text/plain": [
       "Running Simulation :   0%|          | 0/200 [00:00<?, ?it/s]"
      ]
     },
     "metadata": {},
     "output_type": "display_data"
    },
    {
     "name": "stdout",
     "output_type": "stream",
     "text": [
      "Target: 1\n",
      "Currents: 0.0\n",
      "\n",
      "All Drains\n"
     ]
    },
    {
     "data": {
      "application/vnd.jupyter.widget-view+json": {
       "model_id": "1b29908c33654f0b97ba9ec6fe7fceea",
       "version_major": 2,
       "version_minor": 0
      },
      "text/plain": [
       "Running Simulation :   0%|          | 0/200 [00:00<?, ?it/s]"
      ]
     },
     "metadata": {},
     "output_type": "display_data"
    },
    {
     "name": "stdout",
     "output_type": "stream",
     "text": [
      "Target: 1\n",
      "Currents: 9.129030444970661e-08\n",
      "Testing \n",
      "\n",
      "Currents: [ 9.12903044e-08  6.03744384e-07  1.40090507e-07  2.91774047e-08\n",
      "  1.51303038e-07  1.67678091e-07  1.72121099e-07 -2.31845343e-06\n",
      " -3.93806337e-06]\n",
      "Target: 1.0\n",
      "Accuracy: 0\n",
      "New Target Threshold:5e-06\n",
      "Training \n",
      "\n",
      "\n",
      "Drain 5 Only\n"
     ]
    },
    {
     "data": {
      "application/vnd.jupyter.widget-view+json": {
       "model_id": "61fe2d7933ac49bf8776ec6fe2f48b1f",
       "version_major": 2,
       "version_minor": 0
      },
      "text/plain": [
       "Running Simulation :   0%|          | 0/200 [00:00<?, ?it/s]"
      ]
     },
     "metadata": {},
     "output_type": "display_data"
    },
    {
     "name": "stdout",
     "output_type": "stream",
     "text": [
      "Target: 1\n",
      "Currents: 0.0\n",
      "Training \n",
      "\n",
      "\n",
      "Drain 1 Only\n"
     ]
    },
    {
     "data": {
      "application/vnd.jupyter.widget-view+json": {
       "model_id": "578c5491dc414899b87e4f13633db34f",
       "version_major": 2,
       "version_minor": 0
      },
      "text/plain": [
       "Running Simulation :   0%|          | 0/200 [00:00<?, ?it/s]"
      ]
     },
     "metadata": {},
     "output_type": "display_data"
    },
    {
     "name": "stdout",
     "output_type": "stream",
     "text": [
      "Target: 1\n",
      "Currents: 0.0\n",
      "Training \n",
      "\n",
      "\n",
      "Drain 2 Only\n"
     ]
    },
    {
     "data": {
      "application/vnd.jupyter.widget-view+json": {
       "model_id": "f9100ee165884c85a5ce9ef28656ee7d",
       "version_major": 2,
       "version_minor": 0
      },
      "text/plain": [
       "Running Simulation :   0%|          | 0/200 [00:00<?, ?it/s]"
      ]
     },
     "metadata": {},
     "output_type": "display_data"
    },
    {
     "name": "stdout",
     "output_type": "stream",
     "text": [
      "Target: 1\n",
      "Currents: 0.0\n",
      "Training \n",
      "\n",
      "\n",
      "Drain 6 Only\n"
     ]
    },
    {
     "data": {
      "application/vnd.jupyter.widget-view+json": {
       "model_id": "47989ebfa10f4c3e97487f0f41f0afa7",
       "version_major": 2,
       "version_minor": 0
      },
      "text/plain": [
       "Running Simulation :   0%|          | 0/200 [00:00<?, ?it/s]"
      ]
     },
     "metadata": {},
     "output_type": "display_data"
    },
    {
     "name": "stdout",
     "output_type": "stream",
     "text": [
      "Target: 1\n",
      "Currents: 0.0\n",
      "Training \n",
      "\n",
      "\n",
      "Drain 7 Only\n"
     ]
    },
    {
     "data": {
      "application/vnd.jupyter.widget-view+json": {
       "model_id": "14a85881887a4932b2d3aa0ac86014c3",
       "version_major": 2,
       "version_minor": 0
      },
      "text/plain": [
       "Running Simulation :   0%|          | 0/200 [00:00<?, ?it/s]"
      ]
     },
     "metadata": {},
     "output_type": "display_data"
    },
    {
     "name": "stdout",
     "output_type": "stream",
     "text": [
      "Target: 1\n",
      "Currents: 0.0\n",
      "Training \n",
      "\n",
      "\n",
      "Drain 3 Only\n"
     ]
    },
    {
     "data": {
      "application/vnd.jupyter.widget-view+json": {
       "model_id": "d97b1c24d45c4ed8b86447e8489daac6",
       "version_major": 2,
       "version_minor": 0
      },
      "text/plain": [
       "Running Simulation :   0%|          | 0/200 [00:00<?, ?it/s]"
      ]
     },
     "metadata": {},
     "output_type": "display_data"
    },
    {
     "name": "stdout",
     "output_type": "stream",
     "text": [
      "Target: 1\n",
      "Currents: 0.0\n",
      "Training \n",
      "\n",
      "\n",
      "Drain 4 Only\n"
     ]
    },
    {
     "data": {
      "application/vnd.jupyter.widget-view+json": {
       "model_id": "2fe240a48d5d41a481e2f164922479a8",
       "version_major": 2,
       "version_minor": 0
      },
      "text/plain": [
       "Running Simulation :   0%|          | 0/200 [00:00<?, ?it/s]"
      ]
     },
     "metadata": {},
     "output_type": "display_data"
    },
    {
     "name": "stdout",
     "output_type": "stream",
     "text": [
      "Target: 1\n",
      "Currents: 0.0\n",
      "\n",
      "All Drains\n"
     ]
    },
    {
     "data": {
      "application/vnd.jupyter.widget-view+json": {
       "model_id": "44b0ffacc329487f8e8c133828c294b0",
       "version_major": 2,
       "version_minor": 0
      },
      "text/plain": [
       "Running Simulation :   0%|          | 0/200 [00:00<?, ?it/s]"
      ]
     },
     "metadata": {},
     "output_type": "display_data"
    },
    {
     "name": "stdout",
     "output_type": "stream",
     "text": [
      "Target: 1\n",
      "Currents: 3.158755354511718e-08\n",
      "Testing \n",
      "\n",
      "Currents: [ 3.15875535e-08  3.14370921e-07  3.97758245e-07  2.22883204e-07\n",
      "  3.24775185e-08  1.76246733e-07  1.76585723e-07 -1.49742922e-06\n",
      " -4.49309813e-06]\n",
      "Target: 1.0\n",
      "Accuracy: 0\n",
      "New Target Threshold:5e-06\n",
      "Training \n",
      "\n",
      "\n",
      "Drain 7 Only\n"
     ]
    },
    {
     "data": {
      "application/vnd.jupyter.widget-view+json": {
       "model_id": "ac343b5384354b74baed80cf4468a8a4",
       "version_major": 2,
       "version_minor": 0
      },
      "text/plain": [
       "Running Simulation :   0%|          | 0/200 [00:00<?, ?it/s]"
      ]
     },
     "metadata": {},
     "output_type": "display_data"
    },
    {
     "name": "stdout",
     "output_type": "stream",
     "text": [
      "Target: 1\n",
      "Currents: 0.0\n",
      "Training \n",
      "\n",
      "\n",
      "Drain 4 Only\n"
     ]
    },
    {
     "data": {
      "application/vnd.jupyter.widget-view+json": {
       "model_id": "3581db2ad44d4634bfb5cc96a89e72ad",
       "version_major": 2,
       "version_minor": 0
      },
      "text/plain": [
       "Running Simulation :   0%|          | 0/200 [00:00<?, ?it/s]"
      ]
     },
     "metadata": {},
     "output_type": "display_data"
    },
    {
     "name": "stdout",
     "output_type": "stream",
     "text": [
      "Target: 1\n",
      "Currents: 0.0\n",
      "Training \n",
      "\n",
      "\n",
      "Drain 3 Only\n"
     ]
    },
    {
     "data": {
      "application/vnd.jupyter.widget-view+json": {
       "model_id": "4efaeb60512c415bb4a5da1bab198c14",
       "version_major": 2,
       "version_minor": 0
      },
      "text/plain": [
       "Running Simulation :   0%|          | 0/200 [00:00<?, ?it/s]"
      ]
     },
     "metadata": {},
     "output_type": "display_data"
    },
    {
     "name": "stdout",
     "output_type": "stream",
     "text": [
      "Target: 1\n",
      "Currents: 0.0\n",
      "Training \n",
      "\n",
      "\n",
      "Drain 2 Only\n"
     ]
    },
    {
     "data": {
      "application/vnd.jupyter.widget-view+json": {
       "model_id": "2444ea46e24b4f818a4eab61d23a7953",
       "version_major": 2,
       "version_minor": 0
      },
      "text/plain": [
       "Running Simulation :   0%|          | 0/200 [00:00<?, ?it/s]"
      ]
     },
     "metadata": {},
     "output_type": "display_data"
    },
    {
     "name": "stdout",
     "output_type": "stream",
     "text": [
      "Target: 1\n",
      "Currents: 0.0\n",
      "Training \n",
      "\n",
      "\n",
      "Drain 5 Only\n"
     ]
    },
    {
     "data": {
      "application/vnd.jupyter.widget-view+json": {
       "model_id": "f7e9bf94578c45109b4ff8d748f4e969",
       "version_major": 2,
       "version_minor": 0
      },
      "text/plain": [
       "Running Simulation :   0%|          | 0/200 [00:00<?, ?it/s]"
      ]
     },
     "metadata": {},
     "output_type": "display_data"
    },
    {
     "name": "stdout",
     "output_type": "stream",
     "text": [
      "Target: 1\n",
      "Currents: 0.0\n",
      "Training \n",
      "\n",
      "\n",
      "Drain 1 Only\n"
     ]
    },
    {
     "data": {
      "application/vnd.jupyter.widget-view+json": {
       "model_id": "dc0620496e314b1782e30a4e288c7b5b",
       "version_major": 2,
       "version_minor": 0
      },
      "text/plain": [
       "Running Simulation :   0%|          | 0/200 [00:00<?, ?it/s]"
      ]
     },
     "metadata": {},
     "output_type": "display_data"
    },
    {
     "name": "stdout",
     "output_type": "stream",
     "text": [
      "Target: 1\n",
      "Currents: 0.0\n",
      "Training \n",
      "\n",
      "\n",
      "Drain 6 Only\n"
     ]
    },
    {
     "data": {
      "application/vnd.jupyter.widget-view+json": {
       "model_id": "0733aed39fd346b08e3a988c28dd8f22",
       "version_major": 2,
       "version_minor": 0
      },
      "text/plain": [
       "Running Simulation :   0%|          | 0/200 [00:00<?, ?it/s]"
      ]
     },
     "metadata": {},
     "output_type": "display_data"
    },
    {
     "name": "stdout",
     "output_type": "stream",
     "text": [
      "Target: 1\n",
      "Currents: 0.0\n",
      "\n",
      "All Drains\n"
     ]
    },
    {
     "data": {
      "application/vnd.jupyter.widget-view+json": {
       "model_id": "793b8b6ee20b4a35a157ae470c8d5491",
       "version_major": 2,
       "version_minor": 0
      },
      "text/plain": [
       "Running Simulation :   0%|          | 0/200 [00:00<?, ?it/s]"
      ]
     },
     "metadata": {},
     "output_type": "display_data"
    },
    {
     "name": "stdout",
     "output_type": "stream",
     "text": [
      "Target: 1\n",
      "Currents: 3.238753293430685e-07\n",
      "Testing \n",
      "\n",
      "Currents: [ 3.23875329e-07  3.23966800e-07  4.64791103e-08  1.84598290e-08\n",
      "  1.68231119e-07  1.47982091e-07  1.47092217e-07 -1.93052872e-06\n",
      " -4.12656720e-06]\n",
      "Target: 1.0\n",
      "Accuracy: 0\n",
      "New Target Threshold:5e-06\n",
      "Training \n",
      "\n",
      "\n",
      "Drain 1 Only\n"
     ]
    },
    {
     "data": {
      "application/vnd.jupyter.widget-view+json": {
       "model_id": "c2b0fc711b734b61ac182604c5c70d2f",
       "version_major": 2,
       "version_minor": 0
      },
      "text/plain": [
       "Running Simulation :   0%|          | 0/200 [00:00<?, ?it/s]"
      ]
     },
     "metadata": {},
     "output_type": "display_data"
    },
    {
     "name": "stdout",
     "output_type": "stream",
     "text": [
      "Target: 1\n",
      "Currents: 0.0\n",
      "Training \n",
      "\n",
      "\n",
      "Drain 4 Only\n"
     ]
    },
    {
     "data": {
      "application/vnd.jupyter.widget-view+json": {
       "model_id": "8605638c95b049f9910f744daadaec49",
       "version_major": 2,
       "version_minor": 0
      },
      "text/plain": [
       "Running Simulation :   0%|          | 0/200 [00:00<?, ?it/s]"
      ]
     },
     "metadata": {},
     "output_type": "display_data"
    },
    {
     "name": "stdout",
     "output_type": "stream",
     "text": [
      "Target: 1\n",
      "Currents: 0.0\n",
      "Training \n",
      "\n",
      "\n",
      "Drain 7 Only\n"
     ]
    },
    {
     "data": {
      "application/vnd.jupyter.widget-view+json": {
       "model_id": "357536b847a943a5a37a4c95052d9a0a",
       "version_major": 2,
       "version_minor": 0
      },
      "text/plain": [
       "Running Simulation :   0%|          | 0/200 [00:00<?, ?it/s]"
      ]
     },
     "metadata": {},
     "output_type": "display_data"
    },
    {
     "name": "stdout",
     "output_type": "stream",
     "text": [
      "Target: 1\n",
      "Currents: 0.0\n",
      "Training \n",
      "\n",
      "\n",
      "Drain 2 Only\n"
     ]
    },
    {
     "data": {
      "application/vnd.jupyter.widget-view+json": {
       "model_id": "c3f339eb5800424c9511636750bc439d",
       "version_major": 2,
       "version_minor": 0
      },
      "text/plain": [
       "Running Simulation :   0%|          | 0/200 [00:00<?, ?it/s]"
      ]
     },
     "metadata": {},
     "output_type": "display_data"
    },
    {
     "name": "stdout",
     "output_type": "stream",
     "text": [
      "Target: 1\n",
      "Currents: 0.0\n",
      "Training \n",
      "\n",
      "\n",
      "Drain 5 Only\n"
     ]
    },
    {
     "data": {
      "application/vnd.jupyter.widget-view+json": {
       "model_id": "34466bbd3668421ebce6e1ebd2bb43ce",
       "version_major": 2,
       "version_minor": 0
      },
      "text/plain": [
       "Running Simulation :   0%|          | 0/200 [00:00<?, ?it/s]"
      ]
     },
     "metadata": {},
     "output_type": "display_data"
    },
    {
     "name": "stdout",
     "output_type": "stream",
     "text": [
      "Target: 1\n",
      "Currents: 0.0\n",
      "Training \n",
      "\n",
      "\n",
      "Drain 3 Only\n"
     ]
    },
    {
     "data": {
      "application/vnd.jupyter.widget-view+json": {
       "model_id": "243036b771d14fa9a2193624d8a3cbf2",
       "version_major": 2,
       "version_minor": 0
      },
      "text/plain": [
       "Running Simulation :   0%|          | 0/200 [00:00<?, ?it/s]"
      ]
     },
     "metadata": {},
     "output_type": "display_data"
    },
    {
     "name": "stdout",
     "output_type": "stream",
     "text": [
      "Target: 1\n",
      "Currents: 0.0\n",
      "Training \n",
      "\n",
      "\n",
      "Drain 6 Only\n"
     ]
    },
    {
     "data": {
      "application/vnd.jupyter.widget-view+json": {
       "model_id": "a04c996887784f79bf82b365329437f4",
       "version_major": 2,
       "version_minor": 0
      },
      "text/plain": [
       "Running Simulation :   0%|          | 0/200 [00:00<?, ?it/s]"
      ]
     },
     "metadata": {},
     "output_type": "display_data"
    },
    {
     "name": "stdout",
     "output_type": "stream",
     "text": [
      "Target: 1\n",
      "Currents: 0.0\n",
      "\n",
      "All Drains\n"
     ]
    },
    {
     "data": {
      "application/vnd.jupyter.widget-view+json": {
       "model_id": "0e53d518a55042a0926b19efd5c36a6c",
       "version_major": 2,
       "version_minor": 0
      },
      "text/plain": [
       "Running Simulation :   0%|          | 0/200 [00:00<?, ?it/s]"
      ]
     },
     "metadata": {},
     "output_type": "display_data"
    },
    {
     "name": "stdout",
     "output_type": "stream",
     "text": [
      "Target: 1\n",
      "Currents: 3.3226358953130856e-08\n",
      "Testing \n",
      "\n",
      "Currents: [ 3.32263590e-08  4.47796320e-07  2.37125324e-07  2.19010233e-08\n",
      "  1.08918774e-07  1.07795476e-07  1.07779893e-07 -1.75155944e-06\n",
      " -4.24748012e-06]\n",
      "Target: 1.0\n",
      "Accuracy: 0\n",
      "New Target Threshold:5e-06\n",
      "Training \n",
      "\n",
      "\n",
      "Drain 6 Only\n"
     ]
    },
    {
     "data": {
      "application/vnd.jupyter.widget-view+json": {
       "model_id": "67b5f43c0e99459e955e63046cee792a",
       "version_major": 2,
       "version_minor": 0
      },
      "text/plain": [
       "Running Simulation :   0%|          | 0/200 [00:00<?, ?it/s]"
      ]
     },
     "metadata": {},
     "output_type": "display_data"
    },
    {
     "name": "stdout",
     "output_type": "stream",
     "text": [
      "Target: 1\n",
      "Currents: 0.0\n",
      "Training \n",
      "\n",
      "\n",
      "Drain 7 Only\n"
     ]
    },
    {
     "data": {
      "application/vnd.jupyter.widget-view+json": {
       "model_id": "c7d471a46da8433cb801481c6ff6563c",
       "version_major": 2,
       "version_minor": 0
      },
      "text/plain": [
       "Running Simulation :   0%|          | 0/200 [00:00<?, ?it/s]"
      ]
     },
     "metadata": {},
     "output_type": "display_data"
    },
    {
     "name": "stdout",
     "output_type": "stream",
     "text": [
      "Target: 1\n",
      "Currents: 0.0\n",
      "Training \n",
      "\n",
      "\n",
      "Drain 4 Only\n"
     ]
    },
    {
     "data": {
      "application/vnd.jupyter.widget-view+json": {
       "model_id": "f36b3be0e16a46218d19f90dfc685b4e",
       "version_major": 2,
       "version_minor": 0
      },
      "text/plain": [
       "Running Simulation :   0%|          | 0/200 [00:00<?, ?it/s]"
      ]
     },
     "metadata": {},
     "output_type": "display_data"
    },
    {
     "name": "stdout",
     "output_type": "stream",
     "text": [
      "Target: 1\n",
      "Currents: 0.0\n",
      "Training \n",
      "\n",
      "\n",
      "Drain 3 Only\n"
     ]
    },
    {
     "data": {
      "application/vnd.jupyter.widget-view+json": {
       "model_id": "42bd1df8dd384946a10da385b3aab452",
       "version_major": 2,
       "version_minor": 0
      },
      "text/plain": [
       "Running Simulation :   0%|          | 0/200 [00:00<?, ?it/s]"
      ]
     },
     "metadata": {},
     "output_type": "display_data"
    },
    {
     "name": "stdout",
     "output_type": "stream",
     "text": [
      "Target: 1\n",
      "Currents: 0.0\n",
      "Training \n",
      "\n",
      "\n",
      "Drain 5 Only\n"
     ]
    },
    {
     "data": {
      "application/vnd.jupyter.widget-view+json": {
       "model_id": "729cfc159df4453abb37208f8d518947",
       "version_major": 2,
       "version_minor": 0
      },
      "text/plain": [
       "Running Simulation :   0%|          | 0/200 [00:00<?, ?it/s]"
      ]
     },
     "metadata": {},
     "output_type": "display_data"
    },
    {
     "name": "stdout",
     "output_type": "stream",
     "text": [
      "Target: 1\n",
      "Currents: 0.0\n",
      "Training \n",
      "\n",
      "\n",
      "Drain 2 Only\n"
     ]
    },
    {
     "data": {
      "application/vnd.jupyter.widget-view+json": {
       "model_id": "83daad4d0fa543f69d19cbc5ddb8a4cb",
       "version_major": 2,
       "version_minor": 0
      },
      "text/plain": [
       "Running Simulation :   0%|          | 0/200 [00:00<?, ?it/s]"
      ]
     },
     "metadata": {},
     "output_type": "display_data"
    },
    {
     "name": "stdout",
     "output_type": "stream",
     "text": [
      "Target: 1\n",
      "Currents: 0.0\n",
      "Training \n",
      "\n",
      "\n",
      "Drain 1 Only\n"
     ]
    },
    {
     "data": {
      "application/vnd.jupyter.widget-view+json": {
       "model_id": "ada0cc34e5a44e62af8cdca1519b4734",
       "version_major": 2,
       "version_minor": 0
      },
      "text/plain": [
       "Running Simulation :   0%|          | 0/200 [00:00<?, ?it/s]"
      ]
     },
     "metadata": {},
     "output_type": "display_data"
    },
    {
     "name": "stdout",
     "output_type": "stream",
     "text": [
      "Target: 1\n",
      "Currents: 0.0\n",
      "\n",
      "All Drains\n"
     ]
    },
    {
     "data": {
      "application/vnd.jupyter.widget-view+json": {
       "model_id": "8f9991c2a0f1413c94b61b41e8cf4228",
       "version_major": 2,
       "version_minor": 0
      },
      "text/plain": [
       "Running Simulation :   0%|          | 0/200 [00:00<?, ?it/s]"
      ]
     },
     "metadata": {},
     "output_type": "display_data"
    },
    {
     "name": "stdout",
     "output_type": "stream",
     "text": [
      "Target: 1\n",
      "Currents: 3.56966167209176e-07\n",
      "Testing \n",
      "\n",
      "Currents: [ 3.56966167e-07  4.27330573e-07  5.68460981e-08  2.71105352e-08\n",
      "  1.46663948e-07  1.40075957e-07  1.41273584e-07 -2.38060541e-06\n",
      " -3.80986899e-06]\n",
      "Target: 1.0\n",
      "Accuracy: 0\n",
      "New Target Threshold:5e-06\n",
      "Training \n",
      "\n",
      "\n",
      "Drain 4 Only\n"
     ]
    },
    {
     "data": {
      "application/vnd.jupyter.widget-view+json": {
       "model_id": "22292a92d1c54dc3b8dfea26c0cf8aa3",
       "version_major": 2,
       "version_minor": 0
      },
      "text/plain": [
       "Running Simulation :   0%|          | 0/200 [00:00<?, ?it/s]"
      ]
     },
     "metadata": {},
     "output_type": "display_data"
    },
    {
     "name": "stdout",
     "output_type": "stream",
     "text": [
      "Target: 1\n",
      "Currents: 0.0\n",
      "Training \n",
      "\n",
      "\n",
      "Drain 6 Only\n"
     ]
    },
    {
     "data": {
      "application/vnd.jupyter.widget-view+json": {
       "model_id": "d91c59d4a1fe4a479ade779b3dc6c127",
       "version_major": 2,
       "version_minor": 0
      },
      "text/plain": [
       "Running Simulation :   0%|          | 0/200 [00:00<?, ?it/s]"
      ]
     },
     "metadata": {},
     "output_type": "display_data"
    },
    {
     "name": "stdout",
     "output_type": "stream",
     "text": [
      "Target: 1\n",
      "Currents: 0.0\n",
      "Training \n",
      "\n",
      "\n",
      "Drain 5 Only\n"
     ]
    },
    {
     "data": {
      "application/vnd.jupyter.widget-view+json": {
       "model_id": "84407d70d3c54366be67f5bbbd74134f",
       "version_major": 2,
       "version_minor": 0
      },
      "text/plain": [
       "Running Simulation :   0%|          | 0/200 [00:00<?, ?it/s]"
      ]
     },
     "metadata": {},
     "output_type": "display_data"
    },
    {
     "name": "stdout",
     "output_type": "stream",
     "text": [
      "Target: 1\n",
      "Currents: 0.0\n",
      "Training \n",
      "\n",
      "\n",
      "Drain 2 Only\n"
     ]
    },
    {
     "data": {
      "application/vnd.jupyter.widget-view+json": {
       "model_id": "f372c4f658994d27a41a70f1a4802494",
       "version_major": 2,
       "version_minor": 0
      },
      "text/plain": [
       "Running Simulation :   0%|          | 0/200 [00:00<?, ?it/s]"
      ]
     },
     "metadata": {},
     "output_type": "display_data"
    },
    {
     "name": "stdout",
     "output_type": "stream",
     "text": [
      "Target: 1\n",
      "Currents: 0.0\n",
      "Training \n",
      "\n",
      "\n",
      "Drain 7 Only\n"
     ]
    },
    {
     "data": {
      "application/vnd.jupyter.widget-view+json": {
       "model_id": "d8cdb5ccd01a4f669dece3add64afa07",
       "version_major": 2,
       "version_minor": 0
      },
      "text/plain": [
       "Running Simulation :   0%|          | 0/200 [00:00<?, ?it/s]"
      ]
     },
     "metadata": {},
     "output_type": "display_data"
    },
    {
     "name": "stdout",
     "output_type": "stream",
     "text": [
      "Target: 1\n",
      "Currents: 0.0\n",
      "Training \n",
      "\n",
      "\n",
      "Drain 3 Only\n"
     ]
    },
    {
     "data": {
      "application/vnd.jupyter.widget-view+json": {
       "model_id": "cd070d2698d449a3a5358fd7fe6bf0e6",
       "version_major": 2,
       "version_minor": 0
      },
      "text/plain": [
       "Running Simulation :   0%|          | 0/200 [00:00<?, ?it/s]"
      ]
     },
     "metadata": {},
     "output_type": "display_data"
    },
    {
     "name": "stdout",
     "output_type": "stream",
     "text": [
      "Target: 1\n",
      "Currents: 0.0\n",
      "Training \n",
      "\n",
      "\n",
      "Drain 1 Only\n"
     ]
    },
    {
     "data": {
      "application/vnd.jupyter.widget-view+json": {
       "model_id": "f72a31c3ae5a41d18ddc54a37ded79bf",
       "version_major": 2,
       "version_minor": 0
      },
      "text/plain": [
       "Running Simulation :   0%|          | 0/200 [00:00<?, ?it/s]"
      ]
     },
     "metadata": {},
     "output_type": "display_data"
    },
    {
     "name": "stdout",
     "output_type": "stream",
     "text": [
      "Target: 1\n",
      "Currents: 0.0\n",
      "\n",
      "All Drains\n"
     ]
    },
    {
     "data": {
      "application/vnd.jupyter.widget-view+json": {
       "model_id": "fe3d3ea03188467aaf55d7fa634436ae",
       "version_major": 2,
       "version_minor": 0
      },
      "text/plain": [
       "Running Simulation :   0%|          | 0/200 [00:00<?, ?it/s]"
      ]
     },
     "metadata": {},
     "output_type": "display_data"
    },
    {
     "name": "stdout",
     "output_type": "stream",
     "text": [
      "Target: 1\n",
      "Currents: 3.687656229899239e-07\n",
      "Testing \n",
      "\n",
      "Currents: [ 3.68765623e-07  2.44319788e-07  2.99429224e-07  1.37744594e-08\n",
      "  6.32587478e-08  1.69017371e-07  1.73302674e-07 -1.59492422e-06\n",
      " -4.53630956e-06]\n",
      "Target: 1.0\n",
      "Accuracy: 1\n",
      "New Target Threshold:5e-06\n",
      "Training \n",
      "\n",
      "\n",
      "Drain 3 Only\n"
     ]
    },
    {
     "data": {
      "application/vnd.jupyter.widget-view+json": {
       "model_id": "5ca407a241cc4e51a1bda04c6ff908a3",
       "version_major": 2,
       "version_minor": 0
      },
      "text/plain": [
       "Running Simulation :   0%|          | 0/200 [00:00<?, ?it/s]"
      ]
     },
     "metadata": {},
     "output_type": "display_data"
    },
    {
     "name": "stdout",
     "output_type": "stream",
     "text": [
      "Target: 1\n",
      "Currents: 0.0\n",
      "Training \n",
      "\n",
      "\n",
      "Drain 1 Only\n"
     ]
    },
    {
     "data": {
      "application/vnd.jupyter.widget-view+json": {
       "model_id": "4954d0cd48b548839b42cab7a78560a2",
       "version_major": 2,
       "version_minor": 0
      },
      "text/plain": [
       "Running Simulation :   0%|          | 0/200 [00:00<?, ?it/s]"
      ]
     },
     "metadata": {},
     "output_type": "display_data"
    },
    {
     "name": "stdout",
     "output_type": "stream",
     "text": [
      "Target: 1\n",
      "Currents: 0.0\n",
      "Training \n",
      "\n",
      "\n",
      "Drain 5 Only\n"
     ]
    },
    {
     "data": {
      "application/vnd.jupyter.widget-view+json": {
       "model_id": "2008b16c7688433487f3716f72c08aa2",
       "version_major": 2,
       "version_minor": 0
      },
      "text/plain": [
       "Running Simulation :   0%|          | 0/200 [00:00<?, ?it/s]"
      ]
     },
     "metadata": {},
     "output_type": "display_data"
    },
    {
     "name": "stdout",
     "output_type": "stream",
     "text": [
      "Target: 1\n",
      "Currents: 0.0\n",
      "Training \n",
      "\n",
      "\n",
      "Drain 2 Only\n"
     ]
    },
    {
     "data": {
      "application/vnd.jupyter.widget-view+json": {
       "model_id": "b6e7b3cde2b943f986f81ced056186bf",
       "version_major": 2,
       "version_minor": 0
      },
      "text/plain": [
       "Running Simulation :   0%|          | 0/200 [00:00<?, ?it/s]"
      ]
     },
     "metadata": {},
     "output_type": "display_data"
    },
    {
     "name": "stdout",
     "output_type": "stream",
     "text": [
      "Target: 1\n",
      "Currents: 0.0\n",
      "Training \n",
      "\n",
      "\n",
      "Drain 6 Only\n"
     ]
    },
    {
     "data": {
      "application/vnd.jupyter.widget-view+json": {
       "model_id": "30f83eab7e474dccb1a1aa6d5201663d",
       "version_major": 2,
       "version_minor": 0
      },
      "text/plain": [
       "Running Simulation :   0%|          | 0/200 [00:00<?, ?it/s]"
      ]
     },
     "metadata": {},
     "output_type": "display_data"
    },
    {
     "name": "stdout",
     "output_type": "stream",
     "text": [
      "Target: 1\n",
      "Currents: 0.0\n",
      "Training \n",
      "\n",
      "\n",
      "Drain 7 Only\n"
     ]
    },
    {
     "data": {
      "application/vnd.jupyter.widget-view+json": {
       "model_id": "e03329705ff849e7aa4e2c79fa2705d9",
       "version_major": 2,
       "version_minor": 0
      },
      "text/plain": [
       "Running Simulation :   0%|          | 0/200 [00:00<?, ?it/s]"
      ]
     },
     "metadata": {},
     "output_type": "display_data"
    },
    {
     "name": "stdout",
     "output_type": "stream",
     "text": [
      "Target: 1\n",
      "Currents: 0.0\n",
      "Training \n",
      "\n",
      "\n",
      "Drain 4 Only\n"
     ]
    },
    {
     "data": {
      "application/vnd.jupyter.widget-view+json": {
       "model_id": "ac338053d35f4824a87eb33def34e39f",
       "version_major": 2,
       "version_minor": 0
      },
      "text/plain": [
       "Running Simulation :   0%|          | 0/200 [00:00<?, ?it/s]"
      ]
     },
     "metadata": {},
     "output_type": "display_data"
    },
    {
     "name": "stdout",
     "output_type": "stream",
     "text": [
      "Target: 1\n",
      "Currents: 0.0\n",
      "\n",
      "All Drains\n"
     ]
    },
    {
     "data": {
      "application/vnd.jupyter.widget-view+json": {
       "model_id": "36b404c251314c6c8fde1ff2e089a26d",
       "version_major": 2,
       "version_minor": 0
      },
      "text/plain": [
       "Running Simulation :   0%|          | 0/200 [00:00<?, ?it/s]"
      ]
     },
     "metadata": {},
     "output_type": "display_data"
    },
    {
     "name": "stdout",
     "output_type": "stream",
     "text": [
      "Target: 1\n",
      "Currents: 5.704482515617544e-08\n",
      "Testing \n",
      "\n",
      "Currents: [ 5.70448252e-08  3.05128046e-07  2.09986734e-08  4.59587933e-07\n",
      "  4.38066066e-08  9.27151751e-08  9.34155404e-08 -1.11035188e-06\n",
      " -4.77110499e-06]\n",
      "Target: 1.0\n",
      "Accuracy: 0\n",
      "New Target Threshold:5e-06\n",
      "Training \n",
      "\n",
      "\n",
      "Drain 2 Only\n"
     ]
    },
    {
     "data": {
      "application/vnd.jupyter.widget-view+json": {
       "model_id": "efcda4e9c9ff490abc3a137a5197f54d",
       "version_major": 2,
       "version_minor": 0
      },
      "text/plain": [
       "Running Simulation :   0%|          | 0/200 [00:00<?, ?it/s]"
      ]
     },
     "metadata": {},
     "output_type": "display_data"
    },
    {
     "name": "stdout",
     "output_type": "stream",
     "text": [
      "Target: 1\n",
      "Currents: 0.0\n",
      "Training \n",
      "\n",
      "\n",
      "Drain 1 Only\n"
     ]
    },
    {
     "data": {
      "application/vnd.jupyter.widget-view+json": {
       "model_id": "793bf3a4495246309fdbd82ab6ef0245",
       "version_major": 2,
       "version_minor": 0
      },
      "text/plain": [
       "Running Simulation :   0%|          | 0/200 [00:00<?, ?it/s]"
      ]
     },
     "metadata": {},
     "output_type": "display_data"
    },
    {
     "name": "stdout",
     "output_type": "stream",
     "text": [
      "Target: 1\n",
      "Currents: 0.0\n",
      "Training \n",
      "\n",
      "\n",
      "Drain 4 Only\n"
     ]
    },
    {
     "data": {
      "application/vnd.jupyter.widget-view+json": {
       "model_id": "e200fe06ca84462fa9b77e63c856adf9",
       "version_major": 2,
       "version_minor": 0
      },
      "text/plain": [
       "Running Simulation :   0%|          | 0/200 [00:00<?, ?it/s]"
      ]
     },
     "metadata": {},
     "output_type": "display_data"
    },
    {
     "name": "stdout",
     "output_type": "stream",
     "text": [
      "Target: 1\n",
      "Currents: 0.0\n",
      "Training \n",
      "\n",
      "\n",
      "Drain 7 Only\n"
     ]
    },
    {
     "data": {
      "application/vnd.jupyter.widget-view+json": {
       "model_id": "2525ad0541854e80bb64da1eadd4b91c",
       "version_major": 2,
       "version_minor": 0
      },
      "text/plain": [
       "Running Simulation :   0%|          | 0/200 [00:00<?, ?it/s]"
      ]
     },
     "metadata": {},
     "output_type": "display_data"
    },
    {
     "name": "stdout",
     "output_type": "stream",
     "text": [
      "Target: 1\n",
      "Currents: 0.0\n",
      "Training \n",
      "\n",
      "\n",
      "Drain 3 Only\n"
     ]
    },
    {
     "data": {
      "application/vnd.jupyter.widget-view+json": {
       "model_id": "a800dcc2f6c24740b530a10a05fee13d",
       "version_major": 2,
       "version_minor": 0
      },
      "text/plain": [
       "Running Simulation :   0%|          | 0/200 [00:00<?, ?it/s]"
      ]
     },
     "metadata": {},
     "output_type": "display_data"
    },
    {
     "name": "stdout",
     "output_type": "stream",
     "text": [
      "Target: 1\n",
      "Currents: 0.0\n",
      "Training \n",
      "\n",
      "\n",
      "Drain 5 Only\n"
     ]
    },
    {
     "data": {
      "application/vnd.jupyter.widget-view+json": {
       "model_id": "760b1433464d40129d1caf19ce5664e3",
       "version_major": 2,
       "version_minor": 0
      },
      "text/plain": [
       "Running Simulation :   0%|          | 0/200 [00:00<?, ?it/s]"
      ]
     },
     "metadata": {},
     "output_type": "display_data"
    },
    {
     "name": "stdout",
     "output_type": "stream",
     "text": [
      "Target: 1\n",
      "Currents: 0.0\n",
      "Training \n",
      "\n",
      "\n",
      "Drain 6 Only\n"
     ]
    },
    {
     "data": {
      "application/vnd.jupyter.widget-view+json": {
       "model_id": "399f033c32714f96bcd04896308e3c3b",
       "version_major": 2,
       "version_minor": 0
      },
      "text/plain": [
       "Running Simulation :   0%|          | 0/200 [00:00<?, ?it/s]"
      ]
     },
     "metadata": {},
     "output_type": "display_data"
    },
    {
     "name": "stdout",
     "output_type": "stream",
     "text": [
      "Target: 1\n",
      "Currents: 0.0\n",
      "\n",
      "All Drains\n"
     ]
    },
    {
     "data": {
      "application/vnd.jupyter.widget-view+json": {
       "model_id": "dea9b4c97b1b4503b9589a653f5124f7",
       "version_major": 2,
       "version_minor": 0
      },
      "text/plain": [
       "Running Simulation :   0%|          | 0/200 [00:00<?, ?it/s]"
      ]
     },
     "metadata": {},
     "output_type": "display_data"
    },
    {
     "name": "stdout",
     "output_type": "stream",
     "text": [
      "Target: 1\n",
      "Currents: 5.93433837831031e-08\n",
      "Testing \n",
      "\n",
      "Currents: [ 5.93433838e-08  7.66937289e-08  1.89255023e-07  4.54539487e-08\n",
      "  1.90584364e-07  1.37795470e-07  1.41976403e-07 -1.50827649e-06\n",
      " -4.19350511e-06]\n",
      "Target: 1.0\n",
      "Accuracy: 0\n",
      "New Target Threshold:5e-06\n",
      "Training \n",
      "\n",
      "\n",
      "Drain 5 Only\n"
     ]
    },
    {
     "data": {
      "application/vnd.jupyter.widget-view+json": {
       "model_id": "6907dd59d91642b4945eaf47aa58c796",
       "version_major": 2,
       "version_minor": 0
      },
      "text/plain": [
       "Running Simulation :   0%|          | 0/200 [00:00<?, ?it/s]"
      ]
     },
     "metadata": {},
     "output_type": "display_data"
    },
    {
     "name": "stdout",
     "output_type": "stream",
     "text": [
      "Target: 1\n",
      "Currents: 0.0\n",
      "Training \n",
      "\n",
      "\n",
      "Drain 1 Only\n"
     ]
    },
    {
     "data": {
      "application/vnd.jupyter.widget-view+json": {
       "model_id": "ea59aad3ed6845e2bdbc50f62c0dc371",
       "version_major": 2,
       "version_minor": 0
      },
      "text/plain": [
       "Running Simulation :   0%|          | 0/200 [00:00<?, ?it/s]"
      ]
     },
     "metadata": {},
     "output_type": "display_data"
    },
    {
     "name": "stdout",
     "output_type": "stream",
     "text": [
      "Target: 1\n",
      "Currents: 0.0\n",
      "Training \n",
      "\n",
      "\n",
      "Drain 7 Only\n"
     ]
    },
    {
     "data": {
      "application/vnd.jupyter.widget-view+json": {
       "model_id": "bb6995e7c0a44c8798bd618329691b39",
       "version_major": 2,
       "version_minor": 0
      },
      "text/plain": [
       "Running Simulation :   0%|          | 0/200 [00:00<?, ?it/s]"
      ]
     },
     "metadata": {},
     "output_type": "display_data"
    },
    {
     "name": "stdout",
     "output_type": "stream",
     "text": [
      "Target: 1\n",
      "Currents: 0.0\n",
      "Training \n",
      "\n",
      "\n",
      "Drain 6 Only\n"
     ]
    },
    {
     "data": {
      "application/vnd.jupyter.widget-view+json": {
       "model_id": "07728da3d68344908fb2df4a4e07826e",
       "version_major": 2,
       "version_minor": 0
      },
      "text/plain": [
       "Running Simulation :   0%|          | 0/200 [00:00<?, ?it/s]"
      ]
     },
     "metadata": {},
     "output_type": "display_data"
    },
    {
     "name": "stdout",
     "output_type": "stream",
     "text": [
      "Target: 1\n",
      "Currents: 0.0\n",
      "Training \n",
      "\n",
      "\n",
      "Drain 3 Only\n"
     ]
    },
    {
     "data": {
      "application/vnd.jupyter.widget-view+json": {
       "model_id": "5eb033434bb04b3989e9640e6ad847ff",
       "version_major": 2,
       "version_minor": 0
      },
      "text/plain": [
       "Running Simulation :   0%|          | 0/200 [00:00<?, ?it/s]"
      ]
     },
     "metadata": {},
     "output_type": "display_data"
    },
    {
     "name": "stdout",
     "output_type": "stream",
     "text": [
      "Target: 1\n",
      "Currents: 0.0\n",
      "Training \n",
      "\n",
      "\n",
      "Drain 4 Only\n"
     ]
    },
    {
     "data": {
      "application/vnd.jupyter.widget-view+json": {
       "model_id": "359453d24f9c4101a234ea893c3856cc",
       "version_major": 2,
       "version_minor": 0
      },
      "text/plain": [
       "Running Simulation :   0%|          | 0/200 [00:00<?, ?it/s]"
      ]
     },
     "metadata": {},
     "output_type": "display_data"
    },
    {
     "name": "stdout",
     "output_type": "stream",
     "text": [
      "Target: 1\n",
      "Currents: 0.0\n",
      "Training \n",
      "\n",
      "\n",
      "Drain 2 Only\n"
     ]
    },
    {
     "data": {
      "application/vnd.jupyter.widget-view+json": {
       "model_id": "06f4dafb67d54f1a853fdfc305af51d6",
       "version_major": 2,
       "version_minor": 0
      },
      "text/plain": [
       "Running Simulation :   0%|          | 0/200 [00:00<?, ?it/s]"
      ]
     },
     "metadata": {},
     "output_type": "display_data"
    },
    {
     "name": "stdout",
     "output_type": "stream",
     "text": [
      "Target: 1\n",
      "Currents: 0.0\n",
      "\n",
      "All Drains\n"
     ]
    },
    {
     "data": {
      "application/vnd.jupyter.widget-view+json": {
       "model_id": "f9ddd02148e64256a4f08223c6e48422",
       "version_major": 2,
       "version_minor": 0
      },
      "text/plain": [
       "Running Simulation :   0%|          | 0/200 [00:00<?, ?it/s]"
      ]
     },
     "metadata": {},
     "output_type": "display_data"
    },
    {
     "name": "stdout",
     "output_type": "stream",
     "text": [
      "Target: 1\n",
      "Currents: 4.887037586756076e-08\n",
      "Testing \n",
      "\n",
      "Currents: [ 4.88703759e-08  5.58045466e-07  1.37609205e-07  1.35691890e-07\n",
      "  2.01044091e-08  1.56649690e-07  1.59917788e-07 -1.68571468e-06\n",
      " -4.24213181e-06]\n",
      "Target: 1.0\n",
      "Accuracy: 0\n",
      "New Target Threshold:5e-06\n",
      "Training \n",
      "\n",
      "\n",
      "Drain 5 Only\n"
     ]
    },
    {
     "data": {
      "application/vnd.jupyter.widget-view+json": {
       "model_id": "8a49887931b54afe99ac1f62815020b8",
       "version_major": 2,
       "version_minor": 0
      },
      "text/plain": [
       "Running Simulation :   0%|          | 0/200 [00:00<?, ?it/s]"
      ]
     },
     "metadata": {},
     "output_type": "display_data"
    },
    {
     "name": "stdout",
     "output_type": "stream",
     "text": [
      "Target: 1\n",
      "Currents: 0.0\n",
      "Training \n",
      "\n",
      "\n",
      "Drain 7 Only\n"
     ]
    },
    {
     "data": {
      "application/vnd.jupyter.widget-view+json": {
       "model_id": "6f6cb764dfd945d9bbe42d52b07defd9",
       "version_major": 2,
       "version_minor": 0
      },
      "text/plain": [
       "Running Simulation :   0%|          | 0/200 [00:00<?, ?it/s]"
      ]
     },
     "metadata": {},
     "output_type": "display_data"
    },
    {
     "name": "stdout",
     "output_type": "stream",
     "text": [
      "Target: 1\n",
      "Currents: 0.0\n",
      "Training \n",
      "\n",
      "\n",
      "Drain 1 Only\n"
     ]
    },
    {
     "data": {
      "application/vnd.jupyter.widget-view+json": {
       "model_id": "d767005665c84c91b2bb5dbc87b2e278",
       "version_major": 2,
       "version_minor": 0
      },
      "text/plain": [
       "Running Simulation :   0%|          | 0/200 [00:00<?, ?it/s]"
      ]
     },
     "metadata": {},
     "output_type": "display_data"
    },
    {
     "name": "stdout",
     "output_type": "stream",
     "text": [
      "Target: 1\n",
      "Currents: 0.0\n",
      "Training \n",
      "\n",
      "\n",
      "Drain 3 Only\n"
     ]
    },
    {
     "data": {
      "application/vnd.jupyter.widget-view+json": {
       "model_id": "533a3512d97242a6821e59cf26bc4980",
       "version_major": 2,
       "version_minor": 0
      },
      "text/plain": [
       "Running Simulation :   0%|          | 0/200 [00:00<?, ?it/s]"
      ]
     },
     "metadata": {},
     "output_type": "display_data"
    },
    {
     "name": "stdout",
     "output_type": "stream",
     "text": [
      "Target: 1\n",
      "Currents: 0.0\n",
      "Training \n",
      "\n",
      "\n",
      "Drain 6 Only\n"
     ]
    },
    {
     "data": {
      "application/vnd.jupyter.widget-view+json": {
       "model_id": "69b1685dbc5246a2b2234cebbd9c79e2",
       "version_major": 2,
       "version_minor": 0
      },
      "text/plain": [
       "Running Simulation :   0%|          | 0/200 [00:00<?, ?it/s]"
      ]
     },
     "metadata": {},
     "output_type": "display_data"
    },
    {
     "name": "stdout",
     "output_type": "stream",
     "text": [
      "Target: 1\n",
      "Currents: 0.0\n",
      "Training \n",
      "\n",
      "\n",
      "Drain 2 Only\n"
     ]
    },
    {
     "data": {
      "application/vnd.jupyter.widget-view+json": {
       "model_id": "dade87609ac9419999629bfa069c5699",
       "version_major": 2,
       "version_minor": 0
      },
      "text/plain": [
       "Running Simulation :   0%|          | 0/200 [00:00<?, ?it/s]"
      ]
     },
     "metadata": {},
     "output_type": "display_data"
    },
    {
     "name": "stdout",
     "output_type": "stream",
     "text": [
      "Target: 1\n",
      "Currents: 0.0\n",
      "Training \n",
      "\n",
      "\n",
      "Drain 4 Only\n"
     ]
    },
    {
     "data": {
      "application/vnd.jupyter.widget-view+json": {
       "model_id": "5c112b07bf4144dc93360b60325cb6e4",
       "version_major": 2,
       "version_minor": 0
      },
      "text/plain": [
       "Running Simulation :   0%|          | 0/200 [00:00<?, ?it/s]"
      ]
     },
     "metadata": {},
     "output_type": "display_data"
    },
    {
     "name": "stdout",
     "output_type": "stream",
     "text": [
      "Target: 1\n",
      "Currents: 0.0\n",
      "\n",
      "All Drains\n"
     ]
    },
    {
     "data": {
      "application/vnd.jupyter.widget-view+json": {
       "model_id": "cae4a98a5d364ec0870d8cd329c96af0",
       "version_major": 2,
       "version_minor": 0
      },
      "text/plain": [
       "Running Simulation :   0%|          | 0/200 [00:00<?, ?it/s]"
      ]
     },
     "metadata": {},
     "output_type": "display_data"
    },
    {
     "name": "stdout",
     "output_type": "stream",
     "text": [
      "Target: 1\n",
      "Currents: 8.039450956577779e-08\n",
      "Testing \n",
      "\n",
      "Currents: [ 8.03945096e-08  5.77833960e-07  8.43353531e-08  2.83242295e-07\n",
      "  1.58224076e-08  1.25903743e-07  1.24883771e-07 -1.61151804e-06\n",
      " -4.43266226e-06]\n",
      "Target: 1.0\n",
      "Accuracy: 0\n",
      "New Target Threshold:5e-06\n",
      "Training \n",
      "\n",
      "\n",
      "Drain 6 Only\n"
     ]
    },
    {
     "data": {
      "application/vnd.jupyter.widget-view+json": {
       "model_id": "3472cbebb67c485c95d1cb65d7c074e4",
       "version_major": 2,
       "version_minor": 0
      },
      "text/plain": [
       "Running Simulation :   0%|          | 0/200 [00:00<?, ?it/s]"
      ]
     },
     "metadata": {},
     "output_type": "display_data"
    },
    {
     "name": "stdout",
     "output_type": "stream",
     "text": [
      "Target: 1\n",
      "Currents: 0.0\n",
      "Training \n",
      "\n",
      "\n",
      "Drain 5 Only\n"
     ]
    },
    {
     "data": {
      "application/vnd.jupyter.widget-view+json": {
       "model_id": "d6e398f5515441409135ca002ec9c92e",
       "version_major": 2,
       "version_minor": 0
      },
      "text/plain": [
       "Running Simulation :   0%|          | 0/200 [00:00<?, ?it/s]"
      ]
     },
     "metadata": {},
     "output_type": "display_data"
    },
    {
     "name": "stdout",
     "output_type": "stream",
     "text": [
      "Target: 1\n",
      "Currents: 0.0\n",
      "Training \n",
      "\n",
      "\n",
      "Drain 3 Only\n"
     ]
    },
    {
     "data": {
      "application/vnd.jupyter.widget-view+json": {
       "model_id": "cfe4446c3e4048af99bfa67280f5bbe8",
       "version_major": 2,
       "version_minor": 0
      },
      "text/plain": [
       "Running Simulation :   0%|          | 0/200 [00:00<?, ?it/s]"
      ]
     },
     "metadata": {},
     "output_type": "display_data"
    },
    {
     "name": "stdout",
     "output_type": "stream",
     "text": [
      "Target: 1\n",
      "Currents: 0.0\n",
      "Training \n",
      "\n",
      "\n",
      "Drain 7 Only\n"
     ]
    },
    {
     "data": {
      "application/vnd.jupyter.widget-view+json": {
       "model_id": "3839525f4dfd4ae4a8ea7d1e1c3fba89",
       "version_major": 2,
       "version_minor": 0
      },
      "text/plain": [
       "Running Simulation :   0%|          | 0/200 [00:00<?, ?it/s]"
      ]
     },
     "metadata": {},
     "output_type": "display_data"
    },
    {
     "name": "stdout",
     "output_type": "stream",
     "text": [
      "Target: 1\n",
      "Currents: 0.0\n",
      "Training \n",
      "\n",
      "\n",
      "Drain 2 Only\n"
     ]
    },
    {
     "data": {
      "application/vnd.jupyter.widget-view+json": {
       "model_id": "0d0fca35d6b949c0876107302bc48de4",
       "version_major": 2,
       "version_minor": 0
      },
      "text/plain": [
       "Running Simulation :   0%|          | 0/200 [00:00<?, ?it/s]"
      ]
     },
     "metadata": {},
     "output_type": "display_data"
    },
    {
     "name": "stdout",
     "output_type": "stream",
     "text": [
      "Target: 1\n",
      "Currents: 0.0\n",
      "Training \n",
      "\n",
      "\n",
      "Drain 4 Only\n"
     ]
    },
    {
     "data": {
      "application/vnd.jupyter.widget-view+json": {
       "model_id": "2b07825588ff4eb7b4aeb950d6e94a64",
       "version_major": 2,
       "version_minor": 0
      },
      "text/plain": [
       "Running Simulation :   0%|          | 0/200 [00:00<?, ?it/s]"
      ]
     },
     "metadata": {},
     "output_type": "display_data"
    },
    {
     "name": "stdout",
     "output_type": "stream",
     "text": [
      "Target: 1\n",
      "Currents: 0.0\n",
      "Training \n",
      "\n",
      "\n",
      "Drain 1 Only\n"
     ]
    },
    {
     "data": {
      "application/vnd.jupyter.widget-view+json": {
       "model_id": "11f8da5ce9fb4aa597eafc7b8c20d169",
       "version_major": 2,
       "version_minor": 0
      },
      "text/plain": [
       "Running Simulation :   0%|          | 0/200 [00:00<?, ?it/s]"
      ]
     },
     "metadata": {},
     "output_type": "display_data"
    },
    {
     "name": "stdout",
     "output_type": "stream",
     "text": [
      "Target: 1\n",
      "Currents: 0.0\n",
      "\n",
      "All Drains\n"
     ]
    },
    {
     "data": {
      "application/vnd.jupyter.widget-view+json": {
       "model_id": "ba110bffd70743fd8183cf6c67f34b03",
       "version_major": 2,
       "version_minor": 0
      },
      "text/plain": [
       "Running Simulation :   0%|          | 0/200 [00:00<?, ?it/s]"
      ]
     },
     "metadata": {},
     "output_type": "display_data"
    },
    {
     "name": "stdout",
     "output_type": "stream",
     "text": [
      "Target: 1\n",
      "Currents: 3.5221538685114355e-07\n",
      "Testing \n",
      "\n",
      "Currents: [ 3.52215387e-07  4.06463049e-07  4.43019796e-08  1.35274607e-07\n",
      "  1.87617157e-08  1.27547860e-07  1.27644237e-07 -1.76742223e-06\n",
      " -4.34164840e-06]\n",
      "Target: 1.0\n",
      "Accuracy: 0\n",
      "New Target Threshold:5e-06\n",
      "Training \n",
      "\n",
      "\n",
      "Drain 7 Only\n"
     ]
    },
    {
     "data": {
      "application/vnd.jupyter.widget-view+json": {
       "model_id": "bb6ac12e08c445d6adfd370b294f52d2",
       "version_major": 2,
       "version_minor": 0
      },
      "text/plain": [
       "Running Simulation :   0%|          | 0/200 [00:00<?, ?it/s]"
      ]
     },
     "metadata": {},
     "output_type": "display_data"
    },
    {
     "name": "stdout",
     "output_type": "stream",
     "text": [
      "Target: 1\n",
      "Currents: 0.0\n",
      "Training \n",
      "\n",
      "\n",
      "Drain 2 Only\n"
     ]
    },
    {
     "data": {
      "application/vnd.jupyter.widget-view+json": {
       "model_id": "2181bf7ac6bc4549ad571d3a1619cd02",
       "version_major": 2,
       "version_minor": 0
      },
      "text/plain": [
       "Running Simulation :   0%|          | 0/200 [00:00<?, ?it/s]"
      ]
     },
     "metadata": {},
     "output_type": "display_data"
    },
    {
     "name": "stdout",
     "output_type": "stream",
     "text": [
      "Target: 1\n",
      "Currents: 0.0\n",
      "Training \n",
      "\n",
      "\n",
      "Drain 4 Only\n"
     ]
    },
    {
     "data": {
      "application/vnd.jupyter.widget-view+json": {
       "model_id": "08608818b3774db883635e35b2415605",
       "version_major": 2,
       "version_minor": 0
      },
      "text/plain": [
       "Running Simulation :   0%|          | 0/200 [00:00<?, ?it/s]"
      ]
     },
     "metadata": {},
     "output_type": "display_data"
    },
    {
     "name": "stdout",
     "output_type": "stream",
     "text": [
      "Target: 1\n",
      "Currents: 0.0\n",
      "Training \n",
      "\n",
      "\n",
      "Drain 1 Only\n"
     ]
    },
    {
     "data": {
      "application/vnd.jupyter.widget-view+json": {
       "model_id": "64acc166fd524d35bc9a92e4c00ee9d7",
       "version_major": 2,
       "version_minor": 0
      },
      "text/plain": [
       "Running Simulation :   0%|          | 0/200 [00:00<?, ?it/s]"
      ]
     },
     "metadata": {},
     "output_type": "display_data"
    },
    {
     "name": "stdout",
     "output_type": "stream",
     "text": [
      "Target: 1\n",
      "Currents: 0.0\n",
      "Training \n",
      "\n",
      "\n",
      "Drain 5 Only\n"
     ]
    },
    {
     "data": {
      "application/vnd.jupyter.widget-view+json": {
       "model_id": "5fe0c7a12704412c8bdea52410334848",
       "version_major": 2,
       "version_minor": 0
      },
      "text/plain": [
       "Running Simulation :   0%|          | 0/200 [00:00<?, ?it/s]"
      ]
     },
     "metadata": {},
     "output_type": "display_data"
    },
    {
     "name": "stdout",
     "output_type": "stream",
     "text": [
      "Target: 1\n",
      "Currents: 0.0\n",
      "Training \n",
      "\n",
      "\n",
      "Drain 6 Only\n"
     ]
    },
    {
     "data": {
      "application/vnd.jupyter.widget-view+json": {
       "model_id": "cc9900df7a0545c4b7fe75ef47f73019",
       "version_major": 2,
       "version_minor": 0
      },
      "text/plain": [
       "Running Simulation :   0%|          | 0/200 [00:00<?, ?it/s]"
      ]
     },
     "metadata": {},
     "output_type": "display_data"
    },
    {
     "name": "stdout",
     "output_type": "stream",
     "text": [
      "Target: 1\n",
      "Currents: 0.0\n",
      "Training \n",
      "\n",
      "\n",
      "Drain 3 Only\n"
     ]
    },
    {
     "data": {
      "application/vnd.jupyter.widget-view+json": {
       "model_id": "76d99d3f106e462faed9f3f2ce21784c",
       "version_major": 2,
       "version_minor": 0
      },
      "text/plain": [
       "Running Simulation :   0%|          | 0/200 [00:00<?, ?it/s]"
      ]
     },
     "metadata": {},
     "output_type": "display_data"
    },
    {
     "name": "stdout",
     "output_type": "stream",
     "text": [
      "Target: 1\n",
      "Currents: 0.0\n",
      "\n",
      "All Drains\n"
     ]
    },
    {
     "data": {
      "application/vnd.jupyter.widget-view+json": {
       "model_id": "0f33d1cfc69540f6b54324aa6365e563",
       "version_major": 2,
       "version_minor": 0
      },
      "text/plain": [
       "Running Simulation :   0%|          | 0/200 [00:00<?, ?it/s]"
      ]
     },
     "metadata": {},
     "output_type": "display_data"
    },
    {
     "name": "stdout",
     "output_type": "stream",
     "text": [
      "Target: 1\n",
      "Currents: 1.2052618315533338e-07\n",
      "Testing \n",
      "\n",
      "Currents: [ 1.20526183e-07  1.34027356e-07  4.98954535e-07  5.03263257e-08\n",
      "  1.47028042e-07  1.51839569e-07  1.52088794e-07 -1.75488474e-06\n",
      " -4.21849959e-06]\n",
      "Target: 1.0\n",
      "Accuracy: 0\n",
      "New Target Threshold:5e-06\n",
      "Training \n",
      "\n",
      "\n",
      "Drain 5 Only\n"
     ]
    },
    {
     "data": {
      "application/vnd.jupyter.widget-view+json": {
       "model_id": "dbb29ea5f29a444fa169ba65bd7750b1",
       "version_major": 2,
       "version_minor": 0
      },
      "text/plain": [
       "Running Simulation :   0%|          | 0/200 [00:00<?, ?it/s]"
      ]
     },
     "metadata": {},
     "output_type": "display_data"
    },
    {
     "name": "stdout",
     "output_type": "stream",
     "text": [
      "Target: 1\n",
      "Currents: 0.0\n",
      "Training \n",
      "\n",
      "\n",
      "Drain 2 Only\n"
     ]
    },
    {
     "data": {
      "application/vnd.jupyter.widget-view+json": {
       "model_id": "2003d8627d7a4f908a3c7463a3de5668",
       "version_major": 2,
       "version_minor": 0
      },
      "text/plain": [
       "Running Simulation :   0%|          | 0/200 [00:00<?, ?it/s]"
      ]
     },
     "metadata": {},
     "output_type": "display_data"
    },
    {
     "name": "stdout",
     "output_type": "stream",
     "text": [
      "Target: 1\n",
      "Currents: 0.0\n",
      "Training \n",
      "\n",
      "\n",
      "Drain 7 Only\n"
     ]
    },
    {
     "data": {
      "application/vnd.jupyter.widget-view+json": {
       "model_id": "7aae0bfb481542f7888032bb5c30213a",
       "version_major": 2,
       "version_minor": 0
      },
      "text/plain": [
       "Running Simulation :   0%|          | 0/200 [00:00<?, ?it/s]"
      ]
     },
     "metadata": {},
     "output_type": "display_data"
    },
    {
     "name": "stdout",
     "output_type": "stream",
     "text": [
      "Target: 1\n",
      "Currents: 0.0\n",
      "Training \n",
      "\n",
      "\n",
      "Drain 1 Only\n"
     ]
    },
    {
     "data": {
      "application/vnd.jupyter.widget-view+json": {
       "model_id": "a95e662223b245d6857a66fdeed374a3",
       "version_major": 2,
       "version_minor": 0
      },
      "text/plain": [
       "Running Simulation :   0%|          | 0/200 [00:00<?, ?it/s]"
      ]
     },
     "metadata": {},
     "output_type": "display_data"
    },
    {
     "name": "stdout",
     "output_type": "stream",
     "text": [
      "Target: 1\n",
      "Currents: 0.0\n",
      "Training \n",
      "\n",
      "\n",
      "Drain 6 Only\n"
     ]
    },
    {
     "data": {
      "application/vnd.jupyter.widget-view+json": {
       "model_id": "0e952f12083a42e8993e170273ab0ed9",
       "version_major": 2,
       "version_minor": 0
      },
      "text/plain": [
       "Running Simulation :   0%|          | 0/200 [00:00<?, ?it/s]"
      ]
     },
     "metadata": {},
     "output_type": "display_data"
    },
    {
     "name": "stdout",
     "output_type": "stream",
     "text": [
      "Target: 1\n",
      "Currents: 0.0\n",
      "Training \n",
      "\n",
      "\n",
      "Drain 4 Only\n"
     ]
    },
    {
     "data": {
      "application/vnd.jupyter.widget-view+json": {
       "model_id": "5ae71cdb737e4e5cb2398f4539509c84",
       "version_major": 2,
       "version_minor": 0
      },
      "text/plain": [
       "Running Simulation :   0%|          | 0/200 [00:00<?, ?it/s]"
      ]
     },
     "metadata": {},
     "output_type": "display_data"
    },
    {
     "name": "stdout",
     "output_type": "stream",
     "text": [
      "Target: 1\n",
      "Currents: 0.0\n",
      "Training \n",
      "\n",
      "\n",
      "Drain 3 Only\n"
     ]
    },
    {
     "data": {
      "application/vnd.jupyter.widget-view+json": {
       "model_id": "5b055563eca44ca1937c8f4cb65b20d9",
       "version_major": 2,
       "version_minor": 0
      },
      "text/plain": [
       "Running Simulation :   0%|          | 0/200 [00:00<?, ?it/s]"
      ]
     },
     "metadata": {},
     "output_type": "display_data"
    },
    {
     "name": "stdout",
     "output_type": "stream",
     "text": [
      "Target: 1\n",
      "Currents: 0.0\n",
      "\n",
      "All Drains\n"
     ]
    },
    {
     "data": {
      "application/vnd.jupyter.widget-view+json": {
       "model_id": "08916f007682413e9f601797d1994bf9",
       "version_major": 2,
       "version_minor": 0
      },
      "text/plain": [
       "Running Simulation :   0%|          | 0/200 [00:00<?, ?it/s]"
      ]
     },
     "metadata": {},
     "output_type": "display_data"
    },
    {
     "name": "stdout",
     "output_type": "stream",
     "text": [
      "Target: 1\n",
      "Currents: 1.8310897773400945e-07\n",
      "Testing \n",
      "\n",
      "Currents: [ 1.83108978e-07  1.60404664e-07  3.41546116e-07  1.94748563e-07\n",
      "  1.67157542e-08  1.32323230e-07  1.33360848e-07 -1.45154099e-06\n",
      " -4.43713297e-06]\n",
      "Target: 1.0\n",
      "Accuracy: 0\n",
      "New Target Threshold:5e-06\n",
      "Training \n",
      "\n",
      "\n",
      "Drain 6 Only\n"
     ]
    },
    {
     "data": {
      "application/vnd.jupyter.widget-view+json": {
       "model_id": "a95c8501bf8a4f7ba1d9425a5d9304b3",
       "version_major": 2,
       "version_minor": 0
      },
      "text/plain": [
       "Running Simulation :   0%|          | 0/200 [00:00<?, ?it/s]"
      ]
     },
     "metadata": {},
     "output_type": "display_data"
    },
    {
     "name": "stdout",
     "output_type": "stream",
     "text": [
      "Target: 1\n",
      "Currents: 0.0\n",
      "Training \n",
      "\n",
      "\n",
      "Drain 2 Only\n"
     ]
    },
    {
     "data": {
      "application/vnd.jupyter.widget-view+json": {
       "model_id": "a2d97b359e96458193fdf64e7952946f",
       "version_major": 2,
       "version_minor": 0
      },
      "text/plain": [
       "Running Simulation :   0%|          | 0/200 [00:00<?, ?it/s]"
      ]
     },
     "metadata": {},
     "output_type": "display_data"
    },
    {
     "name": "stdout",
     "output_type": "stream",
     "text": [
      "Target: 1\n",
      "Currents: 0.0\n",
      "Training \n",
      "\n",
      "\n",
      "Drain 1 Only\n"
     ]
    },
    {
     "data": {
      "application/vnd.jupyter.widget-view+json": {
       "model_id": "f47da3a7244a4997a056a4fcc8fa659a",
       "version_major": 2,
       "version_minor": 0
      },
      "text/plain": [
       "Running Simulation :   0%|          | 0/200 [00:00<?, ?it/s]"
      ]
     },
     "metadata": {},
     "output_type": "display_data"
    },
    {
     "name": "stdout",
     "output_type": "stream",
     "text": [
      "Target: 1\n",
      "Currents: 0.0\n",
      "Training \n",
      "\n",
      "\n",
      "Drain 7 Only\n"
     ]
    },
    {
     "data": {
      "application/vnd.jupyter.widget-view+json": {
       "model_id": "75912a59bfa642cea2c5f2fe8055096a",
       "version_major": 2,
       "version_minor": 0
      },
      "text/plain": [
       "Running Simulation :   0%|          | 0/200 [00:00<?, ?it/s]"
      ]
     },
     "metadata": {},
     "output_type": "display_data"
    },
    {
     "name": "stdout",
     "output_type": "stream",
     "text": [
      "Target: 1\n",
      "Currents: 0.0\n",
      "Training \n",
      "\n",
      "\n",
      "Drain 5 Only\n"
     ]
    },
    {
     "data": {
      "application/vnd.jupyter.widget-view+json": {
       "model_id": "be36ebd884a948848c008a1605bb4536",
       "version_major": 2,
       "version_minor": 0
      },
      "text/plain": [
       "Running Simulation :   0%|          | 0/200 [00:00<?, ?it/s]"
      ]
     },
     "metadata": {},
     "output_type": "display_data"
    },
    {
     "name": "stdout",
     "output_type": "stream",
     "text": [
      "Target: 1\n",
      "Currents: 0.0\n",
      "Training \n",
      "\n",
      "\n",
      "Drain 4 Only\n"
     ]
    },
    {
     "data": {
      "application/vnd.jupyter.widget-view+json": {
       "model_id": "74d30f719db64ffaabd79e670b986a79",
       "version_major": 2,
       "version_minor": 0
      },
      "text/plain": [
       "Running Simulation :   0%|          | 0/200 [00:00<?, ?it/s]"
      ]
     },
     "metadata": {},
     "output_type": "display_data"
    },
    {
     "name": "stdout",
     "output_type": "stream",
     "text": [
      "Target: 1\n",
      "Currents: 0.0\n",
      "Training \n",
      "\n",
      "\n",
      "Drain 3 Only\n"
     ]
    },
    {
     "data": {
      "application/vnd.jupyter.widget-view+json": {
       "model_id": "22dff3f7f74145418954bf3bd15d80c4",
       "version_major": 2,
       "version_minor": 0
      },
      "text/plain": [
       "Running Simulation :   0%|          | 0/200 [00:00<?, ?it/s]"
      ]
     },
     "metadata": {},
     "output_type": "display_data"
    },
    {
     "name": "stdout",
     "output_type": "stream",
     "text": [
      "Target: 1\n",
      "Currents: 0.0\n",
      "\n",
      "All Drains\n"
     ]
    },
    {
     "data": {
      "application/vnd.jupyter.widget-view+json": {
       "model_id": "c1a59800e8264da7bdeb54ae01364905",
       "version_major": 2,
       "version_minor": 0
      },
      "text/plain": [
       "Running Simulation :   0%|          | 0/200 [00:00<?, ?it/s]"
      ]
     },
     "metadata": {},
     "output_type": "display_data"
    },
    {
     "name": "stdout",
     "output_type": "stream",
     "text": [
      "Target: 1\n",
      "Currents: 6.268830517588833e-08\n",
      "Testing \n",
      "\n",
      "Currents: [ 6.26883052e-08  2.29274996e-07  3.87462286e-07  1.53728348e-07\n",
      "  1.00545817e-07  1.10820284e-07  1.14137567e-07 -1.67741306e-06\n",
      " -4.25450484e-06]\n",
      "Target: 1.0\n",
      "Accuracy: 0\n",
      "New Target Threshold:5e-06\n",
      "Training \n",
      "\n",
      "\n",
      "Drain 1 Only\n"
     ]
    },
    {
     "data": {
      "application/vnd.jupyter.widget-view+json": {
       "model_id": "9a5105adc24e4297baab3a47cc92de75",
       "version_major": 2,
       "version_minor": 0
      },
      "text/plain": [
       "Running Simulation :   0%|          | 0/200 [00:00<?, ?it/s]"
      ]
     },
     "metadata": {},
     "output_type": "display_data"
    },
    {
     "name": "stdout",
     "output_type": "stream",
     "text": [
      "Target: 1\n",
      "Currents: 0.0\n",
      "Training \n",
      "\n",
      "\n",
      "Drain 4 Only\n"
     ]
    },
    {
     "data": {
      "application/vnd.jupyter.widget-view+json": {
       "model_id": "1eddd94355c146e482e13ff8656e8034",
       "version_major": 2,
       "version_minor": 0
      },
      "text/plain": [
       "Running Simulation :   0%|          | 0/200 [00:00<?, ?it/s]"
      ]
     },
     "metadata": {},
     "output_type": "display_data"
    },
    {
     "name": "stdout",
     "output_type": "stream",
     "text": [
      "Target: 1\n",
      "Currents: 0.0\n",
      "Training \n",
      "\n",
      "\n",
      "Drain 7 Only\n"
     ]
    },
    {
     "data": {
      "application/vnd.jupyter.widget-view+json": {
       "model_id": "fa7656a3d957430db287c06f1b73abb9",
       "version_major": 2,
       "version_minor": 0
      },
      "text/plain": [
       "Running Simulation :   0%|          | 0/200 [00:00<?, ?it/s]"
      ]
     },
     "metadata": {},
     "output_type": "display_data"
    },
    {
     "name": "stdout",
     "output_type": "stream",
     "text": [
      "Target: 1\n",
      "Currents: 0.0\n",
      "Training \n",
      "\n",
      "\n",
      "Drain 3 Only\n"
     ]
    },
    {
     "data": {
      "application/vnd.jupyter.widget-view+json": {
       "model_id": "7b995c4f316e4527baacf3534e590ffb",
       "version_major": 2,
       "version_minor": 0
      },
      "text/plain": [
       "Running Simulation :   0%|          | 0/200 [00:00<?, ?it/s]"
      ]
     },
     "metadata": {},
     "output_type": "display_data"
    },
    {
     "name": "stdout",
     "output_type": "stream",
     "text": [
      "Target: 1\n",
      "Currents: 0.0\n",
      "Training \n",
      "\n",
      "\n",
      "Drain 2 Only\n"
     ]
    },
    {
     "data": {
      "application/vnd.jupyter.widget-view+json": {
       "model_id": "a993ef88ce45454f9978e7dc49bbdc22",
       "version_major": 2,
       "version_minor": 0
      },
      "text/plain": [
       "Running Simulation :   0%|          | 0/200 [00:00<?, ?it/s]"
      ]
     },
     "metadata": {},
     "output_type": "display_data"
    },
    {
     "name": "stdout",
     "output_type": "stream",
     "text": [
      "Target: 1\n",
      "Currents: 0.0\n",
      "Training \n",
      "\n",
      "\n",
      "Drain 6 Only\n"
     ]
    },
    {
     "data": {
      "application/vnd.jupyter.widget-view+json": {
       "model_id": "f21461bc1b0c4a36adbc3aea8dca6843",
       "version_major": 2,
       "version_minor": 0
      },
      "text/plain": [
       "Running Simulation :   0%|          | 0/200 [00:00<?, ?it/s]"
      ]
     },
     "metadata": {},
     "output_type": "display_data"
    },
    {
     "name": "stdout",
     "output_type": "stream",
     "text": [
      "Target: 1\n",
      "Currents: 0.0\n",
      "Training \n",
      "\n",
      "\n",
      "Drain 5 Only\n"
     ]
    },
    {
     "data": {
      "application/vnd.jupyter.widget-view+json": {
       "model_id": "f608a418d29749cca40ee87d112c3230",
       "version_major": 2,
       "version_minor": 0
      },
      "text/plain": [
       "Running Simulation :   0%|          | 0/200 [00:00<?, ?it/s]"
      ]
     },
     "metadata": {},
     "output_type": "display_data"
    },
    {
     "name": "stdout",
     "output_type": "stream",
     "text": [
      "Target: 1\n",
      "Currents: 0.0\n",
      "\n",
      "All Drains\n"
     ]
    },
    {
     "data": {
      "application/vnd.jupyter.widget-view+json": {
       "model_id": "46defd3547204e2f910c6dc1b4122821",
       "version_major": 2,
       "version_minor": 0
      },
      "text/plain": [
       "Running Simulation :   0%|          | 0/200 [00:00<?, ?it/s]"
      ]
     },
     "metadata": {},
     "output_type": "display_data"
    },
    {
     "name": "stdout",
     "output_type": "stream",
     "text": [
      "Target: 1\n",
      "Currents: 3.233183095754415e-08\n",
      "Testing \n",
      "\n",
      "Currents: [ 3.23318310e-08  4.61881671e-07  9.65969304e-08  2.16144916e-08\n",
      "  2.61958219e-07  1.27637201e-07  1.27399319e-07 -1.71311746e-06\n",
      " -4.26871952e-06]\n",
      "Target: 1.0\n",
      "Accuracy: 0\n",
      "New Target Threshold:5e-06\n",
      "Training \n",
      "\n",
      "\n",
      "Drain 5 Only\n"
     ]
    },
    {
     "data": {
      "application/vnd.jupyter.widget-view+json": {
       "model_id": "ce538f412c5b4425b3b71bcf88ae67b3",
       "version_major": 2,
       "version_minor": 0
      },
      "text/plain": [
       "Running Simulation :   0%|          | 0/200 [00:00<?, ?it/s]"
      ]
     },
     "metadata": {},
     "output_type": "display_data"
    },
    {
     "name": "stdout",
     "output_type": "stream",
     "text": [
      "Target: 1\n",
      "Currents: 0.0\n",
      "Training \n",
      "\n",
      "\n",
      "Drain 2 Only\n"
     ]
    },
    {
     "data": {
      "application/vnd.jupyter.widget-view+json": {
       "model_id": "4a5855a13f084d4c9cbb79e70ac4a234",
       "version_major": 2,
       "version_minor": 0
      },
      "text/plain": [
       "Running Simulation :   0%|          | 0/200 [00:00<?, ?it/s]"
      ]
     },
     "metadata": {},
     "output_type": "display_data"
    },
    {
     "name": "stdout",
     "output_type": "stream",
     "text": [
      "Target: 1\n",
      "Currents: 0.0\n",
      "Training \n",
      "\n",
      "\n",
      "Drain 4 Only\n"
     ]
    },
    {
     "data": {
      "application/vnd.jupyter.widget-view+json": {
       "model_id": "a845c54fd9aa4dcc854efe8ae89ef807",
       "version_major": 2,
       "version_minor": 0
      },
      "text/plain": [
       "Running Simulation :   0%|          | 0/200 [00:00<?, ?it/s]"
      ]
     },
     "metadata": {},
     "output_type": "display_data"
    },
    {
     "name": "stdout",
     "output_type": "stream",
     "text": [
      "Target: 1\n",
      "Currents: 0.0\n",
      "Training \n",
      "\n",
      "\n",
      "Drain 6 Only\n"
     ]
    },
    {
     "data": {
      "application/vnd.jupyter.widget-view+json": {
       "model_id": "2b79d042ac054ef3a9328f5312bd11d9",
       "version_major": 2,
       "version_minor": 0
      },
      "text/plain": [
       "Running Simulation :   0%|          | 0/200 [00:00<?, ?it/s]"
      ]
     },
     "metadata": {},
     "output_type": "display_data"
    },
    {
     "name": "stdout",
     "output_type": "stream",
     "text": [
      "Target: 1\n",
      "Currents: 0.0\n",
      "Training \n",
      "\n",
      "\n",
      "Drain 1 Only\n"
     ]
    },
    {
     "data": {
      "application/vnd.jupyter.widget-view+json": {
       "model_id": "41248bda05494abaa0420c0e14e57d03",
       "version_major": 2,
       "version_minor": 0
      },
      "text/plain": [
       "Running Simulation :   0%|          | 0/200 [00:00<?, ?it/s]"
      ]
     },
     "metadata": {},
     "output_type": "display_data"
    },
    {
     "name": "stdout",
     "output_type": "stream",
     "text": [
      "Target: 1\n",
      "Currents: 0.0\n",
      "Training \n",
      "\n",
      "\n",
      "Drain 3 Only\n"
     ]
    },
    {
     "data": {
      "application/vnd.jupyter.widget-view+json": {
       "model_id": "b87b02ae981f40cf8c3223d759aaec50",
       "version_major": 2,
       "version_minor": 0
      },
      "text/plain": [
       "Running Simulation :   0%|          | 0/200 [00:00<?, ?it/s]"
      ]
     },
     "metadata": {},
     "output_type": "display_data"
    },
    {
     "name": "stdout",
     "output_type": "stream",
     "text": [
      "Target: 1\n",
      "Currents: 0.0\n",
      "Training \n",
      "\n",
      "\n",
      "Drain 7 Only\n"
     ]
    },
    {
     "data": {
      "application/vnd.jupyter.widget-view+json": {
       "model_id": "f668a5886b41413e94358aea7a7803ca",
       "version_major": 2,
       "version_minor": 0
      },
      "text/plain": [
       "Running Simulation :   0%|          | 0/200 [00:00<?, ?it/s]"
      ]
     },
     "metadata": {},
     "output_type": "display_data"
    },
    {
     "name": "stdout",
     "output_type": "stream",
     "text": [
      "Target: 1\n",
      "Currents: 0.0\n",
      "\n",
      "All Drains\n"
     ]
    },
    {
     "data": {
      "application/vnd.jupyter.widget-view+json": {
       "model_id": "8f3e60496433458289ef0743dd77e183",
       "version_major": 2,
       "version_minor": 0
      },
      "text/plain": [
       "Running Simulation :   0%|          | 0/200 [00:00<?, ?it/s]"
      ]
     },
     "metadata": {},
     "output_type": "display_data"
    },
    {
     "name": "stdout",
     "output_type": "stream",
     "text": [
      "Target: 1\n",
      "Currents: 3.1624191218556743e-07\n",
      "Testing \n",
      "\n",
      "Currents: [ 3.16241912e-07  8.57652121e-08  2.88666633e-07  3.29084677e-08\n",
      "  2.38424110e-08  2.24973457e-07  2.46534446e-07 -4.27329365e-07\n",
      " -5.36421890e-06]\n",
      "Target: 1.0\n",
      "Accuracy: 1\n",
      "New Target Threshold:5e-06\n"
     ]
    }
   ],
   "source": [
    "num_drain_training=1\n",
    "num_drain_testing=7\n",
    "numSources=9\n",
    "numSamples=num_drain_testing*10\n",
    "nbacks         = [num_drain_testing]\n",
    "nback=nbacks[0]\n",
    "numRuns        = 1\n",
    "reinforcement=False #True (with reinforcement) or False (no reinforcement) \n",
    "\n",
    "seed=69\n",
    "\n",
    "#Build networks\n",
    "connectivity,sources,drain_pool,nwSize,nwJunctions=buildNetworks(fileName,True,num_drain_testing,numSources)\n",
    "\n",
    "#Generate inputs\n",
    "inputs,targets=generatePatterns(numSamples,nback)\n",
    "\n",
    "# CHOOSE RANDOM ORDER TO PRESENT EACH SAMPLE:\n",
    "np.random.seed(seed)\n",
    "\n",
    "b='b0p2'\n",
    "\n",
    "if not reinforcement: #load training order with reinforcment:\n",
    "    saveName='698nw_2582nj_working_memory_nback_wReinforcement_7drains_data_'+b #change beta based on simSettings.py\n",
    "\n",
    "    with open(dataLoc+'/Sim Results/working memory nback/'+saveName+'.pkl', 'rb') as f:\n",
    "        data=pickle.load(f)\n",
    "        orderTraining=data[5]\n",
    "\n",
    "else: #create training order\n",
    "\n",
    "    orderTraining=createTrainingOrder(nback)\n",
    "    with open(dataLoc+'/Sim Results/working memory nback/'+saveName+'.pkl', 'wb') as f:\n",
    "        pickle.dump(orderTraining,f)\n",
    "        \n",
    "# set_trace()\n",
    "    \n",
    "#PARAMETERS\n",
    "epochsPerSample=int(numSamples/nback)\n",
    "\n",
    "patternSize=3\n",
    "\n",
    "#Amplitude:\n",
    "onAmp = 0.3 #Voltage for Training\n",
    "onAmpTest = 0.1 #Voltage for Testing\n",
    "\n",
    "#Time Parameters\n",
    "dt=0.01\n",
    "Tlen = 200\n",
    "timesteps   = Tlen/dt\n",
    "numDT       = 200#int(timesteps/len(inputs)) #number of timesteps per sample\n",
    "restDur=0\n",
    "\n",
    "accThreshold=False #do we want to force a minimum (arbitrary) difference between target and non-target drain for accuracy to be counted?\n",
    "\n",
    "#Init Variables\n",
    "maxCurrent = [1e-5] #target\n",
    "threshCurrent = [5e-6]\n",
    "sim            = [None]*numRuns\n",
    "stimuli        = [None]*numRuns\n",
    "accuracy       = [None]*numRuns\n",
    "testTimes      = [None]*numRuns\n",
    "trainTimes      = [None]*numRuns\n",
    "numTestingSamples = [None]*numRuns\n",
    "allLabels      = [None]*numRuns\n",
    "seeds          =  np.random.choice(10000,size=numRuns,replace=False)\n",
    "\n",
    "limValues = [threshCurrent[0]]#[1e-6]#list(np.arange(0.05,1.05,0.05))  #if we want to loop through onAmp limit voltage percentage for drains\n",
    "increaseVal=threshCurrent[0]/6\n",
    "decreaseVal=threshCurrent[0]/12\n",
    "accThresh=0.7\n",
    "\n",
    "loadOnly=False\n",
    "\n",
    "\n",
    "if loadOnly == False:\n",
    "    print('Parameters:\\n')\n",
    "    print('Train V: ' + str(onAmp))\n",
    "    print('Test V: ' + str(onAmpTest))\n",
    "    print('Pattern: ' + str(patternSize)+'x'+str(patternSize))\n",
    "    meanAcc=[]\n",
    "    stdAcc=[]\n",
    "    outputs=[]\n",
    "    for val in tqdm(limValues):\n",
    "        print(val)\n",
    "        for i in tqdm(range(numRuns)):\n",
    "            outputs.append(runNBACK(onAmp,onAmpTest,dt,Tlen,timesteps,numDT,restDur,nbacks,maxCurrent,val,accThresh,increaseVal,decreaseVal,accThreshold=accThreshold,orderTraining=orderTraining,seed=seeds[i]))    "
   ]
  },
  {
   "cell_type": "code",
   "execution_count": 16,
   "metadata": {},
   "outputs": [],
   "source": [
    "# meanAcc=[];stdAcc=[]\n",
    "# acc=[]\n",
    "# sims=[]\n",
    "# for i in range(len(outputs)):\n",
    "#     acc.append(outputs[i][4])\n",
    "#     meanAcc.append(np.mean(acc))\n",
    "#     stdAcc.append(np.std(acc))"
   ]
  },
  {
   "cell_type": "markdown",
   "metadata": {},
   "source": [
    "### Save and Load Locally"
   ]
  },
  {
   "cell_type": "code",
   "execution_count": 3,
   "metadata": {},
   "outputs": [
    {
     "ename": "NameError",
     "evalue": "name 'reinforcement' is not defined",
     "output_type": "error",
     "traceback": [
      "\u001b[0;31m---------------------------------------------------------------------------\u001b[0m",
      "\u001b[0;31mNameError\u001b[0m                                 Traceback (most recent call last)",
      "\u001b[0;32m/tmp/ipykernel_48658/3681222310.py\u001b[0m in \u001b[0;36m<module>\u001b[0;34m\u001b[0m\n\u001b[0;32m----> 1\u001b[0;31m \u001b[0mreinforcement\u001b[0m\u001b[0;34m\u001b[0m\u001b[0;34m\u001b[0m\u001b[0m\n\u001b[0m",
      "\u001b[0;31mNameError\u001b[0m: name 'reinforcement' is not defined"
     ]
    }
   ],
   "source": [
    "reinforcement"
   ]
  },
  {
   "cell_type": "code",
   "execution_count": 18,
   "metadata": {},
   "outputs": [
    {
     "data": {
      "application/vnd.jupyter.widget-view+json": {
       "model_id": "6fad3ff99e69451d845def98c4d93b1d",
       "version_major": 2,
       "version_minor": 0
      },
      "text/plain": [
       "  0%|          | 0/560 [00:00<?, ?it/s]"
      ]
     },
     "metadata": {},
     "output_type": "display_data"
    }
   ],
   "source": [
    "#SAVE SIM DATA\n",
    "\n",
    "if reinforcement:\n",
    "    saveName='698nw_2582nj_working_memory_nback_wReinforcement_7drains_sim_'+b\n",
    "else:\n",
    "    saveName='698nw_2582nj_working_memory_nback_noReinforcement_7drains_sim_'+b\n",
    "\n",
    "\n",
    "#SAVE EACH SIM INDIVIDUALLY\n",
    "for i in tqdm(range(len(outputs[0][2]))):\n",
    "    with open(dataLoc+'/Sim Results/working memory nback/'+saveName+str(i)+'.pkl', 'wb') as f:\n",
    "        pickle.dump(outputs[0][2][i], f) "
   ]
  },
  {
   "cell_type": "code",
   "execution_count": 19,
   "metadata": {},
   "outputs": [],
   "source": [
    "dataNoSim=[outputs[0][0],outputs[0][1],outputs[0][3],outputs[0][4],outputs[0][5],outputs[0][6],outputs[0][7],outputs[0][8],outputs[0][9],outputs[0][10],outputs[0][11],orderTraining]"
   ]
  },
  {
   "cell_type": "code",
   "execution_count": 20,
   "metadata": {},
   "outputs": [],
   "source": [
    "#SAVE ALL NONSIM DATA\n",
    "if reinforcement:\n",
    "    saveName='698nw_2582nj_working_memory_nback_wReinforcement_7drains_data_'+b\n",
    "else:\n",
    "    saveName='698nw_2582nj_working_memory_nback_noReinforcement_7drains_data_'+b\n",
    "\n",
    "#SAVE ALL OTHER DATA TOGETHER\n",
    "with open(dataLoc+'/Sim Results/working memory nback/'+saveName+'.pkl', 'wb') as f:\n",
    "        pickle.dump(dataNoSim, f) "
   ]
  },
  {
   "cell_type": "code",
   "execution_count": 36,
   "metadata": {},
   "outputs": [],
   "source": [
    "#LOAD ALL NONSIM DATA\n",
    "b='b0p5'\n",
    "loadReinf='noReinforcement' #noReinforcement or wReinforcement\n",
    "\n",
    "saveName='698nw_2582nj_working_memory_nback_'+loadReinf+'_7drains_data_'+b\n",
    "\n",
    "#LOAD ALL OTHER DATA TOGETHER\n",
    "with open(dataLoc+'/Sim Results/working memory nback/'+saveName+'.pkl', 'rb') as f:\n",
    "        dataNoSim = pickle.load(f) \n",
    "accuracy=dataNoSim[3]"
   ]
  },
  {
   "cell_type": "code",
   "execution_count": 37,
   "metadata": {},
   "outputs": [
    {
     "data": {
      "application/vnd.jupyter.widget-view+json": {
       "model_id": "cca1a6afefd847b2875208f1ee42ef0e",
       "version_major": 2,
       "version_minor": 0
      },
      "text/plain": [
       "  0%|          | 0/560 [00:00<?, ?it/s]"
      ]
     },
     "metadata": {},
     "output_type": "display_data"
    }
   ],
   "source": [
    "#LOAD SIM DATA\n",
    "saveName='698nw_2582nj_working_memory_nback_'+loadReinf+'_7drains_sim_'+b\n",
    "sims=[]\n",
    "#LOAD EACH SIM INDIVIDUALLY\n",
    "for i in tqdm(range(560)):\n",
    "    with open(dataLoc+'/Sim Results/working memory nback/'+saveName+str(i)+'.pkl', 'rb') as f:\n",
    "        sims.append(pickle.load(f))"
   ]
  },
  {
   "cell_type": "code",
   "execution_count": 38,
   "metadata": {},
   "outputs": [],
   "source": [
    "nbacks=[1,2,3,4,5,6,7]#,8,9]"
   ]
  },
  {
   "cell_type": "code",
   "execution_count": 39,
   "metadata": {},
   "outputs": [],
   "source": [
    "alltargets=dataNoSim[4]\n",
    "thresholds=dataNoSim[1]"
   ]
  },
  {
   "cell_type": "code",
   "execution_count": 40,
   "metadata": {},
   "outputs": [],
   "source": [
    "numDT=200\n",
    "sampleTimes=numDT*(7+1)\n",
    "signalLen=200*len(alltargets)\n",
    "\n",
    "nback=7#nbacks[0]\n",
    "tmp=numDT*nback\n",
    "A=np.array(range(0,signalLen+1,int(tmp+numDT))) #training \n",
    "B=np.array(range(0+tmp,signalLen+1,int(tmp+numDT)))# testing\n",
    "c=[]\n",
    "for k in range(len(B)):\n",
    "    c.append(range(A[k],B[k]))\n",
    "trainTimes=np.array(np.hstack(c))\n",
    "l=range(signalLen)\n",
    "testTimes=np.array(np.hstack([m for m in l if m not in testTimes]))\n",
    "\n",
    "#test and train samples:\n",
    "testSamples=[]\n",
    "for i in range(-1,len(alltargets),nback+1):\n",
    "    if i > 0:\n",
    "        testSamples.append(i)\n",
    "testSamples=np.array(testSamples)\n",
    "trainSamples = np.setdiff1d(np.array(range(len(alltargets))),testSamples)"
   ]
  },
  {
   "cell_type": "code",
   "execution_count": 41,
   "metadata": {},
   "outputs": [],
   "source": [
    "targets=np.array(alltargets)[testSamples]\n",
    "trainTargets=np.array(alltargets)[trainSamples]\n",
    "trainTargets=trainTargets[:,0]"
   ]
  },
  {
   "cell_type": "code",
   "execution_count": 42,
   "metadata": {},
   "outputs": [],
   "source": [
    "#REACTION TIME:\n",
    "# jV=[]\n",
    "# jF=[]\n",
    "# jC=[]\n",
    "# activeSources=[]\n",
    "elecItrain=[];elecItest=[];inputSignal=[]\n",
    "drain1train=[];drain1test=[];voltage=[];drain1=[]\n",
    "t=0\n",
    "nback=nbacks[0]\n",
    "for i in range(len(sims)):\n",
    "#     jV.append(sim[i].junctionVoltage)   \n",
    "#     jF.append(sim[i].filamentState) #Junction Filament Negative\n",
    "#     jC.append(sim[i].junctionConductance)\n",
    "#     activeSources.append(sim[i].sources)\n",
    "    voltage.append(sims[i].wireVoltage[:,drain_pool])\n",
    "    if i in trainSamples[trainTargets==1]:\n",
    "        if sims[i].electrodeCurrent.shape[1] == 10: #if training\n",
    "            tmp=sims[i].electrodeCurrent[:,0]\n",
    "            elecItrain.append(tmp)\n",
    "#             if alltargets[i][0]==0:\n",
    "            drain1train.append(tmp)\n",
    "            drain1.append(tmp)\n",
    "    #             drain2.append([0]*tmp)\n",
    "#             else:\n",
    "    #             drain2.append(tmp)\n",
    "#                 drain1train.append([0]*tmp)\n",
    "    else: #only test:\n",
    "#         if len(elecItest[i]) < 600:\n",
    "        elecItest.append(sims[i].electrodeCurrent[:,:7])\n",
    "        drain1test.append(elecItest[t][:,0])\n",
    "        drain1.append(elecItest[t][:,0])\n",
    "#         drain2.append(elecItest[t][:,1])\n",
    "        t+=1\n",
    "    \n",
    "drain1=np.hstack(np.array(drain1))\n",
    "drain1test=np.hstack(np.array(drain1test))\n",
    "drain1train=np.hstack(np.array(drain1train))\n",
    "voltage=np.vstack(np.array(voltage))\n"
   ]
  },
  {
   "cell_type": "code",
   "execution_count": 43,
   "metadata": {},
   "outputs": [],
   "source": [
    "if loadReinf == 'wReinforcement':\n",
    "    plt.figure()\n",
    "    ax=plt.gca()\n",
    "    ax.plot(np.array(dataNoSim[1])[:,0][::10],label='Target',c='b')\n",
    "    ax.plot(np.array(dataNoSim[1])[:,1][::10],label='Non-Target',c='r')\n",
    "    ax.set_xlabel('Epoch')\n",
    "    ax.set_ylabel('$\\Theta$')\n",
    "    # ax.set_ylim([3e-6,])\n",
    "    plt.legend()\n",
    "    plt.savefig(saveFig+'698nw_2582nj_working_memory_nback_'+loadReinf+'_Theta_Threshold_'+b+'.pdf',format='pdf',dpi=300)"
   ]
  },
  {
   "cell_type": "code",
   "execution_count": 44,
   "metadata": {},
   "outputs": [
    {
     "data": {
      "image/png": "[encoded data removed]",
      "text/plain": [
       "<Figure size 432x288 with 1 Axes>"
      ]
     },
     "metadata": {
      "needs_background": "light"
     },
     "output_type": "display_data"
    }
   ],
   "source": [
    "plt.figure()\n",
    "ax=plt.gca()\n",
    "ax.plot(np.array(accuracy),label='Target',c='b')\n",
    "#     ax.plot(np.array(accuracy)[:,1][::10],label='Non-Target',c='r')\n",
    "ax.set_xlabel('Epoch')\n",
    "ax.set_ylabel('$\\Theta$')\n",
    "# ax.set_ylim([3e-6,])\n",
    "plt.legend()\n",
    "plt.savefig(saveFig+'698nw_2582nj_working_memory_nback_'+loadReinf+'accuracy_time_'+b+'.pdf',format='pdf',dpi=300)"
   ]
  },
  {
   "cell_type": "code",
   "execution_count": 45,
   "metadata": {
    "scrolled": false
   },
   "outputs": [
    {
     "data": {
      "image/png": "[encoded data removed]",
      "text/plain": [
       "<Figure size 4500x2400 with 3 Axes>"
      ]
     },
     "metadata": {
      "needs_background": "light"
     },
     "output_type": "display_data"
    }
   ],
   "source": [
    "#Current Strength vs Accuracy:\n",
    "import seaborn as sns\n",
    "plt.rcParams['pdf.fonttype'] = 42\n",
    "\n",
    "\n",
    "fig,ax = plt.subplots(1,1, figsize=(15, 8), dpi=300)\n",
    "x=(drain1test)\n",
    "p1=ax.plot(x,'b',alpha=0.7)\n",
    "# p2=ax.plot((voltage[:,1]),'r',alpha=0.5)\n",
    "# plt.legend([p1[0],p2[0]],['Target Drain'],loc='lower right',title='Current')\n",
    "\n",
    "\n",
    "if nback == 7:\n",
    "    xlimmax=830\n",
    "    vlinesStep=40\n",
    "    vlinesStart=30\n",
    "    dotpos=2\n",
    "\n",
    "if nback == 2:\n",
    "#     xlimmax=1230\n",
    "    vlinesStep=600\n",
    "    vlinesStart=500\n",
    "    dotpos=3\n",
    "elif nback == 3:\n",
    "    xlimmax=1630\n",
    "    vlinesStep=80\n",
    "    vlinesStart=70\n",
    "    dotpos=4\n",
    "    \n",
    "# colrs=[]\n",
    "# for val in targetsNew:\n",
    "#     if val < 1:\n",
    "#         colrs.append('C1')\n",
    "#     else:\n",
    "#         colrs.append('C2')    \n",
    "\n",
    "# testColors=[]\n",
    "# for i in colrs:\n",
    "#     if i == 'C1':\n",
    "#         testColors.append('b')\n",
    "#     else:\n",
    "#         testColors.append('r')\n",
    "        \n",
    "ax.set_xlabel('Time')\n",
    "ax.set_ylabel('Current')\n",
    "# ax.set_xlim([-600,24400])\n",
    "\n",
    "# ax.vlines(range(vlinesStart,len(x),vlinesStep),np.min(drain1),np.max(drain1),linestyle='dashed',color='b',alpha=0.5)\n",
    "\n",
    "ax2=ax.twinx().twiny()\n",
    "# ax2.scatter(list(range(0,len(targets),1)),accuracy,c='b')\n",
    "# ax2.set_ylim([-0.05,1.05])\n",
    "\n",
    "# ax2.set_xticklabels(np.array(range(0,121,20)))#np.round(np.array(range(vlinesStart,len(x)-20,vlinesStep))/39)-1)\n",
    "\n",
    "# testTimeVals=np.array(range(len(accuracy)))*dotpos+dotpos\n",
    "\n",
    "\n",
    "# ax2.scatter(x=range(vlinesStart,len(x)-20,vlinesStep),y=accuracy,c=testColors)\n",
    "\n",
    "# ax2.set_xlabel('Sample Num')\n",
    "# ax2.set_ylabel('Accuracy')\n",
    "# sns.scatterplot(x=testTimeVals,y='Accuracy',data=accuracy,hue=colrs[:-1],palette=['r','b'],ax=ax2)\n",
    "# ax2.legend(title='Accuracy',loc='lower left')\n",
    "# ax2.set_xlim([-20/20,(xlimmax+10)/20])\n",
    "# ax2.set_ylabel('Accuracy')\n",
    "\n",
    "# ax3=ax2.twinx()\n",
    "# p1=ax3.plot(testTimeVals[:-1],count1plustest[:-1],color='c',marker='x')\n",
    "# p2=ax3.plot(testTimeVals[:-1],count2plustest[:-1],color='m',marker='x')\n",
    "# ax3.set_xlim([-20/20,1240/20])\n",
    "\n",
    "# plt.vlines(range(3,testTimeVals.values[-1],3),0,1,linestyle='dashed',color='k',)\n",
    "# if patternSize==2:\n",
    "#     fig.savefig(saveFig+saveName+'.pdf',format='pdf',dpi=300)\n",
    "# else:\n",
    "fig.savefig(saveFig+'698w_2582j_current_time_accuracy_nback_random_patterns_'+loadReinf+'_'+b+'.pdf',format='pdf',dpi=300)\n"
   ]
  },
  {
   "cell_type": "code",
   "execution_count": 46,
   "metadata": {},
   "outputs": [],
   "source": [
    "drain1thresh=signal_expand(np.array(thresholds)[:,0],200)"
   ]
  },
  {
   "cell_type": "code",
   "execution_count": 47,
   "metadata": {},
   "outputs": [
    {
     "ename": "IndexError",
     "evalue": "index 0 is out of bounds for axis 0 with size 0",
     "output_type": "error",
     "traceback": [
      "\u001b[0;31m---------------------------------------------------------------------------\u001b[0m",
      "\u001b[0;31mIndexError\u001b[0m                                Traceback (most recent call last)",
      "\u001b[0;32m/tmp/ipykernel_17998/3084202219.py\u001b[0m in \u001b[0;36m<module>\u001b[0;34m\u001b[0m\n\u001b[0;32m----> 1\u001b[0;31m \u001b[0mnp\u001b[0m\u001b[0;34m.\u001b[0m\u001b[0mwhere\u001b[0m\u001b[0;34m(\u001b[0m\u001b[0mdrain1thresh\u001b[0m\u001b[0;34m>\u001b[0m\u001b[0;36m5e-6\u001b[0m\u001b[0;34m)\u001b[0m\u001b[0;34m[\u001b[0m\u001b[0;36m0\u001b[0m\u001b[0;34m]\u001b[0m\u001b[0;34m[\u001b[0m\u001b[0;36m0\u001b[0m\u001b[0;34m]\u001b[0m\u001b[0;34m\u001b[0m\u001b[0;34m\u001b[0m\u001b[0m\n\u001b[0m",
      "\u001b[0;31mIndexError\u001b[0m: index 0 is out of bounds for axis 0 with size 0"
     ]
    }
   ],
   "source": [
    "np.where(drain1thresh>5e-6)[0][0]"
   ]
  },
  {
   "cell_type": "code",
   "execution_count": 49,
   "metadata": {},
   "outputs": [
    {
     "data": {
      "image/png": "[encoded data removed]",
      "text/plain": [
       "<Figure size 432x288 with 1 Axes>"
      ]
     },
     "metadata": {
      "needs_background": "light"
     },
     "output_type": "display_data"
    }
   ],
   "source": [
    "tstart=55000\n",
    "tend=56000\n",
    "# dur1=tend-np.where(drain1thresh>5e-6)[0][0]\n",
    "# dur2=np.where(drain1thresh>5e-6)[0][0]-tstart\n",
    "plt.plot(drain1[tstart:tend],label='Drain 1',c='b')\n",
    "# plt.plot(drain2[tstart:tend],label='Drain 2')\n",
    "plt.plot(drain1thresh[tstart:tend],c='black',linestyle='dashed',label='Threshold')\n",
    "# plt.hlines(drain1thresh[dur2],0,dur2,colors='black',linestyles='dashed',label='Threshold')\n",
    "# plt.hlines(drain1thresh[dur1],0,dur1,colors='black',linestyles='dashed',label='Threshold')\n",
    "\n",
    "ax=plt.gca()\n",
    "start, end = ax.get_xlim()\n",
    "# plt.xticks(np.arange(start-start,end+start,np.abs(start-end)/6),labels=range(tstart,tend,int(dur/7)))\n",
    "# ax.set_xticklabels(range(tstart-100,tend+100,int(dur/8)))\n",
    "ax.set_xlabel('Timesteps')\n",
    "ax.set_ylabel('Current (A)')\n",
    "plt.legend()\n",
    "plt.savefig(saveFig+'698w_2582j_current_time_oneEpoch_nback_random_patterns_t_'+str(tstart)+'_'+str(tend)+'_'+loadReinf+'_'+b+'.pdf',format='pdf')"
   ]
  },
  {
   "cell_type": "code",
   "execution_count": 50,
   "metadata": {},
   "outputs": [],
   "source": [
    "nbackVals=np.argwhere(np.array(dataNoSim[7])==-1)-np.argwhere(np.array(dataNoSim[7])==0)"
   ]
  },
  {
   "cell_type": "code",
   "execution_count": 51,
   "metadata": {},
   "outputs": [],
   "source": [
    "nbackVals=nbackVals.reshape(-1) #datastructure = [nbacks, experiments, epochs]"
   ]
  },
  {
   "cell_type": "code",
   "execution_count": 52,
   "metadata": {},
   "outputs": [],
   "source": [
    "import pandas as pd\n",
    "nbackAcc=pd.DataFrame({'nback':nbackVals,'Accuracy':accuracy})"
   ]
  },
  {
   "cell_type": "code",
   "execution_count": 53,
   "metadata": {},
   "outputs": [],
   "source": [
    "numVals=[]\n",
    "seAcc=[]\n",
    "meanAcc=[]\n",
    "for i in range(1,8):\n",
    "    \n",
    "    numVals.append((nbackAcc.where(nbackAcc['nback']==i)).count()[0])\n",
    "\n",
    "    meanAcc.append((nbackAcc.where(nbackAcc['nback']==i)).mean(skipna=True)[1])\n",
    "    seAcc.append((nbackAcc.where(nbackAcc['nback']==i)).std(skipna=True)[1]/np.sqrt(len(nbackAcc.where(nbackAcc['nback']==i))))"
   ]
  },
  {
   "cell_type": "code",
   "execution_count": 54,
   "metadata": {},
   "outputs": [
    {
     "data": {
      "text/plain": [
       "[1, 2, 3, 4, 5, 6, 7]"
      ]
     },
     "execution_count": 54,
     "metadata": {},
     "output_type": "execute_result"
    }
   ],
   "source": [
    "nbacks"
   ]
  },
  {
   "cell_type": "code",
   "execution_count": 55,
   "metadata": {},
   "outputs": [
    {
     "data": {
      "text/plain": [
       "Text(0.5, 1.0, 'noReinforcement')"
      ]
     },
     "execution_count": 55,
     "metadata": {},
     "output_type": "execute_result"
    },
    {
     "data": {
      "image/png": "[encoded data removed]",
      "text/plain": [
       "<Figure size 432x288 with 1 Axes>"
      ]
     },
     "metadata": {
      "needs_background": "light"
     },
     "output_type": "display_data"
    }
   ],
   "source": [
    "plt.rcParams['pdf.fonttype'] = 42\n",
    "\n",
    "plt.bar(nbacks,meanAcc,yerr=seAcc,alpha=0.8, ecolor='black', capsize=5)\n",
    "plt.xlabel('nback')\n",
    "plt.ylabel('Accuracy')\n",
    "ax=plt.gca()\n",
    "ax.set_xticks(range(8))\n",
    "ax.set_xticklabels(range(8))\n",
    "ax.set_ylim([0,1.05])\n",
    "plt.title(loadReinf)\n",
    "# plt.savefig(saveFig+'698nw_2582nj_nback_working_memory_no_reinforcement_b0p1.pdf',format='pdf')\n"
   ]
  },
  {
   "cell_type": "markdown",
   "metadata": {},
   "source": [
    "## FUNCTIONAL CONNECTIVITY"
   ]
  },
  {
   "cell_type": "code",
   "execution_count": 56,
   "metadata": {},
   "outputs": [],
   "source": [
    "sys.path.append('/import/silo2/aloe8475/Documents/CODE/aux_functions/') #point to edamame locally\n",
    "\n",
    "from matplotlib import animation\n",
    "from matplotlib import colorbar as clbr\n",
    "from PIL import Image\n",
    "\n",
    "from matplotlib import rcParams\n",
    "from create_colormap import get_continuous_cmap,hex_to_rgb,rgb_to_dec\n",
    "\n",
    "#Functions:\n",
    "def getWeightedGraph(adjMat,jC,jV,jF,edgeList,numWires,time,edge_mode):#, this_TimeStamp = 0):\n",
    "#     edgeList = network['edge_list']\n",
    "    adjMat = np.zeros((numWires, numWires))\n",
    "#     set_trace()\n",
    "    if edge_mode=='conductance':\n",
    "        adjMat[edgeList[:,0], edgeList[:,1]] = jC[time,:]#network.junctionSwitch[this_TimeStamp,:] #CHANGE THIS TO CONDUCTANCE THRESHOLD?\n",
    "        adjMat[edgeList[:,1], edgeList[:,0]] = jC[time,:]#network.junctionSwitch[this_TimeStamp,:] #CHANGE THIS TO CONDUCTANCE THRESHOLD?\n",
    "        maxWeights=np.max(jC)\n",
    "\n",
    "    elif edge_mode=='current':\n",
    "        adjMat[edgeList[:,0], edgeList[:,1]] = jV[time,:]*jC[time,:]\n",
    "        adjMat[edgeList[:,1], edgeList[:,0]] = jV[time,:]*jC[time,:]\n",
    "        maxWeights=np.max(jV*jC)\n",
    "        \n",
    "        \n",
    "    elif edge_mode=='filament':\n",
    "        adjMat[edgeList[:,0], edgeList[:,1]] = jF[time,:]\n",
    "        adjMat[edgeList[:,1], edgeList[:,0]] = jF[time,:]\n",
    "        \n",
    "    WeightedGraph = nx.from_numpy_array(adjMat)\n",
    "    WeightedGraph=nx.DiGraph.to_undirected(WeightedGraph)\n",
    "    \n",
    "    return WeightedGraph\n",
    "\n",
    "def image_draw_voltage(time,cmap,maxWeights,minWeights):\n",
    "    ax.clear() \n",
    "    pos=nx.kamada_kawai_layout(g)\n",
    "           \n",
    "    #ALON'S CODE:    \n",
    "    node_weight=sim.wireVoltage[time]\n",
    "\n",
    "    pos=nx.kamada_kawai_layout(g)\n",
    "    nodeList=g.nodes\n",
    "    numWires=g.number_of_nodes()\n",
    "\n",
    "    h=nx.draw_networkx_nodes(g,pos=pos,node_color=node_weight,cmap=cmap,node_size=50,ax=ax)\n",
    "\n",
    "    h2=nx.draw_networkx_edges(G,pos=pos,ax=ax,edge_color='grey')\n",
    "    # nx.draw_networkx_nodes(g,pos=pos,nodelist=sources,node_color='g',node_size=50,ax=ax)\n",
    "    nx.draw_networkx_nodes(g,pos=pos,nodelist=[drains[1]],node_color='r',node_size=10,ax=ax)\n",
    "    nx.draw_networkx_nodes(g,pos=pos,nodelist=[drains[0]],node_color='b',node_size=10,ax=ax)\n",
    "    ax.set_title(str(time))\n",
    "    \n",
    "import matplotlib.colors as clrs\n",
    "\n",
    "def image_draw_current_filament(time,edge_mode,edge_weight,cmap,maxWeights,minWeights):\n",
    "    ax.clear() \n",
    "#     pos=nx.kamada_kawai_layout(g)\n",
    "        \n",
    "    #RUOMIN'S CODE:\n",
    "#     draw_graph(sim,time,edge_mode=edge_mode,edge_weight=edge_weight,edge_colorbar=False,node_size=30,figsize=(10,8),edge_cmap=cmap,with_labels=False,norm=True,ax=ax,maxWeight=maxWeights,minWeight=minWeights)\n",
    "\n",
    "    #ALON'S CODE:    \n",
    "    \n",
    "#     edge_mode=animationType\n",
    "#     edgeList=sim.connectivity.edge_list\n",
    "#     numWires=g.number_of_nodes()\n",
    "#     G=getWeightedGraph(sim,edgeList,numWires,time,edge_mode)\n",
    "    \n",
    "    pos=nx.kamada_kawai_layout(g)\n",
    "    edgeList=sims[0].connectivity.edge_list\n",
    "    numWires=g.number_of_nodes()\n",
    "    G=getWeightedGraph(adjMat,jC,jV,jF,edgeList,numWires,time,animationType)#, this_TimeStamp = 0):\n",
    "\n",
    "    edge_weights=nx.get_edge_attributes(G,'weight')\n",
    "#     G.remove_edges_from((e for e, w in edge_weights.items() if w <1e-)) \n",
    "    \n",
    "    edges=G.edges()\n",
    "    weights=[G[u][v]['weight'] for u,v in edges]\n",
    "    \n",
    "    if animationType=='filament':\n",
    "        logVal=1e-7\n",
    "    else:\n",
    "        logVal=1e-7\n",
    "    Q\n",
    "    sm = plt.cm.ScalarMappable(cmap=cmap, norm=clrs.SymLogNorm(logVal,base=10,vmin=minWeights, vmax=maxWeights))\n",
    "    sm.set_array([])\n",
    "    normweights=sm.norm(weights).data\n",
    "    if len(normweights)==0:\n",
    "        normweights=np.zeros(g.number_of_edges())\n",
    "    \n",
    "    normMin=sm.norm(minWeights)\n",
    "    normMax=sm.norm(maxWeights)\n",
    "    h=nx.draw_networkx_nodes(g,pos=pos,node_color='grey',node_size=20,ax=ax)\n",
    "    \n",
    "    thisTarget=int(targetValsTime[time])\n",
    "    x=(alltargets==thisTarget)\n",
    "    #     h.set_zorder(1)\n",
    "    h2=nx.draw_networkx_edges(G,pos=pos,ax=ax,edge_color=normweights,width=2,edge_cmap=cmap,edge_vmin=normMin,edge_vmax=normMax,alpha=0.7)\n",
    "    if thisTarget == 1:\n",
    "        nx.draw_networkx_nodes(g,pos=pos,nodelist=sources,node_color='k',node_size=100,ax=ax)\n",
    "        nx.draw_networkx_nodes(g,pos=pos,nodelist=list(activeSources[np.where(x)[0][0]+1]),node_color='g',node_size=100,ax=ax)\n",
    "\n",
    "        if time in testTimes:\n",
    "            nx.draw_networkx_nodes(g,pos=pos,nodelist=drain_pool,node_color='r',node_size=100,ax=ax)\n",
    "        else:\n",
    "            nx.draw_networkx_nodes(g,pos=pos,nodelist=[drain_pool[0]],node_color='r',node_size=100,ax=ax)\n",
    "            nx.draw_networkx_nodes(g,pos=pos,nodelist=list(drain_pool[1:]),node_color='k',node_size=100,ax=ax)\n",
    "    else:\n",
    "        nx.draw_networkx_nodes(g,pos=pos,nodelist=sources,node_color='k',node_size=100,ax=ax)\n",
    "        nx.draw_networkx_nodes(g,pos=pos,nodelist=list(activeSources[np.where(x)[0][0]+1]),node_color='g',node_size=100,ax=ax) #need to write this better\n",
    "\n",
    "        if time in testTimes:\n",
    "            nx.draw_networkx_nodes(g,pos=pos,nodelist=drain_pool,node_color='r',node_size=100,ax=ax)\n",
    "        else:\n",
    "            nx.draw_networkx_nodes(g,pos=pos,nodelist=[drain_pool[thisTarget-1]],node_color='r',node_size=100,ax=ax)\n",
    "            nx.draw_networkx_nodes(g,pos=pos,nodelist=list(np.hstack(np.array([drain_pool[:thisTarget-1],drain_pool[thisTarget:]]))),node_color='k',node_size=100,ax=ax)\n",
    "\n",
    "\n",
    "    \n",
    "    # shift position a little bit\n",
    "    shift = [-0.1, 0]\n",
    "    shifted_pos ={node: node_pos + shift for node, node_pos in pos.items()}\n",
    "#     set_trace()\n",
    "    # Just some text to print in addition to node ids  \n",
    "    \n",
    "    labels = {}\n",
    "    for node in g.nodes():\n",
    "        if node in drain_pool:\n",
    "        #set the node name as the key and the label as its value \n",
    "            labels[node] = node\n",
    "#     labels[1] = 'Drain 1'\n",
    "#     labels[2] = 'Drain 2'\n",
    "    nx.draw_networkx_labels(g, shifted_pos, labels=labels, horizontalalignment=\"left\")\n",
    "    if time in testTimes:\n",
    "        timeVals='Testing'\n",
    "    else:\n",
    "        timeVals='Training'\n",
    "    \n",
    "    ax.set_title('T = ' + str(time)+ ' | ' + timeVals + ' | Target ' + str(targetValsTime[time]))\n",
    "\n",
    "    \n",
    "#New loadmat:\n",
    "import scipy.io as spio\n",
    "\n",
    "def loadmatNew(filename):\n",
    "    '''\n",
    "    this function should be called instead of direct spio.loadmat\n",
    "    as it cures the problem of not properly recovering python dictionaries\n",
    "    from mat files. It calls the function check keys to cure all entries\n",
    "    which are still mat-objects\n",
    "    '''\n",
    "    data = spio.loadmat(filename, struct_as_record=False, squeeze_me=True)\n",
    "    return _check_keys(data)\n",
    "\n",
    "def _check_keys(dict):\n",
    "    '''\n",
    "    checks if entries in dictionary are mat-objects. If yes\n",
    "    todict is called to change them to nested dictionaries\n",
    "    '''\n",
    "    for key in dict:\n",
    "        if isinstance(dict[key], spio.matlab.mio5_params.mat_struct):\n",
    "            dict[key] = _todict(dict[key])\n",
    "    return dict        \n",
    "\n",
    "def _todict(matobj):\n",
    "    '''\n",
    "    A recursive function which constructs from matobjects nested dictionaries\n",
    "    '''\n",
    "    dict = {}\n",
    "    for strg in matobj._fieldnames:\n",
    "        elem = matobj.__dict__[strg]\n",
    "        if isinstance(elem, spio.matlab.mio5_params.mat_struct):\n",
    "            dict[strg] = _todict(elem)\n",
    "        else:\n",
    "            dict[strg] = elem\n",
    "    return dict\n"
   ]
  },
  {
   "cell_type": "code",
   "execution_count": 57,
   "metadata": {},
   "outputs": [
    {
     "name": "stdout",
     "output_type": "stream",
     "text": [
      "Network 698 Loaded\n"
     ]
    }
   ],
   "source": [
    "#FUNCTIONAL CONNECTIVITY:\n",
    "nw=loadmat('/import/silo2/aloe8475/Documents/Data/Associative Learning/Sparse Networks/asn_nw_00698_nj_02582_seed_002_avl_10.00_disp_01.00_lx_75.00_ly_75.00')\n",
    "\n",
    "# nw=loadmat(fileName)\n",
    "g=nx.from_numpy_array(nw['adj_matrix'])\n",
    "adjMat=nw['adj_matrix']\n",
    "\n",
    "num_drain_training=1\n",
    "num_drain_testing=7\n",
    "numSources=9\n",
    "numSamples=70\n",
    "nbacks         = [num_drain_testing]\n",
    "nback=nbacks[0]\n",
    "numDT=200\n",
    "\n",
    "# reinforcement=True #do we want to activate reinforcement?\n",
    "\n",
    "connectivity,sources,drain_pool,nwSize,nwJunctions=buildNetworks(fileName,True,num_drain_testing,numSources)"
   ]
  },
  {
   "cell_type": "code",
   "execution_count": 58,
   "metadata": {},
   "outputs": [],
   "source": [
    "nwJunctions=nw['number_of_junctions'][0][0]\n",
    "nwWires=nw['number_of_wires'][0][0]"
   ]
  },
  {
   "cell_type": "code",
   "execution_count": 59,
   "metadata": {},
   "outputs": [],
   "source": [
    "#combine all sim voltages, conductance and filament together\n",
    "jV=[]\n",
    "jF=[]\n",
    "jC=[]\n",
    "activeSources=[]\n",
    "for i in range(len(sims)):\n",
    "    jV.append(sims[i].junctionVoltage)   \n",
    "    jF.append(sims[i].filamentState) #Junction Filament Negative\n",
    "    jC.append(sims[i].junctionConductance)\n",
    "    activeSources.append(sims[i].sources)"
   ]
  },
  {
   "cell_type": "code",
   "execution_count": 60,
   "metadata": {},
   "outputs": [],
   "source": [
    "jV=np.array(jV).reshape(len(jV)*numDT,nwJunctions) \n",
    "jF=np.array(jF).reshape(len(jF)*numDT,nwJunctions)\n",
    "jC=np.array(jC).reshape(len(jC)*numDT,nwJunctions)\n"
   ]
  },
  {
   "cell_type": "code",
   "execution_count": 61,
   "metadata": {},
   "outputs": [],
   "source": [
    "targetValsTime=np.array(dataNoSim[4]).reshape(-1)\n",
    "alltargets=np.array(dataNoSim[4])[:,0].reshape(-1)\n",
    "counts=[]\n",
    "for i in range(numSamples):\n",
    "    counts.append(i)\n",
    "    \n",
    "    \n",
    "TestTimeStart=((np.array(counts)+1)*numDT*(nback+1))-numDT\n",
    "TestTimeEnd=((np.array(counts)+1))*numDT*(nback+1)-1\n",
    "TrainTimeStart=((np.array(counts)+1)*numDT*(nback+1))-numDT*(nback+1)\n",
    "TrainTimeEnd=((np.array(counts)+1)*numDT*(nback+1))-numDT-1\n",
    "\n",
    "\n",
    "vals=[]\n",
    "for i in range(len(counts)):\n",
    "    vals.append(np.arange(TestTimeStart[i],TestTimeEnd[i]))\n",
    "testTimes=np.array(vals).reshape(-1)\n",
    "\n",
    "\n",
    "xlims=[TrainTimeStart[0],TrainTimeEnd[-1]]\n"
   ]
  },
  {
   "cell_type": "code",
   "execution_count": 62,
   "metadata": {},
   "outputs": [
    {
     "data": {
      "application/vnd.jupyter.widget-view+json": {
       "model_id": "e4aa330344d34761a1929b85be3d8fa6",
       "version_major": 2,
       "version_minor": 0
      },
      "text/plain": [
       "  0%|          | 0/6 [00:00<?, ?it/s]"
      ]
     },
     "metadata": {},
     "output_type": "display_data"
    },
    {
     "name": "stdout",
     "output_type": "stream",
     "text": [
      "noReinforcement_b0p5\n",
      "Saved\n",
      "noReinforcement_b0p5\n",
      "Saved\n",
      "noReinforcement_b0p5\n",
      "Saved\n",
      "noReinforcement_b0p5\n",
      "Saved\n",
      "noReinforcement_b0p5\n",
      "Saved\n",
      "noReinforcement_b0p5\n",
      "Saved\n"
     ]
    }
   ],
   "source": [
    "# plt.close('all')\n",
    "rcParams['animation.embed_limit'] = 2**64\n",
    "\n",
    "\n",
    "edge_mode='custom'\n",
    "animationType = 'conductance'\n",
    "\n",
    "\n",
    "if animationType =='current':\n",
    "    minWeights=0\n",
    "    jI=np.array(jV*jC)\n",
    "    edge_weight = jI\n",
    "    maxWeights=np.max(jI)\n",
    "    cmap=plt.cm.magma_r\n",
    "elif animationType== 'conductance':\n",
    "    minWeights=0\n",
    "    maxWeights=np.max(jC)\n",
    "#     cmap=plt.cm.coolwarm\n",
    "    colorlist=  [\"a0051f\",\"b8323d\",\"cf5f5a\",\"e68c78\",\"fdb995\",\"e4c5bc\",\"cad0e3\",\"cddff1\",\"cfe6f8\",\"d0edff\"]#[\"710000\",\"fad39d\",\"e8f5fd\",\"003470\"]\n",
    "\n",
    "    colorlist.reverse()\n",
    "    cmap=get_continuous_cmap(colorlist) #hexlist\n",
    "\n",
    "    edge_weight=jC\n",
    "elif animationType== 'filament':\n",
    "    minWeights=0\n",
    "    maxWeights=np.max(jF)\n",
    "    colorlist=[\"950700\",\"c93a28\",\"fd6c50\",\"fb986a\",\"f7c59f\",\"efd6b8\",\"e6e6d0\"]\n",
    "\n",
    "\n",
    "    colorlist.reverse()\n",
    "    cmap=get_continuous_cmap(colorlist) #hexlist\n",
    "#     cmap=plt.cm.Pastel1\n",
    "    edge_weight=jF\n",
    "    #binary threshold (only show above or below a certain value)\n",
    "\n",
    "times=[600, 1400, 55000, 55800, 108800,110200]\n",
    "\n",
    "for time in tqdm(times):\n",
    "    \n",
    "    f,[ax,cax] = plt.subplots(1,2, gridspec_kw={\"width_ratios\":[50,1]},frameon=False, figsize=(10, 8), dpi=300)\n",
    "    canvas_width, canvas_height = f.canvas.get_width_height()\n",
    "    ax.axis('off')\n",
    "    cax.axis('off')\n",
    "\n",
    "    # clrplt=np.linspace(minWeights,maxWeights,1000).reshape(1000,1)\n",
    "    # img=cax.imshow(clrplt,cmap=cmap,norm=clrs.LogNorm())\n",
    "    # cax.set_visible(False)\n",
    "    # formatter = LogFormatter(10, labelOnlyBase=True) \n",
    "    # norm=clrs.SymLogNorm(1,base=10,vmin=minWeights,vmax=maxWeights)\n",
    "    # cb1=clbr.ColorbarBase(cax,cmap=cmap,norm=norm)\n",
    "\n",
    "\n",
    "    pos=nx.kamada_kawai_layout(g)\n",
    "    edgeList=sims[0].connectivity.edge_list\n",
    "    numWires=g.number_of_nodes()\n",
    "    G=getWeightedGraph(adjMat,jC,jV,jF,edgeList,numWires,time,animationType)#, this_TimeStamp = 0):\n",
    "\n",
    "    # edge_weights=nx.get_edge_attributes(G,'weight')\n",
    "    # G.remove_edges_from((e for e, w in edge_weights.items() if w <1e-10)) \n",
    "\n",
    "    edges=G.edges()\n",
    "    weights=[G[u][v]['weight'] for u,v in edges]\n",
    "\n",
    "    # normweights = (np.array(weights)-minWeights) / (maxWeights - minWeights)\n",
    "    # weights = [cmap(color_normal(e)) for e in weights]\n",
    "    sm = plt.cm.ScalarMappable(cmap=cmap, norm=clrs.SymLogNorm(1e-7,base=10,vmin=minWeights, vmax=maxWeights))\n",
    "    sm.set_array([])\n",
    "\n",
    "    normweights=sm.norm(weights).data\n",
    "    normMin=sm.norm(minWeights)\n",
    "    normMax=sm.norm(maxWeights)\n",
    "\n",
    "    h=nx.draw_networkx_nodes(g,pos=pos,node_color='grey',node_size=20,ax=ax)\n",
    "\n",
    "    # h2=nx.draw_networkx_edges(G,pos=pos,ax=ax,edge_color=normweights,width=2,edge_cmap=cmap,edge_vmin=normMin,edge_vmax=normMax)\n",
    "\n",
    "    thisTarget=int(targetValsTime[time])\n",
    "    x=(alltargets==thisTarget)\n",
    "    #     h.set_zorder(1)\n",
    "    h2=nx.draw_networkx_edges(G,pos=pos,ax=ax,edge_color=normweights,width=2,edge_cmap=cmap,edge_vmin=normMin,edge_vmax=normMax,alpha=0.6)\n",
    "    if thisTarget == 1:\n",
    "        nx.draw_networkx_nodes(g,pos=pos,nodelist=sources,node_color='k',node_size=100,ax=ax)\n",
    "        nx.draw_networkx_nodes(g,pos=pos,nodelist=list(activeSources[np.where(x)[0][0]+1]),node_color='g',node_size=100,ax=ax)\n",
    "\n",
    "        if time in testTimes:\n",
    "            nx.draw_networkx_nodes(g,pos=pos,nodelist=drain_pool,node_color='r',node_size=100,ax=ax)\n",
    "        else:\n",
    "            nx.draw_networkx_nodes(g,pos=pos,nodelist=[drain_pool[0]],node_color='r',node_size=100,ax=ax)\n",
    "            nx.draw_networkx_nodes(g,pos=pos,nodelist=list(drain_pool[1:]),node_color='k',node_size=100,ax=ax)\n",
    "    else:\n",
    "        nx.draw_networkx_nodes(g,pos=pos,nodelist=sources,node_color='k',node_size=100,ax=ax)\n",
    "\n",
    "    #     set_trace()\n",
    "\n",
    "        nx.draw_networkx_nodes(g,pos=pos,nodelist=list(activeSources[np.where(x)[0][0]+1]),node_color='g',node_size=100,ax=ax) #need to write this better\n",
    "\n",
    "        if time in testTimes:\n",
    "            nx.draw_networkx_nodes(g,pos=pos,nodelist=drain_pool,node_color='r',node_size=100,ax=ax)\n",
    "        else:\n",
    "            nx.draw_networkx_nodes(g,pos=pos,nodelist=[drain_pool[thisTarget-1]],node_color='r',node_size=100,ax=ax)\n",
    "            nx.draw_networkx_nodes(g,pos=pos,nodelist=list(np.hstack(np.array([drain_pool[:thisTarget-1],drain_pool[thisTarget:]]))),node_color='k',node_size=100,ax=ax)\n",
    "\n",
    "\n",
    "\n",
    "\n",
    "    if time in testTimes:\n",
    "        timeVals='Testing'\n",
    "    else:\n",
    "        timeVals='Training'\n",
    "\n",
    "    ax.set_title('T = ' + str(time)+ ' | ' + timeVals + ' | Target ' + str(targetValsTime[time]))\n",
    "\n",
    "    cbar = plt.colorbar(sm, ax=ax,\n",
    "                        fraction = 0.05, label=animationType)\n",
    "\n",
    "\n",
    "    print(loadReinf+'_'+b)\n",
    "    plt.savefig(saveFig+str(nwWires)+'nw_'+str(nwJunctions)+'nj_nback_WorkingMemory_'+loadReinf+'_7drains_3x3_'+b+'_t'+str(time)+timeVals+'.pdf',format='pdf')\n",
    "    with open(dataLoc+'/Sim Results/working memory nback/'+str(nwWires)+'nw_'+str(nwJunctions)+'nj_nback_WorkingMemory_'+loadReinf+'_7drains_3x3_'+b+'_JC_t'+str(time)+timeVals+'.pkl', 'wb') as f1:\n",
    "        pickle.dump(weights, f1) \n",
    "    print('Saved')\n",
    "    \n",
    "    plt.close(f)"
   ]
  },
  {
   "cell_type": "code",
   "execution_count": 66,
   "metadata": {},
   "outputs": [
    {
     "data": {
      "text/plain": [
       "[<matplotlib.lines.Line2D at 0x7f0b1abde400>]"
      ]
     },
     "execution_count": 66,
     "metadata": {},
     "output_type": "execute_result"
    },
    {
     "data": {
      "image/png": "[encoded data removed]",
      "text/plain": [
       "<Figure size 432x288 with 1 Axes>"
      ]
     },
     "metadata": {
      "needs_background": "light"
     },
     "output_type": "display_data"
    }
   ],
   "source": [
    "plt.plot((targetValsTime==1)[108000:110400])"
   ]
  },
  {
   "cell_type": "code",
   "execution_count": 201,
   "metadata": {},
   "outputs": [],
   "source": [
    "anim1 = animation.FuncAnimation(f, image_draw_current_filament, \n",
    "                               frames=range(xlims[0],xlims[1],1)[::200], \n",
    "                               interval=20, \n",
    "                               repeat=False,fargs=(edge_mode,edge_weight,cmap,maxWeights,minWeights))"
   ]
  },
  {
   "cell_type": "code",
   "execution_count": 217,
   "metadata": {},
   "outputs": [
    {
     "ename": "KeyboardInterrupt",
     "evalue": "",
     "output_type": "error",
     "traceback": [
      "\u001b[0;31m---------------------------------------------------------------------------\u001b[0m",
      "\u001b[0;31mKeyboardInterrupt\u001b[0m                         Traceback (most recent call last)",
      "\u001b[0;32m/tmp/ipykernel_763/1636525078.py\u001b[0m in \u001b[0;36m<module>\u001b[0;34m\u001b[0m\n\u001b[1;32m      2\u001b[0m \u001b[0mplt\u001b[0m\u001b[0;34m.\u001b[0m\u001b[0mfigure\u001b[0m\u001b[0;34m(\u001b[0m\u001b[0;34m)\u001b[0m\u001b[0;34m\u001b[0m\u001b[0;34m\u001b[0m\u001b[0m\n\u001b[1;32m      3\u001b[0m \u001b[0mtime\u001b[0m \u001b[0;34m=\u001b[0m \u001b[0;36m1001\u001b[0m\u001b[0;34m\u001b[0m\u001b[0;34m\u001b[0m\u001b[0m\n\u001b[0;32m----> 4\u001b[0;31m \u001b[0mimage_draw_current_filament\u001b[0m\u001b[0;34m(\u001b[0m\u001b[0mtime\u001b[0m\u001b[0;34m,\u001b[0m\u001b[0medge_mode\u001b[0m\u001b[0;34m,\u001b[0m\u001b[0medge_weight\u001b[0m\u001b[0;34m,\u001b[0m\u001b[0mcmap\u001b[0m\u001b[0;34m,\u001b[0m\u001b[0mmaxWeights\u001b[0m\u001b[0;34m,\u001b[0m\u001b[0mminWeights\u001b[0m\u001b[0;34m)\u001b[0m\u001b[0;34m\u001b[0m\u001b[0;34m\u001b[0m\u001b[0m\n\u001b[0m\u001b[1;32m      5\u001b[0m \u001b[0mplt\u001b[0m\u001b[0;34m.\u001b[0m\u001b[0mshow\u001b[0m\u001b[0;34m(\u001b[0m\u001b[0;34m)\u001b[0m\u001b[0;34m\u001b[0m\u001b[0;34m\u001b[0m\u001b[0m\n",
      "\u001b[0;32m/tmp/ipykernel_763/1489432623.py\u001b[0m in \u001b[0;36mimage_draw_current_filament\u001b[0;34m(time, edge_mode, edge_weight, cmap, maxWeights, minWeights)\u001b[0m\n\u001b[1;32m     68\u001b[0m \u001b[0;31m#     G=getWeightedGraph(sim,edgeList,numWires,time,edge_mode)\u001b[0m\u001b[0;34m\u001b[0m\u001b[0;34m\u001b[0m\u001b[0;34m\u001b[0m\u001b[0m\n\u001b[1;32m     69\u001b[0m \u001b[0;34m\u001b[0m\u001b[0m\n\u001b[0;32m---> 70\u001b[0;31m     \u001b[0mpos\u001b[0m\u001b[0;34m=\u001b[0m\u001b[0mnx\u001b[0m\u001b[0;34m.\u001b[0m\u001b[0mkamada_kawai_layout\u001b[0m\u001b[0;34m(\u001b[0m\u001b[0mg\u001b[0m\u001b[0;34m)\u001b[0m\u001b[0;34m\u001b[0m\u001b[0;34m\u001b[0m\u001b[0m\n\u001b[0m\u001b[1;32m     71\u001b[0m     \u001b[0medgeList\u001b[0m\u001b[0;34m=\u001b[0m\u001b[0msims\u001b[0m\u001b[0;34m[\u001b[0m\u001b[0;36m0\u001b[0m\u001b[0;34m]\u001b[0m\u001b[0;34m.\u001b[0m\u001b[0mconnectivity\u001b[0m\u001b[0;34m.\u001b[0m\u001b[0medge_list\u001b[0m\u001b[0;34m\u001b[0m\u001b[0;34m\u001b[0m\u001b[0m\n\u001b[1;32m     72\u001b[0m     \u001b[0mnumWires\u001b[0m\u001b[0;34m=\u001b[0m\u001b[0mg\u001b[0m\u001b[0;34m.\u001b[0m\u001b[0mnumber_of_nodes\u001b[0m\u001b[0;34m(\u001b[0m\u001b[0;34m)\u001b[0m\u001b[0;34m\u001b[0m\u001b[0;34m\u001b[0m\u001b[0m\n",
      "\u001b[0;32m~/anaconda3/envs/phd/lib/python3.8/site-packages/networkx/drawing/layout.py\u001b[0m in \u001b[0;36mkamada_kawai_layout\u001b[0;34m(G, dist, pos, weight, scale, center, dim)\u001b[0m\n\u001b[1;32m    689\u001b[0m \u001b[0;34m\u001b[0m\u001b[0m\n\u001b[1;32m    690\u001b[0m     \u001b[0;32mif\u001b[0m \u001b[0mdist\u001b[0m \u001b[0;32mis\u001b[0m \u001b[0;32mNone\u001b[0m\u001b[0;34m:\u001b[0m\u001b[0;34m\u001b[0m\u001b[0;34m\u001b[0m\u001b[0m\n\u001b[0;32m--> 691\u001b[0;31m         \u001b[0mdist\u001b[0m \u001b[0;34m=\u001b[0m \u001b[0mdict\u001b[0m\u001b[0;34m(\u001b[0m\u001b[0mnx\u001b[0m\u001b[0;34m.\u001b[0m\u001b[0mshortest_path_length\u001b[0m\u001b[0;34m(\u001b[0m\u001b[0mG\u001b[0m\u001b[0;34m,\u001b[0m \u001b[0mweight\u001b[0m\u001b[0;34m=\u001b[0m\u001b[0mweight\u001b[0m\u001b[0;34m)\u001b[0m\u001b[0;34m)\u001b[0m\u001b[0;34m\u001b[0m\u001b[0;34m\u001b[0m\u001b[0m\n\u001b[0m\u001b[1;32m    692\u001b[0m     \u001b[0mdist_mtx\u001b[0m \u001b[0;34m=\u001b[0m \u001b[0;36m1e6\u001b[0m \u001b[0;34m*\u001b[0m \u001b[0mnp\u001b[0m\u001b[0;34m.\u001b[0m\u001b[0mones\u001b[0m\u001b[0;34m(\u001b[0m\u001b[0;34m(\u001b[0m\u001b[0mnNodes\u001b[0m\u001b[0;34m,\u001b[0m \u001b[0mnNodes\u001b[0m\u001b[0;34m)\u001b[0m\u001b[0;34m)\u001b[0m\u001b[0;34m\u001b[0m\u001b[0;34m\u001b[0m\u001b[0m\n\u001b[1;32m    693\u001b[0m     \u001b[0;32mfor\u001b[0m \u001b[0mrow\u001b[0m\u001b[0;34m,\u001b[0m \u001b[0mnr\u001b[0m \u001b[0;32min\u001b[0m \u001b[0menumerate\u001b[0m\u001b[0;34m(\u001b[0m\u001b[0mG\u001b[0m\u001b[0;34m)\u001b[0m\u001b[0;34m:\u001b[0m\u001b[0;34m\u001b[0m\u001b[0;34m\u001b[0m\u001b[0m\n",
      "\u001b[0;32m~/anaconda3/envs/phd/lib/python3.8/site-packages/networkx/algorithms/shortest_paths/weighted.py\u001b[0m in \u001b[0;36mall_pairs_dijkstra_path_length\u001b[0;34m(G, cutoff, weight)\u001b[0m\n\u001b[1;32m   1053\u001b[0m     \u001b[0mlength\u001b[0m \u001b[0;34m=\u001b[0m \u001b[0msingle_source_dijkstra_path_length\u001b[0m\u001b[0;34m\u001b[0m\u001b[0;34m\u001b[0m\u001b[0m\n\u001b[1;32m   1054\u001b[0m     \u001b[0;32mfor\u001b[0m \u001b[0mn\u001b[0m \u001b[0;32min\u001b[0m \u001b[0mG\u001b[0m\u001b[0;34m:\u001b[0m\u001b[0;34m\u001b[0m\u001b[0;34m\u001b[0m\u001b[0m\n\u001b[0;32m-> 1055\u001b[0;31m         \u001b[0;32myield\u001b[0m \u001b[0;34m(\u001b[0m\u001b[0mn\u001b[0m\u001b[0;34m,\u001b[0m \u001b[0mlength\u001b[0m\u001b[0;34m(\u001b[0m\u001b[0mG\u001b[0m\u001b[0;34m,\u001b[0m \u001b[0mn\u001b[0m\u001b[0;34m,\u001b[0m \u001b[0mcutoff\u001b[0m\u001b[0;34m=\u001b[0m\u001b[0mcutoff\u001b[0m\u001b[0;34m,\u001b[0m \u001b[0mweight\u001b[0m\u001b[0;34m=\u001b[0m\u001b[0mweight\u001b[0m\u001b[0;34m)\u001b[0m\u001b[0;34m)\u001b[0m\u001b[0;34m\u001b[0m\u001b[0;34m\u001b[0m\u001b[0m\n\u001b[0m\u001b[1;32m   1056\u001b[0m \u001b[0;34m\u001b[0m\u001b[0m\n\u001b[1;32m   1057\u001b[0m \u001b[0;34m\u001b[0m\u001b[0m\n",
      "\u001b[0;32m~/anaconda3/envs/phd/lib/python3.8/site-packages/networkx/algorithms/shortest_paths/weighted.py\u001b[0m in \u001b[0;36msingle_source_dijkstra_path_length\u001b[0;34m(G, source, cutoff, weight)\u001b[0m\n\u001b[1;32m    368\u001b[0m \u001b[0;34m\u001b[0m\u001b[0m\n\u001b[1;32m    369\u001b[0m     \"\"\"\n\u001b[0;32m--> 370\u001b[0;31m     \u001b[0;32mreturn\u001b[0m \u001b[0mmulti_source_dijkstra_path_length\u001b[0m\u001b[0;34m(\u001b[0m\u001b[0mG\u001b[0m\u001b[0;34m,\u001b[0m \u001b[0;34m{\u001b[0m\u001b[0msource\u001b[0m\u001b[0;34m}\u001b[0m\u001b[0;34m,\u001b[0m \u001b[0mcutoff\u001b[0m\u001b[0;34m=\u001b[0m\u001b[0mcutoff\u001b[0m\u001b[0;34m,\u001b[0m \u001b[0mweight\u001b[0m\u001b[0;34m=\u001b[0m\u001b[0mweight\u001b[0m\u001b[0;34m)\u001b[0m\u001b[0;34m\u001b[0m\u001b[0;34m\u001b[0m\u001b[0m\n\u001b[0m\u001b[1;32m    371\u001b[0m \u001b[0;34m\u001b[0m\u001b[0m\n\u001b[1;32m    372\u001b[0m \u001b[0;34m\u001b[0m\u001b[0m\n",
      "\u001b[0;32m~/anaconda3/envs/phd/lib/python3.8/site-packages/networkx/algorithms/shortest_paths/weighted.py\u001b[0m in \u001b[0;36mmulti_source_dijkstra_path_length\u001b[0;34m(G, sources, cutoff, weight)\u001b[0m\n\u001b[1;32m    620\u001b[0m         \u001b[0;32mraise\u001b[0m \u001b[0mValueError\u001b[0m\u001b[0;34m(\u001b[0m\u001b[0;34m\"sources must not be empty\"\u001b[0m\u001b[0;34m)\u001b[0m\u001b[0;34m\u001b[0m\u001b[0;34m\u001b[0m\u001b[0m\n\u001b[1;32m    621\u001b[0m     \u001b[0mweight\u001b[0m \u001b[0;34m=\u001b[0m \u001b[0m_weight_function\u001b[0m\u001b[0;34m(\u001b[0m\u001b[0mG\u001b[0m\u001b[0;34m,\u001b[0m \u001b[0mweight\u001b[0m\u001b[0;34m)\u001b[0m\u001b[0;34m\u001b[0m\u001b[0;34m\u001b[0m\u001b[0m\n\u001b[0;32m--> 622\u001b[0;31m     \u001b[0;32mreturn\u001b[0m \u001b[0m_dijkstra_multisource\u001b[0m\u001b[0;34m(\u001b[0m\u001b[0mG\u001b[0m\u001b[0;34m,\u001b[0m \u001b[0msources\u001b[0m\u001b[0;34m,\u001b[0m \u001b[0mweight\u001b[0m\u001b[0;34m,\u001b[0m \u001b[0mcutoff\u001b[0m\u001b[0;34m=\u001b[0m\u001b[0mcutoff\u001b[0m\u001b[0;34m)\u001b[0m\u001b[0;34m\u001b[0m\u001b[0;34m\u001b[0m\u001b[0m\n\u001b[0m\u001b[1;32m    623\u001b[0m \u001b[0;34m\u001b[0m\u001b[0m\n\u001b[1;32m    624\u001b[0m \u001b[0;34m\u001b[0m\u001b[0m\n",
      "\u001b[0;32m~/anaconda3/envs/phd/lib/python3.8/site-packages/networkx/algorithms/shortest_paths/weighted.py\u001b[0m in \u001b[0;36m_dijkstra_multisource\u001b[0;34m(G, sources, weight, pred, paths, cutoff, target)\u001b[0m\n\u001b[1;32m    841\u001b[0m                 \u001b[0;32melif\u001b[0m \u001b[0mpred\u001b[0m \u001b[0;32mis\u001b[0m \u001b[0;32mnot\u001b[0m \u001b[0;32mNone\u001b[0m \u001b[0;32mand\u001b[0m \u001b[0mvu_dist\u001b[0m \u001b[0;34m==\u001b[0m \u001b[0mu_dist\u001b[0m\u001b[0;34m:\u001b[0m\u001b[0;34m\u001b[0m\u001b[0;34m\u001b[0m\u001b[0m\n\u001b[1;32m    842\u001b[0m                     \u001b[0mpred\u001b[0m\u001b[0;34m[\u001b[0m\u001b[0mu\u001b[0m\u001b[0;34m]\u001b[0m\u001b[0;34m.\u001b[0m\u001b[0mappend\u001b[0m\u001b[0;34m(\u001b[0m\u001b[0mv\u001b[0m\u001b[0;34m)\u001b[0m\u001b[0;34m\u001b[0m\u001b[0;34m\u001b[0m\u001b[0m\n\u001b[0;32m--> 843\u001b[0;31m             \u001b[0;32melif\u001b[0m \u001b[0mu\u001b[0m \u001b[0;32mnot\u001b[0m \u001b[0;32min\u001b[0m \u001b[0mseen\u001b[0m \u001b[0;32mor\u001b[0m \u001b[0mvu_dist\u001b[0m \u001b[0;34m<\u001b[0m \u001b[0mseen\u001b[0m\u001b[0;34m[\u001b[0m\u001b[0mu\u001b[0m\u001b[0;34m]\u001b[0m\u001b[0;34m:\u001b[0m\u001b[0;34m\u001b[0m\u001b[0;34m\u001b[0m\u001b[0m\n\u001b[0m\u001b[1;32m    844\u001b[0m                 \u001b[0mseen\u001b[0m\u001b[0;34m[\u001b[0m\u001b[0mu\u001b[0m\u001b[0;34m]\u001b[0m \u001b[0;34m=\u001b[0m \u001b[0mvu_dist\u001b[0m\u001b[0;34m\u001b[0m\u001b[0;34m\u001b[0m\u001b[0m\n\u001b[1;32m    845\u001b[0m                 \u001b[0mpush\u001b[0m\u001b[0;34m(\u001b[0m\u001b[0mfringe\u001b[0m\u001b[0;34m,\u001b[0m \u001b[0;34m(\u001b[0m\u001b[0mvu_dist\u001b[0m\u001b[0;34m,\u001b[0m \u001b[0mnext\u001b[0m\u001b[0;34m(\u001b[0m\u001b[0mc\u001b[0m\u001b[0;34m)\u001b[0m\u001b[0;34m,\u001b[0m \u001b[0mu\u001b[0m\u001b[0;34m)\u001b[0m\u001b[0;34m)\u001b[0m\u001b[0;34m\u001b[0m\u001b[0;34m\u001b[0m\u001b[0m\n",
      "\u001b[0;31mKeyboardInterrupt\u001b[0m: "
     ]
    },
    {
     "data": {
      "text/plain": [
       "<Figure size 432x288 with 0 Axes>"
      ]
     },
     "metadata": {},
     "output_type": "display_data"
    }
   ],
   "source": [
    "#Draw Example Time:\n",
    "plt.figure()\n",
    "time = 1001\n",
    "image_draw_current_filament(time,edge_mode,edge_weight,cmap,maxWeights,minWeights)\n",
    "plt.show()"
   ]
  },
  {
   "cell_type": "code",
   "execution_count": 240,
   "metadata": {},
   "outputs": [],
   "source": [
    "plt.close('all')"
   ]
  },
  {
   "cell_type": "code",
   "execution_count": 202,
   "metadata": {
    "scrolled": true
   },
   "outputs": [
    {
     "name": "stderr",
     "output_type": "stream",
     "text": [
      "2022-06-15 15:36:26,098:INFO:Animation.save using <class 'matplotlib.animation.FFMpegWriter'>\n",
      "2022-06-15 15:36:26,102:INFO:MovieWriter._run: running command: ffmpeg -f rawvideo -vcodec rawvideo -s 3000x2400 -pix_fmt rgba -r 10 -loglevel error -i pipe: -vcodec h264 -pix_fmt yuv420p -y 698nw_2582nj_nback_WorkingMemory_noReinforcement_3x3_7drains_b2_conductance_t0_111799.mp4\n"
     ]
    },
    {
     "name": "stdout",
     "output_type": "stream",
     "text": [
      "Saving frame 0 of 559\n",
      "Saving frame 1 of 559\n",
      "Saving frame 2 of 559\n",
      "Saving frame 3 of 559\n",
      "Saving frame 4 of 559\n",
      "Saving frame 5 of 559\n",
      "Saving frame 6 of 559\n",
      "Saving frame 7 of 559\n",
      "Saving frame 8 of 559\n",
      "Saving frame 9 of 559\n",
      "Saving frame 10 of 559\n",
      "Saving frame 11 of 559\n",
      "Saving frame 12 of 559\n",
      "Saving frame 13 of 559\n",
      "Saving frame 14 of 559\n",
      "Saving frame 15 of 559\n",
      "Saving frame 16 of 559\n",
      "Saving frame 17 of 559\n",
      "Saving frame 18 of 559\n",
      "Saving frame 19 of 559\n",
      "Saving frame 20 of 559\n",
      "Saving frame 21 of 559\n",
      "Saving frame 22 of 559\n",
      "Saving frame 23 of 559\n",
      "Saving frame 24 of 559\n",
      "Saving frame 25 of 559\n",
      "Saving frame 26 of 559\n",
      "Saving frame 27 of 559\n",
      "Saving frame 28 of 559\n",
      "Saving frame 29 of 559\n",
      "Saving frame 30 of 559\n",
      "Saving frame 31 of 559\n",
      "Saving frame 32 of 559\n",
      "Saving frame 33 of 559\n",
      "Saving frame 34 of 559\n",
      "Saving frame 35 of 559\n",
      "Saving frame 36 of 559\n",
      "Saving frame 37 of 559\n",
      "Saving frame 38 of 559\n",
      "Saving frame 39 of 559\n",
      "Saving frame 40 of 559\n",
      "Saving frame 41 of 559\n",
      "Saving frame 42 of 559\n",
      "Saving frame 43 of 559\n",
      "Saving frame 44 of 559\n",
      "Saving frame 45 of 559\n",
      "Saving frame 46 of 559\n",
      "Saving frame 47 of 559\n",
      "Saving frame 48 of 559\n",
      "Saving frame 49 of 559\n",
      "Saving frame 50 of 559\n",
      "Saving frame 51 of 559\n",
      "Saving frame 52 of 559\n",
      "Saving frame 53 of 559\n",
      "Saving frame 54 of 559\n",
      "Saving frame 55 of 559\n",
      "Saving frame 56 of 559\n",
      "Saving frame 57 of 559\n",
      "Saving frame 58 of 559\n",
      "Saving frame 59 of 559\n",
      "Saving frame 60 of 559\n",
      "Saving frame 61 of 559\n",
      "Saving frame 62 of 559\n",
      "Saving frame 63 of 559\n",
      "Saving frame 64 of 559\n",
      "Saving frame 65 of 559\n",
      "Saving frame 66 of 559\n",
      "Saving frame 67 of 559\n",
      "Saving frame 68 of 559\n",
      "Saving frame 69 of 559\n",
      "Saving frame 70 of 559\n",
      "Saving frame 71 of 559\n",
      "Saving frame 72 of 559\n",
      "Saving frame 73 of 559\n",
      "Saving frame 74 of 559\n",
      "Saving frame 75 of 559\n",
      "Saving frame 76 of 559\n",
      "Saving frame 77 of 559\n",
      "Saving frame 78 of 559\n",
      "Saving frame 79 of 559\n",
      "Saving frame 80 of 559\n",
      "Saving frame 81 of 559\n",
      "Saving frame 82 of 559\n",
      "Saving frame 83 of 559\n",
      "Saving frame 84 of 559\n",
      "Saving frame 85 of 559\n",
      "Saving frame 86 of 559\n",
      "Saving frame 87 of 559\n",
      "Saving frame 88 of 559\n",
      "Saving frame 89 of 559\n",
      "Saving frame 90 of 559\n",
      "Saving frame 91 of 559\n",
      "Saving frame 92 of 559\n",
      "Saving frame 93 of 559\n",
      "Saving frame 94 of 559\n",
      "Saving frame 95 of 559\n",
      "Saving frame 96 of 559\n",
      "Saving frame 97 of 559\n",
      "Saving frame 98 of 559\n",
      "Saving frame 99 of 559\n",
      "Saving frame 100 of 559\n",
      "Saving frame 101 of 559\n",
      "Saving frame 102 of 559\n",
      "Saving frame 103 of 559\n",
      "Saving frame 104 of 559\n",
      "Saving frame 105 of 559\n",
      "Saving frame 106 of 559\n",
      "Saving frame 107 of 559\n",
      "Saving frame 108 of 559\n",
      "Saving frame 109 of 559\n",
      "Saving frame 110 of 559\n",
      "Saving frame 111 of 559\n",
      "Saving frame 112 of 559\n",
      "Saving frame 113 of 559\n",
      "Saving frame 114 of 559\n",
      "Saving frame 115 of 559\n",
      "Saving frame 116 of 559\n",
      "Saving frame 117 of 559\n",
      "Saving frame 118 of 559\n",
      "Saving frame 119 of 559\n",
      "Saving frame 120 of 559\n",
      "Saving frame 121 of 559\n",
      "Saving frame 122 of 559\n",
      "Saving frame 123 of 559\n",
      "Saving frame 124 of 559\n",
      "Saving frame 125 of 559\n",
      "Saving frame 126 of 559\n",
      "Saving frame 127 of 559\n",
      "Saving frame 128 of 559\n",
      "Saving frame 129 of 559\n",
      "Saving frame 130 of 559\n",
      "Saving frame 131 of 559\n",
      "Saving frame 132 of 559\n",
      "Saving frame 133 of 559\n",
      "Saving frame 134 of 559\n",
      "Saving frame 135 of 559\n",
      "Saving frame 136 of 559\n",
      "Saving frame 137 of 559\n",
      "Saving frame 138 of 559\n",
      "Saving frame 139 of 559\n",
      "Saving frame 140 of 559\n",
      "Saving frame 141 of 559\n",
      "Saving frame 142 of 559\n",
      "Saving frame 143 of 559\n",
      "Saving frame 144 of 559\n",
      "Saving frame 145 of 559\n",
      "Saving frame 146 of 559\n",
      "Saving frame 147 of 559\n",
      "Saving frame 148 of 559\n",
      "Saving frame 149 of 559\n",
      "Saving frame 150 of 559\n",
      "Saving frame 151 of 559\n",
      "Saving frame 152 of 559\n",
      "Saving frame 153 of 559\n",
      "Saving frame 154 of 559\n",
      "Saving frame 155 of 559\n",
      "Saving frame 156 of 559\n",
      "Saving frame 157 of 559\n",
      "Saving frame 158 of 559\n",
      "Saving frame 159 of 559\n",
      "Saving frame 160 of 559\n",
      "Saving frame 161 of 559\n",
      "Saving frame 162 of 559\n",
      "Saving frame 163 of 559\n",
      "Saving frame 164 of 559\n",
      "Saving frame 165 of 559\n",
      "Saving frame 166 of 559\n",
      "Saving frame 167 of 559\n",
      "Saving frame 168 of 559\n",
      "Saving frame 169 of 559\n",
      "Saving frame 170 of 559\n",
      "Saving frame 171 of 559\n",
      "Saving frame 172 of 559\n",
      "Saving frame 173 of 559\n",
      "Saving frame 174 of 559\n",
      "Saving frame 175 of 559\n",
      "Saving frame 176 of 559\n",
      "Saving frame 177 of 559\n",
      "Saving frame 178 of 559\n",
      "Saving frame 179 of 559\n",
      "Saving frame 180 of 559\n",
      "Saving frame 181 of 559\n",
      "Saving frame 182 of 559\n",
      "Saving frame 183 of 559\n",
      "Saving frame 184 of 559\n",
      "Saving frame 185 of 559\n",
      "Saving frame 186 of 559\n",
      "Saving frame 187 of 559\n",
      "Saving frame 188 of 559\n",
      "Saving frame 189 of 559\n",
      "Saving frame 190 of 559\n",
      "Saving frame 191 of 559\n",
      "Saving frame 192 of 559\n",
      "Saving frame 193 of 559\n",
      "Saving frame 194 of 559\n",
      "Saving frame 195 of 559\n",
      "Saving frame 196 of 559\n",
      "Saving frame 197 of 559\n",
      "Saving frame 198 of 559\n",
      "Saving frame 199 of 559\n",
      "Saving frame 200 of 559\n",
      "Saving frame 201 of 559\n",
      "Saving frame 202 of 559\n",
      "Saving frame 203 of 559\n",
      "Saving frame 204 of 559\n",
      "Saving frame 205 of 559\n",
      "Saving frame 206 of 559\n",
      "Saving frame 207 of 559\n",
      "Saving frame 208 of 559\n",
      "Saving frame 209 of 559\n",
      "Saving frame 210 of 559\n",
      "Saving frame 211 of 559\n",
      "Saving frame 212 of 559\n",
      "Saving frame 213 of 559\n",
      "Saving frame 214 of 559\n",
      "Saving frame 215 of 559\n",
      "Saving frame 216 of 559\n",
      "Saving frame 217 of 559\n",
      "Saving frame 218 of 559\n",
      "Saving frame 219 of 559\n",
      "Saving frame 220 of 559\n",
      "Saving frame 221 of 559\n",
      "Saving frame 222 of 559\n",
      "Saving frame 223 of 559\n",
      "Saving frame 224 of 559\n",
      "Saving frame 225 of 559\n",
      "Saving frame 226 of 559\n",
      "Saving frame 227 of 559\n",
      "Saving frame 228 of 559\n",
      "Saving frame 229 of 559\n",
      "Saving frame 230 of 559\n",
      "Saving frame 231 of 559\n",
      "Saving frame 232 of 559\n",
      "Saving frame 233 of 559\n",
      "Saving frame 234 of 559\n",
      "Saving frame 235 of 559\n",
      "Saving frame 236 of 559\n",
      "Saving frame 237 of 559\n",
      "Saving frame 238 of 559\n",
      "Saving frame 239 of 559\n",
      "Saving frame 240 of 559\n",
      "Saving frame 241 of 559\n",
      "Saving frame 242 of 559\n",
      "Saving frame 243 of 559\n",
      "Saving frame 244 of 559\n",
      "Saving frame 245 of 559\n",
      "Saving frame 246 of 559\n",
      "Saving frame 247 of 559\n",
      "Saving frame 248 of 559\n",
      "Saving frame 249 of 559\n",
      "Saving frame 250 of 559\n",
      "Saving frame 251 of 559\n",
      "Saving frame 252 of 559\n",
      "Saving frame 253 of 559\n",
      "Saving frame 254 of 559\n",
      "Saving frame 255 of 559\n",
      "Saving frame 256 of 559\n",
      "Saving frame 257 of 559\n",
      "Saving frame 258 of 559\n",
      "Saving frame 259 of 559\n",
      "Saving frame 260 of 559\n",
      "Saving frame 261 of 559\n",
      "Saving frame 262 of 559\n",
      "Saving frame 263 of 559\n",
      "Saving frame 264 of 559\n",
      "Saving frame 265 of 559\n",
      "Saving frame 266 of 559\n",
      "Saving frame 267 of 559\n",
      "Saving frame 268 of 559\n",
      "Saving frame 269 of 559\n",
      "Saving frame 270 of 559\n",
      "Saving frame 271 of 559\n",
      "Saving frame 272 of 559\n",
      "Saving frame 273 of 559\n",
      "Saving frame 274 of 559\n",
      "Saving frame 275 of 559\n",
      "Saving frame 276 of 559\n",
      "Saving frame 277 of 559\n",
      "Saving frame 278 of 559\n",
      "Saving frame 279 of 559\n",
      "Saving frame 280 of 559\n",
      "Saving frame 281 of 559\n",
      "Saving frame 282 of 559\n",
      "Saving frame 283 of 559\n",
      "Saving frame 284 of 559\n",
      "Saving frame 285 of 559\n",
      "Saving frame 286 of 559\n",
      "Saving frame 287 of 559\n",
      "Saving frame 288 of 559\n",
      "Saving frame 289 of 559\n",
      "Saving frame 290 of 559\n",
      "Saving frame 291 of 559\n",
      "Saving frame 292 of 559\n",
      "Saving frame 293 of 559\n",
      "Saving frame 294 of 559\n",
      "Saving frame 295 of 559\n",
      "Saving frame 296 of 559\n",
      "Saving frame 297 of 559\n",
      "Saving frame 298 of 559\n",
      "Saving frame 299 of 559\n",
      "Saving frame 300 of 559\n",
      "Saving frame 301 of 559\n",
      "Saving frame 302 of 559\n",
      "Saving frame 303 of 559\n",
      "Saving frame 304 of 559\n",
      "Saving frame 305 of 559\n",
      "Saving frame 306 of 559\n",
      "Saving frame 307 of 559\n",
      "Saving frame 308 of 559\n",
      "Saving frame 309 of 559\n",
      "Saving frame 310 of 559\n",
      "Saving frame 311 of 559\n",
      "Saving frame 312 of 559\n",
      "Saving frame 313 of 559\n",
      "Saving frame 314 of 559\n",
      "Saving frame 315 of 559\n",
      "Saving frame 316 of 559\n",
      "Saving frame 317 of 559\n",
      "Saving frame 318 of 559\n",
      "Saving frame 319 of 559\n",
      "Saving frame 320 of 559\n",
      "Saving frame 321 of 559\n",
      "Saving frame 322 of 559\n",
      "Saving frame 323 of 559\n",
      "Saving frame 324 of 559\n",
      "Saving frame 325 of 559\n",
      "Saving frame 326 of 559\n",
      "Saving frame 327 of 559\n",
      "Saving frame 328 of 559\n",
      "Saving frame 329 of 559\n",
      "Saving frame 330 of 559\n",
      "Saving frame 331 of 559\n",
      "Saving frame 332 of 559\n",
      "Saving frame 333 of 559\n",
      "Saving frame 334 of 559\n",
      "Saving frame 335 of 559\n",
      "Saving frame 336 of 559\n",
      "Saving frame 337 of 559\n",
      "Saving frame 338 of 559\n",
      "Saving frame 339 of 559\n",
      "Saving frame 340 of 559\n",
      "Saving frame 341 of 559\n",
      "Saving frame 342 of 559\n",
      "Saving frame 343 of 559\n",
      "Saving frame 344 of 559\n",
      "Saving frame 345 of 559\n"
     ]
    },
    {
     "name": "stdout",
     "output_type": "stream",
     "text": [
      "Saving frame 346 of 559\n",
      "Saving frame 347 of 559\n",
      "Saving frame 348 of 559\n",
      "Saving frame 349 of 559\n",
      "Saving frame 350 of 559\n",
      "Saving frame 351 of 559\n",
      "Saving frame 352 of 559\n",
      "Saving frame 353 of 559\n",
      "Saving frame 354 of 559\n",
      "Saving frame 355 of 559\n",
      "Saving frame 356 of 559\n",
      "Saving frame 357 of 559\n",
      "Saving frame 358 of 559\n",
      "Saving frame 359 of 559\n",
      "Saving frame 360 of 559\n",
      "Saving frame 361 of 559\n",
      "Saving frame 362 of 559\n",
      "Saving frame 363 of 559\n",
      "Saving frame 364 of 559\n",
      "Saving frame 365 of 559\n",
      "Saving frame 366 of 559\n",
      "Saving frame 367 of 559\n",
      "Saving frame 368 of 559\n",
      "Saving frame 369 of 559\n",
      "Saving frame 370 of 559\n",
      "Saving frame 371 of 559\n",
      "Saving frame 372 of 559\n",
      "Saving frame 373 of 559\n",
      "Saving frame 374 of 559\n",
      "Saving frame 375 of 559\n",
      "Saving frame 376 of 559\n",
      "Saving frame 377 of 559\n",
      "Saving frame 378 of 559\n",
      "Saving frame 379 of 559\n",
      "Saving frame 380 of 559\n",
      "Saving frame 381 of 559\n",
      "Saving frame 382 of 559\n",
      "Saving frame 383 of 559\n",
      "Saving frame 384 of 559\n",
      "Saving frame 385 of 559\n",
      "Saving frame 386 of 559\n",
      "Saving frame 387 of 559\n",
      "Saving frame 388 of 559\n",
      "Saving frame 389 of 559\n",
      "Saving frame 390 of 559\n",
      "Saving frame 391 of 559\n",
      "Saving frame 392 of 559\n",
      "Saving frame 393 of 559\n",
      "Saving frame 394 of 559\n",
      "Saving frame 395 of 559\n",
      "Saving frame 396 of 559\n",
      "Saving frame 397 of 559\n",
      "Saving frame 398 of 559\n",
      "Saving frame 399 of 559\n",
      "Saving frame 400 of 559\n",
      "Saving frame 401 of 559\n",
      "Saving frame 402 of 559\n",
      "Saving frame 403 of 559\n",
      "Saving frame 404 of 559\n",
      "Saving frame 405 of 559\n",
      "Saving frame 406 of 559\n",
      "Saving frame 407 of 559\n",
      "Saving frame 408 of 559\n",
      "Saving frame 409 of 559\n",
      "Saving frame 410 of 559\n",
      "Saving frame 411 of 559\n",
      "Saving frame 412 of 559\n",
      "Saving frame 413 of 559\n",
      "Saving frame 414 of 559\n",
      "Saving frame 415 of 559\n",
      "Saving frame 416 of 559\n",
      "Saving frame 417 of 559\n",
      "Saving frame 418 of 559\n",
      "Saving frame 419 of 559\n",
      "Saving frame 420 of 559\n",
      "Saving frame 421 of 559\n",
      "Saving frame 422 of 559\n",
      "Saving frame 423 of 559\n",
      "Saving frame 424 of 559\n",
      "Saving frame 425 of 559\n",
      "Saving frame 426 of 559\n",
      "Saving frame 427 of 559\n",
      "Saving frame 428 of 559\n",
      "Saving frame 429 of 559\n",
      "Saving frame 430 of 559\n",
      "Saving frame 431 of 559\n",
      "Saving frame 432 of 559\n",
      "Saving frame 433 of 559\n",
      "Saving frame 434 of 559\n",
      "Saving frame 435 of 559\n",
      "Saving frame 436 of 559\n",
      "Saving frame 437 of 559\n",
      "Saving frame 438 of 559\n",
      "Saving frame 439 of 559\n",
      "Saving frame 440 of 559\n",
      "Saving frame 441 of 559\n",
      "Saving frame 442 of 559\n",
      "Saving frame 443 of 559\n",
      "Saving frame 444 of 559\n",
      "Saving frame 445 of 559\n",
      "Saving frame 446 of 559\n",
      "Saving frame 447 of 559\n",
      "Saving frame 448 of 559\n",
      "Saving frame 449 of 559\n",
      "Saving frame 450 of 559\n",
      "Saving frame 451 of 559\n",
      "Saving frame 452 of 559\n",
      "Saving frame 453 of 559\n",
      "Saving frame 454 of 559\n",
      "Saving frame 455 of 559\n",
      "Saving frame 456 of 559\n",
      "Saving frame 457 of 559\n",
      "Saving frame 458 of 559\n",
      "Saving frame 459 of 559\n",
      "Saving frame 460 of 559\n",
      "Saving frame 461 of 559\n",
      "Saving frame 462 of 559\n",
      "Saving frame 463 of 559\n",
      "Saving frame 464 of 559\n",
      "Saving frame 465 of 559\n",
      "Saving frame 466 of 559\n",
      "Saving frame 467 of 559\n",
      "Saving frame 468 of 559\n",
      "Saving frame 469 of 559\n",
      "Saving frame 470 of 559\n",
      "Saving frame 471 of 559\n",
      "Saving frame 472 of 559\n",
      "Saving frame 473 of 559\n",
      "Saving frame 474 of 559\n",
      "Saving frame 475 of 559\n",
      "Saving frame 476 of 559\n",
      "Saving frame 477 of 559\n",
      "Saving frame 478 of 559\n",
      "Saving frame 479 of 559\n",
      "Saving frame 480 of 559\n",
      "Saving frame 481 of 559\n",
      "Saving frame 482 of 559\n",
      "Saving frame 483 of 559\n",
      "Saving frame 484 of 559\n",
      "Saving frame 485 of 559\n",
      "Saving frame 486 of 559\n",
      "Saving frame 487 of 559\n",
      "Saving frame 488 of 559\n",
      "Saving frame 489 of 559\n",
      "Saving frame 490 of 559\n",
      "Saving frame 491 of 559\n",
      "Saving frame 492 of 559\n",
      "Saving frame 493 of 559\n",
      "Saving frame 494 of 559\n",
      "Saving frame 495 of 559\n",
      "Saving frame 496 of 559\n",
      "Saving frame 497 of 559\n",
      "Saving frame 498 of 559\n",
      "Saving frame 499 of 559\n",
      "Saving frame 500 of 559\n",
      "Saving frame 501 of 559\n",
      "Saving frame 502 of 559\n",
      "Saving frame 503 of 559\n",
      "Saving frame 504 of 559\n",
      "Saving frame 505 of 559\n",
      "Saving frame 506 of 559\n",
      "Saving frame 507 of 559\n",
      "Saving frame 508 of 559\n",
      "Saving frame 509 of 559\n",
      "Saving frame 510 of 559\n",
      "Saving frame 511 of 559\n",
      "Saving frame 512 of 559\n",
      "Saving frame 513 of 559\n",
      "Saving frame 514 of 559\n",
      "Saving frame 515 of 559\n",
      "Saving frame 516 of 559\n",
      "Saving frame 517 of 559\n",
      "Saving frame 518 of 559\n",
      "Saving frame 519 of 559\n",
      "Saving frame 520 of 559\n",
      "Saving frame 521 of 559\n",
      "Saving frame 522 of 559\n",
      "Saving frame 523 of 559\n",
      "Saving frame 524 of 559\n",
      "Saving frame 525 of 559\n",
      "Saving frame 526 of 559\n",
      "Saving frame 527 of 559\n",
      "Saving frame 528 of 559\n",
      "Saving frame 529 of 559\n",
      "Saving frame 530 of 559\n",
      "Saving frame 531 of 559\n",
      "Saving frame 532 of 559\n",
      "Saving frame 533 of 559\n",
      "Saving frame 534 of 559\n",
      "Saving frame 535 of 559\n",
      "Saving frame 536 of 559\n",
      "Saving frame 537 of 559\n",
      "Saving frame 538 of 559\n",
      "Saving frame 539 of 559\n",
      "Saving frame 540 of 559\n",
      "Saving frame 541 of 559\n",
      "Saving frame 542 of 559\n",
      "Saving frame 543 of 559\n",
      "Saving frame 544 of 559\n",
      "Saving frame 545 of 559\n",
      "Saving frame 546 of 559\n",
      "Saving frame 547 of 559\n",
      "Saving frame 548 of 559\n",
      "Saving frame 549 of 559\n",
      "Saving frame 550 of 559\n",
      "Saving frame 551 of 559\n",
      "Saving frame 552 of 559\n",
      "Saving frame 553 of 559\n",
      "Saving frame 554 of 559\n",
      "Saving frame 555 of 559\n",
      "Saving frame 556 of 559\n",
      "Saving frame 557 of 559\n",
      "Saving frame 558 of 559\n"
     ]
    },
    {
     "data": {
      "image/png": "[encoded data removed]",
      "text/plain": [
       "<Figure size 432x288 with 1 Axes>"
      ]
     },
     "metadata": {},
     "output_type": "display_data"
    }
   ],
   "source": [
    "#MP4\n",
    "currentPath=os.getcwd()\n",
    "FFwriter = animation.FFMpegWriter()\n",
    "os.chdir(saveFig)\n",
    "# if ManualSources:\n",
    "anim1.save(str(nwWires)+'nw_'+str(nwJunctions)+'nj_nback_WorkingMemory_'+loadReinf+'_3x3_7drains_'+b+'_'+animationType+'_t'+str(xlims[0])+'_'+str(xlims[1])+'.mp4', fps=10,\n",
    "          progress_callback = lambda i, n: print(f'Saving frame {i} of {n}'),)\n",
    "# else:\n",
    "#     anim1.save('nback_explore_'+animationType+'_trial9_t'+str(xlims[0])+'_'+str(xlims[1])+'_magmacmap.mp4', fps=10,\n",
    "#               progress_callback = lambda i, n: print(f'Saving frame {i} of {n}'),)\n",
    "os.chdir(currentPath)\n"
   ]
  },
  {
   "cell_type": "code",
   "execution_count": null,
   "metadata": {},
   "outputs": [],
   "source": []
  },
  {
   "cell_type": "code",
   "execution_count": 63,
   "metadata": {},
   "outputs": [],
   "source": [
    "#Junction Conductance:\n",
    "jCnoReinforcement=[]\n",
    "jCwReinforcement=[]\n",
    "times=[1400, 55800, 110200]\n",
    "for time in times:\n",
    "    #LOAD \n",
    "    with open(dataLoc+'/Sim Results/working memory nback/'+str(nwWires)+'nw_'+str(nwJunctions)+'nj_nback_WorkingMemory_noReinforcement_7drains_3x3_'+b+'_JC_t'+str(time)+'Testing.pkl', 'rb') as f:\n",
    "        jCnoReinforcement.append(pickle.load(f)) \n",
    "    with open(dataLoc+'/Sim Results/working memory nback/'+str(nwWires)+'nw_'+str(nwJunctions)+'nj_nback_WorkingMemory_wReinforcement_7drains_3x3_'+b+'_JC_t'+str(time)+'Testing.pkl', 'rb') as f:\n",
    "        jCwReinforcement.append(pickle.load(f)) \n",
    "        \n",
    "jCnoReinforcement=np.array(jCnoReinforcement)\n",
    "jCwReinforcement=np.array(jCwReinforcement)"
   ]
  },
  {
   "cell_type": "code",
   "execution_count": null,
   "metadata": {},
   "outputs": [],
   "source": []
  },
  {
   "cell_type": "code",
   "execution_count": 71,
   "metadata": {
    "scrolled": true
   },
   "outputs": [
    {
     "data": {
      "image/png": "[encoded data removed]",
      "text/plain": [
       "<Figure size 864x576 with 1 Axes>"
      ]
     },
     "metadata": {
      "needs_background": "light"
     },
     "output_type": "display_data"
    }
   ],
   "source": [
    "plt.rcParams['pdf.fonttype'] = 42\n",
    "\n",
    "whichEpoch = 0\n",
    "\n",
    "\n",
    "reducedJCnoReinf=jCnoReinforcement[whichEpoch][jCnoReinforcement[whichEpoch]>2e-5]\n",
    "reducedJCwReinf=jCwReinforcement[whichEpoch][jCwReinforcement[whichEpoch]>2e-5]\n",
    "\n",
    "plt.figure(figsize=(12,8))\n",
    "plt.hist(reducedJCnoReinf,facecolor='b',label='No Reinforcement',bins=15)\n",
    "plt.hist(reducedJCwReinf,facecolor='r',alpha=0.7,label='With Reinforcement',bins=15)\n",
    "plt.title('t = '+str(times[whichEpoch]))\n",
    "plt.legend()\n",
    "plt.xlabel('Gj')\n",
    "plt.ylabel('Frequency')\n",
    "plt.ylim([0,275])\n",
    "plt.savefig(saveFig+str(nwWires)+'nw_'+str(nwJunctions)+'nj_nback_WorkingMemory_'+b+'_JC_hist_'+str(times[whichEpoch])+'.pdf',format='pdf',dpi=300)"
   ]
  },
  {
   "cell_type": "code",
   "execution_count": null,
   "metadata": {},
   "outputs": [],
   "source": []
  }
 ],
 "metadata": {
  "kernelspec": {
   "display_name": "Python 3",
   "language": "python",
   "name": "python3"
  },
  "language_info": {
   "codemirror_mode": {
    "name": "ipython",
    "version": 3
   },
   "file_extension": ".py",
   "mimetype": "text/x-python",
   "name": "python",
   "nbconvert_exporter": "python",
   "pygments_lexer": "ipython3",
   "version": "3.7.3"
  }
 },
 "nbformat": 4,
 "nbformat_minor": 2
}
