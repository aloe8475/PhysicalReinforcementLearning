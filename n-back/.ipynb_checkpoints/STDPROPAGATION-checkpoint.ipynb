{
 "cells": [
  {
   "cell_type": "code",
   "execution_count": 115,
   "id": "608df792",
   "metadata": {
    "scrolled": true
   },
   "outputs": [
    {
     "name": "stdout",
     "output_type": "stream",
     "text": [
      "Loading Networks + Training Data\n"
     ]
    },
    {
     "name": "stderr",
     "output_type": "stream",
     "text": [
      "\u001b[32m[I 2021-11-25 11:54:33,333]\u001b[0m Using an existing study with name 'voltsweepprop' instead of creating a new one.\u001b[0m\n"
     ]
    },
    {
     "data": {
      "application/vnd.jupyter.widget-view+json": {
       "model_id": "7729f81333fa4e278ba8f801ec34c416",
       "version_major": 2,
       "version_minor": 0
      },
      "text/plain": [
       "  0%|          | 0/1 [00:00<?, ?it/s]"
      ]
     },
     "metadata": {},
     "output_type": "display_data"
    },
    {
     "data": {
      "application/vnd.jupyter.widget-view+json": {
       "model_id": "a136a70de7154eb98bea42311230a593",
       "version_major": 2,
       "version_minor": 0
      },
      "text/plain": [
       "Running Simulation :   0%|          | 0/380 [00:00<?, ?it/s]"
      ]
     },
     "metadata": {},
     "output_type": "display_data"
    },
    {
     "name": "stderr",
     "output_type": "stream",
     "text": [
      "2021-11-25 11:54:34,805:INFO:Accuracy: [0.6842105263157895],\tvtraining:0.5,\tvtesting:0.1, \tdt: 0.05, \tnumDT:4\n",
      "\u001b[32m[I 2021-11-25 11:54:34,895]\u001b[0m Trial 2 finished with value: 0.6842105263157895 and parameters: {'dt': 2, 'ampTraining': 0, 'ampTesting': 0}. Best is trial 2 with value: 0.6842105263157895.\u001b[0m\n"
     ]
    },
    {
     "name": "stdout",
     "output_type": "stream",
     "text": [
      "0.6842105263157895\n"
     ]
    },
    {
     "data": {
      "application/vnd.jupyter.widget-view+json": {
       "model_id": "0bd1013341d248259cd94dbad175a77d",
       "version_major": 2,
       "version_minor": 0
      },
      "text/plain": [
       "  0%|          | 0/1 [00:00<?, ?it/s]"
      ]
     },
     "metadata": {},
     "output_type": "display_data"
    },
    {
     "data": {
      "application/vnd.jupyter.widget-view+json": {
       "model_id": "945a7a3368c84cbc80334a1a7b01fc95",
       "version_major": 2,
       "version_minor": 0
      },
      "text/plain": [
       "Running Simulation :   0%|          | 0/1900 [00:00<?, ?it/s]"
      ]
     },
     "metadata": {},
     "output_type": "display_data"
    },
    {
     "name": "stderr",
     "output_type": "stream",
     "text": [
      "2021-11-25 11:54:41,282:INFO:Accuracy: [0.9473684210526315],\tvtraining:5,\tvtesting:0.3, \tdt: 0.01, \tnumDT:20\n",
      "\u001b[32m[I 2021-11-25 11:54:41,374]\u001b[0m Trial 3 finished with value: 0.9473684210526315 and parameters: {'dt': 0, 'ampTraining': 3, 'ampTesting': 2}. Best is trial 3 with value: 0.9473684210526315.\u001b[0m\n"
     ]
    },
    {
     "name": "stdout",
     "output_type": "stream",
     "text": [
      "0.9473684210526315\n"
     ]
    },
    {
     "data": {
      "application/vnd.jupyter.widget-view+json": {
       "model_id": "e6f00c8cd0f04b2d9e437e73d55e749a",
       "version_major": 2,
       "version_minor": 0
      },
      "text/plain": [
       "  0%|          | 0/1 [00:00<?, ?it/s]"
      ]
     },
     "metadata": {},
     "output_type": "display_data"
    },
    {
     "data": {
      "application/vnd.jupyter.widget-view+json": {
       "model_id": "bd1abd401d3845299e004b9f18d20ab9",
       "version_major": 2,
       "version_minor": 0
      },
      "text/plain": [
       "Running Simulation :   0%|          | 0/950 [00:00<?, ?it/s]"
      ]
     },
     "metadata": {},
     "output_type": "display_data"
    },
    {
     "name": "stderr",
     "output_type": "stream",
     "text": [
      "2021-11-25 11:54:44,652:INFO:Accuracy: [0.8842105263157894],\tvtraining:5,\tvtesting:0.5, \tdt: 0.02, \tnumDT:10\n",
      "\u001b[32m[I 2021-11-25 11:54:44,742]\u001b[0m Trial 4 finished with value: 0.8842105263157894 and parameters: {'dt': 1, 'ampTraining': 3, 'ampTesting': 3}. Best is trial 3 with value: 0.9473684210526315.\u001b[0m\n"
     ]
    },
    {
     "name": "stdout",
     "output_type": "stream",
     "text": [
      "0.8842105263157894\n"
     ]
    },
    {
     "data": {
      "application/vnd.jupyter.widget-view+json": {
       "model_id": "04819175eb1b40d0874f62772c03dc13",
       "version_major": 2,
       "version_minor": 0
      },
      "text/plain": [
       "  0%|          | 0/1 [00:00<?, ?it/s]"
      ]
     },
     "metadata": {},
     "output_type": "display_data"
    },
    {
     "data": {
      "application/vnd.jupyter.widget-view+json": {
       "model_id": "efba9b4a577c42c799f0aaf0d3c16481",
       "version_major": 2,
       "version_minor": 0
      },
      "text/plain": [
       "Running Simulation :   0%|          | 0/950 [00:00<?, ?it/s]"
      ]
     },
     "metadata": {},
     "output_type": "display_data"
    },
    {
     "name": "stderr",
     "output_type": "stream",
     "text": [
      "2021-11-25 11:54:47,994:INFO:Accuracy: [0.868421052631579],\tvtraining:0.5,\tvtesting:0.3, \tdt: 0.02, \tnumDT:10\n",
      "\u001b[32m[I 2021-11-25 11:54:48,082]\u001b[0m Trial 5 finished with value: 0.868421052631579 and parameters: {'dt': 1, 'ampTraining': 0, 'ampTesting': 2}. Best is trial 3 with value: 0.9473684210526315.\u001b[0m\n"
     ]
    },
    {
     "name": "stdout",
     "output_type": "stream",
     "text": [
      "0.868421052631579\n"
     ]
    },
    {
     "data": {
      "application/vnd.jupyter.widget-view+json": {
       "model_id": "e535476930bf414d8de5b92888e13527",
       "version_major": 2,
       "version_minor": 0
      },
      "text/plain": [
       "  0%|          | 0/1 [00:00<?, ?it/s]"
      ]
     },
     "metadata": {},
     "output_type": "display_data"
    },
    {
     "data": {
      "application/vnd.jupyter.widget-view+json": {
       "model_id": "db48417414da4042889976e194c4c9e2",
       "version_major": 2,
       "version_minor": 0
      },
      "text/plain": [
       "Running Simulation :   0%|          | 0/190 [00:00<?, ?it/s]"
      ]
     },
     "metadata": {},
     "output_type": "display_data"
    },
    {
     "name": "stderr",
     "output_type": "stream",
     "text": [
      "2021-11-25 11:54:48,891:INFO:Accuracy: [0.7894736842105263],\tvtraining:2,\tvtesting:0.1, \tdt: 0.1, \tnumDT:2\n",
      "\u001b[32m[I 2021-11-25 11:54:48,986]\u001b[0m Trial 6 finished with value: 0.7894736842105263 and parameters: {'dt': 3, 'ampTraining': 2, 'ampTesting': 0}. Best is trial 3 with value: 0.9473684210526315.\u001b[0m\n"
     ]
    },
    {
     "name": "stdout",
     "output_type": "stream",
     "text": [
      "0.7894736842105263\n"
     ]
    },
    {
     "data": {
      "application/vnd.jupyter.widget-view+json": {
       "model_id": "76c482d5633746b7b245fd89d3cdcd00",
       "version_major": 2,
       "version_minor": 0
      },
      "text/plain": [
       "  0%|          | 0/1 [00:00<?, ?it/s]"
      ]
     },
     "metadata": {},
     "output_type": "display_data"
    },
    {
     "data": {
      "application/vnd.jupyter.widget-view+json": {
       "model_id": "4623356ace374a3eb2d3c4f7bce55e45",
       "version_major": 2,
       "version_minor": 0
      },
      "text/plain": [
       "Running Simulation :   0%|          | 0/1900 [00:00<?, ?it/s]"
      ]
     },
     "metadata": {},
     "output_type": "display_data"
    },
    {
     "name": "stderr",
     "output_type": "stream",
     "text": [
      "2021-11-25 11:54:55,351:INFO:Accuracy: [0.8868421052631579],\tvtraining:0.5,\tvtesting:0.2, \tdt: 0.01, \tnumDT:20\n",
      "\u001b[32m[I 2021-11-25 11:54:55,440]\u001b[0m Trial 7 finished with value: 0.8868421052631579 and parameters: {'dt': 0, 'ampTraining': 0, 'ampTesting': 1}. Best is trial 3 with value: 0.9473684210526315.\u001b[0m\n"
     ]
    },
    {
     "name": "stdout",
     "output_type": "stream",
     "text": [
      "0.8868421052631579\n"
     ]
    },
    {
     "data": {
      "application/vnd.jupyter.widget-view+json": {
       "model_id": "7d34fe61eba54027b7590e98a6cbcc54",
       "version_major": 2,
       "version_minor": 0
      },
      "text/plain": [
       "  0%|          | 0/1 [00:00<?, ?it/s]"
      ]
     },
     "metadata": {},
     "output_type": "display_data"
    },
    {
     "data": {
      "application/vnd.jupyter.widget-view+json": {
       "model_id": "dd8a494787d148d3bbbdb7ea6d974337",
       "version_major": 2,
       "version_minor": 0
      },
      "text/plain": [
       "Running Simulation :   0%|          | 0/950 [00:00<?, ?it/s]"
      ]
     },
     "metadata": {},
     "output_type": "display_data"
    },
    {
     "name": "stderr",
     "output_type": "stream",
     "text": [
      "2021-11-25 11:54:58,716:INFO:Accuracy: [0.631578947368421],\tvtraining:0.5,\tvtesting:0.1, \tdt: 0.02, \tnumDT:10\n",
      "\u001b[32m[I 2021-11-25 11:54:58,807]\u001b[0m Trial 8 finished with value: 0.631578947368421 and parameters: {'dt': 1, 'ampTraining': 0, 'ampTesting': 0}. Best is trial 3 with value: 0.9473684210526315.\u001b[0m\n"
     ]
    },
    {
     "name": "stdout",
     "output_type": "stream",
     "text": [
      "0.631578947368421\n"
     ]
    },
    {
     "data": {
      "application/vnd.jupyter.widget-view+json": {
       "model_id": "5d2970641b5742098a0322c78dac717c",
       "version_major": 2,
       "version_minor": 0
      },
      "text/plain": [
       "  0%|          | 0/1 [00:00<?, ?it/s]"
      ]
     },
     "metadata": {},
     "output_type": "display_data"
    },
    {
     "data": {
      "application/vnd.jupyter.widget-view+json": {
       "model_id": "9a3b93d19d7e437c933833d60f16a2a0",
       "version_major": 2,
       "version_minor": 0
      },
      "text/plain": [
       "Running Simulation :   0%|          | 0/950 [00:00<?, ?it/s]"
      ]
     },
     "metadata": {},
     "output_type": "display_data"
    },
    {
     "name": "stderr",
     "output_type": "stream",
     "text": [
      "2021-11-25 11:55:02,062:INFO:Accuracy: [0.6473684210526316],\tvtraining:2,\tvtesting:0.1, \tdt: 0.02, \tnumDT:10\n",
      "\u001b[32m[I 2021-11-25 11:55:02,152]\u001b[0m Trial 9 finished with value: 0.6473684210526316 and parameters: {'dt': 1, 'ampTraining': 2, 'ampTesting': 0}. Best is trial 3 with value: 0.9473684210526315.\u001b[0m\n"
     ]
    },
    {
     "name": "stdout",
     "output_type": "stream",
     "text": [
      "0.6473684210526316\n"
     ]
    },
    {
     "data": {
      "application/vnd.jupyter.widget-view+json": {
       "model_id": "323068b7278d46ba8a7e61890efcd947",
       "version_major": 2,
       "version_minor": 0
      },
      "text/plain": [
       "  0%|          | 0/1 [00:00<?, ?it/s]"
      ]
     },
     "metadata": {},
     "output_type": "display_data"
    },
    {
     "data": {
      "application/vnd.jupyter.widget-view+json": {
       "model_id": "94341a4594614255bb0255441912216e",
       "version_major": 2,
       "version_minor": 0
      },
      "text/plain": [
       "Running Simulation :   0%|          | 0/1900 [00:00<?, ?it/s]"
      ]
     },
     "metadata": {},
     "output_type": "display_data"
    },
    {
     "name": "stderr",
     "output_type": "stream",
     "text": [
      "2021-11-25 11:55:08,578:INFO:Accuracy: [0.7973684210526316],\tvtraining:5,\tvtesting:0.5, \tdt: 0.01, \tnumDT:20\n",
      "\u001b[32m[I 2021-11-25 11:55:08,672]\u001b[0m Trial 10 finished with value: 0.7973684210526316 and parameters: {'dt': 0, 'ampTraining': 3, 'ampTesting': 3}. Best is trial 3 with value: 0.9473684210526315.\u001b[0m\n"
     ]
    },
    {
     "name": "stdout",
     "output_type": "stream",
     "text": [
      "0.7973684210526316\n"
     ]
    },
    {
     "data": {
      "application/vnd.jupyter.widget-view+json": {
       "model_id": "1792622959aa43dcaa77df45123b056a",
       "version_major": 2,
       "version_minor": 0
      },
      "text/plain": [
       "  0%|          | 0/1 [00:00<?, ?it/s]"
      ]
     },
     "metadata": {},
     "output_type": "display_data"
    },
    {
     "data": {
      "application/vnd.jupyter.widget-view+json": {
       "model_id": "1479801368b4449ab7f658567b35e6a0",
       "version_major": 2,
       "version_minor": 0
      },
      "text/plain": [
       "Running Simulation :   0%|          | 0/1900 [00:00<?, ?it/s]"
      ]
     },
     "metadata": {},
     "output_type": "display_data"
    },
    {
     "name": "stderr",
     "output_type": "stream",
     "text": [
      "2021-11-25 11:55:15,065:INFO:Accuracy: [0.631578947368421],\tvtraining:1,\tvtesting:0.2, \tdt: 0.01, \tnumDT:20\n",
      "\u001b[32m[I 2021-11-25 11:55:15,155]\u001b[0m Trial 11 finished with value: 0.631578947368421 and parameters: {'dt': 0, 'ampTraining': 1, 'ampTesting': 1}. Best is trial 3 with value: 0.9473684210526315.\u001b[0m\n"
     ]
    },
    {
     "name": "stdout",
     "output_type": "stream",
     "text": [
      "0.631578947368421\n"
     ]
    },
    {
     "data": {
      "application/vnd.jupyter.widget-view+json": {
       "model_id": "347cc89d4839453489d45070eda0f844",
       "version_major": 2,
       "version_minor": 0
      },
      "text/plain": [
       "  0%|          | 0/1 [00:00<?, ?it/s]"
      ]
     },
     "metadata": {},
     "output_type": "display_data"
    },
    {
     "data": {
      "application/vnd.jupyter.widget-view+json": {
       "model_id": "00793df606824f6c90961d0a06f8aaaf",
       "version_major": 2,
       "version_minor": 0
      },
      "text/plain": [
       "Running Simulation :   0%|          | 0/190 [00:00<?, ?it/s]"
      ]
     },
     "metadata": {},
     "output_type": "display_data"
    },
    {
     "name": "stderr",
     "output_type": "stream",
     "text": [
      "2021-11-25 11:55:15,981:INFO:Accuracy: [0.7894736842105263],\tvtraining:5,\tvtesting:0.3, \tdt: 0.1, \tnumDT:2\n",
      "\u001b[32m[I 2021-11-25 11:55:16,070]\u001b[0m Trial 12 finished with value: 0.7894736842105263 and parameters: {'dt': 3, 'ampTraining': 3, 'ampTesting': 2}. Best is trial 3 with value: 0.9473684210526315.\u001b[0m\n"
     ]
    },
    {
     "name": "stdout",
     "output_type": "stream",
     "text": [
      "0.7894736842105263\n"
     ]
    },
    {
     "data": {
      "application/vnd.jupyter.widget-view+json": {
       "model_id": "1d154e78f633404f879940b6c831f02c",
       "version_major": 2,
       "version_minor": 0
      },
      "text/plain": [
       "  0%|          | 0/1 [00:00<?, ?it/s]"
      ]
     },
     "metadata": {},
     "output_type": "display_data"
    },
    {
     "data": {
      "application/vnd.jupyter.widget-view+json": {
       "model_id": "7f586c640aed472e904a1ea4cc9914b6",
       "version_major": 2,
       "version_minor": 0
      },
      "text/plain": [
       "Running Simulation :   0%|          | 0/1900 [00:00<?, ?it/s]"
      ]
     },
     "metadata": {},
     "output_type": "display_data"
    },
    {
     "name": "stderr",
     "output_type": "stream",
     "text": [
      "2021-11-25 11:55:22,525:INFO:Accuracy: [0.6026315789473684],\tvtraining:1,\tvtesting:0.2, \tdt: 0.01, \tnumDT:20\n",
      "\u001b[32m[I 2021-11-25 11:55:22,619]\u001b[0m Trial 13 finished with value: 0.6026315789473684 and parameters: {'dt': 0, 'ampTraining': 1, 'ampTesting': 1}. Best is trial 3 with value: 0.9473684210526315.\u001b[0m\n"
     ]
    },
    {
     "name": "stdout",
     "output_type": "stream",
     "text": [
      "0.6026315789473684\n"
     ]
    },
    {
     "data": {
      "application/vnd.jupyter.widget-view+json": {
       "model_id": "8f302a88a0de47ca96b45309dec11ccc",
       "version_major": 2,
       "version_minor": 0
      },
      "text/plain": [
       "  0%|          | 0/1 [00:00<?, ?it/s]"
      ]
     },
     "metadata": {},
     "output_type": "display_data"
    },
    {
     "data": {
      "application/vnd.jupyter.widget-view+json": {
       "model_id": "b79cc4c77fb2497ca09005e7da41e017",
       "version_major": 2,
       "version_minor": 0
      },
      "text/plain": [
       "Running Simulation :   0%|          | 0/1900 [00:00<?, ?it/s]"
      ]
     },
     "metadata": {},
     "output_type": "display_data"
    },
    {
     "name": "stderr",
     "output_type": "stream",
     "text": [
      "2021-11-25 11:55:29,068:INFO:Accuracy: [0.8368421052631579],\tvtraining:1,\tvtesting:0.3, \tdt: 0.01, \tnumDT:20\n",
      "\u001b[32m[I 2021-11-25 11:55:29,156]\u001b[0m Trial 14 finished with value: 0.8368421052631579 and parameters: {'dt': 0, 'ampTraining': 1, 'ampTesting': 2}. Best is trial 3 with value: 0.9473684210526315.\u001b[0m\n"
     ]
    },
    {
     "name": "stdout",
     "output_type": "stream",
     "text": [
      "0.8368421052631579\n"
     ]
    },
    {
     "data": {
      "application/vnd.jupyter.widget-view+json": {
       "model_id": "73cee6fb4a744dff9346f332ca78a265",
       "version_major": 2,
       "version_minor": 0
      },
      "text/plain": [
       "  0%|          | 0/1 [00:00<?, ?it/s]"
      ]
     },
     "metadata": {},
     "output_type": "display_data"
    },
    {
     "data": {
      "application/vnd.jupyter.widget-view+json": {
       "model_id": "2790fce03cf14a1d970c9f67fbfe4e53",
       "version_major": 2,
       "version_minor": 0
      },
      "text/plain": [
       "Running Simulation :   0%|          | 0/380 [00:00<?, ?it/s]"
      ]
     },
     "metadata": {},
     "output_type": "display_data"
    },
    {
     "name": "stderr",
     "output_type": "stream",
     "text": [
      "2021-11-25 11:55:30,599:INFO:Accuracy: [0.7894736842105263],\tvtraining:2,\tvtesting:0.2, \tdt: 0.05, \tnumDT:4\n",
      "\u001b[32m[I 2021-11-25 11:55:30,688]\u001b[0m Trial 15 finished with value: 0.7894736842105263 and parameters: {'dt': 2, 'ampTraining': 2, 'ampTesting': 1}. Best is trial 3 with value: 0.9473684210526315.\u001b[0m\n"
     ]
    },
    {
     "name": "stdout",
     "output_type": "stream",
     "text": [
      "0.7894736842105263\n"
     ]
    },
    {
     "data": {
      "application/vnd.jupyter.widget-view+json": {
       "model_id": "78dfdae71d3e4c349cb187ca262ecc44",
       "version_major": 2,
       "version_minor": 0
      },
      "text/plain": [
       "  0%|          | 0/1 [00:00<?, ?it/s]"
      ]
     },
     "metadata": {},
     "output_type": "display_data"
    },
    {
     "data": {
      "application/vnd.jupyter.widget-view+json": {
       "model_id": "01f1c3a5258a481f890373f3cbb71a4c",
       "version_major": 2,
       "version_minor": 0
      },
      "text/plain": [
       "Running Simulation :   0%|          | 0/1900 [00:00<?, ?it/s]"
      ]
     },
     "metadata": {},
     "output_type": "display_data"
    },
    {
     "name": "stderr",
     "output_type": "stream",
     "text": [
      "2021-11-25 11:55:37,145:INFO:Accuracy: [0.6894736842105263],\tvtraining:1,\tvtesting:0.3, \tdt: 0.01, \tnumDT:20\n",
      "\u001b[32m[I 2021-11-25 11:55:37,235]\u001b[0m Trial 16 finished with value: 0.6894736842105263 and parameters: {'dt': 0, 'ampTraining': 1, 'ampTesting': 2}. Best is trial 3 with value: 0.9473684210526315.\u001b[0m\n"
     ]
    },
    {
     "name": "stdout",
     "output_type": "stream",
     "text": [
      "0.6894736842105263\n"
     ]
    },
    {
     "data": {
      "application/vnd.jupyter.widget-view+json": {
       "model_id": "cfd7c757d68941d88523b95068be36f0",
       "version_major": 2,
       "version_minor": 0
      },
      "text/plain": [
       "  0%|          | 0/1 [00:00<?, ?it/s]"
      ]
     },
     "metadata": {},
     "output_type": "display_data"
    },
    {
     "data": {
      "application/vnd.jupyter.widget-view+json": {
       "model_id": "29014ffc5d97404db9f1f20725b8da09",
       "version_major": 2,
       "version_minor": 0
      },
      "text/plain": [
       "Running Simulation :   0%|          | 0/1900 [00:00<?, ?it/s]"
      ]
     },
     "metadata": {},
     "output_type": "display_data"
    },
    {
     "name": "stderr",
     "output_type": "stream",
     "text": [
      "2021-11-25 11:55:43,685:INFO:Accuracy: [0.9473684210526315],\tvtraining:2,\tvtesting:0.2, \tdt: 0.01, \tnumDT:20\n",
      "\u001b[32m[I 2021-11-25 11:55:43,776]\u001b[0m Trial 17 finished with value: 0.9473684210526315 and parameters: {'dt': 0, 'ampTraining': 2, 'ampTesting': 1}. Best is trial 3 with value: 0.9473684210526315.\u001b[0m\n"
     ]
    },
    {
     "name": "stdout",
     "output_type": "stream",
     "text": [
      "0.9473684210526315\n"
     ]
    },
    {
     "data": {
      "application/vnd.jupyter.widget-view+json": {
       "model_id": "c3200189584e40818edfc62b8fd3f970",
       "version_major": 2,
       "version_minor": 0
      },
      "text/plain": [
       "  0%|          | 0/1 [00:00<?, ?it/s]"
      ]
     },
     "metadata": {},
     "output_type": "display_data"
    },
    {
     "data": {
      "application/vnd.jupyter.widget-view+json": {
       "model_id": "06d2ab2e41cc4a06901581a7fbea086c",
       "version_major": 2,
       "version_minor": 0
      },
      "text/plain": [
       "Running Simulation :   0%|          | 0/380 [00:00<?, ?it/s]"
      ]
     },
     "metadata": {},
     "output_type": "display_data"
    },
    {
     "name": "stderr",
     "output_type": "stream",
     "text": [
      "2021-11-25 11:55:45,238:INFO:Accuracy: [0.7631578947368421],\tvtraining:5,\tvtesting:0.5, \tdt: 0.05, \tnumDT:4\n",
      "\u001b[32m[I 2021-11-25 11:55:45,321]\u001b[0m Trial 18 finished with value: 0.7631578947368421 and parameters: {'dt': 2, 'ampTraining': 3, 'ampTesting': 3}. Best is trial 3 with value: 0.9473684210526315.\u001b[0m\n"
     ]
    },
    {
     "name": "stdout",
     "output_type": "stream",
     "text": [
      "0.7631578947368421\n"
     ]
    },
    {
     "data": {
      "application/vnd.jupyter.widget-view+json": {
       "model_id": "a39d633dbc4d4d34959f0a1f99ca2128",
       "version_major": 2,
       "version_minor": 0
      },
      "text/plain": [
       "  0%|          | 0/1 [00:00<?, ?it/s]"
      ]
     },
     "metadata": {},
     "output_type": "display_data"
    },
    {
     "data": {
      "application/vnd.jupyter.widget-view+json": {
       "model_id": "5d26101a9d454eca9ca0f610c1f7070a",
       "version_major": 2,
       "version_minor": 0
      },
      "text/plain": [
       "Running Simulation :   0%|          | 0/950 [00:00<?, ?it/s]"
      ]
     },
     "metadata": {},
     "output_type": "display_data"
    },
    {
     "name": "stderr",
     "output_type": "stream",
     "text": [
      "2021-11-25 11:55:48,628:INFO:Accuracy: [0.7894736842105263],\tvtraining:2,\tvtesting:0.3, \tdt: 0.02, \tnumDT:10\n",
      "\u001b[32m[I 2021-11-25 11:55:48,721]\u001b[0m Trial 19 finished with value: 0.7894736842105263 and parameters: {'dt': 1, 'ampTraining': 2, 'ampTesting': 2}. Best is trial 3 with value: 0.9473684210526315.\u001b[0m\n"
     ]
    },
    {
     "name": "stdout",
     "output_type": "stream",
     "text": [
      "0.7894736842105263\n"
     ]
    },
    {
     "data": {
      "application/vnd.jupyter.widget-view+json": {
       "model_id": "766ea8c922ba49fd862feae490d73217",
       "version_major": 2,
       "version_minor": 0
      },
      "text/plain": [
       "  0%|          | 0/1 [00:00<?, ?it/s]"
      ]
     },
     "metadata": {},
     "output_type": "display_data"
    },
    {
     "data": {
      "application/vnd.jupyter.widget-view+json": {
       "model_id": "5579ab33036b41cc803ec2247a1a498c",
       "version_major": 2,
       "version_minor": 0
      },
      "text/plain": [
       "Running Simulation :   0%|          | 0/1900 [00:00<?, ?it/s]"
      ]
     },
     "metadata": {},
     "output_type": "display_data"
    },
    {
     "name": "stderr",
     "output_type": "stream",
     "text": [
      "2021-11-25 11:55:55,147:INFO:Accuracy: [0.7894736842105263],\tvtraining:5,\tvtesting:0.2, \tdt: 0.01, \tnumDT:20\n",
      "\u001b[32m[I 2021-11-25 11:55:55,240]\u001b[0m Trial 20 finished with value: 0.7894736842105263 and parameters: {'dt': 0, 'ampTraining': 3, 'ampTesting': 1}. Best is trial 3 with value: 0.9473684210526315.\u001b[0m\n"
     ]
    },
    {
     "name": "stdout",
     "output_type": "stream",
     "text": [
      "0.7894736842105263\n"
     ]
    },
    {
     "data": {
      "application/vnd.jupyter.widget-view+json": {
       "model_id": "e91378f7d20a4bb887023eb2ceda2c5c",
       "version_major": 2,
       "version_minor": 0
      },
      "text/plain": [
       "  0%|          | 0/1 [00:00<?, ?it/s]"
      ]
     },
     "metadata": {},
     "output_type": "display_data"
    },
    {
     "data": {
      "application/vnd.jupyter.widget-view+json": {
       "model_id": "f658c37b2eea44548b5af2086119a0f3",
       "version_major": 2,
       "version_minor": 0
      },
      "text/plain": [
       "Running Simulation :   0%|          | 0/950 [00:00<?, ?it/s]"
      ]
     },
     "metadata": {},
     "output_type": "display_data"
    },
    {
     "name": "stderr",
     "output_type": "stream",
     "text": [
      "2021-11-25 11:55:58,561:INFO:Accuracy: [0.7947368421052632],\tvtraining:2,\tvtesting:0.3, \tdt: 0.02, \tnumDT:10\n",
      "\u001b[32m[I 2021-11-25 11:55:58,650]\u001b[0m Trial 21 finished with value: 0.7947368421052632 and parameters: {'dt': 1, 'ampTraining': 2, 'ampTesting': 2}. Best is trial 3 with value: 0.9473684210526315.\u001b[0m\n"
     ]
    },
    {
     "name": "stdout",
     "output_type": "stream",
     "text": [
      "0.7947368421052632\n"
     ]
    },
    {
     "data": {
      "application/vnd.jupyter.widget-view+json": {
       "model_id": "882c05a6b3c545c7a6f221b275f673b7",
       "version_major": 2,
       "version_minor": 0
      },
      "text/plain": [
       "  0%|          | 0/1 [00:00<?, ?it/s]"
      ]
     },
     "metadata": {},
     "output_type": "display_data"
    },
    {
     "data": {
      "application/vnd.jupyter.widget-view+json": {
       "model_id": "d2a8f4da55d3413b9198981f87bdc0ca",
       "version_major": 2,
       "version_minor": 0
      },
      "text/plain": [
       "Running Simulation :   0%|          | 0/1900 [00:00<?, ?it/s]"
      ]
     },
     "metadata": {},
     "output_type": "display_data"
    },
    {
     "name": "stderr",
     "output_type": "stream",
     "text": [
      "2021-11-25 11:56:05,084:INFO:Accuracy: [0.7368421052631579],\tvtraining:5,\tvtesting:0.2, \tdt: 0.01, \tnumDT:20\n",
      "\u001b[32m[I 2021-11-25 11:56:05,176]\u001b[0m Trial 22 finished with value: 0.7368421052631579 and parameters: {'dt': 0, 'ampTraining': 3, 'ampTesting': 1}. Best is trial 3 with value: 0.9473684210526315.\u001b[0m\n"
     ]
    },
    {
     "name": "stdout",
     "output_type": "stream",
     "text": [
      "0.7368421052631579\n"
     ]
    },
    {
     "data": {
      "application/vnd.jupyter.widget-view+json": {
       "model_id": "35199ae98d174439a5cf01b6aeee7a43",
       "version_major": 2,
       "version_minor": 0
      },
      "text/plain": [
       "  0%|          | 0/1 [00:00<?, ?it/s]"
      ]
     },
     "metadata": {},
     "output_type": "display_data"
    },
    {
     "data": {
      "application/vnd.jupyter.widget-view+json": {
       "model_id": "93a4892f25ed40f6b74aaf436a6927eb",
       "version_major": 2,
       "version_minor": 0
      },
      "text/plain": [
       "Running Simulation :   0%|          | 0/1900 [00:00<?, ?it/s]"
      ]
     },
     "metadata": {},
     "output_type": "display_data"
    },
    {
     "name": "stderr",
     "output_type": "stream",
     "text": [
      "2021-11-25 11:56:11,657:INFO:Accuracy: [0.8631578947368421],\tvtraining:2,\tvtesting:0.2, \tdt: 0.01, \tnumDT:20\n",
      "\u001b[32m[I 2021-11-25 11:56:11,746]\u001b[0m Trial 23 finished with value: 0.8631578947368421 and parameters: {'dt': 0, 'ampTraining': 2, 'ampTesting': 1}. Best is trial 3 with value: 0.9473684210526315.\u001b[0m\n"
     ]
    },
    {
     "name": "stdout",
     "output_type": "stream",
     "text": [
      "0.8631578947368421\n"
     ]
    },
    {
     "data": {
      "application/vnd.jupyter.widget-view+json": {
       "model_id": "8acdf78f8127479595a991de59b9fdfc",
       "version_major": 2,
       "version_minor": 0
      },
      "text/plain": [
       "  0%|          | 0/1 [00:00<?, ?it/s]"
      ]
     },
     "metadata": {},
     "output_type": "display_data"
    },
    {
     "data": {
      "application/vnd.jupyter.widget-view+json": {
       "model_id": "9d5e303fd60d4c22b251808d54eee17d",
       "version_major": 2,
       "version_minor": 0
      },
      "text/plain": [
       "Running Simulation :   0%|          | 0/1900 [00:00<?, ?it/s]"
      ]
     },
     "metadata": {},
     "output_type": "display_data"
    },
    {
     "name": "stderr",
     "output_type": "stream",
     "text": [
      "2021-11-25 11:56:18,104:INFO:Accuracy: [0.7210526315789474],\tvtraining:0.5,\tvtesting:0.2, \tdt: 0.01, \tnumDT:20\n",
      "\u001b[32m[I 2021-11-25 11:56:18,198]\u001b[0m Trial 24 finished with value: 0.7210526315789474 and parameters: {'dt': 0, 'ampTraining': 0, 'ampTesting': 1}. Best is trial 3 with value: 0.9473684210526315.\u001b[0m\n"
     ]
    },
    {
     "name": "stdout",
     "output_type": "stream",
     "text": [
      "0.7210526315789474\n"
     ]
    },
    {
     "data": {
      "application/vnd.jupyter.widget-view+json": {
       "model_id": "8d2cf83d23da4546870ecc98a013b24b",
       "version_major": 2,
       "version_minor": 0
      },
      "text/plain": [
       "  0%|          | 0/1 [00:00<?, ?it/s]"
      ]
     },
     "metadata": {},
     "output_type": "display_data"
    },
    {
     "data": {
      "application/vnd.jupyter.widget-view+json": {
       "model_id": "c5746173e1f54ce995784cb74881be8c",
       "version_major": 2,
       "version_minor": 0
      },
      "text/plain": [
       "Running Simulation :   0%|          | 0/1900 [00:00<?, ?it/s]"
      ]
     },
     "metadata": {},
     "output_type": "display_data"
    },
    {
     "name": "stderr",
     "output_type": "stream",
     "text": [
      "2021-11-25 11:56:24,607:INFO:Accuracy: [0.968421052631579],\tvtraining:1,\tvtesting:0.2, \tdt: 0.01, \tnumDT:20\n",
      "\u001b[32m[I 2021-11-25 11:56:24,694]\u001b[0m Trial 25 finished with value: 0.968421052631579 and parameters: {'dt': 0, 'ampTraining': 1, 'ampTesting': 1}. Best is trial 25 with value: 0.968421052631579.\u001b[0m\n"
     ]
    },
    {
     "name": "stdout",
     "output_type": "stream",
     "text": [
      "0.968421052631579\n"
     ]
    },
    {
     "data": {
      "application/vnd.jupyter.widget-view+json": {
       "model_id": "70b00db861504c3f9ff37712758cb0f7",
       "version_major": 2,
       "version_minor": 0
      },
      "text/plain": [
       "  0%|          | 0/1 [00:00<?, ?it/s]"
      ]
     },
     "metadata": {},
     "output_type": "display_data"
    },
    {
     "data": {
      "application/vnd.jupyter.widget-view+json": {
       "model_id": "af5d85b7da72458489db6f96a01d8ec5",
       "version_major": 2,
       "version_minor": 0
      },
      "text/plain": [
       "Running Simulation :   0%|          | 0/950 [00:00<?, ?it/s]"
      ]
     },
     "metadata": {},
     "output_type": "display_data"
    },
    {
     "name": "stderr",
     "output_type": "stream",
     "text": [
      "2021-11-25 11:56:27,999:INFO:Accuracy: [0.7421052631578947],\tvtraining:1,\tvtesting:0.3, \tdt: 0.02, \tnumDT:10\n",
      "\u001b[32m[I 2021-11-25 11:56:28,089]\u001b[0m Trial 26 finished with value: 0.7421052631578947 and parameters: {'dt': 1, 'ampTraining': 1, 'ampTesting': 2}. Best is trial 25 with value: 0.968421052631579.\u001b[0m\n"
     ]
    },
    {
     "name": "stdout",
     "output_type": "stream",
     "text": [
      "0.7421052631578947\n"
     ]
    },
    {
     "data": {
      "application/vnd.jupyter.widget-view+json": {
       "model_id": "13e9b9cf06e9439c92214198aa42cd30",
       "version_major": 2,
       "version_minor": 0
      },
      "text/plain": [
       "  0%|          | 0/1 [00:00<?, ?it/s]"
      ]
     },
     "metadata": {},
     "output_type": "display_data"
    },
    {
     "data": {
      "application/vnd.jupyter.widget-view+json": {
       "model_id": "2e46400a28054592ac3683b6210c041f",
       "version_major": 2,
       "version_minor": 0
      },
      "text/plain": [
       "Running Simulation :   0%|          | 0/1900 [00:00<?, ?it/s]"
      ]
     },
     "metadata": {},
     "output_type": "display_data"
    },
    {
     "name": "stderr",
     "output_type": "stream",
     "text": [
      "2021-11-25 11:56:34,474:INFO:Accuracy: [0.6578947368421053],\tvtraining:1,\tvtesting:0.2, \tdt: 0.01, \tnumDT:20\n",
      "\u001b[32m[I 2021-11-25 11:56:34,564]\u001b[0m Trial 27 finished with value: 0.6578947368421053 and parameters: {'dt': 0, 'ampTraining': 1, 'ampTesting': 1}. Best is trial 25 with value: 0.968421052631579.\u001b[0m\n"
     ]
    },
    {
     "name": "stdout",
     "output_type": "stream",
     "text": [
      "0.6578947368421053\n"
     ]
    },
    {
     "data": {
      "application/vnd.jupyter.widget-view+json": {
       "model_id": "a60845c02bbd4dc0a02e584fd71f9bc8",
       "version_major": 2,
       "version_minor": 0
      },
      "text/plain": [
       "  0%|          | 0/1 [00:00<?, ?it/s]"
      ]
     },
     "metadata": {},
     "output_type": "display_data"
    },
    {
     "data": {
      "application/vnd.jupyter.widget-view+json": {
       "model_id": "d4e4a50f0983469e92a94d0c321c656b",
       "version_major": 2,
       "version_minor": 0
      },
      "text/plain": [
       "Running Simulation :   0%|          | 0/950 [00:00<?, ?it/s]"
      ]
     },
     "metadata": {},
     "output_type": "display_data"
    },
    {
     "name": "stderr",
     "output_type": "stream",
     "text": [
      "2021-11-25 11:56:37,880:INFO:Accuracy: [0.631578947368421],\tvtraining:2,\tvtesting:0.1, \tdt: 0.02, \tnumDT:10\n",
      "\u001b[32m[I 2021-11-25 11:56:37,971]\u001b[0m Trial 28 finished with value: 0.631578947368421 and parameters: {'dt': 1, 'ampTraining': 2, 'ampTesting': 0}. Best is trial 25 with value: 0.968421052631579.\u001b[0m\n"
     ]
    },
    {
     "name": "stdout",
     "output_type": "stream",
     "text": [
      "0.631578947368421\n"
     ]
    },
    {
     "data": {
      "application/vnd.jupyter.widget-view+json": {
       "model_id": "2bcb12dbf0264e8f93bdc45d045ccae4",
       "version_major": 2,
       "version_minor": 0
      },
      "text/plain": [
       "  0%|          | 0/1 [00:00<?, ?it/s]"
      ]
     },
     "metadata": {},
     "output_type": "display_data"
    },
    {
     "data": {
      "application/vnd.jupyter.widget-view+json": {
       "model_id": "7808e4b89a4c4a388fd67c79bf1b6b43",
       "version_major": 2,
       "version_minor": 0
      },
      "text/plain": [
       "Running Simulation :   0%|          | 0/1900 [00:00<?, ?it/s]"
      ]
     },
     "metadata": {},
     "output_type": "display_data"
    },
    {
     "name": "stderr",
     "output_type": "stream",
     "text": [
      "2021-11-25 11:56:44,360:INFO:Accuracy: [0.37105263157894736],\tvtraining:1,\tvtesting:0.3, \tdt: 0.01, \tnumDT:20\n",
      "\u001b[32m[I 2021-11-25 11:56:44,447]\u001b[0m Trial 29 finished with value: 0.37105263157894736 and parameters: {'dt': 0, 'ampTraining': 1, 'ampTesting': 2}. Best is trial 25 with value: 0.968421052631579.\u001b[0m\n"
     ]
    },
    {
     "name": "stdout",
     "output_type": "stream",
     "text": [
      "0.37105263157894736\n"
     ]
    },
    {
     "data": {
      "application/vnd.jupyter.widget-view+json": {
       "model_id": "52309db670af45df9f425d1e84cf1237",
       "version_major": 2,
       "version_minor": 0
      },
      "text/plain": [
       "  0%|          | 0/1 [00:00<?, ?it/s]"
      ]
     },
     "metadata": {},
     "output_type": "display_data"
    },
    {
     "data": {
      "application/vnd.jupyter.widget-view+json": {
       "model_id": "d39d27e0f957464d8b4f7c50f20bf573",
       "version_major": 2,
       "version_minor": 0
      },
      "text/plain": [
       "Running Simulation :   0%|          | 0/380 [00:00<?, ?it/s]"
      ]
     },
     "metadata": {},
     "output_type": "display_data"
    },
    {
     "name": "stderr",
     "output_type": "stream",
     "text": [
      "2021-11-25 11:56:45,889:INFO:Accuracy: [0.8157894736842105],\tvtraining:2,\tvtesting:0.5, \tdt: 0.05, \tnumDT:4\n",
      "\u001b[32m[I 2021-11-25 11:56:45,977]\u001b[0m Trial 30 finished with value: 0.8157894736842105 and parameters: {'dt': 2, 'ampTraining': 2, 'ampTesting': 3}. Best is trial 25 with value: 0.968421052631579.\u001b[0m\n"
     ]
    },
    {
     "name": "stdout",
     "output_type": "stream",
     "text": [
      "0.8157894736842105\n"
     ]
    },
    {
     "data": {
      "application/vnd.jupyter.widget-view+json": {
       "model_id": "4813d33e178c4c7f82924d81f1020266",
       "version_major": 2,
       "version_minor": 0
      },
      "text/plain": [
       "  0%|          | 0/1 [00:00<?, ?it/s]"
      ]
     },
     "metadata": {},
     "output_type": "display_data"
    },
    {
     "data": {
      "application/vnd.jupyter.widget-view+json": {
       "model_id": "8886e38cffb94ec59306f097e6f0aed8",
       "version_major": 2,
       "version_minor": 0
      },
      "text/plain": [
       "Running Simulation :   0%|          | 0/1900 [00:00<?, ?it/s]"
      ]
     },
     "metadata": {},
     "output_type": "display_data"
    },
    {
     "name": "stderr",
     "output_type": "stream",
     "text": [
      "2021-11-25 11:56:52,401:INFO:Accuracy: [0.8421052631578947],\tvtraining:5,\tvtesting:0.1, \tdt: 0.01, \tnumDT:20\n",
      "\u001b[32m[I 2021-11-25 11:56:52,494]\u001b[0m Trial 31 finished with value: 0.8421052631578947 and parameters: {'dt': 0, 'ampTraining': 3, 'ampTesting': 0}. Best is trial 25 with value: 0.968421052631579.\u001b[0m\n"
     ]
    },
    {
     "name": "stdout",
     "output_type": "stream",
     "text": [
      "0.8421052631578947\n"
     ]
    },
    {
     "data": {
      "application/vnd.jupyter.widget-view+json": {
       "model_id": "e92edb0188ec47d7988f9bae135dc21f",
       "version_major": 2,
       "version_minor": 0
      },
      "text/plain": [
       "  0%|          | 0/1 [00:00<?, ?it/s]"
      ]
     },
     "metadata": {},
     "output_type": "display_data"
    },
    {
     "data": {
      "application/vnd.jupyter.widget-view+json": {
       "model_id": "9cc62b1aefdf4b51916f3058e2597b1c",
       "version_major": 2,
       "version_minor": 0
      },
      "text/plain": [
       "Running Simulation :   0%|          | 0/950 [00:00<?, ?it/s]"
      ]
     },
     "metadata": {},
     "output_type": "display_data"
    },
    {
     "name": "stderr",
     "output_type": "stream",
     "text": [
      "2021-11-25 11:56:55,816:INFO:Accuracy: [0.8947368421052632],\tvtraining:2,\tvtesting:0.2, \tdt: 0.02, \tnumDT:10\n",
      "\u001b[32m[I 2021-11-25 11:56:55,904]\u001b[0m Trial 32 finished with value: 0.8947368421052632 and parameters: {'dt': 1, 'ampTraining': 2, 'ampTesting': 1}. Best is trial 25 with value: 0.968421052631579.\u001b[0m\n"
     ]
    },
    {
     "name": "stdout",
     "output_type": "stream",
     "text": [
      "0.8947368421052632\n"
     ]
    },
    {
     "data": {
      "application/vnd.jupyter.widget-view+json": {
       "model_id": "9279003a972b4b279e94eaa2521fddf6",
       "version_major": 2,
       "version_minor": 0
      },
      "text/plain": [
       "  0%|          | 0/1 [00:00<?, ?it/s]"
      ]
     },
     "metadata": {},
     "output_type": "display_data"
    },
    {
     "data": {
      "application/vnd.jupyter.widget-view+json": {
       "model_id": "41ffcf41c9ef4fbb8b6c59acc90227f0",
       "version_major": 2,
       "version_minor": 0
      },
      "text/plain": [
       "Running Simulation :   0%|          | 0/950 [00:00<?, ?it/s]"
      ]
     },
     "metadata": {},
     "output_type": "display_data"
    },
    {
     "name": "stderr",
     "output_type": "stream",
     "text": [
      "2021-11-25 11:56:59,196:INFO:Accuracy: [0.8421052631578947],\tvtraining:2,\tvtesting:0.2, \tdt: 0.02, \tnumDT:10\n",
      "\u001b[32m[I 2021-11-25 11:56:59,287]\u001b[0m Trial 33 finished with value: 0.8421052631578947 and parameters: {'dt': 1, 'ampTraining': 2, 'ampTesting': 1}. Best is trial 25 with value: 0.968421052631579.\u001b[0m\n"
     ]
    },
    {
     "name": "stdout",
     "output_type": "stream",
     "text": [
      "0.8421052631578947\n"
     ]
    },
    {
     "data": {
      "application/vnd.jupyter.widget-view+json": {
       "model_id": "5568924a214e4b4d8c5ebd11e877ff93",
       "version_major": 2,
       "version_minor": 0
      },
      "text/plain": [
       "  0%|          | 0/1 [00:00<?, ?it/s]"
      ]
     },
     "metadata": {},
     "output_type": "display_data"
    },
    {
     "data": {
      "application/vnd.jupyter.widget-view+json": {
       "model_id": "0dce4f7760284bbb99860ef3c9e3b018",
       "version_major": 2,
       "version_minor": 0
      },
      "text/plain": [
       "Running Simulation :   0%|          | 0/380 [00:00<?, ?it/s]"
      ]
     },
     "metadata": {},
     "output_type": "display_data"
    },
    {
     "name": "stderr",
     "output_type": "stream",
     "text": [
      "2021-11-25 11:57:00,731:INFO:Accuracy: [0.7894736842105263],\tvtraining:2,\tvtesting:0.2, \tdt: 0.05, \tnumDT:4\n",
      "\u001b[32m[I 2021-11-25 11:57:00,814]\u001b[0m Trial 34 finished with value: 0.7894736842105263 and parameters: {'dt': 2, 'ampTraining': 2, 'ampTesting': 1}. Best is trial 25 with value: 0.968421052631579.\u001b[0m\n"
     ]
    },
    {
     "name": "stdout",
     "output_type": "stream",
     "text": [
      "0.7894736842105263\n"
     ]
    },
    {
     "data": {
      "application/vnd.jupyter.widget-view+json": {
       "model_id": "bb533c8c805f46c4ad8c2d7c1b7d0a6e",
       "version_major": 2,
       "version_minor": 0
      },
      "text/plain": [
       "  0%|          | 0/1 [00:00<?, ?it/s]"
      ]
     },
     "metadata": {},
     "output_type": "display_data"
    },
    {
     "data": {
      "application/vnd.jupyter.widget-view+json": {
       "model_id": "89e2b706fd694abebb0ba3631532cd77",
       "version_major": 2,
       "version_minor": 0
      },
      "text/plain": [
       "Running Simulation :   0%|          | 0/950 [00:00<?, ?it/s]"
      ]
     },
     "metadata": {},
     "output_type": "display_data"
    },
    {
     "name": "stderr",
     "output_type": "stream",
     "text": [
      "2021-11-25 11:57:04,108:INFO:Accuracy: [0.8947368421052632],\tvtraining:5,\tvtesting:0.2, \tdt: 0.02, \tnumDT:10\n",
      "\u001b[32m[I 2021-11-25 11:57:04,196]\u001b[0m Trial 35 finished with value: 0.8947368421052632 and parameters: {'dt': 1, 'ampTraining': 3, 'ampTesting': 1}. Best is trial 25 with value: 0.968421052631579.\u001b[0m\n"
     ]
    },
    {
     "name": "stdout",
     "output_type": "stream",
     "text": [
      "0.8947368421052632\n"
     ]
    },
    {
     "data": {
      "application/vnd.jupyter.widget-view+json": {
       "model_id": "fafd45d8da4a411a91e077de9d7e24a9",
       "version_major": 2,
       "version_minor": 0
      },
      "text/plain": [
       "  0%|          | 0/1 [00:00<?, ?it/s]"
      ]
     },
     "metadata": {},
     "output_type": "display_data"
    },
    {
     "data": {
      "application/vnd.jupyter.widget-view+json": {
       "model_id": "a3ef700b8f1c44858472ba727f1bc0ad",
       "version_major": 2,
       "version_minor": 0
      },
      "text/plain": [
       "Running Simulation :   0%|          | 0/1900 [00:00<?, ?it/s]"
      ]
     },
     "metadata": {},
     "output_type": "display_data"
    },
    {
     "name": "stderr",
     "output_type": "stream",
     "text": [
      "2021-11-25 11:57:10,591:INFO:Accuracy: [0.8421052631578947],\tvtraining:5,\tvtesting:0.3, \tdt: 0.01, \tnumDT:20\n",
      "\u001b[32m[I 2021-11-25 11:57:10,682]\u001b[0m Trial 36 finished with value: 0.8421052631578947 and parameters: {'dt': 0, 'ampTraining': 3, 'ampTesting': 2}. Best is trial 25 with value: 0.968421052631579.\u001b[0m\n"
     ]
    },
    {
     "name": "stdout",
     "output_type": "stream",
     "text": [
      "0.8421052631578947\n"
     ]
    },
    {
     "data": {
      "application/vnd.jupyter.widget-view+json": {
       "model_id": "fe30b7f9aabb45869c515a9f241d5192",
       "version_major": 2,
       "version_minor": 0
      },
      "text/plain": [
       "  0%|          | 0/1 [00:00<?, ?it/s]"
      ]
     },
     "metadata": {},
     "output_type": "display_data"
    },
    {
     "data": {
      "application/vnd.jupyter.widget-view+json": {
       "model_id": "791e2a65270f4c8e9326081b06588892",
       "version_major": 2,
       "version_minor": 0
      },
      "text/plain": [
       "Running Simulation :   0%|          | 0/190 [00:00<?, ?it/s]"
      ]
     },
     "metadata": {},
     "output_type": "display_data"
    },
    {
     "name": "stderr",
     "output_type": "stream",
     "text": [
      "2021-11-25 11:57:11,506:INFO:Accuracy: [0.8947368421052632],\tvtraining:5,\tvtesting:0.1, \tdt: 0.1, \tnumDT:2\n",
      "\u001b[32m[I 2021-11-25 11:57:11,587]\u001b[0m Trial 37 finished with value: 0.8947368421052632 and parameters: {'dt': 3, 'ampTraining': 3, 'ampTesting': 0}. Best is trial 25 with value: 0.968421052631579.\u001b[0m\n"
     ]
    },
    {
     "name": "stdout",
     "output_type": "stream",
     "text": [
      "0.8947368421052632\n"
     ]
    },
    {
     "data": {
      "application/vnd.jupyter.widget-view+json": {
       "model_id": "ccf80b617fde428a892ee69f491363c7",
       "version_major": 2,
       "version_minor": 0
      },
      "text/plain": [
       "  0%|          | 0/1 [00:00<?, ?it/s]"
      ]
     },
     "metadata": {},
     "output_type": "display_data"
    },
    {
     "data": {
      "application/vnd.jupyter.widget-view+json": {
       "model_id": "c6d4adae392e4e27a49ad95511e68a8f",
       "version_major": 2,
       "version_minor": 0
      },
      "text/plain": [
       "Running Simulation :   0%|          | 0/190 [00:00<?, ?it/s]"
      ]
     },
     "metadata": {},
     "output_type": "display_data"
    },
    {
     "name": "stderr",
     "output_type": "stream",
     "text": [
      "2021-11-25 11:57:12,403:INFO:Accuracy: [0.6842105263157895],\tvtraining:5,\tvtesting:0.1, \tdt: 0.1, \tnumDT:2\n",
      "\u001b[32m[I 2021-11-25 11:57:12,486]\u001b[0m Trial 38 finished with value: 0.6842105263157895 and parameters: {'dt': 3, 'ampTraining': 3, 'ampTesting': 0}. Best is trial 25 with value: 0.968421052631579.\u001b[0m\n"
     ]
    },
    {
     "name": "stdout",
     "output_type": "stream",
     "text": [
      "0.6842105263157895\n"
     ]
    },
    {
     "data": {
      "application/vnd.jupyter.widget-view+json": {
       "model_id": "ba4c26cb2c2b4938a5be482061b3e7ca",
       "version_major": 2,
       "version_minor": 0
      },
      "text/plain": [
       "  0%|          | 0/1 [00:00<?, ?it/s]"
      ]
     },
     "metadata": {},
     "output_type": "display_data"
    },
    {
     "data": {
      "application/vnd.jupyter.widget-view+json": {
       "model_id": "107b00546b724dff93076e7cf9d36259",
       "version_major": 2,
       "version_minor": 0
      },
      "text/plain": [
       "Running Simulation :   0%|          | 0/190 [00:00<?, ?it/s]"
      ]
     },
     "metadata": {},
     "output_type": "display_data"
    },
    {
     "name": "stderr",
     "output_type": "stream",
     "text": [
      "2021-11-25 11:57:13,306:INFO:Accuracy: [0.6842105263157895],\tvtraining:5,\tvtesting:0.1, \tdt: 0.1, \tnumDT:2\n",
      "\u001b[32m[I 2021-11-25 11:57:13,392]\u001b[0m Trial 39 finished with value: 0.6842105263157895 and parameters: {'dt': 3, 'ampTraining': 3, 'ampTesting': 0}. Best is trial 25 with value: 0.968421052631579.\u001b[0m\n"
     ]
    },
    {
     "name": "stdout",
     "output_type": "stream",
     "text": [
      "0.6842105263157895\n"
     ]
    },
    {
     "data": {
      "application/vnd.jupyter.widget-view+json": {
       "model_id": "34ee1bce0d1947efb92aadc1b5d4978e",
       "version_major": 2,
       "version_minor": 0
      },
      "text/plain": [
       "  0%|          | 0/1 [00:00<?, ?it/s]"
      ]
     },
     "metadata": {},
     "output_type": "display_data"
    },
    {
     "data": {
      "application/vnd.jupyter.widget-view+json": {
       "model_id": "c1e5d687f5004f6993e7c71e167eb6d6",
       "version_major": 2,
       "version_minor": 0
      },
      "text/plain": [
       "Running Simulation :   0%|          | 0/950 [00:00<?, ?it/s]"
      ]
     },
     "metadata": {},
     "output_type": "display_data"
    },
    {
     "name": "stderr",
     "output_type": "stream",
     "text": [
      "2021-11-25 11:57:16,695:INFO:Accuracy: [0.7789473684210526],\tvtraining:0.5,\tvtesting:0.2, \tdt: 0.02, \tnumDT:10\n",
      "\u001b[32m[I 2021-11-25 11:57:16,787]\u001b[0m Trial 40 finished with value: 0.7789473684210526 and parameters: {'dt': 1, 'ampTraining': 0, 'ampTesting': 1}. Best is trial 25 with value: 0.968421052631579.\u001b[0m\n"
     ]
    },
    {
     "name": "stdout",
     "output_type": "stream",
     "text": [
      "0.7789473684210526\n"
     ]
    },
    {
     "data": {
      "application/vnd.jupyter.widget-view+json": {
       "model_id": "26e1efeba54542e980cdb3210d66c73d",
       "version_major": 2,
       "version_minor": 0
      },
      "text/plain": [
       "  0%|          | 0/1 [00:00<?, ?it/s]"
      ]
     },
     "metadata": {},
     "output_type": "display_data"
    },
    {
     "data": {
      "application/vnd.jupyter.widget-view+json": {
       "model_id": "b0e86b1140714e429b01b1b5a0d5f8a0",
       "version_major": 2,
       "version_minor": 0
      },
      "text/plain": [
       "Running Simulation :   0%|          | 0/190 [00:00<?, ?it/s]"
      ]
     },
     "metadata": {},
     "output_type": "display_data"
    },
    {
     "name": "stderr",
     "output_type": "stream",
     "text": [
      "2021-11-25 11:57:17,613:INFO:Accuracy: [0.7368421052631579],\tvtraining:5,\tvtesting:0.1, \tdt: 0.1, \tnumDT:2\n",
      "\u001b[32m[I 2021-11-25 11:57:17,704]\u001b[0m Trial 41 finished with value: 0.7368421052631579 and parameters: {'dt': 3, 'ampTraining': 3, 'ampTesting': 0}. Best is trial 25 with value: 0.968421052631579.\u001b[0m\n"
     ]
    },
    {
     "name": "stdout",
     "output_type": "stream",
     "text": [
      "0.7368421052631579\n"
     ]
    },
    {
     "data": {
      "application/vnd.jupyter.widget-view+json": {
       "model_id": "f8929455449c4ca38c5336bef33a97b3",
       "version_major": 2,
       "version_minor": 0
      },
      "text/plain": [
       "  0%|          | 0/1 [00:00<?, ?it/s]"
      ]
     },
     "metadata": {},
     "output_type": "display_data"
    },
    {
     "data": {
      "application/vnd.jupyter.widget-view+json": {
       "model_id": "6c90169cdb774fac8bf2e332722bf553",
       "version_major": 2,
       "version_minor": 0
      },
      "text/plain": [
       "Running Simulation :   0%|          | 0/380 [00:00<?, ?it/s]"
      ]
     },
     "metadata": {},
     "output_type": "display_data"
    },
    {
     "name": "stderr",
     "output_type": "stream",
     "text": [
      "2021-11-25 11:57:19,173:INFO:Accuracy: [0.7894736842105263],\tvtraining:1,\tvtesting:0.1, \tdt: 0.05, \tnumDT:4\n",
      "\u001b[32m[I 2021-11-25 11:57:19,266]\u001b[0m Trial 42 finished with value: 0.7894736842105263 and parameters: {'dt': 2, 'ampTraining': 1, 'ampTesting': 0}. Best is trial 25 with value: 0.968421052631579.\u001b[0m\n"
     ]
    },
    {
     "name": "stdout",
     "output_type": "stream",
     "text": [
      "0.7894736842105263\n"
     ]
    },
    {
     "data": {
      "application/vnd.jupyter.widget-view+json": {
       "model_id": "00fdeb896d844a56b5efcf1dc79bc2a5",
       "version_major": 2,
       "version_minor": 0
      },
      "text/plain": [
       "  0%|          | 0/1 [00:00<?, ?it/s]"
      ]
     },
     "metadata": {},
     "output_type": "display_data"
    },
    {
     "data": {
      "application/vnd.jupyter.widget-view+json": {
       "model_id": "4803b031832f49e786c75beee45e5ceb",
       "version_major": 2,
       "version_minor": 0
      },
      "text/plain": [
       "Running Simulation :   0%|          | 0/1900 [00:00<?, ?it/s]"
      ]
     },
     "metadata": {},
     "output_type": "display_data"
    },
    {
     "name": "stderr",
     "output_type": "stream",
     "text": [
      "2021-11-25 11:57:25,626:INFO:Accuracy: [0.8421052631578947],\tvtraining:2,\tvtesting:0.2, \tdt: 0.01, \tnumDT:20\n",
      "\u001b[32m[I 2021-11-25 11:57:25,716]\u001b[0m Trial 43 finished with value: 0.8421052631578947 and parameters: {'dt': 0, 'ampTraining': 2, 'ampTesting': 1}. Best is trial 25 with value: 0.968421052631579.\u001b[0m\n"
     ]
    },
    {
     "name": "stdout",
     "output_type": "stream",
     "text": [
      "0.8421052631578947\n"
     ]
    },
    {
     "data": {
      "application/vnd.jupyter.widget-view+json": {
       "model_id": "a0d9dc0ddb15473c83bf7e0a4283220c",
       "version_major": 2,
       "version_minor": 0
      },
      "text/plain": [
       "  0%|          | 0/1 [00:00<?, ?it/s]"
      ]
     },
     "metadata": {},
     "output_type": "display_data"
    },
    {
     "data": {
      "application/vnd.jupyter.widget-view+json": {
       "model_id": "57e8b28c358f435183a651bf60207d3f",
       "version_major": 2,
       "version_minor": 0
      },
      "text/plain": [
       "Running Simulation :   0%|          | 0/950 [00:00<?, ?it/s]"
      ]
     },
     "metadata": {},
     "output_type": "display_data"
    },
    {
     "name": "stderr",
     "output_type": "stream",
     "text": [
      "2021-11-25 11:57:29,010:INFO:Accuracy: [0.6789473684210526],\tvtraining:2,\tvtesting:0.2, \tdt: 0.02, \tnumDT:10\n",
      "\u001b[32m[I 2021-11-25 11:57:29,101]\u001b[0m Trial 44 finished with value: 0.6789473684210526 and parameters: {'dt': 1, 'ampTraining': 2, 'ampTesting': 1}. Best is trial 25 with value: 0.968421052631579.\u001b[0m\n"
     ]
    },
    {
     "name": "stdout",
     "output_type": "stream",
     "text": [
      "0.6789473684210526\n"
     ]
    },
    {
     "data": {
      "application/vnd.jupyter.widget-view+json": {
       "model_id": "3f686fe58c06474294a13dd07678ed33",
       "version_major": 2,
       "version_minor": 0
      },
      "text/plain": [
       "  0%|          | 0/1 [00:00<?, ?it/s]"
      ]
     },
     "metadata": {},
     "output_type": "display_data"
    },
    {
     "data": {
      "application/vnd.jupyter.widget-view+json": {
       "model_id": "18711b8b1ef84dce9f3c73b51fca5df8",
       "version_major": 2,
       "version_minor": 0
      },
      "text/plain": [
       "Running Simulation :   0%|          | 0/950 [00:00<?, ?it/s]"
      ]
     },
     "metadata": {},
     "output_type": "display_data"
    },
    {
     "name": "stderr",
     "output_type": "stream",
     "text": [
      "2021-11-25 11:57:32,374:INFO:Accuracy: [0.7526315789473684],\tvtraining:2,\tvtesting:0.2, \tdt: 0.02, \tnumDT:10\n",
      "\u001b[32m[I 2021-11-25 11:57:32,465]\u001b[0m Trial 45 finished with value: 0.7526315789473684 and parameters: {'dt': 1, 'ampTraining': 2, 'ampTesting': 1}. Best is trial 25 with value: 0.968421052631579.\u001b[0m\n"
     ]
    },
    {
     "name": "stdout",
     "output_type": "stream",
     "text": [
      "0.7526315789473684\n"
     ]
    },
    {
     "data": {
      "application/vnd.jupyter.widget-view+json": {
       "model_id": "1cfbdc6555e44072ae8fbfeedc76fbee",
       "version_major": 2,
       "version_minor": 0
      },
      "text/plain": [
       "  0%|          | 0/1 [00:00<?, ?it/s]"
      ]
     },
     "metadata": {},
     "output_type": "display_data"
    },
    {
     "data": {
      "application/vnd.jupyter.widget-view+json": {
       "model_id": "e355713736024ba8bd8c6fb6452a2b3b",
       "version_major": 2,
       "version_minor": 0
      },
      "text/plain": [
       "Running Simulation :   0%|          | 0/950 [00:00<?, ?it/s]"
      ]
     },
     "metadata": {},
     "output_type": "display_data"
    },
    {
     "name": "stderr",
     "output_type": "stream",
     "text": [
      "2021-11-25 11:57:35,743:INFO:Accuracy: [0.7894736842105263],\tvtraining:1,\tvtesting:0.2, \tdt: 0.02, \tnumDT:10\n",
      "\u001b[32m[I 2021-11-25 11:57:35,834]\u001b[0m Trial 46 finished with value: 0.7894736842105263 and parameters: {'dt': 1, 'ampTraining': 1, 'ampTesting': 1}. Best is trial 25 with value: 0.968421052631579.\u001b[0m\n"
     ]
    },
    {
     "name": "stdout",
     "output_type": "stream",
     "text": [
      "0.7894736842105263\n"
     ]
    },
    {
     "data": {
      "application/vnd.jupyter.widget-view+json": {
       "model_id": "260f8c5301754731ab08b8785269ea9b",
       "version_major": 2,
       "version_minor": 0
      },
      "text/plain": [
       "  0%|          | 0/1 [00:00<?, ?it/s]"
      ]
     },
     "metadata": {},
     "output_type": "display_data"
    },
    {
     "data": {
      "application/vnd.jupyter.widget-view+json": {
       "model_id": "1a172184a76e467ba2d9224acc98051e",
       "version_major": 2,
       "version_minor": 0
      },
      "text/plain": [
       "Running Simulation :   0%|          | 0/1900 [00:00<?, ?it/s]"
      ]
     },
     "metadata": {},
     "output_type": "display_data"
    },
    {
     "name": "stderr",
     "output_type": "stream",
     "text": [
      "2021-11-25 11:57:42,199:INFO:Accuracy: [0.8421052631578947],\tvtraining:5,\tvtesting:0.2, \tdt: 0.01, \tnumDT:20\n",
      "\u001b[32m[I 2021-11-25 11:57:42,288]\u001b[0m Trial 47 finished with value: 0.8421052631578947 and parameters: {'dt': 0, 'ampTraining': 3, 'ampTesting': 1}. Best is trial 25 with value: 0.968421052631579.\u001b[0m\n"
     ]
    },
    {
     "name": "stdout",
     "output_type": "stream",
     "text": [
      "0.8421052631578947\n"
     ]
    },
    {
     "data": {
      "application/vnd.jupyter.widget-view+json": {
       "model_id": "5328a30c14894eb2a4401a8e6a481007",
       "version_major": 2,
       "version_minor": 0
      },
      "text/plain": [
       "  0%|          | 0/1 [00:00<?, ?it/s]"
      ]
     },
     "metadata": {},
     "output_type": "display_data"
    },
    {
     "data": {
      "application/vnd.jupyter.widget-view+json": {
       "model_id": "0f3a0655414e4df9a5ee763e49cf64ea",
       "version_major": 2,
       "version_minor": 0
      },
      "text/plain": [
       "Running Simulation :   0%|          | 0/950 [00:00<?, ?it/s]"
      ]
     },
     "metadata": {},
     "output_type": "display_data"
    },
    {
     "name": "stderr",
     "output_type": "stream",
     "text": [
      "2021-11-25 11:57:45,574:INFO:Accuracy: [0.7684210526315789],\tvtraining:1,\tvtesting:0.3, \tdt: 0.02, \tnumDT:10\n",
      "\u001b[32m[I 2021-11-25 11:57:45,664]\u001b[0m Trial 48 finished with value: 0.7684210526315789 and parameters: {'dt': 1, 'ampTraining': 1, 'ampTesting': 2}. Best is trial 25 with value: 0.968421052631579.\u001b[0m\n"
     ]
    },
    {
     "name": "stdout",
     "output_type": "stream",
     "text": [
      "0.7684210526315789\n"
     ]
    },
    {
     "data": {
      "application/vnd.jupyter.widget-view+json": {
       "model_id": "e247206aa03c427f89a9db675f27d75e",
       "version_major": 2,
       "version_minor": 0
      },
      "text/plain": [
       "  0%|          | 0/1 [00:00<?, ?it/s]"
      ]
     },
     "metadata": {},
     "output_type": "display_data"
    },
    {
     "data": {
      "application/vnd.jupyter.widget-view+json": {
       "model_id": "29a288b3d1ec489bba3118a2d1a753f6",
       "version_major": 2,
       "version_minor": 0
      },
      "text/plain": [
       "Running Simulation :   0%|          | 0/1900 [00:00<?, ?it/s]"
      ]
     },
     "metadata": {},
     "output_type": "display_data"
    },
    {
     "name": "stderr",
     "output_type": "stream",
     "text": [
      "2021-11-25 11:57:52,039:INFO:Accuracy: [0.7552631578947369],\tvtraining:2,\tvtesting:0.3, \tdt: 0.01, \tnumDT:20\n",
      "\u001b[32m[I 2021-11-25 11:57:52,131]\u001b[0m Trial 49 finished with value: 0.7552631578947369 and parameters: {'dt': 0, 'ampTraining': 2, 'ampTesting': 2}. Best is trial 25 with value: 0.968421052631579.\u001b[0m\n"
     ]
    },
    {
     "name": "stdout",
     "output_type": "stream",
     "text": [
      "0.7552631578947369\n"
     ]
    },
    {
     "data": {
      "application/vnd.jupyter.widget-view+json": {
       "model_id": "9aa683b6f17b461c975adcdcbb0e744d",
       "version_major": 2,
       "version_minor": 0
      },
      "text/plain": [
       "  0%|          | 0/1 [00:00<?, ?it/s]"
      ]
     },
     "metadata": {},
     "output_type": "display_data"
    },
    {
     "data": {
      "application/vnd.jupyter.widget-view+json": {
       "model_id": "e9f5ebda7b9245e2954812328600876c",
       "version_major": 2,
       "version_minor": 0
      },
      "text/plain": [
       "Running Simulation :   0%|          | 0/950 [00:00<?, ?it/s]"
      ]
     },
     "metadata": {},
     "output_type": "display_data"
    },
    {
     "name": "stderr",
     "output_type": "stream",
     "text": [
      "2021-11-25 11:57:55,417:INFO:Accuracy: [0.868421052631579],\tvtraining:5,\tvtesting:0.2, \tdt: 0.02, \tnumDT:10\n",
      "\u001b[32m[I 2021-11-25 11:57:55,509]\u001b[0m Trial 50 finished with value: 0.868421052631579 and parameters: {'dt': 1, 'ampTraining': 3, 'ampTesting': 1}. Best is trial 25 with value: 0.968421052631579.\u001b[0m\n"
     ]
    },
    {
     "name": "stdout",
     "output_type": "stream",
     "text": [
      "0.868421052631579\n"
     ]
    },
    {
     "data": {
      "application/vnd.jupyter.widget-view+json": {
       "model_id": "f6742f2b19564212ae725d6d0168ec65",
       "version_major": 2,
       "version_minor": 0
      },
      "text/plain": [
       "  0%|          | 0/1 [00:00<?, ?it/s]"
      ]
     },
     "metadata": {},
     "output_type": "display_data"
    },
    {
     "data": {
      "application/vnd.jupyter.widget-view+json": {
       "model_id": "8546a788b6184672961a69a812c440cf",
       "version_major": 2,
       "version_minor": 0
      },
      "text/plain": [
       "Running Simulation :   0%|          | 0/190 [00:00<?, ?it/s]"
      ]
     },
     "metadata": {},
     "output_type": "display_data"
    },
    {
     "name": "stderr",
     "output_type": "stream",
     "text": [
      "2021-11-25 11:57:56,325:INFO:Accuracy: [0.7105263157894737],\tvtraining:0.5,\tvtesting:0.5, \tdt: 0.1, \tnumDT:2\n",
      "\u001b[32m[I 2021-11-25 11:57:56,416]\u001b[0m Trial 51 finished with value: 0.7105263157894737 and parameters: {'dt': 3, 'ampTraining': 0, 'ampTesting': 3}. Best is trial 25 with value: 0.968421052631579.\u001b[0m\n"
     ]
    },
    {
     "name": "stdout",
     "output_type": "stream",
     "text": [
      "0.7105263157894737\n"
     ]
    },
    {
     "data": {
      "application/vnd.jupyter.widget-view+json": {
       "model_id": "8e31ee2c05514704b38c0229de0122c7",
       "version_major": 2,
       "version_minor": 0
      },
      "text/plain": [
       "  0%|          | 0/1 [00:00<?, ?it/s]"
      ]
     },
     "metadata": {},
     "output_type": "display_data"
    },
    {
     "data": {
      "application/vnd.jupyter.widget-view+json": {
       "model_id": "549375841d5b48ac8ef8f12efa39c0b5",
       "version_major": 2,
       "version_minor": 0
      },
      "text/plain": [
       "Running Simulation :   0%|          | 0/1900 [00:00<?, ?it/s]"
      ]
     },
     "metadata": {},
     "output_type": "display_data"
    },
    {
     "name": "stderr",
     "output_type": "stream",
     "text": [
      "2021-11-25 11:58:02,774:INFO:Accuracy: [0.7578947368421053],\tvtraining:2,\tvtesting:0.2, \tdt: 0.01, \tnumDT:20\n",
      "\u001b[32m[I 2021-11-25 11:58:02,860]\u001b[0m Trial 52 finished with value: 0.7578947368421053 and parameters: {'dt': 0, 'ampTraining': 2, 'ampTesting': 1}. Best is trial 25 with value: 0.968421052631579.\u001b[0m\n"
     ]
    },
    {
     "name": "stdout",
     "output_type": "stream",
     "text": [
      "0.7578947368421053\n"
     ]
    },
    {
     "data": {
      "application/vnd.jupyter.widget-view+json": {
       "model_id": "d2faef67a5df4c4c9e7473e5002fea6d",
       "version_major": 2,
       "version_minor": 0
      },
      "text/plain": [
       "  0%|          | 0/1 [00:00<?, ?it/s]"
      ]
     },
     "metadata": {},
     "output_type": "display_data"
    },
    {
     "data": {
      "application/vnd.jupyter.widget-view+json": {
       "model_id": "0c87a6e12995458aa54f93987ded9746",
       "version_major": 2,
       "version_minor": 0
      },
      "text/plain": [
       "Running Simulation :   0%|          | 0/380 [00:00<?, ?it/s]"
      ]
     },
     "metadata": {},
     "output_type": "display_data"
    },
    {
     "name": "stderr",
     "output_type": "stream",
     "text": [
      "2021-11-25 11:58:04,293:INFO:Accuracy: [0.7368421052631579],\tvtraining:5,\tvtesting:0.1, \tdt: 0.05, \tnumDT:4\n",
      "\u001b[32m[I 2021-11-25 11:58:04,378]\u001b[0m Trial 53 finished with value: 0.7368421052631579 and parameters: {'dt': 2, 'ampTraining': 3, 'ampTesting': 0}. Best is trial 25 with value: 0.968421052631579.\u001b[0m\n"
     ]
    },
    {
     "name": "stdout",
     "output_type": "stream",
     "text": [
      "0.7368421052631579\n"
     ]
    },
    {
     "data": {
      "application/vnd.jupyter.widget-view+json": {
       "model_id": "5dfe9d6d24664659a962dbd8b0df82b6",
       "version_major": 2,
       "version_minor": 0
      },
      "text/plain": [
       "  0%|          | 0/1 [00:00<?, ?it/s]"
      ]
     },
     "metadata": {},
     "output_type": "display_data"
    },
    {
     "data": {
      "application/vnd.jupyter.widget-view+json": {
       "model_id": "2b6d94eae2114386b9675885532c47b0",
       "version_major": 2,
       "version_minor": 0
      },
      "text/plain": [
       "Running Simulation :   0%|          | 0/950 [00:00<?, ?it/s]"
      ]
     },
     "metadata": {},
     "output_type": "display_data"
    },
    {
     "name": "stderr",
     "output_type": "stream",
     "text": [
      "2021-11-25 11:58:07,667:INFO:Accuracy: [0.7894736842105263],\tvtraining:5,\tvtesting:0.3, \tdt: 0.02, \tnumDT:10\n",
      "\u001b[32m[I 2021-11-25 11:58:07,758]\u001b[0m Trial 54 finished with value: 0.7894736842105263 and parameters: {'dt': 1, 'ampTraining': 3, 'ampTesting': 2}. Best is trial 25 with value: 0.968421052631579.\u001b[0m\n"
     ]
    },
    {
     "name": "stdout",
     "output_type": "stream",
     "text": [
      "0.7894736842105263\n"
     ]
    },
    {
     "data": {
      "application/vnd.jupyter.widget-view+json": {
       "model_id": "a3024a4257044915b176ec9c4cba74a5",
       "version_major": 2,
       "version_minor": 0
      },
      "text/plain": [
       "  0%|          | 0/1 [00:00<?, ?it/s]"
      ]
     },
     "metadata": {},
     "output_type": "display_data"
    },
    {
     "data": {
      "application/vnd.jupyter.widget-view+json": {
       "model_id": "75156920a21d452e94cb6daea00bce5f",
       "version_major": 2,
       "version_minor": 0
      },
      "text/plain": [
       "Running Simulation :   0%|          | 0/1900 [00:00<?, ?it/s]"
      ]
     },
     "metadata": {},
     "output_type": "display_data"
    },
    {
     "name": "stderr",
     "output_type": "stream",
     "text": [
      "2021-11-25 11:58:14,130:INFO:Accuracy: [0.8947368421052632],\tvtraining:5,\tvtesting:0.2, \tdt: 0.01, \tnumDT:20\n",
      "\u001b[32m[I 2021-11-25 11:58:14,218]\u001b[0m Trial 55 finished with value: 0.8947368421052632 and parameters: {'dt': 0, 'ampTraining': 3, 'ampTesting': 1}. Best is trial 25 with value: 0.968421052631579.\u001b[0m\n"
     ]
    },
    {
     "name": "stdout",
     "output_type": "stream",
     "text": [
      "0.8947368421052632\n"
     ]
    },
    {
     "data": {
      "application/vnd.jupyter.widget-view+json": {
       "model_id": "59931d262dc24f568bb630a6998d290c",
       "version_major": 2,
       "version_minor": 0
      },
      "text/plain": [
       "  0%|          | 0/1 [00:00<?, ?it/s]"
      ]
     },
     "metadata": {},
     "output_type": "display_data"
    },
    {
     "data": {
      "application/vnd.jupyter.widget-view+json": {
       "model_id": "f73dddcd052d4b25b16460dbfdef5109",
       "version_major": 2,
       "version_minor": 0
      },
      "text/plain": [
       "Running Simulation :   0%|          | 0/1900 [00:00<?, ?it/s]"
      ]
     },
     "metadata": {},
     "output_type": "display_data"
    },
    {
     "name": "stderr",
     "output_type": "stream",
     "text": [
      "2021-11-25 11:58:20,612:INFO:Accuracy: [0.8421052631578947],\tvtraining:5,\tvtesting:0.2, \tdt: 0.01, \tnumDT:20\n",
      "\u001b[32m[I 2021-11-25 11:58:20,704]\u001b[0m Trial 56 finished with value: 0.8421052631578947 and parameters: {'dt': 0, 'ampTraining': 3, 'ampTesting': 1}. Best is trial 25 with value: 0.968421052631579.\u001b[0m\n"
     ]
    },
    {
     "name": "stdout",
     "output_type": "stream",
     "text": [
      "0.8421052631578947\n"
     ]
    },
    {
     "data": {
      "application/vnd.jupyter.widget-view+json": {
       "model_id": "2dfab8e7dfba4d0caa2131c541da54b1",
       "version_major": 2,
       "version_minor": 0
      },
      "text/plain": [
       "  0%|          | 0/1 [00:00<?, ?it/s]"
      ]
     },
     "metadata": {},
     "output_type": "display_data"
    },
    {
     "data": {
      "application/vnd.jupyter.widget-view+json": {
       "model_id": "a4c496edff9f4b049ecc2a42fba26f30",
       "version_major": 2,
       "version_minor": 0
      },
      "text/plain": [
       "Running Simulation :   0%|          | 0/1900 [00:00<?, ?it/s]"
      ]
     },
     "metadata": {},
     "output_type": "display_data"
    },
    {
     "name": "stderr",
     "output_type": "stream",
     "text": [
      "2021-11-25 11:58:27,108:INFO:Accuracy: [0.7894736842105263],\tvtraining:5,\tvtesting:0.3, \tdt: 0.01, \tnumDT:20\n",
      "\u001b[32m[I 2021-11-25 11:58:27,203]\u001b[0m Trial 57 finished with value: 0.7894736842105263 and parameters: {'dt': 0, 'ampTraining': 3, 'ampTesting': 2}. Best is trial 25 with value: 0.968421052631579.\u001b[0m\n"
     ]
    },
    {
     "name": "stdout",
     "output_type": "stream",
     "text": [
      "0.7894736842105263\n"
     ]
    },
    {
     "data": {
      "application/vnd.jupyter.widget-view+json": {
       "model_id": "0530dde6caba40099e72f1a3c3f10689",
       "version_major": 2,
       "version_minor": 0
      },
      "text/plain": [
       "  0%|          | 0/1 [00:00<?, ?it/s]"
      ]
     },
     "metadata": {},
     "output_type": "display_data"
    },
    {
     "data": {
      "application/vnd.jupyter.widget-view+json": {
       "model_id": "482e25c9687242dfb2a49e23db38f826",
       "version_major": 2,
       "version_minor": 0
      },
      "text/plain": [
       "Running Simulation :   0%|          | 0/1900 [00:00<?, ?it/s]"
      ]
     },
     "metadata": {},
     "output_type": "display_data"
    },
    {
     "name": "stderr",
     "output_type": "stream",
     "text": [
      "2021-11-25 11:58:33,601:INFO:Accuracy: [1.0],\tvtraining:5,\tvtesting:0.2, \tdt: 0.01, \tnumDT:20\n",
      "\u001b[32m[I 2021-11-25 11:58:33,696]\u001b[0m Trial 58 finished with value: 1.0 and parameters: {'dt': 0, 'ampTraining': 3, 'ampTesting': 1}. Best is trial 58 with value: 1.0.\u001b[0m\n"
     ]
    },
    {
     "name": "stdout",
     "output_type": "stream",
     "text": [
      "1.0\n"
     ]
    },
    {
     "data": {
      "application/vnd.jupyter.widget-view+json": {
       "model_id": "80edc07fd3b84215baf87f962f4a1f82",
       "version_major": 2,
       "version_minor": 0
      },
      "text/plain": [
       "  0%|          | 0/1 [00:00<?, ?it/s]"
      ]
     },
     "metadata": {},
     "output_type": "display_data"
    },
    {
     "data": {
      "application/vnd.jupyter.widget-view+json": {
       "model_id": "829263b9b97e4e61996ae6d6a3f931f8",
       "version_major": 2,
       "version_minor": 0
      },
      "text/plain": [
       "Running Simulation :   0%|          | 0/1900 [00:00<?, ?it/s]"
      ]
     },
     "metadata": {},
     "output_type": "display_data"
    },
    {
     "name": "stderr",
     "output_type": "stream",
     "text": [
      "2021-11-25 11:58:40,098:INFO:Accuracy: [0.8421052631578947],\tvtraining:2,\tvtesting:0.2, \tdt: 0.01, \tnumDT:20\n",
      "\u001b[32m[I 2021-11-25 11:58:40,190]\u001b[0m Trial 59 finished with value: 0.8421052631578947 and parameters: {'dt': 0, 'ampTraining': 2, 'ampTesting': 1}. Best is trial 58 with value: 1.0.\u001b[0m\n"
     ]
    },
    {
     "name": "stdout",
     "output_type": "stream",
     "text": [
      "0.8421052631578947\n"
     ]
    },
    {
     "data": {
      "application/vnd.jupyter.widget-view+json": {
       "model_id": "603ea87725a743a99268f396351fa3e2",
       "version_major": 2,
       "version_minor": 0
      },
      "text/plain": [
       "  0%|          | 0/1 [00:00<?, ?it/s]"
      ]
     },
     "metadata": {},
     "output_type": "display_data"
    },
    {
     "data": {
      "application/vnd.jupyter.widget-view+json": {
       "model_id": "974e5c9b274843e2bab4db73278e3597",
       "version_major": 2,
       "version_minor": 0
      },
      "text/plain": [
       "Running Simulation :   0%|          | 0/1900 [00:00<?, ?it/s]"
      ]
     },
     "metadata": {},
     "output_type": "display_data"
    },
    {
     "name": "stderr",
     "output_type": "stream",
     "text": [
      "2021-11-25 11:58:46,598:INFO:Accuracy: [0.7105263157894737],\tvtraining:5,\tvtesting:0.1, \tdt: 0.01, \tnumDT:20\n",
      "\u001b[32m[I 2021-11-25 11:58:46,691]\u001b[0m Trial 60 finished with value: 0.7105263157894737 and parameters: {'dt': 0, 'ampTraining': 3, 'ampTesting': 0}. Best is trial 58 with value: 1.0.\u001b[0m\n"
     ]
    },
    {
     "name": "stdout",
     "output_type": "stream",
     "text": [
      "0.7105263157894737\n"
     ]
    },
    {
     "data": {
      "application/vnd.jupyter.widget-view+json": {
       "model_id": "96e36aae07444aa29b04d19321adc33b",
       "version_major": 2,
       "version_minor": 0
      },
      "text/plain": [
       "  0%|          | 0/1 [00:00<?, ?it/s]"
      ]
     },
     "metadata": {},
     "output_type": "display_data"
    },
    {
     "data": {
      "application/vnd.jupyter.widget-view+json": {
       "model_id": "8da9c61874c84f0284999e5b34e72f5b",
       "version_major": 2,
       "version_minor": 0
      },
      "text/plain": [
       "Running Simulation :   0%|          | 0/1900 [00:00<?, ?it/s]"
      ]
     },
     "metadata": {},
     "output_type": "display_data"
    },
    {
     "name": "stderr",
     "output_type": "stream",
     "text": [
      "2021-11-25 11:58:53,090:INFO:Accuracy: [0.7473684210526316],\tvtraining:1,\tvtesting:0.3, \tdt: 0.01, \tnumDT:20\n",
      "\u001b[32m[I 2021-11-25 11:58:53,183]\u001b[0m Trial 61 finished with value: 0.7473684210526316 and parameters: {'dt': 0, 'ampTraining': 1, 'ampTesting': 2}. Best is trial 58 with value: 1.0.\u001b[0m\n"
     ]
    },
    {
     "name": "stdout",
     "output_type": "stream",
     "text": [
      "0.7473684210526316\n"
     ]
    },
    {
     "data": {
      "application/vnd.jupyter.widget-view+json": {
       "model_id": "f4c01672baaa4852b8d29430668fbf8e",
       "version_major": 2,
       "version_minor": 0
      },
      "text/plain": [
       "  0%|          | 0/1 [00:00<?, ?it/s]"
      ]
     },
     "metadata": {},
     "output_type": "display_data"
    },
    {
     "data": {
      "application/vnd.jupyter.widget-view+json": {
       "model_id": "0d341836a6b54260a3be2d5c123dca03",
       "version_major": 2,
       "version_minor": 0
      },
      "text/plain": [
       "Running Simulation :   0%|          | 0/1900 [00:00<?, ?it/s]"
      ]
     },
     "metadata": {},
     "output_type": "display_data"
    },
    {
     "name": "stderr",
     "output_type": "stream",
     "text": [
      "2021-11-25 11:58:59,607:INFO:Accuracy: [0.6631578947368421],\tvtraining:2,\tvtesting:0.2, \tdt: 0.01, \tnumDT:20\n",
      "\u001b[32m[I 2021-11-25 11:58:59,698]\u001b[0m Trial 62 finished with value: 0.6631578947368421 and parameters: {'dt': 0, 'ampTraining': 2, 'ampTesting': 1}. Best is trial 58 with value: 1.0.\u001b[0m\n"
     ]
    },
    {
     "name": "stdout",
     "output_type": "stream",
     "text": [
      "0.6631578947368421\n"
     ]
    },
    {
     "data": {
      "application/vnd.jupyter.widget-view+json": {
       "model_id": "5b8326d61aca46448a98cd4a99761697",
       "version_major": 2,
       "version_minor": 0
      },
      "text/plain": [
       "  0%|          | 0/1 [00:00<?, ?it/s]"
      ]
     },
     "metadata": {},
     "output_type": "display_data"
    },
    {
     "data": {
      "application/vnd.jupyter.widget-view+json": {
       "model_id": "8211fba62e69453f93e3ef213ca174ea",
       "version_major": 2,
       "version_minor": 0
      },
      "text/plain": [
       "Running Simulation :   0%|          | 0/950 [00:00<?, ?it/s]"
      ]
     },
     "metadata": {},
     "output_type": "display_data"
    },
    {
     "name": "stderr",
     "output_type": "stream",
     "text": [
      "2021-11-25 11:59:03,007:INFO:Accuracy: [0.631578947368421],\tvtraining:5,\tvtesting:0.2, \tdt: 0.02, \tnumDT:10\n",
      "\u001b[32m[I 2021-11-25 11:59:03,094]\u001b[0m Trial 63 finished with value: 0.631578947368421 and parameters: {'dt': 1, 'ampTraining': 3, 'ampTesting': 1}. Best is trial 58 with value: 1.0.\u001b[0m\n"
     ]
    },
    {
     "name": "stdout",
     "output_type": "stream",
     "text": [
      "0.631578947368421\n"
     ]
    },
    {
     "data": {
      "application/vnd.jupyter.widget-view+json": {
       "model_id": "b9cdcb5a25c244fdb52911ddcde5787a",
       "version_major": 2,
       "version_minor": 0
      },
      "text/plain": [
       "  0%|          | 0/1 [00:00<?, ?it/s]"
      ]
     },
     "metadata": {},
     "output_type": "display_data"
    },
    {
     "data": {
      "application/vnd.jupyter.widget-view+json": {
       "model_id": "9548350244254a3d9b88514b054cad35",
       "version_major": 2,
       "version_minor": 0
      },
      "text/plain": [
       "Running Simulation :   0%|          | 0/380 [00:00<?, ?it/s]"
      ]
     },
     "metadata": {},
     "output_type": "display_data"
    },
    {
     "name": "stderr",
     "output_type": "stream",
     "text": [
      "2021-11-25 11:59:04,537:INFO:Accuracy: [0.7894736842105263],\tvtraining:5,\tvtesting:0.2, \tdt: 0.05, \tnumDT:4\n",
      "\u001b[32m[I 2021-11-25 11:59:04,626]\u001b[0m Trial 64 finished with value: 0.7894736842105263 and parameters: {'dt': 2, 'ampTraining': 3, 'ampTesting': 1}. Best is trial 58 with value: 1.0.\u001b[0m\n"
     ]
    },
    {
     "name": "stdout",
     "output_type": "stream",
     "text": [
      "0.7894736842105263\n"
     ]
    },
    {
     "data": {
      "application/vnd.jupyter.widget-view+json": {
       "model_id": "36024c4780984a8fa3c4fbf867ff9acb",
       "version_major": 2,
       "version_minor": 0
      },
      "text/plain": [
       "  0%|          | 0/1 [00:00<?, ?it/s]"
      ]
     },
     "metadata": {},
     "output_type": "display_data"
    },
    {
     "data": {
      "application/vnd.jupyter.widget-view+json": {
       "model_id": "4c09f767fa95413aa5d39e56ea04bfd5",
       "version_major": 2,
       "version_minor": 0
      },
      "text/plain": [
       "Running Simulation :   0%|          | 0/1900 [00:00<?, ?it/s]"
      ]
     },
     "metadata": {},
     "output_type": "display_data"
    },
    {
     "name": "stderr",
     "output_type": "stream",
     "text": [
      "2021-11-25 11:59:11,009:INFO:Accuracy: [0.8921052631578947],\tvtraining:5,\tvtesting:0.2, \tdt: 0.01, \tnumDT:20\n",
      "\u001b[32m[I 2021-11-25 11:59:11,105]\u001b[0m Trial 65 finished with value: 0.8921052631578947 and parameters: {'dt': 0, 'ampTraining': 3, 'ampTesting': 1}. Best is trial 58 with value: 1.0.\u001b[0m\n"
     ]
    },
    {
     "name": "stdout",
     "output_type": "stream",
     "text": [
      "0.8921052631578947\n"
     ]
    },
    {
     "data": {
      "application/vnd.jupyter.widget-view+json": {
       "model_id": "9a39957b2ec24229bceee1699c54937a",
       "version_major": 2,
       "version_minor": 0
      },
      "text/plain": [
       "  0%|          | 0/1 [00:00<?, ?it/s]"
      ]
     },
     "metadata": {},
     "output_type": "display_data"
    },
    {
     "data": {
      "application/vnd.jupyter.widget-view+json": {
       "model_id": "c0de20bf72f445ca963319ad50f24846",
       "version_major": 2,
       "version_minor": 0
      },
      "text/plain": [
       "Running Simulation :   0%|          | 0/1900 [00:00<?, ?it/s]"
      ]
     },
     "metadata": {},
     "output_type": "display_data"
    },
    {
     "name": "stderr",
     "output_type": "stream",
     "text": [
      "2021-11-25 11:59:17,541:INFO:Accuracy: [0.8947368421052632],\tvtraining:5,\tvtesting:0.2, \tdt: 0.01, \tnumDT:20\n",
      "\u001b[32m[I 2021-11-25 11:59:17,633]\u001b[0m Trial 66 finished with value: 0.8947368421052632 and parameters: {'dt': 0, 'ampTraining': 3, 'ampTesting': 1}. Best is trial 58 with value: 1.0.\u001b[0m\n"
     ]
    },
    {
     "name": "stdout",
     "output_type": "stream",
     "text": [
      "0.8947368421052632\n"
     ]
    },
    {
     "data": {
      "application/vnd.jupyter.widget-view+json": {
       "model_id": "3c30b6c3a944443caef8632de1d0063b",
       "version_major": 2,
       "version_minor": 0
      },
      "text/plain": [
       "  0%|          | 0/1 [00:00<?, ?it/s]"
      ]
     },
     "metadata": {},
     "output_type": "display_data"
    },
    {
     "data": {
      "application/vnd.jupyter.widget-view+json": {
       "model_id": "40a2e9bc054a459cb26bee425c0c1898",
       "version_major": 2,
       "version_minor": 0
      },
      "text/plain": [
       "Running Simulation :   0%|          | 0/1900 [00:00<?, ?it/s]"
      ]
     },
     "metadata": {},
     "output_type": "display_data"
    },
    {
     "name": "stderr",
     "output_type": "stream",
     "text": [
      "2021-11-25 11:59:24,083:INFO:Accuracy: [0.7368421052631579],\tvtraining:5,\tvtesting:0.3, \tdt: 0.01, \tnumDT:20\n",
      "\u001b[32m[I 2021-11-25 11:59:24,171]\u001b[0m Trial 67 finished with value: 0.7368421052631579 and parameters: {'dt': 0, 'ampTraining': 3, 'ampTesting': 2}. Best is trial 58 with value: 1.0.\u001b[0m\n"
     ]
    },
    {
     "name": "stdout",
     "output_type": "stream",
     "text": [
      "0.7368421052631579\n"
     ]
    },
    {
     "data": {
      "application/vnd.jupyter.widget-view+json": {
       "model_id": "66b36c4ddf3f47f583d4746ecb2484bc",
       "version_major": 2,
       "version_minor": 0
      },
      "text/plain": [
       "  0%|          | 0/1 [00:00<?, ?it/s]"
      ]
     },
     "metadata": {},
     "output_type": "display_data"
    },
    {
     "data": {
      "application/vnd.jupyter.widget-view+json": {
       "model_id": "0d0aff90ce78410f9aa91df5b50bab16",
       "version_major": 2,
       "version_minor": 0
      },
      "text/plain": [
       "Running Simulation :   0%|          | 0/1900 [00:00<?, ?it/s]"
      ]
     },
     "metadata": {},
     "output_type": "display_data"
    },
    {
     "name": "stderr",
     "output_type": "stream",
     "text": [
      "2021-11-25 11:59:30,581:INFO:Accuracy: [0.7894736842105263],\tvtraining:5,\tvtesting:0.1, \tdt: 0.01, \tnumDT:20\n",
      "\u001b[32m[I 2021-11-25 11:59:30,672]\u001b[0m Trial 68 finished with value: 0.7894736842105263 and parameters: {'dt': 0, 'ampTraining': 3, 'ampTesting': 0}. Best is trial 58 with value: 1.0.\u001b[0m\n"
     ]
    },
    {
     "name": "stdout",
     "output_type": "stream",
     "text": [
      "0.7894736842105263\n"
     ]
    },
    {
     "data": {
      "application/vnd.jupyter.widget-view+json": {
       "model_id": "ae65da4667184df09905f273db489ab5",
       "version_major": 2,
       "version_minor": 0
      },
      "text/plain": [
       "  0%|          | 0/1 [00:00<?, ?it/s]"
      ]
     },
     "metadata": {},
     "output_type": "display_data"
    },
    {
     "data": {
      "application/vnd.jupyter.widget-view+json": {
       "model_id": "75e75892062c4815bad7ce574108aaaa",
       "version_major": 2,
       "version_minor": 0
      },
      "text/plain": [
       "Running Simulation :   0%|          | 0/1900 [00:00<?, ?it/s]"
      ]
     },
     "metadata": {},
     "output_type": "display_data"
    },
    {
     "name": "stderr",
     "output_type": "stream",
     "text": [
      "2021-11-25 11:59:37,112:INFO:Accuracy: [0.7052631578947368],\tvtraining:1,\tvtesting:0.2, \tdt: 0.01, \tnumDT:20\n",
      "\u001b[32m[I 2021-11-25 11:59:37,206]\u001b[0m Trial 69 finished with value: 0.7052631578947368 and parameters: {'dt': 0, 'ampTraining': 1, 'ampTesting': 1}. Best is trial 58 with value: 1.0.\u001b[0m\n"
     ]
    },
    {
     "name": "stdout",
     "output_type": "stream",
     "text": [
      "0.7052631578947368\n"
     ]
    },
    {
     "data": {
      "application/vnd.jupyter.widget-view+json": {
       "model_id": "6185f3fe1bdb40f6a10c2f8f7c6179e7",
       "version_major": 2,
       "version_minor": 0
      },
      "text/plain": [
       "  0%|          | 0/1 [00:00<?, ?it/s]"
      ]
     },
     "metadata": {},
     "output_type": "display_data"
    },
    {
     "data": {
      "application/vnd.jupyter.widget-view+json": {
       "model_id": "a3e2ca9b86f34d19b65ff1898b81278c",
       "version_major": 2,
       "version_minor": 0
      },
      "text/plain": [
       "Running Simulation :   0%|          | 0/1900 [00:00<?, ?it/s]"
      ]
     },
     "metadata": {},
     "output_type": "display_data"
    },
    {
     "name": "stderr",
     "output_type": "stream",
     "text": [
      "2021-11-25 11:59:43,656:INFO:Accuracy: [0.8552631578947368],\tvtraining:5,\tvtesting:0.2, \tdt: 0.01, \tnumDT:20\n",
      "\u001b[32m[I 2021-11-25 11:59:43,750]\u001b[0m Trial 70 finished with value: 0.8552631578947368 and parameters: {'dt': 0, 'ampTraining': 3, 'ampTesting': 1}. Best is trial 58 with value: 1.0.\u001b[0m\n"
     ]
    },
    {
     "name": "stdout",
     "output_type": "stream",
     "text": [
      "0.8552631578947368\n"
     ]
    },
    {
     "data": {
      "application/vnd.jupyter.widget-view+json": {
       "model_id": "978af7e080f444cead761411c04a5be0",
       "version_major": 2,
       "version_minor": 0
      },
      "text/plain": [
       "  0%|          | 0/1 [00:00<?, ?it/s]"
      ]
     },
     "metadata": {},
     "output_type": "display_data"
    },
    {
     "data": {
      "application/vnd.jupyter.widget-view+json": {
       "model_id": "3ba1ad8504e84e019b2527ce8718c1c3",
       "version_major": 2,
       "version_minor": 0
      },
      "text/plain": [
       "Running Simulation :   0%|          | 0/1900 [00:00<?, ?it/s]"
      ]
     },
     "metadata": {},
     "output_type": "display_data"
    },
    {
     "name": "stderr",
     "output_type": "stream",
     "text": [
      "2021-11-25 11:59:50,212:INFO:Accuracy: [0.47368421052631576],\tvtraining:2,\tvtesting:0.2, \tdt: 0.01, \tnumDT:20\n",
      "\u001b[32m[I 2021-11-25 11:59:50,303]\u001b[0m Trial 71 finished with value: 0.47368421052631576 and parameters: {'dt': 0, 'ampTraining': 2, 'ampTesting': 1}. Best is trial 58 with value: 1.0.\u001b[0m\n"
     ]
    },
    {
     "name": "stdout",
     "output_type": "stream",
     "text": [
      "0.47368421052631576\n"
     ]
    },
    {
     "data": {
      "application/vnd.jupyter.widget-view+json": {
       "model_id": "7025e0cc53314d3296eff14cf563a478",
       "version_major": 2,
       "version_minor": 0
      },
      "text/plain": [
       "  0%|          | 0/1 [00:00<?, ?it/s]"
      ]
     },
     "metadata": {},
     "output_type": "display_data"
    },
    {
     "data": {
      "application/vnd.jupyter.widget-view+json": {
       "model_id": "befd438c45b0475a9d13c044a8116e19",
       "version_major": 2,
       "version_minor": 0
      },
      "text/plain": [
       "Running Simulation :   0%|          | 0/1900 [00:00<?, ?it/s]"
      ]
     },
     "metadata": {},
     "output_type": "display_data"
    },
    {
     "name": "stderr",
     "output_type": "stream",
     "text": [
      "2021-11-25 11:59:56,764:INFO:Accuracy: [0.6973684210526315],\tvtraining:5,\tvtesting:0.5, \tdt: 0.01, \tnumDT:20\n",
      "\u001b[32m[I 2021-11-25 11:59:56,854]\u001b[0m Trial 72 finished with value: 0.6973684210526315 and parameters: {'dt': 0, 'ampTraining': 3, 'ampTesting': 3}. Best is trial 58 with value: 1.0.\u001b[0m\n"
     ]
    },
    {
     "name": "stdout",
     "output_type": "stream",
     "text": [
      "0.6973684210526315\n"
     ]
    },
    {
     "data": {
      "application/vnd.jupyter.widget-view+json": {
       "model_id": "c3fb25d8d5ed421cb8615efd20c5fe59",
       "version_major": 2,
       "version_minor": 0
      },
      "text/plain": [
       "  0%|          | 0/1 [00:00<?, ?it/s]"
      ]
     },
     "metadata": {},
     "output_type": "display_data"
    },
    {
     "data": {
      "application/vnd.jupyter.widget-view+json": {
       "model_id": "565d68f18a004786a4fd804090f8a0ca",
       "version_major": 2,
       "version_minor": 0
      },
      "text/plain": [
       "Running Simulation :   0%|          | 0/950 [00:00<?, ?it/s]"
      ]
     },
     "metadata": {},
     "output_type": "display_data"
    },
    {
     "name": "stderr",
     "output_type": "stream",
     "text": [
      "2021-11-25 12:00:00,187:INFO:Accuracy: [0.7894736842105263],\tvtraining:5,\tvtesting:0.2, \tdt: 0.02, \tnumDT:10\n",
      "\u001b[32m[I 2021-11-25 12:00:00,281]\u001b[0m Trial 73 finished with value: 0.7894736842105263 and parameters: {'dt': 1, 'ampTraining': 3, 'ampTesting': 1}. Best is trial 58 with value: 1.0.\u001b[0m\n"
     ]
    },
    {
     "name": "stdout",
     "output_type": "stream",
     "text": [
      "0.7894736842105263\n"
     ]
    },
    {
     "data": {
      "application/vnd.jupyter.widget-view+json": {
       "model_id": "4b8b926bd17a4cf49a1684f2d51203fb",
       "version_major": 2,
       "version_minor": 0
      },
      "text/plain": [
       "  0%|          | 0/1 [00:00<?, ?it/s]"
      ]
     },
     "metadata": {},
     "output_type": "display_data"
    },
    {
     "data": {
      "application/vnd.jupyter.widget-view+json": {
       "model_id": "e71a81536d1c42f7b39e1890ef0bb3f0",
       "version_major": 2,
       "version_minor": 0
      },
      "text/plain": [
       "Running Simulation :   0%|          | 0/1900 [00:00<?, ?it/s]"
      ]
     },
     "metadata": {},
     "output_type": "display_data"
    },
    {
     "name": "stderr",
     "output_type": "stream",
     "text": [
      "2021-11-25 12:00:06,702:INFO:Accuracy: [0.8421052631578947],\tvtraining:5,\tvtesting:0.2, \tdt: 0.01, \tnumDT:20\n",
      "\u001b[32m[I 2021-11-25 12:00:06,796]\u001b[0m Trial 74 finished with value: 0.8421052631578947 and parameters: {'dt': 0, 'ampTraining': 3, 'ampTesting': 1}. Best is trial 58 with value: 1.0.\u001b[0m\n"
     ]
    },
    {
     "name": "stdout",
     "output_type": "stream",
     "text": [
      "0.8421052631578947\n"
     ]
    },
    {
     "data": {
      "application/vnd.jupyter.widget-view+json": {
       "model_id": "c143c19c298d4ecbaf096bf35727a19d",
       "version_major": 2,
       "version_minor": 0
      },
      "text/plain": [
       "  0%|          | 0/1 [00:00<?, ?it/s]"
      ]
     },
     "metadata": {},
     "output_type": "display_data"
    },
    {
     "data": {
      "application/vnd.jupyter.widget-view+json": {
       "model_id": "18aeb5010992433d8d37afb6edabb284",
       "version_major": 2,
       "version_minor": 0
      },
      "text/plain": [
       "Running Simulation :   0%|          | 0/1900 [00:00<?, ?it/s]"
      ]
     },
     "metadata": {},
     "output_type": "display_data"
    },
    {
     "name": "stderr",
     "output_type": "stream",
     "text": [
      "2021-11-25 12:00:13,233:INFO:Accuracy: [0.9473684210526315],\tvtraining:5,\tvtesting:0.2, \tdt: 0.01, \tnumDT:20\n",
      "\u001b[32m[I 2021-11-25 12:00:13,325]\u001b[0m Trial 75 finished with value: 0.9473684210526315 and parameters: {'dt': 0, 'ampTraining': 3, 'ampTesting': 1}. Best is trial 58 with value: 1.0.\u001b[0m\n"
     ]
    },
    {
     "name": "stdout",
     "output_type": "stream",
     "text": [
      "0.9473684210526315\n"
     ]
    },
    {
     "data": {
      "application/vnd.jupyter.widget-view+json": {
       "model_id": "8fb5a90268df48a990f8dbfb313f33b6",
       "version_major": 2,
       "version_minor": 0
      },
      "text/plain": [
       "  0%|          | 0/1 [00:00<?, ?it/s]"
      ]
     },
     "metadata": {},
     "output_type": "display_data"
    },
    {
     "data": {
      "application/vnd.jupyter.widget-view+json": {
       "model_id": "e319283200a246e7bc93f33ed7e02ebd",
       "version_major": 2,
       "version_minor": 0
      },
      "text/plain": [
       "Running Simulation :   0%|          | 0/1900 [00:00<?, ?it/s]"
      ]
     },
     "metadata": {},
     "output_type": "display_data"
    },
    {
     "name": "stderr",
     "output_type": "stream",
     "text": [
      "2021-11-25 12:00:19,811:INFO:Accuracy: [0.6842105263157895],\tvtraining:5,\tvtesting:0.2, \tdt: 0.01, \tnumDT:20\n",
      "\u001b[32m[I 2021-11-25 12:00:19,907]\u001b[0m Trial 76 finished with value: 0.6842105263157895 and parameters: {'dt': 0, 'ampTraining': 3, 'ampTesting': 1}. Best is trial 58 with value: 1.0.\u001b[0m\n"
     ]
    },
    {
     "name": "stdout",
     "output_type": "stream",
     "text": [
      "0.6842105263157895\n"
     ]
    },
    {
     "data": {
      "application/vnd.jupyter.widget-view+json": {
       "model_id": "d2daf0ff5c07457dbdd9605b63ca2144",
       "version_major": 2,
       "version_minor": 0
      },
      "text/plain": [
       "  0%|          | 0/1 [00:00<?, ?it/s]"
      ]
     },
     "metadata": {},
     "output_type": "display_data"
    },
    {
     "data": {
      "application/vnd.jupyter.widget-view+json": {
       "model_id": "1b4f97fb85a04c50811c227a6cae05ba",
       "version_major": 2,
       "version_minor": 0
      },
      "text/plain": [
       "Running Simulation :   0%|          | 0/1900 [00:00<?, ?it/s]"
      ]
     },
     "metadata": {},
     "output_type": "display_data"
    },
    {
     "name": "stderr",
     "output_type": "stream",
     "text": [
      "2021-11-25 12:00:26,345:INFO:Accuracy: [0.6631578947368421],\tvtraining:1,\tvtesting:0.3, \tdt: 0.01, \tnumDT:20\n",
      "\u001b[32m[I 2021-11-25 12:00:26,441]\u001b[0m Trial 77 finished with value: 0.6631578947368421 and parameters: {'dt': 0, 'ampTraining': 1, 'ampTesting': 2}. Best is trial 58 with value: 1.0.\u001b[0m\n"
     ]
    },
    {
     "name": "stdout",
     "output_type": "stream",
     "text": [
      "0.6631578947368421\n"
     ]
    },
    {
     "data": {
      "application/vnd.jupyter.widget-view+json": {
       "model_id": "43b696e87105477abca3c96bb13b6b3a",
       "version_major": 2,
       "version_minor": 0
      },
      "text/plain": [
       "  0%|          | 0/1 [00:00<?, ?it/s]"
      ]
     },
     "metadata": {},
     "output_type": "display_data"
    },
    {
     "data": {
      "application/vnd.jupyter.widget-view+json": {
       "model_id": "90069bfa7fe4417b9bbd1570493a8292",
       "version_major": 2,
       "version_minor": 0
      },
      "text/plain": [
       "Running Simulation :   0%|          | 0/1900 [00:00<?, ?it/s]"
      ]
     },
     "metadata": {},
     "output_type": "display_data"
    },
    {
     "name": "stderr",
     "output_type": "stream",
     "text": [
      "2021-11-25 12:00:32,882:INFO:Accuracy: [0.8947368421052632],\tvtraining:5,\tvtesting:0.1, \tdt: 0.01, \tnumDT:20\n",
      "\u001b[32m[I 2021-11-25 12:00:32,976]\u001b[0m Trial 78 finished with value: 0.8947368421052632 and parameters: {'dt': 0, 'ampTraining': 3, 'ampTesting': 0}. Best is trial 58 with value: 1.0.\u001b[0m\n"
     ]
    },
    {
     "name": "stdout",
     "output_type": "stream",
     "text": [
      "0.8947368421052632\n"
     ]
    },
    {
     "data": {
      "application/vnd.jupyter.widget-view+json": {
       "model_id": "51ce24f6f0b349f697b46f077ac4331f",
       "version_major": 2,
       "version_minor": 0
      },
      "text/plain": [
       "  0%|          | 0/1 [00:00<?, ?it/s]"
      ]
     },
     "metadata": {},
     "output_type": "display_data"
    },
    {
     "data": {
      "application/vnd.jupyter.widget-view+json": {
       "model_id": "540dad7d37de4e1f8172cf4a246467f8",
       "version_major": 2,
       "version_minor": 0
      },
      "text/plain": [
       "Running Simulation :   0%|          | 0/1900 [00:00<?, ?it/s]"
      ]
     },
     "metadata": {},
     "output_type": "display_data"
    },
    {
     "name": "stderr",
     "output_type": "stream",
     "text": [
      "2021-11-25 12:00:39,407:INFO:Accuracy: [0.7894736842105263],\tvtraining:5,\tvtesting:0.1, \tdt: 0.01, \tnumDT:20\n",
      "\u001b[32m[I 2021-11-25 12:00:39,504]\u001b[0m Trial 79 finished with value: 0.7894736842105263 and parameters: {'dt': 0, 'ampTraining': 3, 'ampTesting': 0}. Best is trial 58 with value: 1.0.\u001b[0m\n"
     ]
    },
    {
     "name": "stdout",
     "output_type": "stream",
     "text": [
      "0.7894736842105263\n"
     ]
    },
    {
     "data": {
      "application/vnd.jupyter.widget-view+json": {
       "model_id": "2c5d78c79ed84e88bb9682bbe23f06dd",
       "version_major": 2,
       "version_minor": 0
      },
      "text/plain": [
       "  0%|          | 0/1 [00:00<?, ?it/s]"
      ]
     },
     "metadata": {},
     "output_type": "display_data"
    },
    {
     "data": {
      "application/vnd.jupyter.widget-view+json": {
       "model_id": "ebf98ed125b04606b42207c7e3f0a088",
       "version_major": 2,
       "version_minor": 0
      },
      "text/plain": [
       "Running Simulation :   0%|          | 0/1900 [00:00<?, ?it/s]"
      ]
     },
     "metadata": {},
     "output_type": "display_data"
    },
    {
     "name": "stderr",
     "output_type": "stream",
     "text": [
      "2021-11-25 12:00:45,940:INFO:Accuracy: [0.7894736842105263],\tvtraining:5,\tvtesting:0.2, \tdt: 0.01, \tnumDT:20\n"
     ]
    },
    {
     "name": "stdout",
     "output_type": "stream",
     "text": [
      "0.7894736842105263\n"
     ]
    },
    {
     "name": "stderr",
     "output_type": "stream",
     "text": [
      "\u001b[32m[I 2021-11-25 12:00:46,320]\u001b[0m Trial 80 finished with value: 0.7894736842105263 and parameters: {'dt': 0, 'ampTraining': 3, 'ampTesting': 1}. Best is trial 58 with value: 1.0.\u001b[0m\n"
     ]
    },
    {
     "data": {
      "application/vnd.jupyter.widget-view+json": {
       "model_id": "938727050e674388a5302a3b547bf654",
       "version_major": 2,
       "version_minor": 0
      },
      "text/plain": [
       "  0%|          | 0/1 [00:00<?, ?it/s]"
      ]
     },
     "metadata": {},
     "output_type": "display_data"
    },
    {
     "data": {
      "application/vnd.jupyter.widget-view+json": {
       "model_id": "ec6ffae7de8241fe9fa3c5a6fd48121e",
       "version_major": 2,
       "version_minor": 0
      },
      "text/plain": [
       "Running Simulation :   0%|          | 0/190 [00:00<?, ?it/s]"
      ]
     },
     "metadata": {},
     "output_type": "display_data"
    },
    {
     "name": "stderr",
     "output_type": "stream",
     "text": [
      "2021-11-25 12:00:47,154:INFO:Accuracy: [0.7368421052631579],\tvtraining:5,\tvtesting:0.2, \tdt: 0.1, \tnumDT:2\n",
      "\u001b[32m[I 2021-11-25 12:00:47,247]\u001b[0m Trial 81 finished with value: 0.7368421052631579 and parameters: {'dt': 3, 'ampTraining': 3, 'ampTesting': 1}. Best is trial 58 with value: 1.0.\u001b[0m\n"
     ]
    },
    {
     "name": "stdout",
     "output_type": "stream",
     "text": [
      "0.7368421052631579\n"
     ]
    },
    {
     "data": {
      "application/vnd.jupyter.widget-view+json": {
       "model_id": "573f9aeae51f40ddbbd8fd06cefb315d",
       "version_major": 2,
       "version_minor": 0
      },
      "text/plain": [
       "  0%|          | 0/1 [00:00<?, ?it/s]"
      ]
     },
     "metadata": {},
     "output_type": "display_data"
    },
    {
     "data": {
      "application/vnd.jupyter.widget-view+json": {
       "model_id": "2e8c7070a9da414cbb841164acf4578a",
       "version_major": 2,
       "version_minor": 0
      },
      "text/plain": [
       "Running Simulation :   0%|          | 0/950 [00:00<?, ?it/s]"
      ]
     },
     "metadata": {},
     "output_type": "display_data"
    },
    {
     "name": "stderr",
     "output_type": "stream",
     "text": [
      "2021-11-25 12:00:50,608:INFO:Accuracy: [0.7526315789473684],\tvtraining:2,\tvtesting:0.2, \tdt: 0.02, \tnumDT:10\n",
      "\u001b[32m[I 2021-11-25 12:00:50,699]\u001b[0m Trial 82 finished with value: 0.7526315789473684 and parameters: {'dt': 1, 'ampTraining': 2, 'ampTesting': 1}. Best is trial 58 with value: 1.0.\u001b[0m\n"
     ]
    },
    {
     "name": "stdout",
     "output_type": "stream",
     "text": [
      "0.7526315789473684\n"
     ]
    },
    {
     "data": {
      "application/vnd.jupyter.widget-view+json": {
       "model_id": "12d4e379b2a74b63aab7f68f410f87d4",
       "version_major": 2,
       "version_minor": 0
      },
      "text/plain": [
       "  0%|          | 0/1 [00:00<?, ?it/s]"
      ]
     },
     "metadata": {},
     "output_type": "display_data"
    },
    {
     "data": {
      "application/vnd.jupyter.widget-view+json": {
       "model_id": "2facd5420c014a159010d164695a1222",
       "version_major": 2,
       "version_minor": 0
      },
      "text/plain": [
       "Running Simulation :   0%|          | 0/1900 [00:00<?, ?it/s]"
      ]
     },
     "metadata": {},
     "output_type": "display_data"
    },
    {
     "name": "stderr",
     "output_type": "stream",
     "text": [
      "2021-11-25 12:00:57,082:INFO:Accuracy: [0.7368421052631579],\tvtraining:5,\tvtesting:0.2, \tdt: 0.01, \tnumDT:20\n",
      "\u001b[32m[I 2021-11-25 12:00:57,176]\u001b[0m Trial 83 finished with value: 0.7368421052631579 and parameters: {'dt': 0, 'ampTraining': 3, 'ampTesting': 1}. Best is trial 58 with value: 1.0.\u001b[0m\n"
     ]
    },
    {
     "name": "stdout",
     "output_type": "stream",
     "text": [
      "0.7368421052631579\n"
     ]
    },
    {
     "data": {
      "application/vnd.jupyter.widget-view+json": {
       "model_id": "a69be14288a54ea891f1afa00d6f106a",
       "version_major": 2,
       "version_minor": 0
      },
      "text/plain": [
       "  0%|          | 0/1 [00:00<?, ?it/s]"
      ]
     },
     "metadata": {},
     "output_type": "display_data"
    },
    {
     "data": {
      "application/vnd.jupyter.widget-view+json": {
       "model_id": "96db87542a154354a81f3e43829a62e8",
       "version_major": 2,
       "version_minor": 0
      },
      "text/plain": [
       "Running Simulation :   0%|          | 0/1900 [00:00<?, ?it/s]"
      ]
     },
     "metadata": {},
     "output_type": "display_data"
    },
    {
     "name": "stderr",
     "output_type": "stream",
     "text": [
      "2021-11-25 12:01:03,608:INFO:Accuracy: [0.7894736842105263],\tvtraining:5,\tvtesting:0.1, \tdt: 0.01, \tnumDT:20\n"
     ]
    },
    {
     "name": "stdout",
     "output_type": "stream",
     "text": [
      "0.7894736842105263\n"
     ]
    },
    {
     "name": "stderr",
     "output_type": "stream",
     "text": [
      "\u001b[32m[I 2021-11-25 12:01:04,516]\u001b[0m Trial 84 finished with value: 0.7894736842105263 and parameters: {'dt': 0, 'ampTraining': 3, 'ampTesting': 0}. Best is trial 58 with value: 1.0.\u001b[0m\n"
     ]
    },
    {
     "data": {
      "application/vnd.jupyter.widget-view+json": {
       "model_id": "83d3aeaff2ed447db92f23112e266678",
       "version_major": 2,
       "version_minor": 0
      },
      "text/plain": [
       "  0%|          | 0/1 [00:00<?, ?it/s]"
      ]
     },
     "metadata": {},
     "output_type": "display_data"
    },
    {
     "data": {
      "application/vnd.jupyter.widget-view+json": {
       "model_id": "06b058ec4af74748b96c8ef72ca7b834",
       "version_major": 2,
       "version_minor": 0
      },
      "text/plain": [
       "Running Simulation :   0%|          | 0/380 [00:00<?, ?it/s]"
      ]
     },
     "metadata": {},
     "output_type": "display_data"
    },
    {
     "name": "stderr",
     "output_type": "stream",
     "text": [
      "2021-11-25 12:01:06,035:INFO:Accuracy: [0.8947368421052632],\tvtraining:5,\tvtesting:0.2, \tdt: 0.05, \tnumDT:4\n"
     ]
    },
    {
     "name": "stdout",
     "output_type": "stream",
     "text": [
      "0.8947368421052632\n"
     ]
    },
    {
     "name": "stderr",
     "output_type": "stream",
     "text": [
      "\u001b[32m[I 2021-11-25 12:01:06,413]\u001b[0m Trial 85 finished with value: 0.8947368421052632 and parameters: {'dt': 2, 'ampTraining': 3, 'ampTesting': 1}. Best is trial 58 with value: 1.0.\u001b[0m\n"
     ]
    },
    {
     "data": {
      "application/vnd.jupyter.widget-view+json": {
       "model_id": "83b0eaf1665d41b398f56e60e077e551",
       "version_major": 2,
       "version_minor": 0
      },
      "text/plain": [
       "  0%|          | 0/1 [00:00<?, ?it/s]"
      ]
     },
     "metadata": {},
     "output_type": "display_data"
    },
    {
     "data": {
      "application/vnd.jupyter.widget-view+json": {
       "model_id": "f233ca5b1ccb46b1a22ed4e51f80e8cf",
       "version_major": 2,
       "version_minor": 0
      },
      "text/plain": [
       "Running Simulation :   0%|          | 0/950 [00:00<?, ?it/s]"
      ]
     },
     "metadata": {},
     "output_type": "display_data"
    },
    {
     "name": "stderr",
     "output_type": "stream",
     "text": [
      "2021-11-25 12:01:09,745:INFO:Accuracy: [0.8263157894736842],\tvtraining:5,\tvtesting:0.2, \tdt: 0.02, \tnumDT:10\n"
     ]
    },
    {
     "name": "stdout",
     "output_type": "stream",
     "text": [
      "0.8263157894736842\n"
     ]
    },
    {
     "name": "stderr",
     "output_type": "stream",
     "text": [
      "\u001b[32m[I 2021-11-25 12:01:10,332]\u001b[0m Trial 86 finished with value: 0.8263157894736842 and parameters: {'dt': 1, 'ampTraining': 3, 'ampTesting': 1}. Best is trial 58 with value: 1.0.\u001b[0m\n"
     ]
    },
    {
     "data": {
      "application/vnd.jupyter.widget-view+json": {
       "model_id": "4fe57727dd524ac19126021faced86d3",
       "version_major": 2,
       "version_minor": 0
      },
      "text/plain": [
       "  0%|          | 0/1 [00:00<?, ?it/s]"
      ]
     },
     "metadata": {},
     "output_type": "display_data"
    },
    {
     "data": {
      "application/vnd.jupyter.widget-view+json": {
       "model_id": "074a87480d0243c19238ec9d7ea19b2e",
       "version_major": 2,
       "version_minor": 0
      },
      "text/plain": [
       "Running Simulation :   0%|          | 0/1900 [00:00<?, ?it/s]"
      ]
     },
     "metadata": {},
     "output_type": "display_data"
    },
    {
     "name": "stderr",
     "output_type": "stream",
     "text": [
      "2021-11-25 12:01:16,704:INFO:Accuracy: [0.8289473684210527],\tvtraining:1,\tvtesting:0.2, \tdt: 0.01, \tnumDT:20\n",
      "\u001b[32m[I 2021-11-25 12:01:16,793]\u001b[0m Trial 87 finished with value: 0.8289473684210527 and parameters: {'dt': 0, 'ampTraining': 1, 'ampTesting': 1}. Best is trial 58 with value: 1.0.\u001b[0m\n"
     ]
    },
    {
     "name": "stdout",
     "output_type": "stream",
     "text": [
      "0.8289473684210527\n"
     ]
    },
    {
     "data": {
      "application/vnd.jupyter.widget-view+json": {
       "model_id": "56635a0dba5e48aebfc71fb8769a5474",
       "version_major": 2,
       "version_minor": 0
      },
      "text/plain": [
       "  0%|          | 0/1 [00:00<?, ?it/s]"
      ]
     },
     "metadata": {},
     "output_type": "display_data"
    },
    {
     "data": {
      "application/vnd.jupyter.widget-view+json": {
       "model_id": "0fdfad96ae7c41f889b2833c585e35a8",
       "version_major": 2,
       "version_minor": 0
      },
      "text/plain": [
       "Running Simulation :   0%|          | 0/1900 [00:00<?, ?it/s]"
      ]
     },
     "metadata": {},
     "output_type": "display_data"
    },
    {
     "name": "stderr",
     "output_type": "stream",
     "text": [
      "2021-11-25 12:01:23,225:INFO:Accuracy: [0.9473684210526315],\tvtraining:2,\tvtesting:0.2, \tdt: 0.01, \tnumDT:20\n",
      "\u001b[32m[I 2021-11-25 12:01:23,315]\u001b[0m Trial 88 finished with value: 0.9473684210526315 and parameters: {'dt': 0, 'ampTraining': 2, 'ampTesting': 1}. Best is trial 58 with value: 1.0.\u001b[0m\n"
     ]
    },
    {
     "name": "stdout",
     "output_type": "stream",
     "text": [
      "0.9473684210526315\n"
     ]
    },
    {
     "data": {
      "application/vnd.jupyter.widget-view+json": {
       "model_id": "49e246b0736b4671bba0967723d53c4b",
       "version_major": 2,
       "version_minor": 0
      },
      "text/plain": [
       "  0%|          | 0/1 [00:00<?, ?it/s]"
      ]
     },
     "metadata": {},
     "output_type": "display_data"
    },
    {
     "data": {
      "application/vnd.jupyter.widget-view+json": {
       "model_id": "70fc4b2f94c647d29a21f47a530f726b",
       "version_major": 2,
       "version_minor": 0
      },
      "text/plain": [
       "Running Simulation :   0%|          | 0/380 [00:00<?, ?it/s]"
      ]
     },
     "metadata": {},
     "output_type": "display_data"
    },
    {
     "name": "stderr",
     "output_type": "stream",
     "text": [
      "2021-11-25 12:01:24,764:INFO:Accuracy: [0.7763157894736842],\tvtraining:2,\tvtesting:0.2, \tdt: 0.05, \tnumDT:4\n",
      "\u001b[32m[I 2021-11-25 12:01:24,859]\u001b[0m Trial 89 finished with value: 0.7763157894736842 and parameters: {'dt': 2, 'ampTraining': 2, 'ampTesting': 1}. Best is trial 58 with value: 1.0.\u001b[0m\n"
     ]
    },
    {
     "name": "stdout",
     "output_type": "stream",
     "text": [
      "0.7763157894736842\n"
     ]
    },
    {
     "data": {
      "application/vnd.jupyter.widget-view+json": {
       "model_id": "0779fc5e314a4cc3bea7ffb3439bc8ea",
       "version_major": 2,
       "version_minor": 0
      },
      "text/plain": [
       "  0%|          | 0/1 [00:00<?, ?it/s]"
      ]
     },
     "metadata": {},
     "output_type": "display_data"
    },
    {
     "data": {
      "application/vnd.jupyter.widget-view+json": {
       "model_id": "89da396042204dbdbfbdc0f428ca2e49",
       "version_major": 2,
       "version_minor": 0
      },
      "text/plain": [
       "Running Simulation :   0%|          | 0/1900 [00:00<?, ?it/s]"
      ]
     },
     "metadata": {},
     "output_type": "display_data"
    },
    {
     "name": "stderr",
     "output_type": "stream",
     "text": [
      "2021-11-25 12:01:31,306:INFO:Accuracy: [0.7763157894736842],\tvtraining:2,\tvtesting:0.2, \tdt: 0.01, \tnumDT:20\n",
      "\u001b[32m[I 2021-11-25 12:01:31,402]\u001b[0m Trial 90 finished with value: 0.7763157894736842 and parameters: {'dt': 0, 'ampTraining': 2, 'ampTesting': 1}. Best is trial 58 with value: 1.0.\u001b[0m\n"
     ]
    },
    {
     "name": "stdout",
     "output_type": "stream",
     "text": [
      "0.7763157894736842\n"
     ]
    },
    {
     "data": {
      "application/vnd.jupyter.widget-view+json": {
       "model_id": "cdc0d8f6d7a74217b188a97cfc177d48",
       "version_major": 2,
       "version_minor": 0
      },
      "text/plain": [
       "  0%|          | 0/1 [00:00<?, ?it/s]"
      ]
     },
     "metadata": {},
     "output_type": "display_data"
    },
    {
     "data": {
      "application/vnd.jupyter.widget-view+json": {
       "model_id": "027c8e879ede438aa919cd4ff8f8ecfc",
       "version_major": 2,
       "version_minor": 0
      },
      "text/plain": [
       "Running Simulation :   0%|          | 0/1900 [00:00<?, ?it/s]"
      ]
     },
     "metadata": {},
     "output_type": "display_data"
    },
    {
     "name": "stderr",
     "output_type": "stream",
     "text": [
      "2021-11-25 12:01:37,832:INFO:Accuracy: [0.8421052631578947],\tvtraining:5,\tvtesting:0.2, \tdt: 0.01, \tnumDT:20\n",
      "\u001b[32m[I 2021-11-25 12:01:37,920]\u001b[0m Trial 91 finished with value: 0.8421052631578947 and parameters: {'dt': 0, 'ampTraining': 3, 'ampTesting': 1}. Best is trial 58 with value: 1.0.\u001b[0m\n"
     ]
    },
    {
     "name": "stdout",
     "output_type": "stream",
     "text": [
      "0.8421052631578947\n"
     ]
    },
    {
     "data": {
      "application/vnd.jupyter.widget-view+json": {
       "model_id": "80a7bc0eddb24cd68afd6fd836f831b1",
       "version_major": 2,
       "version_minor": 0
      },
      "text/plain": [
       "  0%|          | 0/1 [00:00<?, ?it/s]"
      ]
     },
     "metadata": {},
     "output_type": "display_data"
    },
    {
     "data": {
      "application/vnd.jupyter.widget-view+json": {
       "model_id": "01e19dff5b9b4bdaacba0f6077dd47de",
       "version_major": 2,
       "version_minor": 0
      },
      "text/plain": [
       "Running Simulation :   0%|          | 0/1900 [00:00<?, ?it/s]"
      ]
     },
     "metadata": {},
     "output_type": "display_data"
    },
    {
     "name": "stderr",
     "output_type": "stream",
     "text": [
      "2021-11-25 12:01:44,342:INFO:Accuracy: [0.6973684210526315],\tvtraining:2,\tvtesting:0.3, \tdt: 0.01, \tnumDT:20\n",
      "\u001b[32m[I 2021-11-25 12:01:44,434]\u001b[0m Trial 92 finished with value: 0.6973684210526315 and parameters: {'dt': 0, 'ampTraining': 2, 'ampTesting': 2}. Best is trial 58 with value: 1.0.\u001b[0m\n"
     ]
    },
    {
     "name": "stdout",
     "output_type": "stream",
     "text": [
      "0.6973684210526315\n"
     ]
    },
    {
     "data": {
      "application/vnd.jupyter.widget-view+json": {
       "model_id": "0ffc76fda95d4e8385bc2485059c4537",
       "version_major": 2,
       "version_minor": 0
      },
      "text/plain": [
       "  0%|          | 0/1 [00:00<?, ?it/s]"
      ]
     },
     "metadata": {},
     "output_type": "display_data"
    },
    {
     "data": {
      "application/vnd.jupyter.widget-view+json": {
       "model_id": "7df2663d089a43f7b9958eefc3654a4c",
       "version_major": 2,
       "version_minor": 0
      },
      "text/plain": [
       "Running Simulation :   0%|          | 0/190 [00:00<?, ?it/s]"
      ]
     },
     "metadata": {},
     "output_type": "display_data"
    },
    {
     "name": "stderr",
     "output_type": "stream",
     "text": [
      "2021-11-25 12:01:45,263:INFO:Accuracy: [0.6578947368421053],\tvtraining:2,\tvtesting:0.2, \tdt: 0.1, \tnumDT:2\n",
      "\u001b[32m[I 2021-11-25 12:01:45,352]\u001b[0m Trial 93 finished with value: 0.6578947368421053 and parameters: {'dt': 3, 'ampTraining': 2, 'ampTesting': 1}. Best is trial 58 with value: 1.0.\u001b[0m\n"
     ]
    },
    {
     "name": "stdout",
     "output_type": "stream",
     "text": [
      "0.6578947368421053\n"
     ]
    },
    {
     "data": {
      "application/vnd.jupyter.widget-view+json": {
       "model_id": "7f4a44857dfc4deab08188cdba0cc85d",
       "version_major": 2,
       "version_minor": 0
      },
      "text/plain": [
       "  0%|          | 0/1 [00:00<?, ?it/s]"
      ]
     },
     "metadata": {},
     "output_type": "display_data"
    },
    {
     "data": {
      "application/vnd.jupyter.widget-view+json": {
       "model_id": "4ccc1d073ae64549912ea3aaba72e21f",
       "version_major": 2,
       "version_minor": 0
      },
      "text/plain": [
       "Running Simulation :   0%|          | 0/1900 [00:00<?, ?it/s]"
      ]
     },
     "metadata": {},
     "output_type": "display_data"
    },
    {
     "name": "stderr",
     "output_type": "stream",
     "text": [
      "2021-11-25 12:01:51,773:INFO:Accuracy: [0.5789473684210527],\tvtraining:2,\tvtesting:0.1, \tdt: 0.01, \tnumDT:20\n",
      "\u001b[32m[I 2021-11-25 12:01:51,869]\u001b[0m Trial 94 finished with value: 0.5789473684210527 and parameters: {'dt': 0, 'ampTraining': 2, 'ampTesting': 0}. Best is trial 58 with value: 1.0.\u001b[0m\n"
     ]
    },
    {
     "name": "stdout",
     "output_type": "stream",
     "text": [
      "0.5789473684210527\n"
     ]
    },
    {
     "data": {
      "application/vnd.jupyter.widget-view+json": {
       "model_id": "218df1f2f0be40e89120db074c7dd0b8",
       "version_major": 2,
       "version_minor": 0
      },
      "text/plain": [
       "  0%|          | 0/1 [00:00<?, ?it/s]"
      ]
     },
     "metadata": {},
     "output_type": "display_data"
    },
    {
     "data": {
      "application/vnd.jupyter.widget-view+json": {
       "model_id": "4725487ee416401ca823e3a7df7cb46f",
       "version_major": 2,
       "version_minor": 0
      },
      "text/plain": [
       "Running Simulation :   0%|          | 0/1900 [00:00<?, ?it/s]"
      ]
     },
     "metadata": {},
     "output_type": "display_data"
    },
    {
     "name": "stderr",
     "output_type": "stream",
     "text": [
      "2021-11-25 12:01:58,295:INFO:Accuracy: [0.8947368421052632],\tvtraining:5,\tvtesting:0.2, \tdt: 0.01, \tnumDT:20\n",
      "\u001b[32m[I 2021-11-25 12:01:58,389]\u001b[0m Trial 95 finished with value: 0.8947368421052632 and parameters: {'dt': 0, 'ampTraining': 3, 'ampTesting': 1}. Best is trial 58 with value: 1.0.\u001b[0m\n"
     ]
    },
    {
     "name": "stdout",
     "output_type": "stream",
     "text": [
      "0.8947368421052632\n"
     ]
    },
    {
     "data": {
      "application/vnd.jupyter.widget-view+json": {
       "model_id": "7efd31e0f4324019ac1fbf5f348c33a2",
       "version_major": 2,
       "version_minor": 0
      },
      "text/plain": [
       "  0%|          | 0/1 [00:00<?, ?it/s]"
      ]
     },
     "metadata": {},
     "output_type": "display_data"
    },
    {
     "data": {
      "application/vnd.jupyter.widget-view+json": {
       "model_id": "a54a1708f03e487a9ecd1f09be55e2db",
       "version_major": 2,
       "version_minor": 0
      },
      "text/plain": [
       "Running Simulation :   0%|          | 0/950 [00:00<?, ?it/s]"
      ]
     },
     "metadata": {},
     "output_type": "display_data"
    },
    {
     "name": "stderr",
     "output_type": "stream",
     "text": [
      "2021-11-25 12:02:01,724:INFO:Accuracy: [0.5526315789473685],\tvtraining:2,\tvtesting:0.2, \tdt: 0.02, \tnumDT:10\n",
      "\u001b[32m[I 2021-11-25 12:02:01,825]\u001b[0m Trial 96 finished with value: 0.5526315789473685 and parameters: {'dt': 1, 'ampTraining': 2, 'ampTesting': 1}. Best is trial 58 with value: 1.0.\u001b[0m\n"
     ]
    },
    {
     "name": "stdout",
     "output_type": "stream",
     "text": [
      "0.5526315789473685\n"
     ]
    },
    {
     "data": {
      "application/vnd.jupyter.widget-view+json": {
       "model_id": "273658fdc2354003a27415a19bf72561",
       "version_major": 2,
       "version_minor": 0
      },
      "text/plain": [
       "  0%|          | 0/1 [00:00<?, ?it/s]"
      ]
     },
     "metadata": {},
     "output_type": "display_data"
    },
    {
     "data": {
      "application/vnd.jupyter.widget-view+json": {
       "model_id": "3c9e9697ac2c42e4862482d75714be68",
       "version_major": 2,
       "version_minor": 0
      },
      "text/plain": [
       "Running Simulation :   0%|          | 0/1900 [00:00<?, ?it/s]"
      ]
     },
     "metadata": {},
     "output_type": "display_data"
    },
    {
     "name": "stderr",
     "output_type": "stream",
     "text": [
      "2021-11-25 12:02:08,243:INFO:Accuracy: [0.65],\tvtraining:5,\tvtesting:0.2, \tdt: 0.01, \tnumDT:20\n",
      "\u001b[32m[I 2021-11-25 12:02:08,338]\u001b[0m Trial 97 finished with value: 0.65 and parameters: {'dt': 0, 'ampTraining': 3, 'ampTesting': 1}. Best is trial 58 with value: 1.0.\u001b[0m\n"
     ]
    },
    {
     "name": "stdout",
     "output_type": "stream",
     "text": [
      "0.65\n"
     ]
    },
    {
     "data": {
      "application/vnd.jupyter.widget-view+json": {
       "model_id": "f1bd473a05d6407c9ae0e02c52f2ae8a",
       "version_major": 2,
       "version_minor": 0
      },
      "text/plain": [
       "  0%|          | 0/1 [00:00<?, ?it/s]"
      ]
     },
     "metadata": {},
     "output_type": "display_data"
    },
    {
     "data": {
      "application/vnd.jupyter.widget-view+json": {
       "model_id": "d063ae6dc1a6499c9ca71eee8e679d67",
       "version_major": 2,
       "version_minor": 0
      },
      "text/plain": [
       "Running Simulation :   0%|          | 0/380 [00:00<?, ?it/s]"
      ]
     },
     "metadata": {},
     "output_type": "display_data"
    },
    {
     "name": "stderr",
     "output_type": "stream",
     "text": [
      "2021-11-25 12:02:09,786:INFO:Accuracy: [0.8289473684210527],\tvtraining:5,\tvtesting:0.2, \tdt: 0.05, \tnumDT:4\n",
      "\u001b[32m[I 2021-11-25 12:02:09,881]\u001b[0m Trial 98 finished with value: 0.8289473684210527 and parameters: {'dt': 2, 'ampTraining': 3, 'ampTesting': 1}. Best is trial 58 with value: 1.0.\u001b[0m\n"
     ]
    },
    {
     "name": "stdout",
     "output_type": "stream",
     "text": [
      "0.8289473684210527\n"
     ]
    },
    {
     "data": {
      "application/vnd.jupyter.widget-view+json": {
       "model_id": "bb1f33d82a194706be629ced59b1beb9",
       "version_major": 2,
       "version_minor": 0
      },
      "text/plain": [
       "  0%|          | 0/1 [00:00<?, ?it/s]"
      ]
     },
     "metadata": {},
     "output_type": "display_data"
    },
    {
     "data": {
      "application/vnd.jupyter.widget-view+json": {
       "model_id": "66afbdfee5944ce399c1396f979d6a73",
       "version_major": 2,
       "version_minor": 0
      },
      "text/plain": [
       "Running Simulation :   0%|          | 0/380 [00:00<?, ?it/s]"
      ]
     },
     "metadata": {},
     "output_type": "display_data"
    },
    {
     "name": "stderr",
     "output_type": "stream",
     "text": [
      "2021-11-25 12:02:11,326:INFO:Accuracy: [0.631578947368421],\tvtraining:0.5,\tvtesting:0.2, \tdt: 0.05, \tnumDT:4\n",
      "\u001b[32m[I 2021-11-25 12:02:11,414]\u001b[0m Trial 99 finished with value: 0.631578947368421 and parameters: {'dt': 2, 'ampTraining': 0, 'ampTesting': 1}. Best is trial 58 with value: 1.0.\u001b[0m\n"
     ]
    },
    {
     "name": "stdout",
     "output_type": "stream",
     "text": [
      "0.631578947368421\n"
     ]
    },
    {
     "data": {
      "application/vnd.jupyter.widget-view+json": {
       "model_id": "c4ece71bb19947618ed8e22f52506213",
       "version_major": 2,
       "version_minor": 0
      },
      "text/plain": [
       "  0%|          | 0/1 [00:00<?, ?it/s]"
      ]
     },
     "metadata": {},
     "output_type": "display_data"
    },
    {
     "data": {
      "application/vnd.jupyter.widget-view+json": {
       "model_id": "14e2b0d3d92348d599b7d798137858a6",
       "version_major": 2,
       "version_minor": 0
      },
      "text/plain": [
       "Running Simulation :   0%|          | 0/1900 [00:00<?, ?it/s]"
      ]
     },
     "metadata": {},
     "output_type": "display_data"
    },
    {
     "name": "stderr",
     "output_type": "stream",
     "text": [
      "2021-11-25 12:02:17,844:INFO:Accuracy: [0.8552631578947368],\tvtraining:5,\tvtesting:0.2, \tdt: 0.01, \tnumDT:20\n",
      "\u001b[32m[I 2021-11-25 12:02:17,937]\u001b[0m Trial 100 finished with value: 0.8552631578947368 and parameters: {'dt': 0, 'ampTraining': 3, 'ampTesting': 1}. Best is trial 58 with value: 1.0.\u001b[0m\n"
     ]
    },
    {
     "name": "stdout",
     "output_type": "stream",
     "text": [
      "0.8552631578947368\n"
     ]
    },
    {
     "data": {
      "application/vnd.jupyter.widget-view+json": {
       "model_id": "be249e1a1c104e6fbd46fdd7f17195e2",
       "version_major": 2,
       "version_minor": 0
      },
      "text/plain": [
       "  0%|          | 0/1 [00:00<?, ?it/s]"
      ]
     },
     "metadata": {},
     "output_type": "display_data"
    },
    {
     "data": {
      "application/vnd.jupyter.widget-view+json": {
       "model_id": "656606367a4b4c5791447e97c6ffaae5",
       "version_major": 2,
       "version_minor": 0
      },
      "text/plain": [
       "Running Simulation :   0%|          | 0/1900 [00:00<?, ?it/s]"
      ]
     },
     "metadata": {},
     "output_type": "display_data"
    },
    {
     "name": "stderr",
     "output_type": "stream",
     "text": [
      "2021-11-25 12:02:24,364:INFO:Accuracy: [0.7578947368421053],\tvtraining:1,\tvtesting:0.3, \tdt: 0.01, \tnumDT:20\n",
      "\u001b[32m[I 2021-11-25 12:02:24,456]\u001b[0m Trial 101 finished with value: 0.7578947368421053 and parameters: {'dt': 0, 'ampTraining': 1, 'ampTesting': 2}. Best is trial 58 with value: 1.0.\u001b[0m\n"
     ]
    },
    {
     "name": "stdout",
     "output_type": "stream",
     "text": [
      "0.7578947368421053\n"
     ]
    },
    {
     "data": {
      "application/vnd.jupyter.widget-view+json": {
       "model_id": "b4c0e9ec62bc4516b410b4a535258184",
       "version_major": 2,
       "version_minor": 0
      },
      "text/plain": [
       "  0%|          | 0/1 [00:00<?, ?it/s]"
      ]
     },
     "metadata": {},
     "output_type": "display_data"
    },
    {
     "data": {
      "application/vnd.jupyter.widget-view+json": {
       "model_id": "93fb3907032a4ddf94a295a4cecf3146",
       "version_major": 2,
       "version_minor": 0
      },
      "text/plain": [
       "Running Simulation :   0%|          | 0/190 [00:00<?, ?it/s]"
      ]
     },
     "metadata": {},
     "output_type": "display_data"
    },
    {
     "name": "stderr",
     "output_type": "stream",
     "text": [
      "2021-11-25 12:02:25,287:INFO:Accuracy: [0.868421052631579],\tvtraining:2,\tvtesting:0.2, \tdt: 0.1, \tnumDT:2\n",
      "\u001b[32m[I 2021-11-25 12:02:25,379]\u001b[0m Trial 102 finished with value: 0.868421052631579 and parameters: {'dt': 3, 'ampTraining': 2, 'ampTesting': 1}. Best is trial 58 with value: 1.0.\u001b[0m\n"
     ]
    },
    {
     "name": "stdout",
     "output_type": "stream",
     "text": [
      "0.868421052631579\n"
     ]
    },
    {
     "data": {
      "application/vnd.jupyter.widget-view+json": {
       "model_id": "c40988cc859341ae92d86adc5403bfa5",
       "version_major": 2,
       "version_minor": 0
      },
      "text/plain": [
       "  0%|          | 0/1 [00:00<?, ?it/s]"
      ]
     },
     "metadata": {},
     "output_type": "display_data"
    },
    {
     "data": {
      "application/vnd.jupyter.widget-view+json": {
       "model_id": "2fbfa249e87f40ad8a3ebd1f3ba6ec04",
       "version_major": 2,
       "version_minor": 0
      },
      "text/plain": [
       "Running Simulation :   0%|          | 0/1900 [00:00<?, ?it/s]"
      ]
     },
     "metadata": {},
     "output_type": "display_data"
    },
    {
     "name": "stderr",
     "output_type": "stream",
     "text": [
      "2021-11-25 12:02:31,793:INFO:Accuracy: [0.631578947368421],\tvtraining:5,\tvtesting:0.2, \tdt: 0.01, \tnumDT:20\n",
      "\u001b[32m[I 2021-11-25 12:02:31,887]\u001b[0m Trial 103 finished with value: 0.631578947368421 and parameters: {'dt': 0, 'ampTraining': 3, 'ampTesting': 1}. Best is trial 58 with value: 1.0.\u001b[0m\n"
     ]
    },
    {
     "name": "stdout",
     "output_type": "stream",
     "text": [
      "0.631578947368421\n"
     ]
    },
    {
     "data": {
      "application/vnd.jupyter.widget-view+json": {
       "model_id": "05c7c563d7b84d0cbec62744a1cf9146",
       "version_major": 2,
       "version_minor": 0
      },
      "text/plain": [
       "  0%|          | 0/1 [00:00<?, ?it/s]"
      ]
     },
     "metadata": {},
     "output_type": "display_data"
    },
    {
     "data": {
      "application/vnd.jupyter.widget-view+json": {
       "model_id": "1cb21aa2dc32416a8e060ac08b250615",
       "version_major": 2,
       "version_minor": 0
      },
      "text/plain": [
       "Running Simulation :   0%|          | 0/1900 [00:00<?, ?it/s]"
      ]
     },
     "metadata": {},
     "output_type": "display_data"
    },
    {
     "name": "stderr",
     "output_type": "stream",
     "text": [
      "2021-11-25 12:02:38,308:INFO:Accuracy: [0.7368421052631579],\tvtraining:5,\tvtesting:0.1, \tdt: 0.01, \tnumDT:20\n",
      "\u001b[32m[I 2021-11-25 12:02:38,391]\u001b[0m Trial 104 finished with value: 0.7368421052631579 and parameters: {'dt': 0, 'ampTraining': 3, 'ampTesting': 0}. Best is trial 58 with value: 1.0.\u001b[0m\n"
     ]
    },
    {
     "name": "stdout",
     "output_type": "stream",
     "text": [
      "0.7368421052631579\n"
     ]
    },
    {
     "data": {
      "application/vnd.jupyter.widget-view+json": {
       "model_id": "710a13c001c444808c92638bf49a8f65",
       "version_major": 2,
       "version_minor": 0
      },
      "text/plain": [
       "  0%|          | 0/1 [00:00<?, ?it/s]"
      ]
     },
     "metadata": {},
     "output_type": "display_data"
    },
    {
     "data": {
      "application/vnd.jupyter.widget-view+json": {
       "model_id": "df763cdd07404358a21f51e5348c6be8",
       "version_major": 2,
       "version_minor": 0
      },
      "text/plain": [
       "Running Simulation :   0%|          | 0/1900 [00:00<?, ?it/s]"
      ]
     },
     "metadata": {},
     "output_type": "display_data"
    },
    {
     "name": "stderr",
     "output_type": "stream",
     "text": [
      "2021-11-25 12:02:44,806:INFO:Accuracy: [0.8947368421052632],\tvtraining:5,\tvtesting:0.1, \tdt: 0.01, \tnumDT:20\n",
      "\u001b[32m[I 2021-11-25 12:02:44,898]\u001b[0m Trial 105 finished with value: 0.8947368421052632 and parameters: {'dt': 0, 'ampTraining': 3, 'ampTesting': 0}. Best is trial 58 with value: 1.0.\u001b[0m\n"
     ]
    },
    {
     "name": "stdout",
     "output_type": "stream",
     "text": [
      "0.8947368421052632\n"
     ]
    },
    {
     "data": {
      "application/vnd.jupyter.widget-view+json": {
       "model_id": "a961bb44e6ff482d8a311068834efcbe",
       "version_major": 2,
       "version_minor": 0
      },
      "text/plain": [
       "  0%|          | 0/1 [00:00<?, ?it/s]"
      ]
     },
     "metadata": {},
     "output_type": "display_data"
    },
    {
     "data": {
      "application/vnd.jupyter.widget-view+json": {
       "model_id": "6059c01e39dc4185afda2fe8f8762c33",
       "version_major": 2,
       "version_minor": 0
      },
      "text/plain": [
       "Running Simulation :   0%|          | 0/380 [00:00<?, ?it/s]"
      ]
     },
     "metadata": {},
     "output_type": "display_data"
    },
    {
     "name": "stderr",
     "output_type": "stream",
     "text": [
      "2021-11-25 12:02:46,344:INFO:Accuracy: [0.7894736842105263],\tvtraining:5,\tvtesting:0.1, \tdt: 0.05, \tnumDT:4\n",
      "\u001b[32m[I 2021-11-25 12:02:46,432]\u001b[0m Trial 106 finished with value: 0.7894736842105263 and parameters: {'dt': 2, 'ampTraining': 3, 'ampTesting': 0}. Best is trial 58 with value: 1.0.\u001b[0m\n"
     ]
    },
    {
     "name": "stdout",
     "output_type": "stream",
     "text": [
      "0.7894736842105263\n"
     ]
    },
    {
     "data": {
      "application/vnd.jupyter.widget-view+json": {
       "model_id": "8ca4b4d003764d60b7fd759b84f8d08c",
       "version_major": 2,
       "version_minor": 0
      },
      "text/plain": [
       "  0%|          | 0/1 [00:00<?, ?it/s]"
      ]
     },
     "metadata": {},
     "output_type": "display_data"
    },
    {
     "data": {
      "application/vnd.jupyter.widget-view+json": {
       "model_id": "c73ac63e69b34a438d45a494e375a673",
       "version_major": 2,
       "version_minor": 0
      },
      "text/plain": [
       "Running Simulation :   0%|          | 0/950 [00:00<?, ?it/s]"
      ]
     },
     "metadata": {},
     "output_type": "display_data"
    },
    {
     "name": "stderr",
     "output_type": "stream",
     "text": [
      "2021-11-25 12:02:49,753:INFO:Accuracy: [0.7368421052631579],\tvtraining:5,\tvtesting:0.1, \tdt: 0.02, \tnumDT:10\n",
      "\u001b[32m[I 2021-11-25 12:02:49,847]\u001b[0m Trial 107 finished with value: 0.7368421052631579 and parameters: {'dt': 1, 'ampTraining': 3, 'ampTesting': 0}. Best is trial 58 with value: 1.0.\u001b[0m\n"
     ]
    },
    {
     "name": "stdout",
     "output_type": "stream",
     "text": [
      "0.7368421052631579\n"
     ]
    },
    {
     "data": {
      "application/vnd.jupyter.widget-view+json": {
       "model_id": "4ac8d1b3364249c3959b4e4370cb5805",
       "version_major": 2,
       "version_minor": 0
      },
      "text/plain": [
       "  0%|          | 0/1 [00:00<?, ?it/s]"
      ]
     },
     "metadata": {},
     "output_type": "display_data"
    },
    {
     "data": {
      "application/vnd.jupyter.widget-view+json": {
       "model_id": "34aa0282b54d467a98614c87e24eaba9",
       "version_major": 2,
       "version_minor": 0
      },
      "text/plain": [
       "Running Simulation :   0%|          | 0/1900 [00:00<?, ?it/s]"
      ]
     },
     "metadata": {},
     "output_type": "display_data"
    },
    {
     "name": "stderr",
     "output_type": "stream",
     "text": [
      "2021-11-25 12:02:56,255:INFO:Accuracy: [0.631578947368421],\tvtraining:5,\tvtesting:0.2, \tdt: 0.01, \tnumDT:20\n",
      "\u001b[32m[I 2021-11-25 12:02:56,352]\u001b[0m Trial 108 finished with value: 0.631578947368421 and parameters: {'dt': 0, 'ampTraining': 3, 'ampTesting': 1}. Best is trial 58 with value: 1.0.\u001b[0m\n"
     ]
    },
    {
     "name": "stdout",
     "output_type": "stream",
     "text": [
      "0.631578947368421\n"
     ]
    },
    {
     "data": {
      "application/vnd.jupyter.widget-view+json": {
       "model_id": "f148e5aa36684b15b927c9370040c54c",
       "version_major": 2,
       "version_minor": 0
      },
      "text/plain": [
       "  0%|          | 0/1 [00:00<?, ?it/s]"
      ]
     },
     "metadata": {},
     "output_type": "display_data"
    },
    {
     "data": {
      "application/vnd.jupyter.widget-view+json": {
       "model_id": "9230151afd8146a6be1b0c9648c9db2a",
       "version_major": 2,
       "version_minor": 0
      },
      "text/plain": [
       "Running Simulation :   0%|          | 0/1900 [00:00<?, ?it/s]"
      ]
     },
     "metadata": {},
     "output_type": "display_data"
    },
    {
     "name": "stderr",
     "output_type": "stream",
     "text": [
      "2021-11-25 12:03:02,773:INFO:Accuracy: [0.881578947368421],\tvtraining:5,\tvtesting:0.1, \tdt: 0.01, \tnumDT:20\n",
      "\u001b[32m[I 2021-11-25 12:03:02,864]\u001b[0m Trial 109 finished with value: 0.881578947368421 and parameters: {'dt': 0, 'ampTraining': 3, 'ampTesting': 0}. Best is trial 58 with value: 1.0.\u001b[0m\n"
     ]
    },
    {
     "name": "stdout",
     "output_type": "stream",
     "text": [
      "0.881578947368421\n"
     ]
    },
    {
     "data": {
      "application/vnd.jupyter.widget-view+json": {
       "model_id": "4e52c15f29f144d0a41adabebcdf2f32",
       "version_major": 2,
       "version_minor": 0
      },
      "text/plain": [
       "  0%|          | 0/1 [00:00<?, ?it/s]"
      ]
     },
     "metadata": {},
     "output_type": "display_data"
    },
    {
     "data": {
      "application/vnd.jupyter.widget-view+json": {
       "model_id": "0d4e8455e43f442589fe83c2fca4c7a1",
       "version_major": 2,
       "version_minor": 0
      },
      "text/plain": [
       "Running Simulation :   0%|          | 0/1900 [00:00<?, ?it/s]"
      ]
     },
     "metadata": {},
     "output_type": "display_data"
    },
    {
     "name": "stderr",
     "output_type": "stream",
     "text": [
      "2021-11-25 12:03:09,304:INFO:Accuracy: [0.7894736842105263],\tvtraining:5,\tvtesting:0.2, \tdt: 0.01, \tnumDT:20\n",
      "\u001b[32m[I 2021-11-25 12:03:09,403]\u001b[0m Trial 110 finished with value: 0.7894736842105263 and parameters: {'dt': 0, 'ampTraining': 3, 'ampTesting': 1}. Best is trial 58 with value: 1.0.\u001b[0m\n"
     ]
    },
    {
     "name": "stdout",
     "output_type": "stream",
     "text": [
      "0.7894736842105263\n"
     ]
    },
    {
     "data": {
      "application/vnd.jupyter.widget-view+json": {
       "model_id": "425dc62c8f0c4ec4a6ef32b7a586a1f4",
       "version_major": 2,
       "version_minor": 0
      },
      "text/plain": [
       "  0%|          | 0/1 [00:00<?, ?it/s]"
      ]
     },
     "metadata": {},
     "output_type": "display_data"
    },
    {
     "data": {
      "application/vnd.jupyter.widget-view+json": {
       "model_id": "428eb0b195f84f59aaf0890a7d8a73fc",
       "version_major": 2,
       "version_minor": 0
      },
      "text/plain": [
       "Running Simulation :   0%|          | 0/380 [00:00<?, ?it/s]"
      ]
     },
     "metadata": {},
     "output_type": "display_data"
    },
    {
     "name": "stderr",
     "output_type": "stream",
     "text": [
      "2021-11-25 12:03:10,854:INFO:Accuracy: [0.8552631578947368],\tvtraining:5,\tvtesting:0.2, \tdt: 0.05, \tnumDT:4\n",
      "\u001b[32m[I 2021-11-25 12:03:10,950]\u001b[0m Trial 111 finished with value: 0.8552631578947368 and parameters: {'dt': 2, 'ampTraining': 3, 'ampTesting': 1}. Best is trial 58 with value: 1.0.\u001b[0m\n"
     ]
    },
    {
     "name": "stdout",
     "output_type": "stream",
     "text": [
      "0.8552631578947368\n"
     ]
    },
    {
     "data": {
      "application/vnd.jupyter.widget-view+json": {
       "model_id": "b2cd2d47b88046adb26dee0b52bf52ee",
       "version_major": 2,
       "version_minor": 0
      },
      "text/plain": [
       "  0%|          | 0/1 [00:00<?, ?it/s]"
      ]
     },
     "metadata": {},
     "output_type": "display_data"
    },
    {
     "data": {
      "application/vnd.jupyter.widget-view+json": {
       "model_id": "4795dd48b42d4eb590a133c0fd56df96",
       "version_major": 2,
       "version_minor": 0
      },
      "text/plain": [
       "Running Simulation :   0%|          | 0/1900 [00:00<?, ?it/s]"
      ]
     },
     "metadata": {},
     "output_type": "display_data"
    },
    {
     "name": "stderr",
     "output_type": "stream",
     "text": [
      "2021-11-25 12:03:17,385:INFO:Accuracy: [0.75],\tvtraining:2,\tvtesting:0.5, \tdt: 0.01, \tnumDT:20\n",
      "\u001b[32m[I 2021-11-25 12:03:17,481]\u001b[0m Trial 112 finished with value: 0.75 and parameters: {'dt': 0, 'ampTraining': 2, 'ampTesting': 3}. Best is trial 58 with value: 1.0.\u001b[0m\n"
     ]
    },
    {
     "name": "stdout",
     "output_type": "stream",
     "text": [
      "0.75\n"
     ]
    },
    {
     "data": {
      "application/vnd.jupyter.widget-view+json": {
       "model_id": "ea8c7a77217e44dca6e055e1b8f497c0",
       "version_major": 2,
       "version_minor": 0
      },
      "text/plain": [
       "  0%|          | 0/1 [00:00<?, ?it/s]"
      ]
     },
     "metadata": {},
     "output_type": "display_data"
    },
    {
     "data": {
      "application/vnd.jupyter.widget-view+json": {
       "model_id": "9465cd029e3b4a81a7f71d4464d2f0c7",
       "version_major": 2,
       "version_minor": 0
      },
      "text/plain": [
       "Running Simulation :   0%|          | 0/1900 [00:00<?, ?it/s]"
      ]
     },
     "metadata": {},
     "output_type": "display_data"
    },
    {
     "name": "stderr",
     "output_type": "stream",
     "text": [
      "2021-11-25 12:03:23,908:INFO:Accuracy: [0.5789473684210527],\tvtraining:5,\tvtesting:0.1, \tdt: 0.01, \tnumDT:20\n",
      "\u001b[32m[I 2021-11-25 12:03:24,001]\u001b[0m Trial 113 finished with value: 0.5789473684210527 and parameters: {'dt': 0, 'ampTraining': 3, 'ampTesting': 0}. Best is trial 58 with value: 1.0.\u001b[0m\n"
     ]
    },
    {
     "name": "stdout",
     "output_type": "stream",
     "text": [
      "0.5789473684210527\n"
     ]
    },
    {
     "data": {
      "application/vnd.jupyter.widget-view+json": {
       "model_id": "6ee923c0b65c4c268fa74eb50a703bca",
       "version_major": 2,
       "version_minor": 0
      },
      "text/plain": [
       "  0%|          | 0/1 [00:00<?, ?it/s]"
      ]
     },
     "metadata": {},
     "output_type": "display_data"
    },
    {
     "data": {
      "application/vnd.jupyter.widget-view+json": {
       "model_id": "03130d6a58cd4fa78157b03baee45ba1",
       "version_major": 2,
       "version_minor": 0
      },
      "text/plain": [
       "Running Simulation :   0%|          | 0/1900 [00:00<?, ?it/s]"
      ]
     },
     "metadata": {},
     "output_type": "display_data"
    },
    {
     "name": "stderr",
     "output_type": "stream",
     "text": [
      "2021-11-25 12:03:30,389:INFO:Accuracy: [0.7368421052631579],\tvtraining:5,\tvtesting:0.2, \tdt: 0.01, \tnumDT:20\n",
      "\u001b[32m[I 2021-11-25 12:03:30,480]\u001b[0m Trial 114 finished with value: 0.7368421052631579 and parameters: {'dt': 0, 'ampTraining': 3, 'ampTesting': 1}. Best is trial 58 with value: 1.0.\u001b[0m\n"
     ]
    },
    {
     "name": "stdout",
     "output_type": "stream",
     "text": [
      "0.7368421052631579\n"
     ]
    },
    {
     "data": {
      "application/vnd.jupyter.widget-view+json": {
       "model_id": "1db93dab968b40c19fe4867c98eda65b",
       "version_major": 2,
       "version_minor": 0
      },
      "text/plain": [
       "  0%|          | 0/1 [00:00<?, ?it/s]"
      ]
     },
     "metadata": {},
     "output_type": "display_data"
    },
    {
     "data": {
      "application/vnd.jupyter.widget-view+json": {
       "model_id": "baf11dedea5d400984933e858e8dc2db",
       "version_major": 2,
       "version_minor": 0
      },
      "text/plain": [
       "Running Simulation :   0%|          | 0/1900 [00:00<?, ?it/s]"
      ]
     },
     "metadata": {},
     "output_type": "display_data"
    },
    {
     "name": "stderr",
     "output_type": "stream",
     "text": [
      "2021-11-25 12:03:36,949:INFO:Accuracy: [0.6973684210526315],\tvtraining:5,\tvtesting:0.2, \tdt: 0.01, \tnumDT:20\n",
      "\u001b[32m[I 2021-11-25 12:03:37,040]\u001b[0m Trial 115 finished with value: 0.6973684210526315 and parameters: {'dt': 0, 'ampTraining': 3, 'ampTesting': 1}. Best is trial 58 with value: 1.0.\u001b[0m\n"
     ]
    },
    {
     "name": "stdout",
     "output_type": "stream",
     "text": [
      "0.6973684210526315\n"
     ]
    },
    {
     "data": {
      "application/vnd.jupyter.widget-view+json": {
       "model_id": "af0515e41fe0465b8e244dc258c4b7ae",
       "version_major": 2,
       "version_minor": 0
      },
      "text/plain": [
       "  0%|          | 0/1 [00:00<?, ?it/s]"
      ]
     },
     "metadata": {},
     "output_type": "display_data"
    },
    {
     "data": {
      "application/vnd.jupyter.widget-view+json": {
       "model_id": "3cc9ad638afc4c3db482bf3c484aacde",
       "version_major": 2,
       "version_minor": 0
      },
      "text/plain": [
       "Running Simulation :   0%|          | 0/190 [00:00<?, ?it/s]"
      ]
     },
     "metadata": {},
     "output_type": "display_data"
    },
    {
     "name": "stderr",
     "output_type": "stream",
     "text": [
      "2021-11-25 12:03:37,895:INFO:Accuracy: [0.7894736842105263],\tvtraining:5,\tvtesting:0.1, \tdt: 0.1, \tnumDT:2\n",
      "\u001b[32m[I 2021-11-25 12:03:37,986]\u001b[0m Trial 116 finished with value: 0.7894736842105263 and parameters: {'dt': 3, 'ampTraining': 3, 'ampTesting': 0}. Best is trial 58 with value: 1.0.\u001b[0m\n"
     ]
    },
    {
     "name": "stdout",
     "output_type": "stream",
     "text": [
      "0.7894736842105263\n"
     ]
    },
    {
     "data": {
      "application/vnd.jupyter.widget-view+json": {
       "model_id": "707fc8e75e1546fab5239faa25a6581d",
       "version_major": 2,
       "version_minor": 0
      },
      "text/plain": [
       "  0%|          | 0/1 [00:00<?, ?it/s]"
      ]
     },
     "metadata": {},
     "output_type": "display_data"
    },
    {
     "data": {
      "application/vnd.jupyter.widget-view+json": {
       "model_id": "43e3e2664db440c180e266428125d19c",
       "version_major": 2,
       "version_minor": 0
      },
      "text/plain": [
       "Running Simulation :   0%|          | 0/1900 [00:00<?, ?it/s]"
      ]
     },
     "metadata": {},
     "output_type": "display_data"
    },
    {
     "name": "stderr",
     "output_type": "stream",
     "text": [
      "2021-11-25 12:03:44,398:INFO:Accuracy: [0.9473684210526315],\tvtraining:5,\tvtesting:0.2, \tdt: 0.01, \tnumDT:20\n",
      "\u001b[32m[I 2021-11-25 12:03:44,493]\u001b[0m Trial 117 finished with value: 0.9473684210526315 and parameters: {'dt': 0, 'ampTraining': 3, 'ampTesting': 1}. Best is trial 58 with value: 1.0.\u001b[0m\n"
     ]
    },
    {
     "name": "stdout",
     "output_type": "stream",
     "text": [
      "0.9473684210526315\n"
     ]
    },
    {
     "data": {
      "application/vnd.jupyter.widget-view+json": {
       "model_id": "7af96deb27454f899da40dcb7278d310",
       "version_major": 2,
       "version_minor": 0
      },
      "text/plain": [
       "  0%|          | 0/1 [00:00<?, ?it/s]"
      ]
     },
     "metadata": {},
     "output_type": "display_data"
    },
    {
     "data": {
      "application/vnd.jupyter.widget-view+json": {
       "model_id": "3190b7f95d9444508831433bf83c867f",
       "version_major": 2,
       "version_minor": 0
      },
      "text/plain": [
       "Running Simulation :   0%|          | 0/1900 [00:00<?, ?it/s]"
      ]
     },
     "metadata": {},
     "output_type": "display_data"
    },
    {
     "name": "stderr",
     "output_type": "stream",
     "text": [
      "2021-11-25 12:03:50,900:INFO:Accuracy: [0.6763157894736842],\tvtraining:1,\tvtesting:0.2, \tdt: 0.01, \tnumDT:20\n",
      "\u001b[32m[I 2021-11-25 12:03:50,995]\u001b[0m Trial 118 finished with value: 0.6763157894736842 and parameters: {'dt': 0, 'ampTraining': 1, 'ampTesting': 1}. Best is trial 58 with value: 1.0.\u001b[0m\n"
     ]
    },
    {
     "name": "stdout",
     "output_type": "stream",
     "text": [
      "0.6763157894736842\n"
     ]
    },
    {
     "data": {
      "application/vnd.jupyter.widget-view+json": {
       "model_id": "59c158b7c5be47bfacf4968e65bb09d5",
       "version_major": 2,
       "version_minor": 0
      },
      "text/plain": [
       "  0%|          | 0/1 [00:00<?, ?it/s]"
      ]
     },
     "metadata": {},
     "output_type": "display_data"
    },
    {
     "data": {
      "application/vnd.jupyter.widget-view+json": {
       "model_id": "197e6c3f51ed4d7aa4a2e49b05bde0b9",
       "version_major": 2,
       "version_minor": 0
      },
      "text/plain": [
       "Running Simulation :   0%|          | 0/1900 [00:00<?, ?it/s]"
      ]
     },
     "metadata": {},
     "output_type": "display_data"
    },
    {
     "name": "stderr",
     "output_type": "stream",
     "text": [
      "2021-11-25 12:03:57,413:INFO:Accuracy: [0.7868421052631579],\tvtraining:5,\tvtesting:0.2, \tdt: 0.01, \tnumDT:20\n",
      "\u001b[32m[I 2021-11-25 12:03:57,510]\u001b[0m Trial 119 finished with value: 0.7868421052631579 and parameters: {'dt': 0, 'ampTraining': 3, 'ampTesting': 1}. Best is trial 58 with value: 1.0.\u001b[0m\n"
     ]
    },
    {
     "name": "stdout",
     "output_type": "stream",
     "text": [
      "0.7868421052631579\n"
     ]
    },
    {
     "data": {
      "application/vnd.jupyter.widget-view+json": {
       "model_id": "c4339ba740b744a58a344c3f9cc21461",
       "version_major": 2,
       "version_minor": 0
      },
      "text/plain": [
       "  0%|          | 0/1 [00:00<?, ?it/s]"
      ]
     },
     "metadata": {},
     "output_type": "display_data"
    },
    {
     "data": {
      "application/vnd.jupyter.widget-view+json": {
       "model_id": "f49a7bad37944f50b4617fd0e256c479",
       "version_major": 2,
       "version_minor": 0
      },
      "text/plain": [
       "Running Simulation :   0%|          | 0/1900 [00:00<?, ?it/s]"
      ]
     },
     "metadata": {},
     "output_type": "display_data"
    },
    {
     "name": "stderr",
     "output_type": "stream",
     "text": [
      "2021-11-25 12:04:03,930:INFO:Accuracy: [0.9473684210526315],\tvtraining:5,\tvtesting:0.2, \tdt: 0.01, \tnumDT:20\n",
      "\u001b[32m[I 2021-11-25 12:04:04,017]\u001b[0m Trial 120 finished with value: 0.9473684210526315 and parameters: {'dt': 0, 'ampTraining': 3, 'ampTesting': 1}. Best is trial 58 with value: 1.0.\u001b[0m\n"
     ]
    },
    {
     "name": "stdout",
     "output_type": "stream",
     "text": [
      "0.9473684210526315\n"
     ]
    },
    {
     "data": {
      "application/vnd.jupyter.widget-view+json": {
       "model_id": "4a00e715f77146c88b5bfde79ba439f3",
       "version_major": 2,
       "version_minor": 0
      },
      "text/plain": [
       "  0%|          | 0/1 [00:00<?, ?it/s]"
      ]
     },
     "metadata": {},
     "output_type": "display_data"
    },
    {
     "data": {
      "application/vnd.jupyter.widget-view+json": {
       "model_id": "1018e897a83e4583957e6905a21a85ae",
       "version_major": 2,
       "version_minor": 0
      },
      "text/plain": [
       "Running Simulation :   0%|          | 0/1900 [00:00<?, ?it/s]"
      ]
     },
     "metadata": {},
     "output_type": "display_data"
    },
    {
     "name": "stderr",
     "output_type": "stream",
     "text": [
      "2021-11-25 12:04:10,444:INFO:Accuracy: [0.7368421052631579],\tvtraining:5,\tvtesting:0.2, \tdt: 0.01, \tnumDT:20\n",
      "\u001b[32m[I 2021-11-25 12:04:10,537]\u001b[0m Trial 121 finished with value: 0.7368421052631579 and parameters: {'dt': 0, 'ampTraining': 3, 'ampTesting': 1}. Best is trial 58 with value: 1.0.\u001b[0m\n"
     ]
    },
    {
     "name": "stdout",
     "output_type": "stream",
     "text": [
      "0.7368421052631579\n"
     ]
    },
    {
     "data": {
      "application/vnd.jupyter.widget-view+json": {
       "model_id": "279c162b3a5a4181a277ccc4c71360c8",
       "version_major": 2,
       "version_minor": 0
      },
      "text/plain": [
       "  0%|          | 0/1 [00:00<?, ?it/s]"
      ]
     },
     "metadata": {},
     "output_type": "display_data"
    },
    {
     "data": {
      "application/vnd.jupyter.widget-view+json": {
       "model_id": "69e1012166ab424fba4c2656bdacfb48",
       "version_major": 2,
       "version_minor": 0
      },
      "text/plain": [
       "Running Simulation :   0%|          | 0/1900 [00:00<?, ?it/s]"
      ]
     },
     "metadata": {},
     "output_type": "display_data"
    },
    {
     "name": "stderr",
     "output_type": "stream",
     "text": [
      "2021-11-25 12:04:16,951:INFO:Accuracy: [0.7368421052631579],\tvtraining:5,\tvtesting:0.2, \tdt: 0.01, \tnumDT:20\n",
      "\u001b[32m[I 2021-11-25 12:04:17,048]\u001b[0m Trial 122 finished with value: 0.7368421052631579 and parameters: {'dt': 0, 'ampTraining': 3, 'ampTesting': 1}. Best is trial 58 with value: 1.0.\u001b[0m\n"
     ]
    },
    {
     "name": "stdout",
     "output_type": "stream",
     "text": [
      "0.7368421052631579\n"
     ]
    },
    {
     "data": {
      "application/vnd.jupyter.widget-view+json": {
       "model_id": "b19ac95523aa4bdd9748fdaf2ae4c7ca",
       "version_major": 2,
       "version_minor": 0
      },
      "text/plain": [
       "  0%|          | 0/1 [00:00<?, ?it/s]"
      ]
     },
     "metadata": {},
     "output_type": "display_data"
    },
    {
     "data": {
      "application/vnd.jupyter.widget-view+json": {
       "model_id": "b6da1527fe9f447b9cb3ba01071265b3",
       "version_major": 2,
       "version_minor": 0
      },
      "text/plain": [
       "Running Simulation :   0%|          | 0/1900 [00:00<?, ?it/s]"
      ]
     },
     "metadata": {},
     "output_type": "display_data"
    },
    {
     "name": "stderr",
     "output_type": "stream",
     "text": [
      "2021-11-25 12:04:23,463:INFO:Accuracy: [0.8947368421052632],\tvtraining:5,\tvtesting:0.2, \tdt: 0.01, \tnumDT:20\n",
      "\u001b[32m[I 2021-11-25 12:04:23,550]\u001b[0m Trial 123 finished with value: 0.8947368421052632 and parameters: {'dt': 0, 'ampTraining': 3, 'ampTesting': 1}. Best is trial 58 with value: 1.0.\u001b[0m\n"
     ]
    },
    {
     "name": "stdout",
     "output_type": "stream",
     "text": [
      "0.8947368421052632\n"
     ]
    },
    {
     "data": {
      "application/vnd.jupyter.widget-view+json": {
       "model_id": "ab4304cb3c56415cbf4cf045cf81aecf",
       "version_major": 2,
       "version_minor": 0
      },
      "text/plain": [
       "  0%|          | 0/1 [00:00<?, ?it/s]"
      ]
     },
     "metadata": {},
     "output_type": "display_data"
    },
    {
     "data": {
      "application/vnd.jupyter.widget-view+json": {
       "model_id": "647881086f9744158105d15707505a23",
       "version_major": 2,
       "version_minor": 0
      },
      "text/plain": [
       "Running Simulation :   0%|          | 0/1900 [00:00<?, ?it/s]"
      ]
     },
     "metadata": {},
     "output_type": "display_data"
    },
    {
     "name": "stderr",
     "output_type": "stream",
     "text": [
      "2021-11-25 12:04:29,967:INFO:Accuracy: [0.8052631578947368],\tvtraining:5,\tvtesting:0.2, \tdt: 0.01, \tnumDT:20\n",
      "\u001b[32m[I 2021-11-25 12:04:30,064]\u001b[0m Trial 124 finished with value: 0.8052631578947368 and parameters: {'dt': 0, 'ampTraining': 3, 'ampTesting': 1}. Best is trial 58 with value: 1.0.\u001b[0m\n"
     ]
    },
    {
     "name": "stdout",
     "output_type": "stream",
     "text": [
      "0.8052631578947368\n"
     ]
    },
    {
     "data": {
      "application/vnd.jupyter.widget-view+json": {
       "model_id": "23dfe300ec1a409a9942183931149bc3",
       "version_major": 2,
       "version_minor": 0
      },
      "text/plain": [
       "  0%|          | 0/1 [00:00<?, ?it/s]"
      ]
     },
     "metadata": {},
     "output_type": "display_data"
    },
    {
     "data": {
      "application/vnd.jupyter.widget-view+json": {
       "model_id": "42a2ff3d7e714476a00373c33839dbf9",
       "version_major": 2,
       "version_minor": 0
      },
      "text/plain": [
       "Running Simulation :   0%|          | 0/1900 [00:00<?, ?it/s]"
      ]
     },
     "metadata": {},
     "output_type": "display_data"
    },
    {
     "name": "stderr",
     "output_type": "stream",
     "text": [
      "2021-11-25 12:04:36,363:INFO:Accuracy: [0.7368421052631579],\tvtraining:5,\tvtesting:0.2, \tdt: 0.01, \tnumDT:20\n",
      "\u001b[32m[I 2021-11-25 12:04:36,443]\u001b[0m Trial 125 finished with value: 0.7368421052631579 and parameters: {'dt': 0, 'ampTraining': 3, 'ampTesting': 1}. Best is trial 58 with value: 1.0.\u001b[0m\n"
     ]
    },
    {
     "name": "stdout",
     "output_type": "stream",
     "text": [
      "0.7368421052631579\n"
     ]
    },
    {
     "data": {
      "application/vnd.jupyter.widget-view+json": {
       "model_id": "42025f6934e547a092b3da128978d66d",
       "version_major": 2,
       "version_minor": 0
      },
      "text/plain": [
       "  0%|          | 0/1 [00:00<?, ?it/s]"
      ]
     },
     "metadata": {},
     "output_type": "display_data"
    },
    {
     "data": {
      "application/vnd.jupyter.widget-view+json": {
       "model_id": "a12f99b37ab04b83a6bd40c6440b6d61",
       "version_major": 2,
       "version_minor": 0
      },
      "text/plain": [
       "Running Simulation :   0%|          | 0/950 [00:00<?, ?it/s]"
      ]
     },
     "metadata": {},
     "output_type": "display_data"
    },
    {
     "name": "stderr",
     "output_type": "stream",
     "text": [
      "2021-11-25 12:04:39,673:INFO:Accuracy: [0.7894736842105263],\tvtraining:5,\tvtesting:0.2, \tdt: 0.02, \tnumDT:10\n",
      "\u001b[32m[I 2021-11-25 12:04:39,755]\u001b[0m Trial 126 finished with value: 0.7894736842105263 and parameters: {'dt': 1, 'ampTraining': 3, 'ampTesting': 1}. Best is trial 58 with value: 1.0.\u001b[0m\n"
     ]
    },
    {
     "name": "stdout",
     "output_type": "stream",
     "text": [
      "0.7894736842105263\n"
     ]
    },
    {
     "data": {
      "application/vnd.jupyter.widget-view+json": {
       "model_id": "f538bd8aff87412eb823b5b3c93e6b44",
       "version_major": 2,
       "version_minor": 0
      },
      "text/plain": [
       "  0%|          | 0/1 [00:00<?, ?it/s]"
      ]
     },
     "metadata": {},
     "output_type": "display_data"
    },
    {
     "data": {
      "application/vnd.jupyter.widget-view+json": {
       "model_id": "519c46bfaffb4038928ee535362039cb",
       "version_major": 2,
       "version_minor": 0
      },
      "text/plain": [
       "Running Simulation :   0%|          | 0/1900 [00:00<?, ?it/s]"
      ]
     },
     "metadata": {},
     "output_type": "display_data"
    },
    {
     "name": "stderr",
     "output_type": "stream",
     "text": [
      "2021-11-25 12:04:45,978:INFO:Accuracy: [0.7894736842105263],\tvtraining:5,\tvtesting:0.2, \tdt: 0.01, \tnumDT:20\n",
      "\u001b[32m[I 2021-11-25 12:04:46,058]\u001b[0m Trial 127 finished with value: 0.7894736842105263 and parameters: {'dt': 0, 'ampTraining': 3, 'ampTesting': 1}. Best is trial 58 with value: 1.0.\u001b[0m\n"
     ]
    },
    {
     "name": "stdout",
     "output_type": "stream",
     "text": [
      "0.7894736842105263\n"
     ]
    },
    {
     "data": {
      "application/vnd.jupyter.widget-view+json": {
       "model_id": "60946327c251455690e3e6da2b186d0d",
       "version_major": 2,
       "version_minor": 0
      },
      "text/plain": [
       "  0%|          | 0/1 [00:00<?, ?it/s]"
      ]
     },
     "metadata": {},
     "output_type": "display_data"
    },
    {
     "data": {
      "application/vnd.jupyter.widget-view+json": {
       "model_id": "a88dd2c166a84d50adc984e9be38019a",
       "version_major": 2,
       "version_minor": 0
      },
      "text/plain": [
       "Running Simulation :   0%|          | 0/380 [00:00<?, ?it/s]"
      ]
     },
     "metadata": {},
     "output_type": "display_data"
    },
    {
     "name": "stderr",
     "output_type": "stream",
     "text": [
      "2021-11-25 12:04:47,487:INFO:Accuracy: [0.7236842105263158],\tvtraining:2,\tvtesting:0.2, \tdt: 0.05, \tnumDT:4\n",
      "\u001b[32m[I 2021-11-25 12:04:47,577]\u001b[0m Trial 128 finished with value: 0.7236842105263158 and parameters: {'dt': 2, 'ampTraining': 2, 'ampTesting': 1}. Best is trial 58 with value: 1.0.\u001b[0m\n"
     ]
    },
    {
     "name": "stdout",
     "output_type": "stream",
     "text": [
      "0.7236842105263158\n"
     ]
    },
    {
     "data": {
      "application/vnd.jupyter.widget-view+json": {
       "model_id": "640d5adf6f73402bb9324bc0daacc6c0",
       "version_major": 2,
       "version_minor": 0
      },
      "text/plain": [
       "  0%|          | 0/1 [00:00<?, ?it/s]"
      ]
     },
     "metadata": {},
     "output_type": "display_data"
    },
    {
     "data": {
      "application/vnd.jupyter.widget-view+json": {
       "model_id": "2f512c3be4f44ce7a7eb4370fe094367",
       "version_major": 2,
       "version_minor": 0
      },
      "text/plain": [
       "Running Simulation :   0%|          | 0/1900 [00:00<?, ?it/s]"
      ]
     },
     "metadata": {},
     "output_type": "display_data"
    },
    {
     "name": "stderr",
     "output_type": "stream",
     "text": [
      "2021-11-25 12:04:53,962:INFO:Accuracy: [0.8131578947368421],\tvtraining:5,\tvtesting:0.3, \tdt: 0.01, \tnumDT:20\n",
      "\u001b[32m[I 2021-11-25 12:04:54,055]\u001b[0m Trial 129 finished with value: 0.8131578947368421 and parameters: {'dt': 0, 'ampTraining': 3, 'ampTesting': 2}. Best is trial 58 with value: 1.0.\u001b[0m\n"
     ]
    },
    {
     "name": "stdout",
     "output_type": "stream",
     "text": [
      "0.8131578947368421\n"
     ]
    },
    {
     "data": {
      "application/vnd.jupyter.widget-view+json": {
       "model_id": "78753d7430784428af37c09e4d3217fd",
       "version_major": 2,
       "version_minor": 0
      },
      "text/plain": [
       "  0%|          | 0/1 [00:00<?, ?it/s]"
      ]
     },
     "metadata": {},
     "output_type": "display_data"
    },
    {
     "data": {
      "application/vnd.jupyter.widget-view+json": {
       "model_id": "029c6c496e424487a18489e6606696ca",
       "version_major": 2,
       "version_minor": 0
      },
      "text/plain": [
       "Running Simulation :   0%|          | 0/1900 [00:00<?, ?it/s]"
      ]
     },
     "metadata": {},
     "output_type": "display_data"
    },
    {
     "name": "stderr",
     "output_type": "stream",
     "text": [
      "2021-11-25 12:05:00,445:INFO:Accuracy: [0.9473684210526315],\tvtraining:5,\tvtesting:0.2, \tdt: 0.01, \tnumDT:20\n",
      "\u001b[32m[I 2021-11-25 12:05:00,535]\u001b[0m Trial 130 finished with value: 0.9473684210526315 and parameters: {'dt': 0, 'ampTraining': 3, 'ampTesting': 1}. Best is trial 58 with value: 1.0.\u001b[0m\n"
     ]
    },
    {
     "name": "stdout",
     "output_type": "stream",
     "text": [
      "0.9473684210526315\n"
     ]
    },
    {
     "data": {
      "application/vnd.jupyter.widget-view+json": {
       "model_id": "d76d26ba12304dab9e35c23fe0dbe7bc",
       "version_major": 2,
       "version_minor": 0
      },
      "text/plain": [
       "  0%|          | 0/1 [00:00<?, ?it/s]"
      ]
     },
     "metadata": {},
     "output_type": "display_data"
    },
    {
     "data": {
      "application/vnd.jupyter.widget-view+json": {
       "model_id": "5cb1cf3cb0534b0ab75055eba20788bc",
       "version_major": 2,
       "version_minor": 0
      },
      "text/plain": [
       "Running Simulation :   0%|          | 0/1900 [00:00<?, ?it/s]"
      ]
     },
     "metadata": {},
     "output_type": "display_data"
    },
    {
     "name": "stderr",
     "output_type": "stream",
     "text": [
      "2021-11-25 12:05:06,936:INFO:Accuracy: [0.9078947368421053],\tvtraining:5,\tvtesting:0.2, \tdt: 0.01, \tnumDT:20\n",
      "\u001b[32m[I 2021-11-25 12:05:07,026]\u001b[0m Trial 131 finished with value: 0.9078947368421053 and parameters: {'dt': 0, 'ampTraining': 3, 'ampTesting': 1}. Best is trial 58 with value: 1.0.\u001b[0m\n"
     ]
    },
    {
     "name": "stdout",
     "output_type": "stream",
     "text": [
      "0.9078947368421053\n"
     ]
    },
    {
     "data": {
      "application/vnd.jupyter.widget-view+json": {
       "model_id": "4bf6436ae5354251b988875623f6139a",
       "version_major": 2,
       "version_minor": 0
      },
      "text/plain": [
       "  0%|          | 0/1 [00:00<?, ?it/s]"
      ]
     },
     "metadata": {},
     "output_type": "display_data"
    },
    {
     "data": {
      "application/vnd.jupyter.widget-view+json": {
       "model_id": "9afb18243c7946cd938de46113263d0c",
       "version_major": 2,
       "version_minor": 0
      },
      "text/plain": [
       "Running Simulation :   0%|          | 0/1900 [00:00<?, ?it/s]"
      ]
     },
     "metadata": {},
     "output_type": "display_data"
    },
    {
     "name": "stderr",
     "output_type": "stream",
     "text": [
      "2021-11-25 12:05:13,527:INFO:Accuracy: [0.7894736842105263],\tvtraining:5,\tvtesting:0.2, \tdt: 0.01, \tnumDT:20\n",
      "\u001b[32m[I 2021-11-25 12:05:13,621]\u001b[0m Trial 132 finished with value: 0.7894736842105263 and parameters: {'dt': 0, 'ampTraining': 3, 'ampTesting': 1}. Best is trial 58 with value: 1.0.\u001b[0m\n"
     ]
    },
    {
     "name": "stdout",
     "output_type": "stream",
     "text": [
      "0.7894736842105263\n"
     ]
    },
    {
     "data": {
      "application/vnd.jupyter.widget-view+json": {
       "model_id": "6909ea1fb1654d1b8727d1b694ddc7f0",
       "version_major": 2,
       "version_minor": 0
      },
      "text/plain": [
       "  0%|          | 0/1 [00:00<?, ?it/s]"
      ]
     },
     "metadata": {},
     "output_type": "display_data"
    },
    {
     "data": {
      "application/vnd.jupyter.widget-view+json": {
       "model_id": "5c6c5f8a3f2343fcadc767ce39d5f119",
       "version_major": 2,
       "version_minor": 0
      },
      "text/plain": [
       "Running Simulation :   0%|          | 0/1900 [00:00<?, ?it/s]"
      ]
     },
     "metadata": {},
     "output_type": "display_data"
    },
    {
     "name": "stderr",
     "output_type": "stream",
     "text": [
      "2021-11-25 12:05:20,050:INFO:Accuracy: [0.5789473684210527],\tvtraining:5,\tvtesting:0.2, \tdt: 0.01, \tnumDT:20\n",
      "\u001b[32m[I 2021-11-25 12:05:20,147]\u001b[0m Trial 133 finished with value: 0.5789473684210527 and parameters: {'dt': 0, 'ampTraining': 3, 'ampTesting': 1}. Best is trial 58 with value: 1.0.\u001b[0m\n"
     ]
    },
    {
     "name": "stdout",
     "output_type": "stream",
     "text": [
      "0.5789473684210527\n"
     ]
    },
    {
     "data": {
      "application/vnd.jupyter.widget-view+json": {
       "model_id": "c4b7a187bcb44a578be113e570677b34",
       "version_major": 2,
       "version_minor": 0
      },
      "text/plain": [
       "  0%|          | 0/1 [00:00<?, ?it/s]"
      ]
     },
     "metadata": {},
     "output_type": "display_data"
    },
    {
     "data": {
      "application/vnd.jupyter.widget-view+json": {
       "model_id": "1d1648dc1c074ffea96d3650f626f6a4",
       "version_major": 2,
       "version_minor": 0
      },
      "text/plain": [
       "Running Simulation :   0%|          | 0/1900 [00:00<?, ?it/s]"
      ]
     },
     "metadata": {},
     "output_type": "display_data"
    },
    {
     "name": "stderr",
     "output_type": "stream",
     "text": [
      "2021-11-25 12:05:26,582:INFO:Accuracy: [0.7894736842105263],\tvtraining:5,\tvtesting:0.2, \tdt: 0.01, \tnumDT:20\n",
      "\u001b[32m[I 2021-11-25 12:05:26,676]\u001b[0m Trial 134 finished with value: 0.7894736842105263 and parameters: {'dt': 0, 'ampTraining': 3, 'ampTesting': 1}. Best is trial 58 with value: 1.0.\u001b[0m\n"
     ]
    },
    {
     "name": "stdout",
     "output_type": "stream",
     "text": [
      "0.7894736842105263\n"
     ]
    },
    {
     "data": {
      "application/vnd.jupyter.widget-view+json": {
       "model_id": "0e084bb0531341aca2b8c07b11b00484",
       "version_major": 2,
       "version_minor": 0
      },
      "text/plain": [
       "  0%|          | 0/1 [00:00<?, ?it/s]"
      ]
     },
     "metadata": {},
     "output_type": "display_data"
    },
    {
     "data": {
      "application/vnd.jupyter.widget-view+json": {
       "model_id": "9584e7af9b254791a81820f88fbacb46",
       "version_major": 2,
       "version_minor": 0
      },
      "text/plain": [
       "Running Simulation :   0%|          | 0/1900 [00:00<?, ?it/s]"
      ]
     },
     "metadata": {},
     "output_type": "display_data"
    },
    {
     "name": "stderr",
     "output_type": "stream",
     "text": [
      "2021-11-25 12:05:33,122:INFO:Accuracy: [0.7368421052631579],\tvtraining:5,\tvtesting:0.2, \tdt: 0.01, \tnumDT:20\n",
      "\u001b[32m[I 2021-11-25 12:05:33,216]\u001b[0m Trial 135 finished with value: 0.7368421052631579 and parameters: {'dt': 0, 'ampTraining': 3, 'ampTesting': 1}. Best is trial 58 with value: 1.0.\u001b[0m\n"
     ]
    },
    {
     "name": "stdout",
     "output_type": "stream",
     "text": [
      "0.7368421052631579\n"
     ]
    },
    {
     "data": {
      "application/vnd.jupyter.widget-view+json": {
       "model_id": "a52527cc9bc64a30b1ef6d108c1c2ece",
       "version_major": 2,
       "version_minor": 0
      },
      "text/plain": [
       "  0%|          | 0/1 [00:00<?, ?it/s]"
      ]
     },
     "metadata": {},
     "output_type": "display_data"
    },
    {
     "data": {
      "application/vnd.jupyter.widget-view+json": {
       "model_id": "512a9c433bf9492dada728a5108e808e",
       "version_major": 2,
       "version_minor": 0
      },
      "text/plain": [
       "Running Simulation :   0%|          | 0/1900 [00:00<?, ?it/s]"
      ]
     },
     "metadata": {},
     "output_type": "display_data"
    },
    {
     "name": "stderr",
     "output_type": "stream",
     "text": [
      "2021-11-25 12:05:39,649:INFO:Accuracy: [0.8315789473684211],\tvtraining:1,\tvtesting:0.2, \tdt: 0.01, \tnumDT:20\n",
      "\u001b[32m[I 2021-11-25 12:05:39,749]\u001b[0m Trial 136 finished with value: 0.8315789473684211 and parameters: {'dt': 0, 'ampTraining': 1, 'ampTesting': 1}. Best is trial 58 with value: 1.0.\u001b[0m\n"
     ]
    },
    {
     "name": "stdout",
     "output_type": "stream",
     "text": [
      "0.8315789473684211\n"
     ]
    },
    {
     "data": {
      "application/vnd.jupyter.widget-view+json": {
       "model_id": "5483402f08714c98b6a31dad66127121",
       "version_major": 2,
       "version_minor": 0
      },
      "text/plain": [
       "  0%|          | 0/1 [00:00<?, ?it/s]"
      ]
     },
     "metadata": {},
     "output_type": "display_data"
    },
    {
     "data": {
      "application/vnd.jupyter.widget-view+json": {
       "model_id": "7393bea2d9f74d4188cee78080a07f14",
       "version_major": 2,
       "version_minor": 0
      },
      "text/plain": [
       "Running Simulation :   0%|          | 0/1900 [00:00<?, ?it/s]"
      ]
     },
     "metadata": {},
     "output_type": "display_data"
    },
    {
     "name": "stderr",
     "output_type": "stream",
     "text": [
      "2021-11-25 12:05:46,192:INFO:Accuracy: [0.6842105263157895],\tvtraining:5,\tvtesting:0.2, \tdt: 0.01, \tnumDT:20\n",
      "\u001b[32m[I 2021-11-25 12:05:46,290]\u001b[0m Trial 137 finished with value: 0.6842105263157895 and parameters: {'dt': 0, 'ampTraining': 3, 'ampTesting': 1}. Best is trial 58 with value: 1.0.\u001b[0m\n"
     ]
    },
    {
     "name": "stdout",
     "output_type": "stream",
     "text": [
      "0.6842105263157895\n"
     ]
    },
    {
     "data": {
      "application/vnd.jupyter.widget-view+json": {
       "model_id": "fc1de633bf234b559aaf52f3afe2711d",
       "version_major": 2,
       "version_minor": 0
      },
      "text/plain": [
       "  0%|          | 0/1 [00:00<?, ?it/s]"
      ]
     },
     "metadata": {},
     "output_type": "display_data"
    },
    {
     "data": {
      "application/vnd.jupyter.widget-view+json": {
       "model_id": "c8dae47583124b4584d04b3ffa683386",
       "version_major": 2,
       "version_minor": 0
      },
      "text/plain": [
       "Running Simulation :   0%|          | 0/1900 [00:00<?, ?it/s]"
      ]
     },
     "metadata": {},
     "output_type": "display_data"
    },
    {
     "name": "stderr",
     "output_type": "stream",
     "text": [
      "2021-11-25 12:05:52,713:INFO:Accuracy: [0.7157894736842105],\tvtraining:5,\tvtesting:0.2, \tdt: 0.01, \tnumDT:20\n",
      "\u001b[32m[I 2021-11-25 12:05:52,808]\u001b[0m Trial 138 finished with value: 0.7157894736842105 and parameters: {'dt': 0, 'ampTraining': 3, 'ampTesting': 1}. Best is trial 58 with value: 1.0.\u001b[0m\n"
     ]
    },
    {
     "name": "stdout",
     "output_type": "stream",
     "text": [
      "0.7157894736842105\n"
     ]
    },
    {
     "data": {
      "application/vnd.jupyter.widget-view+json": {
       "model_id": "c310ed5ef36540e1ab778d8ad7ecf116",
       "version_major": 2,
       "version_minor": 0
      },
      "text/plain": [
       "  0%|          | 0/1 [00:00<?, ?it/s]"
      ]
     },
     "metadata": {},
     "output_type": "display_data"
    },
    {
     "data": {
      "application/vnd.jupyter.widget-view+json": {
       "model_id": "99d562c8df9e473ba24e7ec803ddf5ba",
       "version_major": 2,
       "version_minor": 0
      },
      "text/plain": [
       "Running Simulation :   0%|          | 0/1900 [00:00<?, ?it/s]"
      ]
     },
     "metadata": {},
     "output_type": "display_data"
    },
    {
     "name": "stderr",
     "output_type": "stream",
     "text": [
      "2021-11-25 12:05:59,211:INFO:Accuracy: [0.8947368421052632],\tvtraining:5,\tvtesting:0.3, \tdt: 0.01, \tnumDT:20\n",
      "\u001b[32m[I 2021-11-25 12:05:59,305]\u001b[0m Trial 139 finished with value: 0.8947368421052632 and parameters: {'dt': 0, 'ampTraining': 3, 'ampTesting': 2}. Best is trial 58 with value: 1.0.\u001b[0m\n"
     ]
    },
    {
     "name": "stdout",
     "output_type": "stream",
     "text": [
      "0.8947368421052632\n"
     ]
    },
    {
     "data": {
      "application/vnd.jupyter.widget-view+json": {
       "model_id": "d0896e984416441884cbe059bc60d30d",
       "version_major": 2,
       "version_minor": 0
      },
      "text/plain": [
       "  0%|          | 0/1 [00:00<?, ?it/s]"
      ]
     },
     "metadata": {},
     "output_type": "display_data"
    },
    {
     "data": {
      "application/vnd.jupyter.widget-view+json": {
       "model_id": "9b46748244ab48f7b0ff34133d104cd2",
       "version_major": 2,
       "version_minor": 0
      },
      "text/plain": [
       "Running Simulation :   0%|          | 0/1900 [00:00<?, ?it/s]"
      ]
     },
     "metadata": {},
     "output_type": "display_data"
    },
    {
     "name": "stderr",
     "output_type": "stream",
     "text": [
      "2021-11-25 12:06:05,705:INFO:Accuracy: [0.6842105263157895],\tvtraining:5,\tvtesting:0.2, \tdt: 0.01, \tnumDT:20\n",
      "\u001b[32m[I 2021-11-25 12:06:05,800]\u001b[0m Trial 140 finished with value: 0.6842105263157895 and parameters: {'dt': 0, 'ampTraining': 3, 'ampTesting': 1}. Best is trial 58 with value: 1.0.\u001b[0m\n"
     ]
    },
    {
     "name": "stdout",
     "output_type": "stream",
     "text": [
      "0.6842105263157895\n"
     ]
    },
    {
     "data": {
      "application/vnd.jupyter.widget-view+json": {
       "model_id": "1b6923c6790a473baa870052aa7d6c2e",
       "version_major": 2,
       "version_minor": 0
      },
      "text/plain": [
       "  0%|          | 0/1 [00:00<?, ?it/s]"
      ]
     },
     "metadata": {},
     "output_type": "display_data"
    },
    {
     "data": {
      "application/vnd.jupyter.widget-view+json": {
       "model_id": "43ce93d1cf0040c0a5c3f19d01eb942c",
       "version_major": 2,
       "version_minor": 0
      },
      "text/plain": [
       "Running Simulation :   0%|          | 0/950 [00:00<?, ?it/s]"
      ]
     },
     "metadata": {},
     "output_type": "display_data"
    },
    {
     "name": "stderr",
     "output_type": "stream",
     "text": [
      "2021-11-25 12:06:09,126:INFO:Accuracy: [0.7368421052631579],\tvtraining:2,\tvtesting:0.2, \tdt: 0.02, \tnumDT:10\n",
      "\u001b[32m[I 2021-11-25 12:06:09,220]\u001b[0m Trial 141 finished with value: 0.7368421052631579 and parameters: {'dt': 1, 'ampTraining': 2, 'ampTesting': 1}. Best is trial 58 with value: 1.0.\u001b[0m\n"
     ]
    },
    {
     "name": "stdout",
     "output_type": "stream",
     "text": [
      "0.7368421052631579\n"
     ]
    },
    {
     "data": {
      "application/vnd.jupyter.widget-view+json": {
       "model_id": "839daa1ccd574d4f8766b257142fe602",
       "version_major": 2,
       "version_minor": 0
      },
      "text/plain": [
       "  0%|          | 0/1 [00:00<?, ?it/s]"
      ]
     },
     "metadata": {},
     "output_type": "display_data"
    },
    {
     "data": {
      "application/vnd.jupyter.widget-view+json": {
       "model_id": "7c7fa70144a84c75827d0b9eb77a5bf9",
       "version_major": 2,
       "version_minor": 0
      },
      "text/plain": [
       "Running Simulation :   0%|          | 0/1900 [00:00<?, ?it/s]"
      ]
     },
     "metadata": {},
     "output_type": "display_data"
    },
    {
     "name": "stderr",
     "output_type": "stream",
     "text": [
      "2021-11-25 12:06:15,631:INFO:Accuracy: [0.7894736842105263],\tvtraining:0.5,\tvtesting:0.2, \tdt: 0.01, \tnumDT:20\n",
      "\u001b[32m[I 2021-11-25 12:06:15,729]\u001b[0m Trial 142 finished with value: 0.7894736842105263 and parameters: {'dt': 0, 'ampTraining': 0, 'ampTesting': 1}. Best is trial 58 with value: 1.0.\u001b[0m\n"
     ]
    },
    {
     "name": "stdout",
     "output_type": "stream",
     "text": [
      "0.7894736842105263\n"
     ]
    },
    {
     "data": {
      "application/vnd.jupyter.widget-view+json": {
       "model_id": "a6efc7ca77d747da8098eb8acbcfa9cc",
       "version_major": 2,
       "version_minor": 0
      },
      "text/plain": [
       "  0%|          | 0/1 [00:00<?, ?it/s]"
      ]
     },
     "metadata": {},
     "output_type": "display_data"
    },
    {
     "data": {
      "application/vnd.jupyter.widget-view+json": {
       "model_id": "dec26ef6cf764b0b99f877497e2c5334",
       "version_major": 2,
       "version_minor": 0
      },
      "text/plain": [
       "Running Simulation :   0%|          | 0/1900 [00:00<?, ?it/s]"
      ]
     },
     "metadata": {},
     "output_type": "display_data"
    },
    {
     "name": "stderr",
     "output_type": "stream",
     "text": [
      "2021-11-25 12:06:22,130:INFO:Accuracy: [0.8947368421052632],\tvtraining:5,\tvtesting:0.2, \tdt: 0.01, \tnumDT:20\n",
      "\u001b[32m[I 2021-11-25 12:06:22,210]\u001b[0m Trial 143 finished with value: 0.8947368421052632 and parameters: {'dt': 0, 'ampTraining': 3, 'ampTesting': 1}. Best is trial 58 with value: 1.0.\u001b[0m\n"
     ]
    },
    {
     "name": "stdout",
     "output_type": "stream",
     "text": [
      "0.8947368421052632\n"
     ]
    },
    {
     "data": {
      "application/vnd.jupyter.widget-view+json": {
       "model_id": "1a73f11724ff4817ae89b3f88b1ee87a",
       "version_major": 2,
       "version_minor": 0
      },
      "text/plain": [
       "  0%|          | 0/1 [00:00<?, ?it/s]"
      ]
     },
     "metadata": {},
     "output_type": "display_data"
    },
    {
     "data": {
      "application/vnd.jupyter.widget-view+json": {
       "model_id": "cb146cf975d9421ca3302f3973830771",
       "version_major": 2,
       "version_minor": 0
      },
      "text/plain": [
       "Running Simulation :   0%|          | 0/1900 [00:00<?, ?it/s]"
      ]
     },
     "metadata": {},
     "output_type": "display_data"
    },
    {
     "name": "stderr",
     "output_type": "stream",
     "text": [
      "2021-11-25 12:06:28,502:INFO:Accuracy: [0.8421052631578947],\tvtraining:5,\tvtesting:0.2, \tdt: 0.01, \tnumDT:20\n",
      "\u001b[32m[I 2021-11-25 12:06:28,577]\u001b[0m Trial 144 finished with value: 0.8421052631578947 and parameters: {'dt': 0, 'ampTraining': 3, 'ampTesting': 1}. Best is trial 58 with value: 1.0.\u001b[0m\n"
     ]
    },
    {
     "name": "stdout",
     "output_type": "stream",
     "text": [
      "0.8421052631578947\n"
     ]
    },
    {
     "data": {
      "application/vnd.jupyter.widget-view+json": {
       "model_id": "6ac8ac5013804e49be53079b2a6e678f",
       "version_major": 2,
       "version_minor": 0
      },
      "text/plain": [
       "  0%|          | 0/1 [00:00<?, ?it/s]"
      ]
     },
     "metadata": {},
     "output_type": "display_data"
    },
    {
     "data": {
      "application/vnd.jupyter.widget-view+json": {
       "model_id": "acc54a81afdf4bf0bb45a3ba06a5f536",
       "version_major": 2,
       "version_minor": 0
      },
      "text/plain": [
       "Running Simulation :   0%|          | 0/1900 [00:00<?, ?it/s]"
      ]
     },
     "metadata": {},
     "output_type": "display_data"
    },
    {
     "name": "stderr",
     "output_type": "stream",
     "text": [
      "2021-11-25 12:06:34,869:INFO:Accuracy: [0.7894736842105263],\tvtraining:5,\tvtesting:0.2, \tdt: 0.01, \tnumDT:20\n",
      "\u001b[32m[I 2021-11-25 12:06:34,946]\u001b[0m Trial 145 finished with value: 0.7894736842105263 and parameters: {'dt': 0, 'ampTraining': 3, 'ampTesting': 1}. Best is trial 58 with value: 1.0.\u001b[0m\n"
     ]
    },
    {
     "name": "stdout",
     "output_type": "stream",
     "text": [
      "0.7894736842105263\n"
     ]
    },
    {
     "data": {
      "application/vnd.jupyter.widget-view+json": {
       "model_id": "e1b258e6bb204b80a6032fff99f9a562",
       "version_major": 2,
       "version_minor": 0
      },
      "text/plain": [
       "  0%|          | 0/1 [00:00<?, ?it/s]"
      ]
     },
     "metadata": {},
     "output_type": "display_data"
    },
    {
     "data": {
      "application/vnd.jupyter.widget-view+json": {
       "model_id": "7204c175ed5a4a3cbf7fe1d08be8702a",
       "version_major": 2,
       "version_minor": 0
      },
      "text/plain": [
       "Running Simulation :   0%|          | 0/1900 [00:00<?, ?it/s]"
      ]
     },
     "metadata": {},
     "output_type": "display_data"
    },
    {
     "name": "stderr",
     "output_type": "stream",
     "text": [
      "2021-11-25 12:06:41,232:INFO:Accuracy: [0.7684210526315789],\tvtraining:5,\tvtesting:0.2, \tdt: 0.01, \tnumDT:20\n",
      "\u001b[32m[I 2021-11-25 12:06:41,326]\u001b[0m Trial 146 finished with value: 0.7684210526315789 and parameters: {'dt': 0, 'ampTraining': 3, 'ampTesting': 1}. Best is trial 58 with value: 1.0.\u001b[0m\n"
     ]
    },
    {
     "name": "stdout",
     "output_type": "stream",
     "text": [
      "0.7684210526315789\n"
     ]
    },
    {
     "data": {
      "application/vnd.jupyter.widget-view+json": {
       "model_id": "8c7ca2eccead4f5abf2275b64a642ac8",
       "version_major": 2,
       "version_minor": 0
      },
      "text/plain": [
       "  0%|          | 0/1 [00:00<?, ?it/s]"
      ]
     },
     "metadata": {},
     "output_type": "display_data"
    },
    {
     "data": {
      "application/vnd.jupyter.widget-view+json": {
       "model_id": "aad80e3a73fe4065b615d5ba6e7889d2",
       "version_major": 2,
       "version_minor": 0
      },
      "text/plain": [
       "Running Simulation :   0%|          | 0/1900 [00:00<?, ?it/s]"
      ]
     },
     "metadata": {},
     "output_type": "display_data"
    },
    {
     "name": "stderr",
     "output_type": "stream",
     "text": [
      "2021-11-25 12:06:47,746:INFO:Accuracy: [0.7947368421052632],\tvtraining:5,\tvtesting:0.2, \tdt: 0.01, \tnumDT:20\n",
      "\u001b[32m[I 2021-11-25 12:06:47,835]\u001b[0m Trial 147 finished with value: 0.7947368421052632 and parameters: {'dt': 0, 'ampTraining': 3, 'ampTesting': 1}. Best is trial 58 with value: 1.0.\u001b[0m\n"
     ]
    },
    {
     "name": "stdout",
     "output_type": "stream",
     "text": [
      "0.7947368421052632\n"
     ]
    },
    {
     "data": {
      "application/vnd.jupyter.widget-view+json": {
       "model_id": "fc01029dfb7f42de83b8609d7cd87028",
       "version_major": 2,
       "version_minor": 0
      },
      "text/plain": [
       "  0%|          | 0/1 [00:00<?, ?it/s]"
      ]
     },
     "metadata": {},
     "output_type": "display_data"
    },
    {
     "data": {
      "application/vnd.jupyter.widget-view+json": {
       "model_id": "928f1177a9f1494c9abc63c96b2b0534",
       "version_major": 2,
       "version_minor": 0
      },
      "text/plain": [
       "Running Simulation :   0%|          | 0/1900 [00:00<?, ?it/s]"
      ]
     },
     "metadata": {},
     "output_type": "display_data"
    },
    {
     "name": "stderr",
     "output_type": "stream",
     "text": [
      "2021-11-25 12:06:54,258:INFO:Accuracy: [0.8947368421052632],\tvtraining:5,\tvtesting:0.1, \tdt: 0.01, \tnumDT:20\n",
      "\u001b[32m[I 2021-11-25 12:06:54,351]\u001b[0m Trial 148 finished with value: 0.8947368421052632 and parameters: {'dt': 0, 'ampTraining': 3, 'ampTesting': 0}. Best is trial 58 with value: 1.0.\u001b[0m\n"
     ]
    },
    {
     "name": "stdout",
     "output_type": "stream",
     "text": [
      "0.8947368421052632\n"
     ]
    },
    {
     "data": {
      "application/vnd.jupyter.widget-view+json": {
       "model_id": "3f502755276a4eabb4dba03fa43d246c",
       "version_major": 2,
       "version_minor": 0
      },
      "text/plain": [
       "  0%|          | 0/1 [00:00<?, ?it/s]"
      ]
     },
     "metadata": {},
     "output_type": "display_data"
    },
    {
     "data": {
      "application/vnd.jupyter.widget-view+json": {
       "model_id": "984d7107c3a248bb9d9a33469e496b3d",
       "version_major": 2,
       "version_minor": 0
      },
      "text/plain": [
       "Running Simulation :   0%|          | 0/1900 [00:00<?, ?it/s]"
      ]
     },
     "metadata": {},
     "output_type": "display_data"
    },
    {
     "name": "stderr",
     "output_type": "stream",
     "text": [
      "2021-11-25 12:07:00,763:INFO:Accuracy: [0.7368421052631579],\tvtraining:5,\tvtesting:0.3, \tdt: 0.01, \tnumDT:20\n",
      "\u001b[32m[I 2021-11-25 12:07:00,850]\u001b[0m Trial 149 finished with value: 0.7368421052631579 and parameters: {'dt': 0, 'ampTraining': 3, 'ampTesting': 2}. Best is trial 58 with value: 1.0.\u001b[0m\n"
     ]
    },
    {
     "name": "stdout",
     "output_type": "stream",
     "text": [
      "0.7368421052631579\n"
     ]
    },
    {
     "data": {
      "application/vnd.jupyter.widget-view+json": {
       "model_id": "45adb6c387594e5f844a2e58c9af0ae0",
       "version_major": 2,
       "version_minor": 0
      },
      "text/plain": [
       "  0%|          | 0/1 [00:00<?, ?it/s]"
      ]
     },
     "metadata": {},
     "output_type": "display_data"
    },
    {
     "data": {
      "application/vnd.jupyter.widget-view+json": {
       "model_id": "9e8e3ebc3d994d1fb8f9c4d06a9937a6",
       "version_major": 2,
       "version_minor": 0
      },
      "text/plain": [
       "Running Simulation :   0%|          | 0/1900 [00:00<?, ?it/s]"
      ]
     },
     "metadata": {},
     "output_type": "display_data"
    },
    {
     "name": "stderr",
     "output_type": "stream",
     "text": [
      "2021-11-25 12:07:07,305:INFO:Accuracy: [0.6368421052631579],\tvtraining:5,\tvtesting:0.3, \tdt: 0.01, \tnumDT:20\n",
      "\u001b[32m[I 2021-11-25 12:07:07,404]\u001b[0m Trial 150 finished with value: 0.6368421052631579 and parameters: {'dt': 0, 'ampTraining': 3, 'ampTesting': 2}. Best is trial 58 with value: 1.0.\u001b[0m\n"
     ]
    },
    {
     "name": "stdout",
     "output_type": "stream",
     "text": [
      "0.6368421052631579\n"
     ]
    },
    {
     "data": {
      "application/vnd.jupyter.widget-view+json": {
       "model_id": "f863d431f2784bb39e01a7e5fcb30381",
       "version_major": 2,
       "version_minor": 0
      },
      "text/plain": [
       "  0%|          | 0/1 [00:00<?, ?it/s]"
      ]
     },
     "metadata": {},
     "output_type": "display_data"
    },
    {
     "data": {
      "application/vnd.jupyter.widget-view+json": {
       "model_id": "1716913999ac4d0d9ec2982d8d13be7f",
       "version_major": 2,
       "version_minor": 0
      },
      "text/plain": [
       "Running Simulation :   0%|          | 0/1900 [00:00<?, ?it/s]"
      ]
     },
     "metadata": {},
     "output_type": "display_data"
    },
    {
     "name": "stderr",
     "output_type": "stream",
     "text": [
      "2021-11-25 12:07:13,832:INFO:Accuracy: [0.8236842105263158],\tvtraining:2,\tvtesting:0.3, \tdt: 0.01, \tnumDT:20\n",
      "\u001b[32m[I 2021-11-25 12:07:13,925]\u001b[0m Trial 151 finished with value: 0.8236842105263158 and parameters: {'dt': 0, 'ampTraining': 2, 'ampTesting': 2}. Best is trial 58 with value: 1.0.\u001b[0m\n"
     ]
    },
    {
     "name": "stdout",
     "output_type": "stream",
     "text": [
      "0.8236842105263158\n"
     ]
    },
    {
     "data": {
      "application/vnd.jupyter.widget-view+json": {
       "model_id": "bacd4f9974644784a28034e8314b9bcd",
       "version_major": 2,
       "version_minor": 0
      },
      "text/plain": [
       "  0%|          | 0/1 [00:00<?, ?it/s]"
      ]
     },
     "metadata": {},
     "output_type": "display_data"
    },
    {
     "data": {
      "application/vnd.jupyter.widget-view+json": {
       "model_id": "fa62915a1b2e4041b2bb7c8a37f7e58f",
       "version_major": 2,
       "version_minor": 0
      },
      "text/plain": [
       "Running Simulation :   0%|          | 0/1900 [00:00<?, ?it/s]"
      ]
     },
     "metadata": {},
     "output_type": "display_data"
    },
    {
     "name": "stderr",
     "output_type": "stream",
     "text": [
      "2021-11-25 12:07:20,518:INFO:Accuracy: [0.6657894736842105],\tvtraining:1,\tvtesting:0.3, \tdt: 0.01, \tnumDT:20\n",
      "\u001b[32m[I 2021-11-25 12:07:20,604]\u001b[0m Trial 152 finished with value: 0.6657894736842105 and parameters: {'dt': 0, 'ampTraining': 1, 'ampTesting': 2}. Best is trial 58 with value: 1.0.\u001b[0m\n"
     ]
    },
    {
     "name": "stdout",
     "output_type": "stream",
     "text": [
      "0.6657894736842105\n"
     ]
    },
    {
     "data": {
      "application/vnd.jupyter.widget-view+json": {
       "model_id": "7d1e2db0db354497aa5b02aa0c468aea",
       "version_major": 2,
       "version_minor": 0
      },
      "text/plain": [
       "  0%|          | 0/1 [00:00<?, ?it/s]"
      ]
     },
     "metadata": {},
     "output_type": "display_data"
    },
    {
     "data": {
      "application/vnd.jupyter.widget-view+json": {
       "model_id": "0fb3787dff9a4549ac802b6244cfcc07",
       "version_major": 2,
       "version_minor": 0
      },
      "text/plain": [
       "Running Simulation :   0%|          | 0/1900 [00:00<?, ?it/s]"
      ]
     },
     "metadata": {},
     "output_type": "display_data"
    },
    {
     "name": "stderr",
     "output_type": "stream",
     "text": [
      "2021-11-25 12:07:27,150:INFO:Accuracy: [0.7368421052631579],\tvtraining:5,\tvtesting:0.2, \tdt: 0.01, \tnumDT:20\n",
      "\u001b[32m[I 2021-11-25 12:07:27,241]\u001b[0m Trial 153 finished with value: 0.7368421052631579 and parameters: {'dt': 0, 'ampTraining': 3, 'ampTesting': 1}. Best is trial 58 with value: 1.0.\u001b[0m\n"
     ]
    },
    {
     "name": "stdout",
     "output_type": "stream",
     "text": [
      "0.7368421052631579\n"
     ]
    },
    {
     "data": {
      "application/vnd.jupyter.widget-view+json": {
       "model_id": "dc9cb54105e94860aac1269989b4dad0",
       "version_major": 2,
       "version_minor": 0
      },
      "text/plain": [
       "  0%|          | 0/1 [00:00<?, ?it/s]"
      ]
     },
     "metadata": {},
     "output_type": "display_data"
    },
    {
     "data": {
      "application/vnd.jupyter.widget-view+json": {
       "model_id": "7a1cc22878434fc593801556150b4a24",
       "version_major": 2,
       "version_minor": 0
      },
      "text/plain": [
       "Running Simulation :   0%|          | 0/1900 [00:00<?, ?it/s]"
      ]
     },
     "metadata": {},
     "output_type": "display_data"
    },
    {
     "name": "stderr",
     "output_type": "stream",
     "text": [
      "2021-11-25 12:07:33,755:INFO:Accuracy: [0.7447368421052631],\tvtraining:5,\tvtesting:0.2, \tdt: 0.01, \tnumDT:20\n",
      "\u001b[32m[I 2021-11-25 12:07:33,847]\u001b[0m Trial 154 finished with value: 0.7447368421052631 and parameters: {'dt': 0, 'ampTraining': 3, 'ampTesting': 1}. Best is trial 58 with value: 1.0.\u001b[0m\n"
     ]
    },
    {
     "name": "stdout",
     "output_type": "stream",
     "text": [
      "0.7447368421052631\n"
     ]
    },
    {
     "data": {
      "application/vnd.jupyter.widget-view+json": {
       "model_id": "646be3021065498f975eb7b12e387829",
       "version_major": 2,
       "version_minor": 0
      },
      "text/plain": [
       "  0%|          | 0/1 [00:00<?, ?it/s]"
      ]
     },
     "metadata": {},
     "output_type": "display_data"
    },
    {
     "data": {
      "application/vnd.jupyter.widget-view+json": {
       "model_id": "4c617705f7034e77b25bf5c2df508a80",
       "version_major": 2,
       "version_minor": 0
      },
      "text/plain": [
       "Running Simulation :   0%|          | 0/1900 [00:00<?, ?it/s]"
      ]
     },
     "metadata": {},
     "output_type": "display_data"
    },
    {
     "name": "stderr",
     "output_type": "stream",
     "text": [
      "2021-11-25 12:07:40,162:INFO:Accuracy: [0.8394736842105263],\tvtraining:5,\tvtesting:0.3, \tdt: 0.01, \tnumDT:20\n",
      "\u001b[32m[I 2021-11-25 12:07:40,241]\u001b[0m Trial 155 finished with value: 0.8394736842105263 and parameters: {'dt': 0, 'ampTraining': 3, 'ampTesting': 2}. Best is trial 58 with value: 1.0.\u001b[0m\n"
     ]
    },
    {
     "name": "stdout",
     "output_type": "stream",
     "text": [
      "0.8394736842105263\n"
     ]
    },
    {
     "data": {
      "application/vnd.jupyter.widget-view+json": {
       "model_id": "128b409c2dd949c5a66a48ac4c246203",
       "version_major": 2,
       "version_minor": 0
      },
      "text/plain": [
       "  0%|          | 0/1 [00:00<?, ?it/s]"
      ]
     },
     "metadata": {},
     "output_type": "display_data"
    },
    {
     "data": {
      "application/vnd.jupyter.widget-view+json": {
       "model_id": "dd0dcc821d6747f9bf5aa1f8b1b1dd0b",
       "version_major": 2,
       "version_minor": 0
      },
      "text/plain": [
       "Running Simulation :   0%|          | 0/190 [00:00<?, ?it/s]"
      ]
     },
     "metadata": {},
     "output_type": "display_data"
    },
    {
     "name": "stderr",
     "output_type": "stream",
     "text": [
      "2021-11-25 12:07:41,059:INFO:Accuracy: [0.6842105263157895],\tvtraining:5,\tvtesting:0.1, \tdt: 0.1, \tnumDT:2\n",
      "\u001b[32m[I 2021-11-25 12:07:41,138]\u001b[0m Trial 156 finished with value: 0.6842105263157895 and parameters: {'dt': 3, 'ampTraining': 3, 'ampTesting': 0}. Best is trial 58 with value: 1.0.\u001b[0m\n"
     ]
    },
    {
     "name": "stdout",
     "output_type": "stream",
     "text": [
      "0.6842105263157895\n"
     ]
    },
    {
     "data": {
      "application/vnd.jupyter.widget-view+json": {
       "model_id": "0cc119e012ff4e0db7b698b66b0762e5",
       "version_major": 2,
       "version_minor": 0
      },
      "text/plain": [
       "  0%|          | 0/1 [00:00<?, ?it/s]"
      ]
     },
     "metadata": {},
     "output_type": "display_data"
    },
    {
     "data": {
      "application/vnd.jupyter.widget-view+json": {
       "model_id": "4c07955b0ded452293628d34a11420b1",
       "version_major": 2,
       "version_minor": 0
      },
      "text/plain": [
       "Running Simulation :   0%|          | 0/1900 [00:00<?, ?it/s]"
      ]
     },
     "metadata": {},
     "output_type": "display_data"
    },
    {
     "name": "stderr",
     "output_type": "stream",
     "text": [
      "2021-11-25 12:07:47,475:INFO:Accuracy: [0.7],\tvtraining:5,\tvtesting:0.1, \tdt: 0.01, \tnumDT:20\n",
      "\u001b[32m[I 2021-11-25 12:07:47,559]\u001b[0m Trial 157 finished with value: 0.7 and parameters: {'dt': 0, 'ampTraining': 3, 'ampTesting': 0}. Best is trial 58 with value: 1.0.\u001b[0m\n"
     ]
    },
    {
     "name": "stdout",
     "output_type": "stream",
     "text": [
      "0.7\n"
     ]
    },
    {
     "data": {
      "application/vnd.jupyter.widget-view+json": {
       "model_id": "d1a28075d6cf4730b73421dd54faee8f",
       "version_major": 2,
       "version_minor": 0
      },
      "text/plain": [
       "  0%|          | 0/1 [00:00<?, ?it/s]"
      ]
     },
     "metadata": {},
     "output_type": "display_data"
    },
    {
     "data": {
      "application/vnd.jupyter.widget-view+json": {
       "model_id": "35925e58361947a09d9ad032c933ae26",
       "version_major": 2,
       "version_minor": 0
      },
      "text/plain": [
       "Running Simulation :   0%|          | 0/1900 [00:00<?, ?it/s]"
      ]
     },
     "metadata": {},
     "output_type": "display_data"
    },
    {
     "name": "stderr",
     "output_type": "stream",
     "text": [
      "2021-11-25 12:07:53,806:INFO:Accuracy: [0.7894736842105263],\tvtraining:5,\tvtesting:0.3, \tdt: 0.01, \tnumDT:20\n",
      "\u001b[32m[I 2021-11-25 12:07:53,886]\u001b[0m Trial 158 finished with value: 0.7894736842105263 and parameters: {'dt': 0, 'ampTraining': 3, 'ampTesting': 2}. Best is trial 58 with value: 1.0.\u001b[0m\n"
     ]
    },
    {
     "name": "stdout",
     "output_type": "stream",
     "text": [
      "0.7894736842105263\n"
     ]
    },
    {
     "data": {
      "application/vnd.jupyter.widget-view+json": {
       "model_id": "eed8ac4a34d64bd2b314b75a0d179bde",
       "version_major": 2,
       "version_minor": 0
      },
      "text/plain": [
       "  0%|          | 0/1 [00:00<?, ?it/s]"
      ]
     },
     "metadata": {},
     "output_type": "display_data"
    },
    {
     "data": {
      "application/vnd.jupyter.widget-view+json": {
       "model_id": "1d14c91f024b46e6b3309ff65de6def7",
       "version_major": 2,
       "version_minor": 0
      },
      "text/plain": [
       "Running Simulation :   0%|          | 0/1900 [00:00<?, ?it/s]"
      ]
     },
     "metadata": {},
     "output_type": "display_data"
    },
    {
     "name": "stderr",
     "output_type": "stream",
     "text": [
      "2021-11-25 12:08:00,187:INFO:Accuracy: [0.7368421052631579],\tvtraining:5,\tvtesting:0.2, \tdt: 0.01, \tnumDT:20\n",
      "\u001b[32m[I 2021-11-25 12:08:00,268]\u001b[0m Trial 159 finished with value: 0.7368421052631579 and parameters: {'dt': 0, 'ampTraining': 3, 'ampTesting': 1}. Best is trial 58 with value: 1.0.\u001b[0m\n"
     ]
    },
    {
     "name": "stdout",
     "output_type": "stream",
     "text": [
      "0.7368421052631579\n"
     ]
    },
    {
     "data": {
      "application/vnd.jupyter.widget-view+json": {
       "model_id": "18c3739193f747728ce987042d9e28b4",
       "version_major": 2,
       "version_minor": 0
      },
      "text/plain": [
       "  0%|          | 0/1 [00:00<?, ?it/s]"
      ]
     },
     "metadata": {},
     "output_type": "display_data"
    },
    {
     "data": {
      "application/vnd.jupyter.widget-view+json": {
       "model_id": "c33b88ff226e4f088873bb4ad889840c",
       "version_major": 2,
       "version_minor": 0
      },
      "text/plain": [
       "Running Simulation :   0%|          | 0/1900 [00:00<?, ?it/s]"
      ]
     },
     "metadata": {},
     "output_type": "display_data"
    },
    {
     "name": "stderr",
     "output_type": "stream",
     "text": [
      "2021-11-25 12:08:06,555:INFO:Accuracy: [0.8421052631578947],\tvtraining:5,\tvtesting:0.2, \tdt: 0.01, \tnumDT:20\n",
      "\u001b[32m[I 2021-11-25 12:08:06,631]\u001b[0m Trial 160 finished with value: 0.8421052631578947 and parameters: {'dt': 0, 'ampTraining': 3, 'ampTesting': 1}. Best is trial 58 with value: 1.0.\u001b[0m\n"
     ]
    },
    {
     "name": "stdout",
     "output_type": "stream",
     "text": [
      "0.8421052631578947\n"
     ]
    },
    {
     "data": {
      "application/vnd.jupyter.widget-view+json": {
       "model_id": "8b5bf3a6fa2448e78ea560883b6e2cb4",
       "version_major": 2,
       "version_minor": 0
      },
      "text/plain": [
       "  0%|          | 0/1 [00:00<?, ?it/s]"
      ]
     },
     "metadata": {},
     "output_type": "display_data"
    },
    {
     "data": {
      "application/vnd.jupyter.widget-view+json": {
       "model_id": "1724baa31b8e4d65952be07e76948e59",
       "version_major": 2,
       "version_minor": 0
      },
      "text/plain": [
       "Running Simulation :   0%|          | 0/1900 [00:00<?, ?it/s]"
      ]
     },
     "metadata": {},
     "output_type": "display_data"
    },
    {
     "name": "stderr",
     "output_type": "stream",
     "text": [
      "2021-11-25 12:08:12,926:INFO:Accuracy: [0.7368421052631579],\tvtraining:5,\tvtesting:0.2, \tdt: 0.01, \tnumDT:20\n",
      "\u001b[32m[I 2021-11-25 12:08:13,009]\u001b[0m Trial 161 finished with value: 0.7368421052631579 and parameters: {'dt': 0, 'ampTraining': 3, 'ampTesting': 1}. Best is trial 58 with value: 1.0.\u001b[0m\n"
     ]
    },
    {
     "name": "stdout",
     "output_type": "stream",
     "text": [
      "0.7368421052631579\n"
     ]
    },
    {
     "data": {
      "application/vnd.jupyter.widget-view+json": {
       "model_id": "90cf4c61fb0a4255848156e270585856",
       "version_major": 2,
       "version_minor": 0
      },
      "text/plain": [
       "  0%|          | 0/1 [00:00<?, ?it/s]"
      ]
     },
     "metadata": {},
     "output_type": "display_data"
    },
    {
     "data": {
      "application/vnd.jupyter.widget-view+json": {
       "model_id": "164853c5c6c34959b9cccd5554f8bd46",
       "version_major": 2,
       "version_minor": 0
      },
      "text/plain": [
       "Running Simulation :   0%|          | 0/950 [00:00<?, ?it/s]"
      ]
     },
     "metadata": {},
     "output_type": "display_data"
    },
    {
     "name": "stderr",
     "output_type": "stream",
     "text": [
      "2021-11-25 12:08:16,276:INFO:Accuracy: [0.8157894736842105],\tvtraining:2,\tvtesting:0.2, \tdt: 0.02, \tnumDT:10\n",
      "\u001b[32m[I 2021-11-25 12:08:16,360]\u001b[0m Trial 162 finished with value: 0.8157894736842105 and parameters: {'dt': 1, 'ampTraining': 2, 'ampTesting': 1}. Best is trial 58 with value: 1.0.\u001b[0m\n"
     ]
    },
    {
     "name": "stdout",
     "output_type": "stream",
     "text": [
      "0.8157894736842105\n"
     ]
    },
    {
     "data": {
      "application/vnd.jupyter.widget-view+json": {
       "model_id": "045a2f2f61814cd7abe8370ace8b3c8f",
       "version_major": 2,
       "version_minor": 0
      },
      "text/plain": [
       "  0%|          | 0/1 [00:00<?, ?it/s]"
      ]
     },
     "metadata": {},
     "output_type": "display_data"
    },
    {
     "data": {
      "application/vnd.jupyter.widget-view+json": {
       "model_id": "2b0bc94eff474b3da58f07da93947ebf",
       "version_major": 2,
       "version_minor": 0
      },
      "text/plain": [
       "Running Simulation :   0%|          | 0/1900 [00:00<?, ?it/s]"
      ]
     },
     "metadata": {},
     "output_type": "display_data"
    },
    {
     "name": "stderr",
     "output_type": "stream",
     "text": [
      "2021-11-25 12:08:22,659:INFO:Accuracy: [0.9473684210526315],\tvtraining:5,\tvtesting:0.2, \tdt: 0.01, \tnumDT:20\n",
      "\u001b[32m[I 2021-11-25 12:08:22,739]\u001b[0m Trial 163 finished with value: 0.9473684210526315 and parameters: {'dt': 0, 'ampTraining': 3, 'ampTesting': 1}. Best is trial 58 with value: 1.0.\u001b[0m\n"
     ]
    },
    {
     "name": "stdout",
     "output_type": "stream",
     "text": [
      "0.9473684210526315\n"
     ]
    },
    {
     "data": {
      "application/vnd.jupyter.widget-view+json": {
       "model_id": "372c0c61294a4f13b03f115cb36e20b7",
       "version_major": 2,
       "version_minor": 0
      },
      "text/plain": [
       "  0%|          | 0/1 [00:00<?, ?it/s]"
      ]
     },
     "metadata": {},
     "output_type": "display_data"
    },
    {
     "data": {
      "application/vnd.jupyter.widget-view+json": {
       "model_id": "26b004fc35cf40aaa214014df58cd24a",
       "version_major": 2,
       "version_minor": 0
      },
      "text/plain": [
       "Running Simulation :   0%|          | 0/1900 [00:00<?, ?it/s]"
      ]
     },
     "metadata": {},
     "output_type": "display_data"
    },
    {
     "name": "stderr",
     "output_type": "stream",
     "text": [
      "2021-11-25 12:08:29,027:INFO:Accuracy: [0.7894736842105263],\tvtraining:5,\tvtesting:0.2, \tdt: 0.01, \tnumDT:20\n",
      "\u001b[32m[I 2021-11-25 12:08:29,107]\u001b[0m Trial 164 finished with value: 0.7894736842105263 and parameters: {'dt': 0, 'ampTraining': 3, 'ampTesting': 1}. Best is trial 58 with value: 1.0.\u001b[0m\n"
     ]
    },
    {
     "name": "stdout",
     "output_type": "stream",
     "text": [
      "0.7894736842105263\n"
     ]
    },
    {
     "data": {
      "application/vnd.jupyter.widget-view+json": {
       "model_id": "dff46a5ba9624a35a4a48ff42363bb35",
       "version_major": 2,
       "version_minor": 0
      },
      "text/plain": [
       "  0%|          | 0/1 [00:00<?, ?it/s]"
      ]
     },
     "metadata": {},
     "output_type": "display_data"
    },
    {
     "data": {
      "application/vnd.jupyter.widget-view+json": {
       "model_id": "38ab72dc392549558be523c6a2c7e44a",
       "version_major": 2,
       "version_minor": 0
      },
      "text/plain": [
       "Running Simulation :   0%|          | 0/1900 [00:00<?, ?it/s]"
      ]
     },
     "metadata": {},
     "output_type": "display_data"
    },
    {
     "name": "stderr",
     "output_type": "stream",
     "text": [
      "2021-11-25 12:08:35,400:INFO:Accuracy: [0.6842105263157895],\tvtraining:5,\tvtesting:0.2, \tdt: 0.01, \tnumDT:20\n",
      "\u001b[32m[I 2021-11-25 12:08:35,476]\u001b[0m Trial 165 finished with value: 0.6842105263157895 and parameters: {'dt': 0, 'ampTraining': 3, 'ampTesting': 1}. Best is trial 58 with value: 1.0.\u001b[0m\n"
     ]
    },
    {
     "name": "stdout",
     "output_type": "stream",
     "text": [
      "0.6842105263157895\n"
     ]
    },
    {
     "data": {
      "application/vnd.jupyter.widget-view+json": {
       "model_id": "355f7e753a2a4a9e96f9b45ee216bd6d",
       "version_major": 2,
       "version_minor": 0
      },
      "text/plain": [
       "  0%|          | 0/1 [00:00<?, ?it/s]"
      ]
     },
     "metadata": {},
     "output_type": "display_data"
    },
    {
     "data": {
      "application/vnd.jupyter.widget-view+json": {
       "model_id": "2c4bd431672b4b9898c6295a9dc78545",
       "version_major": 2,
       "version_minor": 0
      },
      "text/plain": [
       "Running Simulation :   0%|          | 0/1900 [00:00<?, ?it/s]"
      ]
     },
     "metadata": {},
     "output_type": "display_data"
    },
    {
     "name": "stderr",
     "output_type": "stream",
     "text": [
      "2021-11-25 12:08:41,759:INFO:Accuracy: [0.8473684210526315],\tvtraining:5,\tvtesting:0.1, \tdt: 0.01, \tnumDT:20\n",
      "\u001b[32m[I 2021-11-25 12:08:41,839]\u001b[0m Trial 166 finished with value: 0.8473684210526315 and parameters: {'dt': 0, 'ampTraining': 3, 'ampTesting': 0}. Best is trial 58 with value: 1.0.\u001b[0m\n"
     ]
    },
    {
     "name": "stdout",
     "output_type": "stream",
     "text": [
      "0.8473684210526315\n"
     ]
    },
    {
     "data": {
      "application/vnd.jupyter.widget-view+json": {
       "model_id": "f84fe3cc19154152b3ae3d30d9dcf9f2",
       "version_major": 2,
       "version_minor": 0
      },
      "text/plain": [
       "  0%|          | 0/1 [00:00<?, ?it/s]"
      ]
     },
     "metadata": {},
     "output_type": "display_data"
    },
    {
     "data": {
      "application/vnd.jupyter.widget-view+json": {
       "model_id": "c800b941cf1849ceadd1dc4e359de167",
       "version_major": 2,
       "version_minor": 0
      },
      "text/plain": [
       "Running Simulation :   0%|          | 0/1900 [00:00<?, ?it/s]"
      ]
     },
     "metadata": {},
     "output_type": "display_data"
    },
    {
     "name": "stderr",
     "output_type": "stream",
     "text": [
      "2021-11-25 12:08:48,116:INFO:Accuracy: [0.8421052631578947],\tvtraining:5,\tvtesting:0.2, \tdt: 0.01, \tnumDT:20\n",
      "\u001b[32m[I 2021-11-25 12:08:48,208]\u001b[0m Trial 167 finished with value: 0.8421052631578947 and parameters: {'dt': 0, 'ampTraining': 3, 'ampTesting': 1}. Best is trial 58 with value: 1.0.\u001b[0m\n"
     ]
    },
    {
     "name": "stdout",
     "output_type": "stream",
     "text": [
      "0.8421052631578947\n"
     ]
    },
    {
     "data": {
      "application/vnd.jupyter.widget-view+json": {
       "model_id": "05ecdbbe5c7549b29fa2d5ee365cfa5c",
       "version_major": 2,
       "version_minor": 0
      },
      "text/plain": [
       "  0%|          | 0/1 [00:00<?, ?it/s]"
      ]
     },
     "metadata": {},
     "output_type": "display_data"
    },
    {
     "data": {
      "application/vnd.jupyter.widget-view+json": {
       "model_id": "5d9e69cbfe9049268e818367a4127f87",
       "version_major": 2,
       "version_minor": 0
      },
      "text/plain": [
       "Running Simulation :   0%|          | 0/1900 [00:00<?, ?it/s]"
      ]
     },
     "metadata": {},
     "output_type": "display_data"
    },
    {
     "name": "stderr",
     "output_type": "stream",
     "text": [
      "2021-11-25 12:08:54,689:INFO:Accuracy: [0.8421052631578947],\tvtraining:5,\tvtesting:0.2, \tdt: 0.01, \tnumDT:20\n",
      "\u001b[32m[I 2021-11-25 12:08:54,783]\u001b[0m Trial 168 finished with value: 0.8421052631578947 and parameters: {'dt': 0, 'ampTraining': 3, 'ampTesting': 1}. Best is trial 58 with value: 1.0.\u001b[0m\n"
     ]
    },
    {
     "name": "stdout",
     "output_type": "stream",
     "text": [
      "0.8421052631578947\n"
     ]
    },
    {
     "data": {
      "application/vnd.jupyter.widget-view+json": {
       "model_id": "f20a5a0f7ad74befa9956299a23c75ac",
       "version_major": 2,
       "version_minor": 0
      },
      "text/plain": [
       "  0%|          | 0/1 [00:00<?, ?it/s]"
      ]
     },
     "metadata": {},
     "output_type": "display_data"
    },
    {
     "data": {
      "application/vnd.jupyter.widget-view+json": {
       "model_id": "363cbb62846f4d6b9368752ec1076360",
       "version_major": 2,
       "version_minor": 0
      },
      "text/plain": [
       "Running Simulation :   0%|          | 0/190 [00:00<?, ?it/s]"
      ]
     },
     "metadata": {},
     "output_type": "display_data"
    },
    {
     "name": "stderr",
     "output_type": "stream",
     "text": [
      "2021-11-25 12:08:55,623:INFO:Accuracy: [0.631578947368421],\tvtraining:5,\tvtesting:0.2, \tdt: 0.1, \tnumDT:2\n",
      "\u001b[32m[I 2021-11-25 12:08:55,718]\u001b[0m Trial 169 finished with value: 0.631578947368421 and parameters: {'dt': 3, 'ampTraining': 3, 'ampTesting': 1}. Best is trial 58 with value: 1.0.\u001b[0m\n"
     ]
    },
    {
     "name": "stdout",
     "output_type": "stream",
     "text": [
      "0.631578947368421\n"
     ]
    },
    {
     "data": {
      "application/vnd.jupyter.widget-view+json": {
       "model_id": "4a837777d75e4537bbc4578ed820fca8",
       "version_major": 2,
       "version_minor": 0
      },
      "text/plain": [
       "  0%|          | 0/1 [00:00<?, ?it/s]"
      ]
     },
     "metadata": {},
     "output_type": "display_data"
    },
    {
     "data": {
      "application/vnd.jupyter.widget-view+json": {
       "model_id": "5c2abf3a34a3491b9dc1504f5b42b292",
       "version_major": 2,
       "version_minor": 0
      },
      "text/plain": [
       "Running Simulation :   0%|          | 0/1900 [00:00<?, ?it/s]"
      ]
     },
     "metadata": {},
     "output_type": "display_data"
    },
    {
     "name": "stderr",
     "output_type": "stream",
     "text": [
      "2021-11-25 12:09:02,137:INFO:Accuracy: [0.718421052631579],\tvtraining:5,\tvtesting:0.1, \tdt: 0.01, \tnumDT:20\n",
      "\u001b[32m[I 2021-11-25 12:09:02,229]\u001b[0m Trial 170 finished with value: 0.718421052631579 and parameters: {'dt': 0, 'ampTraining': 3, 'ampTesting': 0}. Best is trial 58 with value: 1.0.\u001b[0m\n"
     ]
    },
    {
     "name": "stdout",
     "output_type": "stream",
     "text": [
      "0.718421052631579\n"
     ]
    },
    {
     "data": {
      "application/vnd.jupyter.widget-view+json": {
       "model_id": "a5caf9216bef4e1da2c23b92edfe8950",
       "version_major": 2,
       "version_minor": 0
      },
      "text/plain": [
       "  0%|          | 0/1 [00:00<?, ?it/s]"
      ]
     },
     "metadata": {},
     "output_type": "display_data"
    },
    {
     "data": {
      "application/vnd.jupyter.widget-view+json": {
       "model_id": "8a69367e73944f20b1d1dd1ddfb1824c",
       "version_major": 2,
       "version_minor": 0
      },
      "text/plain": [
       "Running Simulation :   0%|          | 0/380 [00:00<?, ?it/s]"
      ]
     },
     "metadata": {},
     "output_type": "display_data"
    },
    {
     "name": "stderr",
     "output_type": "stream",
     "text": [
      "2021-11-25 12:09:03,677:INFO:Accuracy: [0.7631578947368421],\tvtraining:5,\tvtesting:0.2, \tdt: 0.05, \tnumDT:4\n",
      "\u001b[32m[I 2021-11-25 12:09:03,773]\u001b[0m Trial 171 finished with value: 0.7631578947368421 and parameters: {'dt': 2, 'ampTraining': 3, 'ampTesting': 1}. Best is trial 58 with value: 1.0.\u001b[0m\n"
     ]
    },
    {
     "name": "stdout",
     "output_type": "stream",
     "text": [
      "0.7631578947368421\n"
     ]
    },
    {
     "data": {
      "application/vnd.jupyter.widget-view+json": {
       "model_id": "87f12425afe74f7088e6e6e0159d5c97",
       "version_major": 2,
       "version_minor": 0
      },
      "text/plain": [
       "  0%|          | 0/1 [00:00<?, ?it/s]"
      ]
     },
     "metadata": {},
     "output_type": "display_data"
    },
    {
     "data": {
      "application/vnd.jupyter.widget-view+json": {
       "model_id": "49e8aefa88c64cc1a191379f9cbcf376",
       "version_major": 2,
       "version_minor": 0
      },
      "text/plain": [
       "Running Simulation :   0%|          | 0/1900 [00:00<?, ?it/s]"
      ]
     },
     "metadata": {},
     "output_type": "display_data"
    },
    {
     "name": "stderr",
     "output_type": "stream",
     "text": [
      "2021-11-25 12:09:10,219:INFO:Accuracy: [0.8421052631578947],\tvtraining:5,\tvtesting:0.2, \tdt: 0.01, \tnumDT:20\n",
      "\u001b[32m[I 2021-11-25 12:09:10,313]\u001b[0m Trial 172 finished with value: 0.8421052631578947 and parameters: {'dt': 0, 'ampTraining': 3, 'ampTesting': 1}. Best is trial 58 with value: 1.0.\u001b[0m\n"
     ]
    },
    {
     "name": "stdout",
     "output_type": "stream",
     "text": [
      "0.8421052631578947\n"
     ]
    },
    {
     "data": {
      "application/vnd.jupyter.widget-view+json": {
       "model_id": "6734094c718f4b599019dfe6d0f250c9",
       "version_major": 2,
       "version_minor": 0
      },
      "text/plain": [
       "  0%|          | 0/1 [00:00<?, ?it/s]"
      ]
     },
     "metadata": {},
     "output_type": "display_data"
    },
    {
     "data": {
      "application/vnd.jupyter.widget-view+json": {
       "model_id": "d408758864d94083bb6fe6c059def7d4",
       "version_major": 2,
       "version_minor": 0
      },
      "text/plain": [
       "Running Simulation :   0%|          | 0/1900 [00:00<?, ?it/s]"
      ]
     },
     "metadata": {},
     "output_type": "display_data"
    },
    {
     "name": "stderr",
     "output_type": "stream",
     "text": [
      "2021-11-25 12:09:16,755:INFO:Accuracy: [0.5789473684210527],\tvtraining:5,\tvtesting:0.2, \tdt: 0.01, \tnumDT:20\n",
      "\u001b[32m[I 2021-11-25 12:09:16,848]\u001b[0m Trial 173 finished with value: 0.5789473684210527 and parameters: {'dt': 0, 'ampTraining': 3, 'ampTesting': 1}. Best is trial 58 with value: 1.0.\u001b[0m\n"
     ]
    },
    {
     "name": "stdout",
     "output_type": "stream",
     "text": [
      "0.5789473684210527\n"
     ]
    },
    {
     "data": {
      "application/vnd.jupyter.widget-view+json": {
       "model_id": "a60535c0d8ef4a449462bf0bc48b9bd8",
       "version_major": 2,
       "version_minor": 0
      },
      "text/plain": [
       "  0%|          | 0/1 [00:00<?, ?it/s]"
      ]
     },
     "metadata": {},
     "output_type": "display_data"
    },
    {
     "data": {
      "application/vnd.jupyter.widget-view+json": {
       "model_id": "60516f1c6d474f648bdfaa7883003a97",
       "version_major": 2,
       "version_minor": 0
      },
      "text/plain": [
       "Running Simulation :   0%|          | 0/1900 [00:00<?, ?it/s]"
      ]
     },
     "metadata": {},
     "output_type": "display_data"
    },
    {
     "name": "stderr",
     "output_type": "stream",
     "text": [
      "2021-11-25 12:09:23,258:INFO:Accuracy: [0.7894736842105263],\tvtraining:5,\tvtesting:0.1, \tdt: 0.01, \tnumDT:20\n",
      "\u001b[32m[I 2021-11-25 12:09:23,356]\u001b[0m Trial 174 finished with value: 0.7894736842105263 and parameters: {'dt': 0, 'ampTraining': 3, 'ampTesting': 0}. Best is trial 58 with value: 1.0.\u001b[0m\n"
     ]
    },
    {
     "name": "stdout",
     "output_type": "stream",
     "text": [
      "0.7894736842105263\n"
     ]
    },
    {
     "data": {
      "application/vnd.jupyter.widget-view+json": {
       "model_id": "239474d6f729489a9716c44278ca0d5f",
       "version_major": 2,
       "version_minor": 0
      },
      "text/plain": [
       "  0%|          | 0/1 [00:00<?, ?it/s]"
      ]
     },
     "metadata": {},
     "output_type": "display_data"
    },
    {
     "data": {
      "application/vnd.jupyter.widget-view+json": {
       "model_id": "0f53361192eb4938b6438f3e091b5aab",
       "version_major": 2,
       "version_minor": 0
      },
      "text/plain": [
       "Running Simulation :   0%|          | 0/1900 [00:00<?, ?it/s]"
      ]
     },
     "metadata": {},
     "output_type": "display_data"
    },
    {
     "name": "stderr",
     "output_type": "stream",
     "text": [
      "2021-11-25 12:09:29,780:INFO:Accuracy: [0.7973684210526316],\tvtraining:5,\tvtesting:0.2, \tdt: 0.01, \tnumDT:20\n",
      "\u001b[32m[I 2021-11-25 12:09:29,873]\u001b[0m Trial 175 finished with value: 0.7973684210526316 and parameters: {'dt': 0, 'ampTraining': 3, 'ampTesting': 1}. Best is trial 58 with value: 1.0.\u001b[0m\n"
     ]
    },
    {
     "name": "stdout",
     "output_type": "stream",
     "text": [
      "0.7973684210526316\n"
     ]
    },
    {
     "data": {
      "application/vnd.jupyter.widget-view+json": {
       "model_id": "950ebc482c8d4ad8a614c82a082a2dae",
       "version_major": 2,
       "version_minor": 0
      },
      "text/plain": [
       "  0%|          | 0/1 [00:00<?, ?it/s]"
      ]
     },
     "metadata": {},
     "output_type": "display_data"
    },
    {
     "data": {
      "application/vnd.jupyter.widget-view+json": {
       "model_id": "aad96110af3c4bbfbb45aa038ec31aed",
       "version_major": 2,
       "version_minor": 0
      },
      "text/plain": [
       "Running Simulation :   0%|          | 0/1900 [00:00<?, ?it/s]"
      ]
     },
     "metadata": {},
     "output_type": "display_data"
    },
    {
     "name": "stderr",
     "output_type": "stream",
     "text": [
      "2021-11-25 12:09:36,288:INFO:Accuracy: [0.8947368421052632],\tvtraining:5,\tvtesting:0.2, \tdt: 0.01, \tnumDT:20\n",
      "\u001b[32m[I 2021-11-25 12:09:36,388]\u001b[0m Trial 176 finished with value: 0.8947368421052632 and parameters: {'dt': 0, 'ampTraining': 3, 'ampTesting': 1}. Best is trial 58 with value: 1.0.\u001b[0m\n"
     ]
    },
    {
     "name": "stdout",
     "output_type": "stream",
     "text": [
      "0.8947368421052632\n"
     ]
    },
    {
     "data": {
      "application/vnd.jupyter.widget-view+json": {
       "model_id": "e6894088bb2f45b2a10ee55667b2438e",
       "version_major": 2,
       "version_minor": 0
      },
      "text/plain": [
       "  0%|          | 0/1 [00:00<?, ?it/s]"
      ]
     },
     "metadata": {},
     "output_type": "display_data"
    },
    {
     "data": {
      "application/vnd.jupyter.widget-view+json": {
       "model_id": "87f84d92e39f46dfab892fe645d3dfa7",
       "version_major": 2,
       "version_minor": 0
      },
      "text/plain": [
       "Running Simulation :   0%|          | 0/1900 [00:00<?, ?it/s]"
      ]
     },
     "metadata": {},
     "output_type": "display_data"
    },
    {
     "name": "stderr",
     "output_type": "stream",
     "text": [
      "2021-11-25 12:09:42,828:INFO:Accuracy: [0.8421052631578947],\tvtraining:5,\tvtesting:0.2, \tdt: 0.01, \tnumDT:20\n",
      "\u001b[32m[I 2021-11-25 12:09:42,927]\u001b[0m Trial 177 finished with value: 0.8421052631578947 and parameters: {'dt': 0, 'ampTraining': 3, 'ampTesting': 1}. Best is trial 58 with value: 1.0.\u001b[0m\n"
     ]
    },
    {
     "name": "stdout",
     "output_type": "stream",
     "text": [
      "0.8421052631578947\n"
     ]
    },
    {
     "data": {
      "application/vnd.jupyter.widget-view+json": {
       "model_id": "13439bd3ce9a41198fd256f1a369c0ed",
       "version_major": 2,
       "version_minor": 0
      },
      "text/plain": [
       "  0%|          | 0/1 [00:00<?, ?it/s]"
      ]
     },
     "metadata": {},
     "output_type": "display_data"
    },
    {
     "data": {
      "application/vnd.jupyter.widget-view+json": {
       "model_id": "2344d3eee38749a8a5d06f1956c59096",
       "version_major": 2,
       "version_minor": 0
      },
      "text/plain": [
       "Running Simulation :   0%|          | 0/1900 [00:00<?, ?it/s]"
      ]
     },
     "metadata": {},
     "output_type": "display_data"
    },
    {
     "name": "stderr",
     "output_type": "stream",
     "text": [
      "2021-11-25 12:09:49,340:INFO:Accuracy: [0.8947368421052632],\tvtraining:5,\tvtesting:0.2, \tdt: 0.01, \tnumDT:20\n",
      "\u001b[32m[I 2021-11-25 12:09:49,439]\u001b[0m Trial 178 finished with value: 0.8947368421052632 and parameters: {'dt': 0, 'ampTraining': 3, 'ampTesting': 1}. Best is trial 58 with value: 1.0.\u001b[0m\n"
     ]
    },
    {
     "name": "stdout",
     "output_type": "stream",
     "text": [
      "0.8947368421052632\n"
     ]
    },
    {
     "data": {
      "application/vnd.jupyter.widget-view+json": {
       "model_id": "3ee4d83d871f48bda489e3bab113d5f8",
       "version_major": 2,
       "version_minor": 0
      },
      "text/plain": [
       "  0%|          | 0/1 [00:00<?, ?it/s]"
      ]
     },
     "metadata": {},
     "output_type": "display_data"
    },
    {
     "data": {
      "application/vnd.jupyter.widget-view+json": {
       "model_id": "2cabd648358840ab928076e1965b3aab",
       "version_major": 2,
       "version_minor": 0
      },
      "text/plain": [
       "Running Simulation :   0%|          | 0/1900 [00:00<?, ?it/s]"
      ]
     },
     "metadata": {},
     "output_type": "display_data"
    },
    {
     "name": "stderr",
     "output_type": "stream",
     "text": [
      "2021-11-25 12:09:55,854:INFO:Accuracy: [0.7368421052631579],\tvtraining:5,\tvtesting:0.2, \tdt: 0.01, \tnumDT:20\n",
      "\u001b[32m[I 2021-11-25 12:09:55,954]\u001b[0m Trial 179 finished with value: 0.7368421052631579 and parameters: {'dt': 0, 'ampTraining': 3, 'ampTesting': 1}. Best is trial 58 with value: 1.0.\u001b[0m\n"
     ]
    },
    {
     "name": "stdout",
     "output_type": "stream",
     "text": [
      "0.7368421052631579\n"
     ]
    },
    {
     "data": {
      "application/vnd.jupyter.widget-view+json": {
       "model_id": "d3e35f8757874bbbb6e24af65ae5fb76",
       "version_major": 2,
       "version_minor": 0
      },
      "text/plain": [
       "  0%|          | 0/1 [00:00<?, ?it/s]"
      ]
     },
     "metadata": {},
     "output_type": "display_data"
    },
    {
     "data": {
      "application/vnd.jupyter.widget-view+json": {
       "model_id": "625bbf68176b4e939b43637f0dcd373a",
       "version_major": 2,
       "version_minor": 0
      },
      "text/plain": [
       "Running Simulation :   0%|          | 0/1900 [00:00<?, ?it/s]"
      ]
     },
     "metadata": {},
     "output_type": "display_data"
    },
    {
     "name": "stderr",
     "output_type": "stream",
     "text": [
      "2021-11-25 12:10:02,369:INFO:Accuracy: [0.6842105263157895],\tvtraining:5,\tvtesting:0.1, \tdt: 0.01, \tnumDT:20\n"
     ]
    },
    {
     "name": "stdout",
     "output_type": "stream",
     "text": [
      "0.6842105263157895\n"
     ]
    },
    {
     "name": "stderr",
     "output_type": "stream",
     "text": [
      "\u001b[32m[I 2021-11-25 12:10:03,051]\u001b[0m Trial 180 finished with value: 0.6842105263157895 and parameters: {'dt': 0, 'ampTraining': 3, 'ampTesting': 0}. Best is trial 58 with value: 1.0.\u001b[0m\n"
     ]
    },
    {
     "data": {
      "application/vnd.jupyter.widget-view+json": {
       "model_id": "37792800b06c48989b42fb2f430f8388",
       "version_major": 2,
       "version_minor": 0
      },
      "text/plain": [
       "  0%|          | 0/1 [00:00<?, ?it/s]"
      ]
     },
     "metadata": {},
     "output_type": "display_data"
    },
    {
     "data": {
      "application/vnd.jupyter.widget-view+json": {
       "model_id": "6f6e15336e6847688d7a18e1b8a0ba19",
       "version_major": 2,
       "version_minor": 0
      },
      "text/plain": [
       "Running Simulation :   0%|          | 0/950 [00:00<?, ?it/s]"
      ]
     },
     "metadata": {},
     "output_type": "display_data"
    },
    {
     "name": "stderr",
     "output_type": "stream",
     "text": [
      "2021-11-25 12:10:06,462:INFO:Accuracy: [0.8947368421052632],\tvtraining:5,\tvtesting:0.2, \tdt: 0.02, \tnumDT:10\n"
     ]
    },
    {
     "name": "stdout",
     "output_type": "stream",
     "text": [
      "0.8947368421052632\n"
     ]
    },
    {
     "name": "stderr",
     "output_type": "stream",
     "text": [
      "\u001b[32m[I 2021-11-25 12:10:07,081]\u001b[0m Trial 181 finished with value: 0.8947368421052632 and parameters: {'dt': 1, 'ampTraining': 3, 'ampTesting': 1}. Best is trial 58 with value: 1.0.\u001b[0m\n"
     ]
    },
    {
     "data": {
      "application/vnd.jupyter.widget-view+json": {
       "model_id": "e117c2baff3b40e3a0c00574738f75eb",
       "version_major": 2,
       "version_minor": 0
      },
      "text/plain": [
       "  0%|          | 0/1 [00:00<?, ?it/s]"
      ]
     },
     "metadata": {},
     "output_type": "display_data"
    },
    {
     "data": {
      "application/vnd.jupyter.widget-view+json": {
       "model_id": "599aa89e0347455fbaa3de228f69a938",
       "version_major": 2,
       "version_minor": 0
      },
      "text/plain": [
       "Running Simulation :   0%|          | 0/380 [00:00<?, ?it/s]"
      ]
     },
     "metadata": {},
     "output_type": "display_data"
    },
    {
     "name": "stderr",
     "output_type": "stream",
     "text": [
      "2021-11-25 12:10:08,550:INFO:Accuracy: [0.7105263157894737],\tvtraining:2,\tvtesting:0.2, \tdt: 0.05, \tnumDT:4\n"
     ]
    },
    {
     "name": "stdout",
     "output_type": "stream",
     "text": [
      "0.7105263157894737\n"
     ]
    },
    {
     "name": "stderr",
     "output_type": "stream",
     "text": [
      "\u001b[32m[I 2021-11-25 12:10:08,789]\u001b[0m Trial 182 finished with value: 0.7105263157894737 and parameters: {'dt': 2, 'ampTraining': 2, 'ampTesting': 1}. Best is trial 58 with value: 1.0.\u001b[0m\n"
     ]
    },
    {
     "data": {
      "application/vnd.jupyter.widget-view+json": {
       "model_id": "9817615c270d4780ab7009eef90e16b9",
       "version_major": 2,
       "version_minor": 0
      },
      "text/plain": [
       "  0%|          | 0/1 [00:00<?, ?it/s]"
      ]
     },
     "metadata": {},
     "output_type": "display_data"
    },
    {
     "data": {
      "application/vnd.jupyter.widget-view+json": {
       "model_id": "792652a898c544dc9e185f5333160d83",
       "version_major": 2,
       "version_minor": 0
      },
      "text/plain": [
       "Running Simulation :   0%|          | 0/950 [00:00<?, ?it/s]"
      ]
     },
     "metadata": {},
     "output_type": "display_data"
    },
    {
     "name": "stderr",
     "output_type": "stream",
     "text": [
      "2021-11-25 12:10:12,158:INFO:Accuracy: [0.7631578947368421],\tvtraining:5,\tvtesting:0.2, \tdt: 0.02, \tnumDT:10\n",
      "\u001b[32m[I 2021-11-25 12:10:12,258]\u001b[0m Trial 183 finished with value: 0.7631578947368421 and parameters: {'dt': 1, 'ampTraining': 3, 'ampTesting': 1}. Best is trial 58 with value: 1.0.\u001b[0m\n"
     ]
    },
    {
     "name": "stdout",
     "output_type": "stream",
     "text": [
      "0.7631578947368421\n"
     ]
    },
    {
     "data": {
      "application/vnd.jupyter.widget-view+json": {
       "model_id": "70edffcad2de425a824a0097a4533677",
       "version_major": 2,
       "version_minor": 0
      },
      "text/plain": [
       "  0%|          | 0/1 [00:00<?, ?it/s]"
      ]
     },
     "metadata": {},
     "output_type": "display_data"
    },
    {
     "data": {
      "application/vnd.jupyter.widget-view+json": {
       "model_id": "710721ae8b0744ca8cdb1a983c020b1c",
       "version_major": 2,
       "version_minor": 0
      },
      "text/plain": [
       "Running Simulation :   0%|          | 0/1900 [00:00<?, ?it/s]"
      ]
     },
     "metadata": {},
     "output_type": "display_data"
    },
    {
     "name": "stderr",
     "output_type": "stream",
     "text": [
      "2021-11-25 12:10:18,642:INFO:Accuracy: [0.7368421052631579],\tvtraining:1,\tvtesting:0.2, \tdt: 0.01, \tnumDT:20\n",
      "\u001b[32m[I 2021-11-25 12:10:18,739]\u001b[0m Trial 184 finished with value: 0.7368421052631579 and parameters: {'dt': 0, 'ampTraining': 1, 'ampTesting': 1}. Best is trial 58 with value: 1.0.\u001b[0m\n"
     ]
    },
    {
     "name": "stdout",
     "output_type": "stream",
     "text": [
      "0.7368421052631579\n"
     ]
    },
    {
     "data": {
      "application/vnd.jupyter.widget-view+json": {
       "model_id": "ff941bc30f814247b0636dad6e55fa52",
       "version_major": 2,
       "version_minor": 0
      },
      "text/plain": [
       "  0%|          | 0/1 [00:00<?, ?it/s]"
      ]
     },
     "metadata": {},
     "output_type": "display_data"
    },
    {
     "data": {
      "application/vnd.jupyter.widget-view+json": {
       "model_id": "78f025de27fe46579b4cf94b7cc979e9",
       "version_major": 2,
       "version_minor": 0
      },
      "text/plain": [
       "Running Simulation :   0%|          | 0/1900 [00:00<?, ?it/s]"
      ]
     },
     "metadata": {},
     "output_type": "display_data"
    },
    {
     "name": "stderr",
     "output_type": "stream",
     "text": [
      "2021-11-25 12:10:25,136:INFO:Accuracy: [0.7526315789473684],\tvtraining:5,\tvtesting:0.2, \tdt: 0.01, \tnumDT:20\n",
      "\u001b[32m[I 2021-11-25 12:10:25,229]\u001b[0m Trial 185 finished with value: 0.7526315789473684 and parameters: {'dt': 0, 'ampTraining': 3, 'ampTesting': 1}. Best is trial 58 with value: 1.0.\u001b[0m\n"
     ]
    },
    {
     "name": "stdout",
     "output_type": "stream",
     "text": [
      "0.7526315789473684\n"
     ]
    },
    {
     "data": {
      "application/vnd.jupyter.widget-view+json": {
       "model_id": "c17dfa31492b495e8c1e5c1299c6b002",
       "version_major": 2,
       "version_minor": 0
      },
      "text/plain": [
       "  0%|          | 0/1 [00:00<?, ?it/s]"
      ]
     },
     "metadata": {},
     "output_type": "display_data"
    },
    {
     "data": {
      "application/vnd.jupyter.widget-view+json": {
       "model_id": "5784430c5d454c2899ce32673e6fd10f",
       "version_major": 2,
       "version_minor": 0
      },
      "text/plain": [
       "Running Simulation :   0%|          | 0/1900 [00:00<?, ?it/s]"
      ]
     },
     "metadata": {},
     "output_type": "display_data"
    },
    {
     "name": "stderr",
     "output_type": "stream",
     "text": [
      "2021-11-25 12:10:31,645:INFO:Accuracy: [0.6657894736842105],\tvtraining:5,\tvtesting:0.2, \tdt: 0.01, \tnumDT:20\n",
      "\u001b[32m[I 2021-11-25 12:10:31,744]\u001b[0m Trial 186 finished with value: 0.6657894736842105 and parameters: {'dt': 0, 'ampTraining': 3, 'ampTesting': 1}. Best is trial 58 with value: 1.0.\u001b[0m\n"
     ]
    },
    {
     "name": "stdout",
     "output_type": "stream",
     "text": [
      "0.6657894736842105\n"
     ]
    },
    {
     "data": {
      "application/vnd.jupyter.widget-view+json": {
       "model_id": "f92cefdd88dd4a1f87363055dcf0c6e3",
       "version_major": 2,
       "version_minor": 0
      },
      "text/plain": [
       "  0%|          | 0/1 [00:00<?, ?it/s]"
      ]
     },
     "metadata": {},
     "output_type": "display_data"
    },
    {
     "data": {
      "application/vnd.jupyter.widget-view+json": {
       "model_id": "6909bf209e4f41da9bc5940ea2003d99",
       "version_major": 2,
       "version_minor": 0
      },
      "text/plain": [
       "Running Simulation :   0%|          | 0/1900 [00:00<?, ?it/s]"
      ]
     },
     "metadata": {},
     "output_type": "display_data"
    },
    {
     "name": "stderr",
     "output_type": "stream",
     "text": [
      "2021-11-25 12:10:38,131:INFO:Accuracy: [0.7368421052631579],\tvtraining:5,\tvtesting:0.2, \tdt: 0.01, \tnumDT:20\n",
      "\u001b[32m[I 2021-11-25 12:10:38,230]\u001b[0m Trial 187 finished with value: 0.7368421052631579 and parameters: {'dt': 0, 'ampTraining': 3, 'ampTesting': 1}. Best is trial 58 with value: 1.0.\u001b[0m\n"
     ]
    },
    {
     "name": "stdout",
     "output_type": "stream",
     "text": [
      "0.7368421052631579\n"
     ]
    },
    {
     "data": {
      "application/vnd.jupyter.widget-view+json": {
       "model_id": "cf2b2cd3920749b1b2475d4858b2999c",
       "version_major": 2,
       "version_minor": 0
      },
      "text/plain": [
       "  0%|          | 0/1 [00:00<?, ?it/s]"
      ]
     },
     "metadata": {},
     "output_type": "display_data"
    },
    {
     "data": {
      "application/vnd.jupyter.widget-view+json": {
       "model_id": "f73da63eeeed466d859e0904ce6dacac",
       "version_major": 2,
       "version_minor": 0
      },
      "text/plain": [
       "Running Simulation :   0%|          | 0/1900 [00:00<?, ?it/s]"
      ]
     },
     "metadata": {},
     "output_type": "display_data"
    },
    {
     "name": "stderr",
     "output_type": "stream",
     "text": [
      "2021-11-25 12:10:44,597:INFO:Accuracy: [0.8421052631578947],\tvtraining:5,\tvtesting:0.2, \tdt: 0.01, \tnumDT:20\n",
      "\u001b[32m[I 2021-11-25 12:10:44,695]\u001b[0m Trial 188 finished with value: 0.8421052631578947 and parameters: {'dt': 0, 'ampTraining': 3, 'ampTesting': 1}. Best is trial 58 with value: 1.0.\u001b[0m\n"
     ]
    },
    {
     "name": "stdout",
     "output_type": "stream",
     "text": [
      "0.8421052631578947\n"
     ]
    },
    {
     "data": {
      "application/vnd.jupyter.widget-view+json": {
       "model_id": "754a4f145437435d80c4ad467bd5adb0",
       "version_major": 2,
       "version_minor": 0
      },
      "text/plain": [
       "  0%|          | 0/1 [00:00<?, ?it/s]"
      ]
     },
     "metadata": {},
     "output_type": "display_data"
    },
    {
     "data": {
      "application/vnd.jupyter.widget-view+json": {
       "model_id": "3b994458b54d46a3813c7d37e402aac0",
       "version_major": 2,
       "version_minor": 0
      },
      "text/plain": [
       "Running Simulation :   0%|          | 0/1900 [00:00<?, ?it/s]"
      ]
     },
     "metadata": {},
     "output_type": "display_data"
    },
    {
     "name": "stderr",
     "output_type": "stream",
     "text": [
      "2021-11-25 12:10:51,140:INFO:Accuracy: [0.8447368421052631],\tvtraining:2,\tvtesting:0.1, \tdt: 0.01, \tnumDT:20\n",
      "\u001b[32m[I 2021-11-25 12:10:51,240]\u001b[0m Trial 189 finished with value: 0.8447368421052631 and parameters: {'dt': 0, 'ampTraining': 2, 'ampTesting': 0}. Best is trial 58 with value: 1.0.\u001b[0m\n"
     ]
    },
    {
     "name": "stdout",
     "output_type": "stream",
     "text": [
      "0.8447368421052631\n"
     ]
    },
    {
     "data": {
      "application/vnd.jupyter.widget-view+json": {
       "model_id": "e14f8847b1dc45ae93dab98542001557",
       "version_major": 2,
       "version_minor": 0
      },
      "text/plain": [
       "  0%|          | 0/1 [00:00<?, ?it/s]"
      ]
     },
     "metadata": {},
     "output_type": "display_data"
    },
    {
     "data": {
      "application/vnd.jupyter.widget-view+json": {
       "model_id": "3221de2ff532445ab1c8a6764eaf8581",
       "version_major": 2,
       "version_minor": 0
      },
      "text/plain": [
       "Running Simulation :   0%|          | 0/1900 [00:00<?, ?it/s]"
      ]
     },
     "metadata": {},
     "output_type": "display_data"
    },
    {
     "name": "stderr",
     "output_type": "stream",
     "text": [
      "2021-11-25 12:10:57,721:INFO:Accuracy: [0.8421052631578947],\tvtraining:5,\tvtesting:0.3, \tdt: 0.01, \tnumDT:20\n",
      "\u001b[32m[I 2021-11-25 12:10:57,809]\u001b[0m Trial 190 finished with value: 0.8421052631578947 and parameters: {'dt': 0, 'ampTraining': 3, 'ampTesting': 2}. Best is trial 58 with value: 1.0.\u001b[0m\n"
     ]
    },
    {
     "name": "stdout",
     "output_type": "stream",
     "text": [
      "0.8421052631578947\n"
     ]
    },
    {
     "data": {
      "application/vnd.jupyter.widget-view+json": {
       "model_id": "7ce985b3c4dd40dfb6072221d700e9f6",
       "version_major": 2,
       "version_minor": 0
      },
      "text/plain": [
       "  0%|          | 0/1 [00:00<?, ?it/s]"
      ]
     },
     "metadata": {},
     "output_type": "display_data"
    },
    {
     "data": {
      "application/vnd.jupyter.widget-view+json": {
       "model_id": "0882c29e2a4143f59013049446b02c42",
       "version_major": 2,
       "version_minor": 0
      },
      "text/plain": [
       "Running Simulation :   0%|          | 0/1900 [00:00<?, ?it/s]"
      ]
     },
     "metadata": {},
     "output_type": "display_data"
    },
    {
     "name": "stderr",
     "output_type": "stream",
     "text": [
      "2021-11-25 12:11:04,226:INFO:Accuracy: [0.7894736842105263],\tvtraining:5,\tvtesting:0.2, \tdt: 0.01, \tnumDT:20\n",
      "\u001b[32m[I 2021-11-25 12:11:04,324]\u001b[0m Trial 191 finished with value: 0.7894736842105263 and parameters: {'dt': 0, 'ampTraining': 3, 'ampTesting': 1}. Best is trial 58 with value: 1.0.\u001b[0m\n"
     ]
    },
    {
     "name": "stdout",
     "output_type": "stream",
     "text": [
      "0.7894736842105263\n"
     ]
    },
    {
     "data": {
      "application/vnd.jupyter.widget-view+json": {
       "model_id": "2a3d338e39bd4f0f95bc6e6e609bba75",
       "version_major": 2,
       "version_minor": 0
      },
      "text/plain": [
       "  0%|          | 0/1 [00:00<?, ?it/s]"
      ]
     },
     "metadata": {},
     "output_type": "display_data"
    },
    {
     "data": {
      "application/vnd.jupyter.widget-view+json": {
       "model_id": "b98ba4f130ad473da5cd7fb3e0007897",
       "version_major": 2,
       "version_minor": 0
      },
      "text/plain": [
       "Running Simulation :   0%|          | 0/950 [00:00<?, ?it/s]"
      ]
     },
     "metadata": {},
     "output_type": "display_data"
    },
    {
     "name": "stderr",
     "output_type": "stream",
     "text": [
      "2021-11-25 12:11:07,669:INFO:Accuracy: [0.8421052631578947],\tvtraining:5,\tvtesting:0.5, \tdt: 0.02, \tnumDT:10\n",
      "\u001b[32m[I 2021-11-25 12:11:07,763]\u001b[0m Trial 192 finished with value: 0.8421052631578947 and parameters: {'dt': 1, 'ampTraining': 3, 'ampTesting': 3}. Best is trial 58 with value: 1.0.\u001b[0m\n"
     ]
    },
    {
     "name": "stdout",
     "output_type": "stream",
     "text": [
      "0.8421052631578947\n"
     ]
    },
    {
     "data": {
      "application/vnd.jupyter.widget-view+json": {
       "model_id": "3128ed0ac28d422895e99f0763965b5e",
       "version_major": 2,
       "version_minor": 0
      },
      "text/plain": [
       "  0%|          | 0/1 [00:00<?, ?it/s]"
      ]
     },
     "metadata": {},
     "output_type": "display_data"
    },
    {
     "data": {
      "application/vnd.jupyter.widget-view+json": {
       "model_id": "c3a9592fddea4f059787ffa789ac59ee",
       "version_major": 2,
       "version_minor": 0
      },
      "text/plain": [
       "Running Simulation :   0%|          | 0/950 [00:00<?, ?it/s]"
      ]
     },
     "metadata": {},
     "output_type": "display_data"
    },
    {
     "name": "stderr",
     "output_type": "stream",
     "text": [
      "2021-11-25 12:11:11,058:INFO:Accuracy: [0.6],\tvtraining:5,\tvtesting:0.2, \tdt: 0.02, \tnumDT:10\n",
      "\u001b[32m[I 2021-11-25 12:11:11,166]\u001b[0m Trial 193 finished with value: 0.6 and parameters: {'dt': 1, 'ampTraining': 3, 'ampTesting': 1}. Best is trial 58 with value: 1.0.\u001b[0m\n"
     ]
    },
    {
     "name": "stdout",
     "output_type": "stream",
     "text": [
      "0.6\n"
     ]
    },
    {
     "data": {
      "application/vnd.jupyter.widget-view+json": {
       "model_id": "3f53270b4c3b4b4fb5ce712ee4d9354a",
       "version_major": 2,
       "version_minor": 0
      },
      "text/plain": [
       "  0%|          | 0/1 [00:00<?, ?it/s]"
      ]
     },
     "metadata": {},
     "output_type": "display_data"
    },
    {
     "data": {
      "application/vnd.jupyter.widget-view+json": {
       "model_id": "01fa2149885844a2bf1c07e047da052a",
       "version_major": 2,
       "version_minor": 0
      },
      "text/plain": [
       "Running Simulation :   0%|          | 0/1900 [00:00<?, ?it/s]"
      ]
     },
     "metadata": {},
     "output_type": "display_data"
    },
    {
     "name": "stderr",
     "output_type": "stream",
     "text": [
      "2021-11-25 12:11:17,619:INFO:Accuracy: [0.7368421052631579],\tvtraining:5,\tvtesting:0.2, \tdt: 0.01, \tnumDT:20\n",
      "\u001b[32m[I 2021-11-25 12:11:17,717]\u001b[0m Trial 194 finished with value: 0.7368421052631579 and parameters: {'dt': 0, 'ampTraining': 3, 'ampTesting': 1}. Best is trial 58 with value: 1.0.\u001b[0m\n"
     ]
    },
    {
     "name": "stdout",
     "output_type": "stream",
     "text": [
      "0.7368421052631579\n"
     ]
    },
    {
     "data": {
      "application/vnd.jupyter.widget-view+json": {
       "model_id": "259c65724b434ea492435587e8294450",
       "version_major": 2,
       "version_minor": 0
      },
      "text/plain": [
       "  0%|          | 0/1 [00:00<?, ?it/s]"
      ]
     },
     "metadata": {},
     "output_type": "display_data"
    },
    {
     "data": {
      "application/vnd.jupyter.widget-view+json": {
       "model_id": "b134919840084d3194feeae7ac53c588",
       "version_major": 2,
       "version_minor": 0
      },
      "text/plain": [
       "Running Simulation :   0%|          | 0/1900 [00:00<?, ?it/s]"
      ]
     },
     "metadata": {},
     "output_type": "display_data"
    },
    {
     "name": "stderr",
     "output_type": "stream",
     "text": [
      "2021-11-25 12:11:24,116:INFO:Accuracy: [0.8421052631578947],\tvtraining:5,\tvtesting:0.2, \tdt: 0.01, \tnumDT:20\n",
      "\u001b[32m[I 2021-11-25 12:11:24,206]\u001b[0m Trial 195 finished with value: 0.8421052631578947 and parameters: {'dt': 0, 'ampTraining': 3, 'ampTesting': 1}. Best is trial 58 with value: 1.0.\u001b[0m\n"
     ]
    },
    {
     "name": "stdout",
     "output_type": "stream",
     "text": [
      "0.8421052631578947\n"
     ]
    },
    {
     "data": {
      "application/vnd.jupyter.widget-view+json": {
       "model_id": "1380bffcb0714da98dbe77d4280ae48d",
       "version_major": 2,
       "version_minor": 0
      },
      "text/plain": [
       "  0%|          | 0/1 [00:00<?, ?it/s]"
      ]
     },
     "metadata": {},
     "output_type": "display_data"
    },
    {
     "data": {
      "application/vnd.jupyter.widget-view+json": {
       "model_id": "e128d16ad26a4ab18ca7ff4b11cf2461",
       "version_major": 2,
       "version_minor": 0
      },
      "text/plain": [
       "Running Simulation :   0%|          | 0/1900 [00:00<?, ?it/s]"
      ]
     },
     "metadata": {},
     "output_type": "display_data"
    },
    {
     "name": "stderr",
     "output_type": "stream",
     "text": [
      "2021-11-25 12:11:30,591:INFO:Accuracy: [0.8947368421052632],\tvtraining:5,\tvtesting:0.2, \tdt: 0.01, \tnumDT:20\n",
      "\u001b[32m[I 2021-11-25 12:11:30,686]\u001b[0m Trial 196 finished with value: 0.8947368421052632 and parameters: {'dt': 0, 'ampTraining': 3, 'ampTesting': 1}. Best is trial 58 with value: 1.0.\u001b[0m\n"
     ]
    },
    {
     "name": "stdout",
     "output_type": "stream",
     "text": [
      "0.8947368421052632\n"
     ]
    },
    {
     "data": {
      "application/vnd.jupyter.widget-view+json": {
       "model_id": "1d6876d754014ab895b0414b6893a52f",
       "version_major": 2,
       "version_minor": 0
      },
      "text/plain": [
       "  0%|          | 0/1 [00:00<?, ?it/s]"
      ]
     },
     "metadata": {},
     "output_type": "display_data"
    },
    {
     "data": {
      "application/vnd.jupyter.widget-view+json": {
       "model_id": "8af8307acc64407491bab705d283becd",
       "version_major": 2,
       "version_minor": 0
      },
      "text/plain": [
       "Running Simulation :   0%|          | 0/1900 [00:00<?, ?it/s]"
      ]
     },
     "metadata": {},
     "output_type": "display_data"
    },
    {
     "name": "stderr",
     "output_type": "stream",
     "text": [
      "2021-11-25 12:11:37,185:INFO:Accuracy: [0.7894736842105263],\tvtraining:5,\tvtesting:0.2, \tdt: 0.01, \tnumDT:20\n",
      "\u001b[32m[I 2021-11-25 12:11:37,283]\u001b[0m Trial 197 finished with value: 0.7894736842105263 and parameters: {'dt': 0, 'ampTraining': 3, 'ampTesting': 1}. Best is trial 58 with value: 1.0.\u001b[0m\n"
     ]
    },
    {
     "name": "stdout",
     "output_type": "stream",
     "text": [
      "0.7894736842105263\n"
     ]
    },
    {
     "data": {
      "application/vnd.jupyter.widget-view+json": {
       "model_id": "4c721ec5087e499e8d2a019970bb8ce0",
       "version_major": 2,
       "version_minor": 0
      },
      "text/plain": [
       "  0%|          | 0/1 [00:00<?, ?it/s]"
      ]
     },
     "metadata": {},
     "output_type": "display_data"
    },
    {
     "data": {
      "application/vnd.jupyter.widget-view+json": {
       "model_id": "4fd9c4c7ea6448289fc2483924222e50",
       "version_major": 2,
       "version_minor": 0
      },
      "text/plain": [
       "Running Simulation :   0%|          | 0/1900 [00:00<?, ?it/s]"
      ]
     },
     "metadata": {},
     "output_type": "display_data"
    },
    {
     "name": "stderr",
     "output_type": "stream",
     "text": [
      "2021-11-25 12:11:43,785:INFO:Accuracy: [0.9473684210526315],\tvtraining:5,\tvtesting:0.2, \tdt: 0.01, \tnumDT:20\n",
      "\u001b[32m[I 2021-11-25 12:11:43,883]\u001b[0m Trial 198 finished with value: 0.9473684210526315 and parameters: {'dt': 0, 'ampTraining': 3, 'ampTesting': 1}. Best is trial 58 with value: 1.0.\u001b[0m\n"
     ]
    },
    {
     "name": "stdout",
     "output_type": "stream",
     "text": [
      "0.9473684210526315\n"
     ]
    },
    {
     "data": {
      "application/vnd.jupyter.widget-view+json": {
       "model_id": "1c94e877a2b84d77b7973003eb9747ab",
       "version_major": 2,
       "version_minor": 0
      },
      "text/plain": [
       "  0%|          | 0/1 [00:00<?, ?it/s]"
      ]
     },
     "metadata": {},
     "output_type": "display_data"
    },
    {
     "data": {
      "application/vnd.jupyter.widget-view+json": {
       "model_id": "898f57b91502461d8d942416cfc7d61d",
       "version_major": 2,
       "version_minor": 0
      },
      "text/plain": [
       "Running Simulation :   0%|          | 0/1900 [00:00<?, ?it/s]"
      ]
     },
     "metadata": {},
     "output_type": "display_data"
    },
    {
     "name": "stderr",
     "output_type": "stream",
     "text": [
      "2021-11-25 12:11:50,392:INFO:Accuracy: [0.8236842105263158],\tvtraining:5,\tvtesting:0.2, \tdt: 0.01, \tnumDT:20\n",
      "\u001b[32m[I 2021-11-25 12:11:50,491]\u001b[0m Trial 199 finished with value: 0.8236842105263158 and parameters: {'dt': 0, 'ampTraining': 3, 'ampTesting': 1}. Best is trial 58 with value: 1.0.\u001b[0m\n"
     ]
    },
    {
     "name": "stdout",
     "output_type": "stream",
     "text": [
      "0.8236842105263158\n"
     ]
    },
    {
     "data": {
      "application/vnd.jupyter.widget-view+json": {
       "model_id": "1269f76bd5ef4e54a94ec695e37fe887",
       "version_major": 2,
       "version_minor": 0
      },
      "text/plain": [
       "  0%|          | 0/1 [00:00<?, ?it/s]"
      ]
     },
     "metadata": {},
     "output_type": "display_data"
    },
    {
     "data": {
      "application/vnd.jupyter.widget-view+json": {
       "model_id": "eb271ce06dc040e090c1f122a3f98320",
       "version_major": 2,
       "version_minor": 0
      },
      "text/plain": [
       "Running Simulation :   0%|          | 0/1900 [00:00<?, ?it/s]"
      ]
     },
     "metadata": {},
     "output_type": "display_data"
    },
    {
     "name": "stderr",
     "output_type": "stream",
     "text": [
      "2021-11-25 12:11:56,985:INFO:Accuracy: [0.8421052631578947],\tvtraining:2,\tvtesting:0.2, \tdt: 0.01, \tnumDT:20\n",
      "\u001b[32m[I 2021-11-25 12:11:57,079]\u001b[0m Trial 200 finished with value: 0.8421052631578947 and parameters: {'dt': 0, 'ampTraining': 2, 'ampTesting': 1}. Best is trial 58 with value: 1.0.\u001b[0m\n"
     ]
    },
    {
     "name": "stdout",
     "output_type": "stream",
     "text": [
      "0.8421052631578947\n"
     ]
    },
    {
     "data": {
      "application/vnd.jupyter.widget-view+json": {
       "model_id": "55446d409514436e8235679a9a714654",
       "version_major": 2,
       "version_minor": 0
      },
      "text/plain": [
       "  0%|          | 0/1 [00:00<?, ?it/s]"
      ]
     },
     "metadata": {},
     "output_type": "display_data"
    },
    {
     "data": {
      "application/vnd.jupyter.widget-view+json": {
       "model_id": "f6244d6eb12a419db6c27e6965f87e88",
       "version_major": 2,
       "version_minor": 0
      },
      "text/plain": [
       "Running Simulation :   0%|          | 0/1900 [00:00<?, ?it/s]"
      ]
     },
     "metadata": {},
     "output_type": "display_data"
    },
    {
     "name": "stderr",
     "output_type": "stream",
     "text": [
      "2021-11-25 12:12:03,671:INFO:Accuracy: [0.9473684210526315],\tvtraining:5,\tvtesting:0.2, \tdt: 0.01, \tnumDT:20\n",
      "\u001b[32m[I 2021-11-25 12:12:03,769]\u001b[0m Trial 201 finished with value: 0.9473684210526315 and parameters: {'dt': 0, 'ampTraining': 3, 'ampTesting': 1}. Best is trial 58 with value: 1.0.\u001b[0m\n"
     ]
    },
    {
     "name": "stdout",
     "output_type": "stream",
     "text": [
      "0.9473684210526315\n"
     ]
    },
    {
     "data": {
      "application/vnd.jupyter.widget-view+json": {
       "model_id": "23d09fbeb4804084bc54544873a26f53",
       "version_major": 2,
       "version_minor": 0
      },
      "text/plain": [
       "  0%|          | 0/1 [00:00<?, ?it/s]"
      ]
     },
     "metadata": {},
     "output_type": "display_data"
    },
    {
     "data": {
      "application/vnd.jupyter.widget-view+json": {
       "model_id": "b1094b814886476593b8990de2be8173",
       "version_major": 2,
       "version_minor": 0
      },
      "text/plain": [
       "Running Simulation :   0%|          | 0/1900 [00:00<?, ?it/s]"
      ]
     },
     "metadata": {},
     "output_type": "display_data"
    },
    {
     "name": "stderr",
     "output_type": "stream",
     "text": [
      "2021-11-25 12:12:10,291:INFO:Accuracy: [0.718421052631579],\tvtraining:5,\tvtesting:0.2, \tdt: 0.01, \tnumDT:20\n",
      "\u001b[32m[I 2021-11-25 12:12:10,382]\u001b[0m Trial 202 finished with value: 0.718421052631579 and parameters: {'dt': 0, 'ampTraining': 3, 'ampTesting': 1}. Best is trial 58 with value: 1.0.\u001b[0m\n"
     ]
    },
    {
     "name": "stdout",
     "output_type": "stream",
     "text": [
      "0.718421052631579\n"
     ]
    },
    {
     "data": {
      "application/vnd.jupyter.widget-view+json": {
       "model_id": "75aa6eec759c4ab9b43e7e3c4ba32163",
       "version_major": 2,
       "version_minor": 0
      },
      "text/plain": [
       "  0%|          | 0/1 [00:00<?, ?it/s]"
      ]
     },
     "metadata": {},
     "output_type": "display_data"
    },
    {
     "data": {
      "application/vnd.jupyter.widget-view+json": {
       "model_id": "a39a891aee374dec9f10778812ec10b1",
       "version_major": 2,
       "version_minor": 0
      },
      "text/plain": [
       "Running Simulation :   0%|          | 0/1900 [00:00<?, ?it/s]"
      ]
     },
     "metadata": {},
     "output_type": "display_data"
    },
    {
     "name": "stderr",
     "output_type": "stream",
     "text": [
      "2021-11-25 12:12:16,901:INFO:Accuracy: [0.85],\tvtraining:5,\tvtesting:0.2, \tdt: 0.01, \tnumDT:20\n",
      "\u001b[32m[I 2021-11-25 12:12:17,003]\u001b[0m Trial 203 finished with value: 0.85 and parameters: {'dt': 0, 'ampTraining': 3, 'ampTesting': 1}. Best is trial 58 with value: 1.0.\u001b[0m\n"
     ]
    },
    {
     "name": "stdout",
     "output_type": "stream",
     "text": [
      "0.85\n"
     ]
    },
    {
     "data": {
      "application/vnd.jupyter.widget-view+json": {
       "model_id": "a5b118cfd2184351a6b98da5e099a5c5",
       "version_major": 2,
       "version_minor": 0
      },
      "text/plain": [
       "  0%|          | 0/1 [00:00<?, ?it/s]"
      ]
     },
     "metadata": {},
     "output_type": "display_data"
    },
    {
     "data": {
      "application/vnd.jupyter.widget-view+json": {
       "model_id": "67f27f7f246b4c07b58f14607fe4d75d",
       "version_major": 2,
       "version_minor": 0
      },
      "text/plain": [
       "Running Simulation :   0%|          | 0/1900 [00:00<?, ?it/s]"
      ]
     },
     "metadata": {},
     "output_type": "display_data"
    },
    {
     "name": "stderr",
     "output_type": "stream",
     "text": [
      "2021-11-25 12:12:23,487:INFO:Accuracy: [0.8947368421052632],\tvtraining:5,\tvtesting:0.1, \tdt: 0.01, \tnumDT:20\n",
      "\u001b[32m[I 2021-11-25 12:12:23,585]\u001b[0m Trial 204 finished with value: 0.8947368421052632 and parameters: {'dt': 0, 'ampTraining': 3, 'ampTesting': 0}. Best is trial 58 with value: 1.0.\u001b[0m\n"
     ]
    },
    {
     "name": "stdout",
     "output_type": "stream",
     "text": [
      "0.8947368421052632\n"
     ]
    },
    {
     "data": {
      "application/vnd.jupyter.widget-view+json": {
       "model_id": "e15cda9460284906a7b8c42a0dd841e0",
       "version_major": 2,
       "version_minor": 0
      },
      "text/plain": [
       "  0%|          | 0/1 [00:00<?, ?it/s]"
      ]
     },
     "metadata": {},
     "output_type": "display_data"
    },
    {
     "data": {
      "application/vnd.jupyter.widget-view+json": {
       "model_id": "36b35bef9d034ae190ee47cb46e65a61",
       "version_major": 2,
       "version_minor": 0
      },
      "text/plain": [
       "Running Simulation :   0%|          | 0/1900 [00:00<?, ?it/s]"
      ]
     },
     "metadata": {},
     "output_type": "display_data"
    },
    {
     "name": "stderr",
     "output_type": "stream",
     "text": [
      "2021-11-25 12:12:30,078:INFO:Accuracy: [0.7894736842105263],\tvtraining:5,\tvtesting:0.1, \tdt: 0.01, \tnumDT:20\n",
      "\u001b[32m[I 2021-11-25 12:12:30,177]\u001b[0m Trial 205 finished with value: 0.7894736842105263 and parameters: {'dt': 0, 'ampTraining': 3, 'ampTesting': 0}. Best is trial 58 with value: 1.0.\u001b[0m\n"
     ]
    },
    {
     "name": "stdout",
     "output_type": "stream",
     "text": [
      "0.7894736842105263\n"
     ]
    },
    {
     "data": {
      "application/vnd.jupyter.widget-view+json": {
       "model_id": "ec6567dba7d548eeb2c3ed16d369c279",
       "version_major": 2,
       "version_minor": 0
      },
      "text/plain": [
       "  0%|          | 0/1 [00:00<?, ?it/s]"
      ]
     },
     "metadata": {},
     "output_type": "display_data"
    },
    {
     "data": {
      "application/vnd.jupyter.widget-view+json": {
       "model_id": "6e9e9b695ba741d5ba33c8849ac72cc6",
       "version_major": 2,
       "version_minor": 0
      },
      "text/plain": [
       "Running Simulation :   0%|          | 0/1900 [00:00<?, ?it/s]"
      ]
     },
     "metadata": {},
     "output_type": "display_data"
    },
    {
     "name": "stderr",
     "output_type": "stream",
     "text": [
      "2021-11-25 12:12:36,668:INFO:Accuracy: [0.7368421052631579],\tvtraining:5,\tvtesting:0.2, \tdt: 0.01, \tnumDT:20\n",
      "\u001b[32m[I 2021-11-25 12:12:36,756]\u001b[0m Trial 206 finished with value: 0.7368421052631579 and parameters: {'dt': 0, 'ampTraining': 3, 'ampTesting': 1}. Best is trial 58 with value: 1.0.\u001b[0m\n"
     ]
    },
    {
     "name": "stdout",
     "output_type": "stream",
     "text": [
      "0.7368421052631579\n"
     ]
    },
    {
     "data": {
      "application/vnd.jupyter.widget-view+json": {
       "model_id": "d44dfdd19aa24caf9521ee0d60685521",
       "version_major": 2,
       "version_minor": 0
      },
      "text/plain": [
       "  0%|          | 0/1 [00:00<?, ?it/s]"
      ]
     },
     "metadata": {},
     "output_type": "display_data"
    },
    {
     "data": {
      "application/vnd.jupyter.widget-view+json": {
       "model_id": "a36aae15175c4be9b116fc691da479a9",
       "version_major": 2,
       "version_minor": 0
      },
      "text/plain": [
       "Running Simulation :   0%|          | 0/1900 [00:00<?, ?it/s]"
      ]
     },
     "metadata": {},
     "output_type": "display_data"
    },
    {
     "name": "stderr",
     "output_type": "stream",
     "text": [
      "2021-11-25 12:12:43,245:INFO:Accuracy: [0.7842105263157895],\tvtraining:5,\tvtesting:0.2, \tdt: 0.01, \tnumDT:20\n",
      "\u001b[32m[I 2021-11-25 12:12:43,339]\u001b[0m Trial 207 finished with value: 0.7842105263157895 and parameters: {'dt': 0, 'ampTraining': 3, 'ampTesting': 1}. Best is trial 58 with value: 1.0.\u001b[0m\n"
     ]
    },
    {
     "name": "stdout",
     "output_type": "stream",
     "text": [
      "0.7842105263157895\n"
     ]
    },
    {
     "data": {
      "application/vnd.jupyter.widget-view+json": {
       "model_id": "0a64ea2d76624aa99864727657d94c0d",
       "version_major": 2,
       "version_minor": 0
      },
      "text/plain": [
       "  0%|          | 0/1 [00:00<?, ?it/s]"
      ]
     },
     "metadata": {},
     "output_type": "display_data"
    },
    {
     "data": {
      "application/vnd.jupyter.widget-view+json": {
       "model_id": "8f0c97200fd945308a61a768278e32ec",
       "version_major": 2,
       "version_minor": 0
      },
      "text/plain": [
       "Running Simulation :   0%|          | 0/380 [00:00<?, ?it/s]"
      ]
     },
     "metadata": {},
     "output_type": "display_data"
    },
    {
     "name": "stderr",
     "output_type": "stream",
     "text": [
      "2021-11-25 12:12:44,810:INFO:Accuracy: [0.7894736842105263],\tvtraining:5,\tvtesting:0.2, \tdt: 0.05, \tnumDT:4\n",
      "\u001b[32m[I 2021-11-25 12:12:44,907]\u001b[0m Trial 208 finished with value: 0.7894736842105263 and parameters: {'dt': 2, 'ampTraining': 3, 'ampTesting': 1}. Best is trial 58 with value: 1.0.\u001b[0m\n"
     ]
    },
    {
     "name": "stdout",
     "output_type": "stream",
     "text": [
      "0.7894736842105263\n"
     ]
    },
    {
     "data": {
      "application/vnd.jupyter.widget-view+json": {
       "model_id": "1cd2d0e3ea37455e9d21d2fd615dc863",
       "version_major": 2,
       "version_minor": 0
      },
      "text/plain": [
       "  0%|          | 0/1 [00:00<?, ?it/s]"
      ]
     },
     "metadata": {},
     "output_type": "display_data"
    },
    {
     "data": {
      "application/vnd.jupyter.widget-view+json": {
       "model_id": "85bc1cb541494232889d17251f71dd78",
       "version_major": 2,
       "version_minor": 0
      },
      "text/plain": [
       "Running Simulation :   0%|          | 0/1900 [00:00<?, ?it/s]"
      ]
     },
     "metadata": {},
     "output_type": "display_data"
    },
    {
     "name": "stderr",
     "output_type": "stream",
     "text": [
      "2021-11-25 12:12:51,397:INFO:Accuracy: [0.7552631578947369],\tvtraining:5,\tvtesting:0.2, \tdt: 0.01, \tnumDT:20\n",
      "\u001b[32m[I 2021-11-25 12:12:51,496]\u001b[0m Trial 209 finished with value: 0.7552631578947369 and parameters: {'dt': 0, 'ampTraining': 3, 'ampTesting': 1}. Best is trial 58 with value: 1.0.\u001b[0m\n"
     ]
    },
    {
     "name": "stdout",
     "output_type": "stream",
     "text": [
      "0.7552631578947369\n"
     ]
    },
    {
     "data": {
      "application/vnd.jupyter.widget-view+json": {
       "model_id": "b350980ff7f24f7da040da24c4ee1d8d",
       "version_major": 2,
       "version_minor": 0
      },
      "text/plain": [
       "  0%|          | 0/1 [00:00<?, ?it/s]"
      ]
     },
     "metadata": {},
     "output_type": "display_data"
    },
    {
     "data": {
      "application/vnd.jupyter.widget-view+json": {
       "model_id": "a5c21cc4e6de486e9203e8e3a2cccd2b",
       "version_major": 2,
       "version_minor": 0
      },
      "text/plain": [
       "Running Simulation :   0%|          | 0/950 [00:00<?, ?it/s]"
      ]
     },
     "metadata": {},
     "output_type": "display_data"
    },
    {
     "name": "stderr",
     "output_type": "stream",
     "text": [
      "2021-11-25 12:12:54,832:INFO:Accuracy: [0.5789473684210527],\tvtraining:5,\tvtesting:0.2, \tdt: 0.02, \tnumDT:10\n",
      "\u001b[32m[I 2021-11-25 12:12:54,927]\u001b[0m Trial 210 finished with value: 0.5789473684210527 and parameters: {'dt': 1, 'ampTraining': 3, 'ampTesting': 1}. Best is trial 58 with value: 1.0.\u001b[0m\n"
     ]
    },
    {
     "name": "stdout",
     "output_type": "stream",
     "text": [
      "0.5789473684210527\n"
     ]
    },
    {
     "data": {
      "application/vnd.jupyter.widget-view+json": {
       "model_id": "4466b72398a449a2a757be357dc42478",
       "version_major": 2,
       "version_minor": 0
      },
      "text/plain": [
       "  0%|          | 0/1 [00:00<?, ?it/s]"
      ]
     },
     "metadata": {},
     "output_type": "display_data"
    },
    {
     "data": {
      "application/vnd.jupyter.widget-view+json": {
       "model_id": "f1d4b4ce887643e2b892d8c5cb523f62",
       "version_major": 2,
       "version_minor": 0
      },
      "text/plain": [
       "Running Simulation :   0%|          | 0/1900 [00:00<?, ?it/s]"
      ]
     },
     "metadata": {},
     "output_type": "display_data"
    },
    {
     "name": "stderr",
     "output_type": "stream",
     "text": [
      "2021-11-25 12:13:01,382:INFO:Accuracy: [0.7368421052631579],\tvtraining:2,\tvtesting:0.2, \tdt: 0.01, \tnumDT:20\n",
      "\u001b[32m[I 2021-11-25 12:13:01,480]\u001b[0m Trial 211 finished with value: 0.7368421052631579 and parameters: {'dt': 0, 'ampTraining': 2, 'ampTesting': 1}. Best is trial 58 with value: 1.0.\u001b[0m\n"
     ]
    },
    {
     "name": "stdout",
     "output_type": "stream",
     "text": [
      "0.7368421052631579\n"
     ]
    },
    {
     "data": {
      "application/vnd.jupyter.widget-view+json": {
       "model_id": "bfafba023cfd4cdc92b0a53fea0c79eb",
       "version_major": 2,
       "version_minor": 0
      },
      "text/plain": [
       "  0%|          | 0/1 [00:00<?, ?it/s]"
      ]
     },
     "metadata": {},
     "output_type": "display_data"
    },
    {
     "data": {
      "application/vnd.jupyter.widget-view+json": {
       "model_id": "78f16e31a8f04cecb52a8942fc589c3e",
       "version_major": 2,
       "version_minor": 0
      },
      "text/plain": [
       "Running Simulation :   0%|          | 0/1900 [00:00<?, ?it/s]"
      ]
     },
     "metadata": {},
     "output_type": "display_data"
    },
    {
     "name": "stderr",
     "output_type": "stream",
     "text": [
      "2021-11-25 12:13:07,955:INFO:Accuracy: [0.8947368421052632],\tvtraining:5,\tvtesting:0.2, \tdt: 0.01, \tnumDT:20\n",
      "\u001b[32m[I 2021-11-25 12:13:08,054]\u001b[0m Trial 212 finished with value: 0.8947368421052632 and parameters: {'dt': 0, 'ampTraining': 3, 'ampTesting': 1}. Best is trial 58 with value: 1.0.\u001b[0m\n"
     ]
    },
    {
     "name": "stdout",
     "output_type": "stream",
     "text": [
      "0.8947368421052632\n"
     ]
    },
    {
     "data": {
      "application/vnd.jupyter.widget-view+json": {
       "model_id": "ecb464d999bd4dbeb4ea3dbb274a3ba4",
       "version_major": 2,
       "version_minor": 0
      },
      "text/plain": [
       "  0%|          | 0/1 [00:00<?, ?it/s]"
      ]
     },
     "metadata": {},
     "output_type": "display_data"
    },
    {
     "data": {
      "application/vnd.jupyter.widget-view+json": {
       "model_id": "5bb1d2597c7a426fa3b0f1ab8064ad9d",
       "version_major": 2,
       "version_minor": 0
      },
      "text/plain": [
       "Running Simulation :   0%|          | 0/1900 [00:00<?, ?it/s]"
      ]
     },
     "metadata": {},
     "output_type": "display_data"
    },
    {
     "name": "stderr",
     "output_type": "stream",
     "text": [
      "2021-11-25 12:13:14,534:INFO:Accuracy: [0.8157894736842105],\tvtraining:5,\tvtesting:0.2, \tdt: 0.01, \tnumDT:20\n",
      "\u001b[32m[I 2021-11-25 12:13:14,627]\u001b[0m Trial 213 finished with value: 0.8157894736842105 and parameters: {'dt': 0, 'ampTraining': 3, 'ampTesting': 1}. Best is trial 58 with value: 1.0.\u001b[0m\n"
     ]
    },
    {
     "name": "stdout",
     "output_type": "stream",
     "text": [
      "0.8157894736842105\n"
     ]
    },
    {
     "data": {
      "application/vnd.jupyter.widget-view+json": {
       "model_id": "88711992525e46c3812a78e4340127f0",
       "version_major": 2,
       "version_minor": 0
      },
      "text/plain": [
       "  0%|          | 0/1 [00:00<?, ?it/s]"
      ]
     },
     "metadata": {},
     "output_type": "display_data"
    },
    {
     "data": {
      "application/vnd.jupyter.widget-view+json": {
       "model_id": "eeab7df41baa4db9ad7392c83176b571",
       "version_major": 2,
       "version_minor": 0
      },
      "text/plain": [
       "Running Simulation :   0%|          | 0/1900 [00:00<?, ?it/s]"
      ]
     },
     "metadata": {},
     "output_type": "display_data"
    },
    {
     "name": "stderr",
     "output_type": "stream",
     "text": [
      "2021-11-25 12:13:21,087:INFO:Accuracy: [0.8421052631578947],\tvtraining:5,\tvtesting:0.2, \tdt: 0.01, \tnumDT:20\n",
      "\u001b[32m[I 2021-11-25 12:13:21,182]\u001b[0m Trial 214 finished with value: 0.8421052631578947 and parameters: {'dt': 0, 'ampTraining': 3, 'ampTesting': 1}. Best is trial 58 with value: 1.0.\u001b[0m\n"
     ]
    },
    {
     "name": "stdout",
     "output_type": "stream",
     "text": [
      "0.8421052631578947\n"
     ]
    },
    {
     "data": {
      "application/vnd.jupyter.widget-view+json": {
       "model_id": "874af86132b04678b7768a186d855d9e",
       "version_major": 2,
       "version_minor": 0
      },
      "text/plain": [
       "  0%|          | 0/1 [00:00<?, ?it/s]"
      ]
     },
     "metadata": {},
     "output_type": "display_data"
    },
    {
     "data": {
      "application/vnd.jupyter.widget-view+json": {
       "model_id": "68d1ee90fffd49508a12d3148359e0cb",
       "version_major": 2,
       "version_minor": 0
      },
      "text/plain": [
       "Running Simulation :   0%|          | 0/1900 [00:00<?, ?it/s]"
      ]
     },
     "metadata": {},
     "output_type": "display_data"
    },
    {
     "name": "stderr",
     "output_type": "stream",
     "text": [
      "2021-11-25 12:13:27,650:INFO:Accuracy: [0.8421052631578947],\tvtraining:5,\tvtesting:0.2, \tdt: 0.01, \tnumDT:20\n",
      "\u001b[32m[I 2021-11-25 12:13:27,739]\u001b[0m Trial 215 finished with value: 0.8421052631578947 and parameters: {'dt': 0, 'ampTraining': 3, 'ampTesting': 1}. Best is trial 58 with value: 1.0.\u001b[0m\n"
     ]
    },
    {
     "name": "stdout",
     "output_type": "stream",
     "text": [
      "0.8421052631578947\n"
     ]
    },
    {
     "data": {
      "application/vnd.jupyter.widget-view+json": {
       "model_id": "ce749873cc5240239723f401accfd334",
       "version_major": 2,
       "version_minor": 0
      },
      "text/plain": [
       "  0%|          | 0/1 [00:00<?, ?it/s]"
      ]
     },
     "metadata": {},
     "output_type": "display_data"
    },
    {
     "data": {
      "application/vnd.jupyter.widget-view+json": {
       "model_id": "a8a499df178941c19f3a2c0d9034382c",
       "version_major": 2,
       "version_minor": 0
      },
      "text/plain": [
       "Running Simulation :   0%|          | 0/1900 [00:00<?, ?it/s]"
      ]
     },
     "metadata": {},
     "output_type": "display_data"
    },
    {
     "name": "stderr",
     "output_type": "stream",
     "text": [
      "2021-11-25 12:13:34,211:INFO:Accuracy: [0.7368421052631579],\tvtraining:1,\tvtesting:0.1, \tdt: 0.01, \tnumDT:20\n",
      "\u001b[32m[I 2021-11-25 12:13:34,301]\u001b[0m Trial 216 finished with value: 0.7368421052631579 and parameters: {'dt': 0, 'ampTraining': 1, 'ampTesting': 0}. Best is trial 58 with value: 1.0.\u001b[0m\n"
     ]
    },
    {
     "name": "stdout",
     "output_type": "stream",
     "text": [
      "0.7368421052631579\n"
     ]
    },
    {
     "data": {
      "application/vnd.jupyter.widget-view+json": {
       "model_id": "de2e37ca91d3451bbd4a0349a2fa4446",
       "version_major": 2,
       "version_minor": 0
      },
      "text/plain": [
       "  0%|          | 0/1 [00:00<?, ?it/s]"
      ]
     },
     "metadata": {},
     "output_type": "display_data"
    },
    {
     "data": {
      "application/vnd.jupyter.widget-view+json": {
       "model_id": "e44a28aeb57444deb03e0ea675fa9b37",
       "version_major": 2,
       "version_minor": 0
      },
      "text/plain": [
       "Running Simulation :   0%|          | 0/1900 [00:00<?, ?it/s]"
      ]
     },
     "metadata": {},
     "output_type": "display_data"
    },
    {
     "name": "stderr",
     "output_type": "stream",
     "text": [
      "2021-11-25 12:13:40,736:INFO:Accuracy: [0.6631578947368421],\tvtraining:5,\tvtesting:0.2, \tdt: 0.01, \tnumDT:20\n",
      "\u001b[32m[I 2021-11-25 12:13:40,830]\u001b[0m Trial 217 finished with value: 0.6631578947368421 and parameters: {'dt': 0, 'ampTraining': 3, 'ampTesting': 1}. Best is trial 58 with value: 1.0.\u001b[0m\n"
     ]
    },
    {
     "name": "stdout",
     "output_type": "stream",
     "text": [
      "0.6631578947368421\n"
     ]
    },
    {
     "data": {
      "application/vnd.jupyter.widget-view+json": {
       "model_id": "b4e3e7b222054360b56a31bb8a031d78",
       "version_major": 2,
       "version_minor": 0
      },
      "text/plain": [
       "  0%|          | 0/1 [00:00<?, ?it/s]"
      ]
     },
     "metadata": {},
     "output_type": "display_data"
    },
    {
     "data": {
      "application/vnd.jupyter.widget-view+json": {
       "model_id": "cec3b7c294e84c108decb5867bfad4c5",
       "version_major": 2,
       "version_minor": 0
      },
      "text/plain": [
       "Running Simulation :   0%|          | 0/1900 [00:00<?, ?it/s]"
      ]
     },
     "metadata": {},
     "output_type": "display_data"
    },
    {
     "name": "stderr",
     "output_type": "stream",
     "text": [
      "2021-11-25 12:13:47,279:INFO:Accuracy: [0.8947368421052632],\tvtraining:5,\tvtesting:0.1, \tdt: 0.01, \tnumDT:20\n",
      "\u001b[32m[I 2021-11-25 12:13:47,375]\u001b[0m Trial 218 finished with value: 0.8947368421052632 and parameters: {'dt': 0, 'ampTraining': 3, 'ampTesting': 0}. Best is trial 58 with value: 1.0.\u001b[0m\n"
     ]
    },
    {
     "name": "stdout",
     "output_type": "stream",
     "text": [
      "0.8947368421052632\n"
     ]
    },
    {
     "data": {
      "application/vnd.jupyter.widget-view+json": {
       "model_id": "79a28113a8954a9a84e173a25f6bed9d",
       "version_major": 2,
       "version_minor": 0
      },
      "text/plain": [
       "  0%|          | 0/1 [00:00<?, ?it/s]"
      ]
     },
     "metadata": {},
     "output_type": "display_data"
    },
    {
     "data": {
      "application/vnd.jupyter.widget-view+json": {
       "model_id": "980ac802fc4246cc843e738c4885536a",
       "version_major": 2,
       "version_minor": 0
      },
      "text/plain": [
       "Running Simulation :   0%|          | 0/1900 [00:00<?, ?it/s]"
      ]
     },
     "metadata": {},
     "output_type": "display_data"
    },
    {
     "name": "stderr",
     "output_type": "stream",
     "text": [
      "2021-11-25 12:13:53,826:INFO:Accuracy: [0.8421052631578947],\tvtraining:5,\tvtesting:0.2, \tdt: 0.01, \tnumDT:20\n",
      "\u001b[32m[I 2021-11-25 12:13:53,922]\u001b[0m Trial 219 finished with value: 0.8421052631578947 and parameters: {'dt': 0, 'ampTraining': 3, 'ampTesting': 1}. Best is trial 58 with value: 1.0.\u001b[0m\n"
     ]
    },
    {
     "name": "stdout",
     "output_type": "stream",
     "text": [
      "0.8421052631578947\n"
     ]
    },
    {
     "data": {
      "application/vnd.jupyter.widget-view+json": {
       "model_id": "c4501e6efd544e13a004be9af271258e",
       "version_major": 2,
       "version_minor": 0
      },
      "text/plain": [
       "  0%|          | 0/1 [00:00<?, ?it/s]"
      ]
     },
     "metadata": {},
     "output_type": "display_data"
    },
    {
     "data": {
      "application/vnd.jupyter.widget-view+json": {
       "model_id": "7fb47a36ea4e4079a90059ef78492a08",
       "version_major": 2,
       "version_minor": 0
      },
      "text/plain": [
       "Running Simulation :   0%|          | 0/950 [00:00<?, ?it/s]"
      ]
     },
     "metadata": {},
     "output_type": "display_data"
    },
    {
     "name": "stderr",
     "output_type": "stream",
     "text": [
      "2021-11-25 12:13:57,241:INFO:Accuracy: [0.7684210526315789],\tvtraining:5,\tvtesting:0.2, \tdt: 0.02, \tnumDT:10\n",
      "\u001b[32m[I 2021-11-25 12:13:57,332]\u001b[0m Trial 220 finished with value: 0.7684210526315789 and parameters: {'dt': 1, 'ampTraining': 3, 'ampTesting': 1}. Best is trial 58 with value: 1.0.\u001b[0m\n"
     ]
    },
    {
     "name": "stdout",
     "output_type": "stream",
     "text": [
      "0.7684210526315789\n"
     ]
    },
    {
     "data": {
      "application/vnd.jupyter.widget-view+json": {
       "model_id": "4d0af1bbe1ac460eb04c8d5e3af62d7a",
       "version_major": 2,
       "version_minor": 0
      },
      "text/plain": [
       "  0%|          | 0/1 [00:00<?, ?it/s]"
      ]
     },
     "metadata": {},
     "output_type": "display_data"
    },
    {
     "data": {
      "application/vnd.jupyter.widget-view+json": {
       "model_id": "9ae7ecd0ab8e4da3ab113fe17edf47e4",
       "version_major": 2,
       "version_minor": 0
      },
      "text/plain": [
       "Running Simulation :   0%|          | 0/950 [00:00<?, ?it/s]"
      ]
     },
     "metadata": {},
     "output_type": "display_data"
    },
    {
     "name": "stderr",
     "output_type": "stream",
     "text": [
      "2021-11-25 12:14:00,630:INFO:Accuracy: [0.9473684210526315],\tvtraining:5,\tvtesting:0.2, \tdt: 0.02, \tnumDT:10\n",
      "\u001b[32m[I 2021-11-25 12:14:00,728]\u001b[0m Trial 221 finished with value: 0.9473684210526315 and parameters: {'dt': 1, 'ampTraining': 3, 'ampTesting': 1}. Best is trial 58 with value: 1.0.\u001b[0m\n"
     ]
    },
    {
     "name": "stdout",
     "output_type": "stream",
     "text": [
      "0.9473684210526315\n"
     ]
    },
    {
     "data": {
      "application/vnd.jupyter.widget-view+json": {
       "model_id": "23b78faa499f478383a7b7724c200099",
       "version_major": 2,
       "version_minor": 0
      },
      "text/plain": [
       "  0%|          | 0/1 [00:00<?, ?it/s]"
      ]
     },
     "metadata": {},
     "output_type": "display_data"
    },
    {
     "data": {
      "application/vnd.jupyter.widget-view+json": {
       "model_id": "71cdb5615a1d44db895381381d2d4981",
       "version_major": 2,
       "version_minor": 0
      },
      "text/plain": [
       "Running Simulation :   0%|          | 0/380 [00:00<?, ?it/s]"
      ]
     },
     "metadata": {},
     "output_type": "display_data"
    },
    {
     "name": "stderr",
     "output_type": "stream",
     "text": [
      "2021-11-25 12:14:02,174:INFO:Accuracy: [0.8947368421052632],\tvtraining:5,\tvtesting:0.2, \tdt: 0.05, \tnumDT:4\n",
      "\u001b[32m[I 2021-11-25 12:14:02,269]\u001b[0m Trial 222 finished with value: 0.8947368421052632 and parameters: {'dt': 2, 'ampTraining': 3, 'ampTesting': 1}. Best is trial 58 with value: 1.0.\u001b[0m\n"
     ]
    },
    {
     "name": "stdout",
     "output_type": "stream",
     "text": [
      "0.8947368421052632\n"
     ]
    },
    {
     "data": {
      "application/vnd.jupyter.widget-view+json": {
       "model_id": "8f007e0923824e5fb79814105d6f59e1",
       "version_major": 2,
       "version_minor": 0
      },
      "text/plain": [
       "  0%|          | 0/1 [00:00<?, ?it/s]"
      ]
     },
     "metadata": {},
     "output_type": "display_data"
    },
    {
     "data": {
      "application/vnd.jupyter.widget-view+json": {
       "model_id": "53e1dadba9e944c2ae17e308baba9d15",
       "version_major": 2,
       "version_minor": 0
      },
      "text/plain": [
       "Running Simulation :   0%|          | 0/950 [00:00<?, ?it/s]"
      ]
     },
     "metadata": {},
     "output_type": "display_data"
    },
    {
     "name": "stderr",
     "output_type": "stream",
     "text": [
      "2021-11-25 12:14:05,561:INFO:Accuracy: [0.6842105263157895],\tvtraining:5,\tvtesting:0.2, \tdt: 0.02, \tnumDT:10\n",
      "\u001b[32m[I 2021-11-25 12:14:05,652]\u001b[0m Trial 223 finished with value: 0.6842105263157895 and parameters: {'dt': 1, 'ampTraining': 3, 'ampTesting': 1}. Best is trial 58 with value: 1.0.\u001b[0m\n"
     ]
    },
    {
     "name": "stdout",
     "output_type": "stream",
     "text": [
      "0.6842105263157895\n"
     ]
    },
    {
     "data": {
      "application/vnd.jupyter.widget-view+json": {
       "model_id": "c92bd910d4734e1ebaf85a76e54bc632",
       "version_major": 2,
       "version_minor": 0
      },
      "text/plain": [
       "  0%|          | 0/1 [00:00<?, ?it/s]"
      ]
     },
     "metadata": {},
     "output_type": "display_data"
    },
    {
     "data": {
      "application/vnd.jupyter.widget-view+json": {
       "model_id": "e93a4f44e4ef449c99df98ad455f0697",
       "version_major": 2,
       "version_minor": 0
      },
      "text/plain": [
       "Running Simulation :   0%|          | 0/190 [00:00<?, ?it/s]"
      ]
     },
     "metadata": {},
     "output_type": "display_data"
    },
    {
     "name": "stderr",
     "output_type": "stream",
     "text": [
      "2021-11-25 12:14:06,496:INFO:Accuracy: [0.5789473684210527],\tvtraining:5,\tvtesting:0.2, \tdt: 0.1, \tnumDT:2\n",
      "\u001b[32m[I 2021-11-25 12:14:06,584]\u001b[0m Trial 224 finished with value: 0.5789473684210527 and parameters: {'dt': 3, 'ampTraining': 3, 'ampTesting': 1}. Best is trial 58 with value: 1.0.\u001b[0m\n"
     ]
    },
    {
     "name": "stdout",
     "output_type": "stream",
     "text": [
      "0.5789473684210527\n"
     ]
    },
    {
     "data": {
      "application/vnd.jupyter.widget-view+json": {
       "model_id": "ef3b86c2240a410386a1819051346397",
       "version_major": 2,
       "version_minor": 0
      },
      "text/plain": [
       "  0%|          | 0/1 [00:00<?, ?it/s]"
      ]
     },
     "metadata": {},
     "output_type": "display_data"
    },
    {
     "data": {
      "application/vnd.jupyter.widget-view+json": {
       "model_id": "a43615fb28ae4f3182e92d99d7aa31d3",
       "version_major": 2,
       "version_minor": 0
      },
      "text/plain": [
       "Running Simulation :   0%|          | 0/1900 [00:00<?, ?it/s]"
      ]
     },
     "metadata": {},
     "output_type": "display_data"
    },
    {
     "name": "stderr",
     "output_type": "stream",
     "text": [
      "2021-11-25 12:14:13,006:INFO:Accuracy: [0.8421052631578947],\tvtraining:5,\tvtesting:0.1, \tdt: 0.01, \tnumDT:20\n",
      "\u001b[32m[I 2021-11-25 12:14:13,107]\u001b[0m Trial 225 finished with value: 0.8421052631578947 and parameters: {'dt': 0, 'ampTraining': 3, 'ampTesting': 0}. Best is trial 58 with value: 1.0.\u001b[0m\n"
     ]
    },
    {
     "name": "stdout",
     "output_type": "stream",
     "text": [
      "0.8421052631578947\n"
     ]
    },
    {
     "data": {
      "application/vnd.jupyter.widget-view+json": {
       "model_id": "5cbb87973a034ed7837289ba3f0741a8",
       "version_major": 2,
       "version_minor": 0
      },
      "text/plain": [
       "  0%|          | 0/1 [00:00<?, ?it/s]"
      ]
     },
     "metadata": {},
     "output_type": "display_data"
    },
    {
     "data": {
      "application/vnd.jupyter.widget-view+json": {
       "model_id": "8839d211a91e4b8f87e53048e480d56a",
       "version_major": 2,
       "version_minor": 0
      },
      "text/plain": [
       "Running Simulation :   0%|          | 0/950 [00:00<?, ?it/s]"
      ]
     },
     "metadata": {},
     "output_type": "display_data"
    },
    {
     "name": "stderr",
     "output_type": "stream",
     "text": [
      "2021-11-25 12:14:16,435:INFO:Accuracy: [0.631578947368421],\tvtraining:5,\tvtesting:0.2, \tdt: 0.02, \tnumDT:10\n",
      "\u001b[32m[I 2021-11-25 12:14:16,529]\u001b[0m Trial 226 finished with value: 0.631578947368421 and parameters: {'dt': 1, 'ampTraining': 3, 'ampTesting': 1}. Best is trial 58 with value: 1.0.\u001b[0m\n"
     ]
    },
    {
     "name": "stdout",
     "output_type": "stream",
     "text": [
      "0.631578947368421\n"
     ]
    },
    {
     "data": {
      "application/vnd.jupyter.widget-view+json": {
       "model_id": "d9bad494756446f39153742792c685de",
       "version_major": 2,
       "version_minor": 0
      },
      "text/plain": [
       "  0%|          | 0/1 [00:00<?, ?it/s]"
      ]
     },
     "metadata": {},
     "output_type": "display_data"
    },
    {
     "data": {
      "application/vnd.jupyter.widget-view+json": {
       "model_id": "6b2ae74bcb5f45da98144164bd03fd12",
       "version_major": 2,
       "version_minor": 0
      },
      "text/plain": [
       "Running Simulation :   0%|          | 0/950 [00:00<?, ?it/s]"
      ]
     },
     "metadata": {},
     "output_type": "display_data"
    },
    {
     "name": "stderr",
     "output_type": "stream",
     "text": [
      "2021-11-25 12:14:19,832:INFO:Accuracy: [0.8157894736842105],\tvtraining:5,\tvtesting:0.2, \tdt: 0.02, \tnumDT:10\n",
      "\u001b[32m[I 2021-11-25 12:14:19,936]\u001b[0m Trial 227 finished with value: 0.8157894736842105 and parameters: {'dt': 1, 'ampTraining': 3, 'ampTesting': 1}. Best is trial 58 with value: 1.0.\u001b[0m\n"
     ]
    },
    {
     "name": "stdout",
     "output_type": "stream",
     "text": [
      "0.8157894736842105\n"
     ]
    },
    {
     "data": {
      "application/vnd.jupyter.widget-view+json": {
       "model_id": "69b17bc817494c368d2de7478587a893",
       "version_major": 2,
       "version_minor": 0
      },
      "text/plain": [
       "  0%|          | 0/1 [00:00<?, ?it/s]"
      ]
     },
     "metadata": {},
     "output_type": "display_data"
    },
    {
     "data": {
      "application/vnd.jupyter.widget-view+json": {
       "model_id": "b53eab1a4a044a72aa2b932170ead399",
       "version_major": 2,
       "version_minor": 0
      },
      "text/plain": [
       "Running Simulation :   0%|          | 0/950 [00:00<?, ?it/s]"
      ]
     },
     "metadata": {},
     "output_type": "display_data"
    },
    {
     "name": "stderr",
     "output_type": "stream",
     "text": [
      "2021-11-25 12:14:23,241:INFO:Accuracy: [0.6473684210526316],\tvtraining:5,\tvtesting:0.1, \tdt: 0.02, \tnumDT:10\n",
      "\u001b[32m[I 2021-11-25 12:14:23,340]\u001b[0m Trial 228 finished with value: 0.6473684210526316 and parameters: {'dt': 1, 'ampTraining': 3, 'ampTesting': 0}. Best is trial 58 with value: 1.0.\u001b[0m\n"
     ]
    },
    {
     "name": "stdout",
     "output_type": "stream",
     "text": [
      "0.6473684210526316\n"
     ]
    },
    {
     "data": {
      "application/vnd.jupyter.widget-view+json": {
       "model_id": "ca1c740fc2a14d2b89d87bf70077907a",
       "version_major": 2,
       "version_minor": 0
      },
      "text/plain": [
       "  0%|          | 0/1 [00:00<?, ?it/s]"
      ]
     },
     "metadata": {},
     "output_type": "display_data"
    },
    {
     "data": {
      "application/vnd.jupyter.widget-view+json": {
       "model_id": "3302079bd1444ca981d03f5381c5861e",
       "version_major": 2,
       "version_minor": 0
      },
      "text/plain": [
       "Running Simulation :   0%|          | 0/1900 [00:00<?, ?it/s]"
      ]
     },
     "metadata": {},
     "output_type": "display_data"
    },
    {
     "name": "stderr",
     "output_type": "stream",
     "text": [
      "2021-11-25 12:14:29,792:INFO:Accuracy: [0.8421052631578947],\tvtraining:5,\tvtesting:0.2, \tdt: 0.01, \tnumDT:20\n",
      "\u001b[32m[I 2021-11-25 12:14:29,887]\u001b[0m Trial 229 finished with value: 0.8421052631578947 and parameters: {'dt': 0, 'ampTraining': 3, 'ampTesting': 1}. Best is trial 58 with value: 1.0.\u001b[0m\n"
     ]
    },
    {
     "name": "stdout",
     "output_type": "stream",
     "text": [
      "0.8421052631578947\n"
     ]
    },
    {
     "data": {
      "application/vnd.jupyter.widget-view+json": {
       "model_id": "9b4522009cc74e9a8be587b9c39b9fd1",
       "version_major": 2,
       "version_minor": 0
      },
      "text/plain": [
       "  0%|          | 0/1 [00:00<?, ?it/s]"
      ]
     },
     "metadata": {},
     "output_type": "display_data"
    },
    {
     "data": {
      "application/vnd.jupyter.widget-view+json": {
       "model_id": "bfa999cafb134ee791494f65668cd994",
       "version_major": 2,
       "version_minor": 0
      },
      "text/plain": [
       "Running Simulation :   0%|          | 0/1900 [00:00<?, ?it/s]"
      ]
     },
     "metadata": {},
     "output_type": "display_data"
    },
    {
     "name": "stderr",
     "output_type": "stream",
     "text": [
      "2021-11-25 12:14:36,349:INFO:Accuracy: [0.8947368421052632],\tvtraining:5,\tvtesting:0.3, \tdt: 0.01, \tnumDT:20\n",
      "\u001b[32m[I 2021-11-25 12:14:36,443]\u001b[0m Trial 230 finished with value: 0.8947368421052632 and parameters: {'dt': 0, 'ampTraining': 3, 'ampTesting': 2}. Best is trial 58 with value: 1.0.\u001b[0m\n"
     ]
    },
    {
     "name": "stdout",
     "output_type": "stream",
     "text": [
      "0.8947368421052632\n"
     ]
    },
    {
     "data": {
      "application/vnd.jupyter.widget-view+json": {
       "model_id": "c471d4a5e5224cfdb4182e7c8ebc39cc",
       "version_major": 2,
       "version_minor": 0
      },
      "text/plain": [
       "  0%|          | 0/1 [00:00<?, ?it/s]"
      ]
     },
     "metadata": {},
     "output_type": "display_data"
    },
    {
     "data": {
      "application/vnd.jupyter.widget-view+json": {
       "model_id": "0a9d83fc29cb4b60bbc60f3e01698e2c",
       "version_major": 2,
       "version_minor": 0
      },
      "text/plain": [
       "Running Simulation :   0%|          | 0/1900 [00:00<?, ?it/s]"
      ]
     },
     "metadata": {},
     "output_type": "display_data"
    },
    {
     "name": "stderr",
     "output_type": "stream",
     "text": [
      "2021-11-25 12:14:42,885:INFO:Accuracy: [0.7368421052631579],\tvtraining:5,\tvtesting:0.2, \tdt: 0.01, \tnumDT:20\n",
      "\u001b[32m[I 2021-11-25 12:14:42,980]\u001b[0m Trial 231 finished with value: 0.7368421052631579 and parameters: {'dt': 0, 'ampTraining': 3, 'ampTesting': 1}. Best is trial 58 with value: 1.0.\u001b[0m\n"
     ]
    },
    {
     "name": "stdout",
     "output_type": "stream",
     "text": [
      "0.7368421052631579\n"
     ]
    },
    {
     "data": {
      "application/vnd.jupyter.widget-view+json": {
       "model_id": "e7d76c1e3c484991bf58e16659d1e208",
       "version_major": 2,
       "version_minor": 0
      },
      "text/plain": [
       "  0%|          | 0/1 [00:00<?, ?it/s]"
      ]
     },
     "metadata": {},
     "output_type": "display_data"
    },
    {
     "data": {
      "application/vnd.jupyter.widget-view+json": {
       "model_id": "f349413267b049eabe00f5597a43ec68",
       "version_major": 2,
       "version_minor": 0
      },
      "text/plain": [
       "Running Simulation :   0%|          | 0/1900 [00:00<?, ?it/s]"
      ]
     },
     "metadata": {},
     "output_type": "display_data"
    },
    {
     "name": "stderr",
     "output_type": "stream",
     "text": [
      "2021-11-25 12:14:49,442:INFO:Accuracy: [0.7368421052631579],\tvtraining:5,\tvtesting:0.2, \tdt: 0.01, \tnumDT:20\n",
      "\u001b[32m[I 2021-11-25 12:14:49,542]\u001b[0m Trial 232 finished with value: 0.7368421052631579 and parameters: {'dt': 0, 'ampTraining': 3, 'ampTesting': 1}. Best is trial 58 with value: 1.0.\u001b[0m\n"
     ]
    },
    {
     "name": "stdout",
     "output_type": "stream",
     "text": [
      "0.7368421052631579\n"
     ]
    },
    {
     "data": {
      "application/vnd.jupyter.widget-view+json": {
       "model_id": "daa54d94c14a42fe9cc97e08858ee4b7",
       "version_major": 2,
       "version_minor": 0
      },
      "text/plain": [
       "  0%|          | 0/1 [00:00<?, ?it/s]"
      ]
     },
     "metadata": {},
     "output_type": "display_data"
    },
    {
     "data": {
      "application/vnd.jupyter.widget-view+json": {
       "model_id": "19f79a2e91d84df0903b2e7013e38492",
       "version_major": 2,
       "version_minor": 0
      },
      "text/plain": [
       "Running Simulation :   0%|          | 0/1900 [00:00<?, ?it/s]"
      ]
     },
     "metadata": {},
     "output_type": "display_data"
    },
    {
     "name": "stderr",
     "output_type": "stream",
     "text": [
      "2021-11-25 12:14:55,997:INFO:Accuracy: [0.7894736842105263],\tvtraining:5,\tvtesting:0.2, \tdt: 0.01, \tnumDT:20\n",
      "\u001b[32m[I 2021-11-25 12:14:56,092]\u001b[0m Trial 233 finished with value: 0.7894736842105263 and parameters: {'dt': 0, 'ampTraining': 3, 'ampTesting': 1}. Best is trial 58 with value: 1.0.\u001b[0m\n"
     ]
    },
    {
     "name": "stdout",
     "output_type": "stream",
     "text": [
      "0.7894736842105263\n"
     ]
    },
    {
     "data": {
      "application/vnd.jupyter.widget-view+json": {
       "model_id": "bd8a4d48452147f1b4ee7278f4db933f",
       "version_major": 2,
       "version_minor": 0
      },
      "text/plain": [
       "  0%|          | 0/1 [00:00<?, ?it/s]"
      ]
     },
     "metadata": {},
     "output_type": "display_data"
    },
    {
     "data": {
      "application/vnd.jupyter.widget-view+json": {
       "model_id": "8f4697f58a304e69a6265fcdaeac5191",
       "version_major": 2,
       "version_minor": 0
      },
      "text/plain": [
       "Running Simulation :   0%|          | 0/1900 [00:00<?, ?it/s]"
      ]
     },
     "metadata": {},
     "output_type": "display_data"
    },
    {
     "name": "stderr",
     "output_type": "stream",
     "text": [
      "2021-11-25 12:15:02,547:INFO:Accuracy: [0.7894736842105263],\tvtraining:5,\tvtesting:0.2, \tdt: 0.01, \tnumDT:20\n",
      "\u001b[32m[I 2021-11-25 12:15:02,651]\u001b[0m Trial 234 finished with value: 0.7894736842105263 and parameters: {'dt': 0, 'ampTraining': 3, 'ampTesting': 1}. Best is trial 58 with value: 1.0.\u001b[0m\n"
     ]
    },
    {
     "name": "stdout",
     "output_type": "stream",
     "text": [
      "0.7894736842105263\n"
     ]
    },
    {
     "data": {
      "application/vnd.jupyter.widget-view+json": {
       "model_id": "a94cbf566bdf4ce7901399ee642678e8",
       "version_major": 2,
       "version_minor": 0
      },
      "text/plain": [
       "  0%|          | 0/1 [00:00<?, ?it/s]"
      ]
     },
     "metadata": {},
     "output_type": "display_data"
    },
    {
     "data": {
      "application/vnd.jupyter.widget-view+json": {
       "model_id": "6195cc1ddf04480d85e906f1af8f5f08",
       "version_major": 2,
       "version_minor": 0
      },
      "text/plain": [
       "Running Simulation :   0%|          | 0/1900 [00:00<?, ?it/s]"
      ]
     },
     "metadata": {},
     "output_type": "display_data"
    },
    {
     "name": "stderr",
     "output_type": "stream",
     "text": [
      "2021-11-25 12:15:09,096:INFO:Accuracy: [0.9473684210526315],\tvtraining:5,\tvtesting:0.3, \tdt: 0.01, \tnumDT:20\n",
      "\u001b[32m[I 2021-11-25 12:15:09,194]\u001b[0m Trial 235 finished with value: 0.9473684210526315 and parameters: {'dt': 0, 'ampTraining': 3, 'ampTesting': 2}. Best is trial 58 with value: 1.0.\u001b[0m\n"
     ]
    },
    {
     "name": "stdout",
     "output_type": "stream",
     "text": [
      "0.9473684210526315\n"
     ]
    },
    {
     "data": {
      "application/vnd.jupyter.widget-view+json": {
       "model_id": "b052d64113bd459a9d99a26e7ca8ff7b",
       "version_major": 2,
       "version_minor": 0
      },
      "text/plain": [
       "  0%|          | 0/1 [00:00<?, ?it/s]"
      ]
     },
     "metadata": {},
     "output_type": "display_data"
    },
    {
     "data": {
      "application/vnd.jupyter.widget-view+json": {
       "model_id": "d9a86d9acaa54780b9b2492c0aa32cfc",
       "version_major": 2,
       "version_minor": 0
      },
      "text/plain": [
       "Running Simulation :   0%|          | 0/1900 [00:00<?, ?it/s]"
      ]
     },
     "metadata": {},
     "output_type": "display_data"
    },
    {
     "name": "stderr",
     "output_type": "stream",
     "text": [
      "2021-11-25 12:15:15,636:INFO:Accuracy: [0.8947368421052632],\tvtraining:5,\tvtesting:0.2, \tdt: 0.01, \tnumDT:20\n",
      "\u001b[32m[I 2021-11-25 12:15:15,734]\u001b[0m Trial 236 finished with value: 0.8947368421052632 and parameters: {'dt': 0, 'ampTraining': 3, 'ampTesting': 1}. Best is trial 58 with value: 1.0.\u001b[0m\n"
     ]
    },
    {
     "name": "stdout",
     "output_type": "stream",
     "text": [
      "0.8947368421052632\n"
     ]
    },
    {
     "data": {
      "application/vnd.jupyter.widget-view+json": {
       "model_id": "953fa05a9c474ac586d68da17aacea79",
       "version_major": 2,
       "version_minor": 0
      },
      "text/plain": [
       "  0%|          | 0/1 [00:00<?, ?it/s]"
      ]
     },
     "metadata": {},
     "output_type": "display_data"
    },
    {
     "data": {
      "application/vnd.jupyter.widget-view+json": {
       "model_id": "c4d23dc4673c4eebad79d1f6b9d0faac",
       "version_major": 2,
       "version_minor": 0
      },
      "text/plain": [
       "Running Simulation :   0%|          | 0/1900 [00:00<?, ?it/s]"
      ]
     },
     "metadata": {},
     "output_type": "display_data"
    },
    {
     "name": "stderr",
     "output_type": "stream",
     "text": [
      "2021-11-25 12:15:22,180:INFO:Accuracy: [0.8421052631578947],\tvtraining:5,\tvtesting:0.3, \tdt: 0.01, \tnumDT:20\n",
      "\u001b[32m[I 2021-11-25 12:15:22,274]\u001b[0m Trial 237 finished with value: 0.8421052631578947 and parameters: {'dt': 0, 'ampTraining': 3, 'ampTesting': 2}. Best is trial 58 with value: 1.0.\u001b[0m\n"
     ]
    },
    {
     "name": "stdout",
     "output_type": "stream",
     "text": [
      "0.8421052631578947\n"
     ]
    },
    {
     "data": {
      "application/vnd.jupyter.widget-view+json": {
       "model_id": "e325a08bab17454e8b68e500c15b7a1c",
       "version_major": 2,
       "version_minor": 0
      },
      "text/plain": [
       "  0%|          | 0/1 [00:00<?, ?it/s]"
      ]
     },
     "metadata": {},
     "output_type": "display_data"
    },
    {
     "data": {
      "application/vnd.jupyter.widget-view+json": {
       "model_id": "02a58580169849b4a3fdb01d057e7470",
       "version_major": 2,
       "version_minor": 0
      },
      "text/plain": [
       "Running Simulation :   0%|          | 0/1900 [00:00<?, ?it/s]"
      ]
     },
     "metadata": {},
     "output_type": "display_data"
    },
    {
     "name": "stderr",
     "output_type": "stream",
     "text": [
      "2021-11-25 12:15:28,717:INFO:Accuracy: [0.7894736842105263],\tvtraining:5,\tvtesting:0.2, \tdt: 0.01, \tnumDT:20\n",
      "\u001b[32m[I 2021-11-25 12:15:28,816]\u001b[0m Trial 238 finished with value: 0.7894736842105263 and parameters: {'dt': 0, 'ampTraining': 3, 'ampTesting': 1}. Best is trial 58 with value: 1.0.\u001b[0m\n"
     ]
    },
    {
     "name": "stdout",
     "output_type": "stream",
     "text": [
      "0.7894736842105263\n"
     ]
    },
    {
     "data": {
      "application/vnd.jupyter.widget-view+json": {
       "model_id": "eb90cee89f3546a69872e99ce73116b7",
       "version_major": 2,
       "version_minor": 0
      },
      "text/plain": [
       "  0%|          | 0/1 [00:00<?, ?it/s]"
      ]
     },
     "metadata": {},
     "output_type": "display_data"
    },
    {
     "data": {
      "application/vnd.jupyter.widget-view+json": {
       "model_id": "65f90f0e31ce466795a3853b66915e94",
       "version_major": 2,
       "version_minor": 0
      },
      "text/plain": [
       "Running Simulation :   0%|          | 0/1900 [00:00<?, ?it/s]"
      ]
     },
     "metadata": {},
     "output_type": "display_data"
    },
    {
     "name": "stderr",
     "output_type": "stream",
     "text": [
      "2021-11-25 12:15:35,264:INFO:Accuracy: [0.7684210526315789],\tvtraining:5,\tvtesting:0.2, \tdt: 0.01, \tnumDT:20\n",
      "\u001b[32m[I 2021-11-25 12:15:35,369]\u001b[0m Trial 239 finished with value: 0.7684210526315789 and parameters: {'dt': 0, 'ampTraining': 3, 'ampTesting': 1}. Best is trial 58 with value: 1.0.\u001b[0m\n"
     ]
    },
    {
     "name": "stdout",
     "output_type": "stream",
     "text": [
      "0.7684210526315789\n"
     ]
    },
    {
     "data": {
      "application/vnd.jupyter.widget-view+json": {
       "model_id": "677e4ab931184bc09869a5be7784f613",
       "version_major": 2,
       "version_minor": 0
      },
      "text/plain": [
       "  0%|          | 0/1 [00:00<?, ?it/s]"
      ]
     },
     "metadata": {},
     "output_type": "display_data"
    },
    {
     "data": {
      "application/vnd.jupyter.widget-view+json": {
       "model_id": "67d4a261edec446da113a9ffac3006c1",
       "version_major": 2,
       "version_minor": 0
      },
      "text/plain": [
       "Running Simulation :   0%|          | 0/1900 [00:00<?, ?it/s]"
      ]
     },
     "metadata": {},
     "output_type": "display_data"
    },
    {
     "name": "stderr",
     "output_type": "stream",
     "text": [
      "2021-11-25 12:15:41,856:INFO:Accuracy: [0.8421052631578947],\tvtraining:5,\tvtesting:0.1, \tdt: 0.01, \tnumDT:20\n",
      "\u001b[32m[I 2021-11-25 12:15:41,951]\u001b[0m Trial 240 finished with value: 0.8421052631578947 and parameters: {'dt': 0, 'ampTraining': 3, 'ampTesting': 0}. Best is trial 58 with value: 1.0.\u001b[0m\n"
     ]
    },
    {
     "name": "stdout",
     "output_type": "stream",
     "text": [
      "0.8421052631578947\n"
     ]
    },
    {
     "data": {
      "application/vnd.jupyter.widget-view+json": {
       "model_id": "05a33b8e68bd4e0cb9341710671b364f",
       "version_major": 2,
       "version_minor": 0
      },
      "text/plain": [
       "  0%|          | 0/1 [00:00<?, ?it/s]"
      ]
     },
     "metadata": {},
     "output_type": "display_data"
    },
    {
     "data": {
      "application/vnd.jupyter.widget-view+json": {
       "model_id": "8ab7fc6782074eeb849de81a6fae8dcb",
       "version_major": 2,
       "version_minor": 0
      },
      "text/plain": [
       "Running Simulation :   0%|          | 0/380 [00:00<?, ?it/s]"
      ]
     },
     "metadata": {},
     "output_type": "display_data"
    },
    {
     "name": "stderr",
     "output_type": "stream",
     "text": [
      "2021-11-25 12:15:43,392:INFO:Accuracy: [0.8552631578947368],\tvtraining:0.5,\tvtesting:0.1, \tdt: 0.05, \tnumDT:4\n",
      "\u001b[32m[I 2021-11-25 12:15:43,487]\u001b[0m Trial 241 finished with value: 0.8552631578947368 and parameters: {'dt': 2, 'ampTraining': 0, 'ampTesting': 0}. Best is trial 58 with value: 1.0.\u001b[0m\n"
     ]
    },
    {
     "name": "stdout",
     "output_type": "stream",
     "text": [
      "0.8552631578947368\n"
     ]
    },
    {
     "data": {
      "application/vnd.jupyter.widget-view+json": {
       "model_id": "f7847f9a060b49e59fa3fdd3849bf521",
       "version_major": 2,
       "version_minor": 0
      },
      "text/plain": [
       "  0%|          | 0/1 [00:00<?, ?it/s]"
      ]
     },
     "metadata": {},
     "output_type": "display_data"
    },
    {
     "data": {
      "application/vnd.jupyter.widget-view+json": {
       "model_id": "0878c20da9a5452b97124a8ed548dde2",
       "version_major": 2,
       "version_minor": 0
      },
      "text/plain": [
       "Running Simulation :   0%|          | 0/380 [00:00<?, ?it/s]"
      ]
     },
     "metadata": {},
     "output_type": "display_data"
    },
    {
     "name": "stderr",
     "output_type": "stream",
     "text": [
      "2021-11-25 12:15:44,932:INFO:Accuracy: [0.7894736842105263],\tvtraining:5,\tvtesting:0.2, \tdt: 0.05, \tnumDT:4\n",
      "\u001b[32m[I 2021-11-25 12:15:45,031]\u001b[0m Trial 242 finished with value: 0.7894736842105263 and parameters: {'dt': 2, 'ampTraining': 3, 'ampTesting': 1}. Best is trial 58 with value: 1.0.\u001b[0m\n"
     ]
    },
    {
     "name": "stdout",
     "output_type": "stream",
     "text": [
      "0.7894736842105263\n"
     ]
    },
    {
     "data": {
      "application/vnd.jupyter.widget-view+json": {
       "model_id": "4776e24c90394b729c2f5c5790180db3",
       "version_major": 2,
       "version_minor": 0
      },
      "text/plain": [
       "  0%|          | 0/1 [00:00<?, ?it/s]"
      ]
     },
     "metadata": {},
     "output_type": "display_data"
    },
    {
     "data": {
      "application/vnd.jupyter.widget-view+json": {
       "model_id": "6106c0f83dbe4881860f288f94524bb9",
       "version_major": 2,
       "version_minor": 0
      },
      "text/plain": [
       "Running Simulation :   0%|          | 0/950 [00:00<?, ?it/s]"
      ]
     },
     "metadata": {},
     "output_type": "display_data"
    },
    {
     "name": "stderr",
     "output_type": "stream",
     "text": [
      "2021-11-25 12:15:48,354:INFO:Accuracy: [0.46842105263157896],\tvtraining:1,\tvtesting:0.3, \tdt: 0.02, \tnumDT:10\n",
      "\u001b[32m[I 2021-11-25 12:15:48,455]\u001b[0m Trial 243 finished with value: 0.46842105263157896 and parameters: {'dt': 1, 'ampTraining': 1, 'ampTesting': 2}. Best is trial 58 with value: 1.0.\u001b[0m\n"
     ]
    },
    {
     "name": "stdout",
     "output_type": "stream",
     "text": [
      "0.46842105263157896\n"
     ]
    },
    {
     "data": {
      "application/vnd.jupyter.widget-view+json": {
       "model_id": "c90100132f854dcd9fec9a10d2d80844",
       "version_major": 2,
       "version_minor": 0
      },
      "text/plain": [
       "  0%|          | 0/1 [00:00<?, ?it/s]"
      ]
     },
     "metadata": {},
     "output_type": "display_data"
    },
    {
     "data": {
      "application/vnd.jupyter.widget-view+json": {
       "model_id": "6a419bd1e46748cb87d4abccbc6fe5a4",
       "version_major": 2,
       "version_minor": 0
      },
      "text/plain": [
       "Running Simulation :   0%|          | 0/1900 [00:00<?, ?it/s]"
      ]
     },
     "metadata": {},
     "output_type": "display_data"
    },
    {
     "name": "stderr",
     "output_type": "stream",
     "text": [
      "2021-11-25 12:15:54,909:INFO:Accuracy: [0.7894736842105263],\tvtraining:5,\tvtesting:0.1, \tdt: 0.01, \tnumDT:20\n",
      "\u001b[32m[I 2021-11-25 12:15:55,012]\u001b[0m Trial 244 finished with value: 0.7894736842105263 and parameters: {'dt': 0, 'ampTraining': 3, 'ampTesting': 0}. Best is trial 58 with value: 1.0.\u001b[0m\n"
     ]
    },
    {
     "name": "stdout",
     "output_type": "stream",
     "text": [
      "0.7894736842105263\n"
     ]
    },
    {
     "data": {
      "application/vnd.jupyter.widget-view+json": {
       "model_id": "0a1fd1478d564cc99316b71592db0096",
       "version_major": 2,
       "version_minor": 0
      },
      "text/plain": [
       "  0%|          | 0/1 [00:00<?, ?it/s]"
      ]
     },
     "metadata": {},
     "output_type": "display_data"
    },
    {
     "data": {
      "application/vnd.jupyter.widget-view+json": {
       "model_id": "86350111122f41469845b22d14faeffa",
       "version_major": 2,
       "version_minor": 0
      },
      "text/plain": [
       "Running Simulation :   0%|          | 0/1900 [00:00<?, ?it/s]"
      ]
     },
     "metadata": {},
     "output_type": "display_data"
    },
    {
     "name": "stderr",
     "output_type": "stream",
     "text": [
      "2021-11-25 12:16:01,463:INFO:Accuracy: [0.6842105263157895],\tvtraining:5,\tvtesting:0.3, \tdt: 0.01, \tnumDT:20\n",
      "\u001b[32m[I 2021-11-25 12:16:01,552]\u001b[0m Trial 245 finished with value: 0.6842105263157895 and parameters: {'dt': 0, 'ampTraining': 3, 'ampTesting': 2}. Best is trial 58 with value: 1.0.\u001b[0m\n"
     ]
    },
    {
     "name": "stdout",
     "output_type": "stream",
     "text": [
      "0.6842105263157895\n"
     ]
    },
    {
     "data": {
      "application/vnd.jupyter.widget-view+json": {
       "model_id": "48b31426792a4809a2cd2fe19e5559e0",
       "version_major": 2,
       "version_minor": 0
      },
      "text/plain": [
       "  0%|          | 0/1 [00:00<?, ?it/s]"
      ]
     },
     "metadata": {},
     "output_type": "display_data"
    },
    {
     "data": {
      "application/vnd.jupyter.widget-view+json": {
       "model_id": "93c8c06597b344e383671b5f9de5b482",
       "version_major": 2,
       "version_minor": 0
      },
      "text/plain": [
       "Running Simulation :   0%|          | 0/380 [00:00<?, ?it/s]"
      ]
     },
     "metadata": {},
     "output_type": "display_data"
    },
    {
     "name": "stderr",
     "output_type": "stream",
     "text": [
      "2021-11-25 12:16:03,000:INFO:Accuracy: [0.7368421052631579],\tvtraining:5,\tvtesting:0.3, \tdt: 0.05, \tnumDT:4\n",
      "\u001b[32m[I 2021-11-25 12:16:03,105]\u001b[0m Trial 246 finished with value: 0.7368421052631579 and parameters: {'dt': 2, 'ampTraining': 3, 'ampTesting': 2}. Best is trial 58 with value: 1.0.\u001b[0m\n"
     ]
    },
    {
     "name": "stdout",
     "output_type": "stream",
     "text": [
      "0.7368421052631579\n"
     ]
    },
    {
     "data": {
      "application/vnd.jupyter.widget-view+json": {
       "model_id": "6007a89bf425444ca01a55942714935f",
       "version_major": 2,
       "version_minor": 0
      },
      "text/plain": [
       "  0%|          | 0/1 [00:00<?, ?it/s]"
      ]
     },
     "metadata": {},
     "output_type": "display_data"
    },
    {
     "data": {
      "application/vnd.jupyter.widget-view+json": {
       "model_id": "45cc9c55686844419c0b4bb0d6bc1c50",
       "version_major": 2,
       "version_minor": 0
      },
      "text/plain": [
       "Running Simulation :   0%|          | 0/1900 [00:00<?, ?it/s]"
      ]
     },
     "metadata": {},
     "output_type": "display_data"
    },
    {
     "name": "stderr",
     "output_type": "stream",
     "text": [
      "2021-11-25 12:16:09,541:INFO:Accuracy: [0.7473684210526316],\tvtraining:5,\tvtesting:0.1, \tdt: 0.01, \tnumDT:20\n",
      "\u001b[32m[I 2021-11-25 12:16:09,642]\u001b[0m Trial 247 finished with value: 0.7473684210526316 and parameters: {'dt': 0, 'ampTraining': 3, 'ampTesting': 0}. Best is trial 58 with value: 1.0.\u001b[0m\n"
     ]
    },
    {
     "name": "stdout",
     "output_type": "stream",
     "text": [
      "0.7473684210526316\n"
     ]
    },
    {
     "data": {
      "application/vnd.jupyter.widget-view+json": {
       "model_id": "dc101f7f8b714acdb53cee2461586dc2",
       "version_major": 2,
       "version_minor": 0
      },
      "text/plain": [
       "  0%|          | 0/1 [00:00<?, ?it/s]"
      ]
     },
     "metadata": {},
     "output_type": "display_data"
    },
    {
     "data": {
      "application/vnd.jupyter.widget-view+json": {
       "model_id": "3233d5ca3b9440349f4cf45d66c1f01c",
       "version_major": 2,
       "version_minor": 0
      },
      "text/plain": [
       "Running Simulation :   0%|          | 0/1900 [00:00<?, ?it/s]"
      ]
     },
     "metadata": {},
     "output_type": "display_data"
    },
    {
     "name": "stderr",
     "output_type": "stream",
     "text": [
      "2021-11-25 12:16:16,081:INFO:Accuracy: [0.7131578947368421],\tvtraining:2,\tvtesting:0.3, \tdt: 0.01, \tnumDT:20\n",
      "\u001b[32m[I 2021-11-25 12:16:16,183]\u001b[0m Trial 248 finished with value: 0.7131578947368421 and parameters: {'dt': 0, 'ampTraining': 2, 'ampTesting': 2}. Best is trial 58 with value: 1.0.\u001b[0m\n"
     ]
    },
    {
     "name": "stdout",
     "output_type": "stream",
     "text": [
      "0.7131578947368421\n"
     ]
    },
    {
     "data": {
      "application/vnd.jupyter.widget-view+json": {
       "model_id": "bd496d3b30684c70afe721e3e4bfa2e6",
       "version_major": 2,
       "version_minor": 0
      },
      "text/plain": [
       "  0%|          | 0/1 [00:00<?, ?it/s]"
      ]
     },
     "metadata": {},
     "output_type": "display_data"
    },
    {
     "data": {
      "application/vnd.jupyter.widget-view+json": {
       "model_id": "00dfbab31d7f41dda3f02cdec708cc38",
       "version_major": 2,
       "version_minor": 0
      },
      "text/plain": [
       "Running Simulation :   0%|          | 0/1900 [00:00<?, ?it/s]"
      ]
     },
     "metadata": {},
     "output_type": "display_data"
    },
    {
     "name": "stderr",
     "output_type": "stream",
     "text": [
      "2021-11-25 12:16:22,521:INFO:Accuracy: [0.7631578947368421],\tvtraining:5,\tvtesting:0.2, \tdt: 0.01, \tnumDT:20\n",
      "\u001b[32m[I 2021-11-25 12:16:22,615]\u001b[0m Trial 249 finished with value: 0.7631578947368421 and parameters: {'dt': 0, 'ampTraining': 3, 'ampTesting': 1}. Best is trial 58 with value: 1.0.\u001b[0m\n"
     ]
    },
    {
     "name": "stdout",
     "output_type": "stream",
     "text": [
      "0.7631578947368421\n"
     ]
    },
    {
     "data": {
      "application/vnd.jupyter.widget-view+json": {
       "model_id": "aed5f7441dfe42c98e0204f36f3e170d",
       "version_major": 2,
       "version_minor": 0
      },
      "text/plain": [
       "  0%|          | 0/1 [00:00<?, ?it/s]"
      ]
     },
     "metadata": {},
     "output_type": "display_data"
    },
    {
     "data": {
      "application/vnd.jupyter.widget-view+json": {
       "model_id": "3b4b4050dde948d69b946b829f1c94ca",
       "version_major": 2,
       "version_minor": 0
      },
      "text/plain": [
       "Running Simulation :   0%|          | 0/1900 [00:00<?, ?it/s]"
      ]
     },
     "metadata": {},
     "output_type": "display_data"
    },
    {
     "name": "stderr",
     "output_type": "stream",
     "text": [
      "2021-11-25 12:16:29,029:INFO:Accuracy: [0.7210526315789474],\tvtraining:5,\tvtesting:0.3, \tdt: 0.01, \tnumDT:20\n",
      "\u001b[32m[I 2021-11-25 12:16:29,129]\u001b[0m Trial 250 finished with value: 0.7210526315789474 and parameters: {'dt': 0, 'ampTraining': 3, 'ampTesting': 2}. Best is trial 58 with value: 1.0.\u001b[0m\n"
     ]
    },
    {
     "name": "stdout",
     "output_type": "stream",
     "text": [
      "0.7210526315789474\n"
     ]
    },
    {
     "data": {
      "application/vnd.jupyter.widget-view+json": {
       "model_id": "68e154b16ef940759c3670a63821f0df",
       "version_major": 2,
       "version_minor": 0
      },
      "text/plain": [
       "  0%|          | 0/1 [00:00<?, ?it/s]"
      ]
     },
     "metadata": {},
     "output_type": "display_data"
    },
    {
     "data": {
      "application/vnd.jupyter.widget-view+json": {
       "model_id": "59075abfb6d348cca50549a09a61cb47",
       "version_major": 2,
       "version_minor": 0
      },
      "text/plain": [
       "Running Simulation :   0%|          | 0/1900 [00:00<?, ?it/s]"
      ]
     },
     "metadata": {},
     "output_type": "display_data"
    },
    {
     "name": "stderr",
     "output_type": "stream",
     "text": [
      "2021-11-25 12:16:35,577:INFO:Accuracy: [0.7894736842105263],\tvtraining:5,\tvtesting:0.3, \tdt: 0.01, \tnumDT:20\n",
      "\u001b[32m[I 2021-11-25 12:16:35,679]\u001b[0m Trial 251 finished with value: 0.7894736842105263 and parameters: {'dt': 0, 'ampTraining': 3, 'ampTesting': 2}. Best is trial 58 with value: 1.0.\u001b[0m\n"
     ]
    },
    {
     "name": "stdout",
     "output_type": "stream",
     "text": [
      "0.7894736842105263\n"
     ]
    },
    {
     "data": {
      "application/vnd.jupyter.widget-view+json": {
       "model_id": "5896fe411b544287b761c6fed4dece55",
       "version_major": 2,
       "version_minor": 0
      },
      "text/plain": [
       "  0%|          | 0/1 [00:00<?, ?it/s]"
      ]
     },
     "metadata": {},
     "output_type": "display_data"
    },
    {
     "data": {
      "application/vnd.jupyter.widget-view+json": {
       "model_id": "47a4af39d47f4fa382ba7bfce998123a",
       "version_major": 2,
       "version_minor": 0
      },
      "text/plain": [
       "Running Simulation :   0%|          | 0/1900 [00:00<?, ?it/s]"
      ]
     },
     "metadata": {},
     "output_type": "display_data"
    },
    {
     "name": "stderr",
     "output_type": "stream",
     "text": [
      "2021-11-25 12:16:42,126:INFO:Accuracy: [0.7368421052631579],\tvtraining:5,\tvtesting:0.2, \tdt: 0.01, \tnumDT:20\n",
      "\u001b[32m[I 2021-11-25 12:16:42,224]\u001b[0m Trial 252 finished with value: 0.7368421052631579 and parameters: {'dt': 0, 'ampTraining': 3, 'ampTesting': 1}. Best is trial 58 with value: 1.0.\u001b[0m\n"
     ]
    },
    {
     "name": "stdout",
     "output_type": "stream",
     "text": [
      "0.7368421052631579\n"
     ]
    },
    {
     "data": {
      "application/vnd.jupyter.widget-view+json": {
       "model_id": "e7c4cf8b56584227a04822adfc662a49",
       "version_major": 2,
       "version_minor": 0
      },
      "text/plain": [
       "  0%|          | 0/1 [00:00<?, ?it/s]"
      ]
     },
     "metadata": {},
     "output_type": "display_data"
    },
    {
     "data": {
      "application/vnd.jupyter.widget-view+json": {
       "model_id": "1feca40917f74817a3eeb1d05d11d807",
       "version_major": 2,
       "version_minor": 0
      },
      "text/plain": [
       "Running Simulation :   0%|          | 0/1900 [00:00<?, ?it/s]"
      ]
     },
     "metadata": {},
     "output_type": "display_data"
    },
    {
     "name": "stderr",
     "output_type": "stream",
     "text": [
      "2021-11-25 12:16:48,626:INFO:Accuracy: [0.8421052631578947],\tvtraining:5,\tvtesting:0.2, \tdt: 0.01, \tnumDT:20\n",
      "\u001b[32m[I 2021-11-25 12:16:48,726]\u001b[0m Trial 253 finished with value: 0.8421052631578947 and parameters: {'dt': 0, 'ampTraining': 3, 'ampTesting': 1}. Best is trial 58 with value: 1.0.\u001b[0m\n"
     ]
    },
    {
     "name": "stdout",
     "output_type": "stream",
     "text": [
      "0.8421052631578947\n"
     ]
    },
    {
     "data": {
      "application/vnd.jupyter.widget-view+json": {
       "model_id": "400aecb5ac56444e85780dc6085303b7",
       "version_major": 2,
       "version_minor": 0
      },
      "text/plain": [
       "  0%|          | 0/1 [00:00<?, ?it/s]"
      ]
     },
     "metadata": {},
     "output_type": "display_data"
    },
    {
     "data": {
      "application/vnd.jupyter.widget-view+json": {
       "model_id": "09280a365c5840d1a4cb37f9a766ce8f",
       "version_major": 2,
       "version_minor": 0
      },
      "text/plain": [
       "Running Simulation :   0%|          | 0/1900 [00:00<?, ?it/s]"
      ]
     },
     "metadata": {},
     "output_type": "display_data"
    },
    {
     "name": "stderr",
     "output_type": "stream",
     "text": [
      "2021-11-25 12:16:55,183:INFO:Accuracy: [0.7368421052631579],\tvtraining:5,\tvtesting:0.2, \tdt: 0.01, \tnumDT:20\n",
      "\u001b[32m[I 2021-11-25 12:16:55,285]\u001b[0m Trial 254 finished with value: 0.7368421052631579 and parameters: {'dt': 0, 'ampTraining': 3, 'ampTesting': 1}. Best is trial 58 with value: 1.0.\u001b[0m\n"
     ]
    },
    {
     "name": "stdout",
     "output_type": "stream",
     "text": [
      "0.7368421052631579\n"
     ]
    },
    {
     "data": {
      "application/vnd.jupyter.widget-view+json": {
       "model_id": "356ab0e41eb14927b51aebd20e9c6c12",
       "version_major": 2,
       "version_minor": 0
      },
      "text/plain": [
       "  0%|          | 0/1 [00:00<?, ?it/s]"
      ]
     },
     "metadata": {},
     "output_type": "display_data"
    },
    {
     "data": {
      "application/vnd.jupyter.widget-view+json": {
       "model_id": "240fca8b22d44036a65dc3a4a1485657",
       "version_major": 2,
       "version_minor": 0
      },
      "text/plain": [
       "Running Simulation :   0%|          | 0/1900 [00:00<?, ?it/s]"
      ]
     },
     "metadata": {},
     "output_type": "display_data"
    },
    {
     "name": "stderr",
     "output_type": "stream",
     "text": [
      "2021-11-25 12:17:01,731:INFO:Accuracy: [0.7473684210526316],\tvtraining:5,\tvtesting:0.2, \tdt: 0.01, \tnumDT:20\n",
      "\u001b[32m[I 2021-11-25 12:17:01,827]\u001b[0m Trial 255 finished with value: 0.7473684210526316 and parameters: {'dt': 0, 'ampTraining': 3, 'ampTesting': 1}. Best is trial 58 with value: 1.0.\u001b[0m\n"
     ]
    },
    {
     "name": "stdout",
     "output_type": "stream",
     "text": [
      "0.7473684210526316\n"
     ]
    },
    {
     "data": {
      "application/vnd.jupyter.widget-view+json": {
       "model_id": "79a9ac53a3324b2aa14debdd1301a17b",
       "version_major": 2,
       "version_minor": 0
      },
      "text/plain": [
       "  0%|          | 0/1 [00:00<?, ?it/s]"
      ]
     },
     "metadata": {},
     "output_type": "display_data"
    },
    {
     "data": {
      "application/vnd.jupyter.widget-view+json": {
       "model_id": "2d5a9c5e9f0a483fa5bdf6a7283715f8",
       "version_major": 2,
       "version_minor": 0
      },
      "text/plain": [
       "Running Simulation :   0%|          | 0/1900 [00:00<?, ?it/s]"
      ]
     },
     "metadata": {},
     "output_type": "display_data"
    },
    {
     "name": "stderr",
     "output_type": "stream",
     "text": [
      "2021-11-25 12:17:08,269:INFO:Accuracy: [0.9473684210526315],\tvtraining:5,\tvtesting:0.2, \tdt: 0.01, \tnumDT:20\n",
      "\u001b[32m[I 2021-11-25 12:17:08,364]\u001b[0m Trial 256 finished with value: 0.9473684210526315 and parameters: {'dt': 0, 'ampTraining': 3, 'ampTesting': 1}. Best is trial 58 with value: 1.0.\u001b[0m\n"
     ]
    },
    {
     "name": "stdout",
     "output_type": "stream",
     "text": [
      "0.9473684210526315\n"
     ]
    },
    {
     "data": {
      "application/vnd.jupyter.widget-view+json": {
       "model_id": "ba0b19bbf2c4449a80ab08e4dbc6e3cb",
       "version_major": 2,
       "version_minor": 0
      },
      "text/plain": [
       "  0%|          | 0/1 [00:00<?, ?it/s]"
      ]
     },
     "metadata": {},
     "output_type": "display_data"
    },
    {
     "data": {
      "application/vnd.jupyter.widget-view+json": {
       "model_id": "2c997afc26b14257b149955eba3eeebf",
       "version_major": 2,
       "version_minor": 0
      },
      "text/plain": [
       "Running Simulation :   0%|          | 0/1900 [00:00<?, ?it/s]"
      ]
     },
     "metadata": {},
     "output_type": "display_data"
    },
    {
     "name": "stderr",
     "output_type": "stream",
     "text": [
      "2021-11-25 12:17:14,809:INFO:Accuracy: [0.7894736842105263],\tvtraining:5,\tvtesting:0.2, \tdt: 0.01, \tnumDT:20\n",
      "\u001b[32m[I 2021-11-25 12:17:14,906]\u001b[0m Trial 257 finished with value: 0.7894736842105263 and parameters: {'dt': 0, 'ampTraining': 3, 'ampTesting': 1}. Best is trial 58 with value: 1.0.\u001b[0m\n"
     ]
    },
    {
     "name": "stdout",
     "output_type": "stream",
     "text": [
      "0.7894736842105263\n"
     ]
    },
    {
     "data": {
      "application/vnd.jupyter.widget-view+json": {
       "model_id": "ca408e0e7d524a63bff50fd1cf1838e4",
       "version_major": 2,
       "version_minor": 0
      },
      "text/plain": [
       "  0%|          | 0/1 [00:00<?, ?it/s]"
      ]
     },
     "metadata": {},
     "output_type": "display_data"
    },
    {
     "data": {
      "application/vnd.jupyter.widget-view+json": {
       "model_id": "12b1d2f5f0054dd494ec8ef08e7ce0be",
       "version_major": 2,
       "version_minor": 0
      },
      "text/plain": [
       "Running Simulation :   0%|          | 0/1900 [00:00<?, ?it/s]"
      ]
     },
     "metadata": {},
     "output_type": "display_data"
    },
    {
     "name": "stderr",
     "output_type": "stream",
     "text": [
      "2021-11-25 12:17:21,348:INFO:Accuracy: [0.6842105263157895],\tvtraining:5,\tvtesting:0.2, \tdt: 0.01, \tnumDT:20\n",
      "\u001b[32m[I 2021-11-25 12:17:21,441]\u001b[0m Trial 258 finished with value: 0.6842105263157895 and parameters: {'dt': 0, 'ampTraining': 3, 'ampTesting': 1}. Best is trial 58 with value: 1.0.\u001b[0m\n"
     ]
    },
    {
     "name": "stdout",
     "output_type": "stream",
     "text": [
      "0.6842105263157895\n"
     ]
    },
    {
     "data": {
      "application/vnd.jupyter.widget-view+json": {
       "model_id": "732ffeea859340dc9aa86ae2f6c086f6",
       "version_major": 2,
       "version_minor": 0
      },
      "text/plain": [
       "  0%|          | 0/1 [00:00<?, ?it/s]"
      ]
     },
     "metadata": {},
     "output_type": "display_data"
    },
    {
     "data": {
      "application/vnd.jupyter.widget-view+json": {
       "model_id": "331bab1bc04742f19ddd99606e708a37",
       "version_major": 2,
       "version_minor": 0
      },
      "text/plain": [
       "Running Simulation :   0%|          | 0/1900 [00:00<?, ?it/s]"
      ]
     },
     "metadata": {},
     "output_type": "display_data"
    },
    {
     "name": "stderr",
     "output_type": "stream",
     "text": [
      "2021-11-25 12:17:27,888:INFO:Accuracy: [0.8763157894736842],\tvtraining:5,\tvtesting:0.3, \tdt: 0.01, \tnumDT:20\n",
      "\u001b[32m[I 2021-11-25 12:17:27,991]\u001b[0m Trial 259 finished with value: 0.8763157894736842 and parameters: {'dt': 0, 'ampTraining': 3, 'ampTesting': 2}. Best is trial 58 with value: 1.0.\u001b[0m\n"
     ]
    },
    {
     "name": "stdout",
     "output_type": "stream",
     "text": [
      "0.8763157894736842\n"
     ]
    },
    {
     "data": {
      "application/vnd.jupyter.widget-view+json": {
       "model_id": "2bf70d7064814f089d04d9acb9415dab",
       "version_major": 2,
       "version_minor": 0
      },
      "text/plain": [
       "  0%|          | 0/1 [00:00<?, ?it/s]"
      ]
     },
     "metadata": {},
     "output_type": "display_data"
    },
    {
     "data": {
      "application/vnd.jupyter.widget-view+json": {
       "model_id": "90ff00913e804170a4f06dc62dbcec87",
       "version_major": 2,
       "version_minor": 0
      },
      "text/plain": [
       "Running Simulation :   0%|          | 0/190 [00:00<?, ?it/s]"
      ]
     },
     "metadata": {},
     "output_type": "display_data"
    },
    {
     "name": "stderr",
     "output_type": "stream",
     "text": [
      "2021-11-25 12:17:28,837:INFO:Accuracy: [0.7368421052631579],\tvtraining:2,\tvtesting:0.2, \tdt: 0.1, \tnumDT:2\n",
      "\u001b[32m[I 2021-11-25 12:17:28,939]\u001b[0m Trial 260 finished with value: 0.7368421052631579 and parameters: {'dt': 3, 'ampTraining': 2, 'ampTesting': 1}. Best is trial 58 with value: 1.0.\u001b[0m\n"
     ]
    },
    {
     "name": "stdout",
     "output_type": "stream",
     "text": [
      "0.7368421052631579\n"
     ]
    },
    {
     "data": {
      "application/vnd.jupyter.widget-view+json": {
       "model_id": "7996b38c6df44b058715b3e20fdabfda",
       "version_major": 2,
       "version_minor": 0
      },
      "text/plain": [
       "  0%|          | 0/1 [00:00<?, ?it/s]"
      ]
     },
     "metadata": {},
     "output_type": "display_data"
    },
    {
     "data": {
      "application/vnd.jupyter.widget-view+json": {
       "model_id": "b933602ebb574104ae7bb37160495f43",
       "version_major": 2,
       "version_minor": 0
      },
      "text/plain": [
       "Running Simulation :   0%|          | 0/1900 [00:00<?, ?it/s]"
      ]
     },
     "metadata": {},
     "output_type": "display_data"
    },
    {
     "name": "stderr",
     "output_type": "stream",
     "text": [
      "2021-11-25 12:17:35,343:INFO:Accuracy: [0.8421052631578947],\tvtraining:5,\tvtesting:0.2, \tdt: 0.01, \tnumDT:20\n",
      "\u001b[32m[I 2021-11-25 12:17:35,467]\u001b[0m Trial 261 finished with value: 0.8421052631578947 and parameters: {'dt': 0, 'ampTraining': 3, 'ampTesting': 1}. Best is trial 58 with value: 1.0.\u001b[0m\n"
     ]
    },
    {
     "name": "stdout",
     "output_type": "stream",
     "text": [
      "0.8421052631578947\n"
     ]
    },
    {
     "data": {
      "application/vnd.jupyter.widget-view+json": {
       "model_id": "213fc92ed3f24240a12d8fb4358656ab",
       "version_major": 2,
       "version_minor": 0
      },
      "text/plain": [
       "  0%|          | 0/1 [00:00<?, ?it/s]"
      ]
     },
     "metadata": {},
     "output_type": "display_data"
    },
    {
     "data": {
      "application/vnd.jupyter.widget-view+json": {
       "model_id": "203569c305544052ae46fcca10494179",
       "version_major": 2,
       "version_minor": 0
      },
      "text/plain": [
       "Running Simulation :   0%|          | 0/1900 [00:00<?, ?it/s]"
      ]
     },
     "metadata": {},
     "output_type": "display_data"
    },
    {
     "name": "stderr",
     "output_type": "stream",
     "text": [
      "2021-11-25 12:17:41,887:INFO:Accuracy: [0.6842105263157895],\tvtraining:5,\tvtesting:0.2, \tdt: 0.01, \tnumDT:20\n",
      "\u001b[32m[I 2021-11-25 12:17:41,987]\u001b[0m Trial 262 finished with value: 0.6842105263157895 and parameters: {'dt': 0, 'ampTraining': 3, 'ampTesting': 1}. Best is trial 58 with value: 1.0.\u001b[0m\n"
     ]
    },
    {
     "name": "stdout",
     "output_type": "stream",
     "text": [
      "0.6842105263157895\n"
     ]
    },
    {
     "data": {
      "application/vnd.jupyter.widget-view+json": {
       "model_id": "fe6d77907d08429c8d55a6046a39329a",
       "version_major": 2,
       "version_minor": 0
      },
      "text/plain": [
       "  0%|          | 0/1 [00:00<?, ?it/s]"
      ]
     },
     "metadata": {},
     "output_type": "display_data"
    },
    {
     "data": {
      "application/vnd.jupyter.widget-view+json": {
       "model_id": "296b62e997f9439894aca59ee04e6afe",
       "version_major": 2,
       "version_minor": 0
      },
      "text/plain": [
       "Running Simulation :   0%|          | 0/1900 [00:00<?, ?it/s]"
      ]
     },
     "metadata": {},
     "output_type": "display_data"
    },
    {
     "name": "stderr",
     "output_type": "stream",
     "text": [
      "2021-11-25 12:17:48,629:INFO:Accuracy: [0.75],\tvtraining:5,\tvtesting:0.2, \tdt: 0.01, \tnumDT:20\n",
      "\u001b[32m[I 2021-11-25 12:17:48,732]\u001b[0m Trial 263 finished with value: 0.75 and parameters: {'dt': 0, 'ampTraining': 3, 'ampTesting': 1}. Best is trial 58 with value: 1.0.\u001b[0m\n"
     ]
    },
    {
     "name": "stdout",
     "output_type": "stream",
     "text": [
      "0.75\n"
     ]
    },
    {
     "data": {
      "application/vnd.jupyter.widget-view+json": {
       "model_id": "8d874871f73f41d0b1e0ece5cce1873e",
       "version_major": 2,
       "version_minor": 0
      },
      "text/plain": [
       "  0%|          | 0/1 [00:00<?, ?it/s]"
      ]
     },
     "metadata": {},
     "output_type": "display_data"
    },
    {
     "data": {
      "application/vnd.jupyter.widget-view+json": {
       "model_id": "fedc937d90a44ef1b425f632f016baf4",
       "version_major": 2,
       "version_minor": 0
      },
      "text/plain": [
       "Running Simulation :   0%|          | 0/1900 [00:00<?, ?it/s]"
      ]
     },
     "metadata": {},
     "output_type": "display_data"
    },
    {
     "name": "stderr",
     "output_type": "stream",
     "text": [
      "2021-11-25 12:17:55,166:INFO:Accuracy: [0.7684210526315789],\tvtraining:5,\tvtesting:0.2, \tdt: 0.01, \tnumDT:20\n",
      "\u001b[32m[I 2021-11-25 12:17:55,270]\u001b[0m Trial 264 finished with value: 0.7684210526315789 and parameters: {'dt': 0, 'ampTraining': 3, 'ampTesting': 1}. Best is trial 58 with value: 1.0.\u001b[0m\n"
     ]
    },
    {
     "name": "stdout",
     "output_type": "stream",
     "text": [
      "0.7684210526315789\n"
     ]
    },
    {
     "data": {
      "application/vnd.jupyter.widget-view+json": {
       "model_id": "608026f06bca461c8439ab8637b8e2f9",
       "version_major": 2,
       "version_minor": 0
      },
      "text/plain": [
       "  0%|          | 0/1 [00:00<?, ?it/s]"
      ]
     },
     "metadata": {},
     "output_type": "display_data"
    },
    {
     "data": {
      "application/vnd.jupyter.widget-view+json": {
       "model_id": "12e5f507fc304e1d9e6dfabf5fdf2ee4",
       "version_major": 2,
       "version_minor": 0
      },
      "text/plain": [
       "Running Simulation :   0%|          | 0/1900 [00:00<?, ?it/s]"
      ]
     },
     "metadata": {},
     "output_type": "display_data"
    },
    {
     "name": "stderr",
     "output_type": "stream",
     "text": [
      "2021-11-25 12:18:01,710:INFO:Accuracy: [0.49473684210526314],\tvtraining:1,\tvtesting:0.2, \tdt: 0.01, \tnumDT:20\n",
      "\u001b[32m[I 2021-11-25 12:18:01,810]\u001b[0m Trial 265 finished with value: 0.49473684210526314 and parameters: {'dt': 0, 'ampTraining': 1, 'ampTesting': 1}. Best is trial 58 with value: 1.0.\u001b[0m\n"
     ]
    },
    {
     "name": "stdout",
     "output_type": "stream",
     "text": [
      "0.49473684210526314\n"
     ]
    },
    {
     "data": {
      "application/vnd.jupyter.widget-view+json": {
       "model_id": "a9869bfed1e14440b1d3173df33b2024",
       "version_major": 2,
       "version_minor": 0
      },
      "text/plain": [
       "  0%|          | 0/1 [00:00<?, ?it/s]"
      ]
     },
     "metadata": {},
     "output_type": "display_data"
    },
    {
     "data": {
      "application/vnd.jupyter.widget-view+json": {
       "model_id": "1b16f15e8362446396e29e127facbeb1",
       "version_major": 2,
       "version_minor": 0
      },
      "text/plain": [
       "Running Simulation :   0%|          | 0/1900 [00:00<?, ?it/s]"
      ]
     },
     "metadata": {},
     "output_type": "display_data"
    },
    {
     "name": "stderr",
     "output_type": "stream",
     "text": [
      "2021-11-25 12:18:08,286:INFO:Accuracy: [0.5789473684210527],\tvtraining:5,\tvtesting:0.2, \tdt: 0.01, \tnumDT:20\n",
      "\u001b[32m[I 2021-11-25 12:18:08,384]\u001b[0m Trial 266 finished with value: 0.5789473684210527 and parameters: {'dt': 0, 'ampTraining': 3, 'ampTesting': 1}. Best is trial 58 with value: 1.0.\u001b[0m\n"
     ]
    },
    {
     "name": "stdout",
     "output_type": "stream",
     "text": [
      "0.5789473684210527\n"
     ]
    },
    {
     "data": {
      "application/vnd.jupyter.widget-view+json": {
       "model_id": "6d775d39034d4763aa43356197aaefa5",
       "version_major": 2,
       "version_minor": 0
      },
      "text/plain": [
       "  0%|          | 0/1 [00:00<?, ?it/s]"
      ]
     },
     "metadata": {},
     "output_type": "display_data"
    },
    {
     "data": {
      "application/vnd.jupyter.widget-view+json": {
       "model_id": "d219e2e766234f2cad6a0b18771288b9",
       "version_major": 2,
       "version_minor": 0
      },
      "text/plain": [
       "Running Simulation :   0%|          | 0/1900 [00:00<?, ?it/s]"
      ]
     },
     "metadata": {},
     "output_type": "display_data"
    },
    {
     "name": "stderr",
     "output_type": "stream",
     "text": [
      "2021-11-25 12:18:14,841:INFO:Accuracy: [0.7894736842105263],\tvtraining:5,\tvtesting:0.1, \tdt: 0.01, \tnumDT:20\n",
      "\u001b[32m[I 2021-11-25 12:18:14,943]\u001b[0m Trial 267 finished with value: 0.7894736842105263 and parameters: {'dt': 0, 'ampTraining': 3, 'ampTesting': 0}. Best is trial 58 with value: 1.0.\u001b[0m\n"
     ]
    },
    {
     "name": "stdout",
     "output_type": "stream",
     "text": [
      "0.7894736842105263\n"
     ]
    },
    {
     "data": {
      "application/vnd.jupyter.widget-view+json": {
       "model_id": "101d633a4b7f4a7290bb13f7ff909efd",
       "version_major": 2,
       "version_minor": 0
      },
      "text/plain": [
       "  0%|          | 0/1 [00:00<?, ?it/s]"
      ]
     },
     "metadata": {},
     "output_type": "display_data"
    },
    {
     "data": {
      "application/vnd.jupyter.widget-view+json": {
       "model_id": "6f7a163d0ce1473690c12c3da1e6c600",
       "version_major": 2,
       "version_minor": 0
      },
      "text/plain": [
       "Running Simulation :   0%|          | 0/1900 [00:00<?, ?it/s]"
      ]
     },
     "metadata": {},
     "output_type": "display_data"
    },
    {
     "name": "stderr",
     "output_type": "stream",
     "text": [
      "2021-11-25 12:18:21,409:INFO:Accuracy: [0.7973684210526316],\tvtraining:5,\tvtesting:0.2, \tdt: 0.01, \tnumDT:20\n",
      "\u001b[32m[I 2021-11-25 12:18:21,510]\u001b[0m Trial 268 finished with value: 0.7973684210526316 and parameters: {'dt': 0, 'ampTraining': 3, 'ampTesting': 1}. Best is trial 58 with value: 1.0.\u001b[0m\n"
     ]
    },
    {
     "name": "stdout",
     "output_type": "stream",
     "text": [
      "0.7973684210526316\n"
     ]
    },
    {
     "data": {
      "application/vnd.jupyter.widget-view+json": {
       "model_id": "76cd83676c7b45d18368afc60099b4b2",
       "version_major": 2,
       "version_minor": 0
      },
      "text/plain": [
       "  0%|          | 0/1 [00:00<?, ?it/s]"
      ]
     },
     "metadata": {},
     "output_type": "display_data"
    },
    {
     "data": {
      "application/vnd.jupyter.widget-view+json": {
       "model_id": "fb00c6f83fe24ab694c937351ed52552",
       "version_major": 2,
       "version_minor": 0
      },
      "text/plain": [
       "Running Simulation :   0%|          | 0/1900 [00:00<?, ?it/s]"
      ]
     },
     "metadata": {},
     "output_type": "display_data"
    },
    {
     "name": "stderr",
     "output_type": "stream",
     "text": [
      "2021-11-25 12:18:27,974:INFO:Accuracy: [0.8947368421052632],\tvtraining:5,\tvtesting:0.2, \tdt: 0.01, \tnumDT:20\n",
      "\u001b[32m[I 2021-11-25 12:18:28,081]\u001b[0m Trial 269 finished with value: 0.8947368421052632 and parameters: {'dt': 0, 'ampTraining': 3, 'ampTesting': 1}. Best is trial 58 with value: 1.0.\u001b[0m\n"
     ]
    },
    {
     "name": "stdout",
     "output_type": "stream",
     "text": [
      "0.8947368421052632\n"
     ]
    },
    {
     "data": {
      "application/vnd.jupyter.widget-view+json": {
       "model_id": "faa6aadd13c5491f9d84433e56fb8b48",
       "version_major": 2,
       "version_minor": 0
      },
      "text/plain": [
       "  0%|          | 0/1 [00:00<?, ?it/s]"
      ]
     },
     "metadata": {},
     "output_type": "display_data"
    },
    {
     "data": {
      "application/vnd.jupyter.widget-view+json": {
       "model_id": "9b96896d4bbd4bb69c3095de36534174",
       "version_major": 2,
       "version_minor": 0
      },
      "text/plain": [
       "Running Simulation :   0%|          | 0/380 [00:00<?, ?it/s]"
      ]
     },
     "metadata": {},
     "output_type": "display_data"
    },
    {
     "name": "stderr",
     "output_type": "stream",
     "text": [
      "2021-11-25 12:18:29,568:INFO:Accuracy: [0.8421052631578947],\tvtraining:5,\tvtesting:0.2, \tdt: 0.05, \tnumDT:4\n",
      "\u001b[32m[I 2021-11-25 12:18:29,666]\u001b[0m Trial 270 finished with value: 0.8421052631578947 and parameters: {'dt': 2, 'ampTraining': 3, 'ampTesting': 1}. Best is trial 58 with value: 1.0.\u001b[0m\n"
     ]
    },
    {
     "name": "stdout",
     "output_type": "stream",
     "text": [
      "0.8421052631578947\n"
     ]
    },
    {
     "data": {
      "application/vnd.jupyter.widget-view+json": {
       "model_id": "f417a76cbe534a11b06b8cb17d60d6ec",
       "version_major": 2,
       "version_minor": 0
      },
      "text/plain": [
       "  0%|          | 0/1 [00:00<?, ?it/s]"
      ]
     },
     "metadata": {},
     "output_type": "display_data"
    },
    {
     "data": {
      "application/vnd.jupyter.widget-view+json": {
       "model_id": "a7dc876113384023b28b301acb693cbf",
       "version_major": 2,
       "version_minor": 0
      },
      "text/plain": [
       "Running Simulation :   0%|          | 0/950 [00:00<?, ?it/s]"
      ]
     },
     "metadata": {},
     "output_type": "display_data"
    },
    {
     "name": "stderr",
     "output_type": "stream",
     "text": [
      "2021-11-25 12:18:33,021:INFO:Accuracy: [0.8421052631578947],\tvtraining:2,\tvtesting:0.2, \tdt: 0.02, \tnumDT:10\n",
      "\u001b[32m[I 2021-11-25 12:18:33,115]\u001b[0m Trial 271 finished with value: 0.8421052631578947 and parameters: {'dt': 1, 'ampTraining': 2, 'ampTesting': 1}. Best is trial 58 with value: 1.0.\u001b[0m\n"
     ]
    },
    {
     "name": "stdout",
     "output_type": "stream",
     "text": [
      "0.8421052631578947\n"
     ]
    },
    {
     "data": {
      "application/vnd.jupyter.widget-view+json": {
       "model_id": "21d82a254176418e99767fa4608a1bb1",
       "version_major": 2,
       "version_minor": 0
      },
      "text/plain": [
       "  0%|          | 0/1 [00:00<?, ?it/s]"
      ]
     },
     "metadata": {},
     "output_type": "display_data"
    },
    {
     "data": {
      "application/vnd.jupyter.widget-view+json": {
       "model_id": "d670dd44b1c043339065cf0a276907c9",
       "version_major": 2,
       "version_minor": 0
      },
      "text/plain": [
       "Running Simulation :   0%|          | 0/1900 [00:00<?, ?it/s]"
      ]
     },
     "metadata": {},
     "output_type": "display_data"
    },
    {
     "name": "stderr",
     "output_type": "stream",
     "text": [
      "2021-11-25 12:18:39,562:INFO:Accuracy: [0.7368421052631579],\tvtraining:5,\tvtesting:0.2, \tdt: 0.01, \tnumDT:20\n",
      "\u001b[32m[I 2021-11-25 12:18:39,654]\u001b[0m Trial 272 finished with value: 0.7368421052631579 and parameters: {'dt': 0, 'ampTraining': 3, 'ampTesting': 1}. Best is trial 58 with value: 1.0.\u001b[0m\n"
     ]
    },
    {
     "name": "stdout",
     "output_type": "stream",
     "text": [
      "0.7368421052631579\n"
     ]
    },
    {
     "data": {
      "application/vnd.jupyter.widget-view+json": {
       "model_id": "6bcf210a952e4a00adfab538d6a5d814",
       "version_major": 2,
       "version_minor": 0
      },
      "text/plain": [
       "  0%|          | 0/1 [00:00<?, ?it/s]"
      ]
     },
     "metadata": {},
     "output_type": "display_data"
    },
    {
     "data": {
      "application/vnd.jupyter.widget-view+json": {
       "model_id": "edadc47f20b545dc9b18881d0d5c962a",
       "version_major": 2,
       "version_minor": 0
      },
      "text/plain": [
       "Running Simulation :   0%|          | 0/1900 [00:00<?, ?it/s]"
      ]
     },
     "metadata": {},
     "output_type": "display_data"
    },
    {
     "name": "stderr",
     "output_type": "stream",
     "text": [
      "2021-11-25 12:18:46,133:INFO:Accuracy: [0.6842105263157895],\tvtraining:5,\tvtesting:0.2, \tdt: 0.01, \tnumDT:20\n",
      "\u001b[32m[I 2021-11-25 12:18:46,235]\u001b[0m Trial 273 finished with value: 0.6842105263157895 and parameters: {'dt': 0, 'ampTraining': 3, 'ampTesting': 1}. Best is trial 58 with value: 1.0.\u001b[0m\n"
     ]
    },
    {
     "name": "stdout",
     "output_type": "stream",
     "text": [
      "0.6842105263157895\n"
     ]
    },
    {
     "data": {
      "application/vnd.jupyter.widget-view+json": {
       "model_id": "f52ce2034ab3472d99e998ad1e95eedc",
       "version_major": 2,
       "version_minor": 0
      },
      "text/plain": [
       "  0%|          | 0/1 [00:00<?, ?it/s]"
      ]
     },
     "metadata": {},
     "output_type": "display_data"
    },
    {
     "data": {
      "application/vnd.jupyter.widget-view+json": {
       "model_id": "5b27cecff95f40a7a2c99e30a4e892cd",
       "version_major": 2,
       "version_minor": 0
      },
      "text/plain": [
       "Running Simulation :   0%|          | 0/1900 [00:00<?, ?it/s]"
      ]
     },
     "metadata": {},
     "output_type": "display_data"
    },
    {
     "name": "stderr",
     "output_type": "stream",
     "text": [
      "2021-11-25 12:18:52,694:INFO:Accuracy: [0.7210526315789474],\tvtraining:2,\tvtesting:0.1, \tdt: 0.01, \tnumDT:20\n",
      "\u001b[32m[I 2021-11-25 12:18:52,792]\u001b[0m Trial 274 finished with value: 0.7210526315789474 and parameters: {'dt': 0, 'ampTraining': 2, 'ampTesting': 0}. Best is trial 58 with value: 1.0.\u001b[0m\n"
     ]
    },
    {
     "name": "stdout",
     "output_type": "stream",
     "text": [
      "0.7210526315789474\n"
     ]
    },
    {
     "data": {
      "application/vnd.jupyter.widget-view+json": {
       "model_id": "ad9294bc6cec47a8a1e848715ff980c5",
       "version_major": 2,
       "version_minor": 0
      },
      "text/plain": [
       "  0%|          | 0/1 [00:00<?, ?it/s]"
      ]
     },
     "metadata": {},
     "output_type": "display_data"
    },
    {
     "data": {
      "application/vnd.jupyter.widget-view+json": {
       "model_id": "2356b2e9e2d341ba9e70ab1ee9fe722b",
       "version_major": 2,
       "version_minor": 0
      },
      "text/plain": [
       "Running Simulation :   0%|          | 0/1900 [00:00<?, ?it/s]"
      ]
     },
     "metadata": {},
     "output_type": "display_data"
    },
    {
     "name": "stderr",
     "output_type": "stream",
     "text": [
      "2021-11-25 12:18:59,283:INFO:Accuracy: [0.7894736842105263],\tvtraining:5,\tvtesting:0.2, \tdt: 0.01, \tnumDT:20\n",
      "\u001b[32m[I 2021-11-25 12:18:59,387]\u001b[0m Trial 275 finished with value: 0.7894736842105263 and parameters: {'dt': 0, 'ampTraining': 3, 'ampTesting': 1}. Best is trial 58 with value: 1.0.\u001b[0m\n"
     ]
    },
    {
     "name": "stdout",
     "output_type": "stream",
     "text": [
      "0.7894736842105263\n"
     ]
    },
    {
     "data": {
      "application/vnd.jupyter.widget-view+json": {
       "model_id": "c3edeb08da2a4a27832a9a65e7fbe0c9",
       "version_major": 2,
       "version_minor": 0
      },
      "text/plain": [
       "  0%|          | 0/1 [00:00<?, ?it/s]"
      ]
     },
     "metadata": {},
     "output_type": "display_data"
    },
    {
     "data": {
      "application/vnd.jupyter.widget-view+json": {
       "model_id": "2a3140176500472fb267d3a651aba49b",
       "version_major": 2,
       "version_minor": 0
      },
      "text/plain": [
       "Running Simulation :   0%|          | 0/1900 [00:00<?, ?it/s]"
      ]
     },
     "metadata": {},
     "output_type": "display_data"
    },
    {
     "name": "stderr",
     "output_type": "stream",
     "text": [
      "2021-11-25 12:19:05,857:INFO:Accuracy: [0.7105263157894737],\tvtraining:5,\tvtesting:0.3, \tdt: 0.01, \tnumDT:20\n",
      "\u001b[32m[I 2021-11-25 12:19:05,960]\u001b[0m Trial 276 finished with value: 0.7105263157894737 and parameters: {'dt': 0, 'ampTraining': 3, 'ampTesting': 2}. Best is trial 58 with value: 1.0.\u001b[0m\n"
     ]
    },
    {
     "name": "stdout",
     "output_type": "stream",
     "text": [
      "0.7105263157894737\n"
     ]
    },
    {
     "data": {
      "application/vnd.jupyter.widget-view+json": {
       "model_id": "85a182f85737469d826e98bb661d9330",
       "version_major": 2,
       "version_minor": 0
      },
      "text/plain": [
       "  0%|          | 0/1 [00:00<?, ?it/s]"
      ]
     },
     "metadata": {},
     "output_type": "display_data"
    },
    {
     "data": {
      "application/vnd.jupyter.widget-view+json": {
       "model_id": "4d1224616054412fba6c4e77322b8592",
       "version_major": 2,
       "version_minor": 0
      },
      "text/plain": [
       "Running Simulation :   0%|          | 0/190 [00:00<?, ?it/s]"
      ]
     },
     "metadata": {},
     "output_type": "display_data"
    },
    {
     "name": "stderr",
     "output_type": "stream",
     "text": [
      "2021-11-25 12:19:06,820:INFO:Accuracy: [0.7368421052631579],\tvtraining:1,\tvtesting:0.2, \tdt: 0.1, \tnumDT:2\n",
      "\u001b[32m[I 2021-11-25 12:19:06,920]\u001b[0m Trial 277 finished with value: 0.7368421052631579 and parameters: {'dt': 3, 'ampTraining': 1, 'ampTesting': 1}. Best is trial 58 with value: 1.0.\u001b[0m\n"
     ]
    },
    {
     "name": "stdout",
     "output_type": "stream",
     "text": [
      "0.7368421052631579\n"
     ]
    },
    {
     "data": {
      "application/vnd.jupyter.widget-view+json": {
       "model_id": "176daf0def8147039d1603c14317ca55",
       "version_major": 2,
       "version_minor": 0
      },
      "text/plain": [
       "  0%|          | 0/1 [00:00<?, ?it/s]"
      ]
     },
     "metadata": {},
     "output_type": "display_data"
    },
    {
     "data": {
      "application/vnd.jupyter.widget-view+json": {
       "model_id": "9933b0c35efa4ef7824e2bde4c22c579",
       "version_major": 2,
       "version_minor": 0
      },
      "text/plain": [
       "Running Simulation :   0%|          | 0/1900 [00:00<?, ?it/s]"
      ]
     },
     "metadata": {},
     "output_type": "display_data"
    },
    {
     "name": "stderr",
     "output_type": "stream",
     "text": [
      "2021-11-25 12:19:13,375:INFO:Accuracy: [0.7421052631578947],\tvtraining:5,\tvtesting:0.3, \tdt: 0.01, \tnumDT:20\n",
      "\u001b[32m[I 2021-11-25 12:19:13,474]\u001b[0m Trial 278 finished with value: 0.7421052631578947 and parameters: {'dt': 0, 'ampTraining': 3, 'ampTesting': 2}. Best is trial 58 with value: 1.0.\u001b[0m\n"
     ]
    },
    {
     "name": "stdout",
     "output_type": "stream",
     "text": [
      "0.7421052631578947\n"
     ]
    },
    {
     "data": {
      "application/vnd.jupyter.widget-view+json": {
       "model_id": "ab7e9386f9c147a1a421aa3b73742e38",
       "version_major": 2,
       "version_minor": 0
      },
      "text/plain": [
       "  0%|          | 0/1 [00:00<?, ?it/s]"
      ]
     },
     "metadata": {},
     "output_type": "display_data"
    },
    {
     "data": {
      "application/vnd.jupyter.widget-view+json": {
       "model_id": "606c8c139ae444338cf37c608244cf84",
       "version_major": 2,
       "version_minor": 0
      },
      "text/plain": [
       "Running Simulation :   0%|          | 0/1900 [00:00<?, ?it/s]"
      ]
     },
     "metadata": {},
     "output_type": "display_data"
    },
    {
     "name": "stderr",
     "output_type": "stream",
     "text": [
      "2021-11-25 12:19:19,960:INFO:Accuracy: [0.6657894736842105],\tvtraining:5,\tvtesting:0.2, \tdt: 0.01, \tnumDT:20\n",
      "\u001b[32m[I 2021-11-25 12:19:20,061]\u001b[0m Trial 279 finished with value: 0.6657894736842105 and parameters: {'dt': 0, 'ampTraining': 3, 'ampTesting': 1}. Best is trial 58 with value: 1.0.\u001b[0m\n"
     ]
    },
    {
     "name": "stdout",
     "output_type": "stream",
     "text": [
      "0.6657894736842105\n"
     ]
    },
    {
     "data": {
      "application/vnd.jupyter.widget-view+json": {
       "model_id": "62e0755dfc1b47fda8c5741ffb0fc831",
       "version_major": 2,
       "version_minor": 0
      },
      "text/plain": [
       "  0%|          | 0/1 [00:00<?, ?it/s]"
      ]
     },
     "metadata": {},
     "output_type": "display_data"
    },
    {
     "data": {
      "application/vnd.jupyter.widget-view+json": {
       "model_id": "29ba31e93d7448a1ae8087829c6ed973",
       "version_major": 2,
       "version_minor": 0
      },
      "text/plain": [
       "Running Simulation :   0%|          | 0/1900 [00:00<?, ?it/s]"
      ]
     },
     "metadata": {},
     "output_type": "display_data"
    },
    {
     "name": "stderr",
     "output_type": "stream",
     "text": [
      "2021-11-25 12:19:26,525:INFO:Accuracy: [0.7368421052631579],\tvtraining:5,\tvtesting:0.3, \tdt: 0.01, \tnumDT:20\n",
      "\u001b[32m[I 2021-11-25 12:19:26,617]\u001b[0m Trial 280 finished with value: 0.7368421052631579 and parameters: {'dt': 0, 'ampTraining': 3, 'ampTesting': 2}. Best is trial 58 with value: 1.0.\u001b[0m\n"
     ]
    },
    {
     "name": "stdout",
     "output_type": "stream",
     "text": [
      "0.7368421052631579\n"
     ]
    },
    {
     "data": {
      "application/vnd.jupyter.widget-view+json": {
       "model_id": "cbbc01ee95a048b2b34b3d1fecced934",
       "version_major": 2,
       "version_minor": 0
      },
      "text/plain": [
       "  0%|          | 0/1 [00:00<?, ?it/s]"
      ]
     },
     "metadata": {},
     "output_type": "display_data"
    },
    {
     "data": {
      "application/vnd.jupyter.widget-view+json": {
       "model_id": "bd55dbd6e17f473eaa7bc3522e2160a5",
       "version_major": 2,
       "version_minor": 0
      },
      "text/plain": [
       "Running Simulation :   0%|          | 0/1900 [00:00<?, ?it/s]"
      ]
     },
     "metadata": {},
     "output_type": "display_data"
    },
    {
     "name": "stderr",
     "output_type": "stream",
     "text": [
      "2021-11-25 12:19:33,063:INFO:Accuracy: [0.8421052631578947],\tvtraining:5,\tvtesting:0.2, \tdt: 0.01, \tnumDT:20\n",
      "\u001b[32m[I 2021-11-25 12:19:33,168]\u001b[0m Trial 281 finished with value: 0.8421052631578947 and parameters: {'dt': 0, 'ampTraining': 3, 'ampTesting': 1}. Best is trial 58 with value: 1.0.\u001b[0m\n"
     ]
    },
    {
     "name": "stdout",
     "output_type": "stream",
     "text": [
      "0.8421052631578947\n"
     ]
    },
    {
     "data": {
      "application/vnd.jupyter.widget-view+json": {
       "model_id": "18b4c6210c7645e8b810a6688f34c006",
       "version_major": 2,
       "version_minor": 0
      },
      "text/plain": [
       "  0%|          | 0/1 [00:00<?, ?it/s]"
      ]
     },
     "metadata": {},
     "output_type": "display_data"
    },
    {
     "data": {
      "application/vnd.jupyter.widget-view+json": {
       "model_id": "46fa7393c35d45bfbd259d791b2e1eb9",
       "version_major": 2,
       "version_minor": 0
      },
      "text/plain": [
       "Running Simulation :   0%|          | 0/1900 [00:00<?, ?it/s]"
      ]
     },
     "metadata": {},
     "output_type": "display_data"
    },
    {
     "name": "stderr",
     "output_type": "stream",
     "text": [
      "2021-11-25 12:19:39,680:INFO:Accuracy: [0.8526315789473684],\tvtraining:5,\tvtesting:0.2, \tdt: 0.01, \tnumDT:20\n",
      "\u001b[32m[I 2021-11-25 12:19:39,783]\u001b[0m Trial 282 finished with value: 0.8526315789473684 and parameters: {'dt': 0, 'ampTraining': 3, 'ampTesting': 1}. Best is trial 58 with value: 1.0.\u001b[0m\n"
     ]
    },
    {
     "name": "stdout",
     "output_type": "stream",
     "text": [
      "0.8526315789473684\n"
     ]
    },
    {
     "data": {
      "application/vnd.jupyter.widget-view+json": {
       "model_id": "dacc490442cc4a60b134f7cc1126bb02",
       "version_major": 2,
       "version_minor": 0
      },
      "text/plain": [
       "  0%|          | 0/1 [00:00<?, ?it/s]"
      ]
     },
     "metadata": {},
     "output_type": "display_data"
    },
    {
     "data": {
      "application/vnd.jupyter.widget-view+json": {
       "model_id": "2f378bd81a164e3b8befc37af02c0861",
       "version_major": 2,
       "version_minor": 0
      },
      "text/plain": [
       "Running Simulation :   0%|          | 0/950 [00:00<?, ?it/s]"
      ]
     },
     "metadata": {},
     "output_type": "display_data"
    },
    {
     "name": "stderr",
     "output_type": "stream",
     "text": [
      "2021-11-25 12:19:43,097:INFO:Accuracy: [0.8421052631578947],\tvtraining:5,\tvtesting:0.2, \tdt: 0.02, \tnumDT:10\n",
      "\u001b[32m[I 2021-11-25 12:19:43,195]\u001b[0m Trial 283 finished with value: 0.8421052631578947 and parameters: {'dt': 1, 'ampTraining': 3, 'ampTesting': 1}. Best is trial 58 with value: 1.0.\u001b[0m\n"
     ]
    },
    {
     "name": "stdout",
     "output_type": "stream",
     "text": [
      "0.8421052631578947\n"
     ]
    },
    {
     "data": {
      "application/vnd.jupyter.widget-view+json": {
       "model_id": "a8e68815988b46139f6673e093ada672",
       "version_major": 2,
       "version_minor": 0
      },
      "text/plain": [
       "  0%|          | 0/1 [00:00<?, ?it/s]"
      ]
     },
     "metadata": {},
     "output_type": "display_data"
    },
    {
     "data": {
      "application/vnd.jupyter.widget-view+json": {
       "model_id": "ae92b3d4562744879d94f23f1501f5f2",
       "version_major": 2,
       "version_minor": 0
      },
      "text/plain": [
       "Running Simulation :   0%|          | 0/950 [00:00<?, ?it/s]"
      ]
     },
     "metadata": {},
     "output_type": "display_data"
    },
    {
     "name": "stderr",
     "output_type": "stream",
     "text": [
      "2021-11-25 12:19:46,487:INFO:Accuracy: [0.7684210526315789],\tvtraining:2,\tvtesting:0.2, \tdt: 0.02, \tnumDT:10\n",
      "\u001b[32m[I 2021-11-25 12:19:46,588]\u001b[0m Trial 284 finished with value: 0.7684210526315789 and parameters: {'dt': 1, 'ampTraining': 2, 'ampTesting': 1}. Best is trial 58 with value: 1.0.\u001b[0m\n"
     ]
    },
    {
     "name": "stdout",
     "output_type": "stream",
     "text": [
      "0.7684210526315789\n"
     ]
    },
    {
     "data": {
      "application/vnd.jupyter.widget-view+json": {
       "model_id": "48e1af1fcdfc4bd0a6e4bb746554c211",
       "version_major": 2,
       "version_minor": 0
      },
      "text/plain": [
       "  0%|          | 0/1 [00:00<?, ?it/s]"
      ]
     },
     "metadata": {},
     "output_type": "display_data"
    },
    {
     "data": {
      "application/vnd.jupyter.widget-view+json": {
       "model_id": "5b6f5e939b664be1b18f68722c87663a",
       "version_major": 2,
       "version_minor": 0
      },
      "text/plain": [
       "Running Simulation :   0%|          | 0/1900 [00:00<?, ?it/s]"
      ]
     },
     "metadata": {},
     "output_type": "display_data"
    },
    {
     "name": "stderr",
     "output_type": "stream",
     "text": [
      "2021-11-25 12:19:52,988:INFO:Accuracy: [0.8421052631578947],\tvtraining:5,\tvtesting:0.1, \tdt: 0.01, \tnumDT:20\n",
      "\u001b[32m[I 2021-11-25 12:19:53,081]\u001b[0m Trial 285 finished with value: 0.8421052631578947 and parameters: {'dt': 0, 'ampTraining': 3, 'ampTesting': 0}. Best is trial 58 with value: 1.0.\u001b[0m\n"
     ]
    },
    {
     "name": "stdout",
     "output_type": "stream",
     "text": [
      "0.8421052631578947\n"
     ]
    },
    {
     "data": {
      "application/vnd.jupyter.widget-view+json": {
       "model_id": "2c077d9a7477499097d0bf99310b7af1",
       "version_major": 2,
       "version_minor": 0
      },
      "text/plain": [
       "  0%|          | 0/1 [00:00<?, ?it/s]"
      ]
     },
     "metadata": {},
     "output_type": "display_data"
    },
    {
     "data": {
      "application/vnd.jupyter.widget-view+json": {
       "model_id": "abe9f14117994ac9b630703de3fd635d",
       "version_major": 2,
       "version_minor": 0
      },
      "text/plain": [
       "Running Simulation :   0%|          | 0/1900 [00:00<?, ?it/s]"
      ]
     },
     "metadata": {},
     "output_type": "display_data"
    },
    {
     "name": "stderr",
     "output_type": "stream",
     "text": [
      "2021-11-25 12:19:59,500:INFO:Accuracy: [0.631578947368421],\tvtraining:5,\tvtesting:0.2, \tdt: 0.01, \tnumDT:20\n",
      "\u001b[32m[I 2021-11-25 12:19:59,601]\u001b[0m Trial 286 finished with value: 0.631578947368421 and parameters: {'dt': 0, 'ampTraining': 3, 'ampTesting': 1}. Best is trial 58 with value: 1.0.\u001b[0m\n"
     ]
    },
    {
     "name": "stdout",
     "output_type": "stream",
     "text": [
      "0.631578947368421\n"
     ]
    },
    {
     "data": {
      "application/vnd.jupyter.widget-view+json": {
       "model_id": "038909841cdf4cbe9f08b0040a498e23",
       "version_major": 2,
       "version_minor": 0
      },
      "text/plain": [
       "  0%|          | 0/1 [00:00<?, ?it/s]"
      ]
     },
     "metadata": {},
     "output_type": "display_data"
    },
    {
     "data": {
      "application/vnd.jupyter.widget-view+json": {
       "model_id": "1ab6660e8df246f9a22cf673d6b62422",
       "version_major": 2,
       "version_minor": 0
      },
      "text/plain": [
       "Running Simulation :   0%|          | 0/1900 [00:00<?, ?it/s]"
      ]
     },
     "metadata": {},
     "output_type": "display_data"
    },
    {
     "name": "stderr",
     "output_type": "stream",
     "text": [
      "2021-11-25 12:20:06,050:INFO:Accuracy: [0.7368421052631579],\tvtraining:5,\tvtesting:0.2, \tdt: 0.01, \tnumDT:20\n"
     ]
    },
    {
     "name": "stdout",
     "output_type": "stream",
     "text": [
      "0.7368421052631579\n"
     ]
    },
    {
     "name": "stderr",
     "output_type": "stream",
     "text": [
      "\u001b[32m[I 2021-11-25 12:20:06,870]\u001b[0m Trial 287 finished with value: 0.7368421052631579 and parameters: {'dt': 0, 'ampTraining': 3, 'ampTesting': 1}. Best is trial 58 with value: 1.0.\u001b[0m\n"
     ]
    },
    {
     "data": {
      "application/vnd.jupyter.widget-view+json": {
       "model_id": "f24289cd53c74d9892317a855def0eb0",
       "version_major": 2,
       "version_minor": 0
      },
      "text/plain": [
       "  0%|          | 0/1 [00:00<?, ?it/s]"
      ]
     },
     "metadata": {},
     "output_type": "display_data"
    },
    {
     "data": {
      "application/vnd.jupyter.widget-view+json": {
       "model_id": "d3f69f59190c4116a2a2478dea3dc0e0",
       "version_major": 2,
       "version_minor": 0
      },
      "text/plain": [
       "Running Simulation :   0%|          | 0/1900 [00:00<?, ?it/s]"
      ]
     },
     "metadata": {},
     "output_type": "display_data"
    },
    {
     "name": "stderr",
     "output_type": "stream",
     "text": [
      "2021-11-25 12:20:13,241:INFO:Accuracy: [0.8421052631578947],\tvtraining:5,\tvtesting:0.1, \tdt: 0.01, \tnumDT:20\n",
      "\u001b[32m[I 2021-11-25 12:20:13,324]\u001b[0m Trial 288 finished with value: 0.8421052631578947 and parameters: {'dt': 0, 'ampTraining': 3, 'ampTesting': 0}. Best is trial 58 with value: 1.0.\u001b[0m\n"
     ]
    },
    {
     "name": "stdout",
     "output_type": "stream",
     "text": [
      "0.8421052631578947\n"
     ]
    },
    {
     "data": {
      "application/vnd.jupyter.widget-view+json": {
       "model_id": "d65fbe3fda064560aed37767cada4b86",
       "version_major": 2,
       "version_minor": 0
      },
      "text/plain": [
       "  0%|          | 0/1 [00:00<?, ?it/s]"
      ]
     },
     "metadata": {},
     "output_type": "display_data"
    },
    {
     "data": {
      "application/vnd.jupyter.widget-view+json": {
       "model_id": "2f20991390a7432c86c3ed2029a58ac6",
       "version_major": 2,
       "version_minor": 0
      },
      "text/plain": [
       "Running Simulation :   0%|          | 0/380 [00:00<?, ?it/s]"
      ]
     },
     "metadata": {},
     "output_type": "display_data"
    },
    {
     "name": "stderr",
     "output_type": "stream",
     "text": [
      "2021-11-25 12:20:14,740:INFO:Accuracy: [0.7894736842105263],\tvtraining:5,\tvtesting:0.2, \tdt: 0.05, \tnumDT:4\n",
      "\u001b[32m[I 2021-11-25 12:20:14,819]\u001b[0m Trial 289 finished with value: 0.7894736842105263 and parameters: {'dt': 2, 'ampTraining': 3, 'ampTesting': 1}. Best is trial 58 with value: 1.0.\u001b[0m\n"
     ]
    },
    {
     "name": "stdout",
     "output_type": "stream",
     "text": [
      "0.7894736842105263\n"
     ]
    },
    {
     "data": {
      "application/vnd.jupyter.widget-view+json": {
       "model_id": "30fef2a906074a9281d48ee2d50af7b9",
       "version_major": 2,
       "version_minor": 0
      },
      "text/plain": [
       "  0%|          | 0/1 [00:00<?, ?it/s]"
      ]
     },
     "metadata": {},
     "output_type": "display_data"
    },
    {
     "data": {
      "application/vnd.jupyter.widget-view+json": {
       "model_id": "2c95e301abd34e2f8962ce9856d35ec7",
       "version_major": 2,
       "version_minor": 0
      },
      "text/plain": [
       "Running Simulation :   0%|          | 0/380 [00:00<?, ?it/s]"
      ]
     },
     "metadata": {},
     "output_type": "display_data"
    },
    {
     "name": "stderr",
     "output_type": "stream",
     "text": [
      "2021-11-25 12:20:16,222:INFO:Accuracy: [0.7368421052631579],\tvtraining:5,\tvtesting:0.2, \tdt: 0.05, \tnumDT:4\n",
      "\u001b[32m[I 2021-11-25 12:20:16,307]\u001b[0m Trial 290 finished with value: 0.7368421052631579 and parameters: {'dt': 2, 'ampTraining': 3, 'ampTesting': 1}. Best is trial 58 with value: 1.0.\u001b[0m\n"
     ]
    },
    {
     "name": "stdout",
     "output_type": "stream",
     "text": [
      "0.7368421052631579\n"
     ]
    },
    {
     "data": {
      "application/vnd.jupyter.widget-view+json": {
       "model_id": "f1c5ba4b783648d1b9b1d8816efbc41e",
       "version_major": 2,
       "version_minor": 0
      },
      "text/plain": [
       "  0%|          | 0/1 [00:00<?, ?it/s]"
      ]
     },
     "metadata": {},
     "output_type": "display_data"
    },
    {
     "data": {
      "application/vnd.jupyter.widget-view+json": {
       "model_id": "c28ab11eae9a4227b3bb1917da3f475b",
       "version_major": 2,
       "version_minor": 0
      },
      "text/plain": [
       "Running Simulation :   0%|          | 0/1900 [00:00<?, ?it/s]"
      ]
     },
     "metadata": {},
     "output_type": "display_data"
    },
    {
     "name": "stderr",
     "output_type": "stream",
     "text": [
      "2021-11-25 12:20:22,559:INFO:Accuracy: [0.9473684210526315],\tvtraining:5,\tvtesting:0.2, \tdt: 0.01, \tnumDT:20\n",
      "\u001b[32m[I 2021-11-25 12:20:22,640]\u001b[0m Trial 291 finished with value: 0.9473684210526315 and parameters: {'dt': 0, 'ampTraining': 3, 'ampTesting': 1}. Best is trial 58 with value: 1.0.\u001b[0m\n"
     ]
    },
    {
     "name": "stdout",
     "output_type": "stream",
     "text": [
      "0.9473684210526315\n"
     ]
    },
    {
     "data": {
      "application/vnd.jupyter.widget-view+json": {
       "model_id": "299d6e07f39f498db463388b46acdf17",
       "version_major": 2,
       "version_minor": 0
      },
      "text/plain": [
       "  0%|          | 0/1 [00:00<?, ?it/s]"
      ]
     },
     "metadata": {},
     "output_type": "display_data"
    },
    {
     "data": {
      "application/vnd.jupyter.widget-view+json": {
       "model_id": "fb76ea8d97854e209274f4a955b92a2d",
       "version_major": 2,
       "version_minor": 0
      },
      "text/plain": [
       "Running Simulation :   0%|          | 0/1900 [00:00<?, ?it/s]"
      ]
     },
     "metadata": {},
     "output_type": "display_data"
    },
    {
     "name": "stderr",
     "output_type": "stream",
     "text": [
      "2021-11-25 12:20:28,886:INFO:Accuracy: [0.8421052631578947],\tvtraining:5,\tvtesting:0.1, \tdt: 0.01, \tnumDT:20\n",
      "\u001b[32m[I 2021-11-25 12:20:28,971]\u001b[0m Trial 292 finished with value: 0.8421052631578947 and parameters: {'dt': 0, 'ampTraining': 3, 'ampTesting': 0}. Best is trial 58 with value: 1.0.\u001b[0m\n"
     ]
    },
    {
     "name": "stdout",
     "output_type": "stream",
     "text": [
      "0.8421052631578947\n"
     ]
    },
    {
     "data": {
      "application/vnd.jupyter.widget-view+json": {
       "model_id": "675d44de148347039f1a90244199a020",
       "version_major": 2,
       "version_minor": 0
      },
      "text/plain": [
       "  0%|          | 0/1 [00:00<?, ?it/s]"
      ]
     },
     "metadata": {},
     "output_type": "display_data"
    },
    {
     "data": {
      "application/vnd.jupyter.widget-view+json": {
       "model_id": "e5387b4ad882473b844c538d16a5cc2d",
       "version_major": 2,
       "version_minor": 0
      },
      "text/plain": [
       "Running Simulation :   0%|          | 0/190 [00:00<?, ?it/s]"
      ]
     },
     "metadata": {},
     "output_type": "display_data"
    },
    {
     "name": "stderr",
     "output_type": "stream",
     "text": [
      "2021-11-25 12:20:29,798:INFO:Accuracy: [0.8947368421052632],\tvtraining:5,\tvtesting:0.5, \tdt: 0.1, \tnumDT:2\n",
      "\u001b[32m[I 2021-11-25 12:20:29,879]\u001b[0m Trial 293 finished with value: 0.8947368421052632 and parameters: {'dt': 3, 'ampTraining': 3, 'ampTesting': 3}. Best is trial 58 with value: 1.0.\u001b[0m\n"
     ]
    },
    {
     "name": "stdout",
     "output_type": "stream",
     "text": [
      "0.8947368421052632\n"
     ]
    },
    {
     "data": {
      "application/vnd.jupyter.widget-view+json": {
       "model_id": "cf39131bee3e4f1ca6a95370d0a64ac3",
       "version_major": 2,
       "version_minor": 0
      },
      "text/plain": [
       "  0%|          | 0/1 [00:00<?, ?it/s]"
      ]
     },
     "metadata": {},
     "output_type": "display_data"
    },
    {
     "data": {
      "application/vnd.jupyter.widget-view+json": {
       "model_id": "8548b138403445d39b682f46d9841db4",
       "version_major": 2,
       "version_minor": 0
      },
      "text/plain": [
       "Running Simulation :   0%|          | 0/190 [00:00<?, ?it/s]"
      ]
     },
     "metadata": {},
     "output_type": "display_data"
    },
    {
     "name": "stderr",
     "output_type": "stream",
     "text": [
      "2021-11-25 12:20:30,696:INFO:Accuracy: [0.9473684210526315],\tvtraining:5,\tvtesting:0.5, \tdt: 0.1, \tnumDT:2\n",
      "\u001b[32m[I 2021-11-25 12:20:30,783]\u001b[0m Trial 294 finished with value: 0.9473684210526315 and parameters: {'dt': 3, 'ampTraining': 3, 'ampTesting': 3}. Best is trial 58 with value: 1.0.\u001b[0m\n"
     ]
    },
    {
     "name": "stdout",
     "output_type": "stream",
     "text": [
      "0.9473684210526315\n"
     ]
    },
    {
     "data": {
      "application/vnd.jupyter.widget-view+json": {
       "model_id": "2663ae0b2628435e81b1f9a6c6ba10f9",
       "version_major": 2,
       "version_minor": 0
      },
      "text/plain": [
       "  0%|          | 0/1 [00:00<?, ?it/s]"
      ]
     },
     "metadata": {},
     "output_type": "display_data"
    },
    {
     "data": {
      "application/vnd.jupyter.widget-view+json": {
       "model_id": "75b14e9d9bf844d79c615de4c3129bf9",
       "version_major": 2,
       "version_minor": 0
      },
      "text/plain": [
       "Running Simulation :   0%|          | 0/1900 [00:00<?, ?it/s]"
      ]
     },
     "metadata": {},
     "output_type": "display_data"
    },
    {
     "name": "stderr",
     "output_type": "stream",
     "text": [
      "2021-11-25 12:20:37,182:INFO:Accuracy: [0.7105263157894737],\tvtraining:0.5,\tvtesting:0.2, \tdt: 0.01, \tnumDT:20\n",
      "\u001b[32m[I 2021-11-25 12:20:37,278]\u001b[0m Trial 295 finished with value: 0.7105263157894737 and parameters: {'dt': 0, 'ampTraining': 0, 'ampTesting': 1}. Best is trial 58 with value: 1.0.\u001b[0m\n"
     ]
    },
    {
     "name": "stdout",
     "output_type": "stream",
     "text": [
      "0.7105263157894737\n"
     ]
    },
    {
     "data": {
      "application/vnd.jupyter.widget-view+json": {
       "model_id": "455ecb579cd44e378f0443758537ecd2",
       "version_major": 2,
       "version_minor": 0
      },
      "text/plain": [
       "  0%|          | 0/1 [00:00<?, ?it/s]"
      ]
     },
     "metadata": {},
     "output_type": "display_data"
    },
    {
     "data": {
      "application/vnd.jupyter.widget-view+json": {
       "model_id": "1ac24c9783f54a8ab522964681141cdd",
       "version_major": 2,
       "version_minor": 0
      },
      "text/plain": [
       "Running Simulation :   0%|          | 0/1900 [00:00<?, ?it/s]"
      ]
     },
     "metadata": {},
     "output_type": "display_data"
    },
    {
     "name": "stderr",
     "output_type": "stream",
     "text": [
      "2021-11-25 12:20:43,558:INFO:Accuracy: [0.8736842105263158],\tvtraining:5,\tvtesting:0.5, \tdt: 0.01, \tnumDT:20\n",
      "\u001b[32m[I 2021-11-25 12:20:43,654]\u001b[0m Trial 296 finished with value: 0.8736842105263158 and parameters: {'dt': 0, 'ampTraining': 3, 'ampTesting': 3}. Best is trial 58 with value: 1.0.\u001b[0m\n"
     ]
    },
    {
     "name": "stdout",
     "output_type": "stream",
     "text": [
      "0.8736842105263158\n"
     ]
    },
    {
     "data": {
      "application/vnd.jupyter.widget-view+json": {
       "model_id": "1ca0dac6095f4bbe9eca1553f3e29921",
       "version_major": 2,
       "version_minor": 0
      },
      "text/plain": [
       "  0%|          | 0/1 [00:00<?, ?it/s]"
      ]
     },
     "metadata": {},
     "output_type": "display_data"
    },
    {
     "data": {
      "application/vnd.jupyter.widget-view+json": {
       "model_id": "5b3d20bce3ea4960bb45f02111c0ed18",
       "version_major": 2,
       "version_minor": 0
      },
      "text/plain": [
       "Running Simulation :   0%|          | 0/190 [00:00<?, ?it/s]"
      ]
     },
     "metadata": {},
     "output_type": "display_data"
    },
    {
     "name": "stderr",
     "output_type": "stream",
     "text": [
      "2021-11-25 12:20:44,486:INFO:Accuracy: [0.6842105263157895],\tvtraining:2,\tvtesting:0.5, \tdt: 0.1, \tnumDT:2\n",
      "\u001b[32m[I 2021-11-25 12:20:44,569]\u001b[0m Trial 297 finished with value: 0.6842105263157895 and parameters: {'dt': 3, 'ampTraining': 2, 'ampTesting': 3}. Best is trial 58 with value: 1.0.\u001b[0m\n"
     ]
    },
    {
     "name": "stdout",
     "output_type": "stream",
     "text": [
      "0.6842105263157895\n"
     ]
    },
    {
     "data": {
      "application/vnd.jupyter.widget-view+json": {
       "model_id": "6ef513b9dd904c8fa6ee98ae0bbf64be",
       "version_major": 2,
       "version_minor": 0
      },
      "text/plain": [
       "  0%|          | 0/1 [00:00<?, ?it/s]"
      ]
     },
     "metadata": {},
     "output_type": "display_data"
    },
    {
     "data": {
      "application/vnd.jupyter.widget-view+json": {
       "model_id": "77ae85defef34c0e8730de296e917db3",
       "version_major": 2,
       "version_minor": 0
      },
      "text/plain": [
       "Running Simulation :   0%|          | 0/1900 [00:00<?, ?it/s]"
      ]
     },
     "metadata": {},
     "output_type": "display_data"
    },
    {
     "name": "stderr",
     "output_type": "stream",
     "text": [
      "2021-11-25 12:20:50,945:INFO:Accuracy: [0.7894736842105263],\tvtraining:5,\tvtesting:0.5, \tdt: 0.01, \tnumDT:20\n",
      "\u001b[32m[I 2021-11-25 12:20:51,048]\u001b[0m Trial 298 finished with value: 0.7894736842105263 and parameters: {'dt': 0, 'ampTraining': 3, 'ampTesting': 3}. Best is trial 58 with value: 1.0.\u001b[0m\n"
     ]
    },
    {
     "name": "stdout",
     "output_type": "stream",
     "text": [
      "0.7894736842105263\n"
     ]
    },
    {
     "data": {
      "application/vnd.jupyter.widget-view+json": {
       "model_id": "ebfb7abfbf9d48b3a7fb0f93fb6526f7",
       "version_major": 2,
       "version_minor": 0
      },
      "text/plain": [
       "  0%|          | 0/1 [00:00<?, ?it/s]"
      ]
     },
     "metadata": {},
     "output_type": "display_data"
    },
    {
     "data": {
      "application/vnd.jupyter.widget-view+json": {
       "model_id": "e0ae3da97aa54c6c8d6590bbf945e62f",
       "version_major": 2,
       "version_minor": 0
      },
      "text/plain": [
       "Running Simulation :   0%|          | 0/1900 [00:00<?, ?it/s]"
      ]
     },
     "metadata": {},
     "output_type": "display_data"
    },
    {
     "name": "stderr",
     "output_type": "stream",
     "text": [
      "2021-11-25 12:20:57,497:INFO:Accuracy: [0.7368421052631579],\tvtraining:5,\tvtesting:0.2, \tdt: 0.01, \tnumDT:20\n",
      "\u001b[32m[I 2021-11-25 12:20:57,594]\u001b[0m Trial 299 finished with value: 0.7368421052631579 and parameters: {'dt': 0, 'ampTraining': 3, 'ampTesting': 1}. Best is trial 58 with value: 1.0.\u001b[0m\n"
     ]
    },
    {
     "name": "stdout",
     "output_type": "stream",
     "text": [
      "0.7368421052631579\n"
     ]
    },
    {
     "data": {
      "application/vnd.jupyter.widget-view+json": {
       "model_id": "8e72e040567c4ed7871d986e31e07d78",
       "version_major": 2,
       "version_minor": 0
      },
      "text/plain": [
       "  0%|          | 0/1 [00:00<?, ?it/s]"
      ]
     },
     "metadata": {},
     "output_type": "display_data"
    },
    {
     "data": {
      "application/vnd.jupyter.widget-view+json": {
       "model_id": "f8281dfaade44983a3f8c41ffa670280",
       "version_major": 2,
       "version_minor": 0
      },
      "text/plain": [
       "Running Simulation :   0%|          | 0/190 [00:00<?, ?it/s]"
      ]
     },
     "metadata": {},
     "output_type": "display_data"
    },
    {
     "name": "stderr",
     "output_type": "stream",
     "text": [
      "2021-11-25 12:20:58,431:INFO:Accuracy: [0.7894736842105263],\tvtraining:5,\tvtesting:0.5, \tdt: 0.1, \tnumDT:2\n",
      "\u001b[32m[I 2021-11-25 12:20:58,523]\u001b[0m Trial 300 finished with value: 0.7894736842105263 and parameters: {'dt': 3, 'ampTraining': 3, 'ampTesting': 3}. Best is trial 58 with value: 1.0.\u001b[0m\n"
     ]
    },
    {
     "name": "stdout",
     "output_type": "stream",
     "text": [
      "0.7894736842105263\n"
     ]
    },
    {
     "data": {
      "application/vnd.jupyter.widget-view+json": {
       "model_id": "72cc476a60454afc8c841d11158a6d7f",
       "version_major": 2,
       "version_minor": 0
      },
      "text/plain": [
       "  0%|          | 0/1 [00:00<?, ?it/s]"
      ]
     },
     "metadata": {},
     "output_type": "display_data"
    },
    {
     "data": {
      "application/vnd.jupyter.widget-view+json": {
       "model_id": "7230fad02c3e428dab499bf9f05c8b90",
       "version_major": 2,
       "version_minor": 0
      },
      "text/plain": [
       "Running Simulation :   0%|          | 0/1900 [00:00<?, ?it/s]"
      ]
     },
     "metadata": {},
     "output_type": "display_data"
    },
    {
     "name": "stderr",
     "output_type": "stream",
     "text": [
      "2021-11-25 12:21:05,026:INFO:Accuracy: [0.7894736842105263],\tvtraining:5,\tvtesting:0.2, \tdt: 0.01, \tnumDT:20\n",
      "\u001b[32m[I 2021-11-25 12:21:05,129]\u001b[0m Trial 301 finished with value: 0.7894736842105263 and parameters: {'dt': 0, 'ampTraining': 3, 'ampTesting': 1}. Best is trial 58 with value: 1.0.\u001b[0m\n"
     ]
    },
    {
     "name": "stdout",
     "output_type": "stream",
     "text": [
      "0.7894736842105263\n",
      "Best config: {'ampTesting': 1, 'ampTraining': 3, 'dt': 0}\n"
     ]
    },
    {
     "data": {
      "text/plain": [
       "['optuna.pkl']"
      ]
     },
     "execution_count": 115,
     "metadata": {},
     "output_type": "execute_result"
    }
   ],
   "source": [
    "#!/usr/bin/env python\n",
    "# coding: utf-8\n",
    "\n",
    "# In[ ]:\n",
    "\n",
    "\n",
    "\"\"\" \n",
    "\n",
    "Run Equilibrium Propagation / Backpropagation on Nanowire Networks for classification. \n",
    "\n",
    "Author: Alon Loeffler\n",
    "\n",
    "Required Files/Folders: learning_functions.py | edamame | asn_nw_01399_nj_06084_seed_1159_avl_10.00_disp_01.00_lx_100.00_ly_100.00.mat\n",
    "\n",
    "\"\"\"\n",
    "\n",
    "#IMPORTS:\n",
    "import optuna\n",
    "import joblib\n",
    "import logging\n",
    "SAVE_CSV = True\n",
    "num_trials = 300\n",
    "\n",
    "#Append path to Ruomin's Edamame Package (Nanowire Simulations)\n",
    "import sys\n",
    "import os\n",
    "\n",
    "sys.path.append('/import/silo2/aloe8475/Documents/edamame') #point to edamame locally\n",
    "sys.path.append('/import/silo2/aloe8475/Documents/CODE/Analysis/Training/Associative Learning/EquilProp') #point to edamame locally\n",
    "\n",
    "fileName='/import/silo2/aloe8475/Documents/Data/Associative Learning/Sparse Networks/asn_nw_00350_nj_01350_seed_1581_avl_10.00_disp_01.00_lx_50.00_ly_50.00'\n",
    "#point to network data path ^ \n",
    "\n",
    "#saveFig='/import/silo2/aloe8475/Documents/Data/Figures/Equil Prop/' \n",
    "\n",
    "#import edamame (neuromorphic nanowire python package by Ruomin Zhu)\n",
    "from edamame import * \n",
    "import numpy as np\n",
    "import matplotlib.pyplot as plt\n",
    "import copy\n",
    "from scipy.io import loadmat, savemat\n",
    "import networkx as nx\n",
    "from tqdm.notebook import tqdm_notebook as tqdm\n",
    "from IPython.core.debugger import set_trace\n",
    "\n",
    "import pickle \n",
    "import _pickle as cPickle\n",
    "import gzip\n",
    "\n",
    "from learning_functions import genGridNW,point_on_line,dist,getWeightedGraph\n",
    "from learning_functions import calc_cost,setupStimulus,setupSourcesOnly,runTesting,getNWState,calcOutputs\n",
    "\n",
    "\" Create Inputs \"\n",
    "def createSimpleInputs(numSamples=10):\n",
    "    #SIMPLE ROW INPUTS:\n",
    "    np.random.seed(42)\n",
    "    orig_inputs=np.array((np.array([1,0,1,1,0,1,0]),np.array([0,1,0,1,1,0,1])))\n",
    "    orig_inputs=orig_inputs.astype('double')\n",
    "    samples=[[] for i in range(len(orig_inputs))]\n",
    "    new_inputs=np.array([orig_inputs]*numSamples)\n",
    "\n",
    "    #Pattern without Noise\n",
    "    NoNoiseInputs=[]\n",
    "    for targetClass in range(len(orig_inputs)):\n",
    "        NoNoiseInputs.append([int(i) for i in orig_inputs[targetClass]])\n",
    "\n",
    "    #Make Noisy variants of simple patterns:\n",
    "    for i in range(len(orig_inputs)):\n",
    "        for j in range(numSamples):\n",
    "            randVals=np.random.randint(1,3) #choose how many of the 3 sources will have noise\n",
    "            noiseVals=np.random.randint(3, size=randVals)\n",
    "            temp=orig_inputs[i][orig_inputs[i]==1].astype('double')\n",
    "            for val in noiseVals:\n",
    "                temp[val]=np.double(np.random.random(1))\n",
    "            new_inputs[j][i][new_inputs[j][i]==1]=temp\n",
    "    #         samples[i].append(temp)\n",
    "\n",
    "    #RESHAPE INPUTS INTO numSamplesx2\n",
    "    row1=[]\n",
    "    row2=[]\n",
    "    for i in range(len(new_inputs)):\n",
    "        row1.append(new_inputs[i][0])\n",
    "        row2.append(new_inputs[i][1])\n",
    "\n",
    "    inputs=np.array([row1,row2])\n",
    "    inputs=inputs.reshape(numSamples*2,orig_inputs.shape[1])\n",
    "    targets=np.zeros(numSamples*2)\n",
    "    targets[-numSamples:]=1\n",
    "\n",
    "    #change 0 volts to 0.05\n",
    "    minVoltage=0.005\n",
    "    inputs=inputs+minVoltage\n",
    "    \n",
    "    return inputs, targets,orig_inputs\n",
    "\n",
    "\" Load Networks \"\n",
    "def buildNetworks(fileName):\n",
    "    #load data\n",
    "    nw=loadmat(fileName)\n",
    "    nwSize = nw['number_of_wires'][0][0]\n",
    "    this_seed=8639\n",
    "    Network=nw\n",
    "    connectivity=connectivity__(wires_dict=Network) \n",
    "\n",
    "    #fixing file structure from Matlab:\n",
    "    connectivity.avg_length=connectivity.avg_length[0][0]\n",
    "    connectivity.number_of_junctions=connectivity.number_of_junctions[0][0]\n",
    "    connectivity.centroid_dispersion=connectivity.centroid_dispersion[0][0]\n",
    "    connectivity.dispersion=connectivity.dispersion[0][0]\n",
    "    # connectivity.generating_number_of_wires=connectivity.generating_number_of_wires[0][0]\n",
    "    connectivity.gennorm_shape=connectivity.gennorm_shape[0][0]\n",
    "    connectivity.length_x=connectivity.length_x[0][0]\n",
    "    connectivity.length_y=connectivity.length_y[0][0]\n",
    "    connectivity.number_of_wires=connectivity.number_of_wires[0][0]\n",
    "    connectivity.numOfWires=connectivity.numOfWires[0][0]\n",
    "    connectivity.numOfJunctions=connectivity.numOfJunctions[0][0]\n",
    "    connectivity.theta=connectivity.theta[0][0]\n",
    "    connectivity.this_seed=connectivity.this_seed[0][0]\n",
    "    \n",
    "    #find x and y values of each end of each wire \n",
    "    xa=connectivity.xa[0]\n",
    "    xb=connectivity.xb[0]\n",
    "    ya=connectivity.ya[0]\n",
    "    yb=connectivity.yb[0]\n",
    "\n",
    "    #Pick Electrode placement/distance apart:\n",
    "    \n",
    "    #DRAINS\n",
    "    numDrains=3\n",
    "    ex=np.ones(numDrains)*5#*15\n",
    "    if nwSize > 500:\n",
    "        eyVal=101\n",
    "    else:\n",
    "        eyVal= 51\n",
    "    ey=np.linspace(-1,eyVal,numDrains)#(-1,101,numDrains)\n",
    "\n",
    "    elecDrain=genGridNW(xa,xb,ya,yb,ex,ey) #generate drain locations in ex, ey coordinates\n",
    "\n",
    "    #SOURCES\n",
    "    numSources=9\n",
    "\n",
    "    #IN A LINE:\n",
    "    if nwSize > 500:\n",
    "        exVal=100\n",
    "        eyVal = 99\n",
    "    else:\n",
    "        exVal=50\n",
    "        eyVal=49\n",
    "    ex=np.ones(numSources)*exVal#50\n",
    "    ey=np.linspace(-2,eyVal,numSources)#(-2,99,numSources)\n",
    "    \n",
    "    #IN A 3X3 GRID:\n",
    "    # middleNWx=int(connectivity.length_x/2)+1\n",
    "    # middleNWy=int(connectivity.length_y/2)-1\n",
    "    # distBwElecs=10\n",
    "    # ex=[middleNWx-distBwElecs,middleNWx-distBwElecs,middleNWx-distBwElecs,middleNWx,middleNWx,middleNWx,middleNWx+distBwElecs,middleNWx+distBwElecs,middleNWx+distBwElecs]\n",
    "    # ey=[middleNWy-distBwElecs,middleNWy,middleNWy+distBwElecs]*3\n",
    "\n",
    "    elecSource=genGridNW(xa,xb,ya,yb,ex,ey) #generate source locations in ex, ey coordinates\n",
    "\n",
    "\n",
    "    #remove middle drain and sources for simple patterns:\n",
    "\n",
    "    elecSource=elecSource[[0,1,2,4,6,7,8]]\n",
    "    elecDrain=elecDrain[[0,-1]]\n",
    "\n",
    "    return connectivity,elecSource,elecDrain\n",
    "\n",
    "#This function changes the write voltage of the drain electrodes. This is where we tune the system so that \n",
    "#it prioritises/de-prioritises certain pathways based on targets and non-targets\n",
    "def change_voltage(stim,sim2,outputVals,target_index,th=0,th2=0,signalType='DC'):\n",
    "    import copy\n",
    "    stimulus=copy.deepcopy(stim)\n",
    "    \n",
    "    Vi        = np.zeros((int(run_time/dt)))\n",
    "    maxV      = onAmp*0.75\n",
    "    n         = len(outputVals)\n",
    "    cost      = np.zeros(n)\n",
    "    beta      = 0.1 #change the values here\n",
    "    grad      = np.zeros((n))\n",
    "    dsig    = np.array([stimulus[i].signal for i in range(len(stimulus))][:num_drain_training])\n",
    "    \n",
    "    #vectorised implementation\n",
    "    cost=calc_cost(outputVals,target_values) \n",
    "    \n",
    "#     if gradOff == False: #\n",
    "    grad=beta*(outputVals-target_values) \n",
    "#     elif gradOff == True: #if we have hit currents target\n",
    "#         grad=0\n",
    "    dsig2=dsig.T+(grad*onAmp)\n",
    "    for i in range(n): # for each drain:\n",
    "        if stimulus[i].signal[0] <= maxV and stimulus[i].signal[0] >= -maxV:\n",
    "            stimulus[i].signal=dsig2.T[i]\n",
    "        \n",
    "    print('Costs '+str(cost))\n",
    "    print('Sum Cost '+str((np.sum(cost))))\n",
    "    print('Gradients '+str(grad))\n",
    "    return outputVals,stimulus,cost\n",
    "\n",
    "#ADD BACKPROP\n",
    "#This function runs each training epoch and saves the network state at the last timestep of that epoch   \n",
    "def getNWState_backprop(training_stimulus,state,drains,sources,tmpTiming,tmpTargets,run_time=2,dt=0.01,disable_tqdm=False):\n",
    "    eles = np.append(drains, sources) #all drains\n",
    "    #     if len(eles) == num_drain_training + num_source_training:\n",
    "    training_sim,cost = runSim_backprop(connectivity, \n",
    "                       stimulus = training_stimulus,\n",
    "                       junctionMode = 'tunneling',\n",
    "                       dt = dt, T = run_time, \n",
    "                       contactMode = 'preSet',\n",
    "                       electrodes = eles,\n",
    "                       findFirst = False,\n",
    "                       start_state = state,\n",
    "                       disable_tqdm=disable_tqdm,\n",
    "                       collapse=True,tmpTiming=tmpTiming,tmpTargets=tmpTargets)  \n",
    "    #     JS1 = getJunctionState(training_sim, -1) #save state\n",
    "    #     else: \n",
    "    #         print('Bless you Joel :)')\n",
    "    return training_sim,cost   \n",
    "\n",
    "#Combine drain voltage change with runSim:\n",
    "def runSim_backprop(Connectivity, \n",
    "                    junctionMode='binary', collapse=False,\n",
    "                    criticalFlux=0.1, maxFlux=1.5e-1,\n",
    "                    contactMode='farthest', electrodes=None,\n",
    "                    dt=1e-3, T=10, \n",
    "                    stimulus = None,\n",
    "                    biasType = 'DC',\n",
    "                    onTime=0, offTime=50000000,\n",
    "                    onAmp=1, offAmp=0.005,\n",
    "                    f = 1, customSignal = None,\n",
    "                    start_state = None,\n",
    "                    lite_mode = False, save_steps = 1,\n",
    "                    findFirst = True,\n",
    "                    disable_tqdm = False,\n",
    "                    freeze_wire = None, freeze_junction = None, \n",
    "                    freeze_TimeStamp = None,tmpTiming=[],tmpTargets=[]):\n",
    "\n",
    "    \"\"\"\n",
    "    For the case of multi electrodes, stimulus should be in parameters.\n",
    "    See help(stimulus__) for how to generate stimulus__ objects.\n",
    "    \"\"\"\n",
    "\n",
    "    SimulationOptions = simulationOptions__(dt = dt, T = T,\n",
    "                                            connectivity = Connectivity, \n",
    "                                            contactMode = contactMode,\n",
    "                                            electrodes = electrodes)\n",
    "\n",
    "    if ((contactMode == 'preSet') and (len(electrodes) > 2)) or stimulus is not None:\n",
    "        from sys import exit\n",
    "        if stimulus == None:\n",
    "            logging.warning(f'Multiple electrodes detected. Please input stimulus in parameters!')\n",
    "            exit()\n",
    "        if len(stimulus) < len(SimulationOptions.electrodes):\n",
    "            diff = len(SimulationOptions.electrodes) - len(stimulus)\n",
    "            for _ in range(diff):\n",
    "                stimulus.append(stimulus__('Drain', T = T, dt = dt))\n",
    "\n",
    "        if len(stimulus) > len(SimulationOptions.electrodes):\n",
    "            logging.warning(f'More stimulus than electrodes. Current setup has {len(SimulationOptions.electrodes)} electrodes!')\n",
    "            exit()\n",
    "            \n",
    "        if len(stimulus[0].signal) < len(SimulationOptions.TimeVector):\n",
    "            logging.warning(f'Stimulus length not correct, current time vector has length {len(SimulationOptions.TimeVector)}!')\n",
    "            exit()\n",
    "        SimulationOptions.stimulus = stimulus\n",
    "            \n",
    "    elif contactMode == 'boundary':\n",
    "        SimulationOptions.stimulus[:int(len(SimulationOptions.electrodes)/2)] = [stimulus__(biasType = biasType, \n",
    "                                                                                        T = T, dt = dt,\n",
    "                                                                                        onTime = onTime, offTime = offTime,\n",
    "                                                                                        onAmp = onAmp, offAmp = offAmp,\n",
    "                                                                                        f = f, customSignal= customSignal)\n",
    "                                                                                        for i in range(int(len(SimulationOptions.electrodes)/2))]\n",
    "    else:\n",
    "        SimulationOptions.stimulus[0] = stimulus__(biasType = biasType, \n",
    "                                                T = T, dt = dt,\n",
    "                                                onTime = onTime, offTime = offTime,\n",
    "                                                onAmp = onAmp, offAmp = offAmp,\n",
    "                                                    f = f, customSignal= customSignal)\n",
    "    if start_state == None: \n",
    "        JunctionState = junctionState__(Connectivity.numOfJunctions, \n",
    "                                    mode = junctionMode, collapse = collapse, \n",
    "                                    criticalFlux=criticalFlux, maxFlux = maxFlux)\n",
    "    else:\n",
    "        from copy import deepcopy\n",
    "        JunctionState = deepcopy(start_state)\n",
    "    \n",
    "    kwdict = dict()\n",
    "    if (freeze_wire != None) or (freeze_junction != None):\n",
    "        kwdict = dict(freeze_wire = freeze_wire,\n",
    "                    freeze_junction = freeze_junction, \n",
    "                    freeze_TimeStamp = freeze_TimeStamp)\n",
    "        \n",
    "    this_realization,cost = simulateNetwork_backprop(SimulationOptions, Connectivity, JunctionState,tmpTiming,tmpTargets, lite_mode, disable_tqdm, save_steps, **kwdict)\n",
    "    \n",
    "    if findFirst:\n",
    "        from edamame.analysis.GraphTheory import findCurrent\n",
    "        try:\n",
    "            activation = findCurrent(this_realization, 1)\n",
    "            logging.info(f'First current path {activation[0][0]} formed at time = {activation[1][0]} s.')\n",
    "        except:\n",
    "            logging.info('Unfortunately, no current path is formed in simulation time.')\n",
    "\n",
    "    return this_realization,cost   \n",
    "\n",
    "def simulateNetwork_backprop(simulationOptions, connectivity, junctionState,tmpTiming,tmpTargets, lite_mode = False, disable_tqdm = False, save_steps = 1, **kwargs):\n",
    "    niterations = simulationOptions.NumOfIterations\n",
    "    electrodes = simulationOptions.electrodes\n",
    "    numOfElectrodes = len(electrodes)\n",
    "    E = connectivity.numOfJunctions\n",
    "    V = connectivity.numOfWires\n",
    "    edgeList = connectivity.edge_list\n",
    "    onAmp     = simulationOptions.stimulus[3].onAmp\n",
    "    maxV      = onAmp\n",
    "    n         = num_drain_training #num of drains\n",
    "    cost      = []\n",
    "    beta      = 1\n",
    "    grad      = np.zeros((n)) #set gradients to zero for each epoch  \n",
    "\n",
    "    Network = network__()\n",
    "    sampling = np.arange(0, niterations, save_steps)\n",
    "    if lite_mode:\n",
    "        Network.connectivity = connectivity__(adjMat = connectivity.adj_matrix)\n",
    "        Network.filamentState = np.zeros((int(niterations/save_steps), E))\n",
    "        Network.wireVoltage = np.zeros((int(niterations/save_steps), V))\n",
    "        Network.electrodeCurrent = np.zeros((int(niterations/save_steps), numOfElectrodes))\n",
    "        Network.TimeVector = np.zeros(int(niterations/save_steps))\n",
    "    else:        \n",
    "        Network.connectivity = connectivity\n",
    "        Network.TimeVector = simulationOptions.TimeVector\n",
    "        Network.filamentState = np.zeros((niterations, E))\n",
    "        Network.junctionVoltage = np.zeros((niterations, E))\n",
    "        # Network.junctionResistance = np.zeros((niterations, E))\n",
    "        Network.junctionConductance = np.zeros((niterations, E))\n",
    "        Network.junctionSwitch = np.zeros((niterations, E), dtype = bool)\n",
    "        Network.wireVoltage = np.zeros((niterations, V))\n",
    "        Network.electrodeCurrent = np.zeros((niterations, numOfElectrodes))\n",
    "\n",
    "    Network.sources = []\n",
    "    Network.drains = []\n",
    "    for i in range(numOfElectrodes):\n",
    "        if np.mean(simulationOptions.stimulus[i].signal) != 0:\n",
    "            Network.sources.append(electrodes[i])\n",
    "        else:\n",
    "            Network.drains.append(electrodes[i])\n",
    "\n",
    "    if len(Network.drains) == 0:\n",
    "        Network.drains.append(electrodes[1])\n",
    "\n",
    "    if 'freeze_wire' in kwargs:\n",
    "        freeze_wire = kwargs['freeze_wire']\n",
    "        freeze_TimeStamp = kwargs['freeze_TimeStamp']\n",
    "    else:\n",
    "        freeze_TimeStamp = niterations + 1\n",
    "    \n",
    "    #Simulation Run:\n",
    "#     new_time=0\n",
    "\n",
    "    for this_time in tqdm(range(niterations), desc='Running Simulation ', disable = disable_tqdm): #each time step\n",
    "        \n",
    "        this_stimulus = np.array([i.signal[this_time] for i in simulationOptions.stimulus])\n",
    "        \n",
    "        if tmpTiming[this_time]=='Train':\n",
    "#             print('--------')\n",
    "#             print('Training')\n",
    "#             print('--------\\n')\n",
    "            trainTime=True\n",
    "        elif tmpTiming[this_time]=='Test':\n",
    "#             print('--------')\n",
    "#             print('Testing')\n",
    "#             print('--------\\n') \n",
    "            trainTime=False\n",
    "        \n",
    "        if trainTime and this_time > 0: #if we are training, change drain voltages, otherwise just use this_stimulus\n",
    "            this_stimulus[:num_drain_training]=new_stimulus \n",
    "            \n",
    "#             print('in training '+str(this_time))\n",
    "#         elif this_time > trainTime:\n",
    "            \n",
    "        sol = simCore(connectivity, junctionState, this_stimulus, electrodes, simulationOptions.dt)\n",
    "\n",
    "        if this_time >= freeze_TimeStamp:\n",
    "            others = np.setdiff1d(range(V), freeze_wire)\n",
    "            wireVoltage[others] = sol[others]\n",
    "        else:\n",
    "            wireVoltage = sol[0:V]\n",
    "            \n",
    "        if lite_mode:\n",
    "            if this_time%save_steps == 0:\n",
    "                Network.wireVoltage[this_time//save_steps,:] = wireVoltage\n",
    "                Network.electrodeCurrent[this_time//save_steps,:] = sol[V:]\n",
    "                Network.filamentState[this_time//save_steps,:] = junctionState.filamentState\n",
    "                Network.TimeVector[this_time//save_steps] = simulationOptions.TimeVector[this_time]\n",
    "        else:\n",
    "            Network.wireVoltage[this_time,:] = wireVoltage\n",
    "            Network.electrodeCurrent[this_time,:] = sol[V:]\n",
    "            Network.filamentState[this_time,:] = junctionState.filamentState\n",
    "            Network.junctionVoltage[this_time,:] = junctionState.voltage\n",
    "            Network.junctionConductance[this_time,:] = junctionState.conductance\n",
    "            Network.junctionSwitch[this_time,:] = junctionState.OnOrOff\n",
    "        \n",
    "        ## BackProp Implementation\n",
    "        y = Network.electrodeCurrent[this_time,:num_drain_training]\n",
    "        \n",
    "        if tmpTargets[this_time] != -1: #skip rest values\n",
    "            tarIdx=tmpTargets[this_time]\n",
    "            y = y/(maxCurrent[tarIdx]) # normalize  | | | how do we change max current to be not arbitrary? \n",
    "            \n",
    "        # current method - run simulation before with just that drain and use current as maxCurrent\n",
    "\n",
    "            # change to threshold \n",
    "            d = allTargets[tarIdx]\n",
    "            dsig = this_stimulus[:num_drain_training]\n",
    "\n",
    "\n",
    "            #vectorised implementation\n",
    "            cost.append(calc_cost(y,d))\n",
    "\n",
    "            if this_time < trainTime: #if we are training, update beta\n",
    "                #Gradient without considering other electrodes:\n",
    "        # \n",
    "                grad=beta*(y-d) #e.g. [y1 vs (d1 = 1), y2 vs (d2 = 0), y3vs (d3 = 0)]\n",
    "                #Gradient while considering other electrodes:\n",
    "        #         for i in range(n): #for each drain \n",
    "                    #y = normalised drain current\n",
    "                    #d = target (1 or 0) e.g. [1,0,0]\n",
    "\n",
    "        #             grad[i] = beta*(y[i]-d[i]) + sum([beta*(y[j]-d[j]) for j in range(n) if j != i])\n",
    "                    # i = 1, drain 1 is target, target = 1\n",
    "                    # i = 2, drain 2 is target, target = 0\n",
    "\n",
    "                #grad_i = (y_i - d_i) + SUM[ beta*(y_j - d_j) ], j \\neq (doesn't equal) i        \n",
    "                dsig2=np.array(dsig.T+(grad*onAmp))\n",
    "\n",
    "                dsig2[tmpTargets[this_time]]=0\n",
    "                new_stimulus=dsig2\n",
    "\n",
    "                for q in range(n): # for each drain:\n",
    "                    if dsig2[q] <= maxV and dsig2[q] >= -maxV:\n",
    "                        new_stimulus[q]=dsig2[q]\n",
    "                    elif dsig2[q] < -maxV:\n",
    "                        new_stimulus[q]=-maxV\n",
    "                    elif dsig2[q] > maxV:\n",
    "                        new_stimulus[q]=maxV  \n",
    "\n",
    "#                 tmp=range(0,niterations,numDT)\n",
    "             \n",
    "#             else:\n",
    "#                 tmp=range(0,niterations,numDT)\n",
    "\n",
    "#             new_time+=1\n",
    "            \n",
    "    Network.numOfWires = V\n",
    "    Network.numOfJunctions = E\n",
    "    Network.electrodes = simulationOptions.electrodes\n",
    "    if len(electrodes) <= 2:\n",
    "        Network.conductance = Network.electrodeCurrent[:,1]/simulationOptions.stimulus[0].signal[sampling]\n",
    "    if not lite_mode:\n",
    "        Network.stimulus = [simulationOptions.stimulus[i] for i in range(numOfElectrodes)]\n",
    "        Network.junctionResistance = 1/Network.junctionConductance\n",
    "        \n",
    "    return Network,cost\n",
    "\n",
    "\n",
    "\n",
    "def runNBACK(onAmp,onAmpTest,dt,Tlen,timesteps,numDT,restDur,nbacks=[],maxCurrent=[1e-5,1e-5],seed=42):\n",
    "    \"\"\"\n",
    "    n-back task:\n",
    "    input sample 1 with backprop, then sample 2 with backprop, then sample 1 again with reset drain voltages \n",
    "    n back here = 1, showing memory\n",
    "    \n",
    "    train sample x, test sample x + nback (e.g. nback = 2, sample = [s1 train,s2,s3,s1 test] )\n",
    "\n",
    "    increase n-back: \n",
    "    sample 1 with backprop, sample 2, sample 3... test sample 1 - n=2\n",
    "    \n",
    "    Things to test:\n",
    "    - if we increase input frequency (dt), do we see greater long term memory? (higher n-backs)\n",
    "    - if we decrease frequency, do we see greater short term memory? (lower n-backs)\n",
    "\n",
    "    \"\"\"  \n",
    "    \n",
    "    t           = [[] for i in range(len(nbacks))]\n",
    "    simVoltages = []\n",
    "    saveStim    = []\n",
    "    accuracy    = []\n",
    "    count=0\n",
    "    for nback in nbacks: #how many samples to \"remember\" in the past before testing\n",
    "        np.random.seed(seed)\n",
    "        \n",
    "        numTestingSamples= 20 #how many samples across all nback values\n",
    "        orderTraining = np.random.choice(len(trainingInputs),size=len(trainingInputs),replace=False)\n",
    "        orderTrainingLabels=traininglabels[orderTraining]\n",
    "        orderTrainingLabelsNBACK=orderTrainingLabels[::nback]\n",
    "        orderTesting=[]\n",
    "        for label in orderTrainingLabelsNBACK: #for each training label in the random order:\n",
    "            orderTesting.append(np.random.choice(np.where(testinglabels==label)[0]))\n",
    "        orderTestingLabels=testinglabels[orderTesting]    \n",
    "        orderTestingNBACK=np.array(orderTesting)+len(orderTraining) #number of test per nback\n",
    "\n",
    "         #choose how many samples between testing samples:\n",
    "        i = nback\n",
    "        temp=[]\n",
    "        j=0\n",
    "        order=[None]*(len(orderTraining))\n",
    "        order[:len(orderTraining)]=orderTraining\n",
    "        while j<numTestingSamples: #for each testing sample\n",
    "            if i < len(order): #only if we are within the total number of training samples\n",
    "                order.insert(i, orderTesting[j]+len(orderTraining)) #insert testing sample at ith position\n",
    "            temp.append(i) #keep track number of inserts we made, make sure it == numTestingSamples\n",
    "            i += nback+1\n",
    "            j +=1\n",
    "\n",
    "        #RUN SIM\n",
    "        N                   = orig_inputs.shape[1]\n",
    "        numClasses          = 2\n",
    "        signalType          ='DC'\n",
    "        num_drain_training  = 2\n",
    "        num_source_training = N\n",
    "        tmpSources          = [[] for i in range(len(order))]\n",
    "        tmpTargets          = [None]*len(order)\n",
    "        sim                 = [None]*len(order)\n",
    "        numTrainingSamples  = len(trainingInputs)\n",
    "        numTestingSamples   = len(testingInputs)\n",
    "        timing=[]\n",
    "        i=0\n",
    "        for val in order: #this method loops through samples in the randomised training order\n",
    "            #are we training or testing?\n",
    "            if val in orderTestingNBACK:\n",
    "                test=True\n",
    "                train=False\n",
    "            elif val in orderTraining:\n",
    "                test=False\n",
    "                train=True\n",
    "            #define samples\n",
    "            if train: #if we're training\n",
    "                this_sample = trainingInputs[val].copy() #xs\n",
    "                this_label  = traininglabels[val] #ys\n",
    "                this_sample[this_sample>0.005]=this_sample[this_sample>0.005]*onAmp\n",
    "                timing.append('Train')\n",
    "\n",
    "            elif test: #if we're testing\n",
    "                this_sample = testingInputs[val-len(orderTraining)].copy() #xs\n",
    "                this_label  = testinglabels[val-len(orderTraining)] #ys\n",
    "                this_sample[this_sample>0.005]=this_sample[this_sample>0.005]*onAmpTest\n",
    "                timing.append('Test')\n",
    "\n",
    "            targetClassVals=[0,1] \n",
    "\n",
    "            targetTmp = signal_expand(this_label,numDT) #number of timesteps per target\n",
    "            timing[i] = signal_expand(timing[i],numDT)\n",
    "        #     #array of nans:\n",
    "            tmpArray=np.empty(restDur)\n",
    "            tmpArray[:]=-1\n",
    "            targetTmp = np.append(targetTmp,tmpArray) #add rest #need to remove targets from rest\n",
    "            tmpTargets[i]=targetTmp \n",
    "\n",
    "            for j in range(len(this_sample)): #for each source electrode\n",
    "                tmp = signal_expand(this_sample[j],numDT)\n",
    "                tmp = np.append(tmp,np.zeros(restDur)) #add rest\n",
    "                tmpSources[i].append(tmp)\n",
    "            i += 1\n",
    "\n",
    "        #reshape inputs into 1d:\n",
    "        tmpSources = np.hstack(np.array(tmpSources))\n",
    "        tmpTargets = np.hstack(np.array(tmpTargets)).astype(int)\n",
    "        tmpTiming = np.hstack(np.array(timing))\n",
    "        # Change voltages\n",
    "        newSources=tmpSources.copy()\n",
    "\n",
    "        tmpDrain=[]\n",
    "        stimulus=[]\n",
    "        for j in range(num_drain_training): #create stimulus for each drain electrode\n",
    "            stimulus.append(stimulus__(biasType='Drain',T=dt*len(newSources[j]),dt=dt))\n",
    "\n",
    "        for j in range(len(tmpSources)): #create stimulus for each source electrode\n",
    "            stimulus.append(stimulus__(biasType='Custom',T=dt*len(newSources[j]),dt=dt,customSignal=newSources[j]))\n",
    "    \n",
    "        signalLen=len(stimulus[0].signal) \n",
    "        \n",
    "        saveStim = stimulus\n",
    "        #Run simulation\n",
    "        sim,cost = getNWState_backprop(stimulus,None,drain_pool,sources,tmpTiming,tmpTargets,run_time=int(signalLen*dt),dt=dt,disable_tqdm=False)\n",
    "        #Calculate electrode currents\n",
    "        simVoltages.append(sim.wireVoltage)\n",
    "        t[count].append(calcOutputs(sim,sources,drain_pool))\n",
    "    \n",
    "        #TESTING\n",
    "        tmp=numDT*nback\n",
    "        A=np.array(range(tmp,signalLen,int(tmp+numDT))) #training \n",
    "        B=np.array(range(tmp+numDT,signalLen,int(tmp+numDT)))# testing\n",
    "        c=[]\n",
    "        for k in range(len(B)):\n",
    "            c.append(range(A[k],B[k]))\n",
    "        testTimes=np.array(np.hstack(c))\n",
    "        l=range(signalLen)\n",
    "        trainTimes=np.array(np.hstack([m for m in l if m not in testTimes]))\n",
    "        accuracy.append(np.sum(np.argmax([t[count][0][0][testTimes],t[count][0][1][testTimes]],axis=0)==tmpTargets[testTimes])/len(tmpTargets[testTimes]))\n",
    "        print(accuracy[count])\n",
    "        \n",
    "        #Draw:\n",
    "        #Plot Test labels vs test argmax\n",
    "#         plt.figure()\n",
    "#         plt.plot(tmpTargets[testTimes],c='b')\n",
    "#         plt.plot(np.argmax([t[count][0][0][testTimes],t[count][0][1][testTimes]],axis=0),alpha=0.5,c='r')\n",
    "#         plt.legend(['Target','Argmax'])\n",
    "\n",
    "#         plt.yticks([0,1])\n",
    "#         ax=plt.gca()\n",
    "#         ax.set_yticklabels(['Drain 1','Drain 2'])      \n",
    "        \n",
    "        count+=1\n",
    "    return t,simVoltages,saveStim,accuracy\n",
    "\n",
    "def trainTestSplit(inputs,targets,targetClassVals=[0,1],numTestingPerClass=3,orig_inputs=[]):\n",
    "    trainingInputs  = np.array([inputs[targets==targetClassVals[0]][:-numTestingPerClass],inputs[targets==targetClassVals[1]][:-numTestingPerClass]]).reshape(-1,orig_inputs.shape[1])\n",
    "    testingInputs   = np.array([inputs[targets==targetClassVals[0]][-numTestingPerClass:],inputs[targets==targetClassVals[1]][-numTestingPerClass:]]).reshape(-1,orig_inputs.shape[1])\n",
    "    #Define Training and Testing labels\n",
    "    traininglabels=np.zeros(len(trainingInputs))\n",
    "    traininglabels[:int(len(trainingInputs)/2)]=0\n",
    "    traininglabels[int(len(trainingInputs)/2):int(len(trainingInputs)/2)*2]=1\n",
    "    # traininglabels[int(len(trainingInputs)/3)*2:]=2\n",
    "    traininglabels=traininglabels.astype(int)\n",
    "\n",
    "    testinglabels=np.zeros(len(testingInputs))\n",
    "    testinglabels[:int(len(testingInputs)/2)]=0\n",
    "    testinglabels[int(len(testingInputs)/2):int(len(testingInputs)/2)*2]=1\n",
    "    # testinglabels[int(len(testingInputs)/3)*2:]=2\n",
    "    testinglabels=testinglabels.astype(int)\n",
    "    \n",
    "    return trainingInputs,testingInputs,traininglabels,testinglabels \n",
    "\n",
    "\n",
    "# KE: major edits - I set num_trials to 1. Let Optuna handle multi-trial runs.\n",
    "\n",
    "# objective wrapper for optuna \n",
    "\n",
    "\n",
    "print('Loading Networks + Training Data')\n",
    "numSamples=50\n",
    "inputs,targets,orig_inputs=createSimpleInputs(numSamples)\n",
    "allTargets=[[1,0],[0,1]]\n",
    "\n",
    "connectivity,sources,drain_pool=buildNetworks(fileName)\n",
    "\n",
    "targetClassVals=[0,1]\n",
    "numTestingPerClass=10\n",
    "trainingInputs,testingInputs,traininglabels,testinglabels = trainTestSplit(inputs,targets,targetClassVals,numTestingPerClass,orig_inputs=orig_inputs)\n",
    "\n",
    "num_drain_training=2\n",
    "maxCurrent=[1e-5,1e-5]\n",
    "dts=[0.01,0.02,0.05,0.1]\n",
    "\n",
    "\n",
    "def objective(trial):\n",
    "\n",
    "   \n",
    "    \"Run n-back Task\"\n",
    "    ### JE: I'm assuming these are the values you want to mess with? \n",
    "    # DEFINE PARAMETERS\n",
    "    #Time:\n",
    "    # dt      = 0.1\n",
    "    # Tlen    = 200 #seconds\n",
    "    # timesteps   = int(Tlen/dt)\n",
    "    # numDT       = int(timesteps/len(inputs)) #number of timesteps per sample\n",
    "    # restDur=0\n",
    "    v=trial.suggest_int('dt', 0,len(dts)-1)\n",
    "    dt = dts[v] # sample uniformly btwn the range\n",
    "    Tlen = 20 \n",
    "#     Tlen = trial.suggest_int('Tlen', 50, 500) # sample integers uniformly\n",
    "#     set_tracce()\n",
    "    timesteps   = Tlen/dt\n",
    "    numDT       = int(timesteps/len(inputs)) #number of timesteps per sample\n",
    "    restDur=0\n",
    "\n",
    "    #Amplitude:\n",
    "    vtraining=[0.5,1,2,5]\n",
    "    vtesting=[0.1,0.2,0.3,0.5]\n",
    "    trainingval = trial.suggest_int('ampTraining',0,len(vtraining)-1) #Input voltage training\n",
    "    onAmp = vtraining[trainingval]\n",
    "    testingval = trial.suggest_int('ampTesting',0,len(vtesting)-1) #Input voltage training\n",
    "    onAmpTest = vtesting[testingval]\n",
    "\n",
    "    #Other global variables:\n",
    "    num_drain_training = 2\n",
    "    maxCurrent = [1e-5,1e-5]\n",
    "\n",
    "    #RUN NBACKS\n",
    "    nbacks = 4#trial.suggest_int('nbacks', 1, 4) # sample integers uniformly\n",
    "    nbacks = [nbacks]\n",
    "#     nbacks      = [1]#range(1,5)\n",
    "    numRuns     = 1\n",
    "    t           = [None]*numRuns\n",
    "    simVoltages = [None]*numRuns\n",
    "    saveStim    = [None]*numRuns\n",
    "    accuracy    = [None]*numRuns\n",
    "    seeds       =  np.random.choice(10000,size=numRuns,replace=False)\n",
    "\n",
    "    for i in tqdm(range(numRuns)):\n",
    "        t[i],simVoltages[i],saveStim,accuracy[i]=runNBACK(onAmp,onAmpTest,dt,Tlen,timesteps,numDT,restDur,nbacks,maxCurrent,seed=seeds[i])\n",
    "\n",
    "\n",
    "    # enable printing throuhgout the simulation\n",
    "    logging.basicConfig(level=logging.DEBUG, filename='trial_printer.log', filemode=\"a+\",\n",
    "                        format=\"%(asctime)-15s %(levelname)-8s %(message)s\")\n",
    "    logging.info(f'Accuracy: {accuracy[0]},\\tvtraining:{onAmp},\\tvtesting:{onAmpTest}, \\tdt: {dt}, \\tnumDT:{numDT}')\n",
    "\n",
    "    # JE: whatever you return below is the value you are trying to optimize. \n",
    "    return accuracy[0][0]\n",
    "\n",
    "\n",
    "\n",
    "## pruner - clips trials that are not promising. Commented out coz 1 epoch per trial only.\n",
    "# pruner = optuna.pruners.SuccessiveHalvingPruner() \n",
    "\n",
    "# how to sample the param search space - tree parzen estimator (TPE) algorithm\n",
    "sampler = optuna.samplers.TPESampler()\n",
    "study_name = 'voltsweepprop' # Unique identifier of the study.\n",
    "storage_name = \"sqlite:///{}.db\".format(study_name)  # save trials\n",
    "\n",
    "# maximize the objective, i.e., accuracy\n",
    "study = optuna.create_study(study_name=study_name, sampler=sampler, direction='maximize', storage=storage_name, load_if_exists=True)\n",
    "study.optimize(objective, n_trials=num_trials)\n",
    "\n",
    "# Create a dataframe from the study.\n",
    "df = study.trials_dataframe()\n",
    "if SAVE_CSV:\n",
    "    df.to_csv('optuna_trials.csv', index=False)\n",
    "\n",
    "# save the optuna trial \n",
    "print(f\"Best config: {study.best_params}\")\n",
    "joblib.dump(study, 'optuna.pkl')"
   ]
  },
  {
   "cell_type": "code",
   "execution_count": 117,
   "id": "17cd5eb6",
   "metadata": {},
   "outputs": [
    {
     "data": {
      "text/plain": [
       "FrozenTrial(number=58, values=[1.0], datetime_start=datetime.datetime(2021, 11, 25, 11, 58, 27, 221162), datetime_complete=datetime.datetime(2021, 11, 25, 11, 58, 33, 602623), params={'ampTesting': 1, 'ampTraining': 3, 'dt': 0}, distributions={'ampTesting': IntUniformDistribution(high=3, low=0, step=1), 'ampTraining': IntUniformDistribution(high=3, low=0, step=1), 'dt': IntUniformDistribution(high=3, low=0, step=1)}, user_attrs={}, system_attrs={}, intermediate_values={}, trial_id=59, state=TrialState.COMPLETE, value=None)"
      ]
     },
     "execution_count": 117,
     "metadata": {},
     "output_type": "execute_result"
    }
   ],
   "source": []
  },
  {
   "cell_type": "code",
   "execution_count": null,
   "id": "44478283",
   "metadata": {},
   "outputs": [],
   "source": []
  }
 ],
 "metadata": {
  "kernelspec": {
   "display_name": "Python 3 (ipykernel)",
   "language": "python",
   "name": "python3"
  },
  "language_info": {
   "codemirror_mode": {
    "name": "ipython",
    "version": 3
   },
   "file_extension": ".py",
   "mimetype": "text/x-python",
   "name": "python",
   "nbconvert_exporter": "python",
   "pygments_lexer": "ipython3",
   "version": "3.8.12"
  }
 },
 "nbformat": 4,
 "nbformat_minor": 5
}
