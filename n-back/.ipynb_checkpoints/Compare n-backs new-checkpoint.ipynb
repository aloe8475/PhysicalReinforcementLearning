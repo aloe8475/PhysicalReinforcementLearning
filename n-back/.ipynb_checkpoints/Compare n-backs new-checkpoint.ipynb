{
 "cells": [
  {
   "cell_type": "code",
   "execution_count": 47,
   "metadata": {
    "scrolled": true
   },
   "outputs": [
    {
     "name": "stdout",
     "output_type": "stream",
     "text": [
      "Network 698 Loaded\n",
      "Preactivating Network: \n",
      "\n",
      "Network Preactivated \n",
      "\n",
      "Parameters:\n",
      "\n",
      "Train V: 0.2\n",
      "Test V: 0.5\n",
      "Pattern: 3x3\n",
      "n-back: 2\n"
     ]
    },
    {
     "data": {
      "application/vnd.jupyter.widget-view+json": {
       "model_id": "c2f1d7b54f0c4021801f017759368198",
       "version_major": 2,
       "version_minor": 0
      },
      "text/plain": [
       "  0%|          | 0/1 [00:00<?, ?it/s]"
      ]
     },
     "metadata": {},
     "output_type": "display_data"
    },
    {
     "name": "stdout",
     "output_type": "stream",
     "text": [
      "5e-06\n"
     ]
    },
    {
     "data": {
      "application/vnd.jupyter.widget-view+json": {
       "model_id": "15b4baf516c94d27ad7f2420a2b38eec",
       "version_major": 2,
       "version_minor": 0
      },
      "text/plain": [
       "  0%|          | 0/1 [00:00<?, ?it/s]"
      ]
     },
     "metadata": {},
     "output_type": "display_data"
    },
    {
     "data": {
      "application/vnd.jupyter.widget-view+json": {
       "model_id": "bf21b8c2c2ec41fba972d1f747510c4c",
       "version_major": 2,
       "version_minor": 0
      },
      "text/plain": [
       "  0%|          | 0/119 [00:00<?, ?it/s]"
      ]
     },
     "metadata": {},
     "output_type": "display_data"
    },
    {
     "name": "stdout",
     "output_type": "stream",
     "text": [
      "\n",
      "Drain 1 Only\n"
     ]
    },
    {
     "data": {
      "application/vnd.jupyter.widget-view+json": {
       "model_id": "6c653e98277743d79ff79cd68c2eebbd",
       "version_major": 2,
       "version_minor": 0
      },
      "text/plain": [
       "Running Simulation :   0%|          | 0/200 [00:00<?, ?it/s]"
      ]
     },
     "metadata": {},
     "output_type": "display_data"
    },
    {
     "name": "stdout",
     "output_type": "stream",
     "text": [
      "Target:0\n",
      "Final Target Drain Current: [2.980640988595863e-08]\n",
      "LimVal0:5e-06\n",
      "LimVal1:5e-06\n",
      "\n",
      "Drain 2 Only\n"
     ]
    },
    {
     "data": {
      "application/vnd.jupyter.widget-view+json": {
       "model_id": "e0ddf0ec3f9e4478b6c68cc2aad05c41",
       "version_major": 2,
       "version_minor": 0
      },
      "text/plain": [
       "Running Simulation :   0%|          | 0/200 [00:00<?, ?it/s]"
      ]
     },
     "metadata": {},
     "output_type": "display_data"
    },
    {
     "name": "stdout",
     "output_type": "stream",
     "text": [
      "Target:1\n",
      "Final Target Drain Current: [3.502817252669355e-08]\n",
      "LimVal0:5e-06\n",
      "LimVal1:5e-06\n",
      "\n",
      "Both Drains\n"
     ]
    },
    {
     "data": {
      "application/vnd.jupyter.widget-view+json": {
       "model_id": "b43c3a76215e498ba30e51604674bd6e",
       "version_major": 2,
       "version_minor": 0
      },
      "text/plain": [
       "Running Simulation :   0%|          | 0/100 [00:00<?, ?it/s]"
      ]
     },
     "metadata": {},
     "output_type": "display_data"
    },
    {
     "name": "stdout",
     "output_type": "stream",
     "text": [
      "Target:0\n",
      "Final Target Drain Current: [5.448953354679351e-08, 6.618834662040431e-08]\n",
      "Target: 0.0\n",
      "Accuracy: 0\n",
      "LimVal0:5.833333333333334e-06\n",
      "LimVal1:4.583333333333334e-06\n",
      "\n",
      "Drain 1 Only\n"
     ]
    },
    {
     "data": {
      "application/vnd.jupyter.widget-view+json": {
       "model_id": "4dc7dbfec352490ab5e281bf7814612e",
       "version_major": 2,
       "version_minor": 0
      },
      "text/plain": [
       "Running Simulation :   0%|          | 0/200 [00:00<?, ?it/s]"
      ]
     },
     "metadata": {},
     "output_type": "display_data"
    },
    {
     "name": "stdout",
     "output_type": "stream",
     "text": [
      "Target:0\n",
      "Final Target Drain Current: [7.977940002094702e-08]\n",
      "LimVal0:5.833333333333334e-06\n",
      "LimVal1:4.583333333333334e-06\n",
      "\n",
      "Drain 2 Only\n"
     ]
    },
    {
     "data": {
      "application/vnd.jupyter.widget-view+json": {
       "model_id": "1fe8714e8dfe409a90fa2105f496bb4f",
       "version_major": 2,
       "version_minor": 0
      },
      "text/plain": [
       "Running Simulation :   0%|          | 0/200 [00:00<?, ?it/s]"
      ]
     },
     "metadata": {},
     "output_type": "display_data"
    },
    {
     "name": "stdout",
     "output_type": "stream",
     "text": [
      "Target:1\n",
      "Final Target Drain Current: [7.46824893643936e-08]\n",
      "LimVal0:5.833333333333334e-06\n",
      "LimVal1:4.583333333333334e-06\n",
      "\n",
      "Both Drains\n"
     ]
    },
    {
     "data": {
      "application/vnd.jupyter.widget-view+json": {
       "model_id": "4975f9b660404987abefb978dd74203c",
       "version_major": 2,
       "version_minor": 0
      },
      "text/plain": [
       "Running Simulation :   0%|          | 0/100 [00:00<?, ?it/s]"
      ]
     },
     "metadata": {},
     "output_type": "display_data"
    },
    {
     "name": "stdout",
     "output_type": "stream",
     "text": [
      "Target:0\n",
      "Final Target Drain Current: [1.3613557404232177e-07, 1.840215288921501e-07]\n",
      "Target: 0.0\n",
      "Accuracy: 0\n",
      "LimVal0:6.6666666666666675e-06\n",
      "LimVal1:4.166666666666668e-06\n",
      "\n",
      "Drain 2 Only\n"
     ]
    },
    {
     "data": {
      "application/vnd.jupyter.widget-view+json": {
       "model_id": "1e900a851d634147a3b4cfb9f0dff17e",
       "version_major": 2,
       "version_minor": 0
      },
      "text/plain": [
       "Running Simulation :   0%|          | 0/200 [00:00<?, ?it/s]"
      ]
     },
     "metadata": {},
     "output_type": "display_data"
    },
    {
     "name": "stdout",
     "output_type": "stream",
     "text": [
      "Target:1\n",
      "Final Target Drain Current: [2.043378018765093e-06]\n",
      "LimVal0:6.6666666666666675e-06\n",
      "LimVal1:4.166666666666668e-06\n",
      "\n",
      "Drain 1 Only\n"
     ]
    },
    {
     "data": {
      "application/vnd.jupyter.widget-view+json": {
       "model_id": "694ab3db06ad487dab4b8e504e95a080",
       "version_major": 2,
       "version_minor": 0
      },
      "text/plain": [
       "Running Simulation :   0%|          | 0/200 [00:00<?, ?it/s]"
      ]
     },
     "metadata": {},
     "output_type": "display_data"
    },
    {
     "name": "stdout",
     "output_type": "stream",
     "text": [
      "Target:0\n",
      "Final Target Drain Current: [2.9843999528741956e-06]\n",
      "LimVal0:6.6666666666666675e-06\n",
      "LimVal1:4.166666666666668e-06\n",
      "\n",
      "Both Drains\n"
     ]
    },
    {
     "data": {
      "application/vnd.jupyter.widget-view+json": {
       "model_id": "8396b8f18d8545028b035b3f43ff0a78",
       "version_major": 2,
       "version_minor": 0
      },
      "text/plain": [
       "Running Simulation :   0%|          | 0/100 [00:00<?, ?it/s]"
      ]
     },
     "metadata": {},
     "output_type": "display_data"
    },
    {
     "name": "stdout",
     "output_type": "stream",
     "text": [
      "Target:1\n",
      "Final Target Drain Current: [3.1780779576204064e-06, 2.541630057263006e-06]\n",
      "Target: 1.0\n",
      "Accuracy: 0\n",
      "LimVal0:6.250000000000001e-06\n",
      "LimVal1:5.000000000000001e-06\n",
      "\n",
      "Drain 2 Only\n"
     ]
    },
    {
     "data": {
      "application/vnd.jupyter.widget-view+json": {
       "model_id": "ac998a8e7cc149be8464314d023a58e3",
       "version_major": 2,
       "version_minor": 0
      },
      "text/plain": [
       "Running Simulation :   0%|          | 0/200 [00:00<?, ?it/s]"
      ]
     },
     "metadata": {},
     "output_type": "display_data"
    },
    {
     "name": "stdout",
     "output_type": "stream",
     "text": [
      "Target:1\n",
      "Final Target Drain Current: [2.3801698837454858e-06]\n",
      "LimVal0:6.250000000000001e-06\n",
      "LimVal1:5.000000000000001e-06\n",
      "\n",
      "Drain 1 Only\n"
     ]
    },
    {
     "data": {
      "application/vnd.jupyter.widget-view+json": {
       "model_id": "10b05cc62322454684c3756cefa4b0d0",
       "version_major": 2,
       "version_minor": 0
      },
      "text/plain": [
       "Running Simulation :   0%|          | 0/200 [00:00<?, ?it/s]"
      ]
     },
     "metadata": {},
     "output_type": "display_data"
    },
    {
     "name": "stdout",
     "output_type": "stream",
     "text": [
      "Target:0\n",
      "Final Target Drain Current: [3.759107982674116e-06]\n",
      "LimVal0:6.250000000000001e-06\n",
      "LimVal1:5.000000000000001e-06\n",
      "\n",
      "Both Drains\n"
     ]
    },
    {
     "data": {
      "application/vnd.jupyter.widget-view+json": {
       "model_id": "659220bc20cd4acaa44d5ba286eff05b",
       "version_major": 2,
       "version_minor": 0
      },
      "text/plain": [
       "Running Simulation :   0%|          | 0/100 [00:00<?, ?it/s]"
      ]
     },
     "metadata": {},
     "output_type": "display_data"
    },
    {
     "name": "stdout",
     "output_type": "stream",
     "text": [
      "Target:1\n",
      "Final Target Drain Current: [3.2638494197100912e-06, 2.504639979360198e-06]\n",
      "Target: 1.0\n",
      "Accuracy: 0\n",
      "LimVal0:5.833333333333335e-06\n",
      "LimVal1:5.833333333333335e-06\n",
      "\n",
      "Drain 1 Only\n"
     ]
    },
    {
     "data": {
      "application/vnd.jupyter.widget-view+json": {
       "model_id": "2fa4c6e91b52408691605c2ba3986c7c",
       "version_major": 2,
       "version_minor": 0
      },
      "text/plain": [
       "Running Simulation :   0%|          | 0/200 [00:00<?, ?it/s]"
      ]
     },
     "metadata": {},
     "output_type": "display_data"
    },
    {
     "name": "stdout",
     "output_type": "stream",
     "text": [
      "Target:0\n",
      "Final Target Drain Current: [4.1980474174993715e-06]\n",
      "LimVal0:5.833333333333335e-06\n",
      "LimVal1:5.833333333333335e-06\n",
      "\n",
      "Drain 2 Only\n"
     ]
    },
    {
     "data": {
      "application/vnd.jupyter.widget-view+json": {
       "model_id": "3233e495ccb24400bd51a3782ff9e3fb",
       "version_major": 2,
       "version_minor": 0
      },
      "text/plain": [
       "Running Simulation :   0%|          | 0/200 [00:00<?, ?it/s]"
      ]
     },
     "metadata": {},
     "output_type": "display_data"
    },
    {
     "name": "stdout",
     "output_type": "stream",
     "text": [
      "Target:1\n",
      "Final Target Drain Current: [4.776887498494075e-06]\n",
      "LimVal0:5.833333333333335e-06\n",
      "LimVal1:5.833333333333335e-06\n",
      "\n",
      "Both Drains\n"
     ]
    },
    {
     "data": {
      "application/vnd.jupyter.widget-view+json": {
       "model_id": "730b1ad2e8e541788db0d99dd9d70b05",
       "version_major": 2,
       "version_minor": 0
      },
      "text/plain": [
       "Running Simulation :   0%|          | 0/100 [00:00<?, ?it/s]"
      ]
     },
     "metadata": {},
     "output_type": "display_data"
    },
    {
     "name": "stdout",
     "output_type": "stream",
     "text": [
      "Target:0\n",
      "Final Target Drain Current: [2.5408655754850626e-06, 3.2283131577860096e-06]\n",
      "Target: 0.0\n",
      "Accuracy: 0\n",
      "LimVal0:6.666666666666668e-06\n",
      "LimVal1:5.4166666666666685e-06\n",
      "\n",
      "Drain 1 Only\n"
     ]
    },
    {
     "data": {
      "application/vnd.jupyter.widget-view+json": {
       "model_id": "22c2f8fabcc24eefa2dbc3e7a74c0e95",
       "version_major": 2,
       "version_minor": 0
      },
      "text/plain": [
       "Running Simulation :   0%|          | 0/200 [00:00<?, ?it/s]"
      ]
     },
     "metadata": {},
     "output_type": "display_data"
    },
    {
     "ename": "KeyboardInterrupt",
     "evalue": "",
     "output_type": "error",
     "traceback": [
      "\u001b[0;31m---------------------------------------------------------------------------\u001b[0m",
      "\u001b[0;31mKeyboardInterrupt\u001b[0m                         Traceback (most recent call last)",
      "\u001b[0;32m/tmp/ipykernel_10081/1893717152.py\u001b[0m in \u001b[0;36m<module>\u001b[0;34m\u001b[0m\n\u001b[1;32m    877\u001b[0m         \u001b[0mprint\u001b[0m\u001b[0;34m(\u001b[0m\u001b[0mval\u001b[0m\u001b[0;34m)\u001b[0m\u001b[0;34m\u001b[0m\u001b[0;34m\u001b[0m\u001b[0m\n\u001b[1;32m    878\u001b[0m         \u001b[0;32mfor\u001b[0m \u001b[0mi\u001b[0m \u001b[0;32min\u001b[0m \u001b[0mtqdm\u001b[0m\u001b[0;34m(\u001b[0m\u001b[0mrange\u001b[0m\u001b[0;34m(\u001b[0m\u001b[0mnumRuns\u001b[0m\u001b[0;34m)\u001b[0m\u001b[0;34m)\u001b[0m\u001b[0;34m:\u001b[0m\u001b[0;34m\u001b[0m\u001b[0;34m\u001b[0m\u001b[0m\n\u001b[0;32m--> 879\u001b[0;31m             \u001b[0moutputs\u001b[0m\u001b[0;34m.\u001b[0m\u001b[0mappend\u001b[0m\u001b[0;34m(\u001b[0m\u001b[0mrunNBACK\u001b[0m\u001b[0;34m(\u001b[0m\u001b[0monAmp\u001b[0m\u001b[0;34m,\u001b[0m\u001b[0monAmpTest\u001b[0m\u001b[0;34m,\u001b[0m\u001b[0mdt\u001b[0m\u001b[0;34m,\u001b[0m\u001b[0mTlenTrain\u001b[0m\u001b[0;34m,\u001b[0m\u001b[0mtimesteps\u001b[0m\u001b[0;34m,\u001b[0m\u001b[0mnumDT\u001b[0m\u001b[0;34m,\u001b[0m\u001b[0mrestDur\u001b[0m\u001b[0;34m,\u001b[0m\u001b[0mnbacks\u001b[0m\u001b[0;34m,\u001b[0m\u001b[0mmaxCurrent\u001b[0m\u001b[0;34m,\u001b[0m\u001b[0mval\u001b[0m\u001b[0;34m,\u001b[0m\u001b[0maccThresh\u001b[0m\u001b[0;34m,\u001b[0m\u001b[0mincreaseVal\u001b[0m\u001b[0;34m,\u001b[0m\u001b[0mdecreaseVal\u001b[0m\u001b[0;34m,\u001b[0m\u001b[0mseed\u001b[0m\u001b[0;34m=\u001b[0m\u001b[0mseeds\u001b[0m\u001b[0;34m[\u001b[0m\u001b[0mi\u001b[0m\u001b[0;34m]\u001b[0m\u001b[0;34m,\u001b[0m\u001b[0maccThreshold\u001b[0m\u001b[0;34m=\u001b[0m\u001b[0maccThreshold\u001b[0m\u001b[0;34m,\u001b[0m\u001b[0mpreState\u001b[0m\u001b[0;34m=\u001b[0m\u001b[0mpreState\u001b[0m\u001b[0;34m)\u001b[0m\u001b[0;34m)\u001b[0m\u001b[0;34m\u001b[0m\u001b[0;34m\u001b[0m\u001b[0m\n\u001b[0m\u001b[1;32m    880\u001b[0m     \u001b[0;32mif\u001b[0m \u001b[0mnumRuns\u001b[0m\u001b[0;34m==\u001b[0m\u001b[0;36m1\u001b[0m\u001b[0;34m:\u001b[0m\u001b[0;34m\u001b[0m\u001b[0;34m\u001b[0m\u001b[0m\n\u001b[1;32m    881\u001b[0m         \u001b[0moutputs\u001b[0m\u001b[0;34m=\u001b[0m\u001b[0moutputs\u001b[0m\u001b[0;34m[\u001b[0m\u001b[0;36m0\u001b[0m\u001b[0;34m]\u001b[0m\u001b[0;34m\u001b[0m\u001b[0;34m\u001b[0m\u001b[0m\n",
      "\u001b[0;32m/tmp/ipykernel_10081/1893717152.py\u001b[0m in \u001b[0;36mrunNBACK\u001b[0;34m(onAmp, onAmpTest, dt, Tlen, timesteps, numDT, restDur, nbacks, maxCurrent, limVal, accThresh, increaseVal, decreaseVal, seed, accThreshold, preState)\u001b[0m\n\u001b[1;32m    712\u001b[0m             \u001b[0msignalLen\u001b[0m\u001b[0;34m=\u001b[0m\u001b[0mlen\u001b[0m\u001b[0;34m(\u001b[0m\u001b[0mstimulus\u001b[0m\u001b[0;34m[\u001b[0m\u001b[0;36m0\u001b[0m\u001b[0;34m]\u001b[0m\u001b[0;34m.\u001b[0m\u001b[0msignal\u001b[0m\u001b[0;34m)\u001b[0m\u001b[0;34m\u001b[0m\u001b[0;34m\u001b[0m\u001b[0m\n\u001b[1;32m    713\u001b[0m \u001b[0;34m\u001b[0m\u001b[0m\n\u001b[0;32m--> 714\u001b[0;31m             \u001b[0msim\u001b[0m\u001b[0;34m[\u001b[0m\u001b[0mi\u001b[0m\u001b[0;34m]\u001b[0m\u001b[0;34m,\u001b[0m\u001b[0mnewState\u001b[0m \u001b[0;34m=\u001b[0m \u001b[0mgetNWState_backprop\u001b[0m\u001b[0;34m(\u001b[0m\u001b[0mstimulus\u001b[0m\u001b[0;34m,\u001b[0m\u001b[0mtrain\u001b[0m\u001b[0;34m,\u001b[0m\u001b[0mnwState\u001b[0m\u001b[0;34m,\u001b[0m\u001b[0mdrain_pool\u001b[0m\u001b[0;34m,\u001b[0m\u001b[0msources\u001b[0m\u001b[0;34m,\u001b[0m\u001b[0mtiming\u001b[0m\u001b[0;34m[\u001b[0m\u001b[0mi\u001b[0m\u001b[0;34m]\u001b[0m\u001b[0;34m,\u001b[0m\u001b[0mtmpTargets\u001b[0m\u001b[0;34m[\u001b[0m\u001b[0mi\u001b[0m\u001b[0;34m]\u001b[0m\u001b[0;34m.\u001b[0m\u001b[0mastype\u001b[0m\u001b[0;34m(\u001b[0m\u001b[0;34m'int'\u001b[0m\u001b[0;34m)\u001b[0m\u001b[0;34m,\u001b[0m\u001b[0mlimVal\u001b[0m\u001b[0;34m,\u001b[0m\u001b[0mlimVals0\u001b[0m\u001b[0;34m,\u001b[0m\u001b[0mlimVals1\u001b[0m\u001b[0;34m,\u001b[0m\u001b[0mrun_time\u001b[0m\u001b[0;34m=\u001b[0m\u001b[0mint\u001b[0m\u001b[0;34m(\u001b[0m\u001b[0msignalLen\u001b[0m\u001b[0;34m*\u001b[0m\u001b[0mdt\u001b[0m\u001b[0;34m)\u001b[0m\u001b[0;34m,\u001b[0m\u001b[0mdt\u001b[0m\u001b[0;34m=\u001b[0m\u001b[0mdt\u001b[0m\u001b[0;34m,\u001b[0m\u001b[0mdisable_tqdm\u001b[0m\u001b[0;34m=\u001b[0m\u001b[0;32mFalse\u001b[0m\u001b[0;34m)\u001b[0m\u001b[0;34m\u001b[0m\u001b[0;34m\u001b[0m\u001b[0m\n\u001b[0m\u001b[1;32m    715\u001b[0m \u001b[0;34m\u001b[0m\u001b[0m\n\u001b[1;32m    716\u001b[0m             \u001b[0msimVoltages\u001b[0m\u001b[0;34m[\u001b[0m\u001b[0mi\u001b[0m\u001b[0;34m]\u001b[0m\u001b[0;34m=\u001b[0m\u001b[0;34m(\u001b[0m\u001b[0msim\u001b[0m\u001b[0;34m[\u001b[0m\u001b[0mi\u001b[0m\u001b[0;34m]\u001b[0m\u001b[0;34m.\u001b[0m\u001b[0mwireVoltage\u001b[0m\u001b[0;34m)\u001b[0m\u001b[0;34m\u001b[0m\u001b[0;34m\u001b[0m\u001b[0m\n",
      "\u001b[0;32m/tmp/ipykernel_10081/1893717152.py\u001b[0m in \u001b[0;36mgetNWState_backprop\u001b[0;34m(training_stimulus, train, state, drains, sources, tmpTiming, tmpTargets, limVal, limVal0, limVal1, run_time, dt, disable_tqdm)\u001b[0m\n\u001b[1;32m    226\u001b[0m     \u001b[0meles\u001b[0m \u001b[0;34m=\u001b[0m \u001b[0mnp\u001b[0m\u001b[0;34m.\u001b[0m\u001b[0mappend\u001b[0m\u001b[0;34m(\u001b[0m\u001b[0mdrains\u001b[0m\u001b[0;34m,\u001b[0m \u001b[0msources\u001b[0m\u001b[0;34m)\u001b[0m \u001b[0;31m#all drains\u001b[0m\u001b[0;34m\u001b[0m\u001b[0;34m\u001b[0m\u001b[0m\n\u001b[1;32m    227\u001b[0m     \u001b[0;31m#     if len(eles) == num_drain_training + num_source_training:\u001b[0m\u001b[0;34m\u001b[0m\u001b[0;34m\u001b[0m\u001b[0;34m\u001b[0m\u001b[0m\n\u001b[0;32m--> 228\u001b[0;31m     training_sim,cost,finalIter = runSim_backprop(connectivity, \n\u001b[0m\u001b[1;32m    229\u001b[0m                                    \u001b[0mstimulus\u001b[0m \u001b[0;34m=\u001b[0m \u001b[0mtraining_stimulus\u001b[0m\u001b[0;34m,\u001b[0m\u001b[0;34m\u001b[0m\u001b[0;34m\u001b[0m\u001b[0m\n\u001b[1;32m    230\u001b[0m                                    \u001b[0mjunctionMode\u001b[0m \u001b[0;34m=\u001b[0m \u001b[0;34m'tunneling'\u001b[0m\u001b[0;34m,\u001b[0m\u001b[0;34m\u001b[0m\u001b[0;34m\u001b[0m\u001b[0m\n",
      "\u001b[0;32m/tmp/ipykernel_10081/1893717152.py\u001b[0m in \u001b[0;36mrunSim_backprop\u001b[0;34m(Connectivity, junctionMode, collapse, criticalFlux, maxFlux, contactMode, electrodes, dt, T, stimulus, biasType, onTime, offTime, onAmp, offAmp, f, customSignal, start_state, lite_mode, save_steps, findFirst, disable_tqdm, freeze_wire, freeze_junction, freeze_TimeStamp, tmpTiming, tmpTargets, limVal, limVal0, limVal1)\u001b[0m\n\u001b[1;32m    317\u001b[0m                     freeze_TimeStamp = freeze_TimeStamp)\n\u001b[1;32m    318\u001b[0m \u001b[0;34m\u001b[0m\u001b[0m\n\u001b[0;32m--> 319\u001b[0;31m     \u001b[0mthis_realization\u001b[0m\u001b[0;34m,\u001b[0m\u001b[0mcost\u001b[0m \u001b[0;34m=\u001b[0m \u001b[0msimulateNetwork_backprop\u001b[0m\u001b[0;34m(\u001b[0m\u001b[0mSimulationOptions\u001b[0m\u001b[0;34m,\u001b[0m \u001b[0mConnectivity\u001b[0m\u001b[0;34m,\u001b[0m \u001b[0mJunctionState\u001b[0m\u001b[0;34m,\u001b[0m\u001b[0mtmpTiming\u001b[0m\u001b[0;34m,\u001b[0m\u001b[0mtmpTargets\u001b[0m\u001b[0;34m,\u001b[0m\u001b[0mlimVal\u001b[0m\u001b[0;34m,\u001b[0m\u001b[0mlimVal0\u001b[0m\u001b[0;34m,\u001b[0m\u001b[0mlimVal1\u001b[0m\u001b[0;34m,\u001b[0m\u001b[0mlite_mode\u001b[0m\u001b[0;34m,\u001b[0m \u001b[0mdisable_tqdm\u001b[0m\u001b[0;34m,\u001b[0m \u001b[0msave_steps\u001b[0m\u001b[0;34m,\u001b[0m \u001b[0;34m**\u001b[0m\u001b[0mkwdict\u001b[0m\u001b[0;34m)\u001b[0m\u001b[0;34m\u001b[0m\u001b[0;34m\u001b[0m\u001b[0m\n\u001b[0m\u001b[1;32m    320\u001b[0m \u001b[0;34m\u001b[0m\u001b[0m\n\u001b[1;32m    321\u001b[0m     \u001b[0mfinalIter\u001b[0m\u001b[0;34m=\u001b[0m\u001b[0mnp\u001b[0m\u001b[0;34m.\u001b[0m\u001b[0mmax\u001b[0m\u001b[0;34m(\u001b[0m\u001b[0mnp\u001b[0m\u001b[0;34m.\u001b[0m\u001b[0mnonzero\u001b[0m\u001b[0;34m(\u001b[0m\u001b[0mthis_realization\u001b[0m\u001b[0;34m.\u001b[0m\u001b[0melectrodeCurrent\u001b[0m\u001b[0;34m)\u001b[0m\u001b[0;34m)\u001b[0m\u001b[0;34m\u001b[0m\u001b[0;34m\u001b[0m\u001b[0m\n",
      "\u001b[0;32m/tmp/ipykernel_10081/1893717152.py\u001b[0m in \u001b[0;36msimulateNetwork_backprop\u001b[0;34m(simulationOptions, connectivity, junctionState, tmpTiming, tmpTargets, limVoltage, limVal0, limVal1, lite_mode, disable_tqdm, save_steps, **kwargs)\u001b[0m\n\u001b[1;32m    424\u001b[0m \u001b[0;31m#         elif this_time > trainTime:\u001b[0m\u001b[0;34m\u001b[0m\u001b[0;34m\u001b[0m\u001b[0;34m\u001b[0m\u001b[0m\n\u001b[1;32m    425\u001b[0m \u001b[0;34m\u001b[0m\u001b[0m\n\u001b[0;32m--> 426\u001b[0;31m         \u001b[0msol\u001b[0m \u001b[0;34m=\u001b[0m \u001b[0msimCore\u001b[0m\u001b[0;34m(\u001b[0m\u001b[0mconnectivity\u001b[0m\u001b[0;34m,\u001b[0m \u001b[0mjunctionState\u001b[0m\u001b[0;34m,\u001b[0m \u001b[0mthis_stimulus\u001b[0m\u001b[0;34m,\u001b[0m \u001b[0melectrodes\u001b[0m\u001b[0;34m,\u001b[0m \u001b[0msimulationOptions\u001b[0m\u001b[0;34m.\u001b[0m\u001b[0mdt\u001b[0m\u001b[0;34m)\u001b[0m\u001b[0;34m\u001b[0m\u001b[0;34m\u001b[0m\u001b[0m\n\u001b[0m\u001b[1;32m    427\u001b[0m \u001b[0;34m\u001b[0m\u001b[0m\n\u001b[1;32m    428\u001b[0m         \u001b[0;32mif\u001b[0m \u001b[0mthis_time\u001b[0m \u001b[0;34m>=\u001b[0m \u001b[0mfreeze_TimeStamp\u001b[0m\u001b[0;34m:\u001b[0m\u001b[0;34m\u001b[0m\u001b[0;34m\u001b[0m\u001b[0m\n",
      "\u001b[0;32m/import/silo2/aloe8475/Documents/edamame/edamame/core/simulate.py\u001b[0m in \u001b[0;36msimCore\u001b[0;34m(connectivity, junctionState, this_stimulus, electrodes, dt, update_inside)\u001b[0m\n\u001b[1;32m     34\u001b[0m         \u001b[0mrhs\u001b[0m\u001b[0;34m[\u001b[0m\u001b[0mV\u001b[0m\u001b[0;34m+\u001b[0m\u001b[0mi\u001b[0m\u001b[0;34m]\u001b[0m \u001b[0;34m=\u001b[0m \u001b[0mthis_stimulus\u001b[0m\u001b[0;34m[\u001b[0m\u001b[0mi\u001b[0m\u001b[0;34m]\u001b[0m\u001b[0;34m\u001b[0m\u001b[0;34m\u001b[0m\u001b[0m\n\u001b[1;32m     35\u001b[0m \u001b[0;34m\u001b[0m\u001b[0m\n\u001b[0;32m---> 36\u001b[0;31m     \u001b[0msol\u001b[0m \u001b[0;34m=\u001b[0m \u001b[0mnp\u001b[0m\u001b[0;34m.\u001b[0m\u001b[0mlinalg\u001b[0m\u001b[0;34m.\u001b[0m\u001b[0msolve\u001b[0m\u001b[0;34m(\u001b[0m\u001b[0mlhs\u001b[0m\u001b[0;34m,\u001b[0m\u001b[0mrhs\u001b[0m\u001b[0;34m)\u001b[0m\u001b[0;34m\u001b[0m\u001b[0;34m\u001b[0m\u001b[0m\n\u001b[0m\u001b[1;32m     37\u001b[0m     \u001b[0mjunctionState\u001b[0m\u001b[0;34m.\u001b[0m\u001b[0mvoltage\u001b[0m \u001b[0;34m=\u001b[0m \u001b[0msol\u001b[0m\u001b[0;34m[\u001b[0m\u001b[0medgeList\u001b[0m\u001b[0;34m[\u001b[0m\u001b[0;34m:\u001b[0m\u001b[0;34m,\u001b[0m\u001b[0;36m0\u001b[0m\u001b[0;34m]\u001b[0m\u001b[0;34m]\u001b[0m \u001b[0;34m-\u001b[0m \u001b[0msol\u001b[0m\u001b[0;34m[\u001b[0m\u001b[0medgeList\u001b[0m\u001b[0;34m[\u001b[0m\u001b[0;34m:\u001b[0m\u001b[0;34m,\u001b[0m\u001b[0;36m1\u001b[0m\u001b[0;34m]\u001b[0m\u001b[0;34m]\u001b[0m\u001b[0;34m\u001b[0m\u001b[0;34m\u001b[0m\u001b[0m\n\u001b[1;32m     38\u001b[0m     \u001b[0;32mif\u001b[0m \u001b[0mupdate_inside\u001b[0m\u001b[0;34m:\u001b[0m\u001b[0;34m\u001b[0m\u001b[0;34m\u001b[0m\u001b[0m\n",
      "\u001b[0;32m<__array_function__ internals>\u001b[0m in \u001b[0;36msolve\u001b[0;34m(*args, **kwargs)\u001b[0m\n",
      "\u001b[0;32m~/anaconda3/envs/phd/lib/python3.8/site-packages/numpy/linalg/linalg.py\u001b[0m in \u001b[0;36msolve\u001b[0;34m(a, b)\u001b[0m\n\u001b[1;32m    391\u001b[0m     \u001b[0msignature\u001b[0m \u001b[0;34m=\u001b[0m \u001b[0;34m'DD->D'\u001b[0m \u001b[0;32mif\u001b[0m \u001b[0misComplexType\u001b[0m\u001b[0;34m(\u001b[0m\u001b[0mt\u001b[0m\u001b[0;34m)\u001b[0m \u001b[0;32melse\u001b[0m \u001b[0;34m'dd->d'\u001b[0m\u001b[0;34m\u001b[0m\u001b[0;34m\u001b[0m\u001b[0m\n\u001b[1;32m    392\u001b[0m     \u001b[0mextobj\u001b[0m \u001b[0;34m=\u001b[0m \u001b[0mget_linalg_error_extobj\u001b[0m\u001b[0;34m(\u001b[0m\u001b[0m_raise_linalgerror_singular\u001b[0m\u001b[0;34m)\u001b[0m\u001b[0;34m\u001b[0m\u001b[0;34m\u001b[0m\u001b[0m\n\u001b[0;32m--> 393\u001b[0;31m     \u001b[0mr\u001b[0m \u001b[0;34m=\u001b[0m \u001b[0mgufunc\u001b[0m\u001b[0;34m(\u001b[0m\u001b[0ma\u001b[0m\u001b[0;34m,\u001b[0m \u001b[0mb\u001b[0m\u001b[0;34m,\u001b[0m \u001b[0msignature\u001b[0m\u001b[0;34m=\u001b[0m\u001b[0msignature\u001b[0m\u001b[0;34m,\u001b[0m \u001b[0mextobj\u001b[0m\u001b[0;34m=\u001b[0m\u001b[0mextobj\u001b[0m\u001b[0;34m)\u001b[0m\u001b[0;34m\u001b[0m\u001b[0;34m\u001b[0m\u001b[0m\n\u001b[0m\u001b[1;32m    394\u001b[0m \u001b[0;34m\u001b[0m\u001b[0m\n\u001b[1;32m    395\u001b[0m     \u001b[0;32mreturn\u001b[0m \u001b[0mwrap\u001b[0m\u001b[0;34m(\u001b[0m\u001b[0mr\u001b[0m\u001b[0;34m.\u001b[0m\u001b[0mastype\u001b[0m\u001b[0;34m(\u001b[0m\u001b[0mresult_t\u001b[0m\u001b[0;34m,\u001b[0m \u001b[0mcopy\u001b[0m\u001b[0;34m=\u001b[0m\u001b[0;32mFalse\u001b[0m\u001b[0;34m)\u001b[0m\u001b[0;34m)\u001b[0m\u001b[0;34m\u001b[0m\u001b[0;34m\u001b[0m\u001b[0m\n",
      "\u001b[0;31mKeyboardInterrupt\u001b[0m: "
     ]
    }
   ],
   "source": [
    "## !/usr/bin/env python\n",
    "# coding: utf-8\n",
    "\n",
    "# In[ ]:\n",
    "\n",
    "\n",
    "\"\"\" \n",
    "\n",
    "Run Equilibrium Propagation / Backpropagation on Nanowire Networks for classification. \n",
    "\n",
    "Author: Alon Loeffler\n",
    "\n",
    "Required Files/Folders: learning_functions.py | edamame | asn_nw_00350_nj_01350_seed_1581_avl_10.00_disp_01.00_lx_50.00_ly_50.00.mat\n",
    "\n",
    "\"\"\"\n",
    "\n",
    "#IMPORTS:\n",
    "#Append path to Ruomin's Edamame Package (Nanowire Simulations)\n",
    "import sys\n",
    "import os\n",
    "\n",
    "sys.path.append('/import/silo2/aloe8475/Documents/edamame') #point to edamame locally\n",
    "sys.path.append('/import/silo2/aloe8475/Documents/CODE/Analysis/Training/Associative Learning/EquilProp') #point to edamame locally\n",
    "sys.path.append('/import/silo2/aloe8475/Documents/CODE/aux_functions') #point to edamame locally\n",
    "\n",
    "#Choose which nw:\n",
    "nwChoice=700 #350 or 700\n",
    "\n",
    "if nwChoice == 350:\n",
    "    fileName='/import/silo2/aloe8475/Documents/Data/Associative Learning/Sparse Networks/asn_nw_00350_nj_01350_seed_1581_avl_10.00_disp_01.00_lx_50.00_ly_50.00'\n",
    "elif nwChoice == 700:\n",
    "    fileName='/import/silo2/aloe8475/Documents/Data/Associative Learning/Sparse Networks/asn_nw_00698_nj_02582_seed_002_avl_10.00_disp_01.00_lx_75.00_ly_75.00'\n",
    "\n",
    "#point to network data path ^ \n",
    "\n",
    "saveFig='/import/silo2/aloe8475/Documents/Data/Figures/Equil Prop/' \n",
    "dataLoc='/import/silo2/aloe8475/Documents/Data/Associative Learning/EquilProp/'\n",
    "\n",
    "#import edamame (neuromorphic nanowire python package by Ruomin Zhu)\n",
    "from edamame import * \n",
    "import numpy as np\n",
    "import matplotlib.pyplot as plt\n",
    "import copy\n",
    "from scipy.io import loadmat, savemat\n",
    "import networkx as nx\n",
    "from tqdm.notebook import tqdm_notebook as tqdm\n",
    "from IPython.core.debugger import set_trace\n",
    "\n",
    "import pickle \n",
    "import _pickle as cPickle\n",
    "import gzip\n",
    "\n",
    "from learning_functions import genGridNW,point_on_line,dist,getWeightedGraph\n",
    "from learning_functions import calc_cost,setupStimulus,setupSourcesOnly,runTesting,getNWState,calcOutputs\n",
    "\n",
    "\" Create Inputs \"\n",
    "def createSimpleInputs(patternSize=3,numSamples=10,noise=False):\n",
    "    #SIMPLE ROW INPUTS:\n",
    "    np.random.seed(42)\n",
    "    \n",
    "    if patternSize==2:\n",
    "    #2x2 pattern:\n",
    "        orig_inputs=np.array((np.array([1,0,1,0]),np.array([0,1,0,1])))\n",
    "    elif patternSize==3:\n",
    "        #3x3 pattern:\n",
    "        orig_inputs=np.array((np.array([0,0,1,0,0,0,1,1,0]),np.array([0,1,1,0,0,0,1,0,0])))\n",
    "    orig_inputs=orig_inputs.astype('double')\n",
    "    samples=[[] for i in range(len(orig_inputs))]\n",
    "    new_inputs=np.array([orig_inputs]*numSamples)\n",
    "\n",
    "    #Pattern without Noise\n",
    "    NoNoiseInputs=[]\n",
    "    for targetClass in range(len(orig_inputs)):\n",
    "        NoNoiseInputs.append([int(i) for i in orig_inputs[targetClass]])\n",
    "#     set_trace()\n",
    "    #Make Noisy variants of simple patterns:\n",
    "    for i in range(len(orig_inputs)):\n",
    "        for j in range(numSamples):\n",
    "            randVals=np.random.randint(1,patternSize) #choose how many of the 3 sources will have noise\n",
    "            noiseVals=np.random.randint(patternSize, size=randVals)\n",
    "            temp=orig_inputs[i][orig_inputs[i]==1].astype('double')\n",
    "            if noise:\n",
    "                for val in noiseVals:\n",
    "                    temp[val]=np.double(np.random.random(1))\n",
    "            new_inputs[j][i][new_inputs[j][i]==1]=temp\n",
    "    #         samples[i].append(temp)\n",
    "    \n",
    "    #RESHAPE INPUTS INTO numSamplesx2\n",
    "    row1=[]\n",
    "    row2=[]\n",
    "    for i in range(len(new_inputs)):\n",
    "        row1.append(new_inputs[i][0])\n",
    "        row2.append(new_inputs[i][1])\n",
    "\n",
    "    inputs=np.array([row1,row2])\n",
    "    inputs=inputs.reshape(numSamples*2,orig_inputs.shape[1])\n",
    "    targets=np.zeros(numSamples*2)\n",
    "    targets[-numSamples:]=1\n",
    "\n",
    "    #change 0 volts to 0.05\n",
    "#     minVoltage=0.005\n",
    "#     inputs=inputs+minVoltage\n",
    "    \n",
    "    return inputs, targets,orig_inputs\n",
    "\n",
    "\" Load Networks \"\n",
    "def buildNetworks(fileName,ManualSources=True,numDrains=2,numSources=9):\n",
    "    #load data\n",
    "    nw=loadmat(fileName)\n",
    "    nwSize = nw['number_of_wires'][0][0]\n",
    "    nwJunctions=nw['number_of_junctions'][0][0]\n",
    "    print('Network '+str(nwSize)+ ' Loaded')\n",
    "#     this_seed=8639\n",
    "    Network=nw\n",
    "    connectivity=connectivity__(wires_dict=Network) \n",
    "\n",
    "    #fixing file structure from Matlab:\n",
    "    connectivity.avg_length=connectivity.avg_length[0][0]\n",
    "    connectivity.number_of_junctions=connectivity.number_of_junctions[0][0]\n",
    "    connectivity.centroid_dispersion=connectivity.centroid_dispersion[0][0]\n",
    "    connectivity.dispersion=connectivity.dispersion[0][0]\n",
    "    # connectivity.generating_number_of_wires=connectivity.generating_number_of_wires[0][0]\n",
    "    connectivity.gennorm_shape=connectivity.gennorm_shape[0][0]\n",
    "    connectivity.length_x=connectivity.length_x[0][0]\n",
    "    connectivity.length_y=connectivity.length_y[0][0]\n",
    "    connectivity.number_of_wires=connectivity.number_of_wires[0][0]\n",
    "    connectivity.numOfWires=connectivity.numOfWires[0][0]\n",
    "    connectivity.numOfJunctions=connectivity.numOfJunctions[0][0]\n",
    "    connectivity.theta=connectivity.theta[0][0]\n",
    "    connectivity.this_seed=connectivity.this_seed[0][0]\n",
    "    \n",
    "    #find x and y values of each end of each wire \n",
    "    xa=connectivity.xa[0]\n",
    "    xb=connectivity.xb[0]\n",
    "    ya=connectivity.ya[0]\n",
    "    yb=connectivity.yb[0]\n",
    "\n",
    "    #Pick Electrode placement/distance apart:\n",
    "    \n",
    "    #DRAINS\n",
    "    numDrains=3\n",
    "    ex=np.zeros(numDrains)*5#*15\n",
    "    if nwSize > 500:\n",
    "        eyVal=76\n",
    "    else:\n",
    "        eyVal= 51\n",
    "    ey=np.linspace(-1,eyVal,numDrains)#(-1,101,numDrains)\n",
    "\n",
    "    elecDrain=genGridNW(xa,xb,ya,yb,ex,ey) #generate drain locations in ex, ey coordinates\n",
    "\n",
    "\n",
    "    #IN A LINE:\n",
    "    if nwSize > 500:\n",
    "        exVal=75\n",
    "        eyVal = 74\n",
    "    else:\n",
    "        exVal=50\n",
    "        eyVal=49\n",
    "    ex=np.ones(numSources)*exVal#50\n",
    "    ey=np.linspace(-2,eyVal,numSources)#(-2,99,numSources)\n",
    "    \n",
    "    #IN A 3X3 GRID:\n",
    "    # middleNWx=int(connectivity.length_x/2)+1\n",
    "    # middleNWy=int(connectivity.length_y/2)-1\n",
    "    # distBwElecs=10\n",
    "    # ex=[middleNWx-distBwElecs,middleNWx-distBwElecs,middleNWx-distBwElecs,middleNWx,middleNWx,middleNWx,middleNWx+distBwElecs,middleNWx+distBwElecs,middleNWx+distBwElecs]\n",
    "    # ey=[middleNWy-distBwElecs,middleNWy,middleNWy+distBwElecs]*3\n",
    "\n",
    "    elecSource=genGridNW(xa,xb,ya,yb,ex,ey) #generate source locations in ex, ey coordinates\n",
    "\n",
    "\n",
    "    #Manual Source Placement:\n",
    "    if ManualSources:\n",
    "        if numSources==9:\n",
    "            if nwSize > 500:\n",
    "                elecSource=[678, 260, 491, 173, 628, 424, 301, 236, 483] #700nws\n",
    "            else:\n",
    "                elecSource=[23,320,194,74, 145, 317, 129, 34, 141] #350 nws\n",
    "\n",
    "        elif numSources == 4:\n",
    "            elecSource=[320,42,161,141]\n",
    "\n",
    "    elecDrain=elecDrain[[0,-1]]\n",
    "    \n",
    "    return connectivity,elecSource,elecDrain,nwSize,nwJunctions\n",
    "\n",
    "\n",
    "#Preactivate Network:\n",
    "def PreActivate(sources,allDrains):\n",
    "    stimulus=[]\n",
    "    drains=allDrains[0]\n",
    "    stimulus.append(stimulus__(biasType='Drain',T=5,dt=dt))\n",
    "    for m in range(len(sources)): #create stimulus for each source electrode\n",
    "        stimulus.append(stimulus__(biasType='DC',T=5,dt=dt))\n",
    "\n",
    "    eles = np.append(drains, sources) #all drains\n",
    "    s1=runSim(connectivity,onAmp=onAmp,T=5,dt=0.01,electrodes=eles,\n",
    "              junctionMode = 'tunneling',\n",
    "              contactMode = 'preSet',\n",
    "              findFirst = False,\n",
    "              stimulus=stimulus,\n",
    "              disable_tqdm=False,\n",
    "              collapse=False)\n",
    "    state = getJunctionState(s1, -1) #save state\n",
    "\n",
    "    return state\n",
    "\n",
    "\n",
    "#ADD BACKPROP\n",
    "#This function runs each training epoch and saves the network state at the last timestep of that epoch   \n",
    "def getNWState_backprop(training_stimulus,train,state,drains,sources,tmpTiming,tmpTargets,limVal,limVal0,limVal1,run_time=2,dt=0.01,disable_tqdm=False):\n",
    "    if train:\n",
    "        #remove non-target drain from simulation\n",
    "        target = tmpTargets[0]\n",
    "        run_time=run_time\n",
    "        if target == 0:\n",
    "            drains = drains[0]\n",
    "            print('\\nDrain 1 Only')\n",
    "        elif target == 1:\n",
    "            drains = drains[1]\n",
    "            print('\\nDrain 2 Only')\n",
    "    else:\n",
    "        run_time=TlenTest*dt\n",
    "        print('\\nBoth Drains')\n",
    "#         set_trace()\n",
    "    eles = np.append(drains, sources) #all drains\n",
    "    #     if len(eles) == num_drain_training + num_source_training:\n",
    "    training_sim,cost,finalIter = runSim_backprop(connectivity, \n",
    "                                   stimulus = training_stimulus,\n",
    "                                   junctionMode = 'tunneling',\n",
    "                                   dt = dt, T = run_time, \n",
    "                                   contactMode = 'preSet',\n",
    "                                   electrodes = eles,\n",
    "                                   findFirst = False,\n",
    "                                   start_state = state,\n",
    "                                   disable_tqdm=disable_tqdm,\n",
    "                                   collapse=False,tmpTiming=tmpTiming,tmpTargets=tmpTargets,\n",
    "                                   limVal=limVal,limVal0=limVal0,limVal1=limVal1) \n",
    "    JS1 = getJunctionState(training_sim, finalIter-1) #save state\n",
    "    #     else: \n",
    "    #         print('Bless you Joel :)')\n",
    "    return training_sim,JS1   \n",
    "\n",
    "#Combine drain voltage change with runSim:\n",
    "def runSim_backprop(Connectivity, \n",
    "                    junctionMode='binary', collapse=False,\n",
    "                    criticalFlux=0.1, maxFlux=1.5e-1,\n",
    "                    contactMode='farthest', electrodes=None,\n",
    "                    dt=1e-3, T=10, \n",
    "                    stimulus = None,\n",
    "                    biasType = 'DC',\n",
    "                    onTime=0, offTime=50000000,\n",
    "                    onAmp=1, offAmp=0.005,\n",
    "                    f = 1, customSignal = None,\n",
    "                    start_state = None,\n",
    "                    lite_mode = False, save_steps = 1,\n",
    "                    findFirst = True,\n",
    "                    disable_tqdm = False,\n",
    "                    freeze_wire = None, freeze_junction = None, \n",
    "                    freeze_TimeStamp = None,tmpTiming=[],tmpTargets=[],\n",
    "                    limVal=0.5,limVal0=0.5,limVal1=0.5):\n",
    "\n",
    "    \"\"\"\n",
    "    For the case of multi electrodes, stimulus should be in parameters.\n",
    "    See help(stimulus__) for how to generate stimulus__ objects.\n",
    "    \"\"\"\n",
    "\n",
    "    SimulationOptions = simulationOptions__(dt = dt, T = T,\n",
    "                                            connectivity = Connectivity, \n",
    "                                            contactMode = contactMode,\n",
    "                                            electrodes = electrodes)\n",
    "\n",
    "    if ((contactMode == 'preSet') and (len(electrodes) > 2)) or stimulus is not None:\n",
    "        from sys import exit\n",
    "        if stimulus == None:\n",
    "            logging.warning(f'Multiple electrodes detected. Please input stimulus in parameters!')\n",
    "            exit()\n",
    "        if len(stimulus) < len(SimulationOptions.electrodes):\n",
    "            diff = len(SimulationOptions.electrodes) - len(stimulus)\n",
    "            for _ in range(diff):\n",
    "                stimulus.append(stimulus__('Drain', T = T, dt = dt))\n",
    "\n",
    "        if len(stimulus) > len(SimulationOptions.electrodes):\n",
    "            logging.warning(f'More stimulus than electrodes. Current setup has {len(SimulationOptions.electrodes)} electrodes!')\n",
    "            exit()\n",
    "            \n",
    "        if len(stimulus[0].signal) < len(SimulationOptions.TimeVector):\n",
    "            logging.warning(f'Stimulus length not correct, current time vector has length {len(SimulationOptions.TimeVector)}!')\n",
    "            exit()\n",
    "        SimulationOptions.stimulus = stimulus\n",
    "            \n",
    "    elif contactMode == 'boundary':\n",
    "        SimulationOptions.stimulus[:int(len(SimulationOptions.electrodes)/2)] = [stimulus__(biasType = biasType, \n",
    "                                                                                        T = T, dt = dt,\n",
    "                                                                                        onTime = onTime, offTime = offTime,\n",
    "                                                                                        onAmp = onAmp, offAmp = offAmp,\n",
    "                                                                                        f = f, customSignal= customSignal)\n",
    "                                                                                        for i in range(int(len(SimulationOptions.electrodes)/2))]\n",
    "    else:\n",
    "        SimulationOptions.stimulus[0] = stimulus__(biasType = biasType, \n",
    "                                                T = T, dt = dt,\n",
    "                                                onTime = onTime, offTime = offTime,\n",
    "                                                onAmp = onAmp, offAmp = offAmp,\n",
    "                                                    f = f, customSignal= customSignal)\n",
    "    if start_state == None: \n",
    "        JunctionState = junctionState__(Connectivity.numOfJunctions, \n",
    "                                    mode = junctionMode, collapse = collapse, \n",
    "                                    criticalFlux=criticalFlux, maxFlux = maxFlux)\n",
    "    else:\n",
    "        from copy import deepcopy\n",
    "        JunctionState = deepcopy(start_state)\n",
    "    \n",
    "    kwdict = dict()\n",
    "    if (freeze_wire != None) or (freeze_junction != None):\n",
    "        kwdict = dict(freeze_wire = freeze_wire,\n",
    "                    freeze_junction = freeze_junction, \n",
    "                    freeze_TimeStamp = freeze_TimeStamp)\n",
    "        \n",
    "    this_realization,cost = simulateNetwork_backprop(SimulationOptions, Connectivity, JunctionState,tmpTiming,tmpTargets,limVal,limVal0,limVal1,lite_mode, disable_tqdm, save_steps, **kwdict)\n",
    "    \n",
    "    finalIter=np.max(np.nonzero(this_realization.electrodeCurrent))\n",
    "#     numItersForFinal=len(this_realization.electrodeCurrent)-1\n",
    "    \n",
    "# #     if numItersForFinal>200 and finalIter < numItersForFinal: #only for testing\n",
    "#     this_realization.electrodeCurrent=this_realization.electrodeCurrent[:finalIter,:]\n",
    "#     this_realization.junctionVoltage=this_realization.junctionVoltage[:finalIter,:]\n",
    "#     this_realization.junctionConductance=this_realization.junctionConductance[:finalIter,:]\n",
    "#     this_realization.wireVoltage=this_realization.wireVoltage[:finalIter,:]\n",
    "#     this_realization.filamentState=this_realization.filamentState[:finalIter,:]\n",
    "#     this_realization.junctionSwitch=this_realization.junctionSwitch[:finalIter,:]\n",
    "    \n",
    "    \n",
    "#         finalIter = time , use that to find / save network state\n",
    "        \n",
    "#         this_realization.TimeVector=this_realization.TimeVector[:finalIter+1,:]\n",
    "\n",
    "    #     remove zeros from simulations that ended early:\n",
    "    \n",
    "    if findFirst:\n",
    "        from edamame.analysis.GraphTheory import findCurrent\n",
    "        try:\n",
    "            activation = findCurrent(this_realization, 1)\n",
    "            logging.info(f'First current path {activation[0][0]} formed at time = {activation[1][0]} s.')\n",
    "        except:\n",
    "            logging.info('Unfortunately, no current path is formed in simulation time.')\n",
    "\n",
    "    return this_realization,cost,finalIter\n",
    "\n",
    "def simulateNetwork_backprop(simulationOptions, connectivity, junctionState,tmpTiming,tmpTargets, limVoltage,limVal0,limVal1,lite_mode = False, disable_tqdm = False, save_steps = 1, **kwargs):\n",
    "    niterations = simulationOptions.NumOfIterations\n",
    "    electrodes = simulationOptions.electrodes\n",
    "    numOfElectrodes = len(electrodes)\n",
    "    E = connectivity.numOfJunctions\n",
    "    V = connectivity.numOfWires\n",
    "    edgeList = connectivity.edge_list\n",
    "    cost      = []\n",
    "\n",
    "#     onAmp     = simulationOptions.stimulus[3].onAmp\n",
    "    \n",
    "#     maxV      = onAmp *limVoltage\n",
    "    \n",
    "    Network = network__()\n",
    "    sampling = np.arange(0, niterations, save_steps)\n",
    "    if lite_mode:\n",
    "        Network.connectivity = connectivity__(adjMat = connectivity.adj_matrix)\n",
    "        Network.filamentState = np.zeros((int(niterations/save_steps), E))\n",
    "        Network.wireVoltage = np.zeros((int(niterations/save_steps), V))\n",
    "        Network.electrodeCurrent = np.zeros((int(niterations/save_steps), numOfElectrodes))\n",
    "        Network.TimeVector = np.zeros(int(niterations/save_steps))\n",
    "    else:        \n",
    "        Network.connectivity = connectivity\n",
    "        Network.TimeVector = simulationOptions.TimeVector\n",
    "        Network.filamentState = np.zeros((niterations, E))\n",
    "        Network.junctionVoltage = np.zeros((niterations, E))\n",
    "        # Network.junctionResistance = np.zeros((niterations, E))\n",
    "        Network.junctionConductance = np.zeros((niterations, E))\n",
    "        Network.junctionSwitch = np.zeros((niterations, E), dtype = bool)\n",
    "        Network.wireVoltage = np.zeros((niterations, V))\n",
    "        Network.electrodeCurrent = np.zeros((niterations, numOfElectrodes))\n",
    "\n",
    "    Network.sources = []\n",
    "    Network.drains = []\n",
    "    for i in range(numOfElectrodes):\n",
    "        if np.mean(simulationOptions.stimulus[i].signal) != 0:\n",
    "            Network.sources.append(electrodes[i])\n",
    "        else:\n",
    "            Network.drains.append(electrodes[i])\n",
    "\n",
    "    if len(Network.drains) == 0:\n",
    "        Network.drains.append(electrodes[1])\n",
    "        \n",
    "    if 'freeze_wire' in kwargs:\n",
    "        freeze_wire = kwargs['freeze_wire']\n",
    "        freeze_TimeStamp = kwargs['freeze_TimeStamp']\n",
    "    else:\n",
    "        freeze_TimeStamp = niterations + 1\n",
    "    \n",
    "    #Simulation Run:\n",
    "#     new_time=0\n",
    "    stopTrain=False\n",
    "    stopTest=False\n",
    "    for this_time in tqdm(range(niterations), desc='Running Simulation ', disable = disable_tqdm): #each time step\n",
    "#         print(stopTrain)\n",
    "        if not stopTrain and not stopTest:\n",
    "            this_stimulus = np.array([i.signal[this_time] for i in simulationOptions.stimulus])\n",
    "#         else:\n",
    "#             break\n",
    "        if tmpTiming[this_time]=='Train':\n",
    "#             print('--------')\n",
    "#             print('Training')\n",
    "#             print('--------\\n')\n",
    "            trainTime=True\n",
    "        elif tmpTiming[this_time]=='Test':\n",
    "#             print('--------')\n",
    "#             print('Testing')\n",
    "#             print('--------\\n') \n",
    "            trainTime=False\n",
    "\n",
    "        if trainTime and this_time > 0 and not stopTrain: #if we are training, change drain voltages, otherwise just use this_stimulus\n",
    "#             set_trace()\n",
    "            this_stimulus[:num_drain_training]=new_stimulus\n",
    "\n",
    "#             print('in training '+str(this_time))\n",
    "#         elif this_time > trainTime:\n",
    "\n",
    "        sol = simCore(connectivity, junctionState, this_stimulus, electrodes, simulationOptions.dt)\n",
    "\n",
    "        if this_time >= freeze_TimeStamp:\n",
    "            others = np.setdiff1d(range(V), freeze_wire)\n",
    "            wireVoltage[others] = sol[others]\n",
    "        else:\n",
    "            wireVoltage = sol[0:V]\n",
    "\n",
    "        if lite_mode:\n",
    "            if this_time%save_steps == 0:\n",
    "                Network.wireVoltage[this_time//save_steps,:] = wireVoltage\n",
    "                Network.electrodeCurrent[this_time//save_steps,:] = sol[V:]\n",
    "                Network.filamentState[this_time//save_steps,:] = junctionState.filamentState\n",
    "                Network.TimeVector[this_time//save_steps] = simulationOptions.TimeVector[this_time]\n",
    "        else:\n",
    "            Network.wireVoltage[this_time,:] = wireVoltage\n",
    "            Network.electrodeCurrent[this_time,:] = sol[V:]\n",
    "            Network.filamentState[this_time,:] = junctionState.filamentState\n",
    "            Network.junctionVoltage[this_time,:] = junctionState.voltage\n",
    "            Network.junctionConductance[this_time,:] = junctionState.conductance\n",
    "            Network.junctionSwitch[this_time,:] = junctionState.OnOrOff\n",
    "\n",
    "        ## BackProp Implementation\n",
    "        \n",
    "\n",
    "        if trainTime:\n",
    "#             set_trace()\n",
    "            n = num_drain_training #num of drains\n",
    "            y = Network.electrodeCurrent[this_time,:num_drain_training]\n",
    "        else:\n",
    "            n = num_drain_testing\n",
    "            y = Network.electrodeCurrent[this_time,:num_drain_testing]\n",
    "            \n",
    "        beta      = 0.05\n",
    "        grad      = np.zeros((n)) #set gradients to zero for each epoch  \n",
    "\n",
    "        \n",
    "        drainCurrents=y\n",
    "        if tmpTargets[this_time] != -2: #skip rest values\n",
    "            tarIdx=tmpTargets[this_time]\n",
    "            y = y/(maxCurrent[tarIdx]) # normalize  | | | how do we change max current to be not arbitrary? \n",
    "        # current method - run simulation before with just that drain and use current as maxCurrent\n",
    "\n",
    "            # change to threshold \n",
    "            d = 1 #allTargets[tarIdx]\n",
    "            if trainTime:\n",
    "                dsig = this_stimulus[:num_drain_training]\n",
    "            else:\n",
    "                dsig = this_stimulus[:num_drain_testing]\n",
    "\n",
    "            #fixed max voltage\n",
    "            # compare y with threshold - if y is >= thresh, stop the training\n",
    "#             set_trace()\n",
    "\n",
    "            #vectorised implementation\n",
    "\n",
    "            cost.append(calc_cost(y,d))\n",
    "\n",
    "            if trainTime and not stopTrain: #if we are training, update beta\n",
    "                #Gradient without considering other electrodes:\n",
    "                if tarIdx==0:\n",
    "                    if drainCurrents[0]>=limVal0: #if greater or less than the target current, stop the simulation\n",
    "                        this_stimulus[num_drain_testing:]=np.ones(len(this_stimulus[num_drain_testing:]))*0\n",
    "#                         break;\n",
    "                        stopTrain=True\n",
    "                    else:\n",
    "                        stopTrain=False\n",
    "                        #instead of ending session, make everything 0V (inputs + drains)\n",
    "                        #make sure this doesn't last longer than filament decay length\n",
    "                elif tarIdx==1:\n",
    "#                     set_trace()\n",
    "                    if drainCurrents[0]>=limVal1: #if greater or less than the target current, stop simulation\n",
    "                        this_stimulus[num_drain_testing:]=np.ones(len(this_stimulus[num_drain_testing:]))*0\n",
    "#                         break;\n",
    "                        stopTrain=True\n",
    "                    else:\n",
    "                        stopTrain=False\n",
    "                \n",
    "                if not stopTrain:        \n",
    "                    grad=beta*(y-d) #y = current, d = target #e.g. [y1 vs (d1 = 1), y2 vs (d2 = 0), y3vs (d3 = 0)]\n",
    "\n",
    "                    #dsig = old voltage drains, dsig2 = new voltage drains, onAmp = input voltage\n",
    "\n",
    "                    dsig2=np.array(dsig.T+grad)\n",
    "                    dsig2=np.clip(dsig2,-onAmp*0.9,onAmp*0.9) #set max and min voltages to less than inputs\n",
    "                    new_stimulus=dsig2\n",
    "\n",
    "            elif not trainTime:\n",
    "                new_stimulus=this_stimulus[:num_drain_testing]\n",
    "                if tarIdx==0:\n",
    "                    if drainCurrents[tarIdx]>=testThresh: #if greater or less than test thresh, stop the simulation\n",
    "#                         this_stimulus=np.zeros(len(this_stimulus))\n",
    "                        break;\n",
    "                        stopTest=True\n",
    "                    else:\n",
    "                        stopTest=False\n",
    "\n",
    "                elif tarIdx==1:\n",
    "                    if drainCurrents[tarIdx]>=testThresh: #if greater or less than test thresh, stop simulation\n",
    "#                         this_stimulus=np.zeros(len(this_stimulus))\n",
    "                        break;\n",
    "                        stopTest=True\n",
    "                    else:\n",
    "                        stopTest=False\n",
    "                        \n",
    "    print('Target:' + str(tarIdx))\n",
    "#     print('Voltage: '+ str(new_stimulus))\n",
    "    \n",
    "    Network.numOfWires = V\n",
    "    Network.numOfJunctions = E\n",
    "    Network.electrodes = simulationOptions.electrodes\n",
    "    if len(electrodes) <= 2:\n",
    "        Network.conductance = Network.electrodeCurrent[:,1]/simulationOptions.stimulus[0].signal[sampling]\n",
    "    if not lite_mode:\n",
    "        Network.stimulus = [simulationOptions.stimulus[i] for i in range(numOfElectrodes)]\n",
    "        Network.junctionResistance = 1/Network.junctionConductance\n",
    "    \n",
    "#     print(Network.electrodeCurrent[:,1])\n",
    "    return Network,cost\n",
    "\n",
    "\n",
    "\n",
    "def runNBACK(onAmp,onAmpTest,dt,Tlen,timesteps,numDT,restDur,nbacks=[],maxCurrent=[1e-5,1e-5],limVal=0.5,accThresh=0.5,increaseVal=0.5,decreaseVal=0.25,seed=42,accThreshold=False,preState=None):\n",
    "    \"\"\"\n",
    "    n-back task:\n",
    "    input sample 1 with backprop, then sample 2 with backprop, then sample 1 again with reset drain voltages \n",
    "    n back here = 1, showing memory\n",
    "    \n",
    "    train sample x, test sample x + nback (e.g. nback = 2, sample = [s1 train,s2,s3,s1 test] )\n",
    "\n",
    "    increase n-back: \n",
    "    sample 1 with backprop, sample 2, sample 3... test sample 1 - n=2\n",
    "    \n",
    "    Things to test:\n",
    "    - if we increase input frequency (dt), do we see greater long term memory? (higher n-backs)\n",
    "    - if we decrease frequency, do we see greater short term memory? (lower n-backs)\n",
    "\n",
    "    \"\"\"  \n",
    "    \n",
    "    t           = [[None]*(40*(nbacks[0]+1)+1) for i in range(len(nbacks))]\n",
    "    simVoltages = []\n",
    "    saveStim    = []\n",
    "    count=0\n",
    "    for nback in nbacks: #how many samples to \"remember\" in the past before testing\n",
    "        np.random.seed(seed)\n",
    "        \n",
    "        numTestingSamples= 40 #how many testing samples\n",
    "        \n",
    "        #trainingInputs (actual input)\n",
    "        #traininglables (0 or 1)\n",
    "        c1samples=list(np.where(traininglabels==0)[0]) #all class 1 inputs\n",
    "        c2samples=list(np.where(traininglabels==1)[0]) #all class 2 inputs\n",
    "#         set_trace()\n",
    "        #hardest memory order:\n",
    "        orderTraining=[]\n",
    "        for test in range(numTestingSamples):\n",
    "            trainingSample1=np.random.randint(2)\n",
    "            if trainingSample1==0:\n",
    "                trainingSample1=np.random.choice(c1samples,1,replace=False) #randomly choose sample 1\n",
    "                c1samples.pop(np.where(c1samples==trainingSample1[0])[0][0])#remove chosen sample\n",
    "                trainingSampleRest=np.random.choice(c2samples,nback-1,replace=False)#randomly choose all other samples\n",
    "                for j in trainingSampleRest:\n",
    "                    c2samples.pop(np.where(c2samples==j)[0][0]) #remove chosen sample from sample pool\n",
    "                    \n",
    "            elif trainingSample1==1:\n",
    "                trainingSample1=np.random.choice(c2samples,1,replace=False)\n",
    "                c2samples.pop(np.where(c2samples==trainingSample1[0])[0][0])\n",
    "                trainingSampleRest=np.random.choice(c1samples,nback-1,replace=False)\n",
    "                for j in trainingSampleRest:\n",
    "                    c1samples.pop(np.where(c1samples==j)[0][0])  \n",
    "    \n",
    "            orderTraining.append(np.hstack((np.array(trainingSample1),np.array(trainingSampleRest))))\n",
    "        orderTraining=np.hstack(orderTraining)\n",
    "\n",
    "        orderTrainingLabels=traininglabels[orderTraining]\n",
    "#         set_trace()\n",
    "        orderTrainingLabelsNBACK=orderTrainingLabels[::nback] #these are the testing labels - every i+nback training sample is what we're testing\n",
    "        orderTesting=[]\n",
    "        for label in orderTrainingLabelsNBACK: #for each training label in the random order:\n",
    "            orderTesting.append(np.random.choice(np.where(testinglabels==label)[0],replace=False))\n",
    "        orderTestingLabels=testinglabels[orderTesting]    \n",
    "        orderTestingNBACK=np.array(orderTesting)+np.max(c2samples) #number of test per nback\n",
    "#          #choose how many samples between testing samples:\n",
    "        i = nback\n",
    "#         set_trace()\n",
    "        temp=[]\n",
    "        j=0\n",
    "        order=[None]*(len(orderTraining))\n",
    "        order[:len(orderTraining)]=orderTraining\n",
    "        while j<numTestingSamples: #for each testing sample \n",
    "            if i < len(order): #only if we are within the total number of training samples\n",
    "                order.insert(i, orderTesting[j]+np.max(c2samples)) #insert testing sample at ith position\n",
    "            temp.append(i) #keep track number of inserts we made, make sure it == numTestingSamples\n",
    "            i += nback+1\n",
    "            j +=1\n",
    "        \n",
    "        #remove excess training (i.e. with no testing sample)\n",
    "        sampleTimes=numDT*(nback+1)\n",
    "        newTrainingOrder=orderTraining[:sampleTimes-numTestingSamples]\n",
    "        orderTrainingLabels=orderTrainingLabels[:sampleTimes-numTestingSamples]\n",
    "        order=order[:sampleTimes]\n",
    "        \n",
    "        N                   = orig_inputs.shape[1]\n",
    "        numClasses          = 2\n",
    "        signalType          ='DC'\n",
    "        num_source_training = N\n",
    "        tmpSources          = [[] for i in range(len(order))]\n",
    "        tmpTargets          = [None]*len(order)\n",
    "        sim                 = [None]*len(order)\n",
    "        thresholdValues     = [None]*len(order)\n",
    "        cost                = [None]*len(order)\n",
    "        simVoltages         = [None]*len(order)\n",
    "        accuracy    = []\n",
    "        numTrainingSamples  = len(trainingInputs)\n",
    "        numTestingSamples   = len(testingInputs)\n",
    "        \n",
    "        timing=[]\n",
    "        allLabels=[]\n",
    "        limVals0 = limVal\n",
    "        limVals1 = limVal\n",
    "        \n",
    "        i=0\n",
    "        numTests = 0\n",
    "        nwState = preState#None\n",
    "        \n",
    "        for val in tqdm(order): #this method loops through samples in the randomised training order\n",
    "            if i > 0:\n",
    "                nwState=newState #save state from last time\n",
    "                \n",
    "            #are we training or testing?\n",
    "            if val in orderTestingNBACK:\n",
    "                test=True\n",
    "                train=False\n",
    "            elif val in orderTraining:\n",
    "                test=False\n",
    "                train=True\n",
    "                \n",
    "            #define samples\n",
    "            if train: #if we're training\n",
    "                this_sample = trainingInputs[val].copy() #xs\n",
    "                this_label  = traininglabels[val] #ys\n",
    "                this_sample[this_sample>0.005]=this_sample[this_sample>0.005]*onAmp #tune voltage based on onAmp\n",
    "                timing.append('Train')\n",
    "                targetTmp = signal_expand(this_label,numDT) #number of timesteps per target\n",
    "                timing[i] = signal_expand(timing[i],numDT)\n",
    "                timing[i] = np.append(timing[i],np.zeros(restDur)) #if we have rest\n",
    "                \n",
    "            elif test: #if we're testing\n",
    "#                 set_trace()\n",
    "                this_sample = testingInputs[val-np.max(c2samples)].copy() #xs\n",
    "                this_label  = testinglabels[val-np.max(c2samples)] #ys\n",
    "                this_sample[this_sample>0.005]=this_sample[this_sample>0.005]*onAmpTest #CHANGE THIS TO RAMP:\n",
    "                timing.append('Test')\n",
    "                targetTmp = signal_expand(this_label,TlenTest) #number of timesteps per target\n",
    "                timing[i] = signal_expand(timing[i],TlenTest)\n",
    "                timing[i] = np.append(timing[i],np.zeros(restDur)) #if we have rest\n",
    "                \n",
    "            tmpArray=np.empty(restDur)\n",
    "            tmpArray[:]=-2\n",
    "            targetTmp = np.append(targetTmp,tmpArray) #add rest #need to remove targets from rest\n",
    "            tmpTargets[i]=targetTmp \n",
    "            \n",
    "            rampV=np.linspace(0,onAmpTest,TlenTest)\n",
    "            for j in range(len(this_sample)): #for each source electrode\n",
    "                if train:\n",
    "                    tmp = signal_expand(this_sample[j],numDT)\n",
    "                elif test:\n",
    "#                     tmp = signal_expand(this_sample[j],numDT*3)\n",
    "                    tmp = rampV\n",
    "                tmp = np.append(tmp,np.zeros(restDur)) #add rest\n",
    "                tmpSources[i].append(tmp)\n",
    "            allLabels.append(this_label)\n",
    "            \n",
    "            stimulus=[]\n",
    "            if train:\n",
    "                stimulus.append(stimulus__(biasType='Drain',T=dt*len(tmpSources[i][0]),dt=dt))\n",
    "                for m in range(len(tmpSources[i])): #create stimulus for each source electrode\n",
    "                    stimulus.append(stimulus__(biasType='Custom',T=dt*len(tmpSources[i][m]),dt=dt,customSignal=tmpSources[i][m]))\n",
    "           \n",
    "            elif test:\n",
    "                for m in range(num_drain_testing): #create stimulus for each drain electrode\n",
    "\n",
    "                    stimulus.append(stimulus__(biasType='Drain',T=dt*TlenTest,dt=dt))\n",
    "                for m in range(len(tmpSources[i])): #create stimulus for each source electrode\n",
    "                    stimulus.append(stimulus__(biasType='Custom',T=dt*TlenTest,dt=dt,customSignal=tmpSources[i][m]))\n",
    "           \n",
    "            signalLen=len(stimulus[0].signal) \n",
    "\n",
    "            sim[i],newState = getNWState_backprop(stimulus,train,nwState,drain_pool,sources,timing[i],tmpTargets[i].astype('int'),limVal,limVals0,limVals1,run_time=int(signalLen*dt),dt=dt,disable_tqdm=False)\n",
    "\n",
    "            simVoltages[i]=(sim[i].wireVoltage)\n",
    "\n",
    "        \n",
    "            if test: #if we are testing\n",
    "                #ADRIAN ACCURACY METHOD\n",
    "\n",
    "                t[count][i]=(calcOutputs(sim[i],sources,drain_pool))\n",
    "                meanCurr0=(np.mean(t[count][i][0]))\n",
    "                meanCurr1=(np.mean(t[count][i][1]))\n",
    "\n",
    "                if tmpTargets[i][0] == 0:\n",
    "                    if meanCurr0>meanCurr1:\n",
    "                        accuracy.append(1)\n",
    "                    else:\n",
    "                        accuracy.append(0)\n",
    "                else:\n",
    "                    if meanCurr1>meanCurr0:\n",
    "                        accuracy.append(1)\n",
    "                    else:\n",
    "                        accuracy.append(0)\n",
    "                        \n",
    "                if i >0:\n",
    "                    if accuracy[numTests]==0: #if the training didn't work\n",
    "                        if this_label==0: #drain 1\n",
    "                            limVals0=limVals0+increaseVal #update 'max current limit based on reinforcement'\n",
    "                            limVals1=limVals1-decreaseVal\n",
    "                        elif this_label==1: #drain 2\n",
    "                            limVals0=limVals0-decreaseVal\n",
    "                            limVals1=limVals1+increaseVal   \n",
    "                    \n",
    "                mval1=np.max(np.nonzero(t[count][i][0]))\n",
    "                mval2=np.max(np.nonzero(t[count][i][1]))\n",
    "                print('Final Target Drain Current: ' + str([t[count][i][0][mval1],t[count][i][1][mval2]]))\n",
    "                print('Target: ' + str(tmpTargets[i][0]))\n",
    "                print('Accuracy: '+ str(accuracy[numTests]))\n",
    "                numTests+=1\n",
    "            else:\n",
    "                t[count][i]=(calcOutputs(sim[i],sources,[drain_pool[int(tmpTargets[i][0])]]))\n",
    "                mval1=np.max(np.nonzero(t[count][i][0]))\n",
    "                print('Final Target Drain Current: ' + str([t[count][i][0][mval1]]))\n",
    "\n",
    "            print(\"LimVal0:\" + str(limVals0)) #just a checking/debugging print\n",
    "            print(\"LimVal1:\" + str(limVals1)) #just a checking/debugging print\n",
    "\n",
    "            thresholdValues[i]=[limVals0,limVals1]\n",
    "            i+=1 \n",
    "        \n",
    "        count+=1\n",
    "    return t,thresholdValues,sim,stimulus,accuracy,tmpTargets,newTrainingOrder,orderTesting,order,orderTestingLabels,testTimes,trainTimes,numTestingSamples,allLabels,orderTrainingLabels\n",
    "\n",
    "def trainTestSplit(inputs,targets,targetClassVals=[0,1],numTestingPerClass=3,orig_inputs=[]):\n",
    "    trainingInputs  = np.array([inputs[targets==targetClassVals[0]][:-numTestingPerClass],inputs[targets==targetClassVals[1]][:-numTestingPerClass]]).reshape(-1,orig_inputs.shape[1])\n",
    "    testingInputs   = np.array([inputs[targets==targetClassVals[0]][-numTestingPerClass:],inputs[targets==targetClassVals[1]][-numTestingPerClass:]]).reshape(-1,orig_inputs.shape[1])\n",
    "    #Define Training and Testing labels\n",
    "    traininglabels=np.zeros(len(trainingInputs))\n",
    "    traininglabels[:int(len(trainingInputs)/2)]=0\n",
    "    traininglabels[int(len(trainingInputs)/2):int(len(trainingInputs)/2)*2]=1\n",
    "    # traininglabels[int(len(trainingInputs)/3)*2:]=2\n",
    "    traininglabels=traininglabels.astype(int)\n",
    "\n",
    "    testinglabels=np.zeros(len(testingInputs))\n",
    "    testinglabels[:int(len(testingInputs)/2)]=0\n",
    "    testinglabels[int(len(testingInputs)/2):int(len(testingInputs)/2)*2]=1\n",
    "    # testinglabels[int(len(testingInputs)/3)*2:]=2\n",
    "    testinglabels=testinglabels.astype(int)\n",
    "    \n",
    "    return trainingInputs,testingInputs,traininglabels,testinglabels\n",
    "\n",
    "\n",
    "#TASK SETUP\n",
    "\n",
    "#Automatically chosen electrodes vs manual picked\n",
    "ManualSources=True\n",
    "#Number of training samples\n",
    "nbacks         = [2]#range(1,5)\n",
    "numSamples=(nbacks[0]*100)+1\n",
    "\n",
    "#Pattern (2x2 or 3x3)\n",
    "patternSize= 3 #2 or 3\n",
    "#Number of source electrodes (4 for 2x2, 9 for 3x3)\n",
    "numSources=9 # 4 or 9\n",
    "\n",
    "num_drain_training=1\n",
    "num_drain_testing=2\n",
    "allTargets=[[1,0],[0,1]]\n",
    "targetClassVals=[0,1]\n",
    "numTestingPerClass=20\n",
    "\n",
    "#Amplitude:\n",
    "onAmp = 0.2 #Voltage for Training\n",
    "onAmpTest = 0.5 #Voltage for Testing\n",
    "\n",
    "#Noise\n",
    "noisey=False\n",
    "\n",
    "#create networks\n",
    "connectivity,sources,drain_pool,nwSize,nwJunctions=buildNetworks(fileName,ManualSources,num_drain_training,numSources)\n",
    "\n",
    "#create samples\n",
    "inputs,targets,orig_inputs=createSimpleInputs(patternSize,numSamples,noisey) #pattern size (e.g 3x3 = 3), number of samples, noise\n",
    "\n",
    "#split samples to train test\n",
    "trainingInputs,testingInputs,traininglabels,testinglabels = trainTestSplit(inputs,targets,targetClassVals,numTestingPerClass,orig_inputs=orig_inputs)\n",
    "#Run n-back Task\n",
    "\n",
    "#Time Parameters\n",
    "dt=0.01\n",
    "TlenTrain = 200\n",
    "TlenTest = 100\n",
    "timesteps = TlenTrain\n",
    "numDT       = TlenTrain #int(timesteps/len(inputs)) #number of timesteps per sample\n",
    "restDur=0\n",
    "\n",
    "accThreshold=False #do we want to force a minimum (arbitrary) difference between target and non-target drain for accuracy to be counted?\n",
    "\n",
    "#Other Variables\n",
    "maxCurrent = [1e-5,1e-5] #target\n",
    "threshCurrent = [5e-6,5e-6]\n",
    "testThresh = 2.5e-6 #lower than training theshold\n",
    "numRuns        = 1\n",
    "sim            = [None]*numRuns\n",
    "stimuli        = [None]*numRuns\n",
    "accuracy       = [None]*numRuns\n",
    "\n",
    "trainingOrder = [None]*numRuns\n",
    "testingOrder = [None]*numRuns\n",
    "testingLabels  = [None]*numRuns\n",
    "trainingLabels  = [None]*numRuns\n",
    "order          = [None]*numRuns\n",
    "testTimes      = [None]*numRuns\n",
    "trainTimes      = [None]*numRuns\n",
    "targets        = [None]*numRuns\n",
    "numTestingSamples = [None]*numRuns\n",
    "allLabels      = [None]*numRuns\n",
    "seeds          =  np.array([4690])#np.random.choice(10000,size=numRuns,replace=False)\n",
    "\n",
    "limValues = [threshCurrent[0]]#[1e-6]#list(np.arange(0.05,1.05,0.05))  #if we want to loop through onAmp limit voltage percentage for drains\n",
    "increaseVal=threshCurrent[0]/6\n",
    "decreaseVal=threshCurrent[0]/12\n",
    "accThresh=0.7\n",
    "\n",
    "loadOnly=False\n",
    "\n",
    "\n",
    "\n",
    "\n",
    "if loadOnly == False:\n",
    "    #PREACTIVATE NETWORK:\n",
    "    print('Preactivating Network: \\n')\n",
    "    preState=None#PreActivate(sources,drain_pool)\n",
    "    print('Network Preactivated \\n')\n",
    "    #Run Sim\n",
    "    print('Parameters:\\n')\n",
    "    print('Train V: ' + str(onAmp))\n",
    "    print('Test V: ' + str(onAmpTest))\n",
    "    print('Pattern: ' + str(patternSize)+'x'+str(patternSize))\n",
    "    print('n-back: '+str(nbacks[0]))\n",
    "    meanAcc=[]\n",
    "    stdAcc=[]\n",
    "    outputs=[]\n",
    "    for val in tqdm(limValues):\n",
    "        print(val)\n",
    "        for i in tqdm(range(numRuns)):\n",
    "            outputs.append(runNBACK(onAmp,onAmpTest,dt,TlenTrain,timesteps,numDT,restDur,nbacks,maxCurrent,val,accThresh,increaseVal,decreaseVal,seed=seeds[i],accThreshold=accThreshold,preState=preState))\n",
    "    if numRuns==1:\n",
    "        outputs=outputs[0]\n",
    "        t=outputs[0][0][:-1]\n",
    "        thresholds=outputs[1]\n",
    "        sim=outputs[2]\n",
    "        accuracy=outputs[4]\n",
    "        alltargets=outputs[5]\n",
    "        trainingOrder=outputs[6]\n",
    "        trainingLabels=outputs[-1]\n",
    "        testingLabels=outputs[9]\n",
    "        allLabels=outputs[-2]\n",
    "        numTestingSamples=outputs[-3]\n",
    "    else:\n",
    "        t = [None]*numRuns;thresholds=[None]*numRuns;sim=[None]*numRuns;accuracy=[None]*numRuns;alltargets=[None]*numRuns\n",
    "        trainingOrder=[None]*numRuns;trainingLabels=[None]*numRuns;testingLabels=[None]*numRuns;allLabels=[None]*numRuns\n",
    "        for run in range(numRuns):\n",
    "            t[run]=outputs[run][0][0][:-1]\n",
    "            thresholds[run]=outputs[run][1]\n",
    "            sim[run]=outputs[run][2]\n",
    "            accuracy[run]=outputs[run][4]\n",
    "            alltargets[run]=outputs[run][5]\n",
    "            trainingOrder[run]=outputs[run][6]\n",
    "            trainingLabels[run]=outputs[run][-1]\n",
    "            testingLabels[run]=outputs[run][9]\n",
    "            allLabels[run]=outputs[run][-2]\n",
    "            numTestingSamples=outputs[run][-3]\n",
    "\n",
    "#     params={'Voltage':onAmp,'Test Voltage':onAmpTest,'Threshold Value':limValues,'Accuracy Threshold':accThresh,'ThreshIncrease':increaseVal,'ThreshDecrease':decreaseVal,'Random Seed':seeds,'Timesteps':Tlen,'Target Currents':maxCurrent,'dt':dt,'Num Samples':[119],'Num Trials':numRuns,'Noise':noisey}\n",
    "    print('saving sim data')\n",
    "    if patternSize==2:\n",
    "        saveName='data_'+str(nwSizes)+'nw_'+str(nwJunctions)+'nj_2x2_wThresh_Vtrn'+str(onAmp)+'_Vtst'+str(onAmpTest)+'_beta005_T200_oneDrainTrain_nback'+str(nbacks[0])+'_filament0.5'\n",
    "        savemat(dataLoc+saveName+'.mat', {'Data':{'current':t,'threshold':thresholds, 'sim':sim,'accuracy':accuracy,'targets':alltargets,'training order':trainingOrder,'training labels':trainingLabels,'testing labels':testingLabels,'all labels':allLabels,'num test samples':numTestingSamples,'Parameters':params}},do_compression=True)\n",
    "    else:\n",
    "        saveName='data_'+str(nwSize)+'nw_'+str(nwJunctions)+'nj_3x3_wThresh_Vtrn'+str(onAmp)+'_Vtst'+str(onAmpTest)+'_beta005_T200_oneDrainTrain_nback'+str(nbacks[0])+'_filament0p5'\n",
    "#         savemat(dataLoc+saveName+'.mat', {'Data':{'sim':sim,'accuracy':accuracy,'targets':alltargets}},do_compression=True,format='-v7.3')        \n",
    "# #     savemat(dataLoc+'nback'+str(nbacks[0])+'_data_700nw_2545nj_reinforcement_3x3_wLimThreshold_wAccThreshold.mat', {'Data':{'current':t,'threshold':thresholds, 'sim':sim,'accuracy':accuracy,'targets':alltargets,'training order':trainingOrder,'training labels':trainingLabels,'testing labels':testingLabels,'all labels':allLabels,'num test samples':numTestingSamples,'Parameters':params}})        \n",
    "#     print('saved')\n",
    "else:\n",
    "    print('Loading')\n",
    "    out=loadmat(dataLoc+'nback'+str(nbacks[0])+'_data_350nw_1350nj_reinforcement_2x2_wLimThreshold_wAccThreshold.mat')\n",
    "    out=out['Data'][0][0]\n",
    "    t=out[0]\n",
    "    thresholds=out[1]\n",
    "    sim=out[2][0]\n",
    "    accuracy=out[3][0]\n",
    "    alltargets=out[4]\n",
    "    trainingOrder=out[5][0]\n",
    "    trainingLabels=out[6][0]\n",
    "    testingLabels=out[7][0]\n",
    "    allLabels=out[8][0]\n",
    "    numTestingSamples=out[9][0][0]\n"
   ]
  },
  {
   "cell_type": "code",
   "execution_count": 45,
   "metadata": {},
   "outputs": [
    {
     "data": {
      "text/plain": [
       "(-0.1, 1.1)"
      ]
     },
     "execution_count": 45,
     "metadata": {},
     "output_type": "execute_result"
    },
    {
     "data": {
      "image/png": "[encoded data removed]",
      "text/plain": [
       "<Figure size 432x288 with 1 Axes>"
      ]
     },
     "metadata": {
      "needs_background": "light"
     },
     "output_type": "display_data"
    }
   ],
   "source": [
    "plt.plot(accuracy,'-o')\n",
    "plt.ylim([-0.1,1.1])\n"
   ]
  },
  {
   "cell_type": "code",
   "execution_count": 46,
   "metadata": {},
   "outputs": [
    {
     "data": {
      "text/plain": [
       "[3]"
      ]
     },
     "execution_count": 46,
     "metadata": {},
     "output_type": "execute_result"
    }
   ],
   "source": [
    "nbacks"
   ]
  },
  {
   "cell_type": "code",
   "execution_count": 32,
   "metadata": {},
   "outputs": [],
   "source": [
    "#REACTION TIME:\n",
    "# jV=[]\n",
    "# jF=[]\n",
    "# jC=[]\n",
    "# activeSources=[]\n",
    "elecItrain=[];elecItest=[];inputSignal=[]\n",
    "drain1=[];drain2=[]\n",
    "t=0\n",
    "nback=nbacks[0]\n",
    "for i in range(len(sim)):\n",
    "#     jV.append(sim[i].junctionVoltage)   \n",
    "#     jF.append(sim[i].filamentState) #Junction Filament Negative\n",
    "#     jC.append(sim[i].junctionConductance)\n",
    "#     activeSources.append(sim[i].sources)\n",
    "    if sim[i].electrodeCurrent.shape[1] == 10:\n",
    "        elecItrain.append(sim[i].electrodeCurrent[:,0])\n",
    "    else: #only test:\n",
    "#         if len(elecItest[i]) < 600:\n",
    "        elecItest.append(sim[i].electrodeCurrent[:,:2])\n",
    "        drain1.append(elecItest[t][:,0])\n",
    "        drain2.append(elecItest[t][:,1])\n",
    "        t+=1\n",
    "        \n",
    "rampV=np.linspace(0,onAmpTest,TlenTest)"
   ]
  },
  {
   "cell_type": "code",
   "execution_count": 33,
   "metadata": {},
   "outputs": [
    {
     "data": {
      "text/plain": [
       "array([[0.00000000e+00, 0.00000000e+00],\n",
       "       [4.32859038e-08, 5.01530221e-08],\n",
       "       [8.65630795e-08, 1.00293297e-07],\n",
       "       ...,\n",
       "       [0.00000000e+00, 0.00000000e+00],\n",
       "       [0.00000000e+00, 0.00000000e+00],\n",
       "       [0.00000000e+00, 0.00000000e+00]])"
      ]
     },
     "execution_count": 33,
     "metadata": {},
     "output_type": "execute_result"
    }
   ],
   "source": [
    "np.pad(elecItest[2],((0,600-len(elecItest[2])),(0,0)))"
   ]
  },
  {
   "cell_type": "code",
   "execution_count": 34,
   "metadata": {},
   "outputs": [],
   "source": [
    "drain1=np.hstack(np.array(drain1))\n",
    "drain2=np.hstack(np.array(drain2))"
   ]
  },
  {
   "cell_type": "code",
   "execution_count": 35,
   "metadata": {},
   "outputs": [],
   "source": [
    "inputSignal=np.hstack(np.array([rampV]*39))"
   ]
  },
  {
   "cell_type": "code",
   "execution_count": 36,
   "metadata": {
    "scrolled": false
   },
   "outputs": [
    {
     "data": {
      "image/png": "[encoded data removed]",
      "text/plain": [
       "<Figure size 1080x720 with 1 Axes>"
      ]
     },
     "metadata": {
      "needs_background": "light"
     },
     "output_type": "display_data"
    }
   ],
   "source": [
    "plt.figure(figsize=(15,10))\n",
    "plt.plot(drain1)\n",
    "plt.plot(drain2)\n",
    "ax=plt.gca()\n"
   ]
  },
  {
   "cell_type": "code",
   "execution_count": 37,
   "metadata": {},
   "outputs": [],
   "source": [
    "rt1=[];rt2=[]\n",
    "for test in elecItest:\n",
    "    threshReachedBool1=np.array(np.where(test[:,0]>=0.75e-6))\n",
    "    threshReachedBool2=np.array(np.where(test[:,1]>=0.75e-6))\n",
    "    if threshReachedBool1.size > 0 :\n",
    "        rt1.append(np.min(threshReachedBool1))\n",
    "    else:\n",
    "        rt1.append(np.nan)\n",
    "        \n",
    "    if threshReachedBool2.size > 0 :\n",
    "        rt2.append(np.min(threshReachedBool2))\n",
    "    else:\n",
    "        rt2.append(np.nan)  \n",
    "    \n",
    "rt1=np.array(rt1)\n",
    "rt2=np.array(rt2)\n",
    "rt1=rt1[~np.isnan(rt1)]\n",
    "rt2=rt2[~np.isnan(rt2)]"
   ]
  },
  {
   "cell_type": "code",
   "execution_count": 38,
   "metadata": {},
   "outputs": [
    {
     "data": {
      "text/plain": [
       "array([18.,  9.,  8.,  8.,  7.,  7.,  7.,  7.,  7.,  7.,  7.,  7.,  7.,\n",
       "        7.,  7.,  7.,  7.,  7.,  7.,  7.,  6.,  6.,  6.,  6.,  6.,  6.,\n",
       "        6.,  6.,  6.,  6.,  6.,  6.,  6.,  6.,  6.,  6.,  6.])"
      ]
     },
     "execution_count": 38,
     "metadata": {},
     "output_type": "execute_result"
    }
   ],
   "source": [
    "rt1"
   ]
  },
  {
   "cell_type": "code",
   "execution_count": 39,
   "metadata": {},
   "outputs": [
    {
     "data": {
      "text/plain": [
       "array([15., 12.,  9.,  8.,  8.,  8.,  7.,  7.,  7.,  7.,  7.,  7.,  7.,\n",
       "        7.,  7.,  7.,  7.,  7.,  7.,  6.,  6.,  6.,  6.,  6.,  6.,  6.,\n",
       "        6.,  6.,  6.,  6.,  6.,  6.,  6.,  6.,  6.,  6.,  5.])"
      ]
     },
     "execution_count": 39,
     "metadata": {},
     "output_type": "execute_result"
    }
   ],
   "source": [
    "rt2"
   ]
  },
  {
   "cell_type": "code",
   "execution_count": 40,
   "metadata": {},
   "outputs": [
    {
     "data": {
      "text/plain": [
       "{'whiskers': [<matplotlib.lines.Line2D at 0x7ff4dee7f6a0>,\n",
       "  <matplotlib.lines.Line2D at 0x7ff4e113ee80>],\n",
       " 'caps': [<matplotlib.lines.Line2D at 0x7ff4e247b490>,\n",
       "  <matplotlib.lines.Line2D at 0x7ff4e0473bb0>],\n",
       " 'boxes': [<matplotlib.patches.PathPatch at 0x7ff4de009250>],\n",
       " 'medians': [<matplotlib.lines.Line2D at 0x7ff4e0473cd0>],\n",
       " 'fliers': [<matplotlib.lines.Line2D at 0x7ff4e05f3940>],\n",
       " 'means': []}"
      ]
     },
     "execution_count": 40,
     "metadata": {},
     "output_type": "execute_result"
    },
    {
     "data": {
      "image/png": "[encoded data removed]",
      "text/plain": [
       "<Figure size 432x288 with 1 Axes>"
      ]
     },
     "metadata": {
      "needs_background": "light"
     },
     "output_type": "display_data"
    }
   ],
   "source": [
    "def box_plot(data, edge_color, fill_color):\n",
    "    bp = ax.boxplot(data, patch_artist=True)\n",
    "    \n",
    "    for element in ['boxes', 'whiskers', 'fliers', 'means', 'medians', 'caps']:\n",
    "        plt.setp(bp[element], color=edge_color)\n",
    "\n",
    "    for patch in bp['boxes']:\n",
    "        patch.set(facecolor=fill_color,alpha=0.7)       \n",
    "        \n",
    "    return bp\n",
    "fig,ax=plt.subplots()\n",
    "ax.set_ylim([0,600])\n",
    "box_plot(rt1,'b','b')\n",
    "box_plot(rt2,'r','r')\n",
    "\n",
    "# plt.boxplot([rt2],patch_artist=True,boxprops=dict(facecolor='w', color='r'))\n"
   ]
  },
  {
   "cell_type": "code",
   "execution_count": 41,
   "metadata": {},
   "outputs": [
    {
     "data": {
      "text/plain": [
       "2"
      ]
     },
     "execution_count": 41,
     "metadata": {},
     "output_type": "execute_result"
    }
   ],
   "source": [
    "nback"
   ]
  },
  {
   "cell_type": "code",
   "execution_count": 42,
   "metadata": {},
   "outputs": [],
   "source": [
    "savemat(dataLoc+'nback'+str(nbacks[0])+'_accuracy_b0p5.mat',{'Accuracy':accuracy,'ReactionTime':[rt1,rt2]})"
   ]
  },
  {
   "cell_type": "code",
   "execution_count": 128,
   "metadata": {},
   "outputs": [],
   "source": [
    "nbacks=[2,3,4,5,6,7,8]#,9]\n",
    "rts=[]\n",
    "accuracies=[]\n",
    "medians=[]\n",
    "for nback in nbacks:\n",
    "    accuracies.append(loadmat(dataLoc+'nback'+str(nback)+'_accuracy_b5.mat')['Accuracy'][0])\n",
    "#     if nback == 5: \n",
    "#         rt1=(loadmat(dataLoc+'nback'+str(nback)+'_accuracy_b5.mat')['ReactionTime'][0])\n",
    "#         rt2=(loadmat(dataLoc+'nback'+str(nback)+'_accuracy_b5.mat')['ReactionTime'][1])\n",
    "#         rts.append([rt1,rt2])\n",
    "#         med1=np.median(rt1)\n",
    "#         med2=np.median(rt2)\n",
    "#         medians.append([med1,med2])\n",
    "#     else:\n",
    "    rt1=loadmat(dataLoc+'nback'+str(nback)+'_accuracy_b5.mat')['ReactionTime'][0][0][0]\n",
    "    med1=np.median(rt1)\n",
    "    rt2=loadmat(dataLoc+'nback'+str(nback)+'_accuracy_b5.mat')['ReactionTime'][0][1][0]\n",
    "    med2=np.median(rt2)\n",
    "    rts.append([rt1,rt2])\n",
    "    medians.append([med1,med2])"
   ]
  },
  {
   "cell_type": "code",
   "execution_count": 129,
   "metadata": {},
   "outputs": [
    {
     "data": {
      "text/plain": [
       "[[array([575., 560., 557., 522., 578., 587., 514., 531., 503., 490., 551.,\n",
       "         529., 587., 525., 527., 419., 452., 412., 394., 381., 377., 375.,\n",
       "         370., 389., 363., 365., 383., 384., 383., 351., 371., 376.]),\n",
       "  array([471., 541., 572., 544., 503., 564., 591., 538., 580., 569., 566.,\n",
       "         545., 566., 575., 521., 597., 542., 492., 481., 508., 499., 480.,\n",
       "         485., 487., 496., 495., 492., 411., 369., 413., 367., 284., 337.,\n",
       "         366., 367., 346., 350.])],\n",
       " [array([484., 484., 484., 442., 493., 438., 493., 529., 549., 468., 503.,\n",
       "         500., 351., 382., 352., 388., 405., 468., 332., 188., 142., 144.,\n",
       "         146., 182., 173., 210., 260., 247., 303.]),\n",
       "  array([479., 479., 479., 490., 493., 455., 447., 456., 452., 471., 509.,\n",
       "         388., 301., 409., 301., 450., 365., 311., 302., 307., 438., 293.,\n",
       "         315., 329., 220., 182., 128.])],\n",
       " [array([256., 146., 168., 180., 242., 332., 305., 381., 260., 259., 281.,\n",
       "         369., 287., 293., 310., 394., 278., 426., 282., 161., 138., 143.,\n",
       "         182., 160., 180., 245., 285., 154., 147., 158., 148.]),\n",
       "  array([497., 526., 543., 595., 580., 425., 471., 326., 401., 363., 297.,\n",
       "         230., 314., 294., 305., 219., 247., 230., 237., 242., 584., 184.,\n",
       "         198., 131., 131., 140., 161., 182., 165., 189.])],\n",
       " [array([515., 276., 276., 142., 142., 137., 147., 136., 144., 145., 182.,\n",
       "         142., 188., 136., 171., 136., 142., 214., 131., 237., 126., 226.,\n",
       "         127., 135., 267., 219.]),\n",
       "  array([302., 222., 206., 127., 503., 123., 518., 127., 519., 233., 125.,\n",
       "         129.])],\n",
       " [array([497., 484., 481., 466., 441., 384., 365., 500., 211., 224., 327.,\n",
       "         137., 182., 180., 184., 137., 320., 134., 182., 140., 178., 164.,\n",
       "         179., 138., 142., 247., 219., 176., 153.]),\n",
       "  array([497., 463., 310., 290., 252., 281., 312., 405., 446., 415., 236.,\n",
       "         317., 221., 231., 246., 277., 239., 201., 210., 231., 204., 125.,\n",
       "         134., 164., 195.])],\n",
       " [array([481., 550., 481., 550., 376., 451., 418., 451., 418., 466., 338.,\n",
       "         260., 484., 235., 463., 256., 166., 174., 141., 145., 304., 129.,\n",
       "         272., 201.]),\n",
       "  array([404., 447., 220., 184., 133., 133., 136., 140., 170., 156., 250.,\n",
       "         132., 141., 211., 221., 217., 124., 123., 129.])],\n",
       " [array([441., 251., 198., 139., 448., 133., 140., 241., 526., 539., 123.,\n",
       "         223., 431., 134., 252., 189., 136., 533., 127., 237., 277., 130.,\n",
       "         247., 314., 130., 292., 125., 133., 224., 363., 129., 129., 131.]),\n",
       "  array([497., 443., 497., 474., 350., 261., 130., 133., 124., 118., 127.,\n",
       "         127., 249., 120., 568., 124., 138., 130., 121., 126., 590., 469.,\n",
       "         131., 118., 499., 564., 480.])]]"
      ]
     },
     "execution_count": 129,
     "metadata": {},
     "output_type": "execute_result"
    }
   ],
   "source": [
    "rts"
   ]
  },
  {
   "cell_type": "code",
   "execution_count": 130,
   "metadata": {},
   "outputs": [
    {
     "data": {
      "text/plain": [
       "[<matplotlib.lines.Line2D at 0x7f702576f700>,\n",
       " <matplotlib.lines.Line2D at 0x7f702576f880>]"
      ]
     },
     "execution_count": 130,
     "metadata": {},
     "output_type": "execute_result"
    },
    {
     "data": {
      "image/png": "[encoded data removed]",
      "text/plain": [
       "<Figure size 432x288 with 1 Axes>"
      ]
     },
     "metadata": {
      "needs_background": "light"
     },
     "output_type": "display_data"
    }
   ],
   "source": [
    "plt.plot(medians,'-x')"
   ]
  },
  {
   "cell_type": "code",
   "execution_count": 133,
   "metadata": {},
   "outputs": [
    {
     "data": {
      "image/png": "[encoded data removed]",
      "text/plain": [
       "<Figure size 432x288 with 1 Axes>"
      ]
     },
     "metadata": {
      "needs_background": "light"
     },
     "output_type": "display_data"
    }
   ],
   "source": [
    "plt.rcParams['pdf.fonttype'] = 42\n",
    "\n",
    "fig,ax=plt.subplots()\n",
    "box_plot(np.array(rts).T[0,:],'b','b')\n",
    "box_plot(np.array(rts).T[1,:],'r','r')\n",
    "plt.xlabel('n-back')\n",
    "ax=plt.gca()\n",
    "ax.set_ylim([0,650])\n",
    "plt.ylabel('Reaction Time')\n",
    "plt.title('NWN Reaction Time | b = 5')\n",
    "plt.savefig(saveFig+'698nw_2582nj_nback_ReactionTime_b5.pdf',format='pdf',dpi=300)"
   ]
  },
  {
   "cell_type": "code",
   "execution_count": 134,
   "metadata": {},
   "outputs": [
    {
     "data": {
      "text/plain": [
       "<matplotlib.legend.Legend at 0x7f702559dac0>"
      ]
     },
     "execution_count": 134,
     "metadata": {},
     "output_type": "execute_result"
    },
    {
     "data": {
      "image/png": "[encoded data removed]",
      "text/plain": [
       "<Figure size 432x288 with 1 Axes>"
      ]
     },
     "metadata": {
      "needs_background": "light"
     },
     "output_type": "display_data"
    }
   ],
   "source": [
    "fig=plt.figure()\n",
    "i=0\n",
    "meanAcc=[]\n",
    "for a in accuracies:\n",
    "    meanAcc.append(np.mean(a[:40]))\n",
    "    plt.plot(a[:40],'-o',label=str(nbacks[i]))\n",
    "    i+=1\n",
    "plt.legend()"
   ]
  },
  {
   "cell_type": "code",
   "execution_count": 152,
   "metadata": {
    "scrolled": true
   },
   "outputs": [
    {
     "data": {
      "image/png": "[encoded data removed]",
      "text/plain": [
       "<Figure size 432x288 with 1 Axes>"
      ]
     },
     "metadata": {
      "needs_background": "light"
     },
     "output_type": "display_data"
    }
   ],
   "source": [
    "sys.path.append('/import/silo2/aloe8475/Documents/CODE/aux_functions') #point to edamame locally\n",
    "\n",
    "from create_colormap import get_continuous_cmap,hex_to_rgb,rgb_to_dec\n",
    "\n",
    "\n",
    "fig,ax=plt.subplots(1,1)\n",
    "plt.rcParams['pdf.fonttype'] = 42\n",
    "colorlist=[\"264653\",\"287271\",\"2a9d8f\",\"8ab17d\",\"e9c46a\",\"efb366\",\"f4a261\",\"ee8959\",\"e76f51\"]\n",
    "colorlist.reverse()\n",
    "rgbs=[]\n",
    "for i in colorlist:\n",
    "    rgbs.append(np.array(hex_to_rgb(i))/255)\n",
    "# cmap=get_continuous_cmap(colorlist)\n",
    "    \n",
    "ax.set_title('NWN Working Memory Capacity | b = 5')\n",
    "ax.bar(range(len(meanAcc)),meanAcc,width=0.9,color=rgbs)\n",
    "ax.set_xticklabels([1,2,3,4,5,6,7,8,9])\n",
    "ax.set_xlabel('n-back')\n",
    "ax.set_ylabel('Accuracy')\n",
    "ax.set_ylim([0,1])\n",
    "plt.savefig(saveFig+'698nw_2582nj_nback_Accuracy_b5.pdf',format='pdf',dpi=300)"
   ]
  },
  {
   "cell_type": "code",
   "execution_count": 150,
   "metadata": {},
   "outputs": [
    {
     "data": {
      "text/plain": [
       "array([0.90588235, 0.43529412, 0.31764706])"
      ]
     },
     "execution_count": 150,
     "metadata": {},
     "output_type": "execute_result"
    }
   ],
   "source": []
  },
  {
   "cell_type": "code",
   "execution_count": 143,
   "metadata": {},
   "outputs": [
    {
     "data": {
      "text/plain": [
       "(231, 111, 81)"
      ]
     },
     "execution_count": 143,
     "metadata": {},
     "output_type": "execute_result"
    }
   ],
   "source": []
  },
  {
   "cell_type": "code",
   "execution_count": null,
   "metadata": {},
   "outputs": [],
   "source": []
  }
 ],
 "metadata": {
  "kernelspec": {
   "display_name": "Python [conda env:phd]",
   "language": "python",
   "name": "conda-env-phd-py"
  },
  "language_info": {
   "codemirror_mode": {
    "name": "ipython",
    "version": 3
   },
   "file_extension": ".py",
   "mimetype": "text/x-python",
   "name": "python",
   "nbconvert_exporter": "python",
   "pygments_lexer": "ipython3",
   "version": "3.8.12"
  }
 },
 "nbformat": 4,
 "nbformat_minor": 2
}
