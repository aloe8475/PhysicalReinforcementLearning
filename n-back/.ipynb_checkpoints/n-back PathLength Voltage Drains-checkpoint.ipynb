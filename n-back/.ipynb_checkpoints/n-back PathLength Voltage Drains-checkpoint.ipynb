{
 "cells": [
  {
   "cell_type": "code",
   "execution_count": 69,
   "metadata": {
    "scrolled": true
   },
   "outputs": [
    {
     "name": "stdout",
     "output_type": "stream",
     "text": [
      "Running\n"
     ]
    },
    {
     "data": {
      "application/vnd.jupyter.widget-view+json": {
       "model_id": "36a4d4d03e624f208fdec5a11b9d4bc0",
       "version_major": 2,
       "version_minor": 0
      },
      "text/plain": [
       "  0%|          | 0/1 [00:00<?, ?it/s]"
      ]
     },
     "metadata": {},
     "output_type": "display_data"
    },
    {
     "name": "stdout",
     "output_type": "stream",
     "text": [
      "5e-06\n"
     ]
    },
    {
     "data": {
      "application/vnd.jupyter.widget-view+json": {
       "model_id": "3db550219bea45e8a6ccff4214aa494e",
       "version_major": 2,
       "version_minor": 0
      },
      "text/plain": [
       "  0%|          | 0/1 [00:00<?, ?it/s]"
      ]
     },
     "metadata": {},
     "output_type": "display_data"
    },
    {
     "data": {
      "application/vnd.jupyter.widget-view+json": {
       "model_id": "b698437cb0d14d3aa68a190eafadf69d",
       "version_major": 2,
       "version_minor": 0
      },
      "text/plain": [
       "Running Simulation :   0%|          | 0/200 [00:00<?, ?it/s]"
      ]
     },
     "metadata": {},
     "output_type": "display_data"
    },
    {
     "name": "stdout",
     "output_type": "stream",
     "text": [
      "Target:1\n",
      "Currents: [-1.028156355854221e-06, 1.770976697802195e-05]\n",
      "LimVal1:5e-06\n",
      "LimVal0:5e-06\n"
     ]
    },
    {
     "data": {
      "application/vnd.jupyter.widget-view+json": {
       "model_id": "a09ef937d40e4bbe8cc8022bbf97071b",
       "version_major": 2,
       "version_minor": 0
      },
      "text/plain": [
       "Running Simulation :   0%|          | 0/200 [00:00<?, ?it/s]"
      ]
     },
     "metadata": {},
     "output_type": "display_data"
    },
    {
     "name": "stdout",
     "output_type": "stream",
     "text": [
      "Target:1\n",
      "Currents: [-4.324288140358447e-06, 6.284119456377635e-06]\n",
      "LimVal1:5e-06\n",
      "LimVal0:5e-06\n"
     ]
    },
    {
     "data": {
      "application/vnd.jupyter.widget-view+json": {
       "model_id": "ba574379a7ce4888a06ad58acbd302c4",
       "version_major": 2,
       "version_minor": 0
      },
      "text/plain": [
       "Running Simulation :   0%|          | 0/200 [00:00<?, ?it/s]"
      ]
     },
     "metadata": {},
     "output_type": "display_data"
    },
    {
     "name": "stdout",
     "output_type": "stream",
     "text": [
      "Target:1\n",
      "Target: 1.0\n",
      "Accuracy: 1.0\n",
      "Currents: [2.9454241466095193e-08, 7.3294944169999274e-06]\n",
      "LimVal1:5e-06\n",
      "LimVal0:5e-06\n"
     ]
    },
    {
     "data": {
      "application/vnd.jupyter.widget-view+json": {
       "model_id": "67971979b895474a824185b0bf42dc00",
       "version_major": 2,
       "version_minor": 0
      },
      "text/plain": [
       "Running Simulation :   0%|          | 0/200 [00:00<?, ?it/s]"
      ]
     },
     "metadata": {},
     "output_type": "display_data"
    },
    {
     "name": "stdout",
     "output_type": "stream",
     "text": [
      "Target:1\n",
      "Currents: [-5.9039484255231295e-08, 5.188715724524212e-06]\n",
      "LimVal1:5e-06\n",
      "LimVal0:5e-06\n"
     ]
    },
    {
     "data": {
      "application/vnd.jupyter.widget-view+json": {
       "model_id": "94df99907c9343969f712dd922411ce4",
       "version_major": 2,
       "version_minor": 0
      },
      "text/plain": [
       "Running Simulation :   0%|          | 0/200 [00:00<?, ?it/s]"
      ]
     },
     "metadata": {},
     "output_type": "display_data"
    },
    {
     "name": "stdout",
     "output_type": "stream",
     "text": [
      "Target:0\n",
      "Currents: [7.220331140748083e-06, -3.1067338098219366e-06]\n",
      "LimVal1:5e-06\n",
      "LimVal0:5e-06\n"
     ]
    },
    {
     "data": {
      "application/vnd.jupyter.widget-view+json": {
       "model_id": "c0a822291f074559a7bd9e8eda1ef63c",
       "version_major": 2,
       "version_minor": 0
      },
      "text/plain": [
       "Running Simulation :   0%|          | 0/200 [00:00<?, ?it/s]"
      ]
     },
     "metadata": {},
     "output_type": "display_data"
    },
    {
     "name": "stdout",
     "output_type": "stream",
     "text": [
      "Target:1\n",
      "Target: 1.0\n",
      "Accuracy: 0.02\n",
      "Currents: [6.855670193373632e-06, 6.052765869050559e-08]\n",
      "LimVal1:6e-06\n",
      "LimVal0:4.5e-06\n"
     ]
    },
    {
     "data": {
      "application/vnd.jupyter.widget-view+json": {
       "model_id": "2eaff8e809fc4b738c2bc9069c33a33f",
       "version_major": 2,
       "version_minor": 0
      },
      "text/plain": [
       "Running Simulation :   0%|          | 0/200 [00:00<?, ?it/s]"
      ]
     },
     "metadata": {},
     "output_type": "display_data"
    },
    {
     "name": "stdout",
     "output_type": "stream",
     "text": [
      "Target:0\n",
      "Currents: [7.12949922018217e-06, -3.8079340452313085e-07]\n",
      "LimVal1:6e-06\n",
      "LimVal0:4.5e-06\n"
     ]
    },
    {
     "data": {
      "application/vnd.jupyter.widget-view+json": {
       "model_id": "7fbf1830c16e4a12a7fff850f19a7f3d",
       "version_major": 2,
       "version_minor": 0
      },
      "text/plain": [
       "Running Simulation :   0%|          | 0/200 [00:00<?, ?it/s]"
      ]
     },
     "metadata": {},
     "output_type": "display_data"
    },
    {
     "name": "stdout",
     "output_type": "stream",
     "text": [
      "Target:0\n",
      "Currents: [5.209644913512322e-06, -7.641688966257315e-07]\n",
      "LimVal1:6e-06\n",
      "LimVal0:4.5e-06\n"
     ]
    },
    {
     "data": {
      "application/vnd.jupyter.widget-view+json": {
       "model_id": "cc6bab9c51034a0295bb351d24ea0a1f",
       "version_major": 2,
       "version_minor": 0
      },
      "text/plain": [
       "Running Simulation :   0%|          | 0/200 [00:00<?, ?it/s]"
      ]
     },
     "metadata": {},
     "output_type": "display_data"
    },
    {
     "name": "stdout",
     "output_type": "stream",
     "text": [
      "Target:0\n",
      "Target: 0.0\n",
      "Accuracy: 1.0\n",
      "Currents: [2.8091960362993653e-06, 1.4508289738966372e-08]\n",
      "LimVal1:6e-06\n",
      "LimVal0:4.5e-06\n"
     ]
    },
    {
     "data": {
      "application/vnd.jupyter.widget-view+json": {
       "model_id": "7e08a60436324ecb9959e86554294047",
       "version_major": 2,
       "version_minor": 0
      },
      "text/plain": [
       "Running Simulation :   0%|          | 0/200 [00:00<?, ?it/s]"
      ]
     },
     "metadata": {},
     "output_type": "display_data"
    },
    {
     "name": "stdout",
     "output_type": "stream",
     "text": [
      "Target:1\n",
      "Currents: [4.154255985553333e-07, 1.2123956559088726e-05]\n",
      "LimVal1:6e-06\n",
      "LimVal0:4.5e-06\n"
     ]
    },
    {
     "data": {
      "application/vnd.jupyter.widget-view+json": {
       "model_id": "e25a371d21d5482b879c684b3985102c",
       "version_major": 2,
       "version_minor": 0
      },
      "text/plain": [
       "Running Simulation :   0%|          | 0/200 [00:00<?, ?it/s]"
      ]
     },
     "metadata": {},
     "output_type": "display_data"
    },
    {
     "name": "stdout",
     "output_type": "stream",
     "text": [
      "Target:0\n",
      "Currents: [1.1289008592426612e-05, -2.4965029509381215e-07]\n",
      "LimVal1:6e-06\n",
      "LimVal0:4.5e-06\n"
     ]
    },
    {
     "data": {
      "application/vnd.jupyter.widget-view+json": {
       "model_id": "227e5a0cdad1456da90a9374bc6d07bc",
       "version_major": 2,
       "version_minor": 0
      },
      "text/plain": [
       "Running Simulation :   0%|          | 0/200 [00:00<?, ?it/s]"
      ]
     },
     "metadata": {},
     "output_type": "display_data"
    },
    {
     "name": "stdout",
     "output_type": "stream",
     "text": [
      "Target:1\n",
      "Target: 1.0\n",
      "Accuracy: 0.0\n",
      "Currents: [4.859126955116683e-06, 4.3712756576334e-08]\n",
      "LimVal1:7.000000000000001e-06\n",
      "LimVal0:4e-06\n"
     ]
    },
    {
     "data": {
      "application/vnd.jupyter.widget-view+json": {
       "model_id": "fcc1b897c0a04a528a76079ea6d3c0a5",
       "version_major": 2,
       "version_minor": 0
      },
      "text/plain": [
       "Running Simulation :   0%|          | 0/200 [00:00<?, ?it/s]"
      ]
     },
     "metadata": {},
     "output_type": "display_data"
    },
    {
     "name": "stdout",
     "output_type": "stream",
     "text": [
      "Target:1\n",
      "Currents: [-1.4910512943622761e-06, 1.7127002005971304e-05]\n",
      "LimVal1:7.000000000000001e-06\n",
      "LimVal0:4e-06\n"
     ]
    },
    {
     "data": {
      "application/vnd.jupyter.widget-view+json": {
       "model_id": "33b305c1f80243a280365c89cf10df35",
       "version_major": 2,
       "version_minor": 0
      },
      "text/plain": [
       "Running Simulation :   0%|          | 0/200 [00:00<?, ?it/s]"
      ]
     },
     "metadata": {},
     "output_type": "display_data"
    },
    {
     "name": "stdout",
     "output_type": "stream",
     "text": [
      "Target:1\n",
      "Currents: [-3.1210683578752556e-07, 7.397955695769654e-06]\n",
      "LimVal1:7.000000000000001e-06\n",
      "LimVal0:4e-06\n"
     ]
    },
    {
     "data": {
      "application/vnd.jupyter.widget-view+json": {
       "model_id": "709be7078fa34d66937e3e88fb4465e3",
       "version_major": 2,
       "version_minor": 0
      },
      "text/plain": [
       "Running Simulation :   0%|          | 0/200 [00:00<?, ?it/s]"
      ]
     },
     "metadata": {},
     "output_type": "display_data"
    },
    {
     "name": "stdout",
     "output_type": "stream",
     "text": [
      "Target:1\n",
      "Target: 1.0\n",
      "Accuracy: 0.825\n",
      "Currents: [3.6156289048923712e-06, 7.605796659602121e-06]\n",
      "LimVal1:7.000000000000001e-06\n",
      "LimVal0:4e-06\n"
     ]
    },
    {
     "data": {
      "application/vnd.jupyter.widget-view+json": {
       "model_id": "b8db1f8cc4824b6f8d74e6fdae4ada3a",
       "version_major": 2,
       "version_minor": 0
      },
      "text/plain": [
       "Running Simulation :   0%|          | 0/200 [00:00<?, ?it/s]"
      ]
     },
     "metadata": {},
     "output_type": "display_data"
    },
    {
     "name": "stdout",
     "output_type": "stream",
     "text": [
      "Target:0\n",
      "Currents: [6.537509795284313e-06, 9.597034826059926e-06]\n",
      "LimVal1:7.000000000000001e-06\n",
      "LimVal0:4e-06\n"
     ]
    },
    {
     "data": {
      "application/vnd.jupyter.widget-view+json": {
       "model_id": "e868bd69ead54608815ce113b35ddddc",
       "version_major": 2,
       "version_minor": 0
      },
      "text/plain": [
       "Running Simulation :   0%|          | 0/200 [00:00<?, ?it/s]"
      ]
     },
     "metadata": {},
     "output_type": "display_data"
    },
    {
     "name": "stdout",
     "output_type": "stream",
     "text": [
      "Target:0\n",
      "Currents: [7.291201262412816e-06, -6.993984944414043e-07]\n",
      "LimVal1:7.000000000000001e-06\n",
      "LimVal0:4e-06\n"
     ]
    },
    {
     "data": {
      "application/vnd.jupyter.widget-view+json": {
       "model_id": "8161e45d899b4f5f90ecde0bad60a887",
       "version_major": 2,
       "version_minor": 0
      },
      "text/plain": [
       "Running Simulation :   0%|          | 0/200 [00:00<?, ?it/s]"
      ]
     },
     "metadata": {},
     "output_type": "display_data"
    },
    {
     "name": "stdout",
     "output_type": "stream",
     "text": [
      "Target:0\n",
      "Target: 0.0\n",
      "Accuracy: 0.745\n",
      "Currents: [6.325264933813255e-07, 8.845872469899338e-08]\n",
      "LimVal1:7.000000000000001e-06\n",
      "LimVal0:4e-06\n"
     ]
    },
    {
     "data": {
      "application/vnd.jupyter.widget-view+json": {
       "model_id": "4b13267fd470460bb677fd83fcf4fe24",
       "version_major": 2,
       "version_minor": 0
      },
      "text/plain": [
       "Running Simulation :   0%|          | 0/200 [00:00<?, ?it/s]"
      ]
     },
     "metadata": {},
     "output_type": "display_data"
    },
    {
     "name": "stdout",
     "output_type": "stream",
     "text": [
      "Target:0\n",
      "Currents: [4.466947327756359e-06, -1.0906619829041423e-07]\n",
      "LimVal1:7.000000000000001e-06\n",
      "LimVal0:4e-06\n"
     ]
    },
    {
     "data": {
      "application/vnd.jupyter.widget-view+json": {
       "model_id": "69eb2100b8724112b0465c79f3b4972d",
       "version_major": 2,
       "version_minor": 0
      },
      "text/plain": [
       "Running Simulation :   0%|          | 0/200 [00:00<?, ?it/s]"
      ]
     },
     "metadata": {},
     "output_type": "display_data"
    },
    {
     "name": "stdout",
     "output_type": "stream",
     "text": [
      "Target:1\n",
      "Currents: [-1.3610617812031767e-07, 1.9105761366407408e-05]\n",
      "LimVal1:7.000000000000001e-06\n",
      "LimVal0:4e-06\n"
     ]
    },
    {
     "data": {
      "application/vnd.jupyter.widget-view+json": {
       "model_id": "a95572553a9e4681b7a0ef40703635e1",
       "version_major": 2,
       "version_minor": 0
      },
      "text/plain": [
       "Running Simulation :   0%|          | 0/200 [00:00<?, ?it/s]"
      ]
     },
     "metadata": {},
     "output_type": "display_data"
    },
    {
     "name": "stdout",
     "output_type": "stream",
     "text": [
      "Target:0\n",
      "Target: 0.0\n",
      "Accuracy: 0.0\n",
      "Currents: [6.08748029869649e-09, 1.0219932591143064e-07]\n",
      "LimVal1:6.5000000000000004e-06\n",
      "LimVal0:4.9999999999999996e-06\n"
     ]
    },
    {
     "data": {
      "application/vnd.jupyter.widget-view+json": {
       "model_id": "6bb6bba27fa14a1ca1191d703cd5114a",
       "version_major": 2,
       "version_minor": 0
      },
      "text/plain": [
       "Running Simulation :   0%|          | 0/200 [00:00<?, ?it/s]"
      ]
     },
     "metadata": {},
     "output_type": "display_data"
    },
    {
     "name": "stdout",
     "output_type": "stream",
     "text": [
      "Target:1\n",
      "Currents: [-3.5887486566519165e-08, 6.552376105789039e-06]\n",
      "LimVal1:6.5000000000000004e-06\n",
      "LimVal0:4.9999999999999996e-06\n"
     ]
    },
    {
     "data": {
      "application/vnd.jupyter.widget-view+json": {
       "model_id": "daff342db95d465b9cf9de0518d78015",
       "version_major": 2,
       "version_minor": 0
      },
      "text/plain": [
       "Running Simulation :   0%|          | 0/200 [00:00<?, ?it/s]"
      ]
     },
     "metadata": {},
     "output_type": "display_data"
    },
    {
     "name": "stdout",
     "output_type": "stream",
     "text": [
      "Target:1\n",
      "Currents: [-1.4721659281741426e-07, 8.170849039124795e-06]\n",
      "LimVal1:6.5000000000000004e-06\n",
      "LimVal0:4.9999999999999996e-06\n"
     ]
    },
    {
     "data": {
      "application/vnd.jupyter.widget-view+json": {
       "model_id": "5789a95ef001428bb5bfaf67eae38ca3",
       "version_major": 2,
       "version_minor": 0
      },
      "text/plain": [
       "Running Simulation :   0%|          | 0/200 [00:00<?, ?it/s]"
      ]
     },
     "metadata": {},
     "output_type": "display_data"
    },
    {
     "name": "stdout",
     "output_type": "stream",
     "text": [
      "Target:1\n",
      "Target: 1.0\n",
      "Accuracy: 1.0\n",
      "Currents: [3.545851174687142e-08, 3.3104903907389558e-06]\n",
      "LimVal1:6.5000000000000004e-06\n",
      "LimVal0:4.9999999999999996e-06\n"
     ]
    },
    {
     "data": {
      "application/vnd.jupyter.widget-view+json": {
       "model_id": "41d2e8471fb34553a5548995b774574e",
       "version_major": 2,
       "version_minor": 0
      },
      "text/plain": [
       "Running Simulation :   0%|          | 0/200 [00:00<?, ?it/s]"
      ]
     },
     "metadata": {},
     "output_type": "display_data"
    },
    {
     "name": "stdout",
     "output_type": "stream",
     "text": [
      "Target:0\n",
      "Currents: [9.036523824680134e-06, -1.5996526221577736e-06]\n",
      "LimVal1:6.5000000000000004e-06\n",
      "LimVal0:4.9999999999999996e-06\n"
     ]
    },
    {
     "data": {
      "application/vnd.jupyter.widget-view+json": {
       "model_id": "19b69a5f7c1547d4854383b7bd8a9d34",
       "version_major": 2,
       "version_minor": 0
      },
      "text/plain": [
       "Running Simulation :   0%|          | 0/200 [00:00<?, ?it/s]"
      ]
     },
     "metadata": {},
     "output_type": "display_data"
    },
    {
     "name": "stdout",
     "output_type": "stream",
     "text": [
      "Target:0\n",
      "Currents: [8.680481683591407e-06, -2.920214310187977e-07]\n",
      "LimVal1:6.5000000000000004e-06\n",
      "LimVal0:4.9999999999999996e-06\n"
     ]
    },
    {
     "data": {
      "application/vnd.jupyter.widget-view+json": {
       "model_id": "a84c9990eccc41e0a58e7d09affcb443",
       "version_major": 2,
       "version_minor": 0
      },
      "text/plain": [
       "Running Simulation :   0%|          | 0/200 [00:00<?, ?it/s]"
      ]
     },
     "metadata": {},
     "output_type": "display_data"
    },
    {
     "name": "stdout",
     "output_type": "stream",
     "text": [
      "Target:0\n",
      "Target: 0.0\n",
      "Accuracy: 0.99\n",
      "Currents: [2.810017155022633e-06, 1.5049649301563287e-08]\n",
      "LimVal1:6.5000000000000004e-06\n",
      "LimVal0:4.9999999999999996e-06\n"
     ]
    },
    {
     "data": {
      "application/vnd.jupyter.widget-view+json": {
       "model_id": "ab4266c35c5a4565bb3e70d9ac8fc5c3",
       "version_major": 2,
       "version_minor": 0
      },
      "text/plain": [
       "Running Simulation :   0%|          | 0/200 [00:00<?, ?it/s]"
      ]
     },
     "metadata": {},
     "output_type": "display_data"
    },
    {
     "name": "stdout",
     "output_type": "stream",
     "text": [
      "Target:1\n",
      "Currents: [1.5983074940239485e-06, 9.345552648553115e-06]\n",
      "LimVal1:6.5000000000000004e-06\n",
      "LimVal0:4.9999999999999996e-06\n"
     ]
    },
    {
     "data": {
      "application/vnd.jupyter.widget-view+json": {
       "model_id": "b5e567a05bd14bfe9334e089bfb41765",
       "version_major": 2,
       "version_minor": 0
      },
      "text/plain": [
       "Running Simulation :   0%|          | 0/200 [00:00<?, ?it/s]"
      ]
     },
     "metadata": {},
     "output_type": "display_data"
    },
    {
     "name": "stdout",
     "output_type": "stream",
     "text": [
      "Target:0\n",
      "Currents: [7.812155238867196e-06, -2.640905961951722e-07]\n",
      "LimVal1:6.5000000000000004e-06\n",
      "LimVal0:4.9999999999999996e-06\n"
     ]
    },
    {
     "data": {
      "application/vnd.jupyter.widget-view+json": {
       "model_id": "7d99a3451a5d4728bc5df6ea14afa45b",
       "version_major": 2,
       "version_minor": 0
      },
      "text/plain": [
       "Running Simulation :   0%|          | 0/200 [00:00<?, ?it/s]"
      ]
     },
     "metadata": {},
     "output_type": "display_data"
    },
    {
     "name": "stdout",
     "output_type": "stream",
     "text": [
      "Target:1\n",
      "Target: 1.0\n",
      "Accuracy: 0.005\n",
      "Currents: [4.065849672038665e-06, 4.349647226477566e-08]\n",
      "LimVal1:7.500000000000001e-06\n",
      "LimVal0:4.499999999999999e-06\n"
     ]
    },
    {
     "data": {
      "application/vnd.jupyter.widget-view+json": {
       "model_id": "593ec6488d99419cb371f6adf2bc52e7",
       "version_major": 2,
       "version_minor": 0
      },
      "text/plain": [
       "Running Simulation :   0%|          | 0/200 [00:00<?, ?it/s]"
      ]
     },
     "metadata": {},
     "output_type": "display_data"
    },
    {
     "name": "stdout",
     "output_type": "stream",
     "text": [
      "Target:0\n",
      "Currents: [4.880606927160846e-06, -1.4488552536344163e-07]\n",
      "LimVal1:7.500000000000001e-06\n",
      "LimVal0:4.499999999999999e-06\n"
     ]
    },
    {
     "data": {
      "application/vnd.jupyter.widget-view+json": {
       "model_id": "fb02fc25d94349ce902b7d9bc7bde636",
       "version_major": 2,
       "version_minor": 0
      },
      "text/plain": [
       "Running Simulation :   0%|          | 0/200 [00:00<?, ?it/s]"
      ]
     },
     "metadata": {},
     "output_type": "display_data"
    },
    {
     "name": "stdout",
     "output_type": "stream",
     "text": [
      "Target:1\n",
      "Currents: [-4.5432889441253186e-07, 7.936061299948202e-06]\n",
      "LimVal1:7.500000000000001e-06\n",
      "LimVal0:4.499999999999999e-06\n"
     ]
    },
    {
     "data": {
      "application/vnd.jupyter.widget-view+json": {
       "model_id": "a85c9bc91f5945cb987d66b13ba78d0c",
       "version_major": 2,
       "version_minor": 0
      },
      "text/plain": [
       "Running Simulation :   0%|          | 0/200 [00:00<?, ?it/s]"
      ]
     },
     "metadata": {},
     "output_type": "display_data"
    },
    {
     "name": "stdout",
     "output_type": "stream",
     "text": [
      "Target:0\n",
      "Target: 0.0\n",
      "Accuracy: 0.105\n",
      "Currents: [3.796893344436461e-08, 4.079226636608287e-07]\n",
      "LimVal1:7.000000000000001e-06\n",
      "LimVal0:5.5e-06\n"
     ]
    },
    {
     "data": {
      "application/vnd.jupyter.widget-view+json": {
       "model_id": "08f88cd9bdb043f4ae40d1efe2b24033",
       "version_major": 2,
       "version_minor": 0
      },
      "text/plain": [
       "Running Simulation :   0%|          | 0/200 [00:00<?, ?it/s]"
      ]
     },
     "metadata": {},
     "output_type": "display_data"
    },
    {
     "name": "stdout",
     "output_type": "stream",
     "text": [
      "Target:1\n",
      "Currents: [-1.4556010922479567e-07, 7.108865462526099e-06]\n",
      "LimVal1:7.000000000000001e-06\n",
      "LimVal0:5.5e-06\n"
     ]
    },
    {
     "data": {
      "application/vnd.jupyter.widget-view+json": {
       "model_id": "6d9ee2c472714b6da7b90ae9f4ec0abe",
       "version_major": 2,
       "version_minor": 0
      },
      "text/plain": [
       "Running Simulation :   0%|          | 0/200 [00:00<?, ?it/s]"
      ]
     },
     "metadata": {},
     "output_type": "display_data"
    },
    {
     "name": "stdout",
     "output_type": "stream",
     "text": [
      "Target:1\n",
      "Currents: [-7.111672605889612e-08, 7.125678069629242e-06]\n",
      "LimVal1:7.000000000000001e-06\n",
      "LimVal0:5.5e-06\n"
     ]
    },
    {
     "data": {
      "application/vnd.jupyter.widget-view+json": {
       "model_id": "f838ee655c384c4082354eed6419dec9",
       "version_major": 2,
       "version_minor": 0
      },
      "text/plain": [
       "Running Simulation :   0%|          | 0/200 [00:00<?, ?it/s]"
      ]
     },
     "metadata": {},
     "output_type": "display_data"
    },
    {
     "name": "stdout",
     "output_type": "stream",
     "text": [
      "Target:1\n",
      "Target: 1.0\n",
      "Accuracy: 1.0\n",
      "Currents: [3.818240780625455e-08, 4.9409440291725134e-06]\n",
      "LimVal1:7.000000000000001e-06\n",
      "LimVal0:5.5e-06\n"
     ]
    },
    {
     "data": {
      "application/vnd.jupyter.widget-view+json": {
       "model_id": "b9310081166641cf87b64d8641a4d5f1",
       "version_major": 2,
       "version_minor": 0
      },
      "text/plain": [
       "Running Simulation :   0%|          | 0/200 [00:00<?, ?it/s]"
      ]
     },
     "metadata": {},
     "output_type": "display_data"
    },
    {
     "name": "stdout",
     "output_type": "stream",
     "text": [
      "Target:0\n",
      "Currents: [5.99929503173391e-06, 2.188685892336666e-06]\n",
      "LimVal1:7.000000000000001e-06\n",
      "LimVal0:5.5e-06\n"
     ]
    },
    {
     "data": {
      "application/vnd.jupyter.widget-view+json": {
       "model_id": "caa9537e68674c62ab829321d0f67c24",
       "version_major": 2,
       "version_minor": 0
      },
      "text/plain": [
       "Running Simulation :   0%|          | 0/200 [00:00<?, ?it/s]"
      ]
     },
     "metadata": {},
     "output_type": "display_data"
    },
    {
     "name": "stdout",
     "output_type": "stream",
     "text": [
      "Target:0\n",
      "Currents: [7.826594851055364e-06, -6.464342986802297e-07]\n",
      "LimVal1:7.000000000000001e-06\n",
      "LimVal0:5.5e-06\n"
     ]
    },
    {
     "data": {
      "application/vnd.jupyter.widget-view+json": {
       "model_id": "78182e9959d84a40908bba3c522417de",
       "version_major": 2,
       "version_minor": 0
      },
      "text/plain": [
       "Running Simulation :   0%|          | 0/200 [00:00<?, ?it/s]"
      ]
     },
     "metadata": {},
     "output_type": "display_data"
    },
    {
     "name": "stdout",
     "output_type": "stream",
     "text": [
      "Target:0\n",
      "Target: 0.0\n",
      "Accuracy: 0.755\n",
      "Currents: [2.7208128460431687e-06, 9.048161398165655e-08]\n",
      "LimVal1:7.000000000000001e-06\n",
      "LimVal0:5.5e-06\n"
     ]
    },
    {
     "data": {
      "application/vnd.jupyter.widget-view+json": {
       "model_id": "e5ec133210e2411d951764fa1eb1eae7",
       "version_major": 2,
       "version_minor": 0
      },
      "text/plain": [
       "Running Simulation :   0%|          | 0/200 [00:00<?, ?it/s]"
      ]
     },
     "metadata": {},
     "output_type": "display_data"
    },
    {
     "name": "stdout",
     "output_type": "stream",
     "text": [
      "Target:0\n",
      "Currents: [5.513293219401882e-06, -9.997715037214595e-08]\n",
      "LimVal1:7.000000000000001e-06\n",
      "LimVal0:5.5e-06\n"
     ]
    },
    {
     "data": {
      "application/vnd.jupyter.widget-view+json": {
       "model_id": "9a4f38abc3c446aea7c23ced4a6ca144",
       "version_major": 2,
       "version_minor": 0
      },
      "text/plain": [
       "Running Simulation :   0%|          | 0/200 [00:00<?, ?it/s]"
      ]
     },
     "metadata": {},
     "output_type": "display_data"
    },
    {
     "name": "stdout",
     "output_type": "stream",
     "text": [
      "Target:0\n",
      "Currents: [6.605320905349617e-06, -2.145173063948071e-07]\n",
      "LimVal1:7.000000000000001e-06\n",
      "LimVal0:5.5e-06\n"
     ]
    },
    {
     "data": {
      "application/vnd.jupyter.widget-view+json": {
       "model_id": "4e8fc93b39ed4c02ae91ff430b4bcffd",
       "version_major": 2,
       "version_minor": 0
      },
      "text/plain": [
       "Running Simulation :   0%|          | 0/200 [00:00<?, ?it/s]"
      ]
     },
     "metadata": {},
     "output_type": "display_data"
    },
    {
     "name": "stdout",
     "output_type": "stream",
     "text": [
      "Target:0\n",
      "Target: 0.0\n",
      "Accuracy: 0.975\n",
      "Currents: [2.3008349930604712e-06, 1.4494406253265577e-08]\n",
      "LimVal1:7.000000000000001e-06\n",
      "LimVal0:5.5e-06\n"
     ]
    },
    {
     "data": {
      "application/vnd.jupyter.widget-view+json": {
       "model_id": "2ae5ff144f334ffc923314270bfb1498",
       "version_major": 2,
       "version_minor": 0
      },
      "text/plain": [
       "Running Simulation :   0%|          | 0/200 [00:00<?, ?it/s]"
      ]
     },
     "metadata": {},
     "output_type": "display_data"
    },
    {
     "name": "stdout",
     "output_type": "stream",
     "text": [
      "Target:0\n",
      "Currents: [5.5601401241751094e-06, -1.029024262729044e-07]\n",
      "LimVal1:7.000000000000001e-06\n",
      "LimVal0:5.5e-06\n"
     ]
    },
    {
     "data": {
      "application/vnd.jupyter.widget-view+json": {
       "model_id": "521c8c7b492e4180a67b648e43111360",
       "version_major": 2,
       "version_minor": 0
      },
      "text/plain": [
       "Running Simulation :   0%|          | 0/200 [00:00<?, ?it/s]"
      ]
     },
     "metadata": {},
     "output_type": "display_data"
    },
    {
     "name": "stdout",
     "output_type": "stream",
     "text": [
      "Target:1\n",
      "Currents: [-2.9253243999886254e-07, 2.2874120930103542e-05]\n",
      "LimVal1:7.000000000000001e-06\n",
      "LimVal0:5.5e-06\n"
     ]
    },
    {
     "data": {
      "application/vnd.jupyter.widget-view+json": {
       "model_id": "07661acd878141af943a513660643d20",
       "version_major": 2,
       "version_minor": 0
      },
      "text/plain": [
       "Running Simulation :   0%|          | 0/200 [00:00<?, ?it/s]"
      ]
     },
     "metadata": {},
     "output_type": "display_data"
    },
    {
     "name": "stdout",
     "output_type": "stream",
     "text": [
      "Target:0\n",
      "Target: 0.0\n",
      "Accuracy: 0.0\n",
      "Currents: [2.2392740890246772e-08, 3.865750392870531e-06]\n",
      "LimVal1:6.5000000000000004e-06\n",
      "LimVal0:6.5000000000000004e-06\n"
     ]
    },
    {
     "data": {
      "application/vnd.jupyter.widget-view+json": {
       "model_id": "9fcb97d817c0488a8b095437cabf4a0e",
       "version_major": 2,
       "version_minor": 0
      },
      "text/plain": [
       "Running Simulation :   0%|          | 0/200 [00:00<?, ?it/s]"
      ]
     },
     "metadata": {},
     "output_type": "display_data"
    },
    {
     "name": "stdout",
     "output_type": "stream",
     "text": [
      "Target:1\n",
      "Currents: [-4.7237239745160395e-08, 6.543302061635438e-06]\n",
      "LimVal1:6.5000000000000004e-06\n",
      "LimVal0:6.5000000000000004e-06\n"
     ]
    },
    {
     "data": {
      "application/vnd.jupyter.widget-view+json": {
       "model_id": "928517302fd2472cad362a7c810b099a",
       "version_major": 2,
       "version_minor": 0
      },
      "text/plain": [
       "Running Simulation :   0%|          | 0/200 [00:00<?, ?it/s]"
      ]
     },
     "metadata": {},
     "output_type": "display_data"
    },
    {
     "name": "stdout",
     "output_type": "stream",
     "text": [
      "Target:1\n",
      "Currents: [-1.223938568291781e-07, 6.686756261891089e-06]\n",
      "LimVal1:6.5000000000000004e-06\n",
      "LimVal0:6.5000000000000004e-06\n"
     ]
    },
    {
     "data": {
      "application/vnd.jupyter.widget-view+json": {
       "model_id": "2db282df94f147f8bf41c58daf9baa4e",
       "version_major": 2,
       "version_minor": 0
      },
      "text/plain": [
       "Running Simulation :   0%|          | 0/200 [00:00<?, ?it/s]"
      ]
     },
     "metadata": {},
     "output_type": "display_data"
    },
    {
     "name": "stdout",
     "output_type": "stream",
     "text": [
      "Target:1\n",
      "Target: 1.0\n",
      "Accuracy: 1.0\n",
      "Currents: [4.031305605291206e-08, 3.9660357581255355e-06]\n",
      "LimVal1:6.5000000000000004e-06\n",
      "LimVal0:6.5000000000000004e-06\n"
     ]
    },
    {
     "data": {
      "application/vnd.jupyter.widget-view+json": {
       "model_id": "d5fb9ea70dda4d999f6b705f13e93a1c",
       "version_major": 2,
       "version_minor": 0
      },
      "text/plain": [
       "Running Simulation :   0%|          | 0/200 [00:00<?, ?it/s]"
      ]
     },
     "metadata": {},
     "output_type": "display_data"
    },
    {
     "name": "stdout",
     "output_type": "stream",
     "text": [
      "Target:0\n",
      "Currents: [1.807401038851505e-05, -1.332799081290062e-06]\n",
      "LimVal1:6.5000000000000004e-06\n",
      "LimVal0:6.5000000000000004e-06\n"
     ]
    },
    {
     "data": {
      "application/vnd.jupyter.widget-view+json": {
       "model_id": "2700461c48ae47a79faf7da08b196fa8",
       "version_major": 2,
       "version_minor": 0
      },
      "text/plain": [
       "Running Simulation :   0%|          | 0/200 [00:00<?, ?it/s]"
      ]
     },
     "metadata": {},
     "output_type": "display_data"
    },
    {
     "name": "stdout",
     "output_type": "stream",
     "text": [
      "Target:0\n",
      "Currents: [7.92870624175809e-06, -2.489663705640577e-07]\n",
      "LimVal1:6.5000000000000004e-06\n",
      "LimVal0:6.5000000000000004e-06\n"
     ]
    },
    {
     "data": {
      "application/vnd.jupyter.widget-view+json": {
       "model_id": "aa34313af9054ca4aff57308375aaad6",
       "version_major": 2,
       "version_minor": 0
      },
      "text/plain": [
       "Running Simulation :   0%|          | 0/200 [00:00<?, ?it/s]"
      ]
     },
     "metadata": {},
     "output_type": "display_data"
    },
    {
     "name": "stdout",
     "output_type": "stream",
     "text": [
      "Target:0\n",
      "Target: 0.0\n",
      "Accuracy: 0.985\n",
      "Currents: [2.725529878458389e-06, 1.5496535761728885e-08]\n",
      "LimVal1:6.5000000000000004e-06\n",
      "LimVal0:6.5000000000000004e-06\n"
     ]
    },
    {
     "data": {
      "application/vnd.jupyter.widget-view+json": {
       "model_id": "1abe9f3d7ddd4a19bccc1bcb408ee716",
       "version_major": 2,
       "version_minor": 0
      },
      "text/plain": [
       "Running Simulation :   0%|          | 0/200 [00:00<?, ?it/s]"
      ]
     },
     "metadata": {},
     "output_type": "display_data"
    },
    {
     "name": "stdout",
     "output_type": "stream",
     "text": [
      "Target:1\n",
      "Currents: [-2.8804494225039444e-07, 7.0361414506813115e-06]\n",
      "LimVal1:6.5000000000000004e-06\n",
      "LimVal0:6.5000000000000004e-06\n"
     ]
    },
    {
     "data": {
      "application/vnd.jupyter.widget-view+json": {
       "model_id": "e6517f58351c4073a7e9a7138c0a6abe",
       "version_major": 2,
       "version_minor": 0
      },
      "text/plain": [
       "Running Simulation :   0%|          | 0/200 [00:00<?, ?it/s]"
      ]
     },
     "metadata": {},
     "output_type": "display_data"
    },
    {
     "name": "stdout",
     "output_type": "stream",
     "text": [
      "Target:1\n",
      "Currents: [-7.461960363575256e-08, 8.425824097034564e-06]\n",
      "LimVal1:6.5000000000000004e-06\n",
      "LimVal0:6.5000000000000004e-06\n"
     ]
    },
    {
     "data": {
      "application/vnd.jupyter.widget-view+json": {
       "model_id": "3f2b2c2475304b24af0d94f2fbf32b82",
       "version_major": 2,
       "version_minor": 0
      },
      "text/plain": [
       "Running Simulation :   0%|          | 0/200 [00:00<?, ?it/s]"
      ]
     },
     "metadata": {},
     "output_type": "display_data"
    },
    {
     "name": "stdout",
     "output_type": "stream",
     "text": [
      "Target:1\n",
      "Target: 1.0\n",
      "Accuracy: 1.0\n",
      "Currents: [1.6109957121554412e-07, 3.539652134890781e-06]\n",
      "LimVal1:6.5000000000000004e-06\n",
      "LimVal0:6.5000000000000004e-06\n"
     ]
    },
    {
     "data": {
      "application/vnd.jupyter.widget-view+json": {
       "model_id": "ddda9c29069b45f1a2e1584e47af88fd",
       "version_major": 2,
       "version_minor": 0
      },
      "text/plain": [
       "Running Simulation :   0%|          | 0/200 [00:00<?, ?it/s]"
      ]
     },
     "metadata": {},
     "output_type": "display_data"
    },
    {
     "name": "stdout",
     "output_type": "stream",
     "text": [
      "Target:0\n",
      "Currents: [6.747779576312753e-06, -3.4909441229888357e-06]\n",
      "LimVal1:6.5000000000000004e-06\n",
      "LimVal0:6.5000000000000004e-06\n"
     ]
    },
    {
     "data": {
      "application/vnd.jupyter.widget-view+json": {
       "model_id": "70e1ea9b99f142fa915ef7fde5679cd9",
       "version_major": 2,
       "version_minor": 0
      },
      "text/plain": [
       "Running Simulation :   0%|          | 0/200 [00:00<?, ?it/s]"
      ]
     },
     "metadata": {},
     "output_type": "display_data"
    },
    {
     "name": "stdout",
     "output_type": "stream",
     "text": [
      "Target:1\n",
      "Currents: [-2.3139331757025336e-08, 6.839361319380283e-06]\n",
      "LimVal1:6.5000000000000004e-06\n",
      "LimVal0:6.5000000000000004e-06\n"
     ]
    },
    {
     "data": {
      "application/vnd.jupyter.widget-view+json": {
       "model_id": "be95b76e6a484b4ca1a1f1cded8770df",
       "version_major": 2,
       "version_minor": 0
      },
      "text/plain": [
       "Running Simulation :   0%|          | 0/200 [00:00<?, ?it/s]"
      ]
     },
     "metadata": {},
     "output_type": "display_data"
    },
    {
     "name": "stdout",
     "output_type": "stream",
     "text": [
      "Target:0\n",
      "Target: 0.0\n",
      "Accuracy: 0.005\n",
      "Currents: [1.4746269521787573e-08, 7.933871327395076e-08]\n",
      "LimVal1:6e-06\n",
      "LimVal0:7.500000000000001e-06\n"
     ]
    },
    {
     "data": {
      "application/vnd.jupyter.widget-view+json": {
       "model_id": "c82d82f7865b4118b445b9b53566b6d7",
       "version_major": 2,
       "version_minor": 0
      },
      "text/plain": [
       "Running Simulation :   0%|          | 0/200 [00:00<?, ?it/s]"
      ]
     },
     "metadata": {},
     "output_type": "display_data"
    },
    {
     "name": "stdout",
     "output_type": "stream",
     "text": [
      "Target:1\n",
      "Currents: [-3.346637697151129e-08, 7.167211732137634e-06]\n",
      "LimVal1:6e-06\n",
      "LimVal0:7.500000000000001e-06\n"
     ]
    },
    {
     "data": {
      "application/vnd.jupyter.widget-view+json": {
       "model_id": "7813f851fb254aaf97dd3735bcaa03b8",
       "version_major": 2,
       "version_minor": 0
      },
      "text/plain": [
       "Running Simulation :   0%|          | 0/200 [00:00<?, ?it/s]"
      ]
     },
     "metadata": {},
     "output_type": "display_data"
    },
    {
     "name": "stdout",
     "output_type": "stream",
     "text": [
      "Target:0\n",
      "Currents: [1.2962511369161924e-05, -5.425395829511146e-07]\n",
      "LimVal1:6e-06\n",
      "LimVal0:7.500000000000001e-06\n"
     ]
    },
    {
     "data": {
      "application/vnd.jupyter.widget-view+json": {
       "model_id": "008676ed0e1942e1bd7f88e831aa528f",
       "version_major": 2,
       "version_minor": 0
      },
      "text/plain": [
       "Running Simulation :   0%|          | 0/200 [00:00<?, ?it/s]"
      ]
     },
     "metadata": {},
     "output_type": "display_data"
    },
    {
     "name": "stdout",
     "output_type": "stream",
     "text": [
      "Target:1\n",
      "Target: 1.0\n",
      "Accuracy: 0.0\n",
      "Currents: [4.257636572570227e-06, 4.1365968928506166e-08]\n",
      "LimVal1:7.000000000000001e-06\n",
      "LimVal0:7.000000000000001e-06\n"
     ]
    },
    {
     "data": {
      "application/vnd.jupyter.widget-view+json": {
       "model_id": "f338231737c042ef9970c5ac1ce13964",
       "version_major": 2,
       "version_minor": 0
      },
      "text/plain": [
       "Running Simulation :   0%|          | 0/200 [00:00<?, ?it/s]"
      ]
     },
     "metadata": {},
     "output_type": "display_data"
    },
    {
     "name": "stdout",
     "output_type": "stream",
     "text": [
      "Target:0\n",
      "Currents: [8.583841078971676e-06, -6.531414976818709e-07]\n",
      "LimVal1:7.000000000000001e-06\n",
      "LimVal0:7.000000000000001e-06\n"
     ]
    },
    {
     "data": {
      "application/vnd.jupyter.widget-view+json": {
       "model_id": "e1037b3b12904d3288946f80881d86f8",
       "version_major": 2,
       "version_minor": 0
      },
      "text/plain": [
       "Running Simulation :   0%|          | 0/200 [00:00<?, ?it/s]"
      ]
     },
     "metadata": {},
     "output_type": "display_data"
    },
    {
     "name": "stdout",
     "output_type": "stream",
     "text": [
      "Target:1\n",
      "Currents: [-5.094000695976538e-07, 2.46583960638732e-05]\n",
      "LimVal1:7.000000000000001e-06\n",
      "LimVal0:7.000000000000001e-06\n"
     ]
    },
    {
     "data": {
      "application/vnd.jupyter.widget-view+json": {
       "model_id": "76fbdeef750f476db763f40c9bb8ab97",
       "version_major": 2,
       "version_minor": 0
      },
      "text/plain": [
       "Running Simulation :   0%|          | 0/200 [00:00<?, ?it/s]"
      ]
     },
     "metadata": {},
     "output_type": "display_data"
    },
    {
     "name": "stdout",
     "output_type": "stream",
     "text": [
      "Target:0\n",
      "Target: 0.0\n",
      "Accuracy: 0.06\n",
      "Currents: [8.826765182876937e-08, 1.0373287353444686e-06]\n",
      "LimVal1:6.5000000000000004e-06\n",
      "LimVal0:8.000000000000001e-06\n"
     ]
    },
    {
     "data": {
      "application/vnd.jupyter.widget-view+json": {
       "model_id": "622f8f5adfe14f20a368c0e67f662e76",
       "version_major": 2,
       "version_minor": 0
      },
      "text/plain": [
       "Running Simulation :   0%|          | 0/200 [00:00<?, ?it/s]"
      ]
     },
     "metadata": {},
     "output_type": "display_data"
    },
    {
     "name": "stdout",
     "output_type": "stream",
     "text": [
      "Target:1\n",
      "Currents: [-3.014947327639892e-07, 6.620594848595073e-06]\n",
      "LimVal1:6.5000000000000004e-06\n",
      "LimVal0:8.000000000000001e-06\n"
     ]
    },
    {
     "data": {
      "application/vnd.jupyter.widget-view+json": {
       "model_id": "980781ec76cd4471b2ebbfa5f5bba003",
       "version_major": 2,
       "version_minor": 0
      },
      "text/plain": [
       "Running Simulation :   0%|          | 0/200 [00:00<?, ?it/s]"
      ]
     },
     "metadata": {},
     "output_type": "display_data"
    },
    {
     "name": "stdout",
     "output_type": "stream",
     "text": [
      "Target:0\n",
      "Currents: [1.036035921835168e-05, -8.439611250946462e-07]\n",
      "LimVal1:6.5000000000000004e-06\n",
      "LimVal0:8.000000000000001e-06\n"
     ]
    },
    {
     "data": {
      "application/vnd.jupyter.widget-view+json": {
       "model_id": "f809731f25984472b0d54783ce38e8db",
       "version_major": 2,
       "version_minor": 0
      },
      "text/plain": [
       "Running Simulation :   0%|          | 0/200 [00:00<?, ?it/s]"
      ]
     },
     "metadata": {},
     "output_type": "display_data"
    },
    {
     "name": "stdout",
     "output_type": "stream",
     "text": [
      "Target:1\n",
      "Target: 1.0\n",
      "Accuracy: 0.0\n",
      "Currents: [3.9709163765602925e-06, 1.2102195222499233e-07]\n",
      "LimVal1:7.500000000000001e-06\n",
      "LimVal0:7.500000000000001e-06\n"
     ]
    },
    {
     "data": {
      "application/vnd.jupyter.widget-view+json": {
       "model_id": "7a4a0ace80ca45ddb53aa0b718471da4",
       "version_major": 2,
       "version_minor": 0
      },
      "text/plain": [
       "Running Simulation :   0%|          | 0/200 [00:00<?, ?it/s]"
      ]
     },
     "metadata": {},
     "output_type": "display_data"
    },
    {
     "name": "stdout",
     "output_type": "stream",
     "text": [
      "Target:0\n",
      "Currents: [8.045568953973173e-06, -3.410846214867922e-07]\n",
      "LimVal1:7.500000000000001e-06\n",
      "LimVal0:7.500000000000001e-06\n"
     ]
    },
    {
     "data": {
      "application/vnd.jupyter.widget-view+json": {
       "model_id": "f6cc31d314f04b85a3299dce387ef917",
       "version_major": 2,
       "version_minor": 0
      },
      "text/plain": [
       "Running Simulation :   0%|          | 0/200 [00:00<?, ?it/s]"
      ]
     },
     "metadata": {},
     "output_type": "display_data"
    },
    {
     "name": "stdout",
     "output_type": "stream",
     "text": [
      "Target:0\n",
      "Currents: [9.041219467549813e-06, -2.3175411460680738e-07]\n",
      "LimVal1:7.500000000000001e-06\n",
      "LimVal0:7.500000000000001e-06\n"
     ]
    },
    {
     "data": {
      "application/vnd.jupyter.widget-view+json": {
       "model_id": "8f5c52790717454a87d3645f901659b1",
       "version_major": 2,
       "version_minor": 0
      },
      "text/plain": [
       "Running Simulation :   0%|          | 0/200 [00:00<?, ?it/s]"
      ]
     },
     "metadata": {},
     "output_type": "display_data"
    },
    {
     "name": "stdout",
     "output_type": "stream",
     "text": [
      "Target:0\n",
      "Target: 0.0\n",
      "Accuracy: 1.0\n",
      "Currents: [2.504642760178111e-06, 1.5128827128509182e-08]\n",
      "LimVal1:7.500000000000001e-06\n",
      "LimVal0:7.500000000000001e-06\n"
     ]
    },
    {
     "data": {
      "application/vnd.jupyter.widget-view+json": {
       "model_id": "f2d8745108a24917a3bb2617ad508421",
       "version_major": 2,
       "version_minor": 0
      },
      "text/plain": [
       "Running Simulation :   0%|          | 0/200 [00:00<?, ?it/s]"
      ]
     },
     "metadata": {},
     "output_type": "display_data"
    },
    {
     "name": "stdout",
     "output_type": "stream",
     "text": [
      "Target:1\n",
      "Currents: [-3.5582423398720255e-06, 1.9424815858074857e-05]\n",
      "LimVal1:7.500000000000001e-06\n",
      "LimVal0:7.500000000000001e-06\n"
     ]
    },
    {
     "data": {
      "application/vnd.jupyter.widget-view+json": {
       "model_id": "a177118975f94ec5860a2af0905ec118",
       "version_major": 2,
       "version_minor": 0
      },
      "text/plain": [
       "Running Simulation :   0%|          | 0/200 [00:00<?, ?it/s]"
      ]
     },
     "metadata": {},
     "output_type": "display_data"
    },
    {
     "name": "stdout",
     "output_type": "stream",
     "text": [
      "Target:0\n",
      "Currents: [1.0717338682121525e-05, -2.407286990221002e-07]\n",
      "LimVal1:7.500000000000001e-06\n",
      "LimVal0:7.500000000000001e-06\n"
     ]
    },
    {
     "data": {
      "application/vnd.jupyter.widget-view+json": {
       "model_id": "6ef2c34e6d6743f995e46744de6d9e88",
       "version_major": 2,
       "version_minor": 0
      },
      "text/plain": [
       "Running Simulation :   0%|          | 0/200 [00:00<?, ?it/s]"
      ]
     },
     "metadata": {},
     "output_type": "display_data"
    },
    {
     "name": "stdout",
     "output_type": "stream",
     "text": [
      "Target:1\n",
      "Target: 1.0\n",
      "Accuracy: 0.0\n",
      "Currents: [4.017072446998617e-06, 4.4386454888514365e-08]\n",
      "LimVal1:8.500000000000002e-06\n",
      "LimVal0:7.000000000000001e-06\n"
     ]
    },
    {
     "data": {
      "application/vnd.jupyter.widget-view+json": {
       "model_id": "c64b1ad0228c4206afed330bc604e4f8",
       "version_major": 2,
       "version_minor": 0
      },
      "text/plain": [
       "Running Simulation :   0%|          | 0/200 [00:00<?, ?it/s]"
      ]
     },
     "metadata": {},
     "output_type": "display_data"
    },
    {
     "name": "stdout",
     "output_type": "stream",
     "text": [
      "Target:0\n",
      "Currents: [7.032462136215905e-06, -2.742717145203692e-07]\n",
      "LimVal1:8.500000000000002e-06\n",
      "LimVal0:7.000000000000001e-06\n"
     ]
    },
    {
     "data": {
      "application/vnd.jupyter.widget-view+json": {
       "model_id": "97585dea2b2c49979c0268c2890a4f18",
       "version_major": 2,
       "version_minor": 0
      },
      "text/plain": [
       "Running Simulation :   0%|          | 0/200 [00:00<?, ?it/s]"
      ]
     },
     "metadata": {},
     "output_type": "display_data"
    },
    {
     "name": "stdout",
     "output_type": "stream",
     "text": [
      "Target:1\n",
      "Currents: [-6.787656939986382e-07, 2.4385203775447418e-05]\n",
      "LimVal1:8.500000000000002e-06\n",
      "LimVal0:7.000000000000001e-06\n"
     ]
    },
    {
     "data": {
      "application/vnd.jupyter.widget-view+json": {
       "model_id": "dfb1d55d6ce74c2c87703c82a2b12f62",
       "version_major": 2,
       "version_minor": 0
      },
      "text/plain": [
       "Running Simulation :   0%|          | 0/200 [00:00<?, ?it/s]"
      ]
     },
     "metadata": {},
     "output_type": "display_data"
    },
    {
     "name": "stdout",
     "output_type": "stream",
     "text": [
      "Target:0\n",
      "Target: 0.0\n",
      "Accuracy: 0.49\n",
      "Currents: [9.313640860653445e-07, 1.8614379109903602e-06]\n",
      "LimVal1:8.000000000000001e-06\n",
      "LimVal0:8.000000000000001e-06\n"
     ]
    },
    {
     "data": {
      "application/vnd.jupyter.widget-view+json": {
       "model_id": "696dd73b3dcf408fb225b29379b73549",
       "version_major": 2,
       "version_minor": 0
      },
      "text/plain": [
       "Running Simulation :   0%|          | 0/200 [00:00<?, ?it/s]"
      ]
     },
     "metadata": {},
     "output_type": "display_data"
    },
    {
     "name": "stdout",
     "output_type": "stream",
     "text": [
      "Target:1\n",
      "Currents: [-5.850526591984724e-07, 8.08776947665254e-06]\n",
      "LimVal1:8.000000000000001e-06\n",
      "LimVal0:8.000000000000001e-06\n"
     ]
    },
    {
     "data": {
      "application/vnd.jupyter.widget-view+json": {
       "model_id": "ec5c075439b6495d892537ecc56d03f9",
       "version_major": 2,
       "version_minor": 0
      },
      "text/plain": [
       "Running Simulation :   0%|          | 0/200 [00:00<?, ?it/s]"
      ]
     },
     "metadata": {},
     "output_type": "display_data"
    },
    {
     "name": "stdout",
     "output_type": "stream",
     "text": [
      "Target:0\n",
      "Currents: [1.1386760743382274e-05, -6.426046502372698e-07]\n",
      "LimVal1:8.000000000000001e-06\n",
      "LimVal0:8.000000000000001e-06\n"
     ]
    },
    {
     "data": {
      "application/vnd.jupyter.widget-view+json": {
       "model_id": "0c82d3824bd7410893c0d45ee61cb8ea",
       "version_major": 2,
       "version_minor": 0
      },
      "text/plain": [
       "Running Simulation :   0%|          | 0/200 [00:00<?, ?it/s]"
      ]
     },
     "metadata": {},
     "output_type": "display_data"
    },
    {
     "name": "stdout",
     "output_type": "stream",
     "text": [
      "Target:1\n",
      "Target: 1.0\n",
      "Accuracy: 0.095\n",
      "Currents: [2.5014754610370504e-06, 2.4485438985932404e-06]\n",
      "LimVal1:9.000000000000002e-06\n",
      "LimVal0:7.500000000000001e-06\n"
     ]
    },
    {
     "data": {
      "application/vnd.jupyter.widget-view+json": {
       "model_id": "da3a19b19cfd496987b2bfef93da4f59",
       "version_major": 2,
       "version_minor": 0
      },
      "text/plain": [
       "Running Simulation :   0%|          | 0/200 [00:00<?, ?it/s]"
      ]
     },
     "metadata": {},
     "output_type": "display_data"
    },
    {
     "name": "stdout",
     "output_type": "stream",
     "text": [
      "Target:1\n",
      "Currents: [-2.991832407024127e-07, 9.147175093620538e-06]\n",
      "LimVal1:9.000000000000002e-06\n",
      "LimVal0:7.500000000000001e-06\n"
     ]
    },
    {
     "data": {
      "application/vnd.jupyter.widget-view+json": {
       "model_id": "92879103d2604753b9f6abba59fef3bf",
       "version_major": 2,
       "version_minor": 0
      },
      "text/plain": [
       "Running Simulation :   0%|          | 0/200 [00:00<?, ?it/s]"
      ]
     },
     "metadata": {},
     "output_type": "display_data"
    },
    {
     "name": "stdout",
     "output_type": "stream",
     "text": [
      "Target:0\n",
      "Currents: [9.470979833047958e-06, -2.9277475047868613e-07]\n",
      "LimVal1:9.000000000000002e-06\n",
      "LimVal0:7.500000000000001e-06\n"
     ]
    },
    {
     "data": {
      "application/vnd.jupyter.widget-view+json": {
       "model_id": "36b04456eb844671a224e684b2f76b8f",
       "version_major": 2,
       "version_minor": 0
      },
      "text/plain": [
       "Running Simulation :   0%|          | 0/200 [00:00<?, ?it/s]"
      ]
     },
     "metadata": {},
     "output_type": "display_data"
    },
    {
     "name": "stdout",
     "output_type": "stream",
     "text": [
      "Target:1\n",
      "Target: 1.0\n",
      "Accuracy: 0.0\n",
      "Currents: [2.928145712297602e-06, 2.653714942951867e-06]\n",
      "LimVal1:1.0000000000000003e-05\n",
      "LimVal0:7.000000000000001e-06\n"
     ]
    },
    {
     "data": {
      "application/vnd.jupyter.widget-view+json": {
       "model_id": "267e89d8109f4379999b00852b3a5866",
       "version_major": 2,
       "version_minor": 0
      },
      "text/plain": [
       "Running Simulation :   0%|          | 0/200 [00:00<?, ?it/s]"
      ]
     },
     "metadata": {},
     "output_type": "display_data"
    },
    {
     "name": "stdout",
     "output_type": "stream",
     "text": [
      "Target:0\n",
      "Currents: [7.610475738767339e-06, 2.606546957135778e-07]\n",
      "LimVal1:1.0000000000000003e-05\n",
      "LimVal0:7.000000000000001e-06\n"
     ]
    },
    {
     "data": {
      "application/vnd.jupyter.widget-view+json": {
       "model_id": "9c8f2f26c6b442d6a6351a30640b83dd",
       "version_major": 2,
       "version_minor": 0
      },
      "text/plain": [
       "Running Simulation :   0%|          | 0/200 [00:00<?, ?it/s]"
      ]
     },
     "metadata": {},
     "output_type": "display_data"
    },
    {
     "name": "stdout",
     "output_type": "stream",
     "text": [
      "Target:1\n",
      "Currents: [-3.459059660811496e-07, 1.1571242799720567e-05]\n",
      "LimVal1:1.0000000000000003e-05\n",
      "LimVal0:7.000000000000001e-06\n"
     ]
    },
    {
     "data": {
      "application/vnd.jupyter.widget-view+json": {
       "model_id": "93f409b773c7459da24a7b818bdd281c",
       "version_major": 2,
       "version_minor": 0
      },
      "text/plain": [
       "Running Simulation :   0%|          | 0/200 [00:00<?, ?it/s]"
      ]
     },
     "metadata": {},
     "output_type": "display_data"
    },
    {
     "name": "stdout",
     "output_type": "stream",
     "text": [
      "Target:0\n",
      "Target: 0.0\n",
      "Accuracy: 0.32\n",
      "Currents: [1.3935387346061319e-06, 2.1374158959925297e-06]\n",
      "LimVal1:9.500000000000002e-06\n",
      "LimVal0:8.000000000000001e-06\n"
     ]
    },
    {
     "data": {
      "application/vnd.jupyter.widget-view+json": {
       "model_id": "a281857f9f024e0a812ef0a59da37024",
       "version_major": 2,
       "version_minor": 0
      },
      "text/plain": [
       "Running Simulation :   0%|          | 0/200 [00:00<?, ?it/s]"
      ]
     },
     "metadata": {},
     "output_type": "display_data"
    },
    {
     "name": "stdout",
     "output_type": "stream",
     "text": [
      "Target:1\n",
      "Currents: [-2.3291749452477888e-07, 9.743326227724711e-06]\n",
      "LimVal1:9.500000000000002e-06\n",
      "LimVal0:8.000000000000001e-06\n"
     ]
    },
    {
     "data": {
      "application/vnd.jupyter.widget-view+json": {
       "model_id": "3ad3123c6e4b44dcabcf104075a06143",
       "version_major": 2,
       "version_minor": 0
      },
      "text/plain": [
       "Running Simulation :   0%|          | 0/200 [00:00<?, ?it/s]"
      ]
     },
     "metadata": {},
     "output_type": "display_data"
    },
    {
     "name": "stdout",
     "output_type": "stream",
     "text": [
      "Target:1\n",
      "Currents: [-7.379452109746738e-08, 9.94112894773884e-06]\n",
      "LimVal1:9.500000000000002e-06\n",
      "LimVal0:8.000000000000001e-06\n"
     ]
    },
    {
     "data": {
      "application/vnd.jupyter.widget-view+json": {
       "model_id": "6e774bc7da174590b757ceac583db661",
       "version_major": 2,
       "version_minor": 0
      },
      "text/plain": [
       "Running Simulation :   0%|          | 0/200 [00:00<?, ?it/s]"
      ]
     },
     "metadata": {},
     "output_type": "display_data"
    },
    {
     "name": "stdout",
     "output_type": "stream",
     "text": [
      "Target:1\n",
      "Target: 1.0\n",
      "Accuracy: 1.0\n",
      "Currents: [4.3758409344870684e-08, 6.185616420702442e-06]\n",
      "LimVal1:9.500000000000002e-06\n",
      "LimVal0:8.000000000000001e-06\n"
     ]
    },
    {
     "data": {
      "application/vnd.jupyter.widget-view+json": {
       "model_id": "ae720274d49f45d7a2d61b5574988558",
       "version_major": 2,
       "version_minor": 0
      },
      "text/plain": [
       "Running Simulation :   0%|          | 0/200 [00:00<?, ?it/s]"
      ]
     },
     "metadata": {},
     "output_type": "display_data"
    },
    {
     "name": "stdout",
     "output_type": "stream",
     "text": [
      "Target:0\n",
      "Currents: [1.4523443122903327e-05, 2.431872866592246e-07]\n",
      "LimVal1:9.500000000000002e-06\n",
      "LimVal0:8.000000000000001e-06\n"
     ]
    },
    {
     "data": {
      "application/vnd.jupyter.widget-view+json": {
       "model_id": "aa8cb5b7465c4027955f5585cdfe8d1a",
       "version_major": 2,
       "version_minor": 0
      },
      "text/plain": [
       "Running Simulation :   0%|          | 0/200 [00:00<?, ?it/s]"
      ]
     },
     "metadata": {},
     "output_type": "display_data"
    },
    {
     "name": "stdout",
     "output_type": "stream",
     "text": [
      "Target:0\n",
      "Currents: [8.84182410258221e-06, -4.935530051376515e-06]\n",
      "LimVal1:9.500000000000002e-06\n",
      "LimVal0:8.000000000000001e-06\n"
     ]
    },
    {
     "data": {
      "application/vnd.jupyter.widget-view+json": {
       "model_id": "ad46a7be04264b5c86bcc91e81a8a4e3",
       "version_major": 2,
       "version_minor": 0
      },
      "text/plain": [
       "Running Simulation :   0%|          | 0/200 [00:00<?, ?it/s]"
      ]
     },
     "metadata": {},
     "output_type": "display_data"
    },
    {
     "name": "stdout",
     "output_type": "stream",
     "text": [
      "Target:0\n",
      "Target: 0.0\n",
      "Accuracy: 0.0\n",
      "Currents: [6.663251282409138e-08, 2.773470041096864e-07]\n",
      "LimVal1:9.000000000000002e-06\n",
      "LimVal0:9.000000000000002e-06\n"
     ]
    },
    {
     "data": {
      "application/vnd.jupyter.widget-view+json": {
       "model_id": "efb360beca2e4817a734ec13bd26888f",
       "version_major": 2,
       "version_minor": 0
      },
      "text/plain": [
       "Running Simulation :   0%|          | 0/200 [00:00<?, ?it/s]"
      ]
     },
     "metadata": {},
     "output_type": "display_data"
    },
    {
     "name": "stdout",
     "output_type": "stream",
     "text": [
      "Target:1\n",
      "Currents: [-4.488931881848153e-08, 9.073866869512023e-06]\n",
      "LimVal1:9.000000000000002e-06\n",
      "LimVal0:9.000000000000002e-06\n"
     ]
    },
    {
     "data": {
      "application/vnd.jupyter.widget-view+json": {
       "model_id": "73892b6e98f74b628c78beae972a5f55",
       "version_major": 2,
       "version_minor": 0
      },
      "text/plain": [
       "Running Simulation :   0%|          | 0/200 [00:00<?, ?it/s]"
      ]
     },
     "metadata": {},
     "output_type": "display_data"
    },
    {
     "name": "stdout",
     "output_type": "stream",
     "text": [
      "Target:0\n",
      "Currents: [2.0196893541003488e-05, -3.6290629582178175e-07]\n",
      "LimVal1:9.000000000000002e-06\n",
      "LimVal0:9.000000000000002e-06\n"
     ]
    },
    {
     "data": {
      "application/vnd.jupyter.widget-view+json": {
       "model_id": "e0701ad84181444ea85ab8c002766d08",
       "version_major": 2,
       "version_minor": 0
      },
      "text/plain": [
       "Running Simulation :   0%|          | 0/200 [00:00<?, ?it/s]"
      ]
     },
     "metadata": {},
     "output_type": "display_data"
    },
    {
     "name": "stdout",
     "output_type": "stream",
     "text": [
      "Target:1\n",
      "Target: 1.0\n",
      "Accuracy: 0.0\n",
      "Currents: [3.907392649928766e-06, 4.9349658411973835e-08]\n",
      "LimVal1:1.0000000000000003e-05\n",
      "LimVal0:8.500000000000002e-06\n"
     ]
    },
    {
     "data": {
      "application/vnd.jupyter.widget-view+json": {
       "model_id": "c991c5f21cee4bd59f84bc45e1fd294d",
       "version_major": 2,
       "version_minor": 0
      },
      "text/plain": [
       "Running Simulation :   0%|          | 0/200 [00:00<?, ?it/s]"
      ]
     },
     "metadata": {},
     "output_type": "display_data"
    },
    {
     "name": "stdout",
     "output_type": "stream",
     "text": [
      "Target:1\n",
      "Currents: [-2.8353259680406376e-06, 1.110546204161058e-05]\n",
      "LimVal1:1.0000000000000003e-05\n",
      "LimVal0:8.500000000000002e-06\n"
     ]
    },
    {
     "data": {
      "application/vnd.jupyter.widget-view+json": {
       "model_id": "06eb00de17844c9d8d4c2a312cee7eea",
       "version_major": 2,
       "version_minor": 0
      },
      "text/plain": [
       "Running Simulation :   0%|          | 0/200 [00:00<?, ?it/s]"
      ]
     },
     "metadata": {},
     "output_type": "display_data"
    },
    {
     "name": "stdout",
     "output_type": "stream",
     "text": [
      "Target:1\n",
      "Currents: [-3.2180609403376836e-07, 1.104106070581175e-05]\n",
      "LimVal1:1.0000000000000003e-05\n",
      "LimVal0:8.500000000000002e-06\n"
     ]
    },
    {
     "data": {
      "application/vnd.jupyter.widget-view+json": {
       "model_id": "92e96054dadb42c483062f3ea3f85cf8",
       "version_major": 2,
       "version_minor": 0
      },
      "text/plain": [
       "Running Simulation :   0%|          | 0/200 [00:00<?, ?it/s]"
      ]
     },
     "metadata": {},
     "output_type": "display_data"
    },
    {
     "name": "stdout",
     "output_type": "stream",
     "text": [
      "Target:1\n",
      "Target: 1.0\n",
      "Accuracy: 0.63\n",
      "Currents: [3.3801352811466972e-06, 3.2631838244887907e-06]\n",
      "LimVal1:1.1000000000000003e-05\n",
      "LimVal0:8.000000000000001e-06\n"
     ]
    },
    {
     "data": {
      "application/vnd.jupyter.widget-view+json": {
       "model_id": "8e3692d25ae44513825fa026fb71b165",
       "version_major": 2,
       "version_minor": 0
      },
      "text/plain": [
       "Running Simulation :   0%|          | 0/200 [00:00<?, ?it/s]"
      ]
     },
     "metadata": {},
     "output_type": "display_data"
    },
    {
     "name": "stdout",
     "output_type": "stream",
     "text": [
      "Target:0\n",
      "Currents: [8.466460857504258e-06, -1.9282140607331335e-06]\n",
      "LimVal1:1.1000000000000003e-05\n",
      "LimVal0:8.000000000000001e-06\n"
     ]
    },
    {
     "data": {
      "application/vnd.jupyter.widget-view+json": {
       "model_id": "8a523138c35d4e7288f340c7933280b6",
       "version_major": 2,
       "version_minor": 0
      },
      "text/plain": [
       "Running Simulation :   0%|          | 0/200 [00:00<?, ?it/s]"
      ]
     },
     "metadata": {},
     "output_type": "display_data"
    },
    {
     "name": "stdout",
     "output_type": "stream",
     "text": [
      "Target:0\n",
      "Currents: [8.41828813692101e-06, -2.642426307332565e-07]\n",
      "LimVal1:1.1000000000000003e-05\n",
      "LimVal0:8.000000000000001e-06\n"
     ]
    },
    {
     "data": {
      "application/vnd.jupyter.widget-view+json": {
       "model_id": "65614cfcc41f4f9e9f581cff27bc92f0",
       "version_major": 2,
       "version_minor": 0
      },
      "text/plain": [
       "Running Simulation :   0%|          | 0/200 [00:00<?, ?it/s]"
      ]
     },
     "metadata": {},
     "output_type": "display_data"
    },
    {
     "name": "stdout",
     "output_type": "stream",
     "text": [
      "Target:0\n",
      "Target: 0.0\n",
      "Accuracy: 1.0\n",
      "Currents: [2.7677098469737988e-06, 1.5780342439159643e-08]\n",
      "LimVal1:1.1000000000000003e-05\n",
      "LimVal0:8.000000000000001e-06\n"
     ]
    },
    {
     "data": {
      "application/vnd.jupyter.widget-view+json": {
       "model_id": "73be940bcb524a19b0bafa8179036120",
       "version_major": 2,
       "version_minor": 0
      },
      "text/plain": [
       "Running Simulation :   0%|          | 0/200 [00:00<?, ?it/s]"
      ]
     },
     "metadata": {},
     "output_type": "display_data"
    },
    {
     "name": "stdout",
     "output_type": "stream",
     "text": [
      "Target:0\n",
      "Currents: [8.065752040259414e-06, -2.0255530820688182e-07]\n",
      "LimVal1:1.1000000000000003e-05\n",
      "LimVal0:8.000000000000001e-06\n"
     ]
    },
    {
     "data": {
      "application/vnd.jupyter.widget-view+json": {
       "model_id": "bc901cc11de8438ba2edf1faecac8993",
       "version_major": 2,
       "version_minor": 0
      },
      "text/plain": [
       "Running Simulation :   0%|          | 0/200 [00:00<?, ?it/s]"
      ]
     },
     "metadata": {},
     "output_type": "display_data"
    },
    {
     "name": "stdout",
     "output_type": "stream",
     "text": [
      "Target:1\n",
      "Currents: [-6.319036016142999e-07, 1.6290657453484352e-05]\n",
      "LimVal1:1.1000000000000003e-05\n",
      "LimVal0:8.000000000000001e-06\n"
     ]
    },
    {
     "data": {
      "application/vnd.jupyter.widget-view+json": {
       "model_id": "cca33398c11d4c2e95095c3a7421dc91",
       "version_major": 2,
       "version_minor": 0
      },
      "text/plain": [
       "Running Simulation :   0%|          | 0/200 [00:00<?, ?it/s]"
      ]
     },
     "metadata": {},
     "output_type": "display_data"
    },
    {
     "name": "stdout",
     "output_type": "stream",
     "text": [
      "Target:0\n",
      "Target: 0.0\n",
      "Accuracy: 0.115\n",
      "Currents: [2.2109645564729085e-08, 1.1623924323559466e-07]\n",
      "LimVal1:1.0500000000000003e-05\n",
      "LimVal0:9.000000000000002e-06\n"
     ]
    },
    {
     "data": {
      "application/vnd.jupyter.widget-view+json": {
       "model_id": "a2b0f92b9e3d4fc8ba9da3b55cdc6174",
       "version_major": 2,
       "version_minor": 0
      },
      "text/plain": [
       "Running Simulation :   0%|          | 0/200 [00:00<?, ?it/s]"
      ]
     },
     "metadata": {},
     "output_type": "display_data"
    },
    {
     "name": "stdout",
     "output_type": "stream",
     "text": [
      "Target:0\n",
      "Currents: [1.5039620146042902e-05, -2.220660402551927e-07]\n",
      "LimVal1:1.0500000000000003e-05\n",
      "LimVal0:9.000000000000002e-06\n"
     ]
    },
    {
     "data": {
      "application/vnd.jupyter.widget-view+json": {
       "model_id": "da2a0c789cd44911921ba7260d34879f",
       "version_major": 2,
       "version_minor": 0
      },
      "text/plain": [
       "Running Simulation :   0%|          | 0/200 [00:00<?, ?it/s]"
      ]
     },
     "metadata": {},
     "output_type": "display_data"
    },
    {
     "name": "stdout",
     "output_type": "stream",
     "text": [
      "Target:1\n",
      "Currents: [-1.6584649799008963e-07, 1.3669853947371532e-05]\n",
      "LimVal1:1.0500000000000003e-05\n",
      "LimVal0:9.000000000000002e-06\n"
     ]
    },
    {
     "data": {
      "application/vnd.jupyter.widget-view+json": {
       "model_id": "52685aa2091d4d6894d4b3f563d5a9c6",
       "version_major": 2,
       "version_minor": 0
      },
      "text/plain": [
       "Running Simulation :   0%|          | 0/200 [00:00<?, ?it/s]"
      ]
     },
     "metadata": {},
     "output_type": "display_data"
    },
    {
     "name": "stdout",
     "output_type": "stream",
     "text": [
      "Target:0\n",
      "Target: 0.0\n",
      "Accuracy: 0.0\n",
      "Currents: [8.060028089101308e-09, 1.284363135717462e-07]\n",
      "LimVal1:1.0000000000000003e-05\n",
      "LimVal0:1.0000000000000003e-05\n"
     ]
    },
    {
     "data": {
      "application/vnd.jupyter.widget-view+json": {
       "model_id": "60755d7514784a2bacb52b87d6263cea",
       "version_major": 2,
       "version_minor": 0
      },
      "text/plain": [
       "Running Simulation :   0%|          | 0/200 [00:00<?, ?it/s]"
      ]
     },
     "metadata": {},
     "output_type": "display_data"
    },
    {
     "name": "stdout",
     "output_type": "stream",
     "text": [
      "Target:1\n",
      "Currents: [-2.0613343376824032e-07, 1.0276181479007636e-05]\n",
      "LimVal1:1.0000000000000003e-05\n",
      "LimVal0:1.0000000000000003e-05\n"
     ]
    },
    {
     "data": {
      "application/vnd.jupyter.widget-view+json": {
       "model_id": "a7b42f97a7654e359f5071a7157497cb",
       "version_major": 2,
       "version_minor": 0
      },
      "text/plain": [
       "Running Simulation :   0%|          | 0/200 [00:00<?, ?it/s]"
      ]
     },
     "metadata": {},
     "output_type": "display_data"
    },
    {
     "name": "stdout",
     "output_type": "stream",
     "text": [
      "Target:0\n",
      "Currents: [1.0290984664178615e-05, -1.7064558568614993e-06]\n",
      "LimVal1:1.0000000000000003e-05\n",
      "LimVal0:1.0000000000000003e-05\n"
     ]
    },
    {
     "data": {
      "application/vnd.jupyter.widget-view+json": {
       "model_id": "5c13ccb24a474e418b42ad52bbef8cfb",
       "version_major": 2,
       "version_minor": 0
      },
      "text/plain": [
       "Running Simulation :   0%|          | 0/200 [00:00<?, ?it/s]"
      ]
     },
     "metadata": {},
     "output_type": "display_data"
    },
    {
     "name": "stdout",
     "output_type": "stream",
     "text": [
      "Target:1\n",
      "Target: 1.0\n",
      "Accuracy: 0.16\n",
      "Currents: [4.3183790076576065e-06, 4.16208057192724e-06]\n",
      "LimVal1:1.1000000000000003e-05\n",
      "LimVal0:9.500000000000002e-06\n"
     ]
    },
    {
     "data": {
      "application/vnd.jupyter.widget-view+json": {
       "model_id": "36ca8ee6a680463d931d1825d6ef74d8",
       "version_major": 2,
       "version_minor": 0
      },
      "text/plain": [
       "Running Simulation :   0%|          | 0/200 [00:00<?, ?it/s]"
      ]
     },
     "metadata": {},
     "output_type": "display_data"
    },
    {
     "name": "stdout",
     "output_type": "stream",
     "text": [
      "Target:1\n",
      "Currents: [-6.710694188690398e-07, 1.1142807255516481e-05]\n",
      "LimVal1:1.1000000000000003e-05\n",
      "LimVal0:9.500000000000002e-06\n"
     ]
    },
    {
     "data": {
      "application/vnd.jupyter.widget-view+json": {
       "model_id": "3ed032d932504493bf1fc2c8b2285ae7",
       "version_major": 2,
       "version_minor": 0
      },
      "text/plain": [
       "Running Simulation :   0%|          | 0/200 [00:00<?, ?it/s]"
      ]
     },
     "metadata": {},
     "output_type": "display_data"
    },
    {
     "name": "stdout",
     "output_type": "stream",
     "text": [
      "Target:0\n",
      "Currents: [1.1072526356519346e-05, -1.963705535969914e-06]\n",
      "LimVal1:1.1000000000000003e-05\n",
      "LimVal0:9.500000000000002e-06\n"
     ]
    },
    {
     "data": {
      "application/vnd.jupyter.widget-view+json": {
       "model_id": "c2f271468c8e4d0c9fca1e0905624ccd",
       "version_major": 2,
       "version_minor": 0
      },
      "text/plain": [
       "Running Simulation :   0%|          | 0/200 [00:00<?, ?it/s]"
      ]
     },
     "metadata": {},
     "output_type": "display_data"
    },
    {
     "name": "stdout",
     "output_type": "stream",
     "text": [
      "Target:1\n",
      "Target: 1.0\n",
      "Accuracy: 0.045\n",
      "Currents: [3.603190976292277e-06, 2.7373599438729868e-06]\n",
      "LimVal1:1.2000000000000004e-05\n",
      "LimVal0:9.000000000000002e-06\n"
     ]
    },
    {
     "data": {
      "application/vnd.jupyter.widget-view+json": {
       "model_id": "68471ba30c5140449137e713e3d51ec2",
       "version_major": 2,
       "version_minor": 0
      },
      "text/plain": [
       "Running Simulation :   0%|          | 0/200 [00:00<?, ?it/s]"
      ]
     },
     "metadata": {},
     "output_type": "display_data"
    },
    {
     "name": "stdout",
     "output_type": "stream",
     "text": [
      "Target:1\n",
      "Currents: [-6.793131909544874e-07, 1.234546784613447e-05]\n",
      "LimVal1:1.2000000000000004e-05\n",
      "LimVal0:9.000000000000002e-06\n"
     ]
    },
    {
     "data": {
      "application/vnd.jupyter.widget-view+json": {
       "model_id": "c3832ef5adad4fd2803b024350fd88a4",
       "version_major": 2,
       "version_minor": 0
      },
      "text/plain": [
       "Running Simulation :   0%|          | 0/200 [00:00<?, ?it/s]"
      ]
     },
     "metadata": {},
     "output_type": "display_data"
    },
    {
     "name": "stdout",
     "output_type": "stream",
     "text": [
      "Target:1\n",
      "Currents: [-1.4578458801049102e-07, 1.2517656816817964e-05]\n",
      "LimVal1:1.2000000000000004e-05\n",
      "LimVal0:9.000000000000002e-06\n"
     ]
    },
    {
     "data": {
      "application/vnd.jupyter.widget-view+json": {
       "model_id": "885e30fe69f4449083f670a452c74479",
       "version_major": 2,
       "version_minor": 0
      },
      "text/plain": [
       "Running Simulation :   0%|          | 0/200 [00:00<?, ?it/s]"
      ]
     },
     "metadata": {},
     "output_type": "display_data"
    },
    {
     "name": "stdout",
     "output_type": "stream",
     "text": [
      "Target:1\n",
      "Target: 1.0\n",
      "Accuracy: 0.995\n",
      "Currents: [3.729412273924101e-06, 6.419953997707298e-06]\n",
      "LimVal1:1.2000000000000004e-05\n",
      "LimVal0:9.000000000000002e-06\n"
     ]
    },
    {
     "data": {
      "application/vnd.jupyter.widget-view+json": {
       "model_id": "0bbf3944be83442098ff1d91779dd217",
       "version_major": 2,
       "version_minor": 0
      },
      "text/plain": [
       "Running Simulation :   0%|          | 0/200 [00:00<?, ?it/s]"
      ]
     },
     "metadata": {},
     "output_type": "display_data"
    },
    {
     "name": "stdout",
     "output_type": "stream",
     "text": [
      "Target:1\n",
      "Currents: [8.766388884306244e-08, 1.0136576908205982e-05]\n",
      "LimVal1:1.2000000000000004e-05\n",
      "LimVal0:9.000000000000002e-06\n"
     ]
    },
    {
     "data": {
      "application/vnd.jupyter.widget-view+json": {
       "model_id": "297795469bce46c386ec72fdf2c11bcb",
       "version_major": 2,
       "version_minor": 0
      },
      "text/plain": [
       "Running Simulation :   0%|          | 0/200 [00:00<?, ?it/s]"
      ]
     },
     "metadata": {},
     "output_type": "display_data"
    },
    {
     "name": "stdout",
     "output_type": "stream",
     "text": [
      "Target:0\n",
      "Currents: [9.352405960992425e-06, 1.4111903517367375e-05]\n",
      "LimVal1:1.2000000000000004e-05\n",
      "LimVal0:9.000000000000002e-06\n"
     ]
    },
    {
     "data": {
      "application/vnd.jupyter.widget-view+json": {
       "model_id": "2c78f70243d34d538fa89df85ad114e7",
       "version_major": 2,
       "version_minor": 0
      },
      "text/plain": [
       "Running Simulation :   0%|          | 0/200 [00:00<?, ?it/s]"
      ]
     },
     "metadata": {},
     "output_type": "display_data"
    },
    {
     "name": "stdout",
     "output_type": "stream",
     "text": [
      "Target:1\n",
      "Target: 1.0\n",
      "Accuracy: 1.0\n",
      "Currents: [3.826187975886963e-06, 9.534755491075666e-06]\n",
      "LimVal1:1.2000000000000004e-05\n",
      "LimVal0:9.000000000000002e-06\n"
     ]
    },
    {
     "data": {
      "application/vnd.jupyter.widget-view+json": {
       "model_id": "637cef17a425456681c5fb42b21633c4",
       "version_major": 2,
       "version_minor": 0
      },
      "text/plain": [
       "Running Simulation :   0%|          | 0/200 [00:00<?, ?it/s]"
      ]
     },
     "metadata": {},
     "output_type": "display_data"
    },
    {
     "name": "stdout",
     "output_type": "stream",
     "text": [
      "Target:0\n",
      "Currents: [9.59288260224316e-06, 1.1231995441414996e-05]\n",
      "LimVal1:1.2000000000000004e-05\n",
      "LimVal0:9.000000000000002e-06\n"
     ]
    },
    {
     "data": {
      "application/vnd.jupyter.widget-view+json": {
       "model_id": "77c6358123db4ee6be7ee8ca77e67eba",
       "version_major": 2,
       "version_minor": 0
      },
      "text/plain": [
       "Running Simulation :   0%|          | 0/200 [00:00<?, ?it/s]"
      ]
     },
     "metadata": {},
     "output_type": "display_data"
    },
    {
     "name": "stdout",
     "output_type": "stream",
     "text": [
      "Target:1\n",
      "Currents: [7.293458845376129e-09, 1.0235909656536168e-05]\n",
      "LimVal1:1.2000000000000004e-05\n",
      "LimVal0:9.000000000000002e-06\n",
      "Saving\n"
     ]
    }
   ],
   "source": [
    "#Initial Drain Values:\n",
    "\n",
    "#Vtarget = Vin - (Vset * PLtarget)\n",
    "#Vnontarget = Vin - (Vreset * PLnontarget)\n",
    "\n",
    "#((Vtarget - Vnontarget) / PLtarget-nontarget) < Vreset\n",
    "\n",
    "\n",
    "#!/usr/bin/env python\n",
    "# coding: utf-8\n",
    "\n",
    "# In[ ]:\n",
    "\n",
    "\n",
    "\"\"\" \n",
    "\n",
    "Run Equilibrium Propagation / Backpropagation on Nanowire Networks for classification. \n",
    "\n",
    "Author: Alon Loeffler\n",
    "\n",
    "Required Files/Folders: learning_functions.py | edamame | asn_nw_00350_nj_01350_seed_1581_avl_10.00_disp_01.00_lx_50.00_ly_50.00.mat\n",
    "\n",
    "\"\"\"\n",
    "\n",
    "#IMPORTS:\n",
    "#Append path to Ruomin's Edamame Package (Nanowire Simulations)\n",
    "import sys\n",
    "import os\n",
    "\n",
    "sys.path.append('/import/silo2/aloe8475/Documents/edamame') #point to edamame locally\n",
    "sys.path.append('/import/silo2/aloe8475/Documents/CODE/Analysis/Training/Associative Learning/EquilProp') #point to edamame locally\n",
    "\n",
    "# fileName='/import/silo2/aloe8475/Documents/Data/Associative Learning/Sparse Networks/asn_nw_00350_nj_01350_seed_1581_avl_10.00_disp_01.00_lx_50.00_ly_50.00'\n",
    "fileName='/import/silo2/aloe8475/Documents/Data/Associative Learning/Sparse Networks/asn_nw_00698_nj_02582_seed_002_avl_10.00_disp_01.00_lx_75.00_ly_75.00'\n",
    "\n",
    "#point to network data path ^ \n",
    "\n",
    "saveFig='/import/silo2/aloe8475/Documents/Data/Figures/Equil Prop/' \n",
    "dataLoc='/import/silo2/aloe8475/Documents/Data/Associative Learning/EquilProp/'\n",
    "\n",
    "#import edamame (neuromorphic nanowire python package by Ruomin Zhu)\n",
    "from edamame import * \n",
    "import numpy as np\n",
    "import matplotlib.pyplot as plt\n",
    "import copy\n",
    "from scipy.io import loadmat, savemat\n",
    "import networkx as nx\n",
    "from tqdm.notebook import tqdm_notebook as tqdm\n",
    "from IPython.core.debugger import set_trace\n",
    "\n",
    "import pickle \n",
    "import _pickle as cPickle\n",
    "import gzip\n",
    "\n",
    "from learning_functions import genGridNW,point_on_line,dist,getWeightedGraph\n",
    "from learning_functions import calc_cost,setupStimulus,setupSourcesOnly,runTesting,getNWState,calcOutputs\n",
    "\n",
    "\" Create Inputs \"\n",
    "def createSimpleInputs(patternSize=3,numSamples=10,noise=False):\n",
    "    #SIMPLE ROW INPUTS:\n",
    "    np.random.seed(42)\n",
    "    \n",
    "    if patternSize==2:\n",
    "    #2x2 pattern:\n",
    "        orig_inputs=np.array((np.array([1,0,1,0]),np.array([0,1,0,1])))\n",
    "    elif patternSize==3:\n",
    "        #3x3 pattern:\n",
    "        orig_inputs=np.array((np.array([1,0,1,0,1,0,1,0,1]),np.array([0,1,0,1,1,1,0,1,0])))\n",
    "    orig_inputs=orig_inputs.astype('double')\n",
    "    samples=[[] for i in range(len(orig_inputs))]\n",
    "    new_inputs=np.array([orig_inputs]*numSamples)\n",
    "\n",
    "    #Pattern without Noise\n",
    "    NoNoiseInputs=[]\n",
    "    for targetClass in range(len(orig_inputs)):\n",
    "        NoNoiseInputs.append([int(i) for i in orig_inputs[targetClass]])\n",
    "#     set_trace()\n",
    "    #Make Noisy variants of simple patterns:\n",
    "    for i in range(len(orig_inputs)):\n",
    "        for j in range(numSamples):\n",
    "            randVals=np.random.randint(1,patternSize) #choose how many of the 3 sources will have noise\n",
    "            noiseVals=np.random.randint(patternSize, size=randVals)\n",
    "            temp=orig_inputs[i][orig_inputs[i]==1].astype('double')\n",
    "            if noise:\n",
    "                for val in noiseVals:\n",
    "                    temp[val]=np.double(np.random.random(1))\n",
    "            new_inputs[j][i][new_inputs[j][i]==1]=temp\n",
    "    #         samples[i].append(temp)\n",
    "    \n",
    "    #RESHAPE INPUTS INTO numSamplesx2\n",
    "    row1=[]\n",
    "    row2=[]\n",
    "    for i in range(len(new_inputs)):\n",
    "        row1.append(new_inputs[i][0])\n",
    "        row2.append(new_inputs[i][1])\n",
    "\n",
    "    inputs=np.array([row1,row2])\n",
    "    inputs=inputs.reshape(numSamples*2,orig_inputs.shape[1])\n",
    "    targets=np.zeros(numSamples*2)\n",
    "    targets[-numSamples:]=1\n",
    "\n",
    "    #change 0 volts to 0.05\n",
    "#     minVoltage=0.005\n",
    "#     inputs=inputs+minVoltage\n",
    "    \n",
    "    return inputs, targets,orig_inputs\n",
    "\n",
    "\" Load Networks \"\n",
    "def buildNetworks(fileName,ManualSources=True,numDrains=2,numSources=9):\n",
    "    #load data\n",
    "    nw=loadmat(fileName)\n",
    "    nwSize = nw['number_of_wires'][0][0]\n",
    "    this_seed=8639\n",
    "    Network=nw\n",
    "    connectivity=connectivity__(wires_dict=Network) \n",
    "\n",
    "    #fixing file structure from Matlab:\n",
    "    connectivity.avg_length=connectivity.avg_length[0][0]\n",
    "    connectivity.number_of_junctions=connectivity.number_of_junctions[0][0]\n",
    "    connectivity.centroid_dispersion=connectivity.centroid_dispersion[0][0]\n",
    "    connectivity.dispersion=connectivity.dispersion[0][0]\n",
    "    # connectivity.generating_number_of_wires=connectivity.generating_number_of_wires[0][0]\n",
    "    connectivity.gennorm_shape=connectivity.gennorm_shape[0][0]\n",
    "    connectivity.length_x=connectivity.length_x[0][0]\n",
    "    connectivity.length_y=connectivity.length_y[0][0]\n",
    "    connectivity.number_of_wires=connectivity.number_of_wires[0][0]\n",
    "    connectivity.numOfWires=connectivity.numOfWires[0][0]\n",
    "    connectivity.numOfJunctions=connectivity.numOfJunctions[0][0]\n",
    "    connectivity.theta=connectivity.theta[0][0]\n",
    "    connectivity.this_seed=connectivity.this_seed[0][0]\n",
    "    \n",
    "    #find x and y values of each end of each wire \n",
    "    xa=connectivity.xa[0]\n",
    "    xb=connectivity.xb[0]\n",
    "    ya=connectivity.ya[0]\n",
    "    yb=connectivity.yb[0]\n",
    "\n",
    "    #Pick Electrode placement/distance apart:\n",
    "    \n",
    "    #DRAINS\n",
    "    numDrains=3\n",
    "    ex=np.zeros(numDrains)*5#*15\n",
    "    if nwSize > 500:\n",
    "        eyVal=76\n",
    "    else:\n",
    "        eyVal= 51\n",
    "    ey=np.linspace(-1,eyVal,numDrains)#(-1,101,numDrains)\n",
    "\n",
    "    elecDrain=genGridNW(xa,xb,ya,yb,ex,ey) #generate drain locations in ex, ey coordinates\n",
    "\n",
    "\n",
    "    #IN A LINE:\n",
    "    if nwSize > 500:\n",
    "        exVal=75\n",
    "        eyVal = 74\n",
    "    else:\n",
    "        exVal=50\n",
    "        eyVal=49\n",
    "    ex=np.ones(numSources)*exVal#50\n",
    "    ey=np.linspace(-2,eyVal,numSources)#(-2,99,numSources)\n",
    "    \n",
    "    #IN A 3X3 GRID:\n",
    "    # middleNWx=int(connectivity.length_x/2)+1\n",
    "    # middleNWy=int(connectivity.length_y/2)-1\n",
    "    # distBwElecs=10\n",
    "    # ex=[middleNWx-distBwElecs,middleNWx-distBwElecs,middleNWx-distBwElecs,middleNWx,middleNWx,middleNWx,middleNWx+distBwElecs,middleNWx+distBwElecs,middleNWx+distBwElecs]\n",
    "    # ey=[middleNWy-distBwElecs,middleNWy,middleNWy+distBwElecs]*3\n",
    "\n",
    "    elecSource=genGridNW(xa,xb,ya,yb,ex,ey) #generate source locations in ex, ey coordinates\n",
    "\n",
    "\n",
    "    #Manual Source Placement:\n",
    "    if ManualSources:\n",
    "        if numSources==9:\n",
    "            if nwSize > 500:\n",
    "                elecSource=[678, 260, 491, 173, 628, 424, 301, 236, 483] #700nws\n",
    "            else:\n",
    "                elecSource=[23,320,194,74, 145, 317, 129, 34, 141] #350 nws\n",
    "\n",
    "        elif numSources == 4:\n",
    "            elecSource=[320,42,161,141]\n",
    "\n",
    "#     else:    #remove middle drain and sources for simple patterns: if 350 nws\n",
    "#         if numSources==7:\n",
    "#             elecSource=elecSource[[0,1,2,4,6,7,8]]\n",
    "    elecDrain=elecDrain[[0,-1]]\n",
    "    \n",
    "    return connectivity,elecSource,elecDrain\n",
    "\n",
    "\n",
    "#ADD BACKPROP\n",
    "\n",
    "#This function runs each training epoch and saves the network state at the last timestep of that epoch   \n",
    "def getNWState_backprop(training_stimulus,state,drains,sources,tmpTiming,tmpTargets,limVal,limVal0,limVal1,run_time=2,dt=0.01,disable_tqdm=False):\n",
    "    eles = np.append(drains, sources) #all drains\n",
    "    #     if len(eles) == num_drain_training + num_source_training:\n",
    "    training_sim,cost = runSim_backprop(connectivity, \n",
    "                                   stimulus = training_stimulus,\n",
    "                                   junctionMode = 'tunneling',\n",
    "                                   dt = dt, T = run_time, \n",
    "                                   contactMode = 'preSet',\n",
    "                                   electrodes = eles,\n",
    "                                   findFirst = False,\n",
    "                                   start_state = state,\n",
    "                                   disable_tqdm=disable_tqdm,\n",
    "                                   collapse=True,tmpTiming=tmpTiming,tmpTargets=tmpTargets,\n",
    "                                   limVal=limVal,limVal0=limVal0,limVal1=limVal1)  \n",
    "    JS1 = getJunctionState(training_sim, -1) #save state\n",
    "    #     else: \n",
    "    #         print('Bless you Joel :)')\n",
    "    return training_sim,JS1   \n",
    "\n",
    "#Combine drain voltage change with runSim:\n",
    "def runSim_backprop(Connectivity, \n",
    "                    junctionMode='binary', collapse=False,\n",
    "                    criticalFlux=0.1, maxFlux=1.5e-1,\n",
    "                    contactMode='farthest', electrodes=None,\n",
    "                    dt=1e-3, T=10, \n",
    "                    stimulus = None,\n",
    "                    biasType = 'DC',\n",
    "                    onTime=0, offTime=50000000,\n",
    "                    onAmp=1, offAmp=0.005,\n",
    "                    f = 1, customSignal = None,\n",
    "                    start_state = None,\n",
    "                    lite_mode = False, save_steps = 1,\n",
    "                    findFirst = True,\n",
    "                    disable_tqdm = False,\n",
    "                    freeze_wire = None, freeze_junction = None, \n",
    "                    freeze_TimeStamp = None,tmpTiming=[],tmpTargets=[],\n",
    "                    limVal=0.5,limVal0=0.5,limVal1=0.5):\n",
    "\n",
    "    \"\"\"\n",
    "    For the case of multi electrodes, stimulus should be in parameters.\n",
    "    See help(stimulus__) for how to generate stimulus__ objects.\n",
    "    \"\"\"\n",
    "\n",
    "    SimulationOptions = simulationOptions__(dt = dt, T = T,\n",
    "                                            connectivity = Connectivity, \n",
    "                                            contactMode = contactMode,\n",
    "                                            electrodes = electrodes)\n",
    "\n",
    "    if ((contactMode == 'preSet') and (len(electrodes) > 2)) or stimulus is not None:\n",
    "        from sys import exit\n",
    "        if stimulus == None:\n",
    "            logging.warning(f'Multiple electrodes detected. Please input stimulus in parameters!')\n",
    "            exit()\n",
    "        if len(stimulus) < len(SimulationOptions.electrodes):\n",
    "            diff = len(SimulationOptions.electrodes) - len(stimulus)\n",
    "            for _ in range(diff):\n",
    "                stimulus.append(stimulus__('Drain', T = T, dt = dt))\n",
    "\n",
    "        if len(stimulus) > len(SimulationOptions.electrodes):\n",
    "            logging.warning(f'More stimulus than electrodes. Current setup has {len(SimulationOptions.electrodes)} electrodes!')\n",
    "            exit()\n",
    "            \n",
    "        if len(stimulus[0].signal) < len(SimulationOptions.TimeVector):\n",
    "            logging.warning(f'Stimulus length not correct, current time vector has length {len(SimulationOptions.TimeVector)}!')\n",
    "            exit()\n",
    "        SimulationOptions.stimulus = stimulus\n",
    "            \n",
    "    elif contactMode == 'boundary':\n",
    "        SimulationOptions.stimulus[:int(len(SimulationOptions.electrodes)/2)] = [stimulus__(biasType = biasType, \n",
    "                                                                                        T = T, dt = dt,\n",
    "                                                                                        onTime = onTime, offTime = offTime,\n",
    "                                                                                        onAmp = onAmp, offAmp = offAmp,\n",
    "                                                                                        f = f, customSignal= customSignal)\n",
    "                                                                                        for i in range(int(len(SimulationOptions.electrodes)/2))]\n",
    "    else:\n",
    "        SimulationOptions.stimulus[0] = stimulus__(biasType = biasType, \n",
    "                                                T = T, dt = dt,\n",
    "                                                onTime = onTime, offTime = offTime,\n",
    "                                                onAmp = onAmp, offAmp = offAmp,\n",
    "                                                    f = f, customSignal= customSignal)\n",
    "    if start_state == None: \n",
    "        JunctionState = junctionState__(Connectivity.numOfJunctions, \n",
    "                                    mode = junctionMode, collapse = collapse, \n",
    "                                    criticalFlux=criticalFlux, maxFlux = maxFlux)\n",
    "    else:\n",
    "        from copy import deepcopy\n",
    "        JunctionState = deepcopy(start_state)\n",
    "    \n",
    "    kwdict = dict()\n",
    "    if (freeze_wire != None) or (freeze_junction != None):\n",
    "        kwdict = dict(freeze_wire = freeze_wire,\n",
    "                    freeze_junction = freeze_junction, \n",
    "                    freeze_TimeStamp = freeze_TimeStamp)\n",
    "        \n",
    "    this_realization,cost = simulateNetwork_backprop(SimulationOptions, Connectivity, JunctionState,tmpTiming,tmpTargets,limVal,limVal0,limVal1,lite_mode, disable_tqdm, save_steps, **kwdict)\n",
    "    \n",
    "#     finalIter=np.max(np.nonzero(this_realization.electrodeCurrent))\n",
    "#     if finalIter < 199:\n",
    "#         this_realization.electrodeCurrent=this_realization.electrodeCurrent[:finalIter+1,:]\n",
    "#         this_realization.junctionVoltage=this_realization.junctionVoltage[:finalIter+1,:]\n",
    "#         this_realization.junctionConductance=this_realization.junctionConductance[:finalIter+1,:]\n",
    "#         this_realization.wireVoltage=this_realization.wireVoltage[:finalIter+1,:]\n",
    "#         this_realization.filamentState=this_realization.filamentState[:finalIter+1,:]\n",
    "#         this_realization.junctionSwitch=this_realization.junctionSwitch[:finalIter+1,:]\n",
    "        #final Iter = time , use that to find / save network state\n",
    "        \n",
    "        \n",
    "#         this_realization.TimeVector=this_realization.TimeVector[:finalIter+1,:]\n",
    "\n",
    "    #     remove zeros from simulations that ended early:\n",
    "#     this_realization.junctionCurrent\n",
    "    \n",
    "    if findFirst:\n",
    "        from edamame.analysis.GraphTheory import findCurrent\n",
    "        try:\n",
    "            activation = findCurrent(this_realization, 1)\n",
    "            logging.info(f'First current path {activation[0][0]} formed at time = {activation[1][0]} s.')\n",
    "        except:\n",
    "            logging.info('Unfortunately, no current path is formed in simulation time.')\n",
    "\n",
    "    return this_realization,cost\n",
    "\n",
    "def simulateNetwork_backprop(simulationOptions, connectivity, junctionState,tmpTiming,tmpTargets, limVoltage,limVal0,limVal1,lite_mode = False, disable_tqdm = False, save_steps = 1, **kwargs):\n",
    "    niterations = simulationOptions.NumOfIterations\n",
    "    electrodes = simulationOptions.electrodes\n",
    "    numOfElectrodes = len(electrodes)\n",
    "    E = connectivity.numOfJunctions\n",
    "    V = connectivity.numOfWires\n",
    "    edgeList = connectivity.edge_list\n",
    "#     onAmp     = simulationOptions.stimulus[3].onAmp\n",
    "    \n",
    "#     maxV      = onAmp *limVoltage\n",
    "    n         = num_drain_training #num of drains\n",
    "    cost      = []\n",
    "    beta      = 0.05\n",
    "    grad      = np.zeros((n)) #set gradients to zero for each epoch  \n",
    "\n",
    "    Network = network__()\n",
    "    sampling = np.arange(0, niterations, save_steps)\n",
    "    if lite_mode:\n",
    "        Network.connectivity = connectivity__(adjMat = connectivity.adj_matrix)\n",
    "        Network.filamentState = np.zeros((int(niterations/save_steps), E))\n",
    "        Network.wireVoltage = np.zeros((int(niterations/save_steps), V))\n",
    "        Network.electrodeCurrent = np.zeros((int(niterations/save_steps), numOfElectrodes))\n",
    "        Network.TimeVector = np.zeros(int(niterations/save_steps))\n",
    "    else:        \n",
    "        Network.connectivity = connectivity\n",
    "        Network.TimeVector = simulationOptions.TimeVector\n",
    "        Network.filamentState = np.zeros((niterations, E))\n",
    "        Network.junctionVoltage = np.zeros((niterations, E))\n",
    "        # Network.junctionResistance = np.zeros((niterations, E))\n",
    "        Network.junctionConductance = np.zeros((niterations, E))\n",
    "        Network.junctionSwitch = np.zeros((niterations, E), dtype = bool)\n",
    "        Network.wireVoltage = np.zeros((niterations, V))\n",
    "        Network.electrodeCurrent = np.zeros((niterations, numOfElectrodes))\n",
    "\n",
    "    Network.sources = []\n",
    "    Network.drains = []\n",
    "    for i in range(numOfElectrodes):\n",
    "        if np.mean(simulationOptions.stimulus[i].signal) != 0:\n",
    "            Network.sources.append(electrodes[i])\n",
    "        else:\n",
    "            Network.drains.append(electrodes[i])\n",
    "\n",
    "    if len(Network.drains) == 0:\n",
    "        Network.drains.append(electrodes[1])\n",
    "\n",
    "    if 'freeze_wire' in kwargs:\n",
    "        freeze_wire = kwargs['freeze_wire']\n",
    "        freeze_TimeStamp = kwargs['freeze_TimeStamp']\n",
    "    else:\n",
    "        freeze_TimeStamp = niterations + 1\n",
    "    \n",
    "    #Simulation Run:\n",
    "#     new_time=0\n",
    "    stopTrain=False\n",
    "    for this_time in tqdm(range(niterations), desc='Running Simulation ', disable = disable_tqdm): #each time step\n",
    "        if not stopTrain:\n",
    "            this_stimulus = np.array([i.signal[this_time] for i in simulationOptions.stimulus])\n",
    "\n",
    "        if tmpTiming[this_time]=='Train':\n",
    "#             print('--------')\n",
    "#             print('Training')\n",
    "#             print('--------\\n')\n",
    "            trainTime=True\n",
    "        elif tmpTiming[this_time]=='Test':\n",
    "#             print('--------')\n",
    "#             print('Testing')\n",
    "#             print('--------\\n') \n",
    "            trainTime=False\n",
    "\n",
    "        if trainTime and this_time > 0 and not stopTrain: #if we are training, change drain voltages, otherwise just use this_stimulus\n",
    "            this_stimulus[:num_drain_training]=new_stimulus             \n",
    "#             print('in training '+str(this_time))\n",
    "#         elif this_time > trainTime:\n",
    "\n",
    "        sol = simCore(connectivity, junctionState, this_stimulus, electrodes, simulationOptions.dt)\n",
    "\n",
    "        if this_time >= freeze_TimeStamp:\n",
    "            others = np.setdiff1d(range(V), freeze_wire)\n",
    "            wireVoltage[others] = sol[others]\n",
    "        else:\n",
    "            wireVoltage = sol[0:V]\n",
    "\n",
    "        if lite_mode:\n",
    "            if this_time%save_steps == 0:\n",
    "                Network.wireVoltage[this_time//save_steps,:] = wireVoltage\n",
    "                Network.electrodeCurrent[this_time//save_steps,:] = sol[V:]\n",
    "                Network.filamentState[this_time//save_steps,:] = junctionState.filamentState\n",
    "                Network.TimeVector[this_time//save_steps] = simulationOptions.TimeVector[this_time]\n",
    "        else:\n",
    "            Network.wireVoltage[this_time,:] = wireVoltage\n",
    "            Network.electrodeCurrent[this_time,:] = sol[V:]\n",
    "            Network.filamentState[this_time,:] = junctionState.filamentState\n",
    "            Network.junctionVoltage[this_time,:] = junctionState.voltage\n",
    "            Network.junctionConductance[this_time,:] = junctionState.conductance\n",
    "            Network.junctionSwitch[this_time,:] = junctionState.OnOrOff\n",
    "\n",
    "        ## BackProp Implementation\n",
    "        y = Network.electrodeCurrent[this_time,:num_drain_training]\n",
    "        drainCurrents=y\n",
    "        if tmpTargets[this_time] != -1: #skip rest values\n",
    "            tarIdx=tmpTargets[this_time]\n",
    "            if tarIdx==1:\n",
    "                nonIdx=0\n",
    "            else:\n",
    "                nonIdx=1\n",
    "            y = y/(maxCurrent[tarIdx]) # normalize  | | | how do we change max current to be not arbitrary? \n",
    "        # current method - run simulation before with just that drain and use current as maxCurrent\n",
    "\n",
    "            # change to threshold \n",
    "            d = allTargets[tarIdx]\n",
    "\n",
    "            dsig = this_stimulus[:num_drain_training]\n",
    "            \n",
    "            #fixed max voltage\n",
    "            # compare y with threshold - if y is >= thresh, stop the training\n",
    "#             set_trace()\n",
    "\n",
    "            #vectorised implementation\n",
    "\n",
    "            cost.append(calc_cost(y,d))\n",
    "\n",
    "            if trainTime and not stopTrain: #if we are training, update beta\n",
    "                #Gradient without considering other electrodes:\n",
    "                if tarIdx==0:\n",
    "                    if drainCurrents[0]>=limVal0: #if greater or less than the target current, stop the simulation\n",
    "                        this_stimulus=np.zeros(len(this_stimulus))\n",
    "                        stopTrain=True\n",
    "                    else:\n",
    "                        stopTrain=False\n",
    "                        #instead of ending session, make everything 0V (inputs + drains)\n",
    "                        #make sure this doesn't last longer than filament decay length\n",
    "                elif tarIdx==1:\n",
    "                    if drainCurrents[1]>=limVal1: #if greater or less than the target current, stop simulation\n",
    "                        this_stimulus=np.zeros(len(this_stimulus))\n",
    "                        stopTrain=True\n",
    "                    else:\n",
    "                        stopTrain=False\n",
    "                        \n",
    "                grad=beta*(y-d) #y = current, d = target #e.g. [y1 vs (d1 = 1), y2 vs (d2 = 0), y3vs (d3 = 0)]\n",
    "\n",
    "                #dsig = old voltage drains, dsig2 = new voltage drains, onAmp = input voltage\n",
    "\n",
    "                dsig2=np.array(dsig.T+grad)\n",
    "#                     dsig2[0]=np.clip(dsig2[0],0,limVal0)\n",
    "#                     dsig2[1]=np.clip(dsig2[1],0,limVal1)\n",
    "\n",
    "                dsig2=np.clip(dsig2,-onAmp,onAmp) #set max and min voltages to less than inputs\n",
    "\n",
    "                new_stimulus=dsig2\n",
    "\n",
    "            else:\n",
    "                new_stimulus=this_stimulus[:num_drain_training]\n",
    "\n",
    "    print('Target:' + str(tarIdx))\n",
    "#     print('Voltage: '+ str(new_stimulus))\n",
    "    \n",
    "    Network.numOfWires = V\n",
    "    Network.numOfJunctions = E\n",
    "    Network.electrodes = simulationOptions.electrodes\n",
    "    if len(electrodes) <= 2:\n",
    "        Network.conductance = Network.electrodeCurrent[:,1]/simulationOptions.stimulus[0].signal[sampling]\n",
    "    if not lite_mode:\n",
    "        Network.stimulus = [simulationOptions.stimulus[i] for i in range(numOfElectrodes)]\n",
    "        Network.junctionResistance = 1/Network.junctionConductance\n",
    "        \n",
    "    return Network,cost\n",
    "\n",
    "\n",
    "\n",
    "def runNBACK(onAmp,onAmpTest,dt,Tlen,timesteps,numDT,restDur,nbacks=[],maxCurrent=[1e-5,1e-5],limVal=0.5,accThresh=0.5,increaseVal=0.5,decreaseVal=0.25,seed=42,accThreshold=False):\n",
    "    \"\"\"\n",
    "    n-back task:\n",
    "    input sample 1 with backprop, then sample 2 with backprop, then sample 1 again with reset drain voltages \n",
    "    n back here = 1, showing memory\n",
    "    \n",
    "    train sample x, test sample x + nback (e.g. nback = 2, sample = [s1 train,s2,s3,s1 test] )\n",
    "\n",
    "    increase n-back: \n",
    "    sample 1 with backprop, sample 2, sample 3... test sample 1 - n=2\n",
    "    \n",
    "    Things to test:\n",
    "    - if we increase input frequency (dt), do we see greater long term memory? (higher n-backs)\n",
    "    - if we decrease frequency, do we see greater short term memory? (lower n-backs)\n",
    "\n",
    "    \"\"\"  \n",
    "    \n",
    "    t           = [[None]*120 for i in range(len(nbacks))]\n",
    "    simVoltages = []\n",
    "    saveStim    = []\n",
    "    count=0\n",
    "    for nback in nbacks: #how many samples to \"remember\" in the past before testing\n",
    "        np.random.seed(seed)\n",
    "        \n",
    "        numTestingSamples= 40 #how many samples across all nback values\n",
    "        \n",
    "        #completely random order\n",
    "        orderTraining = np.random.choice(len(trainingInputs),size=len(trainingInputs),replace=False)\n",
    "        \n",
    "        orderTrainingLabels=traininglabels[orderTraining]\n",
    "        orderTrainingLabelsNBACK=orderTrainingLabels[::nback] #these are the testing labels - every i+nback training sample is what we're testing\n",
    "        orderTesting=[]\n",
    "        for label in orderTrainingLabelsNBACK: #for each training label in the random order:\n",
    "            orderTesting.append(np.random.choice(np.where(testinglabels==label)[0]))\n",
    "        orderTestingLabels=testinglabels[orderTesting]    \n",
    "        orderTestingNBACK=np.array(orderTesting)+len(orderTraining) #number of test per nback\n",
    "         #choose how many samples between testing samples:\n",
    "        i = nback\n",
    "        temp=[]\n",
    "        j=0\n",
    "        order=[None]*(len(orderTraining))\n",
    "        order[:len(orderTraining)]=orderTraining\n",
    "        while j<numTestingSamples: #for each testing sample \n",
    "            if i < len(order): #only if we are within the total number of training samples\n",
    "                order.insert(i, orderTesting[j]+len(orderTraining)) #insert testing sample at ith position\n",
    "            temp.append(i) #keep track number of inserts we made, make sure it == numTestingSamples\n",
    "            i += nback+1\n",
    "            j +=1\n",
    "        \n",
    "        \n",
    "        #remove excess training (i.e. with no testing sample)\n",
    "        sampleTimes=numDT*(nback+1)\n",
    "        newTrainingOrder=orderTraining[:sampleTimes-numTestingSamples]\n",
    "        orderTrainingLabels=orderTrainingLabels[:sampleTimes-numTestingSamples]\n",
    "        order=order[:sampleTimes]\n",
    "        \n",
    "        \n",
    "#         print(order)\n",
    "#         print(len(order))\n",
    "        #RUN SIM\n",
    "        N                   = orig_inputs.shape[1]\n",
    "        numClasses          = 2\n",
    "        signalType          ='DC'\n",
    "        num_drain_training  = 2\n",
    "        num_source_training = N\n",
    "        tmpSources          = [[] for i in range(len(order))]\n",
    "        tmpTargets          = [None]*len(order)\n",
    "        sim                 = [None]*len(order)\n",
    "        thresholdValues     = [None]*len(order)\n",
    "        cost                = [None]*len(order)\n",
    "        simVoltages         = [None]*len(order)\n",
    "        accuracy    = []\n",
    "        numTrainingSamples  = len(trainingInputs)\n",
    "        numTestingSamples   = len(testingInputs)\n",
    "        \n",
    "        timing=[]\n",
    "        allLabels=[]\n",
    "        limVals0 = limVal\n",
    "        limVals1 = limVal\n",
    "        \n",
    "        i=0\n",
    "        numTests = 0\n",
    "        nwState = None\n",
    "        for val in order: #this method loops through samples in the randomised training order\n",
    "            \n",
    "            #FOR EACH SAMPLE:\n",
    "            \n",
    "            #are we training or testing?\n",
    "            if val in orderTestingNBACK:\n",
    "                test=True\n",
    "                train=False\n",
    "            elif val in orderTraining:\n",
    "                test=False\n",
    "                train=True\n",
    "                \n",
    "            #define samples\n",
    "            if train: #if we're training\n",
    "                this_sample = trainingInputs[val].copy() #xs\n",
    "                this_label  = traininglabels[val] #ys\n",
    "                this_sample[this_sample>0.005]=this_sample[this_sample>0.005]*onAmp #tune voltage based on onAmp\n",
    "                timing.append('Train')\n",
    "\n",
    "            elif test: #if we're testing\n",
    "                this_sample = testingInputs[val-len(orderTraining)].copy() #xs\n",
    "                this_label  = testinglabels[val-len(orderTraining)] #ys\n",
    "                this_sample[this_sample>0.005]=this_sample[this_sample>0.005]*onAmpTest\n",
    "                timing.append('Test')\n",
    "\n",
    "#             targetClassVals=[0,1] \n",
    "\n",
    "            targetTmp = signal_expand(this_label,numDT) #number of timesteps per target\n",
    "            timing[i] = signal_expand(timing[i],numDT)\n",
    "        #     #array of nans:\n",
    "            tmpArray=np.empty(restDur)\n",
    "            tmpArray[:]=-1\n",
    "            targetTmp = np.append(targetTmp,tmpArray) #add rest #need to remove targets from rest\n",
    "            tmpTargets[i]=targetTmp \n",
    "            for j in range(len(this_sample)): #for each source electrode\n",
    "                tmp = signal_expand(this_sample[j],numDT)\n",
    "                tmp = np.append(tmp,np.zeros(restDur)) #add rest\n",
    "                tmpSources[i].append(tmp)\n",
    "            allLabels.append(this_label)\n",
    "            \n",
    "            \n",
    "            drainSPL1=nx.shortest_path_length(nx.from_numpy_array(connectivity.adj_matrix),sources[4],drain_pool[1])\n",
    "            drainSPL0=nx.shortest_path_length(nx.from_numpy_array(connectivity.adj_matrix),sources[4],drain_pool[0])\n",
    "\n",
    "            \n",
    "            if targetTmp[0]==1: #set drain voltages to inital state:\n",
    "                vTar=onAmp-(1e-2*drainSPL0)\n",
    "                vNonTar=onAmp-(1e-3*drainSPL1)\n",
    "                dv=[signal_expand(vNonTar,numDT),signal_expand(vTar,numDT)]\n",
    "            else:\n",
    "                vTar=onAmp-(1e-2*drainSPL1)\n",
    "                vNonTar=onAmp-(1e-3*drainSPL0)\n",
    "                dv=[signal_expand(vTar,numDT),signal_expand(vNonTar,numDT)]\n",
    "#             set_trace()\n",
    "            stimulus=[]\n",
    "            if train:\n",
    "                for m in range(num_drain_training): #create stimulus for each drain electrode\n",
    "                    stimulus.append(stimulus__(biasType='Custom',T=dt*len(tmpSources[i][m]),dt=dt,customSignal=dv[m]))\n",
    "            elif test:\n",
    "                for m in range(num_drain_training): #create stimulus for each drain electrode\n",
    "                    stimulus.append(stimulus__(biasType='Drain',T=dt*len(tmpSources[i][m]),dt=dt))\n",
    "\n",
    "            for m in range(len(tmpSources[i])): #create stimulus for each source electrode\n",
    "                stimulus.append(stimulus__(biasType='Custom',T=dt*len(tmpSources[i][m]),dt=dt,customSignal=tmpSources[i][m]))\n",
    "            \n",
    "            signalLen=len(stimulus[0].signal) \n",
    "            \n",
    "            sim[i],nwState = getNWState_backprop(stimulus,nwState,drain_pool,sources,timing[i],tmpTargets[i].astype('int'),limVal,limVals0,limVals1,run_time=int(signalLen*dt),dt=dt,disable_tqdm=False)\n",
    "\n",
    "            simVoltages[i]=(sim[i].wireVoltage)\n",
    "            \n",
    "            t[count][i]=(calcOutputs(sim[i],sources,drain_pool))\n",
    "        \n",
    "            if test: #if we are testing\n",
    "                #calucalte accuracy\n",
    "                accThreshold=False\n",
    "                if accThreshold:\n",
    "                    #add threshold of difference to ensure accuracy:\n",
    "                    argmaxvals=np.argmax([t[count][i][0],t[count][i][1]],axis=0)\n",
    "\n",
    "                    for s in range(len(argmaxvals)):\n",
    "                        if abs(t[count][i][0][s]-t[count][i][1][s])>1e-6 and argmaxvals[s]==1:\n",
    "                            argmaxvals[s]=1\n",
    "                        elif abs(t[count][i][0][s]-t[count][i][1][s])<1e-6 and argmaxvals[s] == 1:\n",
    "                            argmaxvals[s]=0\n",
    "#                     accuracy.append(np.sum(argmaxvals==tmpTargets[testTimes])/len(tmpTargets[testTimes]))\n",
    "                    accuracy.append(np.sum(argmaxvals==tmpTargets[i-nback])/len(tmpTargets[i-nback]))\n",
    "                else:\n",
    "                    accuracy.append(np.sum(np.argmax([t[count][i][0],t[count][i][1]],axis=0)==tmpTargets[i-nback])/len(tmpTargets[i-nback]))\n",
    "                \n",
    "                if i >0:\n",
    "                    if accuracy[numTests]<=accThresh: #if the accuracy is less than or equal to chance\n",
    "                        if this_label==0: #drain 1\n",
    "                            limVals0=limVals0+increaseVal #update 'max current limit based on reinforcement'\n",
    "                            limVals1=limVals1-decreaseVal\n",
    "                        elif this_label==1: #drain 2\n",
    "                            limVals0=limVals0-decreaseVal\n",
    "                            limVals1=limVals1+increaseVal                           \n",
    "                \n",
    "                print('Target: ' + str(tmpTargets[i][0]))\n",
    "                print('Accuracy: '+ str(accuracy[numTests]))\n",
    "                numTests+=1\n",
    "                \n",
    "            fval1=np.max(np.nonzero(t[count][i][0]))\n",
    "            fval2=np.max(np.nonzero(t[count][i][1]))\n",
    "            print('Currents: ' + str([t[count][i][0][fval1],t[count][i][1][fval2]]))\n",
    "            print(\"LimVal1:\" + str(limVals1)) #just a checking/debugging print\n",
    "            print(\"LimVal0:\" + str(limVals0)) #just a checking/debugging print\n",
    "\n",
    "            thresholdValues[i]=[limVals0,limVals1]\n",
    "            i+=1 \n",
    "        \n",
    "        count+=1\n",
    "    return t,thresholdValues,sim,stimulus,accuracy,tmpTargets,newTrainingOrder,orderTesting,order,orderTestingLabels,testTimes,trainTimes,numTestingSamples,allLabels,orderTrainingLabels\n",
    "\n",
    "def trainTestSplit(inputs,targets,targetClassVals=[0,1],numTestingPerClass=3,orig_inputs=[]):\n",
    "    trainingInputs  = np.array([inputs[targets==targetClassVals[0]][:-numTestingPerClass],inputs[targets==targetClassVals[1]][:-numTestingPerClass]]).reshape(-1,orig_inputs.shape[1])\n",
    "    testingInputs   = np.array([inputs[targets==targetClassVals[0]][-numTestingPerClass:],inputs[targets==targetClassVals[1]][-numTestingPerClass:]]).reshape(-1,orig_inputs.shape[1])\n",
    "    #Define Training and Testing labels\n",
    "    traininglabels=np.zeros(len(trainingInputs))\n",
    "    traininglabels[:int(len(trainingInputs)/2)]=0\n",
    "    traininglabels[int(len(trainingInputs)/2):int(len(trainingInputs)/2)*2]=1\n",
    "    # traininglabels[int(len(trainingInputs)/3)*2:]=2\n",
    "    traininglabels=traininglabels.astype(int)\n",
    "\n",
    "    testinglabels=np.zeros(len(testingInputs))\n",
    "    testinglabels[:int(len(testingInputs)/2)]=0\n",
    "    testinglabels[int(len(testingInputs)/2):int(len(testingInputs)/2)*2]=1\n",
    "    # testinglabels[int(len(testingInputs)/3)*2:]=2\n",
    "    testinglabels=testinglabels.astype(int)\n",
    "    \n",
    "    return trainingInputs,testingInputs,traininglabels,testinglabels\n",
    "\n",
    "\n",
    "#TASK SETUP\n",
    "\n",
    "# print('Loading Networks + Training Data')\n",
    "ManualSources=True\n",
    "numSamples=50\n",
    "\n",
    "patternSize= 3 #2 or 3\n",
    "numSources=9 # 4 or 7\n",
    "\n",
    "num_drain_training=2\n",
    "allTargets=[[1,0],[0,1]]\n",
    "targetClassVals=[0,1]\n",
    "numTestingPerClass=10\n",
    "\n",
    "noisey=False\n",
    "\n",
    "#create networks\n",
    "connectivity,sources,drain_pool=buildNetworks(fileName,ManualSources,num_drain_training,numSources)\n",
    "\n",
    "#create samples\n",
    "inputs,targets,orig_inputs=createSimpleInputs(patternSize,numSamples,noisey) #pattern size (e.g 3x3 = 3), number of samples, noise\n",
    "\n",
    "#split samples to train test\n",
    "trainingInputs,testingInputs,traininglabels,testinglabels = trainTestSplit(inputs,targets,targetClassVals,numTestingPerClass,orig_inputs=orig_inputs)\n",
    "\n",
    "#Run n-back Task\n",
    "dt=0.01\n",
    "\n",
    "accThreshold=False #do we want to force a minimum (arbitrary) difference between target and non-target drain for accuracy to be counted?\n",
    "\n",
    "Tlen = 200\n",
    "timesteps   = Tlen/dt\n",
    "numDT       = int(timesteps/len(inputs)) #number of timesteps per sample\n",
    "restDur=0\n",
    "\n",
    "#Amplitude:\n",
    "onAmp = 2 #Voltage for Training\n",
    "onAmpTest = 0.5 #Voltage for Testing\n",
    "\n",
    "#Other Variables\n",
    "maxCurrent = [1e-5,1e-5] #target\n",
    "threshCurrent = [5e-6,5e-6]\n",
    "nbacks         = [2]#range(1,5)\n",
    "numRuns        = 1\n",
    "sim            = [None]*numRuns\n",
    "stimuli        = [None]*numRuns\n",
    "accuracy       = [None]*numRuns\n",
    "\n",
    "trainingOrder = [None]*numRuns\n",
    "testingOrder = [None]*numRuns\n",
    "testingLabels  = [None]*numRuns\n",
    "trainingLabels  = [None]*numRuns\n",
    "order          = [None]*numRuns\n",
    "testTimes      = [None]*numRuns\n",
    "trainTimes      = [None]*numRuns\n",
    "targets        = [None]*numRuns\n",
    "numTestingSamples = [None]*numRuns\n",
    "allLabels      = [None]*numRuns\n",
    "seeds          =  np.random.choice(10000,size=numRuns,replace=False)\n",
    "\n",
    "limValues = [threshCurrent[0]]#[1e-6]#list(np.arange(0.05,1.05,0.05))  #if we want to loop through onAmp limit voltage percentage for drains\n",
    "increaseVal=threshCurrent[0]/5\n",
    "decreaseVal=threshCurrent[0]/10\n",
    "accThresh=0.7\n",
    "\n",
    "loadOnly=False\n",
    "\n",
    "\n",
    "if loadOnly == False:\n",
    "    print('Running')\n",
    "    meanAcc=[]\n",
    "    stdAcc=[]\n",
    "    outputs=[]\n",
    "    for val in tqdm(limValues):\n",
    "        print(val)\n",
    "        for i in tqdm(range(numRuns)):\n",
    "            outputs.append(runNBACK(onAmp,onAmpTest,dt,Tlen,timesteps,numDT,restDur,nbacks,maxCurrent,val,accThresh,increaseVal,decreaseVal,seed=seeds[i],accThreshold=accThreshold))\n",
    "    print('Saving')\n",
    "    if numRuns==1:\n",
    "        outputs=outputs[0]\n",
    "        t=outputs[0][0][:-1]\n",
    "        thresholds=outputs[1]\n",
    "        sim=outputs[2]\n",
    "        accuracy=outputs[4]\n",
    "        alltargets=outputs[5]\n",
    "        trainingOrder=outputs[6]\n",
    "        trainingLabels=outputs[-1]\n",
    "        testingLabels=outputs[9]\n",
    "        allLabels=outputs[-2]\n",
    "        numTestingSamples=outputs[-3]\n",
    "    else:\n",
    "        t = [None]*numRuns;thresholds=[None]*numRuns;sim=[None]*numRuns;accuracy=[None]*numRuns;alltargets=[None]*numRuns\n",
    "        trainingOrder=[None]*numRuns;trainingLabels=[None]*numRuns;testingLabels=[None]*numRuns;allLabels=[None]*numRuns\n",
    "        for run in range(numRuns):\n",
    "            t[run]=outputs[run][0][0][:-1]\n",
    "            thresholds[run]=outputs[run][1]\n",
    "            sim[run]=outputs[run][2]\n",
    "            accuracy[run]=outputs[run][4]\n",
    "            alltargets[run]=outputs[run][5]\n",
    "            trainingOrder[run]=outputs[run][6]\n",
    "            trainingLabels[run]=outputs[run][-1]\n",
    "            testingLabels[run]=outputs[run][9]\n",
    "            allLabels[run]=outputs[run][-2]\n",
    "            numTestingSamples=outputs[run][-3]\n",
    "            \n",
    "    params={'Voltage':onAmp,'Test Voltage':onAmpTest,'Threshold Value':limValues,'Accuracy Threshold':accThresh,'ThreshIncrease':increaseVal,'ThreshDecrease':decreaseVal,'Random Seed':seeds,'Timesteps':Tlen,'Target Currents':maxCurrent,'dt':dt,'Num Samples':[119],'Num Trials':numRuns,'Noise':noisey}\n",
    "#     if patternSize==2:\n",
    "#         savemat(dataLoc+'nback'+str(nbacks[0])+'_data_350nw_1350nj_reinforcement_2x2_wLimThreshold_wAccThreshold.mat', {'Data':{'current':t,'threshold':thresholds, 'sim':sim,'accuracy':accuracy,'targets':alltargets,'training order':trainingOrder,'training labels':trainingLabels,'testing labels':testingLabels,'all labels':allLabels,'num test samples':numTestingSamples,'Parameters':params}})\n",
    "#     else:\n",
    "#         savemat(dataLoc+'nback'+str(nbacks[0])+'_data_350nw_1350nj_reinforcement_3x3_wLimThreshold_wAccThreshold.mat', {'Data':{'current':t,'threshold':thresholds, 'sim':sim,'accuracy':accuracy,'targets':alltargets,'training order':trainingOrder,'training labels':trainingLabels,'testing labels':testingLabels,'all labels':allLabels,'num test samples':numTestingSamples,'Parameters':params}})        \n",
    "#     savemat(dataLoc+'nback'+str(nbacks[0])+'_data_700nw_2545nj_reinforcement_3x3_wLimThreshold_wAccThreshold.mat', {'Data':{'current':t,'threshold':thresholds, 'sim':sim,'accuracy':accuracy,'targets':alltargets,'training order':trainingOrder,'training labels':trainingLabels,'testing labels':testingLabels,'all labels':allLabels,'num test samples':numTestingSamples,'Parameters':params}})        \n",
    "\n",
    "else:\n",
    "    print('Loading')\n",
    "    out=loadmat(dataLoc+'nback'+str(nbacks[0])+'_data_350nw_1350nj_reinforcement_2x2_wLimThreshold_wAccThreshold.mat')\n",
    "    out=out['Data'][0][0]\n",
    "    t=out[0]\n",
    "    thresholds=out[1]\n",
    "    sim=out[2][0]\n",
    "    accuracy=out[3][0]\n",
    "    alltargets=out[4]\n",
    "    trainingOrder=out[5][0]\n",
    "    trainingLabels=out[6][0]\n",
    "    testingLabels=out[7][0]\n",
    "    allLabels=out[8][0]\n",
    "    numTestingSamples=out[9][0][0]\n"
   ]
  },
  {
   "cell_type": "code",
   "execution_count": 70,
   "metadata": {},
   "outputs": [
    {
     "data": {
      "text/plain": [
       "(-0.1, 1.1)"
      ]
     },
     "execution_count": 70,
     "metadata": {},
     "output_type": "execute_result"
    },
    {
     "data": {
      "image/png": "[encoded data removed]",
      "text/plain": [
       "<Figure size 432x288 with 1 Axes>"
      ]
     },
     "metadata": {
      "needs_background": "light"
     },
     "output_type": "display_data"
    }
   ],
   "source": [
    "plt.plot(accuracy,'-o')\n",
    "plt.ylim([-0.1,1.1])"
   ]
  },
  {
   "cell_type": "code",
   "execution_count": 61,
   "metadata": {},
   "outputs": [
    {
     "data": {
      "text/plain": [
       "9"
      ]
     },
     "execution_count": 61,
     "metadata": {},
     "output_type": "execute_result"
    }
   ],
   "source": [
    "len(sources)"
   ]
  },
  {
   "cell_type": "code",
   "execution_count": 62,
   "metadata": {},
   "outputs": [],
   "source": [
    "spl=nx.shortest_path_length(nx.from_numpy_array(connectivity.adj_matrix),sources[5],drain_pool[0])"
   ]
  },
  {
   "cell_type": "code",
   "execution_count": 63,
   "metadata": {},
   "outputs": [
    {
     "data": {
      "text/plain": [
       "16"
      ]
     },
     "execution_count": 63,
     "metadata": {},
     "output_type": "execute_result"
    }
   ],
   "source": [
    "spl"
   ]
  },
  {
   "cell_type": "code",
   "execution_count": 64,
   "metadata": {},
   "outputs": [
    {
     "ename": "AttributeError",
     "evalue": "'NoneType' object has no attribute 'wireVoltage'",
     "output_type": "error",
     "traceback": [
      "\u001b[0;31m---------------------------------------------------------------------------\u001b[0m",
      "\u001b[0;31mAttributeError\u001b[0m                            Traceback (most recent call last)",
      "\u001b[0;32m/tmp/ipykernel_45750/3332617250.py\u001b[0m in \u001b[0;36m<module>\u001b[0;34m\u001b[0m\n\u001b[0;32m----> 1\u001b[0;31m \u001b[0;34m(\u001b[0m\u001b[0;34m(\u001b[0m\u001b[0monAmp\u001b[0m\u001b[0;34m-\u001b[0m\u001b[0msim\u001b[0m\u001b[0;34m[\u001b[0m\u001b[0;36m0\u001b[0m\u001b[0;34m]\u001b[0m\u001b[0;34m.\u001b[0m\u001b[0mwireVoltage\u001b[0m\u001b[0;34m[\u001b[0m\u001b[0;34m:\u001b[0m\u001b[0;34m,\u001b[0m\u001b[0mdrain_pool\u001b[0m\u001b[0;34m[\u001b[0m\u001b[0;36m0\u001b[0m\u001b[0;34m]\u001b[0m\u001b[0;34m]\u001b[0m\u001b[0;34m)\u001b[0m\u001b[0;34m/\u001b[0m\u001b[0mspl\u001b[0m\u001b[0;34m)\u001b[0m\u001b[0;34m\u001b[0m\u001b[0;34m\u001b[0m\u001b[0m\n\u001b[0m",
      "\u001b[0;31mAttributeError\u001b[0m: 'NoneType' object has no attribute 'wireVoltage'"
     ]
    }
   ],
   "source": [
    "((onAmp-sim[0].wireVoltage[:,drain_pool[0]])/spl)"
   ]
  },
  {
   "cell_type": "code",
   "execution_count": null,
   "metadata": {},
   "outputs": [],
   "source": []
  }
 ],
 "metadata": {
  "kernelspec": {
   "display_name": "Python [conda env:phd]",
   "language": "python",
   "name": "conda-env-phd-py"
  },
  "language_info": {
   "codemirror_mode": {
    "name": "ipython",
    "version": 3
   },
   "file_extension": ".py",
   "mimetype": "text/x-python",
   "name": "python",
   "nbconvert_exporter": "python",
   "pygments_lexer": "ipython3",
   "version": "3.8.12"
  }
 },
 "nbformat": 4,
 "nbformat_minor": 2
}
