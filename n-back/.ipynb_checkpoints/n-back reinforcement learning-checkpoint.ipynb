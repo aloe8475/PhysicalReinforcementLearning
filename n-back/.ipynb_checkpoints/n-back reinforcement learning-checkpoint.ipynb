{
 "cells": [
  {
   "cell_type": "code",
   "execution_count": 87,
   "metadata": {
    "scrolled": true
   },
   "outputs": [
    {
     "name": "stdout",
     "output_type": "stream",
     "text": [
      "Network 350 Loaded\n",
      "Parameters:\n",
      "\n",
      "Train V: 2\n",
      "Test V: 0.5\n",
      "Pattern: 3x3\n"
     ]
    },
    {
     "data": {
      "application/vnd.jupyter.widget-view+json": {
       "model_id": "dbcde70f3f5e43b6971b0bdadd3b9b82",
       "version_major": 2,
       "version_minor": 0
      },
      "text/plain": [
       "  0%|          | 0/1 [00:00<?, ?it/s]"
      ]
     },
     "metadata": {},
     "output_type": "display_data"
    },
    {
     "name": "stdout",
     "output_type": "stream",
     "text": [
      "5e-06\n"
     ]
    },
    {
     "data": {
      "application/vnd.jupyter.widget-view+json": {
       "model_id": "9f02a5574a8049b9b76bd8b52bbbfeb1",
       "version_major": 2,
       "version_minor": 0
      },
      "text/plain": [
       "  0%|          | 0/1 [00:00<?, ?it/s]"
      ]
     },
     "metadata": {},
     "output_type": "display_data"
    },
    {
     "data": {
      "application/vnd.jupyter.widget-view+json": {
       "model_id": "249b347df1fa47f782d57501986dd9c9",
       "version_major": 2,
       "version_minor": 0
      },
      "text/plain": [
       "Running Simulation :   0%|          | 0/200 [00:00<?, ?it/s]"
      ]
     },
     "metadata": {},
     "output_type": "display_data"
    },
    {
     "name": "stdout",
     "output_type": "stream",
     "text": [
      "Target:0\n",
      "Currents: [2.5892202394372636e-05, 2.2481873357726377e-08]\n",
      "LimVal1:5e-06\n",
      "LimVal0:5e-06\n"
     ]
    },
    {
     "data": {
      "application/vnd.jupyter.widget-view+json": {
       "model_id": "085b9f5c78a44eeeb3bb161960c5269f",
       "version_major": 2,
       "version_minor": 0
      },
      "text/plain": [
       "Running Simulation :   0%|          | 0/200 [00:00<?, ?it/s]"
      ]
     },
     "metadata": {},
     "output_type": "display_data"
    },
    {
     "name": "stdout",
     "output_type": "stream",
     "text": [
      "Target:0\n",
      "Currents: [1.983418868173802e-05, 1.493419226164726e-07]\n",
      "LimVal1:5e-06\n",
      "LimVal0:5e-06\n"
     ]
    },
    {
     "data": {
      "application/vnd.jupyter.widget-view+json": {
       "model_id": "a8cbfc5f3fbf465f9a92a1fcf1b0cf47",
       "version_major": 2,
       "version_minor": 0
      },
      "text/plain": [
       "Running Simulation :   0%|          | 0/200 [00:00<?, ?it/s]"
      ]
     },
     "metadata": {},
     "output_type": "display_data"
    },
    {
     "name": "stdout",
     "output_type": "stream",
     "text": [
      "Target:0\n",
      "Target: 0.0\n",
      "Accuracy: 1.0\n",
      "Currents: [2.7673104394116016e-05, 1.2022685213390124e-05]\n",
      "LimVal1:5e-06\n",
      "LimVal0:5e-06\n"
     ]
    },
    {
     "data": {
      "application/vnd.jupyter.widget-view+json": {
       "model_id": "5ba065d704354bb884cca5dc15d6b163",
       "version_major": 2,
       "version_minor": 0
      },
      "text/plain": [
       "Running Simulation :   0%|          | 0/200 [00:00<?, ?it/s]"
      ]
     },
     "metadata": {},
     "output_type": "display_data"
    },
    {
     "name": "stdout",
     "output_type": "stream",
     "text": [
      "Target:0\n",
      "Currents: [0.00011088522393242313, 4.8196123072524486e-05]\n",
      "LimVal1:5e-06\n",
      "LimVal0:5e-06\n"
     ]
    },
    {
     "data": {
      "application/vnd.jupyter.widget-view+json": {
       "model_id": "e56ec701d9e14b019bec0cc018eafb6f",
       "version_major": 2,
       "version_minor": 0
      },
      "text/plain": [
       "Running Simulation :   0%|          | 0/200 [00:00<?, ?it/s]"
      ]
     },
     "metadata": {},
     "output_type": "display_data"
    },
    {
     "name": "stdout",
     "output_type": "stream",
     "text": [
      "Target:1\n",
      "Currents: [2.9645985020578153e-05, 2.107254228085101e-05]\n",
      "LimVal1:5e-06\n",
      "LimVal0:5e-06\n"
     ]
    },
    {
     "data": {
      "application/vnd.jupyter.widget-view+json": {
       "model_id": "4c87bd49099149b9bb2b940d8fb13519",
       "version_major": 2,
       "version_minor": 0
      },
      "text/plain": [
       "Running Simulation :   0%|          | 0/200 [00:00<?, ?it/s]"
      ]
     },
     "metadata": {},
     "output_type": "display_data"
    },
    {
     "name": "stdout",
     "output_type": "stream",
     "text": [
      "Target:0\n",
      "Target: 0.0\n",
      "Accuracy: 1.0\n",
      "Currents: [2.9266829820274907e-05, 1.6132242666452058e-05]\n",
      "LimVal1:5e-06\n",
      "LimVal0:5e-06\n"
     ]
    },
    {
     "data": {
      "application/vnd.jupyter.widget-view+json": {
       "model_id": "8aaf66bcfaf041779adaa4ca1222776f",
       "version_major": 2,
       "version_minor": 0
      },
      "text/plain": [
       "Running Simulation :   0%|          | 0/200 [00:00<?, ?it/s]"
      ]
     },
     "metadata": {},
     "output_type": "display_data"
    },
    {
     "name": "stdout",
     "output_type": "stream",
     "text": [
      "Target:0\n",
      "Currents: [0.00011710097600077534, 6.467007180417237e-05]\n",
      "LimVal1:5e-06\n",
      "LimVal0:5e-06\n"
     ]
    },
    {
     "data": {
      "application/vnd.jupyter.widget-view+json": {
       "model_id": "95dae4f79fad42d1bcbe780163e1d68f",
       "version_major": 2,
       "version_minor": 0
      },
      "text/plain": [
       "Running Simulation :   0%|          | 0/200 [00:00<?, ?it/s]"
      ]
     },
     "metadata": {},
     "output_type": "display_data"
    },
    {
     "name": "stdout",
     "output_type": "stream",
     "text": [
      "Target:1\n",
      "Currents: [3.634105978093039e-05, 4.268594764441725e-05]\n",
      "LimVal1:5e-06\n",
      "LimVal0:5e-06\n"
     ]
    },
    {
     "data": {
      "application/vnd.jupyter.widget-view+json": {
       "model_id": "5225a182612b4ee68850d8b3dd3b9e46",
       "version_major": 2,
       "version_minor": 0
      },
      "text/plain": [
       "Running Simulation :   0%|          | 0/200 [00:00<?, ?it/s]"
      ]
     },
     "metadata": {},
     "output_type": "display_data"
    },
    {
     "name": "stdout",
     "output_type": "stream",
     "text": [
      "Target:0\n",
      "Target: 0.0\n",
      "Accuracy: 1.0\n",
      "Currents: [3.192433104658066e-05, 2.0555558438465177e-05]\n",
      "LimVal1:5e-06\n",
      "LimVal0:5e-06\n"
     ]
    },
    {
     "data": {
      "application/vnd.jupyter.widget-view+json": {
       "model_id": "31fce8c39ce6457a88e9cbc0b072d3e3",
       "version_major": 2,
       "version_minor": 0
      },
      "text/plain": [
       "Running Simulation :   0%|          | 0/200 [00:00<?, ?it/s]"
      ]
     },
     "metadata": {},
     "output_type": "display_data"
    },
    {
     "name": "stdout",
     "output_type": "stream",
     "text": [
      "Target:0\n",
      "Currents: [0.00012775399659220273, 8.22839368156423e-05]\n",
      "LimVal1:5e-06\n",
      "LimVal0:5e-06\n"
     ]
    },
    {
     "data": {
      "application/vnd.jupyter.widget-view+json": {
       "model_id": "93f0cf3cf5cc40bd822a16c3836f093a",
       "version_major": 2,
       "version_minor": 0
      },
      "text/plain": [
       "Running Simulation :   0%|          | 0/200 [00:00<?, ?it/s]"
      ]
     },
     "metadata": {},
     "output_type": "display_data"
    },
    {
     "name": "stdout",
     "output_type": "stream",
     "text": [
      "Target:1\n",
      "Currents: [4.151524305329079e-05, 5.78208492846336e-05]\n",
      "LimVal1:5e-06\n",
      "LimVal0:5e-06\n"
     ]
    },
    {
     "data": {
      "application/vnd.jupyter.widget-view+json": {
       "model_id": "f58cd3783da14a30997482f4ce1bfa8b",
       "version_major": 2,
       "version_minor": 0
      },
      "text/plain": [
       "Running Simulation :   0%|          | 0/200 [00:00<?, ?it/s]"
      ]
     },
     "metadata": {},
     "output_type": "display_data"
    },
    {
     "name": "stdout",
     "output_type": "stream",
     "text": [
      "Target:0\n",
      "Target: 0.0\n",
      "Accuracy: 1.0\n",
      "Currents: [3.253479816014297e-05, 2.2762359393719415e-05]\n",
      "LimVal1:5e-06\n",
      "LimVal0:5e-06\n"
     ]
    },
    {
     "data": {
      "application/vnd.jupyter.widget-view+json": {
       "model_id": "a6f78e8ac24c45b1b50dd876598c80f7",
       "version_major": 2,
       "version_minor": 0
      },
      "text/plain": [
       "Running Simulation :   0%|          | 0/200 [00:00<?, ?it/s]"
      ]
     },
     "metadata": {},
     "output_type": "display_data"
    },
    {
     "name": "stdout",
     "output_type": "stream",
     "text": [
      "Target:1\n",
      "Currents: [5.3309474520310666e-05, 6.401238196502104e-05]\n",
      "LimVal1:5e-06\n",
      "LimVal0:5e-06\n"
     ]
    },
    {
     "data": {
      "application/vnd.jupyter.widget-view+json": {
       "model_id": "2fb470979c934e498562cda0855ad676",
       "version_major": 2,
       "version_minor": 0
      },
      "text/plain": [
       "Running Simulation :   0%|          | 0/200 [00:00<?, ?it/s]"
      ]
     },
     "metadata": {},
     "output_type": "display_data"
    },
    {
     "name": "stdout",
     "output_type": "stream",
     "text": [
      "Target:1\n",
      "Currents: [4.875078064001315e-05, 5.5517372921148664e-05]\n",
      "LimVal1:5e-06\n",
      "LimVal0:5e-06\n"
     ]
    },
    {
     "data": {
      "application/vnd.jupyter.widget-view+json": {
       "model_id": "68df07382e3842d5a2d389cd27cbd053",
       "version_major": 2,
       "version_minor": 0
      },
      "text/plain": [
       "Running Simulation :   0%|          | 0/200 [00:00<?, ?it/s]"
      ]
     },
     "metadata": {},
     "output_type": "display_data"
    },
    {
     "name": "stdout",
     "output_type": "stream",
     "text": [
      "Target:1\n",
      "Target: 1.0\n",
      "Accuracy: 0.82\n",
      "Currents: [1.3690419202317862e-05, 1.7095529867848635e-05]\n",
      "LimVal1:5e-06\n",
      "LimVal0:5e-06\n"
     ]
    },
    {
     "data": {
      "application/vnd.jupyter.widget-view+json": {
       "model_id": "ef6b43952d104871a0efb7997c2151cf",
       "version_major": 2,
       "version_minor": 0
      },
      "text/plain": [
       "Running Simulation :   0%|          | 0/200 [00:00<?, ?it/s]"
      ]
     },
     "metadata": {},
     "output_type": "display_data"
    },
    {
     "name": "stdout",
     "output_type": "stream",
     "text": [
      "Target:0\n",
      "Currents: [0.00014182463920992441, 0.00010814555718037844]\n",
      "LimVal1:5e-06\n",
      "LimVal0:5e-06\n"
     ]
    },
    {
     "data": {
      "application/vnd.jupyter.widget-view+json": {
       "model_id": "8e33938335d04a998483104add619f5d",
       "version_major": 2,
       "version_minor": 0
      },
      "text/plain": [
       "Running Simulation :   0%|          | 0/200 [00:00<?, ?it/s]"
      ]
     },
     "metadata": {},
     "output_type": "display_data"
    },
    {
     "name": "stdout",
     "output_type": "stream",
     "text": [
      "Target:1\n",
      "Currents: [4.240725231126285e-05, 5.9202184584352875e-05]\n",
      "LimVal1:5e-06\n",
      "LimVal0:5e-06\n"
     ]
    },
    {
     "data": {
      "application/vnd.jupyter.widget-view+json": {
       "model_id": "c148e06a3cd5426c87ea8e08437bba83",
       "version_major": 2,
       "version_minor": 0
      },
      "text/plain": [
       "Running Simulation :   0%|          | 0/200 [00:00<?, ?it/s]"
      ]
     },
     "metadata": {},
     "output_type": "display_data"
    },
    {
     "name": "stdout",
     "output_type": "stream",
     "text": [
      "Target:0\n",
      "Target: 0.0\n",
      "Accuracy: 0.805\n",
      "Currents: [3.65332530271431e-05, 2.5997672595896054e-05]\n",
      "LimVal1:5e-06\n",
      "LimVal0:5e-06\n"
     ]
    },
    {
     "data": {
      "application/vnd.jupyter.widget-view+json": {
       "model_id": "1fe30850ed574ed0a8c03a8c747aeecc",
       "version_major": 2,
       "version_minor": 0
      },
      "text/plain": [
       "Running Simulation :   0%|          | 0/200 [00:00<?, ?it/s]"
      ]
     },
     "metadata": {},
     "output_type": "display_data"
    },
    {
     "name": "stdout",
     "output_type": "stream",
     "text": [
      "Target:0\n",
      "Currents: [0.00014607370834449575, 0.00010421572564721059]\n",
      "LimVal1:5e-06\n",
      "LimVal0:5e-06\n"
     ]
    },
    {
     "data": {
      "application/vnd.jupyter.widget-view+json": {
       "model_id": "d4164975ba0941fca886c09185075cb8",
       "version_major": 2,
       "version_minor": 0
      },
      "text/plain": [
       "Running Simulation :   0%|          | 0/200 [00:00<?, ?it/s]"
      ]
     },
     "metadata": {},
     "output_type": "display_data"
    },
    {
     "name": "stdout",
     "output_type": "stream",
     "text": [
      "Target:1\n",
      "Currents: [4.831291247908861e-05, 9.015729993398121e-05]\n",
      "LimVal1:5e-06\n",
      "LimVal0:5e-06\n"
     ]
    },
    {
     "data": {
      "application/vnd.jupyter.widget-view+json": {
       "model_id": "4aa2afd66aa54aaabd383d2391f10636",
       "version_major": 2,
       "version_minor": 0
      },
      "text/plain": [
       "Running Simulation :   0%|          | 0/200 [00:00<?, ?it/s]"
      ]
     },
     "metadata": {},
     "output_type": "display_data"
    },
    {
     "name": "stdout",
     "output_type": "stream",
     "text": [
      "Target:0\n",
      "Target: 0.0\n",
      "Accuracy: 1.0\n",
      "Currents: [3.433287173577567e-05, 2.8674621921962534e-05]\n",
      "LimVal1:5e-06\n",
      "LimVal0:5e-06\n"
     ]
    },
    {
     "data": {
      "application/vnd.jupyter.widget-view+json": {
       "model_id": "36207bfb253a49c496166a09aca6f3f6",
       "version_major": 2,
       "version_minor": 0
      },
      "text/plain": [
       "Running Simulation :   0%|          | 0/200 [00:00<?, ?it/s]"
      ]
     },
     "metadata": {},
     "output_type": "display_data"
    },
    {
     "name": "stdout",
     "output_type": "stream",
     "text": [
      "Target:1\n",
      "Currents: [6.665419055680184e-05, 8.930249775957247e-05]\n",
      "LimVal1:5e-06\n",
      "LimVal0:5e-06\n"
     ]
    },
    {
     "data": {
      "application/vnd.jupyter.widget-view+json": {
       "model_id": "3485cb5f93244f1b9aa31b45b63140e0",
       "version_major": 2,
       "version_minor": 0
      },
      "text/plain": [
       "Running Simulation :   0%|          | 0/200 [00:00<?, ?it/s]"
      ]
     },
     "metadata": {},
     "output_type": "display_data"
    },
    {
     "name": "stdout",
     "output_type": "stream",
     "text": [
      "Target:1\n",
      "Currents: [5.7308071298532055e-05, 8.438965309809203e-05]\n",
      "LimVal1:5e-06\n",
      "LimVal0:5e-06\n"
     ]
    },
    {
     "data": {
      "application/vnd.jupyter.widget-view+json": {
       "model_id": "61054ba5103b4ef484459918d0ba846c",
       "version_major": 2,
       "version_minor": 0
      },
      "text/plain": [
       "Running Simulation :   0%|          | 0/200 [00:00<?, ?it/s]"
      ]
     },
     "metadata": {},
     "output_type": "display_data"
    },
    {
     "name": "stdout",
     "output_type": "stream",
     "text": [
      "Target:1\n",
      "Target: 1.0\n",
      "Accuracy: 0.74\n",
      "Currents: [1.5420851328726676e-05, 1.7929502834883266e-05]\n",
      "LimVal1:5e-06\n",
      "LimVal0:5e-06\n"
     ]
    },
    {
     "data": {
      "application/vnd.jupyter.widget-view+json": {
       "model_id": "a6c493fd6c0a49f9a956b71ad475c45c",
       "version_major": 2,
       "version_minor": 0
      },
      "text/plain": [
       "Running Simulation :   0%|          | 0/200 [00:00<?, ?it/s]"
      ]
     },
     "metadata": {},
     "output_type": "display_data"
    },
    {
     "name": "stdout",
     "output_type": "stream",
     "text": [
      "Target:0\n",
      "Currents: [0.00015450980825393963, 0.00013485970103678014]\n",
      "LimVal1:5e-06\n",
      "LimVal0:5e-06\n"
     ]
    },
    {
     "data": {
      "application/vnd.jupyter.widget-view+json": {
       "model_id": "439ea7d6d3e9448b9ed65dd06bd42536",
       "version_major": 2,
       "version_minor": 0
      },
      "text/plain": [
       "Running Simulation :   0%|          | 0/200 [00:00<?, ?it/s]"
      ]
     },
     "metadata": {},
     "output_type": "display_data"
    },
    {
     "name": "stdout",
     "output_type": "stream",
     "text": [
      "Target:1\n",
      "Currents: [5.660144541846991e-05, 6.456581647161627e-05]\n",
      "LimVal1:5e-06\n",
      "LimVal0:5e-06\n"
     ]
    },
    {
     "data": {
      "application/vnd.jupyter.widget-view+json": {
       "model_id": "3e728ff197f14d5fb35e4421c1621069",
       "version_major": 2,
       "version_minor": 0
      },
      "text/plain": [
       "Running Simulation :   0%|          | 0/200 [00:00<?, ?it/s]"
      ]
     },
     "metadata": {},
     "output_type": "display_data"
    },
    {
     "name": "stdout",
     "output_type": "stream",
     "text": [
      "Target:0\n",
      "Target: 0.0\n",
      "Accuracy: 0.76\n",
      "Currents: [3.665930155722696e-05, 2.9816157990638144e-05]\n",
      "LimVal1:5e-06\n",
      "LimVal0:5e-06\n"
     ]
    },
    {
     "data": {
      "application/vnd.jupyter.widget-view+json": {
       "model_id": "71f34e81de074117a3a72d5a24f80cc2",
       "version_major": 2,
       "version_minor": 0
      },
      "text/plain": [
       "Running Simulation :   0%|          | 0/200 [00:00<?, ?it/s]"
      ]
     },
     "metadata": {},
     "output_type": "display_data"
    },
    {
     "name": "stdout",
     "output_type": "stream",
     "text": [
      "Target:1\n",
      "Currents: [6.9834508582429e-05, 9.753504217039464e-05]\n",
      "LimVal1:5e-06\n",
      "LimVal0:5e-06\n"
     ]
    },
    {
     "data": {
      "application/vnd.jupyter.widget-view+json": {
       "model_id": "6f66ec4454654fd2804781cdbf61baeb",
       "version_major": 2,
       "version_minor": 0
      },
      "text/plain": [
       "Running Simulation :   0%|          | 0/200 [00:00<?, ?it/s]"
      ]
     },
     "metadata": {},
     "output_type": "display_data"
    },
    {
     "name": "stdout",
     "output_type": "stream",
     "text": [
      "Target:0\n",
      "Currents: [0.00014110632862299728, 0.00011538530999409507]\n",
      "LimVal1:5e-06\n",
      "LimVal0:5e-06\n"
     ]
    },
    {
     "data": {
      "application/vnd.jupyter.widget-view+json": {
       "model_id": "472d9b5fe2004e5b86560260a1772f85",
       "version_major": 2,
       "version_minor": 0
      },
      "text/plain": [
       "Running Simulation :   0%|          | 0/200 [00:00<?, ?it/s]"
      ]
     },
     "metadata": {},
     "output_type": "display_data"
    },
    {
     "name": "stdout",
     "output_type": "stream",
     "text": [
      "Target:1\n",
      "Target: 1.0\n",
      "Accuracy: 0.625\n",
      "Currents: [2.3168658629627754e-05, 2.4820882578754434e-05]\n",
      "LimVal1:7.500000000000001e-06\n",
      "LimVal0:3.7500000000000005e-06\n"
     ]
    },
    {
     "data": {
      "application/vnd.jupyter.widget-view+json": {
       "model_id": "cb2d1d1a89d94f3a90f51e23d4249af1",
       "version_major": 2,
       "version_minor": 0
      },
      "text/plain": [
       "Running Simulation :   0%|          | 0/200 [00:00<?, ?it/s]"
      ]
     },
     "metadata": {},
     "output_type": "display_data"
    },
    {
     "name": "stdout",
     "output_type": "stream",
     "text": [
      "Target:1\n",
      "Currents: [9.284811483914254e-05, 0.00010095615419817653]\n",
      "LimVal1:7.500000000000001e-06\n",
      "LimVal0:3.7500000000000005e-06\n"
     ]
    },
    {
     "data": {
      "application/vnd.jupyter.widget-view+json": {
       "model_id": "f6e1b7d2ac6347a9947b751734ceb56d",
       "version_major": 2,
       "version_minor": 0
      },
      "text/plain": [
       "Running Simulation :   0%|          | 0/200 [00:00<?, ?it/s]"
      ]
     },
     "metadata": {},
     "output_type": "display_data"
    },
    {
     "name": "stdout",
     "output_type": "stream",
     "text": [
      "Target:0\n",
      "Currents: [0.0001056774568756806, 0.00011484433641279287]\n",
      "LimVal1:7.500000000000001e-06\n",
      "LimVal0:3.7500000000000005e-06\n"
     ]
    },
    {
     "data": {
      "application/vnd.jupyter.widget-view+json": {
       "model_id": "be6b80cde1624863927b83ea7deba8e0",
       "version_major": 2,
       "version_minor": 0
      },
      "text/plain": [
       "Running Simulation :   0%|          | 0/200 [00:00<?, ?it/s]"
      ]
     },
     "metadata": {},
     "output_type": "display_data"
    },
    {
     "name": "stdout",
     "output_type": "stream",
     "text": [
      "Target:1\n",
      "Target: 1.0\n",
      "Accuracy: 0.995\n",
      "Currents: [2.2576698173743135e-05, 2.6053791851568548e-05]\n",
      "LimVal1:7.500000000000001e-06\n",
      "LimVal0:3.7500000000000005e-06\n"
     ]
    },
    {
     "data": {
      "application/vnd.jupyter.widget-view+json": {
       "model_id": "a475f50ea736448192bd60b685f5c5bf",
       "version_major": 2,
       "version_minor": 0
      },
      "text/plain": [
       "Running Simulation :   0%|          | 0/200 [00:00<?, ?it/s]"
      ]
     },
     "metadata": {},
     "output_type": "display_data"
    },
    {
     "name": "stdout",
     "output_type": "stream",
     "text": [
      "Target:1\n",
      "Currents: [9.033761763805658e-05, 0.00010422829978620887]\n",
      "LimVal1:7.500000000000001e-06\n",
      "LimVal0:3.7500000000000005e-06\n"
     ]
    },
    {
     "data": {
      "application/vnd.jupyter.widget-view+json": {
       "model_id": "41d488b0622544a586caddc399c27fc4",
       "version_major": 2,
       "version_minor": 0
      },
      "text/plain": [
       "Running Simulation :   0%|          | 0/200 [00:00<?, ?it/s]"
      ]
     },
     "metadata": {},
     "output_type": "display_data"
    },
    {
     "name": "stdout",
     "output_type": "stream",
     "text": [
      "Target:0\n",
      "Currents: [0.00010818068283591482, 0.00010031552291712966]\n",
      "LimVal1:7.500000000000001e-06\n",
      "LimVal0:3.7500000000000005e-06\n"
     ]
    },
    {
     "data": {
      "application/vnd.jupyter.widget-view+json": {
       "model_id": "bf44af55963d4f288eb463619175c86b",
       "version_major": 2,
       "version_minor": 0
      },
      "text/plain": [
       "Running Simulation :   0%|          | 0/200 [00:00<?, ?it/s]"
      ]
     },
     "metadata": {},
     "output_type": "display_data"
    },
    {
     "name": "stdout",
     "output_type": "stream",
     "text": [
      "Target:1\n",
      "Target: 1.0\n",
      "Accuracy: 1.0\n",
      "Currents: [2.3406263981466487e-05, 2.6362137588040353e-05]\n",
      "LimVal1:7.500000000000001e-06\n",
      "LimVal0:3.7500000000000005e-06\n"
     ]
    },
    {
     "data": {
      "application/vnd.jupyter.widget-view+json": {
       "model_id": "c74fe723bbb64894b43b997278aa5f61",
       "version_major": 2,
       "version_minor": 0
      },
      "text/plain": [
       "Running Simulation :   0%|          | 0/200 [00:00<?, ?it/s]"
      ]
     },
     "metadata": {},
     "output_type": "display_data"
    },
    {
     "name": "stdout",
     "output_type": "stream",
     "text": [
      "Target:1\n",
      "Currents: [9.361493973598228e-05, 0.00010540346508300558]\n",
      "LimVal1:7.500000000000001e-06\n",
      "LimVal0:3.7500000000000005e-06\n"
     ]
    },
    {
     "data": {
      "application/vnd.jupyter.widget-view+json": {
       "model_id": "73d9eafc8b274c02a70790096d783154",
       "version_major": 2,
       "version_minor": 0
      },
      "text/plain": [
       "Running Simulation :   0%|          | 0/200 [00:00<?, ?it/s]"
      ]
     },
     "metadata": {},
     "output_type": "display_data"
    },
    {
     "name": "stdout",
     "output_type": "stream",
     "text": [
      "Target:1\n",
      "Currents: [8.539588096210279e-05, 0.00010070134672811804]\n",
      "LimVal1:7.500000000000001e-06\n",
      "LimVal0:3.7500000000000005e-06\n"
     ]
    },
    {
     "data": {
      "application/vnd.jupyter.widget-view+json": {
       "model_id": "08283d6b485644a1abea8b9dbde537f3",
       "version_major": 2,
       "version_minor": 0
      },
      "text/plain": [
       "Running Simulation :   0%|          | 0/200 [00:00<?, ?it/s]"
      ]
     },
     "metadata": {},
     "output_type": "display_data"
    },
    {
     "name": "stdout",
     "output_type": "stream",
     "text": [
      "Target:1\n",
      "Target: 1.0\n",
      "Accuracy: 1.0\n",
      "Currents: [2.2453434365216813e-05, 2.6353893297626296e-05]\n",
      "LimVal1:7.500000000000001e-06\n",
      "LimVal0:3.7500000000000005e-06\n"
     ]
    },
    {
     "data": {
      "application/vnd.jupyter.widget-view+json": {
       "model_id": "9562a0667cd0437cbfda8b6ba1fc1569",
       "version_major": 2,
       "version_minor": 0
      },
      "text/plain": [
       "Running Simulation :   0%|          | 0/200 [00:00<?, ?it/s]"
      ]
     },
     "metadata": {},
     "output_type": "display_data"
    },
    {
     "name": "stdout",
     "output_type": "stream",
     "text": [
      "Target:1\n",
      "Currents: [8.983197673787019e-05, 0.00010545121266129664]\n",
      "LimVal1:7.500000000000001e-06\n",
      "LimVal0:3.7500000000000005e-06\n"
     ]
    },
    {
     "data": {
      "application/vnd.jupyter.widget-view+json": {
       "model_id": "1cadad8d41004e5fbff2db3d1faca764",
       "version_major": 2,
       "version_minor": 0
      },
      "text/plain": [
       "Running Simulation :   0%|          | 0/200 [00:00<?, ?it/s]"
      ]
     },
     "metadata": {},
     "output_type": "display_data"
    },
    {
     "name": "stdout",
     "output_type": "stream",
     "text": [
      "Target:0\n",
      "Currents: [0.0001129022743341741, 9.816250769120689e-05]\n",
      "LimVal1:7.500000000000001e-06\n",
      "LimVal0:3.7500000000000005e-06\n"
     ]
    },
    {
     "data": {
      "application/vnd.jupyter.widget-view+json": {
       "model_id": "2c5e0279257b47d099d1312b198d6d6b",
       "version_major": 2,
       "version_minor": 0
      },
      "text/plain": [
       "Running Simulation :   0%|          | 0/200 [00:00<?, ?it/s]"
      ]
     },
     "metadata": {},
     "output_type": "display_data"
    },
    {
     "name": "stdout",
     "output_type": "stream",
     "text": [
      "Target:1\n",
      "Target: 1.0\n",
      "Accuracy: 1.0\n",
      "Currents: [2.2335945004210554e-05, 2.6547813133470023e-05]\n",
      "LimVal1:7.500000000000001e-06\n",
      "LimVal0:3.7500000000000005e-06\n"
     ]
    },
    {
     "data": {
      "application/vnd.jupyter.widget-view+json": {
       "model_id": "c3b3d98865864e3dbbf3c7c86f555e33",
       "version_major": 2,
       "version_minor": 0
      },
      "text/plain": [
       "Running Simulation :   0%|          | 0/200 [00:00<?, ?it/s]"
      ]
     },
     "metadata": {},
     "output_type": "display_data"
    },
    {
     "name": "stdout",
     "output_type": "stream",
     "text": [
      "Target:1\n",
      "Currents: [8.935858394481077e-05, 0.00010619018093943589]\n",
      "LimVal1:7.500000000000001e-06\n",
      "LimVal0:3.7500000000000005e-06\n"
     ]
    },
    {
     "data": {
      "application/vnd.jupyter.widget-view+json": {
       "model_id": "7fa75f17b5054fdbb8cc7678c03157c1",
       "version_major": 2,
       "version_minor": 0
      },
      "text/plain": [
       "Running Simulation :   0%|          | 0/200 [00:00<?, ?it/s]"
      ]
     },
     "metadata": {},
     "output_type": "display_data"
    },
    {
     "name": "stdout",
     "output_type": "stream",
     "text": [
      "Target:0\n",
      "Currents: [0.0001120140981073272, 9.856565952750995e-05]\n",
      "LimVal1:7.500000000000001e-06\n",
      "LimVal0:3.7500000000000005e-06\n"
     ]
    },
    {
     "data": {
      "application/vnd.jupyter.widget-view+json": {
       "model_id": "095c6343b3024a29ab19961d382f63df",
       "version_major": 2,
       "version_minor": 0
      },
      "text/plain": [
       "Running Simulation :   0%|          | 0/200 [00:00<?, ?it/s]"
      ]
     },
     "metadata": {},
     "output_type": "display_data"
    },
    {
     "name": "stdout",
     "output_type": "stream",
     "text": [
      "Target:1\n",
      "Target: 1.0\n",
      "Accuracy: 1.0\n",
      "Currents: [2.2349034488885105e-05, 2.655672810229439e-05]\n",
      "LimVal1:7.500000000000001e-06\n",
      "LimVal0:3.7500000000000005e-06\n"
     ]
    },
    {
     "data": {
      "application/vnd.jupyter.widget-view+json": {
       "model_id": "c8fc56c5784d4c63a3a900e2aa892d9b",
       "version_major": 2,
       "version_minor": 0
      },
      "text/plain": [
       "Running Simulation :   0%|          | 0/200 [00:00<?, ?it/s]"
      ]
     },
     "metadata": {},
     "output_type": "display_data"
    },
    {
     "name": "stdout",
     "output_type": "stream",
     "text": [
      "Target:0\n",
      "Currents: [0.00012058196423546121, 0.00010582375578396156]\n",
      "LimVal1:7.500000000000001e-06\n",
      "LimVal0:3.7500000000000005e-06\n"
     ]
    },
    {
     "data": {
      "application/vnd.jupyter.widget-view+json": {
       "model_id": "81f00da008f14fc698b9f2ff85f3aa69",
       "version_major": 2,
       "version_minor": 0
      },
      "text/plain": [
       "Running Simulation :   0%|          | 0/200 [00:00<?, ?it/s]"
      ]
     },
     "metadata": {},
     "output_type": "display_data"
    },
    {
     "name": "stdout",
     "output_type": "stream",
     "text": [
      "Target:1\n",
      "Currents: [8.069807101627299e-05, 0.0001012810947987357]\n",
      "LimVal1:7.500000000000001e-06\n",
      "LimVal0:3.7500000000000005e-06\n"
     ]
    },
    {
     "data": {
      "application/vnd.jupyter.widget-view+json": {
       "model_id": "523f458187e54b2e9682ebc126aacb82",
       "version_major": 2,
       "version_minor": 0
      },
      "text/plain": [
       "Running Simulation :   0%|          | 0/200 [00:00<?, ?it/s]"
      ]
     },
     "metadata": {},
     "output_type": "display_data"
    },
    {
     "name": "stdout",
     "output_type": "stream",
     "text": [
      "Target:0\n",
      "Target: 0.0\n",
      "Accuracy: 0.745\n",
      "Currents: [3.5491154856236466e-05, 2.898478530621586e-05]\n",
      "LimVal1:7.500000000000001e-06\n",
      "LimVal0:3.7500000000000005e-06\n"
     ]
    },
    {
     "data": {
      "application/vnd.jupyter.widget-view+json": {
       "model_id": "51f4172b70654e16aaa8eec06b713a15",
       "version_major": 2,
       "version_minor": 0
      },
      "text/plain": [
       "Running Simulation :   0%|          | 0/200 [00:00<?, ?it/s]"
      ]
     },
     "metadata": {},
     "output_type": "display_data"
    },
    {
     "name": "stdout",
     "output_type": "stream",
     "text": [
      "Target:0\n",
      "Currents: [0.00014106628035115757, 0.00011813335251481573]\n",
      "LimVal1:7.500000000000001e-06\n",
      "LimVal0:3.7500000000000005e-06\n"
     ]
    },
    {
     "data": {
      "application/vnd.jupyter.widget-view+json": {
       "model_id": "22a580793e7a45688e069907b5fcb07f",
       "version_major": 2,
       "version_minor": 0
      },
      "text/plain": [
       "Running Simulation :   0%|          | 0/200 [00:00<?, ?it/s]"
      ]
     },
     "metadata": {},
     "output_type": "display_data"
    },
    {
     "name": "stdout",
     "output_type": "stream",
     "text": [
      "Target:1\n",
      "Currents: [6.807499945567126e-05, 9.194422184159224e-05]\n",
      "LimVal1:7.500000000000001e-06\n",
      "LimVal0:3.7500000000000005e-06\n"
     ]
    },
    {
     "data": {
      "application/vnd.jupyter.widget-view+json": {
       "model_id": "149c3295772440f4b472bb8fd1e42e8f",
       "version_major": 2,
       "version_minor": 0
      },
      "text/plain": [
       "Running Simulation :   0%|          | 0/200 [00:00<?, ?it/s]"
      ]
     },
     "metadata": {},
     "output_type": "display_data"
    },
    {
     "name": "stdout",
     "output_type": "stream",
     "text": [
      "Target:0\n",
      "Target: 0.0\n",
      "Accuracy: 0.865\n",
      "Currents: [3.52250791239015e-05, 3.2452293765300395e-05]\n",
      "LimVal1:7.500000000000001e-06\n",
      "LimVal0:3.7500000000000005e-06\n"
     ]
    },
    {
     "data": {
      "application/vnd.jupyter.widget-view+json": {
       "model_id": "aea87fd3fa4b45989f062b8e373adf3b",
       "version_major": 2,
       "version_minor": 0
      },
      "text/plain": [
       "Running Simulation :   0%|          | 0/200 [00:00<?, ?it/s]"
      ]
     },
     "metadata": {},
     "output_type": "display_data"
    },
    {
     "name": "stdout",
     "output_type": "stream",
     "text": [
      "Target:0\n",
      "Currents: [0.00014101634853729673, 0.00013005993852290042]\n",
      "LimVal1:7.500000000000001e-06\n",
      "LimVal0:3.7500000000000005e-06\n"
     ]
    },
    {
     "data": {
      "application/vnd.jupyter.widget-view+json": {
       "model_id": "f757221f97234c66b784b5551316244f",
       "version_major": 2,
       "version_minor": 0
      },
      "text/plain": [
       "Running Simulation :   0%|          | 0/200 [00:00<?, ?it/s]"
      ]
     },
     "metadata": {},
     "output_type": "display_data"
    },
    {
     "name": "stdout",
     "output_type": "stream",
     "text": [
      "Target:0\n",
      "Currents: [0.0001364190943408772, 0.00012443611942643208]\n",
      "LimVal1:7.500000000000001e-06\n",
      "LimVal0:3.7500000000000005e-06\n"
     ]
    },
    {
     "data": {
      "application/vnd.jupyter.widget-view+json": {
       "model_id": "a2123c58ddfb463f89c0bcd30bc56ec7",
       "version_major": 2,
       "version_minor": 0
      },
      "text/plain": [
       "Running Simulation :   0%|          | 0/200 [00:00<?, ?it/s]"
      ]
     },
     "metadata": {},
     "output_type": "display_data"
    },
    {
     "name": "stdout",
     "output_type": "stream",
     "text": [
      "Target:0\n",
      "Target: 0.0\n",
      "Accuracy: 1.0\n",
      "Currents: [3.511797100333862e-05, 3.144249503499754e-05]\n",
      "LimVal1:7.500000000000001e-06\n",
      "LimVal0:3.7500000000000005e-06\n"
     ]
    },
    {
     "data": {
      "application/vnd.jupyter.widget-view+json": {
       "model_id": "1389421ebfec456a90cfec0ca18b2ced",
       "version_major": 2,
       "version_minor": 0
      },
      "text/plain": [
       "Running Simulation :   0%|          | 0/200 [00:00<?, ?it/s]"
      ]
     },
     "metadata": {},
     "output_type": "display_data"
    },
    {
     "name": "stdout",
     "output_type": "stream",
     "text": [
      "Target:1\n",
      "Currents: [7.772048010564337e-05, 0.0001010924800954723]\n",
      "LimVal1:7.500000000000001e-06\n",
      "LimVal0:3.7500000000000005e-06\n"
     ]
    },
    {
     "data": {
      "application/vnd.jupyter.widget-view+json": {
       "model_id": "630e7b1cf7054e0cb15825b91ff9d0ce",
       "version_major": 2,
       "version_minor": 0
      },
      "text/plain": [
       "Running Simulation :   0%|          | 0/200 [00:00<?, ?it/s]"
      ]
     },
     "metadata": {},
     "output_type": "display_data"
    },
    {
     "name": "stdout",
     "output_type": "stream",
     "text": [
      "Target:0\n",
      "Currents: [0.00013430246901422588, 0.00011954674717082847]\n",
      "LimVal1:7.500000000000001e-06\n",
      "LimVal0:3.7500000000000005e-06\n"
     ]
    },
    {
     "data": {
      "application/vnd.jupyter.widget-view+json": {
       "model_id": "90cc75aa443c4809b32e23c76240bdfe",
       "version_major": 2,
       "version_minor": 0
      },
      "text/plain": [
       "Running Simulation :   0%|          | 0/200 [00:00<?, ?it/s]"
      ]
     },
     "metadata": {},
     "output_type": "display_data"
    },
    {
     "name": "stdout",
     "output_type": "stream",
     "text": [
      "Target:1\n",
      "Target: 1.0\n",
      "Accuracy: 0.845\n",
      "Currents: [2.0926041236355187e-05, 2.61597292811238e-05]\n",
      "LimVal1:7.500000000000001e-06\n",
      "LimVal0:3.7500000000000005e-06\n"
     ]
    },
    {
     "data": {
      "application/vnd.jupyter.widget-view+json": {
       "model_id": "f953848fa4a041b6805e75cf0a8c97ec",
       "version_major": 2,
       "version_minor": 0
      },
      "text/plain": [
       "Running Simulation :   0%|          | 0/200 [00:00<?, ?it/s]"
      ]
     },
     "metadata": {},
     "output_type": "display_data"
    },
    {
     "name": "stdout",
     "output_type": "stream",
     "text": [
      "Target:0\n",
      "Currents: [0.0001276519278714287, 0.00011919966011078649]\n",
      "LimVal1:7.500000000000001e-06\n",
      "LimVal0:3.7500000000000005e-06\n"
     ]
    },
    {
     "data": {
      "application/vnd.jupyter.widget-view+json": {
       "model_id": "0904a42a6daf4edd8489ff50fdbb4b9b",
       "version_major": 2,
       "version_minor": 0
      },
      "text/plain": [
       "Running Simulation :   0%|          | 0/200 [00:00<?, ?it/s]"
      ]
     },
     "metadata": {},
     "output_type": "display_data"
    },
    {
     "name": "stdout",
     "output_type": "stream",
     "text": [
      "Target:0\n",
      "Currents: [0.0001149333181668706, 0.00011725271795926995]\n",
      "LimVal1:7.500000000000001e-06\n",
      "LimVal0:3.7500000000000005e-06\n"
     ]
    },
    {
     "data": {
      "application/vnd.jupyter.widget-view+json": {
       "model_id": "6df55a242192437daabb066efaf3112e",
       "version_major": 2,
       "version_minor": 0
      },
      "text/plain": [
       "Running Simulation :   0%|          | 0/200 [00:00<?, ?it/s]"
      ]
     },
     "metadata": {},
     "output_type": "display_data"
    },
    {
     "name": "stdout",
     "output_type": "stream",
     "text": [
      "Target:0\n",
      "Target: 0.0\n",
      "Accuracy: 0.77\n",
      "Currents: [3.5482303207571426e-05, 3.176341196847712e-05]\n",
      "LimVal1:7.500000000000001e-06\n",
      "LimVal0:3.7500000000000005e-06\n"
     ]
    },
    {
     "data": {
      "application/vnd.jupyter.widget-view+json": {
       "model_id": "e5b80334bb024d619b82ca986d68f21d",
       "version_major": 2,
       "version_minor": 0
      },
      "text/plain": [
       "Running Simulation :   0%|          | 0/200 [00:00<?, ?it/s]"
      ]
     },
     "metadata": {},
     "output_type": "display_data"
    },
    {
     "name": "stdout",
     "output_type": "stream",
     "text": [
      "Target:0\n",
      "Currents: [0.00014190233419137795, 0.0001270748856974819]\n",
      "LimVal1:7.500000000000001e-06\n",
      "LimVal0:3.7500000000000005e-06\n"
     ]
    },
    {
     "data": {
      "application/vnd.jupyter.widget-view+json": {
       "model_id": "a1b50e9309874581bd56f3a534090d88",
       "version_major": 2,
       "version_minor": 0
      },
      "text/plain": [
       "Running Simulation :   0%|          | 0/200 [00:00<?, ?it/s]"
      ]
     },
     "metadata": {},
     "output_type": "display_data"
    },
    {
     "name": "stdout",
     "output_type": "stream",
     "text": [
      "Target:1\n",
      "Currents: [7.230215943775326e-05, 0.0001008669214463282]\n",
      "LimVal1:7.500000000000001e-06\n",
      "LimVal0:3.7500000000000005e-06\n"
     ]
    },
    {
     "data": {
      "application/vnd.jupyter.widget-view+json": {
       "model_id": "112bddc377e84dd99b5fcbd9d98587d2",
       "version_major": 2,
       "version_minor": 0
      },
      "text/plain": [
       "Running Simulation :   0%|          | 0/200 [00:00<?, ?it/s]"
      ]
     },
     "metadata": {},
     "output_type": "display_data"
    },
    {
     "name": "stdout",
     "output_type": "stream",
     "text": [
      "Target:0\n",
      "Target: 0.0\n",
      "Accuracy: 1.0\n",
      "Currents: [3.543023684602264e-05, 3.1873917107045855e-05]\n",
      "LimVal1:7.500000000000001e-06\n",
      "LimVal0:3.7500000000000005e-06\n"
     ]
    },
    {
     "data": {
      "application/vnd.jupyter.widget-view+json": {
       "model_id": "51710ff749ff4f7bbcd59fcca87eedf1",
       "version_major": 2,
       "version_minor": 0
      },
      "text/plain": [
       "Running Simulation :   0%|          | 0/200 [00:00<?, ?it/s]"
      ]
     },
     "metadata": {},
     "output_type": "display_data"
    },
    {
     "name": "stdout",
     "output_type": "stream",
     "text": [
      "Target:1\n",
      "Currents: [7.5691117372876e-05, 0.00010177626903399961]\n",
      "LimVal1:7.500000000000001e-06\n",
      "LimVal0:3.7500000000000005e-06\n"
     ]
    },
    {
     "data": {
      "application/vnd.jupyter.widget-view+json": {
       "model_id": "e69658d741ff46f2a3e6b88a7bde0999",
       "version_major": 2,
       "version_minor": 0
      },
      "text/plain": [
       "Running Simulation :   0%|          | 0/200 [00:00<?, ?it/s]"
      ]
     },
     "metadata": {},
     "output_type": "display_data"
    },
    {
     "name": "stdout",
     "output_type": "stream",
     "text": [
      "Target:0\n",
      "Currents: [0.0001357355074191268, 0.00012050208262412424]\n",
      "LimVal1:7.500000000000001e-06\n",
      "LimVal0:3.7500000000000005e-06\n"
     ]
    },
    {
     "data": {
      "application/vnd.jupyter.widget-view+json": {
       "model_id": "0331cbcb4dbc494ab2d6dfa44e49a5b9",
       "version_major": 2,
       "version_minor": 0
      },
      "text/plain": [
       "Running Simulation :   0%|          | 0/200 [00:00<?, ?it/s]"
      ]
     },
     "metadata": {},
     "output_type": "display_data"
    },
    {
     "name": "stdout",
     "output_type": "stream",
     "text": [
      "Target:1\n",
      "Target: 1.0\n",
      "Accuracy: 0.86\n",
      "Currents: [1.7387098219250043e-05, 2.2880642469900886e-05]\n",
      "LimVal1:7.500000000000001e-06\n",
      "LimVal0:3.7500000000000005e-06\n"
     ]
    },
    {
     "data": {
      "application/vnd.jupyter.widget-view+json": {
       "model_id": "8da7ebd4eb314ba3b0e7520138faa287",
       "version_major": 2,
       "version_minor": 0
      },
      "text/plain": [
       "Running Simulation :   0%|          | 0/200 [00:00<?, ?it/s]"
      ]
     },
     "metadata": {},
     "output_type": "display_data"
    },
    {
     "name": "stdout",
     "output_type": "stream",
     "text": [
      "Target:1\n",
      "Currents: [6.959603253872443e-05, 9.158615055300705e-05]\n",
      "LimVal1:7.500000000000001e-06\n",
      "LimVal0:3.7500000000000005e-06\n"
     ]
    },
    {
     "data": {
      "application/vnd.jupyter.widget-view+json": {
       "model_id": "c609ac5d9303446597e7340a8efc0a59",
       "version_major": 2,
       "version_minor": 0
      },
      "text/plain": [
       "Running Simulation :   0%|          | 0/200 [00:00<?, ?it/s]"
      ]
     },
     "metadata": {},
     "output_type": "display_data"
    },
    {
     "name": "stdout",
     "output_type": "stream",
     "text": [
      "Target:0\n",
      "Currents: [0.0001338039226618497, 0.0001280042275046004]\n",
      "LimVal1:7.500000000000001e-06\n",
      "LimVal0:3.7500000000000005e-06\n"
     ]
    },
    {
     "data": {
      "application/vnd.jupyter.widget-view+json": {
       "model_id": "0019a48c2ad842189203a39207b4ec9c",
       "version_major": 2,
       "version_minor": 0
      },
      "text/plain": [
       "Running Simulation :   0%|          | 0/200 [00:00<?, ?it/s]"
      ]
     },
     "metadata": {},
     "output_type": "display_data"
    },
    {
     "name": "stdout",
     "output_type": "stream",
     "text": [
      "Target:1\n",
      "Target: 1.0\n",
      "Accuracy: 1.0\n",
      "Currents: [2.356562300585758e-05, 2.785428471992832e-05]\n",
      "LimVal1:7.500000000000001e-06\n",
      "LimVal0:3.7500000000000005e-06\n"
     ]
    },
    {
     "data": {
      "application/vnd.jupyter.widget-view+json": {
       "model_id": "5217c986b2ba4430b4bfc234cc7c0f09",
       "version_major": 2,
       "version_minor": 0
      },
      "text/plain": [
       "Running Simulation :   0%|          | 0/200 [00:00<?, ?it/s]"
      ]
     },
     "metadata": {},
     "output_type": "display_data"
    },
    {
     "name": "stdout",
     "output_type": "stream",
     "text": [
      "Target:1\n",
      "Currents: [9.423767012994784e-05, 0.0001114381017616389]\n",
      "LimVal1:7.500000000000001e-06\n",
      "LimVal0:3.7500000000000005e-06\n"
     ]
    },
    {
     "data": {
      "application/vnd.jupyter.widget-view+json": {
       "model_id": "d75005f03e9b44b9b0c3ed490e8f30df",
       "version_major": 2,
       "version_minor": 0
      },
      "text/plain": [
       "Running Simulation :   0%|          | 0/200 [00:00<?, ?it/s]"
      ]
     },
     "metadata": {},
     "output_type": "display_data"
    },
    {
     "name": "stdout",
     "output_type": "stream",
     "text": [
      "Target:1\n",
      "Currents: [8.697226627049967e-05, 0.00010590506459870259]\n",
      "LimVal1:7.500000000000001e-06\n",
      "LimVal0:3.7500000000000005e-06\n"
     ]
    },
    {
     "data": {
      "application/vnd.jupyter.widget-view+json": {
       "model_id": "1223c28dd4b24407920005b68b9257fb",
       "version_major": 2,
       "version_minor": 0
      },
      "text/plain": [
       "Running Simulation :   0%|          | 0/200 [00:00<?, ?it/s]"
      ]
     },
     "metadata": {},
     "output_type": "display_data"
    },
    {
     "name": "stdout",
     "output_type": "stream",
     "text": [
      "Target:1\n",
      "Target: 1.0\n",
      "Accuracy: 1.0\n",
      "Currents: [2.2987498785617716e-05, 2.782506290968779e-05]\n",
      "LimVal1:7.500000000000001e-06\n",
      "LimVal0:3.7500000000000005e-06\n"
     ]
    },
    {
     "data": {
      "application/vnd.jupyter.widget-view+json": {
       "model_id": "2a2a5d867036436f96c7520d56232039",
       "version_major": 2,
       "version_minor": 0
      },
      "text/plain": [
       "Running Simulation :   0%|          | 0/200 [00:00<?, ?it/s]"
      ]
     },
     "metadata": {},
     "output_type": "display_data"
    },
    {
     "name": "stdout",
     "output_type": "stream",
     "text": [
      "Target:1\n",
      "Currents: [9.193499049439743e-05, 0.00011131181941428658]\n",
      "LimVal1:7.500000000000001e-06\n",
      "LimVal0:3.7500000000000005e-06\n"
     ]
    },
    {
     "data": {
      "application/vnd.jupyter.widget-view+json": {
       "model_id": "0704b321805e4a4981bbff359aeb5062",
       "version_major": 2,
       "version_minor": 0
      },
      "text/plain": [
       "Running Simulation :   0%|          | 0/200 [00:00<?, ?it/s]"
      ]
     },
     "metadata": {},
     "output_type": "display_data"
    },
    {
     "name": "stdout",
     "output_type": "stream",
     "text": [
      "Target:0\n",
      "Currents: [0.00010863094024688811, 0.0001074475204807464]\n",
      "LimVal1:7.500000000000001e-06\n",
      "LimVal0:3.7500000000000005e-06\n"
     ]
    },
    {
     "data": {
      "application/vnd.jupyter.widget-view+json": {
       "model_id": "e5161a9de3cd40289044803db05dbc81",
       "version_major": 2,
       "version_minor": 0
      },
      "text/plain": [
       "Running Simulation :   0%|          | 0/200 [00:00<?, ?it/s]"
      ]
     },
     "metadata": {},
     "output_type": "display_data"
    },
    {
     "name": "stdout",
     "output_type": "stream",
     "text": [
      "Target:1\n",
      "Target: 1.0\n",
      "Accuracy: 1.0\n",
      "Currents: [2.233154251287335e-05, 2.8065863178771183e-05]\n",
      "LimVal1:7.500000000000001e-06\n",
      "LimVal0:3.7500000000000005e-06\n"
     ]
    },
    {
     "data": {
      "application/vnd.jupyter.widget-view+json": {
       "model_id": "4914a2f2cda84e3c8fe7ec34923ec235",
       "version_major": 2,
       "version_minor": 0
      },
      "text/plain": [
       "Running Simulation :   0%|          | 0/200 [00:00<?, ?it/s]"
      ]
     },
     "metadata": {},
     "output_type": "display_data"
    },
    {
     "name": "stdout",
     "output_type": "stream",
     "text": [
      "Target:1\n",
      "Currents: [8.932857653900501e-05, 0.0001122773680627698]\n",
      "LimVal1:7.500000000000001e-06\n",
      "LimVal0:3.7500000000000005e-06\n"
     ]
    },
    {
     "data": {
      "application/vnd.jupyter.widget-view+json": {
       "model_id": "39bc69abee274d70b046428de53cef8f",
       "version_major": 2,
       "version_minor": 0
      },
      "text/plain": [
       "Running Simulation :   0%|          | 0/200 [00:00<?, ?it/s]"
      ]
     },
     "metadata": {},
     "output_type": "display_data"
    },
    {
     "name": "stdout",
     "output_type": "stream",
     "text": [
      "Target:1\n",
      "Currents: [8.091246540067991e-05, 0.00010631270615543048]\n",
      "LimVal1:7.500000000000001e-06\n",
      "LimVal0:3.7500000000000005e-06\n"
     ]
    },
    {
     "data": {
      "application/vnd.jupyter.widget-view+json": {
       "model_id": "c79c941cca9549bf9798efacd430a54a",
       "version_major": 2,
       "version_minor": 0
      },
      "text/plain": [
       "Running Simulation :   0%|          | 0/200 [00:00<?, ?it/s]"
      ]
     },
     "metadata": {},
     "output_type": "display_data"
    },
    {
     "name": "stdout",
     "output_type": "stream",
     "text": [
      "Target:1\n",
      "Target: 1.0\n",
      "Accuracy: 1.0\n",
      "Currents: [2.2197595295950014e-05, 2.7736114207541976e-05]\n",
      "LimVal1:7.500000000000001e-06\n",
      "LimVal0:3.7500000000000005e-06\n"
     ]
    },
    {
     "data": {
      "application/vnd.jupyter.widget-view+json": {
       "model_id": "e6f4b0fb4cc741538295a04a37b3d827",
       "version_major": 2,
       "version_minor": 0
      },
      "text/plain": [
       "Running Simulation :   0%|          | 0/200 [00:00<?, ?it/s]"
      ]
     },
     "metadata": {},
     "output_type": "display_data"
    },
    {
     "name": "stdout",
     "output_type": "stream",
     "text": [
      "Target:0\n",
      "Currents: [0.00012449635762042284, 0.00010993070502602983]\n",
      "LimVal1:7.500000000000001e-06\n",
      "LimVal0:3.7500000000000005e-06\n"
     ]
    },
    {
     "data": {
      "application/vnd.jupyter.widget-view+json": {
       "model_id": "b32486f5d9b94b5ba714561f4a024210",
       "version_major": 2,
       "version_minor": 0
      },
      "text/plain": [
       "Running Simulation :   0%|          | 0/200 [00:00<?, ?it/s]"
      ]
     },
     "metadata": {},
     "output_type": "display_data"
    },
    {
     "name": "stdout",
     "output_type": "stream",
     "text": [
      "Target:0\n",
      "Currents: [0.00011270066934880756, 0.00010310247569062127]\n",
      "LimVal1:7.500000000000001e-06\n",
      "LimVal0:3.7500000000000005e-06\n"
     ]
    },
    {
     "data": {
      "application/vnd.jupyter.widget-view+json": {
       "model_id": "cd4be77ae1ee4bb2ada26933ab86c846",
       "version_major": 2,
       "version_minor": 0
      },
      "text/plain": [
       "Running Simulation :   0%|          | 0/200 [00:00<?, ?it/s]"
      ]
     },
     "metadata": {},
     "output_type": "display_data"
    },
    {
     "name": "stdout",
     "output_type": "stream",
     "text": [
      "Target:0\n",
      "Target: 0.0\n",
      "Accuracy: 0.68\n",
      "Currents: [3.2896668890041945e-05, 3.085004540429805e-05]\n",
      "LimVal1:6.250000000000001e-06\n",
      "LimVal0:6.250000000000001e-06\n"
     ]
    },
    {
     "data": {
      "application/vnd.jupyter.widget-view+json": {
       "model_id": "3f54297753d84873bc55fbe65116d2ac",
       "version_major": 2,
       "version_minor": 0
      },
      "text/plain": [
       "Running Simulation :   0%|          | 0/200 [00:00<?, ?it/s]"
      ]
     },
     "metadata": {},
     "output_type": "display_data"
    },
    {
     "name": "stdout",
     "output_type": "stream",
     "text": [
      "Target:1\n",
      "Currents: [7.5665919558653e-05, 0.00010258368064880319]\n",
      "LimVal1:6.250000000000001e-06\n",
      "LimVal0:6.250000000000001e-06\n"
     ]
    },
    {
     "data": {
      "application/vnd.jupyter.widget-view+json": {
       "model_id": "71cd5d5222fc429489a01e9701b26864",
       "version_major": 2,
       "version_minor": 0
      },
      "text/plain": [
       "Running Simulation :   0%|          | 0/200 [00:00<?, ?it/s]"
      ]
     },
     "metadata": {},
     "output_type": "display_data"
    },
    {
     "name": "stdout",
     "output_type": "stream",
     "text": [
      "Target:0\n",
      "Currents: [0.00013123756735287977, 0.00011836947034853776]\n",
      "LimVal1:6.250000000000001e-06\n",
      "LimVal0:6.250000000000001e-06\n"
     ]
    },
    {
     "data": {
      "application/vnd.jupyter.widget-view+json": {
       "model_id": "4e61fc4681fe45958f3b98a5f9e38a46",
       "version_major": 2,
       "version_minor": 0
      },
      "text/plain": [
       "Running Simulation :   0%|          | 0/200 [00:00<?, ?it/s]"
      ]
     },
     "metadata": {},
     "output_type": "display_data"
    },
    {
     "name": "stdout",
     "output_type": "stream",
     "text": [
      "Target:1\n",
      "Target: 1.0\n",
      "Accuracy: 0.745\n",
      "Currents: [2.3290443715264213e-05, 2.8248965646528618e-05]\n",
      "LimVal1:6.250000000000001e-06\n",
      "LimVal0:6.250000000000001e-06\n"
     ]
    },
    {
     "data": {
      "application/vnd.jupyter.widget-view+json": {
       "model_id": "293303de01fe432cb9c240bfc5d13579",
       "version_major": 2,
       "version_minor": 0
      },
      "text/plain": [
       "Running Simulation :   0%|          | 0/200 [00:00<?, ?it/s]"
      ]
     },
     "metadata": {},
     "output_type": "display_data"
    },
    {
     "name": "stdout",
     "output_type": "stream",
     "text": [
      "Target:0\n",
      "Currents: [0.00012324959228079366, 0.00011985357852915002]\n",
      "LimVal1:6.250000000000001e-06\n",
      "LimVal0:6.250000000000001e-06\n"
     ]
    },
    {
     "data": {
      "application/vnd.jupyter.widget-view+json": {
       "model_id": "1a8ffa51165d47d98c57dd1449af1ac1",
       "version_major": 2,
       "version_minor": 0
      },
      "text/plain": [
       "Running Simulation :   0%|          | 0/200 [00:00<?, ?it/s]"
      ]
     },
     "metadata": {},
     "output_type": "display_data"
    },
    {
     "name": "stdout",
     "output_type": "stream",
     "text": [
      "Target:0\n",
      "Currents: [0.00011117887303891368, 0.00011081485190360377]\n",
      "LimVal1:6.250000000000001e-06\n",
      "LimVal0:6.250000000000001e-06\n"
     ]
    },
    {
     "data": {
      "application/vnd.jupyter.widget-view+json": {
       "model_id": "48630b5771e34276828cb849ebdd75c9",
       "version_major": 2,
       "version_minor": 0
      },
      "text/plain": [
       "Running Simulation :   0%|          | 0/200 [00:00<?, ?it/s]"
      ]
     },
     "metadata": {},
     "output_type": "display_data"
    },
    {
     "name": "stdout",
     "output_type": "stream",
     "text": [
      "Target:0\n",
      "Target: 0.0\n",
      "Accuracy: 0.68\n",
      "Currents: [3.578523114454556e-05, 3.16194189677392e-05]\n",
      "LimVal1:5.000000000000001e-06\n",
      "LimVal0:8.750000000000001e-06\n"
     ]
    },
    {
     "data": {
      "application/vnd.jupyter.widget-view+json": {
       "model_id": "9e92e7e70a8741b8a681ea8e46ff0ecb",
       "version_major": 2,
       "version_minor": 0
      },
      "text/plain": [
       "Running Simulation :   0%|          | 0/200 [00:00<?, ?it/s]"
      ]
     },
     "metadata": {},
     "output_type": "display_data"
    },
    {
     "name": "stdout",
     "output_type": "stream",
     "text": [
      "Target:1\n",
      "Currents: [7.092823835630772e-05, 0.00010646896010262625]\n",
      "LimVal1:5.000000000000001e-06\n",
      "LimVal0:8.750000000000001e-06\n"
     ]
    },
    {
     "data": {
      "application/vnd.jupyter.widget-view+json": {
       "model_id": "a66bb1f32a9542849c107ecdaa92c031",
       "version_major": 2,
       "version_minor": 0
      },
      "text/plain": [
       "Running Simulation :   0%|          | 0/200 [00:00<?, ?it/s]"
      ]
     },
     "metadata": {},
     "output_type": "display_data"
    },
    {
     "name": "stdout",
     "output_type": "stream",
     "text": [
      "Target:1\n",
      "Currents: [6.274731903924584e-05, 9.743637692595688e-05]\n",
      "LimVal1:5.000000000000001e-06\n",
      "LimVal0:8.750000000000001e-06\n"
     ]
    },
    {
     "data": {
      "application/vnd.jupyter.widget-view+json": {
       "model_id": "1b38702bafd2489ca4d5474a00fb17a9",
       "version_major": 2,
       "version_minor": 0
      },
      "text/plain": [
       "Running Simulation :   0%|          | 0/200 [00:00<?, ?it/s]"
      ]
     },
     "metadata": {},
     "output_type": "display_data"
    },
    {
     "name": "stdout",
     "output_type": "stream",
     "text": [
      "Target:1\n",
      "Target: 1.0\n",
      "Accuracy: 0.885\n",
      "Currents: [2.657291946187713e-05, 2.9857207227374355e-05]\n",
      "LimVal1:5.000000000000001e-06\n",
      "LimVal0:8.750000000000001e-06\n"
     ]
    },
    {
     "data": {
      "application/vnd.jupyter.widget-view+json": {
       "model_id": "b2cfffda743642d68c20b49bea9bd10d",
       "version_major": 2,
       "version_minor": 0
      },
      "text/plain": [
       "Running Simulation :   0%|          | 0/200 [00:00<?, ?it/s]"
      ]
     },
     "metadata": {},
     "output_type": "display_data"
    },
    {
     "name": "stdout",
     "output_type": "stream",
     "text": [
      "Target:0\n",
      "Currents: [0.0001089430779030666, 0.0001137045848063619]\n",
      "LimVal1:5.000000000000001e-06\n",
      "LimVal0:8.750000000000001e-06\n"
     ]
    },
    {
     "data": {
      "application/vnd.jupyter.widget-view+json": {
       "model_id": "8301de37e18e48bd80313c1a3fdaf4af",
       "version_major": 2,
       "version_minor": 0
      },
      "text/plain": [
       "Running Simulation :   0%|          | 0/200 [00:00<?, ?it/s]"
      ]
     },
     "metadata": {},
     "output_type": "display_data"
    },
    {
     "name": "stdout",
     "output_type": "stream",
     "text": [
      "Target:0\n",
      "Currents: [9.717894589029937e-05, 0.00010420028080976972]\n",
      "LimVal1:5.000000000000001e-06\n",
      "LimVal0:8.750000000000001e-06\n"
     ]
    },
    {
     "data": {
      "application/vnd.jupyter.widget-view+json": {
       "model_id": "139619cb5d3b4cb1989fbbaf521e4e7f",
       "version_major": 2,
       "version_minor": 0
      },
      "text/plain": [
       "Running Simulation :   0%|          | 0/200 [00:00<?, ?it/s]"
      ]
     },
     "metadata": {},
     "output_type": "display_data"
    },
    {
     "name": "stdout",
     "output_type": "stream",
     "text": [
      "Target:0\n",
      "Target: 0.0\n",
      "Accuracy: 0.595\n",
      "Currents: [3.6709898775486195e-05, 3.3021876702930706e-05]\n",
      "LimVal1:3.7500000000000014e-06\n",
      "LimVal0:1.125e-05\n"
     ]
    },
    {
     "data": {
      "application/vnd.jupyter.widget-view+json": {
       "model_id": "649851e0bc2f4f6bb98c624e517f3b86",
       "version_major": 2,
       "version_minor": 0
      },
      "text/plain": [
       "Running Simulation :   0%|          | 0/200 [00:00<?, ?it/s]"
      ]
     },
     "metadata": {},
     "output_type": "display_data"
    },
    {
     "name": "stdout",
     "output_type": "stream",
     "text": [
      "Target:0\n",
      "Currents: [0.00014684421027394515, 0.00013204983686054505]\n",
      "LimVal1:3.7500000000000014e-06\n",
      "LimVal0:1.125e-05\n"
     ]
    },
    {
     "data": {
      "application/vnd.jupyter.widget-view+json": {
       "model_id": "78417ccc04284110948e6a8703f63f61",
       "version_major": 2,
       "version_minor": 0
      },
      "text/plain": [
       "Running Simulation :   0%|          | 0/200 [00:00<?, ?it/s]"
      ]
     },
     "metadata": {},
     "output_type": "display_data"
    },
    {
     "name": "stdout",
     "output_type": "stream",
     "text": [
      "Target:1\n",
      "Currents: [6.018053743835337e-05, 9.532691386259408e-05]\n",
      "LimVal1:3.7500000000000014e-06\n",
      "LimVal0:1.125e-05\n"
     ]
    },
    {
     "data": {
      "application/vnd.jupyter.widget-view+json": {
       "model_id": "09b00d7c61f94c8295a64ada6626fda7",
       "version_major": 2,
       "version_minor": 0
      },
      "text/plain": [
       "Running Simulation :   0%|          | 0/200 [00:00<?, ?it/s]"
      ]
     },
     "metadata": {},
     "output_type": "display_data"
    },
    {
     "name": "stdout",
     "output_type": "stream",
     "text": [
      "Target:0\n",
      "Target: 0.0\n",
      "Accuracy: 1.0\n",
      "Currents: [3.6722163288052233e-05, 3.2824225479155e-05]\n",
      "LimVal1:3.7500000000000014e-06\n",
      "LimVal0:1.125e-05\n"
     ]
    },
    {
     "data": {
      "application/vnd.jupyter.widget-view+json": {
       "model_id": "b3364cb0889e46be8964ab895f7d7773",
       "version_major": 2,
       "version_minor": 0
      },
      "text/plain": [
       "Running Simulation :   0%|          | 0/200 [00:00<?, ?it/s]"
      ]
     },
     "metadata": {},
     "output_type": "display_data"
    },
    {
     "name": "stdout",
     "output_type": "stream",
     "text": [
      "Target:1\n",
      "Currents: [7.11114920772929e-05, 9.80364806496754e-05]\n",
      "LimVal1:3.7500000000000014e-06\n",
      "LimVal0:1.125e-05\n"
     ]
    },
    {
     "data": {
      "application/vnd.jupyter.widget-view+json": {
       "model_id": "769d2a81a9c744e98493c1197d752c69",
       "version_major": 2,
       "version_minor": 0
      },
      "text/plain": [
       "Running Simulation :   0%|          | 0/200 [00:00<?, ?it/s]"
      ]
     },
     "metadata": {},
     "output_type": "display_data"
    },
    {
     "name": "stdout",
     "output_type": "stream",
     "text": [
      "Target:0\n",
      "Currents: [0.00014168753302608555, 0.00012647339448208826]\n",
      "LimVal1:3.7500000000000014e-06\n",
      "LimVal0:1.125e-05\n"
     ]
    },
    {
     "data": {
      "application/vnd.jupyter.widget-view+json": {
       "model_id": "1fa57b8bb6c14fc187d40b1258794e44",
       "version_major": 2,
       "version_minor": 0
      },
      "text/plain": [
       "Running Simulation :   0%|          | 0/200 [00:00<?, ?it/s]"
      ]
     },
     "metadata": {},
     "output_type": "display_data"
    },
    {
     "name": "stdout",
     "output_type": "stream",
     "text": [
      "Target:1\n",
      "Target: 1.0\n",
      "Accuracy: 0.755\n",
      "Currents: [2.2926459669737048e-05, 2.672959899308738e-05]\n",
      "LimVal1:3.7500000000000014e-06\n",
      "LimVal0:1.125e-05\n"
     ]
    },
    {
     "data": {
      "application/vnd.jupyter.widget-view+json": {
       "model_id": "32e44ef90c7e4bae8f9f88521323e9a0",
       "version_major": 2,
       "version_minor": 0
      },
      "text/plain": [
       "Running Simulation :   0%|          | 0/200 [00:00<?, ?it/s]"
      ]
     },
     "metadata": {},
     "output_type": "display_data"
    },
    {
     "name": "stdout",
     "output_type": "stream",
     "text": [
      "Target:0\n",
      "Currents: [0.00012631984095833347, 0.00012707181826603352]\n",
      "LimVal1:3.7500000000000014e-06\n",
      "LimVal0:1.125e-05\n"
     ]
    },
    {
     "data": {
      "application/vnd.jupyter.widget-view+json": {
       "model_id": "4f104db9782f48c1918eb8e5caf68c9c",
       "version_major": 2,
       "version_minor": 0
      },
      "text/plain": [
       "Running Simulation :   0%|          | 0/200 [00:00<?, ?it/s]"
      ]
     },
     "metadata": {},
     "output_type": "display_data"
    },
    {
     "name": "stdout",
     "output_type": "stream",
     "text": [
      "Target:0\n",
      "Currents: [0.00011863691152093455, 0.0001245988234531555]\n",
      "LimVal1:3.7500000000000014e-06\n",
      "LimVal0:1.125e-05\n"
     ]
    },
    {
     "data": {
      "application/vnd.jupyter.widget-view+json": {
       "model_id": "f2e4bede149d4f5293736e26d6b83cd0",
       "version_major": 2,
       "version_minor": 0
      },
      "text/plain": [
       "Running Simulation :   0%|          | 0/200 [00:00<?, ?it/s]"
      ]
     },
     "metadata": {},
     "output_type": "display_data"
    },
    {
     "name": "stdout",
     "output_type": "stream",
     "text": [
      "Target:0\n",
      "Target: 0.0\n",
      "Accuracy: 0.775\n",
      "Currents: [3.63636234807599e-05, 3.268091578417044e-05]\n",
      "LimVal1:3.7500000000000014e-06\n",
      "LimVal0:1.125e-05\n"
     ]
    },
    {
     "data": {
      "application/vnd.jupyter.widget-view+json": {
       "model_id": "fde26d8214c8499ba8fa353fad650347",
       "version_major": 2,
       "version_minor": 0
      },
      "text/plain": [
       "Running Simulation :   0%|          | 0/200 [00:00<?, ?it/s]"
      ]
     },
     "metadata": {},
     "output_type": "display_data"
    },
    {
     "name": "stdout",
     "output_type": "stream",
     "text": [
      "Target:1\n",
      "Currents: [7.429073606137852e-05, 0.00010342316654087899]\n",
      "LimVal1:3.7500000000000014e-06\n",
      "LimVal0:1.125e-05\n"
     ]
    },
    {
     "data": {
      "application/vnd.jupyter.widget-view+json": {
       "model_id": "4a067555718a4f2b9b86169dbe217ea5",
       "version_major": 2,
       "version_minor": 0
      },
      "text/plain": [
       "Running Simulation :   0%|          | 0/200 [00:00<?, ?it/s]"
      ]
     },
     "metadata": {},
     "output_type": "display_data"
    },
    {
     "name": "stdout",
     "output_type": "stream",
     "text": [
      "Target:1\n",
      "Currents: [6.913267900631473e-05, 0.00010004664422312757]\n",
      "LimVal1:3.7500000000000014e-06\n",
      "LimVal0:1.125e-05\n"
     ]
    },
    {
     "data": {
      "application/vnd.jupyter.widget-view+json": {
       "model_id": "511706cbcf3f49cfb5b8c25f65270d59",
       "version_major": 2,
       "version_minor": 0
      },
      "text/plain": [
       "Running Simulation :   0%|          | 0/200 [00:00<?, ?it/s]"
      ]
     },
     "metadata": {},
     "output_type": "display_data"
    },
    {
     "name": "stdout",
     "output_type": "stream",
     "text": [
      "Target:1\n",
      "Target: 1.0\n",
      "Accuracy: 0.73\n",
      "Currents: [2.4898273471844915e-05, 2.8612162200519122e-05]\n",
      "LimVal1:3.7500000000000014e-06\n",
      "LimVal0:1.125e-05\n"
     ]
    },
    {
     "data": {
      "application/vnd.jupyter.widget-view+json": {
       "model_id": "9ca051c2f0b9453a8ac250808798af27",
       "version_major": 2,
       "version_minor": 0
      },
      "text/plain": [
       "Running Simulation :   0%|          | 0/200 [00:00<?, ?it/s]"
      ]
     },
     "metadata": {},
     "output_type": "display_data"
    },
    {
     "name": "stdout",
     "output_type": "stream",
     "text": [
      "Target:0\n",
      "Currents: [0.00012170352032861309, 0.00012222730127318563]\n",
      "LimVal1:3.7500000000000014e-06\n",
      "LimVal0:1.125e-05\n"
     ]
    },
    {
     "data": {
      "application/vnd.jupyter.widget-view+json": {
       "model_id": "a55f55e1950e4fc1b169638e54f9939f",
       "version_major": 2,
       "version_minor": 0
      },
      "text/plain": [
       "Running Simulation :   0%|          | 0/200 [00:00<?, ?it/s]"
      ]
     },
     "metadata": {},
     "output_type": "display_data"
    },
    {
     "name": "stdout",
     "output_type": "stream",
     "text": [
      "Target:0\n",
      "Currents: [0.00010122670437090607, 0.0001127253369502603]\n",
      "LimVal1:3.7500000000000014e-06\n",
      "LimVal0:1.125e-05\n"
     ]
    },
    {
     "data": {
      "application/vnd.jupyter.widget-view+json": {
       "model_id": "44513502993b43ceb04fe92d97c4c8ee",
       "version_major": 2,
       "version_minor": 0
      },
      "text/plain": [
       "Running Simulation :   0%|          | 0/200 [00:00<?, ?it/s]"
      ]
     },
     "metadata": {},
     "output_type": "display_data"
    },
    {
     "name": "stdout",
     "output_type": "stream",
     "text": [
      "Target:0\n",
      "Target: 0.0\n",
      "Accuracy: 0.74\n",
      "Currents: [3.667098370353612e-05, 3.3627838205127033e-05]\n",
      "LimVal1:3.7500000000000014e-06\n",
      "LimVal0:1.125e-05\n"
     ]
    },
    {
     "data": {
      "application/vnd.jupyter.widget-view+json": {
       "model_id": "b3e0ee1923e745e4a3bb2eb569044e8a",
       "version_major": 2,
       "version_minor": 0
      },
      "text/plain": [
       "Running Simulation :   0%|          | 0/200 [00:00<?, ?it/s]"
      ]
     },
     "metadata": {},
     "output_type": "display_data"
    },
    {
     "name": "stdout",
     "output_type": "stream",
     "text": [
      "Target:1\n",
      "Currents: [7.26637219254252e-05, 9.885511885472672e-05]\n",
      "LimVal1:3.7500000000000014e-06\n",
      "LimVal0:1.125e-05\n"
     ]
    },
    {
     "data": {
      "application/vnd.jupyter.widget-view+json": {
       "model_id": "ceb79bf60a41487cb2d4dd784fa0bed4",
       "version_major": 2,
       "version_minor": 0
      },
      "text/plain": [
       "Running Simulation :   0%|          | 0/200 [00:00<?, ?it/s]"
      ]
     },
     "metadata": {},
     "output_type": "display_data"
    },
    {
     "name": "stdout",
     "output_type": "stream",
     "text": [
      "Target:1\n",
      "Currents: [6.485159578103073e-05, 9.23921936825776e-05]\n",
      "LimVal1:3.7500000000000014e-06\n",
      "LimVal0:1.125e-05\n"
     ]
    },
    {
     "data": {
      "application/vnd.jupyter.widget-view+json": {
       "model_id": "713b55af2e7f4c85b1a0864fe8edc1cd",
       "version_major": 2,
       "version_minor": 0
      },
      "text/plain": [
       "Running Simulation :   0%|          | 0/200 [00:00<?, ?it/s]"
      ]
     },
     "metadata": {},
     "output_type": "display_data"
    },
    {
     "name": "stdout",
     "output_type": "stream",
     "text": [
      "Target:1\n",
      "Target: 1.0\n",
      "Accuracy: 0.715\n",
      "Currents: [2.2566108621231733e-05, 2.8388419013273768e-05]\n",
      "LimVal1:3.7500000000000014e-06\n",
      "LimVal0:1.125e-05\n"
     ]
    },
    {
     "data": {
      "application/vnd.jupyter.widget-view+json": {
       "model_id": "085aac56c09541a4b920256c8ec73ffc",
       "version_major": 2,
       "version_minor": 0
      },
      "text/plain": [
       "Running Simulation :   0%|          | 0/200 [00:00<?, ?it/s]"
      ]
     },
     "metadata": {},
     "output_type": "display_data"
    },
    {
     "name": "stdout",
     "output_type": "stream",
     "text": [
      "Target:0\n",
      "Currents: [0.00013154021595215362, 0.00012416511020144056]\n",
      "LimVal1:3.7500000000000014e-06\n",
      "LimVal0:1.125e-05\n"
     ]
    },
    {
     "data": {
      "application/vnd.jupyter.widget-view+json": {
       "model_id": "fb5585938f1744728f5687e9322a3332",
       "version_major": 2,
       "version_minor": 0
      },
      "text/plain": [
       "Running Simulation :   0%|          | 0/200 [00:00<?, ?it/s]"
      ]
     },
     "metadata": {},
     "output_type": "display_data"
    },
    {
     "name": "stdout",
     "output_type": "stream",
     "text": [
      "Target:1\n",
      "Currents: [0.00010187285358286477, 0.00011245317482549599]\n",
      "LimVal1:3.7500000000000014e-06\n",
      "LimVal0:1.125e-05\n"
     ]
    },
    {
     "data": {
      "application/vnd.jupyter.widget-view+json": {
       "model_id": "8b8101d682904bef832446c944b4fffe",
       "version_major": 2,
       "version_minor": 0
      },
      "text/plain": [
       "Running Simulation :   0%|          | 0/200 [00:00<?, ?it/s]"
      ]
     },
     "metadata": {},
     "output_type": "display_data"
    },
    {
     "name": "stdout",
     "output_type": "stream",
     "text": [
      "Target:0\n",
      "Target: 0.0\n",
      "Accuracy: 0.645\n",
      "Currents: [3.8235954064455445e-05, 3.363545369182944e-05]\n",
      "LimVal1:2.5000000000000015e-06\n",
      "LimVal0:1.375e-05\n"
     ]
    },
    {
     "data": {
      "application/vnd.jupyter.widget-view+json": {
       "model_id": "36ae38038b18458e94b30251e3c76ca1",
       "version_major": 2,
       "version_minor": 0
      },
      "text/plain": [
       "Running Simulation :   0%|          | 0/200 [00:00<?, ?it/s]"
      ]
     },
     "metadata": {},
     "output_type": "display_data"
    },
    {
     "name": "stdout",
     "output_type": "stream",
     "text": [
      "Target:0\n",
      "Currents: [0.00015331942081858957, 0.00013450522516510278]\n",
      "LimVal1:2.5000000000000015e-06\n",
      "LimVal0:1.375e-05\n"
     ]
    },
    {
     "data": {
      "application/vnd.jupyter.widget-view+json": {
       "model_id": "89ca1c2472ce4f5baca304838d590b6f",
       "version_major": 2,
       "version_minor": 0
      },
      "text/plain": [
       "Running Simulation :   0%|          | 0/200 [00:00<?, ?it/s]"
      ]
     },
     "metadata": {},
     "output_type": "display_data"
    },
    {
     "name": "stdout",
     "output_type": "stream",
     "text": [
      "Target:1\n",
      "Currents: [5.7490416018936355e-05, 9.386594566542575e-05]\n",
      "LimVal1:2.5000000000000015e-06\n",
      "LimVal0:1.375e-05\n"
     ]
    },
    {
     "data": {
      "application/vnd.jupyter.widget-view+json": {
       "model_id": "9b29b8fb7fe044e9b0a93187de428626",
       "version_major": 2,
       "version_minor": 0
      },
      "text/plain": [
       "Running Simulation :   0%|          | 0/200 [00:00<?, ?it/s]"
      ]
     },
     "metadata": {},
     "output_type": "display_data"
    },
    {
     "name": "stdout",
     "output_type": "stream",
     "text": [
      "Target:0\n",
      "Target: 0.0\n",
      "Accuracy: 1.0\n",
      "Currents: [3.5510009418806715e-05, 3.256021098484961e-05]\n",
      "LimVal1:2.5000000000000015e-06\n",
      "LimVal0:1.375e-05\n"
     ]
    },
    {
     "data": {
      "application/vnd.jupyter.widget-view+json": {
       "model_id": "107dfbf7d1254c4e89a4f4cea7cc5073",
       "version_major": 2,
       "version_minor": 0
      },
      "text/plain": [
       "Running Simulation :   0%|          | 0/200 [00:00<?, ?it/s]"
      ]
     },
     "metadata": {},
     "output_type": "display_data"
    },
    {
     "name": "stdout",
     "output_type": "stream",
     "text": [
      "Target:1\n",
      "Currents: [7.684262830449365e-05, 0.0001014051830698411]\n",
      "LimVal1:2.5000000000000015e-06\n",
      "LimVal0:1.375e-05\n"
     ]
    },
    {
     "data": {
      "application/vnd.jupyter.widget-view+json": {
       "model_id": "aef4b50fc9874d749a482efc9f5397b2",
       "version_major": 2,
       "version_minor": 0
      },
      "text/plain": [
       "Running Simulation :   0%|          | 0/200 [00:00<?, ?it/s]"
      ]
     },
     "metadata": {},
     "output_type": "display_data"
    },
    {
     "name": "stdout",
     "output_type": "stream",
     "text": [
      "Target:0\n",
      "Currents: [0.00013630412032841015, 0.000124312562152461]\n",
      "LimVal1:2.5000000000000015e-06\n",
      "LimVal0:1.375e-05\n",
      "saving sim data\n",
      "saved\n"
     ]
    }
   ],
   "source": [
    "#!/usr/bin/env python\n",
    "# coding: utf-8\n",
    "\n",
    "# In[ ]:\n",
    "\n",
    "\n",
    "\"\"\" \n",
    "\n",
    "Run Equilibrium Propagation / Backpropagation on Nanowire Networks for classification. \n",
    "\n",
    "Author: Alon Loeffler\n",
    "\n",
    "Required Files/Folders: learning_functions.py | edamame | asn_nw_00350_nj_01350_seed_1581_avl_10.00_disp_01.00_lx_50.00_ly_50.00.mat\n",
    "\n",
    "\"\"\"\n",
    "\n",
    "#IMPORTS:\n",
    "#Append path to Ruomin's Edamame Package (Nanowire Simulations)\n",
    "import sys\n",
    "import os\n",
    "\n",
    "sys.path.append('/import/silo2/aloe8475/Documents/edamame') #point to edamame locally\n",
    "sys.path.append('/import/silo2/aloe8475/Documents/CODE/Analysis/Training/Associative Learning/EquilProp') #point to edamame locally\n",
    "\n",
    "fileName='/import/silo2/aloe8475/Documents/Data/Associative Learning/Sparse Networks/asn_nw_00350_nj_01350_seed_1581_avl_10.00_disp_01.00_lx_50.00_ly_50.00'\n",
    "# fileName='/import/silo2/aloe8475/Documents/Data/Associative Learning/Sparse Networks/asn_nw_00698_nj_02582_seed_002_avl_10.00_disp_01.00_lx_75.00_ly_75.00'\n",
    "\n",
    "#point to network data path ^ \n",
    "\n",
    "saveFig='/import/silo2/aloe8475/Documents/Data/Figures/Equil Prop/' \n",
    "dataLoc='/import/silo2/aloe8475/Documents/Data/Associative Learning/EquilProp/'\n",
    "\n",
    "#import edamame (neuromorphic nanowire python package by Ruomin Zhu)\n",
    "from edamame import * \n",
    "import numpy as np\n",
    "import matplotlib.pyplot as plt\n",
    "import copy\n",
    "from scipy.io import loadmat, savemat\n",
    "import networkx as nx\n",
    "from tqdm.notebook import tqdm_notebook as tqdm\n",
    "from IPython.core.debugger import set_trace\n",
    "\n",
    "import pickle \n",
    "import _pickle as cPickle\n",
    "import gzip\n",
    "\n",
    "from learning_functions import genGridNW,point_on_line,dist,getWeightedGraph\n",
    "from learning_functions import calc_cost,setupStimulus,setupSourcesOnly,runTesting,getNWState,calcOutputs\n",
    "\n",
    "\" Create Inputs \"\n",
    "def createSimpleInputs(patternSize=3,numSamples=10,noise=False):\n",
    "    #SIMPLE ROW INPUTS:\n",
    "    np.random.seed(42)\n",
    "    \n",
    "    if patternSize==2:\n",
    "    #2x2 pattern:\n",
    "        orig_inputs=np.array((np.array([1,0,1,0]),np.array([0,1,0,1])))\n",
    "    elif patternSize==3:\n",
    "        #3x3 pattern:\n",
    "        orig_inputs=np.array((np.array([1,0,1,0,1,0,1,0,1]),np.array([0,1,0,1,1,1,0,1,0])))\n",
    "    orig_inputs=orig_inputs.astype('double')\n",
    "    samples=[[] for i in range(len(orig_inputs))]\n",
    "    new_inputs=np.array([orig_inputs]*numSamples)\n",
    "\n",
    "    #Pattern without Noise\n",
    "    NoNoiseInputs=[]\n",
    "    for targetClass in range(len(orig_inputs)):\n",
    "        NoNoiseInputs.append([int(i) for i in orig_inputs[targetClass]])\n",
    "#     set_trace()\n",
    "    #Make Noisy variants of simple patterns:\n",
    "    for i in range(len(orig_inputs)):\n",
    "        for j in range(numSamples):\n",
    "            randVals=np.random.randint(1,patternSize) #choose how many of the 3 sources will have noise\n",
    "            noiseVals=np.random.randint(patternSize, size=randVals)\n",
    "            temp=orig_inputs[i][orig_inputs[i]==1].astype('double')\n",
    "            if noise:\n",
    "                for val in noiseVals:\n",
    "                    temp[val]=np.double(np.random.random(1))\n",
    "            new_inputs[j][i][new_inputs[j][i]==1]=temp\n",
    "    #         samples[i].append(temp)\n",
    "    \n",
    "    #RESHAPE INPUTS INTO numSamplesx2\n",
    "    row1=[]\n",
    "    row2=[]\n",
    "    for i in range(len(new_inputs)):\n",
    "        row1.append(new_inputs[i][0])\n",
    "        row2.append(new_inputs[i][1])\n",
    "\n",
    "    inputs=np.array([row1,row2])\n",
    "    inputs=inputs.reshape(numSamples*2,orig_inputs.shape[1])\n",
    "    targets=np.zeros(numSamples*2)\n",
    "    targets[-numSamples:]=1\n",
    "\n",
    "    #change 0 volts to 0.05\n",
    "#     minVoltage=0.005\n",
    "#     inputs=inputs+minVoltage\n",
    "    \n",
    "    return inputs, targets,orig_inputs\n",
    "\n",
    "\" Load Networks \"\n",
    "def buildNetworks(fileName,ManualSources=True,numDrains=2,numSources=9):\n",
    "    #load data\n",
    "    nw=loadmat(fileName)\n",
    "    nwSize = nw['number_of_wires'][0][0]\n",
    "    print('Network '+str(nwSize)+ ' Loaded')\n",
    "#     this_seed=8639\n",
    "    Network=nw\n",
    "    connectivity=connectivity__(wires_dict=Network) \n",
    "\n",
    "    #fixing file structure from Matlab:\n",
    "    connectivity.avg_length=connectivity.avg_length[0][0]\n",
    "    connectivity.number_of_junctions=connectivity.number_of_junctions[0][0]\n",
    "    connectivity.centroid_dispersion=connectivity.centroid_dispersion[0][0]\n",
    "    connectivity.dispersion=connectivity.dispersion[0][0]\n",
    "    # connectivity.generating_number_of_wires=connectivity.generating_number_of_wires[0][0]\n",
    "    connectivity.gennorm_shape=connectivity.gennorm_shape[0][0]\n",
    "    connectivity.length_x=connectivity.length_x[0][0]\n",
    "    connectivity.length_y=connectivity.length_y[0][0]\n",
    "    connectivity.number_of_wires=connectivity.number_of_wires[0][0]\n",
    "    connectivity.numOfWires=connectivity.numOfWires[0][0]\n",
    "    connectivity.numOfJunctions=connectivity.numOfJunctions[0][0]\n",
    "    connectivity.theta=connectivity.theta[0][0]\n",
    "    connectivity.this_seed=connectivity.this_seed[0][0]\n",
    "    \n",
    "    #find x and y values of each end of each wire \n",
    "    xa=connectivity.xa[0]\n",
    "    xb=connectivity.xb[0]\n",
    "    ya=connectivity.ya[0]\n",
    "    yb=connectivity.yb[0]\n",
    "\n",
    "    #Pick Electrode placement/distance apart:\n",
    "    \n",
    "    #DRAINS\n",
    "    numDrains=3\n",
    "    ex=np.zeros(numDrains)*5#*15\n",
    "    if nwSize > 500:\n",
    "        eyVal=76\n",
    "    else:\n",
    "        eyVal= 51\n",
    "    ey=np.linspace(-1,eyVal,numDrains)#(-1,101,numDrains)\n",
    "\n",
    "    elecDrain=genGridNW(xa,xb,ya,yb,ex,ey) #generate drain locations in ex, ey coordinates\n",
    "\n",
    "\n",
    "    #IN A LINE:\n",
    "    if nwSize > 500:\n",
    "        exVal=75\n",
    "        eyVal = 74\n",
    "    else:\n",
    "        exVal=50\n",
    "        eyVal=49\n",
    "    ex=np.ones(numSources)*exVal#50\n",
    "    ey=np.linspace(-2,eyVal,numSources)#(-2,99,numSources)\n",
    "    \n",
    "    #IN A 3X3 GRID:\n",
    "    # middleNWx=int(connectivity.length_x/2)+1\n",
    "    # middleNWy=int(connectivity.length_y/2)-1\n",
    "    # distBwElecs=10\n",
    "    # ex=[middleNWx-distBwElecs,middleNWx-distBwElecs,middleNWx-distBwElecs,middleNWx,middleNWx,middleNWx,middleNWx+distBwElecs,middleNWx+distBwElecs,middleNWx+distBwElecs]\n",
    "    # ey=[middleNWy-distBwElecs,middleNWy,middleNWy+distBwElecs]*3\n",
    "\n",
    "    elecSource=genGridNW(xa,xb,ya,yb,ex,ey) #generate source locations in ex, ey coordinates\n",
    "\n",
    "\n",
    "    #Manual Source Placement:\n",
    "    if ManualSources:\n",
    "        if numSources==9:\n",
    "            if nwSize > 500:\n",
    "                elecSource=[678, 260, 491, 173, 628, 424, 301, 236, 483] #700nws\n",
    "            else:\n",
    "                elecSource=[23,320,194,74, 145, 317, 129, 34, 141] #350 nws\n",
    "\n",
    "        elif numSources == 4:\n",
    "            elecSource=[320,42,161,141]\n",
    "\n",
    "    elecDrain=elecDrain[[0,-1]]\n",
    "    \n",
    "    return connectivity,elecSource,elecDrain\n",
    "\n",
    "\n",
    "#ADD BACKPROP\n",
    "\n",
    "#This function runs each training epoch and saves the network state at the last timestep of that epoch   \n",
    "def getNWState_backprop(training_stimulus,state,drains,sources,tmpTiming,tmpTargets,limVal,limVal0,limVal1,run_time=2,dt=0.01,disable_tqdm=False):\n",
    "    eles = np.append(drains, sources) #all drains\n",
    "    #     if len(eles) == num_drain_training + num_source_training:\n",
    "    training_sim,cost = runSim_backprop(connectivity, \n",
    "                                   stimulus = training_stimulus,\n",
    "                                   junctionMode = 'tunneling',\n",
    "                                   dt = dt, T = run_time, \n",
    "                                   contactMode = 'preSet',\n",
    "                                   electrodes = eles,\n",
    "                                   findFirst = False,\n",
    "                                   start_state = state,\n",
    "                                   disable_tqdm=disable_tqdm,\n",
    "                                   collapse=False,tmpTiming=tmpTiming,tmpTargets=tmpTargets,\n",
    "                                   limVal=limVal,limVal0=limVal0,limVal1=limVal1)  \n",
    "    JS1 = getJunctionState(training_sim, -1) #save state\n",
    "    #     else: \n",
    "    #         print('Bless you Joel :)')\n",
    "    return training_sim,JS1   \n",
    "\n",
    "#Combine drain voltage change with runSim:\n",
    "def runSim_backprop(Connectivity, \n",
    "                    junctionMode='binary', collapse=False,\n",
    "                    criticalFlux=0.1, maxFlux=1.5e-1,\n",
    "                    contactMode='farthest', electrodes=None,\n",
    "                    dt=1e-3, T=10, \n",
    "                    stimulus = None,\n",
    "                    biasType = 'DC',\n",
    "                    onTime=0, offTime=50000000,\n",
    "                    onAmp=1, offAmp=0.005,\n",
    "                    f = 1, customSignal = None,\n",
    "                    start_state = None,\n",
    "                    lite_mode = False, save_steps = 1,\n",
    "                    findFirst = True,\n",
    "                    disable_tqdm = False,\n",
    "                    freeze_wire = None, freeze_junction = None, \n",
    "                    freeze_TimeStamp = None,tmpTiming=[],tmpTargets=[],\n",
    "                    limVal=0.5,limVal0=0.5,limVal1=0.5):\n",
    "\n",
    "    \"\"\"\n",
    "    For the case of multi electrodes, stimulus should be in parameters.\n",
    "    See help(stimulus__) for how to generate stimulus__ objects.\n",
    "    \"\"\"\n",
    "\n",
    "    SimulationOptions = simulationOptions__(dt = dt, T = T,\n",
    "                                            connectivity = Connectivity, \n",
    "                                            contactMode = contactMode,\n",
    "                                            electrodes = electrodes)\n",
    "\n",
    "    if ((contactMode == 'preSet') and (len(electrodes) > 2)) or stimulus is not None:\n",
    "        from sys import exit\n",
    "        if stimulus == None:\n",
    "            logging.warning(f'Multiple electrodes detected. Please input stimulus in parameters!')\n",
    "            exit()\n",
    "        if len(stimulus) < len(SimulationOptions.electrodes):\n",
    "            diff = len(SimulationOptions.electrodes) - len(stimulus)\n",
    "            for _ in range(diff):\n",
    "                stimulus.append(stimulus__('Drain', T = T, dt = dt))\n",
    "\n",
    "        if len(stimulus) > len(SimulationOptions.electrodes):\n",
    "            logging.warning(f'More stimulus than electrodes. Current setup has {len(SimulationOptions.electrodes)} electrodes!')\n",
    "            exit()\n",
    "            \n",
    "        if len(stimulus[0].signal) < len(SimulationOptions.TimeVector):\n",
    "            logging.warning(f'Stimulus length not correct, current time vector has length {len(SimulationOptions.TimeVector)}!')\n",
    "            exit()\n",
    "        SimulationOptions.stimulus = stimulus\n",
    "            \n",
    "    elif contactMode == 'boundary':\n",
    "        SimulationOptions.stimulus[:int(len(SimulationOptions.electrodes)/2)] = [stimulus__(biasType = biasType, \n",
    "                                                                                        T = T, dt = dt,\n",
    "                                                                                        onTime = onTime, offTime = offTime,\n",
    "                                                                                        onAmp = onAmp, offAmp = offAmp,\n",
    "                                                                                        f = f, customSignal= customSignal)\n",
    "                                                                                        for i in range(int(len(SimulationOptions.electrodes)/2))]\n",
    "    else:\n",
    "        SimulationOptions.stimulus[0] = stimulus__(biasType = biasType, \n",
    "                                                T = T, dt = dt,\n",
    "                                                onTime = onTime, offTime = offTime,\n",
    "                                                onAmp = onAmp, offAmp = offAmp,\n",
    "                                                    f = f, customSignal= customSignal)\n",
    "    if start_state == None: \n",
    "        JunctionState = junctionState__(Connectivity.numOfJunctions, \n",
    "                                    mode = junctionMode, collapse = collapse, \n",
    "                                    criticalFlux=criticalFlux, maxFlux = maxFlux)\n",
    "    else:\n",
    "        from copy import deepcopy\n",
    "        JunctionState = deepcopy(start_state)\n",
    "    \n",
    "    kwdict = dict()\n",
    "    if (freeze_wire != None) or (freeze_junction != None):\n",
    "        kwdict = dict(freeze_wire = freeze_wire,\n",
    "                    freeze_junction = freeze_junction, \n",
    "                    freeze_TimeStamp = freeze_TimeStamp)\n",
    "        \n",
    "    this_realization,cost = simulateNetwork_backprop(SimulationOptions, Connectivity, JunctionState,tmpTiming,tmpTargets,limVal,limVal0,limVal1,lite_mode, disable_tqdm, save_steps, **kwdict)\n",
    "    \n",
    "#     finalIter=np.max(np.nonzero(this_realization.electrodeCurrent))\n",
    "#     if finalIter < 199:\n",
    "#         this_realization.electrodeCurrent=this_realization.electrodeCurrent[:finalIter+1,:]\n",
    "#         this_realization.junctionVoltage=this_realization.junctionVoltage[:finalIter+1,:]\n",
    "#         this_realization.junctionConductance=this_realization.junctionConductance[:finalIter+1,:]\n",
    "#         this_realization.wireVoltage=this_realization.wireVoltage[:finalIter+1,:]\n",
    "#         this_realization.filamentState=this_realization.filamentState[:finalIter+1,:]\n",
    "#         this_realization.junctionSwitch=this_realization.junctionSwitch[:finalIter+1,:]\n",
    "        #final Iter = time , use that to find / save network state\n",
    "        \n",
    "        \n",
    "#         this_realization.TimeVector=this_realization.TimeVector[:finalIter+1,:]\n",
    "\n",
    "    #     remove zeros from simulations that ended early:\n",
    "#     this_realization.junctionCurrent\n",
    "    \n",
    "    if findFirst:\n",
    "        from edamame.analysis.GraphTheory import findCurrent\n",
    "        try:\n",
    "            activation = findCurrent(this_realization, 1)\n",
    "            logging.info(f'First current path {activation[0][0]} formed at time = {activation[1][0]} s.')\n",
    "        except:\n",
    "            logging.info('Unfortunately, no current path is formed in simulation time.')\n",
    "\n",
    "    return this_realization,cost\n",
    "\n",
    "def simulateNetwork_backprop(simulationOptions, connectivity, junctionState,tmpTiming,tmpTargets, limVoltage,limVal0,limVal1,lite_mode = False, disable_tqdm = False, save_steps = 1, **kwargs):\n",
    "    niterations = simulationOptions.NumOfIterations\n",
    "    electrodes = simulationOptions.electrodes\n",
    "    numOfElectrodes = len(electrodes)\n",
    "    E = connectivity.numOfJunctions\n",
    "    V = connectivity.numOfWires\n",
    "    edgeList = connectivity.edge_list\n",
    "#     onAmp     = simulationOptions.stimulus[3].onAmp\n",
    "    \n",
    "#     maxV      = onAmp *limVoltage\n",
    "    n         = num_drain_training #num of drains\n",
    "    cost      = []\n",
    "    beta      = 0.05\n",
    "    grad      = np.zeros((n)) #set gradients to zero for each epoch  \n",
    "\n",
    "    Network = network__()\n",
    "    sampling = np.arange(0, niterations, save_steps)\n",
    "    if lite_mode:\n",
    "        Network.connectivity = connectivity__(adjMat = connectivity.adj_matrix)\n",
    "        Network.filamentState = np.zeros((int(niterations/save_steps), E))\n",
    "        Network.wireVoltage = np.zeros((int(niterations/save_steps), V))\n",
    "        Network.electrodeCurrent = np.zeros((int(niterations/save_steps), numOfElectrodes))\n",
    "        Network.TimeVector = np.zeros(int(niterations/save_steps))\n",
    "    else:        \n",
    "        Network.connectivity = connectivity\n",
    "        Network.TimeVector = simulationOptions.TimeVector\n",
    "        Network.filamentState = np.zeros((niterations, E))\n",
    "        Network.junctionVoltage = np.zeros((niterations, E))\n",
    "        # Network.junctionResistance = np.zeros((niterations, E))\n",
    "        Network.junctionConductance = np.zeros((niterations, E))\n",
    "        Network.junctionSwitch = np.zeros((niterations, E), dtype = bool)\n",
    "        Network.wireVoltage = np.zeros((niterations, V))\n",
    "        Network.electrodeCurrent = np.zeros((niterations, numOfElectrodes))\n",
    "\n",
    "    Network.sources = []\n",
    "    Network.drains = []\n",
    "    for i in range(numOfElectrodes):\n",
    "        if np.mean(simulationOptions.stimulus[i].signal) != 0:\n",
    "            Network.sources.append(electrodes[i])\n",
    "        else:\n",
    "            Network.drains.append(electrodes[i])\n",
    "\n",
    "    if len(Network.drains) == 0:\n",
    "        Network.drains.append(electrodes[1])\n",
    "\n",
    "    if 'freeze_wire' in kwargs:\n",
    "        freeze_wire = kwargs['freeze_wire']\n",
    "        freeze_TimeStamp = kwargs['freeze_TimeStamp']\n",
    "    else:\n",
    "        freeze_TimeStamp = niterations + 1\n",
    "    \n",
    "    #Simulation Run:\n",
    "#     new_time=0\n",
    "    stopTrain=False\n",
    "    for this_time in tqdm(range(niterations), desc='Running Simulation ', disable = disable_tqdm): #each time step\n",
    "        if not stopTrain:\n",
    "            this_stimulus = np.array([i.signal[this_time] for i in simulationOptions.stimulus])\n",
    "\n",
    "        if tmpTiming[this_time]=='Train':\n",
    "#             print('--------')\n",
    "#             print('Training')\n",
    "#             print('--------\\n')\n",
    "            trainTime=True\n",
    "        elif tmpTiming[this_time]=='Test':\n",
    "#             print('--------')\n",
    "#             print('Testing')\n",
    "#             print('--------\\n') \n",
    "            trainTime=False\n",
    "\n",
    "        if trainTime and this_time > 0 and not stopTrain: #if we are training, change drain voltages, otherwise just use this_stimulus\n",
    "            this_stimulus[:num_drain_training]=new_stimulus \n",
    "\n",
    "#             print('in training '+str(this_time))\n",
    "#         elif this_time > trainTime:\n",
    "\n",
    "        sol = simCore(connectivity, junctionState, this_stimulus, electrodes, simulationOptions.dt)\n",
    "\n",
    "        if this_time >= freeze_TimeStamp:\n",
    "            others = np.setdiff1d(range(V), freeze_wire)\n",
    "            wireVoltage[others] = sol[others]\n",
    "        else:\n",
    "            wireVoltage = sol[0:V]\n",
    "\n",
    "        if lite_mode:\n",
    "            if this_time%save_steps == 0:\n",
    "                Network.wireVoltage[this_time//save_steps,:] = wireVoltage\n",
    "                Network.electrodeCurrent[this_time//save_steps,:] = sol[V:]\n",
    "                Network.filamentState[this_time//save_steps,:] = junctionState.filamentState\n",
    "                Network.TimeVector[this_time//save_steps] = simulationOptions.TimeVector[this_time]\n",
    "        else:\n",
    "            Network.wireVoltage[this_time,:] = wireVoltage\n",
    "            Network.electrodeCurrent[this_time,:] = sol[V:]\n",
    "            Network.filamentState[this_time,:] = junctionState.filamentState\n",
    "            Network.junctionVoltage[this_time,:] = junctionState.voltage\n",
    "            Network.junctionConductance[this_time,:] = junctionState.conductance\n",
    "            Network.junctionSwitch[this_time,:] = junctionState.OnOrOff\n",
    "\n",
    "        ## BackProp Implementation\n",
    "        y = Network.electrodeCurrent[this_time,:num_drain_training]\n",
    "        drainCurrents=y\n",
    "        if tmpTargets[this_time] != -1: #skip rest values\n",
    "            tarIdx=tmpTargets[this_time]\n",
    "            y = y/(maxCurrent[tarIdx]) # normalize  | | | how do we change max current to be not arbitrary? \n",
    "        # current method - run simulation before with just that drain and use current as maxCurrent\n",
    "\n",
    "            # change to threshold \n",
    "            d = allTargets[tarIdx]\n",
    "            dsig = this_stimulus[:num_drain_training]\n",
    "\n",
    "            #fixed max voltage\n",
    "            # compare y with threshold - if y is >= thresh, stop the training\n",
    "#             set_trace()\n",
    "\n",
    "            #vectorised implementation\n",
    "\n",
    "            cost.append(calc_cost(y,d))\n",
    "\n",
    "            if trainTime and not stopTrain: #if we are training, update beta\n",
    "                #Gradient without considering other electrodes:\n",
    "                if tarIdx==0:\n",
    "                    if drainCurrents[0]>=limVal0: #if greater or less than the target current, stop the simulation\n",
    "                        this_stimulus=np.zeros(len(this_stimulus))\n",
    "                        stopTrain=True\n",
    "                    else:\n",
    "                        stopTrain=False\n",
    "                        #instead of ending session, make everything 0V (inputs + drains)\n",
    "                        #make sure this doesn't last longer than filament decay length\n",
    "                elif tarIdx==1:\n",
    "                    if drainCurrents[1]>=limVal1: #if greater or less than the target current, stop simulation\n",
    "                        this_stimulus=np.zeros(len(this_stimulus))\n",
    "                        stopTrain=True\n",
    "                    else:\n",
    "                        stopTrain=False\n",
    "                        \n",
    "                if not stopTrain:        \n",
    "                    grad=beta*(y-d) #y = current, d = target #e.g. [y1 vs (d1 = 1), y2 vs (d2 = 0), y3vs (d3 = 0)]\n",
    "\n",
    "                    #dsig = old voltage drains, dsig2 = new voltage drains, onAmp = input voltage\n",
    "\n",
    "                    dsig2=np.array(dsig.T+grad)\n",
    "    #                     dsig2[0]=np.clip(dsig2[0],0,limVal0)\n",
    "    #                     dsig2[1]=np.clip(dsig2[1],0,limVal1)\n",
    "\n",
    "                    dsig2=np.clip(dsig2,-onAmp,onAmp) #set max and min voltages to less than inputs\n",
    "\n",
    "                    new_stimulus=dsig2\n",
    "\n",
    "            else:\n",
    "                new_stimulus=this_stimulus[:num_drain_training]\n",
    "\n",
    "    print('Target:' + str(tarIdx))\n",
    "#     print('Voltage: '+ str(new_stimulus))\n",
    "    \n",
    "    Network.numOfWires = V\n",
    "    Network.numOfJunctions = E\n",
    "    Network.electrodes = simulationOptions.electrodes\n",
    "    if len(electrodes) <= 2:\n",
    "        Network.conductance = Network.electrodeCurrent[:,1]/simulationOptions.stimulus[0].signal[sampling]\n",
    "    if not lite_mode:\n",
    "        Network.stimulus = [simulationOptions.stimulus[i] for i in range(numOfElectrodes)]\n",
    "        Network.junctionResistance = 1/Network.junctionConductance\n",
    "        \n",
    "    return Network,cost\n",
    "\n",
    "\n",
    "\n",
    "def runNBACK(onAmp,onAmpTest,dt,Tlen,timesteps,numDT,restDur,nbacks=[],maxCurrent=[1e-5,1e-5],limVal=0.5,accThresh=0.5,increaseVal=0.5,decreaseVal=0.25,seed=42,accThreshold=False):\n",
    "    \"\"\"\n",
    "    n-back task:\n",
    "    input sample 1 with backprop, then sample 2 with backprop, then sample 1 again with reset drain voltages \n",
    "    n back here = 1, showing memory\n",
    "    \n",
    "    train sample x, test sample x + nback (e.g. nback = 2, sample = [s1 train,s2,s3,s1 test] )\n",
    "\n",
    "    increase n-back: \n",
    "    sample 1 with backprop, sample 2, sample 3... test sample 1 - n=2\n",
    "    \n",
    "    Things to test:\n",
    "    - if we increase input frequency (dt), do we see greater long term memory? (higher n-backs)\n",
    "    - if we decrease frequency, do we see greater short term memory? (lower n-backs)\n",
    "\n",
    "    \"\"\"  \n",
    "    \n",
    "    t           = [[None]*120 for i in range(len(nbacks))]\n",
    "    simVoltages = []\n",
    "    saveStim    = []\n",
    "    count=0\n",
    "    for nback in nbacks: #how many samples to \"remember\" in the past before testing\n",
    "        np.random.seed(seed)\n",
    "        \n",
    "        numTestingSamples= 40 #how many samples across all nback values\n",
    "        \n",
    "        #completely random order\n",
    "        orderTraining = np.random.choice(len(trainingInputs),size=len(trainingInputs),replace=False)\n",
    "        \n",
    "        orderTrainingLabels=traininglabels[orderTraining]\n",
    "        orderTrainingLabelsNBACK=orderTrainingLabels[::nback] #these are the testing labels - every i+nback training sample is what we're testing\n",
    "        orderTesting=[]\n",
    "        for label in orderTrainingLabelsNBACK: #for each training label in the random order:\n",
    "            orderTesting.append(np.random.choice(np.where(testinglabels==label)[0]))\n",
    "        orderTestingLabels=testinglabels[orderTesting]    \n",
    "        orderTestingNBACK=np.array(orderTesting)+len(orderTraining) #number of test per nback\n",
    "         #choose how many samples between testing samples:\n",
    "        i = nback\n",
    "        temp=[]\n",
    "        j=0\n",
    "        order=[None]*(len(orderTraining))\n",
    "        order[:len(orderTraining)]=orderTraining\n",
    "        while j<numTestingSamples: #for each testing sample \n",
    "            if i < len(order): #only if we are within the total number of training samples\n",
    "                order.insert(i, orderTesting[j]+len(orderTraining)) #insert testing sample at ith position\n",
    "            temp.append(i) #keep track number of inserts we made, make sure it == numTestingSamples\n",
    "            i += nback+1\n",
    "            j +=1\n",
    "        \n",
    "        \n",
    "        #remove excess training (i.e. with no testing sample)\n",
    "        sampleTimes=numDT*(nback+1)\n",
    "        newTrainingOrder=orderTraining[:sampleTimes-numTestingSamples]\n",
    "        orderTrainingLabels=orderTrainingLabels[:sampleTimes-numTestingSamples]\n",
    "        order=order[:sampleTimes]\n",
    "        \n",
    "        \n",
    "#         print(order)\n",
    "#         print(len(order))\n",
    "        #RUN SIM\n",
    "        N                   = orig_inputs.shape[1]\n",
    "        numClasses          = 2\n",
    "        signalType          ='DC'\n",
    "        num_drain_training  = 2\n",
    "        num_source_training = N\n",
    "        tmpSources          = [[] for i in range(len(order))]\n",
    "        tmpTargets          = [None]*len(order)\n",
    "        sim                 = [None]*len(order)\n",
    "        thresholdValues     = [None]*len(order)\n",
    "        cost                = [None]*len(order)\n",
    "        simVoltages         = [None]*len(order)\n",
    "        accuracy    = []\n",
    "        numTrainingSamples  = len(trainingInputs)\n",
    "        numTestingSamples   = len(testingInputs)\n",
    "        \n",
    "        timing=[]\n",
    "        allLabels=[]\n",
    "        limVals0 = limVal\n",
    "        limVals1 = limVal\n",
    "        \n",
    "        i=0\n",
    "        numTests = 0\n",
    "        nwState = None\n",
    "        for val in order: #this method loops through samples in the randomised training order\n",
    "            \n",
    "            #FOR EACH SAMPLE:\n",
    "            \n",
    "            #are we training or testing?\n",
    "            if val in orderTestingNBACK:\n",
    "                test=True\n",
    "                train=False\n",
    "            elif val in orderTraining:\n",
    "                test=False\n",
    "                train=True\n",
    "                \n",
    "            #define samples\n",
    "            if train: #if we're training\n",
    "                this_sample = trainingInputs[val].copy() #xs\n",
    "                this_label  = traininglabels[val] #ys\n",
    "                this_sample[this_sample>0.005]=this_sample[this_sample>0.005]*onAmp #tune voltage based on onAmp\n",
    "                timing.append('Train')\n",
    "\n",
    "            elif test: #if we're testing\n",
    "                this_sample = testingInputs[val-len(orderTraining)].copy() #xs\n",
    "                this_label  = testinglabels[val-len(orderTraining)] #ys\n",
    "                this_sample[this_sample>0.005]=this_sample[this_sample>0.005]*onAmpTest\n",
    "                timing.append('Test')\n",
    "\n",
    "#             targetClassVals=[0,1] \n",
    "\n",
    "            targetTmp = signal_expand(this_label,numDT) #number of timesteps per target\n",
    "            timing[i] = signal_expand(timing[i],numDT)\n",
    "        #     #array of nans:\n",
    "            tmpArray=np.empty(restDur)\n",
    "            tmpArray[:]=-1\n",
    "            targetTmp = np.append(targetTmp,tmpArray) #add rest #need to remove targets from rest\n",
    "            tmpTargets[i]=targetTmp \n",
    "            for j in range(len(this_sample)): #for each source electrode\n",
    "                tmp = signal_expand(this_sample[j],numDT)\n",
    "                tmp = np.append(tmp,np.zeros(restDur)) #add rest\n",
    "                tmpSources[i].append(tmp)\n",
    "            allLabels.append(this_label)\n",
    "            \n",
    "            stimulus=[]\n",
    "            for m in range(num_drain_training): #create stimulus for each drain electrode\n",
    "                stimulus.append(stimulus__(biasType='Drain',T=dt*len(tmpSources[i][m]),dt=dt))\n",
    "\n",
    "            for m in range(len(tmpSources[i])): #create stimulus for each source electrode\n",
    "                stimulus.append(stimulus__(biasType='Custom',T=dt*len(tmpSources[i][m]),dt=dt,customSignal=tmpSources[i][m]))\n",
    "            \n",
    "            signalLen=len(stimulus[0].signal) \n",
    "            \n",
    "            sim[i],nwState = getNWState_backprop(stimulus,nwState,drain_pool,sources,timing[i],tmpTargets[i].astype('int'),limVal,limVals0,limVals1,run_time=int(signalLen*dt),dt=dt,disable_tqdm=False)\n",
    "\n",
    "            simVoltages[i]=(sim[i].wireVoltage)\n",
    "            \n",
    "            t[count][i]=(calcOutputs(sim[i],sources,drain_pool))\n",
    "        \n",
    "            if test: #if we are testing\n",
    "                #calucalte accuracy\n",
    "                accThreshold=False\n",
    "                if accThreshold:\n",
    "                    #add threshold of difference to ensure accuracy:\n",
    "                    argmaxvals=np.argmax([t[count][i][0],t[count][i][1]],axis=0)\n",
    "\n",
    "                    for s in range(len(argmaxvals)):\n",
    "                        if abs(t[count][i][0][s]-t[count][i][1][s])>1e-6 and argmaxvals[s]==1:\n",
    "                            argmaxvals[s]=1\n",
    "                        elif abs(t[count][i][0][s]-t[count][i][1][s])<1e-6 and argmaxvals[s] == 1:\n",
    "                            argmaxvals[s]=0\n",
    "#                     accuracy.append(np.sum(argmaxvals==tmpTargets[testTimes])/len(tmpTargets[testTimes]))\n",
    "                    accuracy.append(np.sum(argmaxvals==tmpTargets[i-nback])/len(tmpTargets[i-nback]))\n",
    "                else:\n",
    "                    accuracy.append(np.sum(np.argmax([t[count][i][0],t[count][i][1]],axis=0)==tmpTargets[i-nback])/len(tmpTargets[i-nback]))\n",
    "                \n",
    "                if i >0:\n",
    "                    if accuracy[numTests]<=accThresh: #if the accuracy is less than or equal to chance\n",
    "                        if this_label==0: #drain 1\n",
    "                            limVals0=limVals0+increaseVal #update 'max current limit based on reinforcement'\n",
    "                            limVals1=limVals1-decreaseVal\n",
    "                        elif this_label==1: #drain 2\n",
    "                            limVals0=limVals0-decreaseVal\n",
    "                            limVals1=limVals1+increaseVal                           \n",
    "                \n",
    "                print('Target: ' + str(tmpTargets[i][0]))\n",
    "                print('Accuracy: '+ str(accuracy[numTests]))\n",
    "                numTests+=1\n",
    "                \n",
    "                \n",
    "            fval1=np.max(np.nonzero(t[count][i][0]))\n",
    "            fval2=np.max(np.nonzero(t[count][i][1]))\n",
    "            print('Currents: ' + str([t[count][i][0][fval1],t[count][i][1][fval2]]))\n",
    "            print(\"LimVal1:\" + str(limVals1)) #just a checking/debugging print\n",
    "            print(\"LimVal0:\" + str(limVals0)) #just a checking/debugging print\n",
    "\n",
    "            thresholdValues[i]=[limVals0,limVals1]\n",
    "            i+=1 \n",
    "        \n",
    "        count+=1\n",
    "    return t,thresholdValues,sim,stimulus,accuracy,tmpTargets,newTrainingOrder,orderTesting,order,orderTestingLabels,testTimes,trainTimes,numTestingSamples,allLabels,orderTrainingLabels\n",
    "\n",
    "def trainTestSplit(inputs,targets,targetClassVals=[0,1],numTestingPerClass=3,orig_inputs=[]):\n",
    "    trainingInputs  = np.array([inputs[targets==targetClassVals[0]][:-numTestingPerClass],inputs[targets==targetClassVals[1]][:-numTestingPerClass]]).reshape(-1,orig_inputs.shape[1])\n",
    "    testingInputs   = np.array([inputs[targets==targetClassVals[0]][-numTestingPerClass:],inputs[targets==targetClassVals[1]][-numTestingPerClass:]]).reshape(-1,orig_inputs.shape[1])\n",
    "    #Define Training and Testing labels\n",
    "    traininglabels=np.zeros(len(trainingInputs))\n",
    "    traininglabels[:int(len(trainingInputs)/2)]=0\n",
    "    traininglabels[int(len(trainingInputs)/2):int(len(trainingInputs)/2)*2]=1\n",
    "    # traininglabels[int(len(trainingInputs)/3)*2:]=2\n",
    "    traininglabels=traininglabels.astype(int)\n",
    "\n",
    "    testinglabels=np.zeros(len(testingInputs))\n",
    "    testinglabels[:int(len(testingInputs)/2)]=0\n",
    "    testinglabels[int(len(testingInputs)/2):int(len(testingInputs)/2)*2]=1\n",
    "    # testinglabels[int(len(testingInputs)/3)*2:]=2\n",
    "    testinglabels=testinglabels.astype(int)\n",
    "    \n",
    "    return trainingInputs,testingInputs,traininglabels,testinglabels\n",
    "\n",
    "\n",
    "#TASK SETUP\n",
    "\n",
    "#Automatically chosen electrodes vs manual picked\n",
    "ManualSources=True\n",
    "#Number of training samples\n",
    "numSamples=50\n",
    "\n",
    "#Pattern (2x2 or 3x3)\n",
    "patternSize= 3 #2 or 3\n",
    "#Number of source electrodes (4 for 2x2, 9 for 3x3)\n",
    "numSources=9 # 4 or 9\n",
    "\n",
    "num_drain_training=2\n",
    "allTargets=[[1,0],[0,1]]\n",
    "targetClassVals=[0,1]\n",
    "numTestingPerClass=10\n",
    "\n",
    "#Amplitude:\n",
    "onAmp = 2 #Voltage for Training\n",
    "onAmpTest = 0.5 #Voltage for Testing\n",
    "\n",
    "#Noise\n",
    "noisey=False\n",
    "\n",
    "#create networks\n",
    "connectivity,sources,drain_pool=buildNetworks(fileName,ManualSources,num_drain_training,numSources)\n",
    "\n",
    "#create samples\n",
    "inputs,targets,orig_inputs=createSimpleInputs(patternSize,numSamples,noisey) #pattern size (e.g 3x3 = 3), number of samples, noise\n",
    "\n",
    "#split samples to train test\n",
    "trainingInputs,testingInputs,traininglabels,testinglabels = trainTestSplit(inputs,targets,targetClassVals,numTestingPerClass,orig_inputs=orig_inputs)\n",
    "\n",
    "#Run n-back Task\n",
    "\n",
    "#Time Parameters\n",
    "dt=0.01\n",
    "Tlen = 200\n",
    "timesteps   = Tlen/dt\n",
    "numDT       = int(timesteps/len(inputs)) #number of timesteps per sample\n",
    "restDur=0\n",
    "\n",
    "accThreshold=False #do we want to force a minimum (arbitrary) difference between target and non-target drain for accuracy to be counted?\n",
    "\n",
    "#Other Variables\n",
    "maxCurrent = [1e-5,1e-5] #target\n",
    "threshCurrent = [5e-6,5e-6]\n",
    "nbacks         = [2]#range(1,5)\n",
    "numRuns        = 1\n",
    "sim            = [None]*numRuns\n",
    "stimuli        = [None]*numRuns\n",
    "accuracy       = [None]*numRuns\n",
    "\n",
    "trainingOrder = [None]*numRuns\n",
    "testingOrder = [None]*numRuns\n",
    "testingLabels  = [None]*numRuns\n",
    "trainingLabels  = [None]*numRuns\n",
    "order          = [None]*numRuns\n",
    "testTimes      = [None]*numRuns\n",
    "trainTimes      = [None]*numRuns\n",
    "targets        = [None]*numRuns\n",
    "numTestingSamples = [None]*numRuns\n",
    "allLabels      = [None]*numRuns\n",
    "seeds          =  np.array([4695])#np.random.choice(10000,size=numRuns,replace=False)\n",
    "\n",
    "limValues = [threshCurrent[0]]#[1e-6]#list(np.arange(0.05,1.05,0.05))  #if we want to loop through onAmp limit voltage percentage for drains\n",
    "increaseVal=threshCurrent[0]/2\n",
    "decreaseVal=threshCurrent[0]/4\n",
    "accThresh=0.7\n",
    "\n",
    "loadOnly=False\n",
    "\n",
    "\n",
    "if loadOnly == False:\n",
    "    print('Parameters:\\n')\n",
    "    print('Train V: ' + str(onAmp))\n",
    "    print('Test V: ' + str(onAmpTest))\n",
    "    print('Pattern: ' + str(patternSize)+'x'+str(patternSize))\n",
    "    meanAcc=[]\n",
    "    stdAcc=[]\n",
    "    outputs=[]\n",
    "    for val in tqdm(limValues):\n",
    "        print(val)\n",
    "        for i in tqdm(range(numRuns)):\n",
    "            outputs.append(runNBACK(onAmp,onAmpTest,dt,Tlen,timesteps,numDT,restDur,nbacks,maxCurrent,val,accThresh,increaseVal,decreaseVal,seed=seeds[i],accThreshold=accThreshold))\n",
    "    if numRuns==1:\n",
    "        outputs=outputs[0]\n",
    "        t=outputs[0][0][:-1]\n",
    "        thresholds=outputs[1]\n",
    "        sim=outputs[2]\n",
    "        accuracy=outputs[4]\n",
    "        alltargets=outputs[5]\n",
    "        trainingOrder=outputs[6]\n",
    "        trainingLabels=outputs[-1]\n",
    "        testingLabels=outputs[9]\n",
    "        allLabels=outputs[-2]\n",
    "        numTestingSamples=outputs[-3]\n",
    "    else:\n",
    "        t = [None]*numRuns;thresholds=[None]*numRuns;sim=[None]*numRuns;accuracy=[None]*numRuns;alltargets=[None]*numRuns\n",
    "        trainingOrder=[None]*numRuns;trainingLabels=[None]*numRuns;testingLabels=[None]*numRuns;allLabels=[None]*numRuns\n",
    "        for run in range(numRuns):\n",
    "            t[run]=outputs[run][0][0][:-1]\n",
    "            thresholds[run]=outputs[run][1]\n",
    "            sim[run]=outputs[run][2]\n",
    "            accuracy[run]=outputs[run][4]\n",
    "            alltargets[run]=outputs[run][5]\n",
    "            trainingOrder[run]=outputs[run][6]\n",
    "            trainingLabels[run]=outputs[run][-1]\n",
    "            testingLabels[run]=outputs[run][9]\n",
    "            allLabels[run]=outputs[run][-2]\n",
    "            numTestingSamples=outputs[run][-3]\n",
    "\n",
    "    params={'Voltage':onAmp,'Test Voltage':onAmpTest,'Threshold Value':limValues,'Accuracy Threshold':accThresh,'ThreshIncrease':increaseVal,'ThreshDecrease':decreaseVal,'Random Seed':seeds,'Timesteps':Tlen,'Target Currents':maxCurrent,'dt':dt,'Num Samples':[119],'Num Trials':numRuns,'Noise':noisey}\n",
    "    print('saving sim data')\n",
    "    if patternSize==2:\n",
    "        saveName='data_350nw_1350nj_2x2_wThresh_Vtrn'+str(onAmp)+'_Vtst'+str(onAmpTest)+'_beta005_T200'\n",
    "        savemat(dataLoc+saveName+'.mat', {'Data':{'current':t,'threshold':thresholds, 'sim':sim,'accuracy':accuracy,'targets':alltargets,'training order':trainingOrder,'training labels':trainingLabels,'testing labels':testingLabels,'all labels':allLabels,'num test samples':numTestingSamples,'Parameters':params}})\n",
    "    else:\n",
    "        saveName='data_350nw_1350nj_3x3_wThresh_Vtrn'+str(onAmp)+'_Vtst'+str(onAmpTest)+'_beta005_T200'\n",
    "        savemat(dataLoc+saveName+'.mat', {'Data':{'current':t,'threshold':thresholds, 'sim':sim,'accuracy':accuracy,'targets':alltargets,'training order':trainingOrder,'training labels':trainingLabels,'testing labels':testingLabels,'all labels':allLabels,'num test samples':numTestingSamples,'Parameters':params}})        \n",
    "#     savemat(dataLoc+'nback'+str(nbacks[0])+'_data_700nw_2545nj_reinforcement_3x3_wLimThreshold_wAccThreshold.mat', {'Data':{'current':t,'threshold':thresholds, 'sim':sim,'accuracy':accuracy,'targets':alltargets,'training order':trainingOrder,'training labels':trainingLabels,'testing labels':testingLabels,'all labels':allLabels,'num test samples':numTestingSamples,'Parameters':params}})        \n",
    "    print('saved')\n",
    "else:\n",
    "    print('Loading')\n",
    "    out=loadmat(dataLoc+'nback'+str(nbacks[0])+'_data_350nw_1350nj_reinforcement_2x2_wLimThreshold_wAccThreshold.mat')\n",
    "    out=out['Data'][0][0]\n",
    "    t=out[0]\n",
    "    thresholds=out[1]\n",
    "    sim=out[2][0]\n",
    "    accuracy=out[3][0]\n",
    "    alltargets=out[4]\n",
    "    trainingOrder=out[5][0]\n",
    "    trainingLabels=out[6][0]\n",
    "    testingLabels=out[7][0]\n",
    "    allLabels=out[8][0]\n",
    "    numTestingSamples=out[9][0][0]\n"
   ]
  },
  {
   "cell_type": "code",
   "execution_count": 88,
   "metadata": {},
   "outputs": [
    {
     "data": {
      "text/plain": [
       "[23, 320, 194, 74, 145, 317, 129, 34, 141]"
      ]
     },
     "execution_count": 88,
     "metadata": {},
     "output_type": "execute_result"
    }
   ],
   "source": [
    "sources"
   ]
  },
  {
   "cell_type": "code",
   "execution_count": 89,
   "metadata": {
    "scrolled": true
   },
   "outputs": [
    {
     "data": {
      "text/plain": [
       "(-0.1, 1.1)"
      ]
     },
     "execution_count": 89,
     "metadata": {},
     "output_type": "execute_result"
    },
    {
     "data": {
      "image/png": "[encoded data removed]",
      "text/plain": [
       "<Figure size 432x288 with 1 Axes>"
      ]
     },
     "metadata": {
      "needs_background": "light"
     },
     "output_type": "display_data"
    }
   ],
   "source": [
    "plt.plot(accuracy,'-o')\n",
    "plt.ylim([-0.1,1.1])"
   ]
  },
  {
   "cell_type": "code",
   "execution_count": 90,
   "metadata": {},
   "outputs": [],
   "source": [
    "spl=nx.shortest_path_length(nx.from_numpy_array(connectivity.adj_matrix),drain_pool[1],drain_pool[0])"
   ]
  },
  {
   "cell_type": "code",
   "execution_count": 91,
   "metadata": {},
   "outputs": [
    {
     "data": {
      "text/plain": [
       "9"
      ]
     },
     "execution_count": 91,
     "metadata": {},
     "output_type": "execute_result"
    }
   ],
   "source": [
    "spl"
   ]
  },
  {
   "cell_type": "code",
   "execution_count": 92,
   "metadata": {},
   "outputs": [
    {
     "data": {
      "text/plain": [
       "array([0.22222222, 0.22769649, 0.23316656, 0.23863243, 0.24409409,\n",
       "       0.24955156, 0.25500484, 0.26045393, 0.26589882, 0.27133826,\n",
       "       0.2767596 , 0.28219714, 0.28760649, 0.29301199, 0.29841687,\n",
       "       0.30382498, 0.30919354, 0.31451004, 0.31980326, 0.32508009,\n",
       "       0.3303468 , 0.33560402, 0.34080545, 0.34598339, 0.35114876,\n",
       "       0.35630014, 0.36142253, 0.36651407, 0.37155367, 0.37650473,\n",
       "       0.38135706, 0.38604634, 0.39031126, 0.39326089, 0.22222222,\n",
       "       0.22222222, 0.22222222, 0.22222222, 0.22222222, 0.22222222,\n",
       "       0.22222222, 0.22222222, 0.22222222, 0.22222222, 0.22222222,\n",
       "       0.22222222, 0.22222222, 0.22222222, 0.22222222, 0.22222222,\n",
       "       0.22222222, 0.22222222, 0.22222222, 0.22222222, 0.22222222,\n",
       "       0.22222222, 0.22222222, 0.22222222, 0.22222222, 0.22222222,\n",
       "       0.22222222, 0.22222222, 0.22222222, 0.22222222, 0.22222222,\n",
       "       0.22222222, 0.22222222, 0.22222222, 0.22222222, 0.22222222,\n",
       "       0.22222222, 0.22222222, 0.22222222, 0.22222222, 0.22222222,\n",
       "       0.22222222, 0.22222222, 0.22222222, 0.22222222, 0.22222222,\n",
       "       0.22222222, 0.22222222, 0.22222222, 0.22222222, 0.22222222,\n",
       "       0.22222222, 0.22222222, 0.22222222, 0.22222222, 0.22222222,\n",
       "       0.22222222, 0.22222222, 0.22222222, 0.22222222, 0.22222222,\n",
       "       0.22222222, 0.22222222, 0.22222222, 0.22222222, 0.22222222,\n",
       "       0.22222222, 0.22222222, 0.22222222, 0.22222222, 0.22222222,\n",
       "       0.22222222, 0.22222222, 0.22222222, 0.22222222, 0.22222222,\n",
       "       0.22222222, 0.22222222, 0.22222222, 0.22222222, 0.22222222,\n",
       "       0.22222222, 0.22222222, 0.22222222, 0.22222222, 0.22222222,\n",
       "       0.22222222, 0.22222222, 0.22222222, 0.22222222, 0.22222222,\n",
       "       0.22222222, 0.22222222, 0.22222222, 0.22222222, 0.22222222,\n",
       "       0.22222222, 0.22222222, 0.22222222, 0.22222222, 0.22222222,\n",
       "       0.22222222, 0.22222222, 0.22222222, 0.22222222, 0.22222222,\n",
       "       0.22222222, 0.22222222, 0.22222222, 0.22222222, 0.22222222,\n",
       "       0.22222222, 0.22222222, 0.22222222, 0.22222222, 0.22222222,\n",
       "       0.22222222, 0.22222222, 0.22222222, 0.22222222, 0.22222222,\n",
       "       0.22222222, 0.22222222, 0.22222222, 0.22222222, 0.22222222,\n",
       "       0.22222222, 0.22222222, 0.22222222, 0.22222222, 0.22222222,\n",
       "       0.22222222, 0.22222222, 0.22222222, 0.22222222, 0.22222222,\n",
       "       0.22222222, 0.22222222, 0.22222222, 0.22222222, 0.22222222,\n",
       "       0.22222222, 0.22222222, 0.22222222, 0.22222222, 0.22222222,\n",
       "       0.22222222, 0.22222222, 0.22222222, 0.22222222, 0.22222222,\n",
       "       0.22222222, 0.22222222, 0.22222222, 0.22222222, 0.22222222,\n",
       "       0.22222222, 0.22222222, 0.22222222, 0.22222222, 0.22222222,\n",
       "       0.22222222, 0.22222222, 0.22222222, 0.22222222, 0.22222222])"
      ]
     },
     "execution_count": 92,
     "metadata": {},
     "output_type": "execute_result"
    }
   ],
   "source": [
    "((onAmp-sim[0].wireVoltage[:,drain_pool[0]])/spl)"
   ]
  },
  {
   "cell_type": "code",
   "execution_count": 93,
   "metadata": {},
   "outputs": [],
   "source": [
    "sampleTimes=numDT*(nbacks[0]+1)"
   ]
  },
  {
   "cell_type": "code",
   "execution_count": 94,
   "metadata": {},
   "outputs": [],
   "source": [
    "signalLen=200*len(alltargets)"
   ]
  },
  {
   "cell_type": "code",
   "execution_count": 95,
   "metadata": {},
   "outputs": [],
   "source": [
    "nback=nbacks[0]\n",
    "tmp=numDT*nback\n",
    "A=np.array(range(tmp,signalLen,int(tmp+numDT))) #training \n",
    "B=np.array(range(tmp+numDT,signalLen,int(tmp+numDT)))# testing\n",
    "c=[]\n",
    "for k in range(len(B)):\n",
    "    c.append(range(A[k],B[k]))\n",
    "testTimes=np.array(np.hstack(c))\n",
    "l=range(signalLen)\n",
    "trainTimes=np.array(np.hstack([m for m in l if m not in testTimes]))\n",
    "\n",
    "#test and train samples:\n",
    "testSamples=[]\n",
    "for i in range(-1,len(alltargets),3):\n",
    "    if i > 0:\n",
    "        testSamples.append(i)\n",
    "testSamples=np.array(testSamples)\n",
    "trainSamples = np.setdiff1d(np.array(range(len(alltargets))),testSamples)"
   ]
  },
  {
   "cell_type": "code",
   "execution_count": 96,
   "metadata": {},
   "outputs": [],
   "source": [
    "drain1=[];drain2=[]\n",
    "for i in range(len(t)-2):\n",
    "    drain1.append(t[i][0])\n",
    "    drain2.append(t[i][1])\n",
    "    \n",
    "drain1test=np.array(drain1)[testSamples]\n",
    "drain2test=np.array(drain2)[testSamples]\n",
    "\n",
    "targets=np.array(alltargets)[testSamples]"
   ]
  },
  {
   "cell_type": "code",
   "execution_count": 97,
   "metadata": {
    "scrolled": true
   },
   "outputs": [
    {
     "data": {
      "application/vnd.jupyter.widget-view+json": {
       "model_id": "542a6ade329847bc869899cfe7cedcc7",
       "version_major": 2,
       "version_minor": 0
      },
      "text/plain": [
       "  0%|          | 0/80 [00:00<?, ?it/s]"
      ]
     },
     "metadata": {},
     "output_type": "display_data"
    }
   ],
   "source": [
    "import pandas as pd\n",
    "# trainingLabels=allLabels #not sure about this\n",
    "nback=nbacks[0]\n",
    "thisTrainInputs=[[] for i in range(len(trainingLabels))]\n",
    "for trial in tqdm(range(len(trainingLabels))): #for each trial\n",
    "    #bin training samples\n",
    "    thisLabels=np.array(allLabels)\n",
    "    tmp=trainingInputs[trainingOrder]\n",
    "    \n",
    "    #plot training inputs that are to be tested:\n",
    "    count = 0\n",
    "    for inpt in tmp:\n",
    "        thisTrainInputs[count]=(inpt.reshape(-1,1))\n",
    "        count+=1\n",
    "    trainlabel=trainingLabels\n",
    "#     trainlabel=np.delete(trainlabel,np.arange(nback,trainlabel.size,nback+1))\n",
    "    trainlabel=np.array(trainlabel).reshape(-1, nback)\n",
    "    thisTestTime = testTimes\n",
    "    targetTimes = signal_expand(targets,numDT)\n",
    "    \n",
    "    currents=np.array(t)\n",
    "    thisTarget=targets\n",
    "    testlabel=testingLabels[:numTestingSamples]\n",
    "        \n",
    "    if nback == 2:    \n",
    "        #seperate to classes \n",
    "\n",
    "        c1c1notest=[0]\n",
    "        c1c2notest=[0]\n",
    "        c2c1notest=[0]\n",
    "        c2c2notest=[0]\n",
    "        count1=0\n",
    "        count2=0\n",
    "        c2count=[]\n",
    "        c1count=[]\n",
    "        classOrder=[]\n",
    "        targetClass=[]\n",
    "        for label in trainlabel:\n",
    "            if np.all(label == [0,0]):\n",
    "                classOrder.append('c1-c1')\n",
    "                targetClass.append(1)\n",
    "                count1+=1\n",
    "            elif np.all(label == [0,1]):\n",
    "                classOrder.append('c1-c2')\n",
    "                targetClass.append(1)\n",
    "                count1+=1\n",
    "            elif np.all(label == [1,1]):\n",
    "                classOrder.append('c2-c2')\n",
    "                targetClass.append(2)\n",
    "                count2+=1\n",
    "            elif np.all(label == [1,0]):\n",
    "                classOrder.append('c2-c1')\n",
    "                targetClass.append(2)\n",
    "                count2+=1\n",
    "            c2count.append(count2)\n",
    "            c1count.append(count1)\n",
    "       #count how many times the network has seen c1-c1,c1-c2/c2-c1,c2-c2 at each test point:\n",
    "        for i in range(len(trainlabel)):\n",
    "            a=np.sum(np.array_equiv(trainlabel[i],np.array([0,0])))\n",
    "            b=np.sum(np.array_equiv(trainlabel[i],np.array([0,1])))\n",
    "            c=np.sum(np.array_equiv(trainlabel[i],np.array([1,0])))\n",
    "            d=np.sum(np.array_equiv(trainlabel[i],np.array([1,1])))\n",
    "\n",
    "    #         set_trace()\n",
    "            c1c1notest.append(c1c1notest[i]+a)\n",
    "            c1c2notest.append(c1c2notest[i]+b)\n",
    "            c2c1notest.append(c2c1notest[i]+c)\n",
    "            c2c2notest.append(c2c2notest[i]+d)\n",
    "\n",
    "\n",
    "        #count how many times the network has seen c1/c2 at each test point:\n",
    "        count1notest=[]\n",
    "        count2notest=[]\n",
    "        temp1=trainlabel.reshape(-1)\n",
    "        for i in range(len(temp1)):\n",
    "            if i == 0:\n",
    "                count1notest.append(0)\n",
    "                count2notest.append(0)\n",
    "            if i % nback == 0 and i > 0:\n",
    "                count1notest.append(np.sum(temp1[:i]==0))\n",
    "                count2notest.append(np.sum(temp1[:i]==1))\n",
    "\n",
    "        count1plustest=[]\n",
    "        count2plustest=[]\n",
    "        temp1=thisLabels\n",
    "        n=nback+1\n",
    "        for i in range(len(temp1)):\n",
    "            if i == 0:\n",
    "                count1plustest.append(0)\n",
    "                count2plustest.append(0)\n",
    "            if i % n == 0 and i > 0: \n",
    "                count1plustest.append(np.sum(temp1[:i]==0))\n",
    "                count2plustest.append(np.sum(temp1[:i]==1))            \n",
    "\n",
    "        cumsumdiffnotest=np.array(count1notest)-np.array(count2notest)\n",
    "        cumsumdifftest=np.array(count1plustest)-np.array(count2plustest)    \n",
    "\n",
    "        if len(accuracy)!= len(targetClass):\n",
    "            temp=np.append(accuracy,np.nan)\n",
    "#         set_trace()\n",
    "        df=pd.DataFrame({'Class':np.array(targetClass),'Order':classOrder,'Trial':trial,\n",
    "                         'Accuracy':temp,'C1NoTest':count1notest,\n",
    "                         'C2NoTest':count2notest,'CountDiff':np.array(c2count)-np.array(c1count),\n",
    "                         'C1+Test':count1plustest,'C2+Test':count2plustest,'C1C1count':c1c1notest[1:],\n",
    "                         'C1C2count':c1c2notest[1:], 'C2C1count':c2c1notest[1:],'C2C2count':c2c2notest[1:],\n",
    "                        })\n",
    "   \n",
    "#     elif nback == 3:    \n",
    "\n",
    "#         count1=0\n",
    "#         count2=0\n",
    "#         c2count=[]\n",
    "#         c1count=[]\n",
    "#         classOrder=[]\n",
    "#         targetClass=[]\n",
    "#         for label in trainlabel:\n",
    "#             if np.all(label == [0,0,0]):\n",
    "#                 classOrder.append('c1-c1-c1')\n",
    "#                 targetClass.append(1)\n",
    "#                 count1+=1\n",
    "#             elif np.all(label == [0,1,0]):\n",
    "#                 classOrder.append('c1-c2-c1')\n",
    "#                 targetClass.append(1)\n",
    "#                 count1+=1\n",
    "#             elif np.all(label == [0,1,1]):\n",
    "#                 classOrder.append('c1-c2-c2')\n",
    "#                 targetClass.append(1)\n",
    "#                 count1+=1\n",
    "#             elif np.all(label == [0,0,1]):\n",
    "#                 classOrder.append('c1-c1-c2')\n",
    "#                 targetClass.append(1)\n",
    "#                 count1+=1   \n",
    "#             elif np.all(label == [1,1,1]):\n",
    "#                 classOrder.append('c2-c2-c2')\n",
    "#                 targetClass.append(2)\n",
    "#                 count2+=1\n",
    "#             elif np.all(label == [1,0,1]):\n",
    "#                 classOrder.append('c2-c1-c2')\n",
    "#                 targetClass.append(2)\n",
    "#                 count2+=1\n",
    "#             elif np.all(label == [1,1,0]):\n",
    "#                 classOrder.append('c2-c2-c1')\n",
    "#                 targetClass.append(2)\n",
    "#                 count2+=1\n",
    "#             elif np.all(label == [1,0,0]):\n",
    "#                 classOrder.append('c2-c1-c1')\n",
    "#                 targetClass.append(2)\n",
    "#                 count2+=1\n",
    "#             c2count.append(count2)\n",
    "#             c1count.append(count1)\n",
    "#        #count how many times the network has seen c1-c1,c1-c2/c2-c1,c2-c2 at each test point:\n",
    "#         c1c1c1notest=[0];c2c2c2notest=[0];\n",
    "#         c1c1c2notest=[0];c2c2c1notest=[0];\n",
    "#         c1c2c2notest=[0];c2c1c2notest=[0];\n",
    "#         c1c2c1notest=[0];c2c1c1notest=[0];\n",
    "        \n",
    "#         for i in range(len(trainlabel)):\n",
    "#             a1=np.sum(np.array_equiv(trainlabel[i],np.array([0,0,0])))\n",
    "#             b1=np.sum(np.array_equiv(trainlabel[i],np.array([0,0,1])))\n",
    "#             c1=np.sum(np.array_equiv(trainlabel[i],np.array([0,1,0])))\n",
    "#             d1=np.sum(np.array_equiv(trainlabel[i],np.array([0,1,1])))\n",
    "#             a2=np.sum(np.array_equiv(trainlabel[i],np.array([1,1,1])))\n",
    "#             b2=np.sum(np.array_equiv(trainlabel[i],np.array([1,0,1])))\n",
    "#             c2=np.sum(np.array_equiv(trainlabel[i],np.array([1,1,0])))\n",
    "#             d2=np.sum(np.array_equiv(trainlabel[i],np.array([1,0,0])))\n",
    "            \n",
    "#     #         set_trace()\n",
    "#             c1c1c1notest.append(c1c1c1notest[i]+a1)\n",
    "#             c1c1c2notest.append(c1c1c2notest[i]+b1)\n",
    "#             c1c2c1notest.append(c1c2c1notest[i]+c1)\n",
    "#             c1c2c2notest.append(c1c2c1notest[i]+d1)\n",
    "#             c2c2c2notest.append(c2c2c2notest[i]+a2)\n",
    "#             c2c1c2notest.append(c1c1c2notest[i]+b2)\n",
    "#             c2c2c1notest.append(c1c2c1notest[i]+c2)\n",
    "#             c2c1c1notest.append(c1c2c1notest[i]+d2)\n",
    "\n",
    "\n",
    "#         #count how many times the network has seen c1/c2 at each test point:\n",
    "#         count1notest=[]\n",
    "#         count2notest=[]\n",
    "#         temp1=trainlabel.reshape(-1)\n",
    "#         for i in range(len(temp1)):\n",
    "#             if i == 0:\n",
    "#                 count1notest.append(0)\n",
    "#                 count2notest.append(0)\n",
    "#             if i % nback == 0 and i > 0:\n",
    "#                 count1notest.append(np.sum(temp1[:i]==0))\n",
    "#                 count2notest.append(np.sum(temp1[:i]==1))\n",
    "\n",
    "#         count1plustest=[]\n",
    "#         count2plustest=[]\n",
    "#         temp1=thisLabels\n",
    "#         n=nback+1\n",
    "#         for i in range(len(temp1)):\n",
    "#             if i == 0:\n",
    "#                 count1plustest.append(0)\n",
    "#                 count2plustest.append(0)\n",
    "#             if i % n == 0 and i > 0: \n",
    "#                 count1plustest.append(np.sum(temp1[:i]==0))\n",
    "#                 count2plustest.append(np.sum(temp1[:i]==1))            \n",
    "\n",
    "#         cumsumdiffnotest=np.array(count1notest)-np.array(count2notest)\n",
    "#         cumsumdifftest=np.array(count1plustest)-np.array(count2plustest)    \n",
    "\n",
    "#         df=pd.DataFrame({'Class':np.array(targetClass),'Order':classOrder,'Trial':trial,\n",
    "#                          'Accuracy':temp,'C1NoTest':count1notest,\n",
    "#                          'C2NoTest':count2notest,'CountDiff':np.array(c2count)-np.array(c1count),\n",
    "#                          'C1+Test':count1plustest,'C2+Test':count2plustest,'C1C1C1count':c1c1c1notest[1:],\n",
    "#                          'C1C1C2count':c1c1c2notest[1:],'C1C2C2count':c1c2c2notest[1:],'C1C2C1count':c1c2c1notest[1:],\n",
    "#                          'C2C2C2count':c2c2c2notest[1:],'C2C2C1count':c2c2c1notest[1:],'C2C1C1count':c2c1c1notest[1:],\n",
    "#                          'C2C1C2count':c2c1c2notest[1:]\n",
    "#                         })\n",
    "    \n",
    "    \n",
    "    counts=[]\n",
    "    for i in range(len(df)):\n",
    "        counts.append(i)\n",
    "        \n",
    "    d = {'OrderVal':counts,'Train Time Start':((np.array(counts)+1)*numDT*3)-numDT*3,\n",
    "                     'Train Time End':((np.array(counts)+1)*numDT*3)-numDT-1,\n",
    "                     'Test Time Start':(np.array(counts)+1)*numDT*3-numDT,\n",
    "                     'Test Time End':(np.array(counts)+1)*numDT*3-1,}\n",
    "    df = df.join(pd.DataFrame(d, index=df.index))\n",
    "    \n",
    "#     if trial == 0:\n",
    "#         newdf=df\n",
    "#     else:\n",
    "#         newdf=newdf.append(df)\n",
    "#     newdf.index=range(len(newdf))"
   ]
  },
  {
   "cell_type": "code",
   "execution_count": 98,
   "metadata": {
    "scrolled": false
   },
   "outputs": [
    {
     "data": {
      "text/html": [
       "<div>\n",
       "<style scoped>\n",
       "    .dataframe tbody tr th:only-of-type {\n",
       "        vertical-align: middle;\n",
       "    }\n",
       "\n",
       "    .dataframe tbody tr th {\n",
       "        vertical-align: top;\n",
       "    }\n",
       "\n",
       "    .dataframe thead th {\n",
       "        text-align: right;\n",
       "    }\n",
       "</style>\n",
       "<table border=\"1\" class=\"dataframe\">\n",
       "  <thead>\n",
       "    <tr style=\"text-align: right;\">\n",
       "      <th></th>\n",
       "      <th>Class</th>\n",
       "      <th>Order</th>\n",
       "      <th>Trial</th>\n",
       "      <th>Accuracy</th>\n",
       "      <th>C1NoTest</th>\n",
       "      <th>C2NoTest</th>\n",
       "      <th>CountDiff</th>\n",
       "      <th>C1+Test</th>\n",
       "      <th>C2+Test</th>\n",
       "      <th>C1C1count</th>\n",
       "      <th>C1C2count</th>\n",
       "      <th>C2C1count</th>\n",
       "      <th>C2C2count</th>\n",
       "      <th>OrderVal</th>\n",
       "      <th>Train Time Start</th>\n",
       "      <th>Train Time End</th>\n",
       "      <th>Test Time Start</th>\n",
       "      <th>Test Time End</th>\n",
       "    </tr>\n",
       "  </thead>\n",
       "  <tbody>\n",
       "    <tr>\n",
       "      <th>0</th>\n",
       "      <td>1</td>\n",
       "      <td>c1-c1</td>\n",
       "      <td>79</td>\n",
       "      <td>1.000</td>\n",
       "      <td>0</td>\n",
       "      <td>0</td>\n",
       "      <td>-1</td>\n",
       "      <td>0</td>\n",
       "      <td>0</td>\n",
       "      <td>1</td>\n",
       "      <td>0</td>\n",
       "      <td>0</td>\n",
       "      <td>0</td>\n",
       "      <td>0</td>\n",
       "      <td>0</td>\n",
       "      <td>399</td>\n",
       "      <td>400</td>\n",
       "      <td>599</td>\n",
       "    </tr>\n",
       "    <tr>\n",
       "      <th>1</th>\n",
       "      <td>1</td>\n",
       "      <td>c1-c2</td>\n",
       "      <td>79</td>\n",
       "      <td>1.000</td>\n",
       "      <td>2</td>\n",
       "      <td>0</td>\n",
       "      <td>-2</td>\n",
       "      <td>3</td>\n",
       "      <td>0</td>\n",
       "      <td>1</td>\n",
       "      <td>1</td>\n",
       "      <td>0</td>\n",
       "      <td>0</td>\n",
       "      <td>1</td>\n",
       "      <td>600</td>\n",
       "      <td>999</td>\n",
       "      <td>1000</td>\n",
       "      <td>1199</td>\n",
       "    </tr>\n",
       "    <tr>\n",
       "      <th>2</th>\n",
       "      <td>1</td>\n",
       "      <td>c1-c2</td>\n",
       "      <td>79</td>\n",
       "      <td>1.000</td>\n",
       "      <td>3</td>\n",
       "      <td>1</td>\n",
       "      <td>-3</td>\n",
       "      <td>5</td>\n",
       "      <td>1</td>\n",
       "      <td>1</td>\n",
       "      <td>2</td>\n",
       "      <td>0</td>\n",
       "      <td>0</td>\n",
       "      <td>2</td>\n",
       "      <td>1200</td>\n",
       "      <td>1599</td>\n",
       "      <td>1600</td>\n",
       "      <td>1799</td>\n",
       "    </tr>\n",
       "    <tr>\n",
       "      <th>3</th>\n",
       "      <td>1</td>\n",
       "      <td>c1-c2</td>\n",
       "      <td>79</td>\n",
       "      <td>1.000</td>\n",
       "      <td>4</td>\n",
       "      <td>2</td>\n",
       "      <td>-4</td>\n",
       "      <td>7</td>\n",
       "      <td>2</td>\n",
       "      <td>1</td>\n",
       "      <td>3</td>\n",
       "      <td>0</td>\n",
       "      <td>0</td>\n",
       "      <td>3</td>\n",
       "      <td>1800</td>\n",
       "      <td>2199</td>\n",
       "      <td>2200</td>\n",
       "      <td>2399</td>\n",
       "    </tr>\n",
       "    <tr>\n",
       "      <th>4</th>\n",
       "      <td>2</td>\n",
       "      <td>c2-c2</td>\n",
       "      <td>79</td>\n",
       "      <td>0.820</td>\n",
       "      <td>5</td>\n",
       "      <td>3</td>\n",
       "      <td>-3</td>\n",
       "      <td>9</td>\n",
       "      <td>3</td>\n",
       "      <td>1</td>\n",
       "      <td>3</td>\n",
       "      <td>0</td>\n",
       "      <td>1</td>\n",
       "      <td>4</td>\n",
       "      <td>2400</td>\n",
       "      <td>2799</td>\n",
       "      <td>2800</td>\n",
       "      <td>2999</td>\n",
       "    </tr>\n",
       "    <tr>\n",
       "      <th>5</th>\n",
       "      <td>1</td>\n",
       "      <td>c1-c2</td>\n",
       "      <td>79</td>\n",
       "      <td>0.805</td>\n",
       "      <td>5</td>\n",
       "      <td>5</td>\n",
       "      <td>-4</td>\n",
       "      <td>9</td>\n",
       "      <td>6</td>\n",
       "      <td>1</td>\n",
       "      <td>4</td>\n",
       "      <td>0</td>\n",
       "      <td>1</td>\n",
       "      <td>5</td>\n",
       "      <td>3000</td>\n",
       "      <td>3399</td>\n",
       "      <td>3400</td>\n",
       "      <td>3599</td>\n",
       "    </tr>\n",
       "    <tr>\n",
       "      <th>6</th>\n",
       "      <td>1</td>\n",
       "      <td>c1-c2</td>\n",
       "      <td>79</td>\n",
       "      <td>1.000</td>\n",
       "      <td>6</td>\n",
       "      <td>6</td>\n",
       "      <td>-5</td>\n",
       "      <td>11</td>\n",
       "      <td>7</td>\n",
       "      <td>1</td>\n",
       "      <td>5</td>\n",
       "      <td>0</td>\n",
       "      <td>1</td>\n",
       "      <td>6</td>\n",
       "      <td>3600</td>\n",
       "      <td>3999</td>\n",
       "      <td>4000</td>\n",
       "      <td>4199</td>\n",
       "    </tr>\n",
       "    <tr>\n",
       "      <th>7</th>\n",
       "      <td>2</td>\n",
       "      <td>c2-c2</td>\n",
       "      <td>79</td>\n",
       "      <td>0.740</td>\n",
       "      <td>7</td>\n",
       "      <td>7</td>\n",
       "      <td>-4</td>\n",
       "      <td>13</td>\n",
       "      <td>8</td>\n",
       "      <td>1</td>\n",
       "      <td>5</td>\n",
       "      <td>0</td>\n",
       "      <td>2</td>\n",
       "      <td>7</td>\n",
       "      <td>4200</td>\n",
       "      <td>4599</td>\n",
       "      <td>4600</td>\n",
       "      <td>4799</td>\n",
       "    </tr>\n",
       "    <tr>\n",
       "      <th>8</th>\n",
       "      <td>1</td>\n",
       "      <td>c1-c2</td>\n",
       "      <td>79</td>\n",
       "      <td>0.760</td>\n",
       "      <td>7</td>\n",
       "      <td>9</td>\n",
       "      <td>-5</td>\n",
       "      <td>13</td>\n",
       "      <td>11</td>\n",
       "      <td>1</td>\n",
       "      <td>6</td>\n",
       "      <td>0</td>\n",
       "      <td>2</td>\n",
       "      <td>8</td>\n",
       "      <td>4800</td>\n",
       "      <td>5199</td>\n",
       "      <td>5200</td>\n",
       "      <td>5399</td>\n",
       "    </tr>\n",
       "    <tr>\n",
       "      <th>9</th>\n",
       "      <td>2</td>\n",
       "      <td>c2-c1</td>\n",
       "      <td>79</td>\n",
       "      <td>0.625</td>\n",
       "      <td>8</td>\n",
       "      <td>10</td>\n",
       "      <td>-4</td>\n",
       "      <td>15</td>\n",
       "      <td>12</td>\n",
       "      <td>1</td>\n",
       "      <td>6</td>\n",
       "      <td>1</td>\n",
       "      <td>2</td>\n",
       "      <td>9</td>\n",
       "      <td>5400</td>\n",
       "      <td>5799</td>\n",
       "      <td>5800</td>\n",
       "      <td>5999</td>\n",
       "    </tr>\n",
       "    <tr>\n",
       "      <th>10</th>\n",
       "      <td>2</td>\n",
       "      <td>c2-c1</td>\n",
       "      <td>79</td>\n",
       "      <td>0.995</td>\n",
       "      <td>9</td>\n",
       "      <td>11</td>\n",
       "      <td>-3</td>\n",
       "      <td>16</td>\n",
       "      <td>14</td>\n",
       "      <td>1</td>\n",
       "      <td>6</td>\n",
       "      <td>2</td>\n",
       "      <td>2</td>\n",
       "      <td>10</td>\n",
       "      <td>6000</td>\n",
       "      <td>6399</td>\n",
       "      <td>6400</td>\n",
       "      <td>6599</td>\n",
       "    </tr>\n",
       "    <tr>\n",
       "      <th>11</th>\n",
       "      <td>2</td>\n",
       "      <td>c2-c1</td>\n",
       "      <td>79</td>\n",
       "      <td>1.000</td>\n",
       "      <td>10</td>\n",
       "      <td>12</td>\n",
       "      <td>-2</td>\n",
       "      <td>17</td>\n",
       "      <td>16</td>\n",
       "      <td>1</td>\n",
       "      <td>6</td>\n",
       "      <td>3</td>\n",
       "      <td>2</td>\n",
       "      <td>11</td>\n",
       "      <td>6600</td>\n",
       "      <td>6999</td>\n",
       "      <td>7000</td>\n",
       "      <td>7199</td>\n",
       "    </tr>\n",
       "    <tr>\n",
       "      <th>12</th>\n",
       "      <td>2</td>\n",
       "      <td>c2-c2</td>\n",
       "      <td>79</td>\n",
       "      <td>1.000</td>\n",
       "      <td>11</td>\n",
       "      <td>13</td>\n",
       "      <td>-1</td>\n",
       "      <td>18</td>\n",
       "      <td>18</td>\n",
       "      <td>1</td>\n",
       "      <td>6</td>\n",
       "      <td>3</td>\n",
       "      <td>3</td>\n",
       "      <td>12</td>\n",
       "      <td>7200</td>\n",
       "      <td>7599</td>\n",
       "      <td>7600</td>\n",
       "      <td>7799</td>\n",
       "    </tr>\n",
       "    <tr>\n",
       "      <th>13</th>\n",
       "      <td>2</td>\n",
       "      <td>c2-c1</td>\n",
       "      <td>79</td>\n",
       "      <td>1.000</td>\n",
       "      <td>11</td>\n",
       "      <td>15</td>\n",
       "      <td>0</td>\n",
       "      <td>18</td>\n",
       "      <td>21</td>\n",
       "      <td>1</td>\n",
       "      <td>6</td>\n",
       "      <td>4</td>\n",
       "      <td>3</td>\n",
       "      <td>13</td>\n",
       "      <td>7800</td>\n",
       "      <td>8199</td>\n",
       "      <td>8200</td>\n",
       "      <td>8399</td>\n",
       "    </tr>\n",
       "    <tr>\n",
       "      <th>14</th>\n",
       "      <td>2</td>\n",
       "      <td>c2-c1</td>\n",
       "      <td>79</td>\n",
       "      <td>1.000</td>\n",
       "      <td>12</td>\n",
       "      <td>16</td>\n",
       "      <td>1</td>\n",
       "      <td>19</td>\n",
       "      <td>23</td>\n",
       "      <td>1</td>\n",
       "      <td>6</td>\n",
       "      <td>5</td>\n",
       "      <td>3</td>\n",
       "      <td>14</td>\n",
       "      <td>8400</td>\n",
       "      <td>8799</td>\n",
       "      <td>8800</td>\n",
       "      <td>8999</td>\n",
       "    </tr>\n",
       "    <tr>\n",
       "      <th>15</th>\n",
       "      <td>1</td>\n",
       "      <td>c1-c2</td>\n",
       "      <td>79</td>\n",
       "      <td>0.745</td>\n",
       "      <td>13</td>\n",
       "      <td>17</td>\n",
       "      <td>0</td>\n",
       "      <td>20</td>\n",
       "      <td>25</td>\n",
       "      <td>1</td>\n",
       "      <td>7</td>\n",
       "      <td>5</td>\n",
       "      <td>3</td>\n",
       "      <td>15</td>\n",
       "      <td>9000</td>\n",
       "      <td>9399</td>\n",
       "      <td>9400</td>\n",
       "      <td>9599</td>\n",
       "    </tr>\n",
       "    <tr>\n",
       "      <th>16</th>\n",
       "      <td>1</td>\n",
       "      <td>c1-c2</td>\n",
       "      <td>79</td>\n",
       "      <td>0.865</td>\n",
       "      <td>14</td>\n",
       "      <td>18</td>\n",
       "      <td>-1</td>\n",
       "      <td>22</td>\n",
       "      <td>26</td>\n",
       "      <td>1</td>\n",
       "      <td>8</td>\n",
       "      <td>5</td>\n",
       "      <td>3</td>\n",
       "      <td>16</td>\n",
       "      <td>9600</td>\n",
       "      <td>9999</td>\n",
       "      <td>10000</td>\n",
       "      <td>10199</td>\n",
       "    </tr>\n",
       "    <tr>\n",
       "      <th>17</th>\n",
       "      <td>1</td>\n",
       "      <td>c1-c1</td>\n",
       "      <td>79</td>\n",
       "      <td>1.000</td>\n",
       "      <td>15</td>\n",
       "      <td>19</td>\n",
       "      <td>-2</td>\n",
       "      <td>24</td>\n",
       "      <td>27</td>\n",
       "      <td>2</td>\n",
       "      <td>8</td>\n",
       "      <td>5</td>\n",
       "      <td>3</td>\n",
       "      <td>17</td>\n",
       "      <td>10200</td>\n",
       "      <td>10599</td>\n",
       "      <td>10600</td>\n",
       "      <td>10799</td>\n",
       "    </tr>\n",
       "    <tr>\n",
       "      <th>18</th>\n",
       "      <td>2</td>\n",
       "      <td>c2-c1</td>\n",
       "      <td>79</td>\n",
       "      <td>0.845</td>\n",
       "      <td>17</td>\n",
       "      <td>19</td>\n",
       "      <td>-1</td>\n",
       "      <td>27</td>\n",
       "      <td>27</td>\n",
       "      <td>2</td>\n",
       "      <td>8</td>\n",
       "      <td>6</td>\n",
       "      <td>3</td>\n",
       "      <td>18</td>\n",
       "      <td>10800</td>\n",
       "      <td>11199</td>\n",
       "      <td>11200</td>\n",
       "      <td>11399</td>\n",
       "    </tr>\n",
       "    <tr>\n",
       "      <th>19</th>\n",
       "      <td>1</td>\n",
       "      <td>c1-c1</td>\n",
       "      <td>79</td>\n",
       "      <td>0.770</td>\n",
       "      <td>18</td>\n",
       "      <td>20</td>\n",
       "      <td>-2</td>\n",
       "      <td>28</td>\n",
       "      <td>29</td>\n",
       "      <td>3</td>\n",
       "      <td>8</td>\n",
       "      <td>6</td>\n",
       "      <td>3</td>\n",
       "      <td>19</td>\n",
       "      <td>11400</td>\n",
       "      <td>11799</td>\n",
       "      <td>11800</td>\n",
       "      <td>11999</td>\n",
       "    </tr>\n",
       "    <tr>\n",
       "      <th>20</th>\n",
       "      <td>1</td>\n",
       "      <td>c1-c2</td>\n",
       "      <td>79</td>\n",
       "      <td>1.000</td>\n",
       "      <td>20</td>\n",
       "      <td>20</td>\n",
       "      <td>-3</td>\n",
       "      <td>31</td>\n",
       "      <td>29</td>\n",
       "      <td>3</td>\n",
       "      <td>9</td>\n",
       "      <td>6</td>\n",
       "      <td>3</td>\n",
       "      <td>20</td>\n",
       "      <td>12000</td>\n",
       "      <td>12399</td>\n",
       "      <td>12400</td>\n",
       "      <td>12599</td>\n",
       "    </tr>\n",
       "    <tr>\n",
       "      <th>21</th>\n",
       "      <td>2</td>\n",
       "      <td>c2-c1</td>\n",
       "      <td>79</td>\n",
       "      <td>0.860</td>\n",
       "      <td>21</td>\n",
       "      <td>21</td>\n",
       "      <td>-2</td>\n",
       "      <td>33</td>\n",
       "      <td>30</td>\n",
       "      <td>3</td>\n",
       "      <td>9</td>\n",
       "      <td>7</td>\n",
       "      <td>3</td>\n",
       "      <td>21</td>\n",
       "      <td>12600</td>\n",
       "      <td>12999</td>\n",
       "      <td>13000</td>\n",
       "      <td>13199</td>\n",
       "    </tr>\n",
       "    <tr>\n",
       "      <th>22</th>\n",
       "      <td>2</td>\n",
       "      <td>c2-c1</td>\n",
       "      <td>79</td>\n",
       "      <td>1.000</td>\n",
       "      <td>22</td>\n",
       "      <td>22</td>\n",
       "      <td>-1</td>\n",
       "      <td>34</td>\n",
       "      <td>32</td>\n",
       "      <td>3</td>\n",
       "      <td>9</td>\n",
       "      <td>8</td>\n",
       "      <td>3</td>\n",
       "      <td>22</td>\n",
       "      <td>13200</td>\n",
       "      <td>13599</td>\n",
       "      <td>13600</td>\n",
       "      <td>13799</td>\n",
       "    </tr>\n",
       "    <tr>\n",
       "      <th>23</th>\n",
       "      <td>2</td>\n",
       "      <td>c2-c2</td>\n",
       "      <td>79</td>\n",
       "      <td>1.000</td>\n",
       "      <td>23</td>\n",
       "      <td>23</td>\n",
       "      <td>0</td>\n",
       "      <td>35</td>\n",
       "      <td>34</td>\n",
       "      <td>3</td>\n",
       "      <td>9</td>\n",
       "      <td>8</td>\n",
       "      <td>4</td>\n",
       "      <td>23</td>\n",
       "      <td>13800</td>\n",
       "      <td>14199</td>\n",
       "      <td>14200</td>\n",
       "      <td>14399</td>\n",
       "    </tr>\n",
       "    <tr>\n",
       "      <th>24</th>\n",
       "      <td>2</td>\n",
       "      <td>c2-c1</td>\n",
       "      <td>79</td>\n",
       "      <td>1.000</td>\n",
       "      <td>23</td>\n",
       "      <td>25</td>\n",
       "      <td>1</td>\n",
       "      <td>35</td>\n",
       "      <td>37</td>\n",
       "      <td>3</td>\n",
       "      <td>9</td>\n",
       "      <td>9</td>\n",
       "      <td>4</td>\n",
       "      <td>24</td>\n",
       "      <td>14400</td>\n",
       "      <td>14799</td>\n",
       "      <td>14800</td>\n",
       "      <td>14999</td>\n",
       "    </tr>\n",
       "    <tr>\n",
       "      <th>25</th>\n",
       "      <td>2</td>\n",
       "      <td>c2-c2</td>\n",
       "      <td>79</td>\n",
       "      <td>1.000</td>\n",
       "      <td>24</td>\n",
       "      <td>26</td>\n",
       "      <td>2</td>\n",
       "      <td>36</td>\n",
       "      <td>39</td>\n",
       "      <td>3</td>\n",
       "      <td>9</td>\n",
       "      <td>9</td>\n",
       "      <td>5</td>\n",
       "      <td>25</td>\n",
       "      <td>15000</td>\n",
       "      <td>15399</td>\n",
       "      <td>15400</td>\n",
       "      <td>15599</td>\n",
       "    </tr>\n",
       "    <tr>\n",
       "      <th>26</th>\n",
       "      <td>1</td>\n",
       "      <td>c1-c1</td>\n",
       "      <td>79</td>\n",
       "      <td>0.680</td>\n",
       "      <td>24</td>\n",
       "      <td>28</td>\n",
       "      <td>1</td>\n",
       "      <td>36</td>\n",
       "      <td>42</td>\n",
       "      <td>4</td>\n",
       "      <td>9</td>\n",
       "      <td>9</td>\n",
       "      <td>5</td>\n",
       "      <td>26</td>\n",
       "      <td>15600</td>\n",
       "      <td>15999</td>\n",
       "      <td>16000</td>\n",
       "      <td>16199</td>\n",
       "    </tr>\n",
       "    <tr>\n",
       "      <th>27</th>\n",
       "      <td>2</td>\n",
       "      <td>c2-c1</td>\n",
       "      <td>79</td>\n",
       "      <td>0.745</td>\n",
       "      <td>26</td>\n",
       "      <td>28</td>\n",
       "      <td>2</td>\n",
       "      <td>39</td>\n",
       "      <td>42</td>\n",
       "      <td>4</td>\n",
       "      <td>9</td>\n",
       "      <td>10</td>\n",
       "      <td>5</td>\n",
       "      <td>27</td>\n",
       "      <td>16200</td>\n",
       "      <td>16599</td>\n",
       "      <td>16600</td>\n",
       "      <td>16799</td>\n",
       "    </tr>\n",
       "    <tr>\n",
       "      <th>28</th>\n",
       "      <td>1</td>\n",
       "      <td>c1-c1</td>\n",
       "      <td>79</td>\n",
       "      <td>0.680</td>\n",
       "      <td>27</td>\n",
       "      <td>29</td>\n",
       "      <td>1</td>\n",
       "      <td>40</td>\n",
       "      <td>44</td>\n",
       "      <td>5</td>\n",
       "      <td>9</td>\n",
       "      <td>10</td>\n",
       "      <td>5</td>\n",
       "      <td>28</td>\n",
       "      <td>16800</td>\n",
       "      <td>17199</td>\n",
       "      <td>17200</td>\n",
       "      <td>17399</td>\n",
       "    </tr>\n",
       "    <tr>\n",
       "      <th>29</th>\n",
       "      <td>2</td>\n",
       "      <td>c2-c2</td>\n",
       "      <td>79</td>\n",
       "      <td>0.885</td>\n",
       "      <td>29</td>\n",
       "      <td>29</td>\n",
       "      <td>2</td>\n",
       "      <td>43</td>\n",
       "      <td>44</td>\n",
       "      <td>5</td>\n",
       "      <td>9</td>\n",
       "      <td>10</td>\n",
       "      <td>6</td>\n",
       "      <td>29</td>\n",
       "      <td>17400</td>\n",
       "      <td>17799</td>\n",
       "      <td>17800</td>\n",
       "      <td>17999</td>\n",
       "    </tr>\n",
       "    <tr>\n",
       "      <th>30</th>\n",
       "      <td>1</td>\n",
       "      <td>c1-c1</td>\n",
       "      <td>79</td>\n",
       "      <td>0.595</td>\n",
       "      <td>29</td>\n",
       "      <td>31</td>\n",
       "      <td>1</td>\n",
       "      <td>43</td>\n",
       "      <td>47</td>\n",
       "      <td>6</td>\n",
       "      <td>9</td>\n",
       "      <td>10</td>\n",
       "      <td>6</td>\n",
       "      <td>30</td>\n",
       "      <td>18000</td>\n",
       "      <td>18399</td>\n",
       "      <td>18400</td>\n",
       "      <td>18599</td>\n",
       "    </tr>\n",
       "    <tr>\n",
       "      <th>31</th>\n",
       "      <td>1</td>\n",
       "      <td>c1-c2</td>\n",
       "      <td>79</td>\n",
       "      <td>1.000</td>\n",
       "      <td>31</td>\n",
       "      <td>31</td>\n",
       "      <td>0</td>\n",
       "      <td>46</td>\n",
       "      <td>47</td>\n",
       "      <td>6</td>\n",
       "      <td>10</td>\n",
       "      <td>10</td>\n",
       "      <td>6</td>\n",
       "      <td>31</td>\n",
       "      <td>18600</td>\n",
       "      <td>18999</td>\n",
       "      <td>19000</td>\n",
       "      <td>19199</td>\n",
       "    </tr>\n",
       "    <tr>\n",
       "      <th>32</th>\n",
       "      <td>2</td>\n",
       "      <td>c2-c1</td>\n",
       "      <td>79</td>\n",
       "      <td>0.755</td>\n",
       "      <td>32</td>\n",
       "      <td>32</td>\n",
       "      <td>1</td>\n",
       "      <td>48</td>\n",
       "      <td>48</td>\n",
       "      <td>6</td>\n",
       "      <td>10</td>\n",
       "      <td>11</td>\n",
       "      <td>6</td>\n",
       "      <td>32</td>\n",
       "      <td>19200</td>\n",
       "      <td>19599</td>\n",
       "      <td>19600</td>\n",
       "      <td>19799</td>\n",
       "    </tr>\n",
       "    <tr>\n",
       "      <th>33</th>\n",
       "      <td>1</td>\n",
       "      <td>c1-c1</td>\n",
       "      <td>79</td>\n",
       "      <td>0.775</td>\n",
       "      <td>33</td>\n",
       "      <td>33</td>\n",
       "      <td>0</td>\n",
       "      <td>49</td>\n",
       "      <td>50</td>\n",
       "      <td>7</td>\n",
       "      <td>10</td>\n",
       "      <td>11</td>\n",
       "      <td>6</td>\n",
       "      <td>33</td>\n",
       "      <td>19800</td>\n",
       "      <td>20199</td>\n",
       "      <td>20200</td>\n",
       "      <td>20399</td>\n",
       "    </tr>\n",
       "    <tr>\n",
       "      <th>34</th>\n",
       "      <td>2</td>\n",
       "      <td>c2-c2</td>\n",
       "      <td>79</td>\n",
       "      <td>0.730</td>\n",
       "      <td>35</td>\n",
       "      <td>33</td>\n",
       "      <td>1</td>\n",
       "      <td>52</td>\n",
       "      <td>50</td>\n",
       "      <td>7</td>\n",
       "      <td>10</td>\n",
       "      <td>11</td>\n",
       "      <td>7</td>\n",
       "      <td>34</td>\n",
       "      <td>20400</td>\n",
       "      <td>20799</td>\n",
       "      <td>20800</td>\n",
       "      <td>20999</td>\n",
       "    </tr>\n",
       "    <tr>\n",
       "      <th>35</th>\n",
       "      <td>1</td>\n",
       "      <td>c1-c1</td>\n",
       "      <td>79</td>\n",
       "      <td>0.740</td>\n",
       "      <td>35</td>\n",
       "      <td>35</td>\n",
       "      <td>0</td>\n",
       "      <td>52</td>\n",
       "      <td>53</td>\n",
       "      <td>8</td>\n",
       "      <td>10</td>\n",
       "      <td>11</td>\n",
       "      <td>7</td>\n",
       "      <td>35</td>\n",
       "      <td>21000</td>\n",
       "      <td>21399</td>\n",
       "      <td>21400</td>\n",
       "      <td>21599</td>\n",
       "    </tr>\n",
       "    <tr>\n",
       "      <th>36</th>\n",
       "      <td>2</td>\n",
       "      <td>c2-c2</td>\n",
       "      <td>79</td>\n",
       "      <td>0.715</td>\n",
       "      <td>37</td>\n",
       "      <td>35</td>\n",
       "      <td>1</td>\n",
       "      <td>55</td>\n",
       "      <td>53</td>\n",
       "      <td>8</td>\n",
       "      <td>10</td>\n",
       "      <td>11</td>\n",
       "      <td>8</td>\n",
       "      <td>36</td>\n",
       "      <td>21600</td>\n",
       "      <td>21999</td>\n",
       "      <td>22000</td>\n",
       "      <td>22199</td>\n",
       "    </tr>\n",
       "    <tr>\n",
       "      <th>37</th>\n",
       "      <td>1</td>\n",
       "      <td>c1-c2</td>\n",
       "      <td>79</td>\n",
       "      <td>0.645</td>\n",
       "      <td>37</td>\n",
       "      <td>37</td>\n",
       "      <td>0</td>\n",
       "      <td>55</td>\n",
       "      <td>56</td>\n",
       "      <td>8</td>\n",
       "      <td>11</td>\n",
       "      <td>11</td>\n",
       "      <td>8</td>\n",
       "      <td>37</td>\n",
       "      <td>22200</td>\n",
       "      <td>22599</td>\n",
       "      <td>22600</td>\n",
       "      <td>22799</td>\n",
       "    </tr>\n",
       "    <tr>\n",
       "      <th>38</th>\n",
       "      <td>1</td>\n",
       "      <td>c1-c2</td>\n",
       "      <td>79</td>\n",
       "      <td>1.000</td>\n",
       "      <td>38</td>\n",
       "      <td>38</td>\n",
       "      <td>-1</td>\n",
       "      <td>57</td>\n",
       "      <td>57</td>\n",
       "      <td>8</td>\n",
       "      <td>12</td>\n",
       "      <td>11</td>\n",
       "      <td>8</td>\n",
       "      <td>38</td>\n",
       "      <td>22800</td>\n",
       "      <td>23199</td>\n",
       "      <td>23200</td>\n",
       "      <td>23399</td>\n",
       "    </tr>\n",
       "    <tr>\n",
       "      <th>39</th>\n",
       "      <td>2</td>\n",
       "      <td>c2-c1</td>\n",
       "      <td>79</td>\n",
       "      <td>NaN</td>\n",
       "      <td>39</td>\n",
       "      <td>39</td>\n",
       "      <td>0</td>\n",
       "      <td>59</td>\n",
       "      <td>58</td>\n",
       "      <td>8</td>\n",
       "      <td>12</td>\n",
       "      <td>12</td>\n",
       "      <td>8</td>\n",
       "      <td>39</td>\n",
       "      <td>23400</td>\n",
       "      <td>23799</td>\n",
       "      <td>23800</td>\n",
       "      <td>23999</td>\n",
       "    </tr>\n",
       "  </tbody>\n",
       "</table>\n",
       "</div>"
      ],
      "text/plain": [
       "    Class  Order  Trial  Accuracy  C1NoTest  C2NoTest  CountDiff  C1+Test  \\\n",
       "0       1  c1-c1     79     1.000         0         0         -1        0   \n",
       "1       1  c1-c2     79     1.000         2         0         -2        3   \n",
       "2       1  c1-c2     79     1.000         3         1         -3        5   \n",
       "3       1  c1-c2     79     1.000         4         2         -4        7   \n",
       "4       2  c2-c2     79     0.820         5         3         -3        9   \n",
       "5       1  c1-c2     79     0.805         5         5         -4        9   \n",
       "6       1  c1-c2     79     1.000         6         6         -5       11   \n",
       "7       2  c2-c2     79     0.740         7         7         -4       13   \n",
       "8       1  c1-c2     79     0.760         7         9         -5       13   \n",
       "9       2  c2-c1     79     0.625         8        10         -4       15   \n",
       "10      2  c2-c1     79     0.995         9        11         -3       16   \n",
       "11      2  c2-c1     79     1.000        10        12         -2       17   \n",
       "12      2  c2-c2     79     1.000        11        13         -1       18   \n",
       "13      2  c2-c1     79     1.000        11        15          0       18   \n",
       "14      2  c2-c1     79     1.000        12        16          1       19   \n",
       "15      1  c1-c2     79     0.745        13        17          0       20   \n",
       "16      1  c1-c2     79     0.865        14        18         -1       22   \n",
       "17      1  c1-c1     79     1.000        15        19         -2       24   \n",
       "18      2  c2-c1     79     0.845        17        19         -1       27   \n",
       "19      1  c1-c1     79     0.770        18        20         -2       28   \n",
       "20      1  c1-c2     79     1.000        20        20         -3       31   \n",
       "21      2  c2-c1     79     0.860        21        21         -2       33   \n",
       "22      2  c2-c1     79     1.000        22        22         -1       34   \n",
       "23      2  c2-c2     79     1.000        23        23          0       35   \n",
       "24      2  c2-c1     79     1.000        23        25          1       35   \n",
       "25      2  c2-c2     79     1.000        24        26          2       36   \n",
       "26      1  c1-c1     79     0.680        24        28          1       36   \n",
       "27      2  c2-c1     79     0.745        26        28          2       39   \n",
       "28      1  c1-c1     79     0.680        27        29          1       40   \n",
       "29      2  c2-c2     79     0.885        29        29          2       43   \n",
       "30      1  c1-c1     79     0.595        29        31          1       43   \n",
       "31      1  c1-c2     79     1.000        31        31          0       46   \n",
       "32      2  c2-c1     79     0.755        32        32          1       48   \n",
       "33      1  c1-c1     79     0.775        33        33          0       49   \n",
       "34      2  c2-c2     79     0.730        35        33          1       52   \n",
       "35      1  c1-c1     79     0.740        35        35          0       52   \n",
       "36      2  c2-c2     79     0.715        37        35          1       55   \n",
       "37      1  c1-c2     79     0.645        37        37          0       55   \n",
       "38      1  c1-c2     79     1.000        38        38         -1       57   \n",
       "39      2  c2-c1     79       NaN        39        39          0       59   \n",
       "\n",
       "    C2+Test  C1C1count  C1C2count  C2C1count  C2C2count  OrderVal  \\\n",
       "0         0          1          0          0          0         0   \n",
       "1         0          1          1          0          0         1   \n",
       "2         1          1          2          0          0         2   \n",
       "3         2          1          3          0          0         3   \n",
       "4         3          1          3          0          1         4   \n",
       "5         6          1          4          0          1         5   \n",
       "6         7          1          5          0          1         6   \n",
       "7         8          1          5          0          2         7   \n",
       "8        11          1          6          0          2         8   \n",
       "9        12          1          6          1          2         9   \n",
       "10       14          1          6          2          2        10   \n",
       "11       16          1          6          3          2        11   \n",
       "12       18          1          6          3          3        12   \n",
       "13       21          1          6          4          3        13   \n",
       "14       23          1          6          5          3        14   \n",
       "15       25          1          7          5          3        15   \n",
       "16       26          1          8          5          3        16   \n",
       "17       27          2          8          5          3        17   \n",
       "18       27          2          8          6          3        18   \n",
       "19       29          3          8          6          3        19   \n",
       "20       29          3          9          6          3        20   \n",
       "21       30          3          9          7          3        21   \n",
       "22       32          3          9          8          3        22   \n",
       "23       34          3          9          8          4        23   \n",
       "24       37          3          9          9          4        24   \n",
       "25       39          3          9          9          5        25   \n",
       "26       42          4          9          9          5        26   \n",
       "27       42          4          9         10          5        27   \n",
       "28       44          5          9         10          5        28   \n",
       "29       44          5          9         10          6        29   \n",
       "30       47          6          9         10          6        30   \n",
       "31       47          6         10         10          6        31   \n",
       "32       48          6         10         11          6        32   \n",
       "33       50          7         10         11          6        33   \n",
       "34       50          7         10         11          7        34   \n",
       "35       53          8         10         11          7        35   \n",
       "36       53          8         10         11          8        36   \n",
       "37       56          8         11         11          8        37   \n",
       "38       57          8         12         11          8        38   \n",
       "39       58          8         12         12          8        39   \n",
       "\n",
       "    Train Time Start  Train Time End  Test Time Start  Test Time End  \n",
       "0                  0             399              400            599  \n",
       "1                600             999             1000           1199  \n",
       "2               1200            1599             1600           1799  \n",
       "3               1800            2199             2200           2399  \n",
       "4               2400            2799             2800           2999  \n",
       "5               3000            3399             3400           3599  \n",
       "6               3600            3999             4000           4199  \n",
       "7               4200            4599             4600           4799  \n",
       "8               4800            5199             5200           5399  \n",
       "9               5400            5799             5800           5999  \n",
       "10              6000            6399             6400           6599  \n",
       "11              6600            6999             7000           7199  \n",
       "12              7200            7599             7600           7799  \n",
       "13              7800            8199             8200           8399  \n",
       "14              8400            8799             8800           8999  \n",
       "15              9000            9399             9400           9599  \n",
       "16              9600            9999            10000          10199  \n",
       "17             10200           10599            10600          10799  \n",
       "18             10800           11199            11200          11399  \n",
       "19             11400           11799            11800          11999  \n",
       "20             12000           12399            12400          12599  \n",
       "21             12600           12999            13000          13199  \n",
       "22             13200           13599            13600          13799  \n",
       "23             13800           14199            14200          14399  \n",
       "24             14400           14799            14800          14999  \n",
       "25             15000           15399            15400          15599  \n",
       "26             15600           15999            16000          16199  \n",
       "27             16200           16599            16600          16799  \n",
       "28             16800           17199            17200          17399  \n",
       "29             17400           17799            17800          17999  \n",
       "30             18000           18399            18400          18599  \n",
       "31             18600           18999            19000          19199  \n",
       "32             19200           19599            19600          19799  \n",
       "33             19800           20199            20200          20399  \n",
       "34             20400           20799            20800          20999  \n",
       "35             21000           21399            21400          21599  \n",
       "36             21600           21999            22000          22199  \n",
       "37             22200           22599            22600          22799  \n",
       "38             22800           23199            23200          23399  \n",
       "39             23400           23799            23800          23999  "
      ]
     },
     "execution_count": 98,
     "metadata": {},
     "output_type": "execute_result"
    }
   ],
   "source": [
    "df"
   ]
  },
  {
   "cell_type": "code",
   "execution_count": 99,
   "metadata": {},
   "outputs": [],
   "source": [
    "# #Save data for loading:\n",
    "saveName='data_350nw_1350nj_3x3_wThresh_Vtrn2_Vtst0p5_beta005_T200'\n",
    "with open(dataLoc+saveName+'.pkl', 'wb') as f:\n",
    "    pickle.dump(df, f)   \n",
    "# #Save data for GLMFIT and Functional Analysis:\n",
    "# savemat(dataLoc+'nback'+str(nback)+'_vt_target_350nw_1350nj_reinforcement_nback2.mat',{'Data':{'EdgeVoltage':vtj,'EdgeConductance':gtj,'EdgeCurrent':ctj,'NodeVoltage':vt,'Target':tar}})"
   ]
  },
  {
   "cell_type": "code",
   "execution_count": null,
   "metadata": {},
   "outputs": [],
   "source": []
  },
  {
   "cell_type": "code",
   "execution_count": 71,
   "metadata": {},
   "outputs": [],
   "source": [
    "dfAccuracy = df.groupby('Order').agg([np.mean,np.std])\n",
    "dfAccuracy= dfAccuracy['Accuracy']"
   ]
  },
  {
   "cell_type": "code",
   "execution_count": 72,
   "metadata": {
    "scrolled": true
   },
   "outputs": [
    {
     "data": {
      "text/html": [
       "<div>\n",
       "<style scoped>\n",
       "    .dataframe tbody tr th:only-of-type {\n",
       "        vertical-align: middle;\n",
       "    }\n",
       "\n",
       "    .dataframe tbody tr th {\n",
       "        vertical-align: top;\n",
       "    }\n",
       "\n",
       "    .dataframe thead th {\n",
       "        text-align: right;\n",
       "    }\n",
       "</style>\n",
       "<table border=\"1\" class=\"dataframe\">\n",
       "  <thead>\n",
       "    <tr style=\"text-align: right;\">\n",
       "      <th></th>\n",
       "      <th>mean</th>\n",
       "      <th>std</th>\n",
       "    </tr>\n",
       "    <tr>\n",
       "      <th>Order</th>\n",
       "      <th></th>\n",
       "      <th></th>\n",
       "    </tr>\n",
       "  </thead>\n",
       "  <tbody>\n",
       "    <tr>\n",
       "      <th>c1-c1</th>\n",
       "      <td>0.991875</td>\n",
       "      <td>0.014126</td>\n",
       "    </tr>\n",
       "    <tr>\n",
       "      <th>c1-c2</th>\n",
       "      <td>0.972500</td>\n",
       "      <td>0.049886</td>\n",
       "    </tr>\n",
       "    <tr>\n",
       "      <th>c2-c1</th>\n",
       "      <td>0.969545</td>\n",
       "      <td>0.038695</td>\n",
       "    </tr>\n",
       "    <tr>\n",
       "      <th>c2-c2</th>\n",
       "      <td>0.908125</td>\n",
       "      <td>0.170167</td>\n",
       "    </tr>\n",
       "  </tbody>\n",
       "</table>\n",
       "</div>"
      ],
      "text/plain": [
       "           mean       std\n",
       "Order                    \n",
       "c1-c1  0.991875  0.014126\n",
       "c1-c2  0.972500  0.049886\n",
       "c2-c1  0.969545  0.038695\n",
       "c2-c2  0.908125  0.170167"
      ]
     },
     "execution_count": 72,
     "metadata": {},
     "output_type": "execute_result"
    }
   ],
   "source": [
    "dfAccuracy"
   ]
  },
  {
   "cell_type": "code",
   "execution_count": 73,
   "metadata": {},
   "outputs": [],
   "source": [
    "targetsNew=[]\n",
    "for t in alltargets:\n",
    "    targetsNew.append(int(t[0]))"
   ]
  },
  {
   "cell_type": "code",
   "execution_count": 74,
   "metadata": {},
   "outputs": [
    {
     "data": {
      "text/plain": [
       "119"
      ]
     },
     "execution_count": 74,
     "metadata": {},
     "output_type": "execute_result"
    }
   ],
   "source": [
    "len(targetsNew)"
   ]
  },
  {
   "cell_type": "code",
   "execution_count": 75,
   "metadata": {},
   "outputs": [],
   "source": [
    "sampleTimes=numDT*(nbacks[0]+1)"
   ]
  },
  {
   "cell_type": "code",
   "execution_count": 76,
   "metadata": {},
   "outputs": [
    {
     "data": {
      "image/png": "[encoded data removed]",
      "text/plain": [
       "<Figure size 4500x2400 with 3 Axes>"
      ]
     },
     "metadata": {
      "needs_background": "light"
     },
     "output_type": "display_data"
    }
   ],
   "source": [
    "#Current Strength vs Accuracy:\n",
    "import seaborn as sns\n",
    "plt.rcParams['pdf.fonttype'] = 42\n",
    "\n",
    "\n",
    "fig,ax = plt.subplots(1,1, figsize=(15, 8), dpi=300)\n",
    "x=np.concatenate(drain1)\n",
    "p1=ax.plot(x,'b',alpha=0.5)\n",
    "p2=ax.plot(np.concatenate(drain2),'r',alpha=0.5)\n",
    "plt.legend([p1[0],p2[0]],['Drain 1','Drain 2'],loc='lower right',title='Current')\n",
    "\n",
    "\n",
    "if nback == 1:\n",
    "    xlimmax=830\n",
    "    vlinesStep=40\n",
    "    vlinesStart=30\n",
    "    dotpos=2\n",
    "\n",
    "if nback == 2:\n",
    "#     xlimmax=1230\n",
    "    vlinesStep=600\n",
    "    vlinesStart=500\n",
    "    dotpos=3\n",
    "elif nback == 3:\n",
    "    xlimmax=1630\n",
    "    vlinesStep=80\n",
    "    vlinesStart=70\n",
    "    dotpos=4\n",
    "    \n",
    "colrs=[]\n",
    "for val in targetsNew:\n",
    "    if val < 1:\n",
    "        colrs.append('C1')\n",
    "    else:\n",
    "        colrs.append('C2')    \n",
    "\n",
    "testColors=[]\n",
    "for i in colrs[::3]:\n",
    "    if i == 'C1':\n",
    "        testColors.append('b')\n",
    "    else:\n",
    "        testColors.append('r')\n",
    "        \n",
    "ax.set_xlabel('Time')\n",
    "ax.set_ylabel('Current')\n",
    "ax.set_xlim([-600,24400])\n",
    "\n",
    "ax.vlines(range(vlinesStart,len(x)-20,vlinesStep),np.min(x),np.max(x),linestyle='dashed',color=testColors,alpha=0.5)\n",
    "\n",
    "ax2=ax.twinx().twiny()\n",
    "ax2.scatter(list(range(3,120,3)),df['Accuracy'][:-1],c=testColors[:-1])\n",
    "ax2.set_ylim([-0.05,1.05])\n",
    "\n",
    "# ax2.set_xticklabels(np.array(range(0,121,20)))#np.round(np.array(range(vlinesStart,len(x)-20,vlinesStep))/39)-1)\n",
    "\n",
    "# testTimeVals=np.array(range(len(accuracy)))*dotpos+dotpos\n",
    "\n",
    "\n",
    "# ax2.scatter(x=range(vlinesStart,len(x)-20,vlinesStep),y=accuracy,c=testColors)\n",
    "\n",
    "ax2.set_xlabel('Sample Num')\n",
    "ax2.set_ylabel('Accuracy')\n",
    "# sns.scatterplot(x=testTimeVals,y='Accuracy',data=accuracy,hue=colrs[:-1],palette=['r','b'],ax=ax2)\n",
    "# ax2.legend(title='Accuracy',loc='lower left')\n",
    "# ax2.set_xlim([-20/20,(xlimmax+10)/20])\n",
    "# ax2.set_ylabel('Accuracy')\n",
    "\n",
    "# ax3=ax2.twinx()\n",
    "# p1=ax3.plot(testTimeVals[:-1],count1plustest[:-1],color='c',marker='x')\n",
    "# p2=ax3.plot(testTimeVals[:-1],count2plustest[:-1],color='m',marker='x')\n",
    "# ax3.set_xlim([-20/20,1240/20])\n",
    "\n",
    "# plt.vlines(range(3,testTimeVals.values[-1],3),0,1,linestyle='dashed',color='k',)\n",
    "if patternSize==2:\n",
    "    fig.savefig(saveFig+saveName+'.pdf',format='pdf',dpi=300)\n",
    "# else:\n",
    "#     fig.savefig(saveFig+'350w_1350j_current_time_accuracy_nback2_3x3_manualsources_reinforcement.pdf',format='pdf',dpi=300)\n"
   ]
  },
  {
   "cell_type": "code",
   "execution_count": 77,
   "metadata": {
    "scrolled": true
   },
   "outputs": [
    {
     "data": {
      "image/png": "[encoded data removed]",
      "text/plain": [
       "<Figure size 1080x576 with 1 Axes>"
      ]
     },
     "metadata": {
      "needs_background": "light"
     },
     "output_type": "display_data"
    }
   ],
   "source": [
    "fig=plt.figure(figsize=(15,8))\n",
    "p1=plt.plot(np.array(thresholds)[:,0],c='b')\n",
    "p2=plt.plot(np.array(thresholds)[:,1],c='r')\n",
    "plt.xlabel('Samples')\n",
    "plt.ylabel('Voltage Threshold')\n",
    "plt.legend([p1[0],p2[0]],['Drain 1','Drain 2'],loc='lower right',title='Current')\n",
    "if patternSize==2:\n",
    "    fig.savefig(saveFig+saveName+'_threshValues.pdf',format='pdf',dpi=300)\n",
    "else:\n",
    "    fig.savefig(saveFig+saveName+'_threshValues.pdf',format='pdf',dpi=300)"
   ]
  },
  {
   "cell_type": "code",
   "execution_count": 49,
   "metadata": {},
   "outputs": [
    {
     "data": {
      "image/png": "[encoded data removed]",
      "text/plain": [
       "<Figure size 1080x288 with 2 Axes>"
      ]
     },
     "metadata": {
      "needs_background": "light"
     },
     "output_type": "display_data"
    }
   ],
   "source": [
    "fig,ax=plt.subplots(1,figsize=(15,4))\n",
    "\n",
    "colrs=[]\n",
    "for val in df['Class']:\n",
    "    if val <= 1:\n",
    "        colrs.append('C1')\n",
    "    else:\n",
    "        colrs.append('C2')\n",
    "\n",
    "\n",
    "x=df['CountDiff']\n",
    "\n",
    "p1=ax.plot(range(len(x)),x,color='k')\n",
    "ax2=ax.twinx()\n",
    "\n",
    "sns.scatterplot(x='OrderVal',y='Accuracy',data=df,hue=colrs,palette=['r','b'],ax=ax2)\n",
    "ax.set_ylabel('C2 Count - C1 Count')\n",
    "\n",
    "z=df['OrderVal'].values\n",
    "y=df['Accuracy'].values\n",
    "for i, txt in enumerate(df['Order']):\n",
    "    ax2.annotate(txt, (z[i], y[i]))\n",
    "# p2=ax.plot(range(len(c1c2notest[1:])),c1c2notest[1:],color='b',marker='^')\n",
    "# ax.legend([p1[0],p2[0]],['C1-C1','C1-C2'],loc='best',title='CumCount')\n",
    "if patternSize==2:\n",
    "    fig.savefig(saveFig+'350w_1350j_classComparison_nback2_2x2_reinforcement.pdf',format='pdf',dpi=300)\n",
    "else:\n",
    "    fig.savefig(saveFig+'350w_1350j_classComparison_nback2_3x3_manualsources_reinforcement.pdf',format='pdf',dpi=300)\n"
   ]
  },
  {
   "cell_type": "code",
   "execution_count": 138,
   "metadata": {},
   "outputs": [
    {
     "data": {
      "text/plain": [
       "Text(0.5, 1.0, 'CumCount Class and Accuracy | With Test Values')"
      ]
     },
     "execution_count": 138,
     "metadata": {},
     "output_type": "execute_result"
    },
    {
     "data": {
      "image/png": "[encoded data removed]",
      "text/plain": [
       "<Figure size 1080x288 with 4 Axes>"
      ]
     },
     "metadata": {
      "needs_background": "light"
     },
     "output_type": "display_data"
    }
   ],
   "source": [
    "fig,axes=plt.subplots(1,2,figsize=(15,4))\n",
    "\n",
    "ax=axes[0]\n",
    "\n",
    "p1=ax.plot(range(len(count1notest[1:])),count1notest[1:],color='b',marker='x')\n",
    "p2=ax.plot(range(len(count2notest[1:])),count2notest[1:],color='r',marker='x')\n",
    "ax.legend([p1[0],p2[0]],['C1','C2'],loc='right',title='CumCount')\n",
    "\n",
    "ax.set_xlim([-0.75,18.75])\n",
    "ax.set_ylim([-1,70])\n",
    "ax.set_ylabel('CumCount')\n",
    "ax.set_xlabel('Test Sample #')\n",
    "\n",
    "ax.set_xticks(np.array(np.arange(0,len(count2notest[1:]),2)))\n",
    "\n",
    "ax.set_xticklabels(np.array(np.arange(0,len(count2notest[1:]),2))+1)\n",
    "ax2=ax.twinx()\n",
    "# plt.plot(temp,'o',c='k')\n",
    "\n",
    "colrs=[]\n",
    "for val in df['Class']:\n",
    "    if val <= 1:\n",
    "        colrs.append('C1')\n",
    "    else:\n",
    "        colrs.append('C2')\n",
    "        \n",
    "        \n",
    "sns.scatterplot(x='OrderVal',y='Accuracy',data=df,hue=colrs,palette=['b','r'],ax=ax2)\n",
    "# p3=plt.scatter(np.array(range(len(targetClass))),temp,marker='x',color=colrs,label=['C1','C2'])\n",
    "plt.legend(title='Accuracy',loc='lower right')\n",
    "ax2.set_title('CumCount Class and Accuracy | No Test Values')\n",
    "# plt.plot(np.array(targetClass)-1,'_')\n",
    "\n",
    "ax1=axes[1]\n",
    "p1=ax1.plot(range(len(count1plustest[1:])),count1plustest[1:],color='b',marker='x')\n",
    "p2=ax1.plot(range(len(count2plustest[1:])),count2plustest[1:],color='r',marker='x')\n",
    "ax1.legend([p1[0],p2[0]],['C1','C2'],loc='right',title='CumSum')\n",
    "ax1.set_xlim([-0.75,18.75])\n",
    "ax1.set_ylim([-1,70])\n",
    "ax1.set_ylabel('CumCount')\n",
    "ax1.set_xlabel('Test Sample #')\n",
    "\n",
    "ax1.set_xticks(np.array(np.arange(0,len(count2notest[1:]),2)))\n",
    "\n",
    "ax1.set_xticklabels(np.array(np.arange(0,len(count2notest[1:]),2))+1)\n",
    "ax3=ax1.twinx()\n",
    "      \n",
    "sns.scatterplot(x='OrderVal',y='Accuracy',data=df,hue=colrs,palette=['b','r'],ax=ax3)\n",
    "# p3=plt.scatter(np.array(range(len(targetClass))),temp,marker='x',color=colrs,label=['C1','C2'])\n",
    "ax3.legend(title='Accuracy',loc='lower right')\n",
    "ax3.set_title('CumCount Class and Accuracy | With Test Values')\n",
    "# plt.plot(np.array(targetClass)-1,'_')"
   ]
  },
  {
   "cell_type": "code",
   "execution_count": 139,
   "metadata": {},
   "outputs": [
    {
     "data": {
      "text/plain": [
       "Text(0.5, 1.0, 'CumCount Pairings and Accuracy | C2 Pairings')"
      ]
     },
     "execution_count": 139,
     "metadata": {},
     "output_type": "execute_result"
    },
    {
     "data": {
      "image/png": "[encoded data removed]",
      "text/plain": [
       "<Figure size 1080x288 with 4 Axes>"
      ]
     },
     "metadata": {
      "needs_background": "light"
     },
     "output_type": "display_data"
    }
   ],
   "source": [
    "import seaborn as sns\n",
    "\n",
    "fig,axes=plt.subplots(1,2,figsize=(15,4))\n",
    "\n",
    "ax=axes[0]\n",
    "\n",
    "p1=ax.plot(range(len(c1c1notest[1:])),c1c1notest[1:],color='b',marker='^')\n",
    "p2=ax.plot(range(len(c1c2notest[1:])),c1c2notest[1:],color='b',marker='x')\n",
    "ax.legend([p1[0],p2[0]],['C1-C1','C1-C2'],loc='best',title='CumCount')\n",
    "\n",
    "ax.set_xlim([-0.75,19.75])\n",
    "ax.set_ylim([-1,11])\n",
    "ax.set_ylabel('CumCount')\n",
    "ax.set_xlabel('Test Sample #')\n",
    "\n",
    "ax.set_xticks(np.array(np.arange(0,len(count2notest[1:]),2)))\n",
    "\n",
    "ax.set_xticklabels(np.array(np.arange(0,len(count2notest[1:]),2))+1)\n",
    "ax2=ax.twinx()\n",
    "# plt.plot(temp,'o',c='k')\n",
    "\n",
    "colrs=[]\n",
    "for val in df['Class']:\n",
    "    if val <= 1:\n",
    "        colrs.append('C1')\n",
    "    else:\n",
    "        colrs.append('C2')\n",
    "        \n",
    "        \n",
    "sns.scatterplot(x='OrderVal',y='Accuracy',data=df,hue=colrs,palette=['b','r'],ax=ax2)\n",
    "# p3=plt.scatter(np.array(range(len(targetClass))),temp,marker='x',color=colrs,label=['C1','C2'])\n",
    "plt.legend(title='Accuracy',loc='lower right')\n",
    "ax2.set_title('CumCount Pairings and Accuracy | C1 Pairings')\n",
    "# plt.plot(np.array(targetClass)-1,'_')\n",
    "\n",
    "ax1=axes[1]\n",
    "p3=ax1.plot(range(len(c2c1notest[1:])),c2c1notest[1:],color='r',marker='x')\n",
    "p4=ax1.plot(range(len(c2c2notest[1:])),c2c2notest[1:],color='r',marker='^')\n",
    "ax1.legend([p3[0],p4[0]],['C2-C1','C2-C2'],loc='best',title='CumCount')\n",
    "ax1.set_xlim([-0.75,19.75])\n",
    "ax1.set_ylim([-1,11])\n",
    "ax1.set_ylabel('CumCount')\n",
    "ax1.set_xlabel('Test Sample #')\n",
    "\n",
    "ax1.set_xticks(np.array(np.arange(0,len(count2notest[1:]),2)))\n",
    "\n",
    "ax1.set_xticklabels(np.array(np.arange(0,len(count2notest[1:]),2))+1)\n",
    "ax3=ax1.twinx()\n",
    "      \n",
    "sns.scatterplot(x='OrderVal',y='Accuracy',data=df,hue=colrs,palette=['b','r'],ax=ax3)\n",
    "# p3=plt.scatter(np.array(range(len(targetClass))),temp,marker='x',color=colrs,label=['C1','C2'])\n",
    "ax3.legend(title='Accuracy',loc='lower right')\n",
    "ax3.set_title('CumCount Pairings and Accuracy | C2 Pairings')\n",
    "# plt.plot(np.array(targetClass)-1,'_')"
   ]
  },
  {
   "cell_type": "code",
   "execution_count": null,
   "metadata": {},
   "outputs": [],
   "source": []
  }
 ],
 "metadata": {
  "kernelspec": {
   "display_name": "Python [conda env:phd]",
   "language": "python",
   "name": "conda-env-phd-py"
  },
  "language_info": {
   "codemirror_mode": {
    "name": "ipython",
    "version": 3
   },
   "file_extension": ".py",
   "mimetype": "text/x-python",
   "name": "python",
   "nbconvert_exporter": "python",
   "pygments_lexer": "ipython3",
   "version": "3.8.12"
  }
 },
 "nbformat": 4,
 "nbformat_minor": 2
}
